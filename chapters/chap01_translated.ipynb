{
  "cells": [
    {
      "cell_type": "markdown",
      "metadata": {
        "id": "view-in-github",
        "colab_type": "text"
      },
      "source": [
        "<a href=\"https://colab.research.google.com/github/kooll/ThinkPythonJ/blob/main/chapters/chap01_translated.ipynb\" target=\"_parent\"><img src=\"https://colab.research.google.com/assets/colab-badge.svg\" alt=\"Open In Colab\"/></a>"
      ]
    },
    {
      "cell_type": "markdown",
      "id": "1331faa1",
      "metadata": {
        "id": "1331faa1"
      },
      "source": [
        "*Think Python 3e*のプリント版と電子書籍版は、[Bookshop.org](https://bookshop.org/a/98697/9781098155438)や[Amazon](https://www.amazon.com/_/dp/1098155432?smid=ATVPDKIKX0DER&_encoding=UTF8&tag=oreilly20-20&_encoding=UTF8&tag=greenteapre01-20&linkCode=ur2&linkId=e2a529f94920295d27ec8a06e757dc7c&camp=1789&creative=9325)から注文できます。"
      ]
    },
    {
      "cell_type": "markdown",
      "id": "a14edb7e",
      "metadata": {
        "tags": [],
        "id": "a14edb7e"
      },
      "source": [
        "# ようこそ\n",
        "\n",
        "こちらは、Allen B. Downeyの[*Think Python* 第3版](https://greenteapress.com/wp/think-python-3rd-edition)の第1章用Jupyterノートブックです。\n",
        "\n",
        "Jupyterノートブックに慣れていない場合は、[こちらをクリックして簡単な紹介をご覧ください](https://colab.research.google.com/github/AllenDowney/ThinkPython/blob/v3/chapters/jupyter_intro.ipynb)。\n",
        "\n",
        "その後、まだこのノートブックをColabで実行していない場合は、[こちらをクリックしてColabでこのノートブックを実行してください](https://colab.research.google.com/github/AllenDowney/ThinkPython/blob/v3/chapters/chap01.ipynb)。"
      ]
    },
    {
      "cell_type": "markdown",
      "id": "3b4a1f57",
      "metadata": {
        "tags": [],
        "id": "3b4a1f57"
      },
      "source": [
        "次のセルはファイルをダウンロードし、この本のために特に使用されるコードを実行します。このコードを理解する必要はまだありませんが、このノートブックで他のことを行う前に実行するべきです。セルを選択して再生ボタン（円の中の三角形）を押すか、 `Shift` を押しながら `Enter` を押すことでコードを実行できることを覚えておいてください。"
      ]
    },
    {
      "cell_type": "code",
      "execution_count": null,
      "id": "213f9d96",
      "metadata": {
        "tags": [],
        "id": "213f9d96"
      },
      "outputs": [],
      "source": [
        "from os.path import basename, exists\n",
        "\n",
        "def download(url):\n",
        "    filename = basename(url)\n",
        "    if not exists(filename):\n",
        "        from urllib.request import urlretrieve\n",
        "\n",
        "        local, _ = urlretrieve(url, filename)\n",
        "        print(\"Downloaded \" + str(local))\n",
        "    return filename\n",
        "\n",
        "download('https://github.com/AllenDowney/ThinkPython/raw/v3/thinkpython.py');\n",
        "\n",
        "import thinkpython"
      ]
    },
    {
      "cell_type": "markdown",
      "id": "333a6fc9",
      "metadata": {
        "tags": [],
        "id": "333a6fc9"
      },
      "source": [
        "# プログラミングを考える方法として\n",
        "\n",
        "この本の最初の目標は、Pythonでプログラミングする方法を教えることです。しかし、プログラミングを学ぶことは、新しい考え方を学ぶことでもあります。したがって、この本の第二の目標は、コンピュータ科学者のように考える手助けをすることです。この考え方は、数学、工学、自然科学のいくつかの最良の特徴を組み合わせています。数学者のように、コンピュータ科学者は形式的な言語を使用してアイデア、特に計算を表現します。エンジニアのように、彼らは物を設計し、コンポーネントをシステムに組み立て、選択肢間のトレードオフを評価します。科学者のように、彼らは複雑なシステムの動作を観察し、仮説を立て、予測を検証します。\n",
        "\n",
        "プログラミングの最も基本的な要素から始めて、徐々に進めていきます。この章では、Pythonがどのように数字、文字、単語を表すのかを見ていきます。そして、算術演算を行う方法を学びます。\n",
        "\n",
        "また、演算子、式、値、型といった用語を含む、プログラミングの語彙を学び始めます。この語彙は重要です。というのも、本の他の部分を理解し、他のプログラマーとコミュニケーションし、バーチャルアシスタントを使用し理解するために必要だからです。"
      ]
    },
    {
      "cell_type": "markdown",
      "id": "a371aea3",
      "metadata": {
        "id": "a371aea3"
      },
      "source": [
        "## 算術演算子\n",
        "\n",
        "**算術演算子**は算術計算を表す記号です。例えば、プラス記号 `+` は加算を行います。"
      ]
    },
    {
      "cell_type": "code",
      "execution_count": null,
      "id": "2568ec84",
      "metadata": {
        "id": "2568ec84"
      },
      "outputs": [],
      "source": [
        "30 + 12"
      ]
    },
    {
      "cell_type": "markdown",
      "id": "fc0e7ce8",
      "metadata": {
        "id": "fc0e7ce8"
      },
      "source": [
        "マイナス記号「-」は、減算を行う演算子です。"
      ]
    },
    {
      "cell_type": "code",
      "execution_count": null,
      "id": "c4e75456",
      "metadata": {
        "id": "c4e75456"
      },
      "outputs": [],
      "source": [
        "43 - 1"
      ]
    },
    {
      "cell_type": "markdown",
      "id": "63e4e780",
      "metadata": {
        "id": "63e4e780"
      },
      "source": [
        "アスタリスク `*` は掛け算を行います。"
      ]
    },
    {
      "cell_type": "code",
      "execution_count": null,
      "id": "022a7b16",
      "metadata": {
        "id": "022a7b16"
      },
      "outputs": [],
      "source": [
        "6 * 7"
      ]
    },
    {
      "cell_type": "markdown",
      "id": "a6192d13",
      "metadata": {
        "id": "a6192d13"
      },
      "source": [
        "スラッシュ「/」は除算を行います。"
      ]
    },
    {
      "cell_type": "code",
      "execution_count": null,
      "id": "05ae1098",
      "metadata": {
        "id": "05ae1098"
      },
      "outputs": [],
      "source": [
        "84 / 2"
      ]
    },
    {
      "cell_type": "markdown",
      "id": "641ad233",
      "metadata": {
        "id": "641ad233"
      },
      "source": [
        "除算の結果が `42` ではなく `42.0` であることに注目してください。これは、Pythonには2種類の数値が存在するためです：\n",
        "\n",
        "* **整数**: 小数部分や小数点がない数値を表します。\n",
        "\n",
        "* **浮動小数点数**: 整数および小数点を持つ数値を表します。\n",
        "\n",
        "2つの整数を加算、減算、または乗算すると、結果は整数になります。しかし、2つの整数を除算すると、結果は浮動小数点数になります。Pythonは、**整数除算**を行う別の演算子 `//` を提供しています。整数除算の結果は常に整数です。"
      ]
    },
    {
      "cell_type": "code",
      "execution_count": null,
      "id": "4df5bcaa",
      "metadata": {
        "id": "4df5bcaa"
      },
      "outputs": [],
      "source": [
        "84 // 2"
      ]
    },
    {
      "cell_type": "markdown",
      "id": "b2a620ab",
      "metadata": {
        "id": "b2a620ab"
      },
      "source": [
        "整数除算は「床関数」とも呼ばれます。これは常に下に丸める（「床」に向かって）ためです。"
      ]
    },
    {
      "cell_type": "code",
      "execution_count": null,
      "id": "ef08d549",
      "metadata": {
        "id": "ef08d549"
      },
      "outputs": [],
      "source": [
        "85 // 2"
      ]
    },
    {
      "cell_type": "markdown",
      "id": "41e2886a",
      "metadata": {
        "id": "41e2886a"
      },
      "source": [
        "最後に、演算子 `**` はべき乗を実行します。つまり、数を累乗します。"
      ]
    },
    {
      "cell_type": "code",
      "execution_count": null,
      "id": "df933e80",
      "metadata": {
        "id": "df933e80"
      },
      "outputs": [],
      "source": [
        "7 ** 2"
      ]
    },
    {
      "cell_type": "markdown",
      "id": "b2502fb6",
      "metadata": {
        "id": "b2502fb6"
      },
      "source": [
        "他の言語では、キャレット記号（`^`）がべき乗（べき運算）に使われますが、Pythonではビット単位の排他的論理和（XOR）という演算子です。ビット演算の知識がない場合、結果が予想外になるかもしれません。"
      ]
    },
    {
      "cell_type": "code",
      "execution_count": null,
      "id": "306b6b88",
      "metadata": {
        "id": "306b6b88"
      },
      "outputs": [],
      "source": [
        "7 ^ 2"
      ]
    },
    {
      "cell_type": "markdown",
      "id": "30078370",
      "metadata": {
        "id": "30078370"
      },
      "source": [
        "この本ではビット演算子については取り上げませんが、<http://wiki.python.org/moin/BitwiseOperators>で読むことができます。"
      ]
    },
    {
      "cell_type": "markdown",
      "id": "0f5b7e97",
      "metadata": {
        "id": "0f5b7e97"
      },
      "source": [
        "## 式\n",
        "\n",
        "演算子と数値の集まりを**式**と呼びます。式には任意の数の演算子と数値を含めることができます。例えば、次に示すのは2つの演算子を含む式です。"
      ]
    },
    {
      "cell_type": "code",
      "execution_count": null,
      "id": "6e68101d",
      "metadata": {
        "id": "6e68101d"
      },
      "outputs": [],
      "source": [
        "6 + 6 ** 2"
      ]
    },
    {
      "cell_type": "markdown",
      "id": "8e95039c",
      "metadata": {
        "id": "8e95039c"
      },
      "source": [
        "累乗は加算よりも先に行われることに注意してください。\n",
        "Pythonは、数学の授業で学んだかもしれない演算の順序に従います。つまり、累乗は乗算と除算の前に行われ、それに加算と減算が続きます。\n",
        "\n",
        "次の例では、掛け算は加算の前に行われます。"
      ]
    },
    {
      "cell_type": "code",
      "execution_count": null,
      "id": "ffc25598",
      "metadata": {
        "id": "ffc25598"
      },
      "outputs": [],
      "source": [
        "12 + 5 * 6"
      ]
    },
    {
      "cell_type": "markdown",
      "id": "914a60d8",
      "metadata": {
        "id": "914a60d8"
      },
      "source": [
        "加算を先に行いたい場合は、括弧を使用することができます。"
      ]
    },
    {
      "cell_type": "code",
      "execution_count": null,
      "id": "8dd1bd9a",
      "metadata": {
        "id": "8dd1bd9a"
      },
      "outputs": [],
      "source": [
        "(12 + 5) * 6"
      ]
    },
    {
      "cell_type": "markdown",
      "id": "67ae0ae9",
      "metadata": {
        "id": "67ae0ae9"
      },
      "source": [
        "すべての式には**値**があります。  \n",
        "たとえば、式 `6 * 7` の値は `42` です。"
      ]
    },
    {
      "cell_type": "markdown",
      "id": "caebaa51",
      "metadata": {
        "id": "caebaa51"
      },
      "source": [
        "## 算術関数\n",
        "\n",
        "算術演算子に加えて、Pythonは数値を操作するいくつかの**関数**を提供しています。例えば、`round`関数は浮動小数点数を取り、最も近い整数に丸めます。"
      ]
    },
    {
      "cell_type": "code",
      "execution_count": null,
      "id": "1e3d5e01",
      "metadata": {
        "id": "1e3d5e01"
      },
      "outputs": [],
      "source": [
        "round(42.4)"
      ]
    },
    {
      "cell_type": "code",
      "execution_count": null,
      "id": "d1b220b9",
      "metadata": {
        "id": "d1b220b9"
      },
      "outputs": [],
      "source": [
        "round(42.6)"
      ]
    },
    {
      "cell_type": "markdown",
      "id": "f5738b4b",
      "metadata": {
        "id": "f5738b4b"
      },
      "source": [
        "`abs`関数は、数値の絶対値を計算します。正の数の場合、絶対値はその数値自身です。"
      ]
    },
    {
      "cell_type": "code",
      "execution_count": null,
      "id": "ff742476",
      "metadata": {
        "id": "ff742476"
      },
      "outputs": [],
      "source": [
        "abs(42)"
      ]
    },
    {
      "cell_type": "markdown",
      "id": "e518494a",
      "metadata": {
        "id": "e518494a"
      },
      "source": [
        "負の数の絶対値は正です。"
      ]
    },
    {
      "cell_type": "code",
      "execution_count": null,
      "id": "9247c1a3",
      "metadata": {
        "id": "9247c1a3"
      },
      "outputs": [],
      "source": [
        "abs(-42)"
      ]
    },
    {
      "cell_type": "markdown",
      "id": "6969ce45",
      "metadata": {
        "id": "6969ce45"
      },
      "source": [
        "このような関数を使用する際、私たちはその関数を「**呼び出す**」と言います。関数を呼び出す式を「**関数呼び出し**」と呼びます。\n",
        "\n",
        "関数を呼び出す場合、括弧は必須です。これを省略すると、エラーメッセージが表示されます。"
      ]
    },
    {
      "cell_type": "markdown",
      "id": "5a73bfd5",
      "metadata": {
        "tags": [],
        "id": "5a73bfd5"
      },
      "source": [
        "以下のセルには `%%expect` というJupyterの「マジックコマンド」が使われており、このセル内のコードがエラーを生成することを期待していることを意味します。このトピックに関する詳細は、[Jupyterノートブックの紹介](https://colab.research.google.com/github/AllenDowney/ThinkPython/blob/v3/chapters/jupyter_intro.ipynb)をご覧ください。"
      ]
    },
    {
      "cell_type": "code",
      "execution_count": null,
      "id": "4674b7ca",
      "metadata": {
        "tags": [],
        "id": "4674b7ca"
      },
      "outputs": [],
      "source": [
        "%%expect SyntaxError\n",
        "\n",
        "abs 42"
      ]
    },
    {
      "cell_type": "markdown",
      "id": "7d356f1b",
      "metadata": {
        "id": "7d356f1b"
      },
      "source": [
        "このメッセージの最初の行は無視して大丈夫です。それには今理解する必要のある情報は含まれていません。\n",
        "2行目は、エラーを含むコードであり、その下にあるキャレット（`^`）はエラーが発見された場所を示しています。\n",
        "\n",
        "最後の行は、これが**構文エラー**であることを示しており、これは式の構造に何らかの問題があることを意味します。\n",
        "この例では、関数呼び出しには括弧が必要であることが問題です。\n",
        "\n",
        "括弧*と*値を省略した場合に何が起こるか見てみましょう。"
      ]
    },
    {
      "cell_type": "code",
      "execution_count": null,
      "id": "7d3e8127",
      "metadata": {
        "id": "7d3e8127"
      },
      "outputs": [],
      "source": [
        "abs"
      ]
    },
    {
      "cell_type": "markdown",
      "id": "94478885",
      "metadata": {
        "id": "94478885"
      },
      "source": [
        "関数名だけであることは、値を持つ合法的な式です。  \n",
        "表示されると、その値は `abs` が関数であることを示し、後で説明する追加情報が含まれています。"
      ]
    },
    {
      "cell_type": "markdown",
      "id": "31a85d17",
      "metadata": {
        "id": "31a85d17"
      },
      "source": [
        "## 文字列\n",
        "\n",
        "Pythonでは、数値に加えて文字の並びを表現することもできます。これらはネックレスのビーズのように文字が連なっていることから、**文字列**と呼ばれます。文字列を書くには、一連の文字を引用符で囲むことができます。"
      ]
    },
    {
      "cell_type": "code",
      "execution_count": null,
      "id": "bd8ae45f",
      "metadata": {
        "id": "bd8ae45f"
      },
      "outputs": [],
      "source": [
        "'Hello'"
      ]
    },
    {
      "cell_type": "markdown",
      "id": "d20050d8",
      "metadata": {
        "id": "d20050d8"
      },
      "source": [
        "二重引用符を使用することも合法です。"
      ]
    },
    {
      "cell_type": "code",
      "execution_count": null,
      "id": "01d0055e",
      "metadata": {
        "id": "01d0055e"
      },
      "outputs": [],
      "source": [
        "\"world\""
      ]
    },
    {
      "cell_type": "markdown",
      "id": "76f5edb7",
      "metadata": {
        "id": "76f5edb7"
      },
      "source": [
        "二重引用符を使用すると、アポストロフィ（ストレート引用符と同じ記号）を含む文字列を簡単に書くことができます。"
      ]
    },
    {
      "cell_type": "code",
      "execution_count": null,
      "id": "0295acab",
      "metadata": {
        "id": "0295acab"
      },
      "outputs": [],
      "source": [
        "\"it's a small \""
      ]
    },
    {
      "cell_type": "markdown",
      "id": "d62d4b1c",
      "metadata": {
        "id": "d62d4b1c"
      },
      "source": [
        "文字列にはスペース、句読点、数字も含めることができます。"
      ]
    },
    {
      "cell_type": "code",
      "execution_count": null,
      "id": "cf918917",
      "metadata": {
        "id": "cf918917"
      },
      "outputs": [],
      "source": [
        "'Well, '"
      ]
    },
    {
      "cell_type": "markdown",
      "id": "9ad47f7a",
      "metadata": {
        "id": "9ad47f7a"
      },
      "source": [
        "「+」演算子は文字列にも使用できます。これは2つの文字列を1つの文字列に結合する操作で、**連結**と呼ばれます。"
      ]
    },
    {
      "cell_type": "code",
      "execution_count": null,
      "id": "aefe6af1",
      "metadata": {
        "id": "aefe6af1"
      },
      "outputs": [],
      "source": [
        "'Well, ' + \"it's a small \" + 'world.'"
      ]
    },
    {
      "cell_type": "markdown",
      "id": "0ad969a3",
      "metadata": {
        "id": "0ad969a3"
      },
      "source": [
        "`*` 演算子は文字列にも使用できます。それにより、文字列の複数のコピーを作成し、それらを連結します。"
      ]
    },
    {
      "cell_type": "code",
      "execution_count": null,
      "id": "42e9e4e2",
      "metadata": {
        "id": "42e9e4e2"
      },
      "outputs": [],
      "source": [
        "'Spam, ' * 4"
      ]
    },
    {
      "cell_type": "markdown",
      "id": "dfba16a5",
      "metadata": {
        "id": "dfba16a5"
      },
      "source": [
        "他の算術演算子は文字列には使用できません。\n",
        "\n",
        "Pythonには、文字列の長さを計算する`len`という関数が用意されています。"
      ]
    },
    {
      "cell_type": "code",
      "execution_count": null,
      "id": "a5e837db",
      "metadata": {
        "id": "a5e837db"
      },
      "outputs": [],
      "source": [
        "len('Spam')"
      ]
    },
    {
      "cell_type": "markdown",
      "id": "d91e00b3",
      "metadata": {
        "id": "d91e00b3"
      },
      "source": [
        "`len`は引用符間の文字を数えますが、引用符自体は数えません。\n",
        "\n",
        "文字列を作成する際には、必ず通常の引用符を使用してください。\n",
        "バッククォート（バックティックとも呼ばれます）は構文エラーを引き起こします。"
      ]
    },
    {
      "cell_type": "code",
      "execution_count": null,
      "id": "e3f65f19",
      "metadata": {
        "tags": [],
        "id": "e3f65f19"
      },
      "outputs": [],
      "source": [
        "%%expect SyntaxError\n",
        "\n",
        "`Hello`"
      ]
    },
    {
      "cell_type": "markdown",
      "id": "40d893d1",
      "metadata": {
        "id": "40d893d1"
      },
      "source": [
        "スマートクォート、またはカーリークォートも違法です。"
      ]
    },
    {
      "cell_type": "code",
      "execution_count": null,
      "id": "a705b980",
      "metadata": {
        "tags": [],
        "id": "a705b980"
      },
      "outputs": [],
      "source": [
        "%%expect SyntaxError\n",
        "\n",
        "‘Hello’"
      ]
    },
    {
      "cell_type": "markdown",
      "id": "5471d4f8",
      "metadata": {
        "id": "5471d4f8"
      },
      "source": [
        "## 値と型\n",
        "\n",
        "これまでに、3種類の値を見てきました:\n",
        "\n",
        "* `2` は整数（integer）、\n",
        "\n",
        "* `42.0` は浮動小数点数（floating-point number）、\n",
        "\n",
        "* `'Hello'` は文字列（string）です。\n",
        "\n",
        "値の種類は **型（type）** と呼ばれます。\n",
        "すべての値には型があり、時にはその値が「型に属している」と言うこともあります。\n",
        "\n",
        "Pythonは、値の型を教えてくれる `type` という関数を提供しています。\n",
        "整数の型は `int` です。"
      ]
    },
    {
      "cell_type": "code",
      "execution_count": null,
      "id": "3df8e2c5",
      "metadata": {
        "id": "3df8e2c5"
      },
      "outputs": [],
      "source": [
        "type(2)"
      ]
    },
    {
      "cell_type": "markdown",
      "id": "b137814c",
      "metadata": {
        "id": "b137814c"
      },
      "source": [
        "浮動小数点数の型は「float」です。"
      ]
    },
    {
      "cell_type": "code",
      "execution_count": null,
      "id": "c4732c8d",
      "metadata": {
        "id": "c4732c8d"
      },
      "outputs": [],
      "source": [
        "type(42.0)"
      ]
    },
    {
      "cell_type": "markdown",
      "id": "266dea4e",
      "metadata": {
        "id": "266dea4e"
      },
      "source": [
        "文字列の型は `str` です。"
      ]
    },
    {
      "cell_type": "code",
      "execution_count": null,
      "id": "8f65ac45",
      "metadata": {
        "id": "8f65ac45"
      },
      "outputs": [],
      "source": [
        "type('Hello, World!')"
      ]
    },
    {
      "cell_type": "markdown",
      "id": "76d216ed",
      "metadata": {
        "id": "76d216ed"
      },
      "source": [
        "`int`、`float`、`str` といった型は、関数として使用することができます。例えば、`int` は浮動小数点数を受け取り、それを整数に変換できます（常に切り捨てられます）。"
      ]
    },
    {
      "cell_type": "code",
      "execution_count": null,
      "id": "84b22f2f",
      "metadata": {
        "id": "84b22f2f"
      },
      "outputs": [],
      "source": [
        "int(42.9)"
      ]
    },
    {
      "cell_type": "markdown",
      "id": "dcd8d114",
      "metadata": {
        "id": "dcd8d114"
      },
      "source": [
        "そして、`float` は整数を浮動小数点数に変換することができます。"
      ]
    },
    {
      "cell_type": "code",
      "execution_count": null,
      "id": "9b66ee21",
      "metadata": {
        "id": "9b66ee21"
      },
      "outputs": [],
      "source": [
        "float(42)"
      ]
    },
    {
      "cell_type": "markdown",
      "id": "eda70b61",
      "metadata": {
        "id": "eda70b61"
      },
      "source": [
        "さて、これは少し混乱するかもしれません。\n",
        "数字の列を引用符で囲むとどうなりますか？"
      ]
    },
    {
      "cell_type": "code",
      "execution_count": null,
      "id": "f64e107c",
      "metadata": {
        "id": "f64e107c"
      },
      "outputs": [],
      "source": [
        "'126'"
      ]
    },
    {
      "cell_type": "markdown",
      "id": "fdded653",
      "metadata": {
        "id": "fdded653"
      },
      "source": [
        "それは数字のように見えますが、実際には文字列です。"
      ]
    },
    {
      "cell_type": "code",
      "execution_count": null,
      "id": "609a8153",
      "metadata": {
        "id": "609a8153"
      },
      "outputs": [],
      "source": [
        "type('126')"
      ]
    },
    {
      "cell_type": "markdown",
      "id": "2683ac35",
      "metadata": {
        "id": "2683ac35"
      },
      "source": [
        "それを数字のように使おうとすると、エラーが発生するかもしれません。"
      ]
    },
    {
      "cell_type": "code",
      "execution_count": null,
      "id": "1cf21da4",
      "metadata": {
        "tags": [],
        "id": "1cf21da4"
      },
      "outputs": [],
      "source": [
        "%%expect TypeError\n",
        "\n",
        "'126' / 3"
      ]
    },
    {
      "cell_type": "markdown",
      "id": "32c11cc4",
      "metadata": {
        "id": "32c11cc4"
      },
      "source": [
        "この例は `TypeError` を生成します。これは、**オペランド**と呼ばれる式の値の型が間違っていることを意味します。エラーメッセージは、`/` 演算子がこれらの値の型、つまり `str` と `int` をサポートしていないことを示しています。\n",
        "\n",
        "もし数字を含む文字列がある場合は、`int` を使ってそれを整数に変換することができます。"
      ]
    },
    {
      "cell_type": "code",
      "execution_count": null,
      "id": "d45e6a60",
      "metadata": {
        "id": "d45e6a60"
      },
      "outputs": [],
      "source": [
        "int('126') / 3"
      ]
    },
    {
      "cell_type": "markdown",
      "id": "86935d56",
      "metadata": {
        "id": "86935d56"
      },
      "source": [
        "数字と小数点を含む文字列がある場合、`float`を使用してそれを浮動小数点数に変換できます。"
      ]
    },
    {
      "cell_type": "code",
      "execution_count": null,
      "id": "db30b719",
      "metadata": {
        "id": "db30b719"
      },
      "outputs": [],
      "source": [
        "float('12.6')"
      ]
    },
    {
      "cell_type": "markdown",
      "id": "03103ef4",
      "metadata": {
        "id": "03103ef4"
      },
      "source": [
        "大きな整数を書く際に、`1,000,000`のように桁の間にコンマを使用したくなるかもしれません。これはPythonでは合法な表現ですが、結果は整数にはなりません。"
      ]
    },
    {
      "cell_type": "code",
      "execution_count": null,
      "id": "d72b6af1",
      "metadata": {
        "id": "d72b6af1"
      },
      "outputs": [],
      "source": [
        "1,000,000"
      ]
    },
    {
      "cell_type": "markdown",
      "id": "3d24af71",
      "metadata": {
        "id": "3d24af71"
      },
      "source": [
        "Pythonは `1,000,000` をコンマで区切られた整数のシーケンスとして解釈します。後でこの種類のシーケンスについて詳しく学びます。\n",
        "\n",
        "大きな数字を読みやすくするためにアンダースコアを使用することができます。"
      ]
    },
    {
      "cell_type": "code",
      "execution_count": null,
      "id": "e19bf7e7",
      "metadata": {
        "id": "e19bf7e7"
      },
      "outputs": [],
      "source": [
        "1_000_000"
      ]
    },
    {
      "cell_type": "markdown",
      "id": "1761cbac",
      "metadata": {
        "id": "1761cbac"
      },
      "source": [
        "## 形式言語と自然言語\n",
        "\n",
        "**自然言語** は、人々が話す言語であり、英語、スペイン語、フランス語などが含まれます。これらは人によって設計されたものではなく、自然に進化したものです。\n",
        "\n",
        "**形式言語** は、特定の用途のために人によって設計された言語です。たとえば、数学者が使用する記法は、数や記号の間の関係を示すのに特に適した形式言語です。同様に、プログラミング言語は計算を表現するために設計された形式言語です。"
      ]
    },
    {
      "cell_type": "markdown",
      "id": "1bf3d2dc",
      "metadata": {
        "id": "1bf3d2dc"
      },
      "source": [
        "形式言語と自然言語は共通の特徴を持つ一方で、重要な違いもあります。\n",
        "\n",
        "* 曖昧さ: 自然言語は曖昧さに満ちており、人々は文脈上の手がかりやその他の情報を利用して処理します。形式言語は、ほとんどまたは完全に曖昧さがないように設計されており、どのプログラムも文脈に関係なく、正確に一つの意味を持ちます。\n",
        "\n",
        "* 冗長性: 曖昧さを補い誤解を減らすために、自然言語は冗長性を持ちます。結果としてしばしば冗長です。形式言語は冗長性が少なく、より簡潔です。\n",
        "\n",
        "* 文字通り: 自然言語はイディオムや比喩に満ちています。形式言語は、言われていることがそのままの意味を持ちます。"
      ]
    },
    {
      "cell_type": "markdown",
      "id": "78a1cec8",
      "metadata": {
        "id": "78a1cec8"
      },
      "source": [
        "私たちは皆、自然言語を話すことを成長過程で身につけるため、形式言語に適応するのは時として難しいことがあります。形式言語は自然言語よりも情報が密集しているため、読むのに時間がかかります。また、その構造は重要であり、必ずしも上から下、左から右に読むのが最良とは限りません。最後に、細部が重要です。自然言語では問題にならないスペルミスや句読点の小さな間違いが、形式言語では大きな違いを生むことがあります。"
      ]
    },
    {
      "cell_type": "markdown",
      "id": "4358fa9a",
      "metadata": {
        "id": "4358fa9a"
      },
      "source": [
        "## デバッグ\n",
        "\n",
        "プログラマーはミスをします。面白い理由で、プログラミングエラーは**バグ**と呼ばれ、それを追跡するプロセスは**デバッグ**と呼ばれます。\n",
        "\n",
        "プログラミング、とくにデバッグは時に強い感情を引き起こします。難しいバグに苦労している時、怒り、悲しみ、または恥を感じることがあるかもしれません。\n",
        "\n",
        "これらの反応に備えることは、対処に役立つかもしれません。一つのアプローチは、コンピュータを速度や精密さという長所を持ち、共感の欠如や全体像を把握できないといった特有の短所を持つ社員と考えることです。\n",
        "\n",
        "あなたの仕事は良きマネージャーになること：長所を活かし、短所を和らげる方法を見つけることです。また、問題に対処するために感情を利用する方法を見つけ、それが効果的に作業する能力を妨げないようにすることです。\n",
        "\n",
        "デバッグを学ぶことはイライラするかもしれませんが、プログラミング以外の多くの活動に役立つ貴重なスキルです。各章の最後には、このようにデバッグのための私の提案が載っています。それらが役立つことを願っています！"
      ]
    },
    {
      "cell_type": "markdown",
      "id": "33b8ad00",
      "metadata": {
        "id": "33b8ad00"
      },
      "source": [
        "## 用語集\n",
        "\n",
        "**算術演算子 (arithmetic operator):**\n",
        "足し算や掛け算のような算術演算を示す記号。例として `+` や `*` があります。\n",
        "\n",
        "**整数 (integer):**\n",
        "小数部分や小数点を持たない数値を表す型。\n",
        "\n",
        "**浮動小数点 (floating-point):**\n",
        "整数や小数部分を持つ数値を表す型。\n",
        "\n",
        "**整数除算 (integer division):**\n",
        "`//` 演算子で、2つの数を割り算し、結果を下方向に丸めて整数にする演算。\n",
        "\n",
        "**式 (expression):**\n",
        "変数、値、演算子を組み合わせたもの。\n",
        "\n",
        "**値 (value):**\n",
        "整数、浮動小数点数、文字列、または他の種類の値。\n",
        "\n",
        "**関数 (function):**\n",
        "有用な操作を行う名前付きの文のシーケンス。引数を取る場合と取らない場合があり、結果を生成する場合としない場合があります。\n",
        "\n",
        "**関数呼び出し (function call):**\n",
        "関数を実行するための式。関数名の後に括弧内に引数リストを続けたものです。\n",
        "\n",
        "**構文エラー (syntax error):**\n",
        "プログラムが解析不可能で、実行不可能なエラー。\n",
        "\n",
        "**文字列 (string):**\n",
        "文字のシーケンスを表す型。\n",
        "\n",
        "**連結 (concatenation):**\n",
        "2つの文字列を端と端を合わせて結合すること。\n",
        "\n",
        "**型 (type):**\n",
        "値のカテゴリ。これまでに見てきた型には整数（型 `int`）、浮動小数点数（型 `float`）、文字列（型 `str`）があります。\n",
        "\n",
        "**オペランド (operand):**\n",
        "演算子が操作する値の1つ。\n",
        "\n",
        "**自然言語 (natural language):**\n",
        "人々が話している、自然に進化してきた言語。\n",
        "\n",
        "**形式言語 (formal language):**\n",
        "数学的概念やコンピュータプログラムを表現するために設計された言語。すべてのプログラミング言語は形式言語です。\n",
        "\n",
        "**バグ (bug):**\n",
        "プログラム内のエラー。\n",
        "\n",
        "**デバッグ (debugging):**\n",
        "エラーを見つけて修正するプロセス。"
      ]
    },
    {
      "cell_type": "markdown",
      "id": "ed4ec01b",
      "metadata": {
        "id": "ed4ec01b"
      },
      "source": [
        "## エクササイズ"
      ]
    },
    {
      "cell_type": "code",
      "execution_count": null,
      "id": "06d3e72c",
      "metadata": {
        "tags": [],
        "id": "06d3e72c"
      },
      "outputs": [],
      "source": [
        "# This cell tells Jupyter to provide detailed debugging information\n",
        "# when a runtime error occurs. Run it before working on the exercises.\n",
        "\n",
        "%xmode Verbose"
      ]
    },
    {
      "cell_type": "markdown",
      "id": "23adf208",
      "metadata": {
        "id": "23adf208"
      },
      "source": [
        "### バーチャルアシスタントに質問する\n",
        "\n",
        "この本を進めるにあたって、学習を助けるために仮想アシスタントやチャットボットを利用する方法はいくつかあります。\n",
        "\n",
        "* 章のトピックについてもっと知りたい場合や何かが不明な場合、説明を求めることができます。\n",
        "\n",
        "* 練習問題に苦労している場合は、助けを求めることができます。\n",
        "\n",
        "各章では、バーチャルアシスタントと一緒に行うことができる練習問題を提案しますが、自分で試してみて、何が自分に合っているかを見つけることをお勧めします。"
      ]
    },
    {
      "cell_type": "markdown",
      "id": "ebf1a451",
      "metadata": {
        "id": "ebf1a451"
      },
      "source": [
        "こちらはバーチャルアシスタントに質問できるトピックの例です：\n",
        "\n",
        "* 以前、ビット演算子について言及しましたが、なぜ`7 ^ 2`の値が5になるのか説明しませんでした。「Pythonのビット演算子とは何ですか？」や「`7 XOR 2`の値は何ですか？」と質問してください。\n",
        "\n",
        "* オペレーションの順序についても触れました。詳細が知りたい場合は、「Pythonにおける演算の順序は何ですか？」と質問してください。\n",
        "\n",
        "* `round`関数についてですが、浮動小数点数を最も近い整数に丸める際に二つ目の引数を取ることができます。「round関数の引数とは何ですか？」または「円周率を小数点以下3桁に丸めるにはどうすればよいですか？」と質問してください。\n",
        "\n",
        "* もう一つ、言及していない算術演算子があります。「Pythonにおける剰余演算子とは何ですか？」と質問してみてください。"
      ]
    },
    {
      "cell_type": "markdown",
      "id": "9be3e1c7",
      "metadata": {
        "id": "9be3e1c7"
      },
      "source": [
        "ほとんどのバーチャルアシスタントはPythonについて知識があるので、このような質問に対してかなり信頼性の高い回答をします。しかし、これらのツールも間違いを犯すことがあります。チャットボットからコードを得た場合は、必ずテストしてください！"
      ]
    },
    {
      "cell_type": "markdown",
      "id": "03c1ef93",
      "metadata": {
        "id": "03c1ef93"
      },
      "source": [
        "### 練習\n",
        "\n",
        "数値が `0.5` で終わる場合、`round` がどう動作するか疑問に思うかもしれません。\n",
        "答えとしては、それは時々切り上げ、時々切り下げを行います。\n",
        "これらの例を試してみて、どのルールに従っているかを考えてみてください。"
      ]
    },
    {
      "cell_type": "code",
      "execution_count": null,
      "id": "5d358f37",
      "metadata": {
        "id": "5d358f37"
      },
      "outputs": [],
      "source": [
        "round(42.5)"
      ]
    },
    {
      "cell_type": "code",
      "execution_count": null,
      "id": "12aa59a3",
      "metadata": {
        "id": "12aa59a3"
      },
      "outputs": [],
      "source": [
        "round(43.5)"
      ]
    },
    {
      "cell_type": "markdown",
      "id": "dd2f890e",
      "metadata": {
        "id": "dd2f890e"
      },
      "source": [
        "もし興味があるなら、バーチャルアシスタントに「数字が0.5で終わる場合、Pythonは切り上げるのか切り下げるのか？」と聞いてみてください。"
      ]
    },
    {
      "cell_type": "markdown",
      "id": "2cd03bcb",
      "metadata": {
        "id": "2cd03bcb"
      },
      "source": [
        "### 演習\n",
        "\n",
        "新しい機能について学ぶときは、実際に試してみて失敗を意図的に犯してみましょう。そうすることでエラーメッセージを理解し、再度それを目にしたときに何を意味しているかが分かるようになります。今故意に失敗する方が、後で偶然に失敗するよりも良いのです。\n",
        "\n",
        "1.  マイナス記号を使って負の数を表すことができますが、`-2`のように。では、数値の前にプラス記号を置くとどうなりますか？そして`2++2`の場合はどうでしょう？\n",
        "\n",
        "2.  演算子が無く値が連続した場合、例えば`4 2`のようになった場合はどうなりますか？\n",
        "\n",
        "3.  `round(42.5)`のような関数を呼び出す際、もし括弧を一つまたは両方省略するとどうなりますか？"
      ]
    },
    {
      "cell_type": "markdown",
      "id": "1fb0adfe",
      "metadata": {
        "id": "1fb0adfe"
      },
      "source": [
        "以下は各式の値のタイプについての推測と実際のタイプです。\n",
        "\n",
        "1. `765`\n",
        "   - 推測: `int`（整数）\n",
        "   - 実際のタイプ: `int`\n",
        "\n",
        "2. `2.718`\n",
        "   - 推測: `float`（浮動小数点数）\n",
        "   - 実際のタイプ: `float`\n",
        "\n",
        "3. `'2 pi'`\n",
        "   - 推測: `str`（文字列）\n",
        "   - 実際のタイプ: `str`\n",
        "\n",
        "4. `abs(-7)`\n",
        "   - 推測: `int`（絶対値を取ると整数が残るため）\n",
        "   - 実際のタイプ: `int`\n",
        "\n",
        "5. `abs(-7.0)`\n",
        "   - 推測: `float`（浮動小数点数が渡されるため返り値も浮動小数点数になる）\n",
        "   - 実際のタイプ: `float`\n",
        "\n",
        "6. `abs`\n",
        "   - 推測: `builtin_function_or_method`（ビルトイン関数またはメソッドの型）\n",
        "   - 実際のタイプ: `builtin_function_or_method`\n",
        "\n",
        "7. `int`\n",
        "   - 推測: `type`（データ型そのものが返される）\n",
        "   - 実際のタイプ: `type`\n",
        "\n",
        "8. `type`\n",
        "   - 推測: `builtin_function_or_method`（ビルトイン関数またはメソッドの型）\n",
        "   - 実際のタイプ: `builtin_function_or_method`\n",
        "\n",
        "それぞれの値について、推測と実際のタイプを確認するために `type` 関数を使ってみてください。"
      ]
    },
    {
      "cell_type": "markdown",
      "id": "23762eec",
      "metadata": {
        "id": "23762eec"
      },
      "source": [
        "### 演習\n",
        "\n",
        "次の質問は、算術式を書く練習をするためのものです。\n",
        "\n",
        "1.  42分42秒には何秒あるでしょうか？\n",
        "\n",
        "2.  10キロメートルには何マイルありますか？ ヒント: 1マイルは1.61キロメートルです。\n",
        "\n",
        "3.  10キロメートルのレースを42分42秒で走った場合の、1マイル当たりの平均ペースは何秒でしょうか？\n",
        "\n",
        "4.  1マイル当たりの平均ペースは何分何秒でしょうか？\n",
        "\n",
        "5.  1時間当たりの平均速度は何マイルでしょうか？\n",
        "\n",
        "もし変数を知っているなら、この演習にそれを使用できます。\n",
        "もし知らなくても、この演習を行うことができます。そして次の章で変数について学びます。"
      ]
    },
    {
      "cell_type": "code",
      "execution_count": null,
      "id": "8fb50f30",
      "metadata": {
        "id": "8fb50f30"
      },
      "outputs": [],
      "source": [
        "# Solution goes here"
      ]
    },
    {
      "cell_type": "code",
      "execution_count": null,
      "id": "5eceb4fb",
      "metadata": {
        "id": "5eceb4fb"
      },
      "outputs": [],
      "source": [
        "# Solution goes here"
      ]
    },
    {
      "cell_type": "code",
      "execution_count": null,
      "id": "fee97d8d",
      "metadata": {
        "id": "fee97d8d"
      },
      "outputs": [],
      "source": [
        "# Solution goes here"
      ]
    },
    {
      "cell_type": "code",
      "execution_count": null,
      "id": "a998258c",
      "metadata": {
        "id": "a998258c"
      },
      "outputs": [],
      "source": [
        "# Solution goes here"
      ]
    },
    {
      "cell_type": "code",
      "execution_count": null,
      "id": "2e0fc7a9",
      "metadata": {
        "id": "2e0fc7a9"
      },
      "outputs": [],
      "source": [
        "# Solution goes here"
      ]
    },
    {
      "cell_type": "code",
      "execution_count": null,
      "id": "d25268d8",
      "metadata": {
        "id": "d25268d8"
      },
      "outputs": [],
      "source": [
        "# Solution goes here"
      ]
    },
    {
      "cell_type": "code",
      "execution_count": null,
      "id": "523d9b0f",
      "metadata": {
        "id": "523d9b0f"
      },
      "outputs": [],
      "source": [
        "# Solution goes here"
      ]
    },
    {
      "cell_type": "code",
      "execution_count": null,
      "id": "ca083ccf",
      "metadata": {
        "id": "ca083ccf"
      },
      "outputs": [],
      "source": []
    },
    {
      "cell_type": "markdown",
      "id": "a7f4edf8",
      "metadata": {
        "tags": [],
        "id": "a7f4edf8"
      },
      "source": [
        "[Think Python: 第3版](https://allendowney.github.io/ThinkPython/index.html)\n",
        "\n",
        "著作権 2024 [Allen B. Downey](https://allendowney.com)\n",
        "\n",
        "コードライセンス: [MITライセンス](https://mit-license.org/)\n",
        "\n",
        "テキストライセンス: [クリエイティブ・コモンズ 表示-非営利-継承 4.0 国際](https://creativecommons.org/licenses/by-nc-sa/4.0/)"
      ]
    }
  ],
  "metadata": {
    "celltoolbar": "Tags",
    "kernelspec": {
      "display_name": "Python 3 (ipykernel)",
      "language": "python",
      "name": "python3"
    },
    "language_info": {
      "codemirror_mode": {
        "name": "ipython",
        "version": 3
      },
      "file_extension": ".py",
      "mimetype": "text/x-python",
      "name": "python",
      "nbconvert_exporter": "python",
      "pygments_lexer": "ipython3",
      "version": "3.10.11"
    },
    "colab": {
      "provenance": [],
      "include_colab_link": true
    }
  },
  "nbformat": 4,
  "nbformat_minor": 5
}