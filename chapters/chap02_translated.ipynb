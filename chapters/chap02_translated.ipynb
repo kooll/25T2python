{
  "cells": [
    {
      "cell_type": "markdown",
      "metadata": {
        "id": "view-in-github",
        "colab_type": "text"
      },
      "source": [
        "<a href=\"https://colab.research.google.com/github/kooll/ThinkPythonJ/blob/main/chapters/chap02_translated.ipynb\" target=\"_parent\"><img src=\"https://colab.research.google.com/assets/colab-badge.svg\" alt=\"Open In Colab\"/></a>"
      ]
    },
    {
      "cell_type": "markdown",
      "id": "1331faa1",
      "metadata": {
        "id": "1331faa1"
      },
      "source": [
        "*Think Python 3e* の印刷版と電子書籍版は、[Bookshop.org](https://bookshop.org/a/98697/9781098155438) や [Amazon](https://www.amazon.com/_/dp/1098155432?smid=ATVPDKIKX0DER&_encoding=UTF8&tag=oreilly20-20&_encoding=UTF8&tag=greenteapre01-20&linkCode=ur2&linkId=e2a529f94920295d27ec8a06e757dc7c&camp=1789&creative=9325) から注文することができます。"
      ]
    },
    {
      "cell_type": "code",
      "execution_count": 2,
      "id": "1a0a6ff4",
      "metadata": {
        "tags": [],
        "id": "1a0a6ff4",
        "colab": {
          "base_uri": "https://localhost:8080/"
        },
        "outputId": "ef50c2cb-a22a-4554-a290-fed2ee6bdf41"
      },
      "outputs": [
        {
          "output_type": "stream",
          "name": "stdout",
          "text": [
            "Downloaded thinkpython.py\n",
            "Downloaded diagram.py\n"
          ]
        }
      ],
      "source": [
        "from os.path import basename, exists\n",
        "\n",
        "def download(url):\n",
        "    filename = basename(url)\n",
        "    if not exists(filename):\n",
        "        from urllib.request import urlretrieve\n",
        "\n",
        "        local, _ = urlretrieve(url, filename)\n",
        "        print(\"Downloaded \" + str(local))\n",
        "    return filename\n",
        "\n",
        "download('https://github.com/AllenDowney/ThinkPython/raw/v3/thinkpython.py');\n",
        "download('https://github.com/AllenDowney/ThinkPython/raw/v3/diagram.py');\n",
        "\n",
        "import thinkpython"
      ]
    },
    {
      "cell_type": "markdown",
      "id": "d0286422",
      "metadata": {
        "id": "d0286422"
      },
      "source": [
        "# 変数と文\n",
        "\n",
        "前の章では、演算子を使用して算術演算を行う式を書きました。\n",
        "\n",
        "この章では、変数と文、`import` 文、`print` 関数について学びます。\n",
        "また、「引数」や「モジュール」といったプログラムについて話す際に使う用語についても紹介します。"
      ]
    },
    {
      "cell_type": "markdown",
      "id": "4ac44f0c",
      "metadata": {
        "id": "4ac44f0c"
      },
      "source": [
        "## 変数\n",
        "\n",
        "**変数**とは、値を指し示す名前のことです。\n",
        "変数を作成するには、次のように**代入文**を書くことができます。"
      ]
    },
    {
      "cell_type": "code",
      "execution_count": null,
      "id": "59f6db42",
      "metadata": {
        "id": "59f6db42"
      },
      "outputs": [],
      "source": [
        "n = 17"
      ]
    },
    {
      "cell_type": "markdown",
      "id": "52f187f1",
      "metadata": {
        "id": "52f187f1"
      },
      "source": [
        "代入文には3つの部分があります。左側の変数名、等号演算子`=`、そして右側の式です。  \n",
        "この例では、式は整数です。  \n",
        "次の例では、式は浮動小数点数です。"
      ]
    },
    {
      "cell_type": "code",
      "execution_count": null,
      "id": "1301f6af",
      "metadata": {
        "id": "1301f6af"
      },
      "outputs": [],
      "source": [
        "pi = 3.141592653589793"
      ]
    },
    {
      "cell_type": "markdown",
      "id": "3e27e65c",
      "metadata": {
        "id": "3e27e65c"
      },
      "source": [
        "次の例では、式は文字列です。"
      ]
    },
    {
      "cell_type": "code",
      "execution_count": null,
      "id": "f7adb732",
      "metadata": {
        "id": "f7adb732"
      },
      "outputs": [],
      "source": [
        "message = 'And now for something completely different'"
      ]
    },
    {
      "cell_type": "markdown",
      "id": "cb5916ea",
      "metadata": {
        "id": "cb5916ea"
      },
      "source": [
        "代入文を実行すると、出力はありません。Pythonは変数を作成し、それに値を与えますが、代入文自体は目に見える効果を持ちません。しかし、変数を作成すると、それを式として使用することができます。そのため、`message` の値を次のように表示することができます:"
      ]
    },
    {
      "cell_type": "code",
      "execution_count": null,
      "id": "6bcc0a66",
      "metadata": {
        "id": "6bcc0a66"
      },
      "outputs": [],
      "source": [
        "message"
      ]
    },
    {
      "cell_type": "markdown",
      "id": "e3fd81de",
      "metadata": {
        "id": "e3fd81de"
      },
      "source": [
        "変数を算術演算子と共に式の一部として使用することもできます。"
      ]
    },
    {
      "cell_type": "code",
      "execution_count": null,
      "id": "3f11f497",
      "metadata": {
        "id": "3f11f497"
      },
      "outputs": [],
      "source": [
        "n + 25"
      ]
    },
    {
      "cell_type": "code",
      "execution_count": null,
      "id": "6b2dafea",
      "metadata": {
        "id": "6b2dafea"
      },
      "outputs": [],
      "source": [
        "2 * pi"
      ]
    },
    {
      "cell_type": "markdown",
      "id": "97396e7d",
      "metadata": {
        "id": "97396e7d"
      },
      "source": [
        "関数を呼び出すときに変数を使うことができます。"
      ]
    },
    {
      "cell_type": "code",
      "execution_count": null,
      "id": "72c45ac5",
      "metadata": {
        "id": "72c45ac5"
      },
      "outputs": [],
      "source": [
        "round(pi)"
      ]
    },
    {
      "cell_type": "code",
      "execution_count": null,
      "id": "6bf81c52",
      "metadata": {
        "id": "6bf81c52"
      },
      "outputs": [],
      "source": [
        "len(message)"
      ]
    },
    {
      "cell_type": "markdown",
      "id": "397d9da3",
      "metadata": {
        "id": "397d9da3"
      },
      "source": [
        "## 状態図\n",
        "\n",
        "変数を紙上で表現する一般的な方法は、変数名を書いて、その値を指す矢印を描くことです。"
      ]
    },
    {
      "cell_type": "code",
      "execution_count": null,
      "id": "2c25e84e",
      "metadata": {
        "tags": [],
        "id": "2c25e84e"
      },
      "outputs": [],
      "source": [
        "import math\n",
        "\n",
        "from diagram import make_binding, Frame\n",
        "\n",
        "binding = make_binding(\"message\", 'And now for something completely different')\n",
        "binding2 = make_binding(\"n\", 17)\n",
        "binding3 = make_binding(\"pi\", 3.141592653589793)\n",
        "\n",
        "frame = Frame([binding2, binding3, binding])"
      ]
    },
    {
      "cell_type": "code",
      "execution_count": null,
      "id": "5b27a635",
      "metadata": {
        "tags": [],
        "id": "5b27a635"
      },
      "outputs": [],
      "source": [
        "from diagram import diagram, adjust\n",
        "\n",
        "\n",
        "width, height, x, y = [3.62, 1.01, 0.6, 0.76]\n",
        "ax = diagram(width, height)\n",
        "bbox = frame.draw(ax, x, y, dy=-0.25)\n",
        "# adjust(x, y, bbox)"
      ]
    },
    {
      "cell_type": "markdown",
      "id": "6f40da93",
      "metadata": {
        "id": "6f40da93"
      },
      "source": [
        "この種の図は**状態図**と呼ばれます。これは、各変数がどの状態にあるかを示すためです（変数の心理状態と考えてください）。本書を通じて、Pythonがどのように変数とその値を保存するかのモデルを表すために状態図を使用します。"
      ]
    },
    {
      "cell_type": "markdown",
      "id": "ba252c85",
      "metadata": {
        "id": "ba252c85"
      },
      "source": [
        "## 変数名\n",
        "\n",
        "変数名の長さに制限はありません。文字と数字の両方を含めることができますが、数字で始めることはできません。\n",
        "大文字を使用することも合法ですが、慣例として変数名には小文字のみを使用します。\n",
        "\n",
        "変数名に使用できる唯一の句読点はアンダースコア文字である`_`です。`your_name` や `airspeed_of_unladen_swallow` のように、複数の単語を含む名前によく使われます。\n",
        "\n",
        "不正な名前を変数に与えると、構文エラーが発生します。`million!` という名前は句読点が含まれているため不正です。"
      ]
    },
    {
      "cell_type": "code",
      "execution_count": null,
      "id": "ac2620ef",
      "metadata": {
        "tags": [],
        "id": "ac2620ef"
      },
      "outputs": [],
      "source": [
        "%%expect SyntaxError\n",
        "\n",
        "million! = 1000000"
      ]
    },
    {
      "cell_type": "markdown",
      "id": "a1cefe3e",
      "metadata": {
        "id": "a1cefe3e"
      },
      "source": [
        "`76トロンボーン`は、数字で始まるため、使用できません。"
      ]
    },
    {
      "cell_type": "code",
      "execution_count": null,
      "id": "1a8b8382",
      "metadata": {
        "tags": [],
        "id": "1a8b8382"
      },
      "outputs": [],
      "source": [
        "%%expect SyntaxError\n",
        "\n",
        "76trombones = 'big parade'"
      ]
    },
    {
      "cell_type": "markdown",
      "id": "94aa7e60",
      "metadata": {
        "id": "94aa7e60"
      },
      "source": [
        "`class`も違法ですが、その理由はすぐにはわからないかもしれません。"
      ]
    },
    {
      "cell_type": "code",
      "execution_count": 1,
      "id": "b6938851",
      "metadata": {
        "tags": [],
        "id": "b6938851",
        "colab": {
          "base_uri": "https://localhost:8080/"
        },
        "outputId": "1351d20a-0cce-4a6d-bb89-82578ce5e480"
      },
      "outputs": [
        {
          "output_type": "stream",
          "name": "stderr",
          "text": [
            "UsageError: Cell magic `%%expect` not found.\n"
          ]
        }
      ],
      "source": [
        "%%expect SyntaxError\n",
        "\n",
        "class = 'Self-Defence Against Fresh Fruit'"
      ]
    },
    {
      "cell_type": "markdown",
      "id": "784cfb5c",
      "metadata": {
        "id": "784cfb5c"
      },
      "source": [
        "`class` は **キーワード** であり、プログラムの構造を指定するために使われる特別な単語です。キーワードは変数名として使用することはできません。\n",
        "\n",
        "以下は、Python のキーワードの完全なリストです。"
      ]
    },
    {
      "cell_type": "markdown",
      "id": "127c07e8",
      "metadata": {
        "id": "127c07e8"
      },
      "source": [
        "```\n",
        "False      await      else       import     pass\n",
        "None       break      except     in         raise\n",
        "True       class      finally    is         return\n",
        "and        continue   for        lambda     try\n",
        "as         def        from       nonlocal   while\n",
        "assert     del        global     not        with\n",
        "async      elif       if         or         yield\n",
        "```"
      ]
    },
    {
      "cell_type": "code",
      "execution_count": null,
      "id": "4a8f4b3e",
      "metadata": {
        "tags": [],
        "id": "4a8f4b3e"
      },
      "outputs": [],
      "source": [
        "from keyword import kwlist\n",
        "\n",
        "len(kwlist)"
      ]
    },
    {
      "cell_type": "markdown",
      "id": "6f14d301",
      "metadata": {
        "id": "6f14d301"
      },
      "source": [
        "このリストを暗記する必要はありません。ほとんどの開発環境では、キーワードが異なる色で表示されます。もしそれを変数名として使用しようとすると、すぐにわかるでしょう。"
      ]
    },
    {
      "cell_type": "markdown",
      "id": "c954a3b0",
      "metadata": {
        "id": "c954a3b0"
      },
      "source": [
        "## インポート文\n",
        "\n",
        "いくつかのPythonの機能を使用するためには、それらを**インポート**する必要があります。\n",
        "例えば、次の文は`math`モジュールをインポートします。"
      ]
    },
    {
      "cell_type": "code",
      "execution_count": null,
      "id": "98c268e9",
      "metadata": {
        "id": "98c268e9"
      },
      "outputs": [],
      "source": [
        "import math"
      ]
    },
    {
      "cell_type": "markdown",
      "id": "ea4f75ec",
      "metadata": {
        "id": "ea4f75ec"
      },
      "source": [
        "「モジュール」とは、変数や関数のコレクションです。  \n",
        "mathモジュールには`pi`という変数があり、数学定数の$\\pi$の値が含まれています。  \n",
        "その値を表示するには、以下のようにします。"
      ]
    },
    {
      "cell_type": "code",
      "execution_count": null,
      "id": "47bc17c9",
      "metadata": {
        "id": "47bc17c9"
      },
      "outputs": [],
      "source": [
        "math.pi"
      ]
    },
    {
      "cell_type": "markdown",
      "id": "c96106e4",
      "metadata": {
        "id": "c96106e4"
      },
      "source": [
        "モジュール内で変数を使用するには、モジュール名と変数名の間に**ドット演算子**（`.`）を使用する必要があります。\n",
        "\n",
        "mathモジュールには関数も含まれています。例えば、`sqrt`は平方根を計算します。"
      ]
    },
    {
      "cell_type": "code",
      "execution_count": null,
      "id": "fd1cec63",
      "metadata": {
        "id": "fd1cec63"
      },
      "outputs": [],
      "source": [
        "math.sqrt(25)"
      ]
    },
    {
      "cell_type": "markdown",
      "id": "185e94a3",
      "metadata": {
        "id": "185e94a3"
      },
      "source": [
        "`pow`関数は、ある数を別の数で累乗する機能を持っています。"
      ]
    },
    {
      "cell_type": "code",
      "execution_count": null,
      "id": "87316ddd",
      "metadata": {
        "id": "87316ddd"
      },
      "outputs": [],
      "source": [
        "math.pow(5, 2)"
      ]
    },
    {
      "cell_type": "markdown",
      "id": "5df25a9a",
      "metadata": {
        "id": "5df25a9a"
      },
      "source": [
        "この時点で、数をべき乗する方法として2つの方法を見てきました。それは、`math.pow` 関数を使用する方法と、べき乗演算子 `**` を使用する方法です。どちらを使っても問題ありませんが、演算子が関数よりもよく使われます。"
      ]
    },
    {
      "cell_type": "markdown",
      "id": "6538f22b",
      "metadata": {
        "id": "6538f22b"
      },
      "source": [
        "## 式と文\n",
        "\n",
        "これまでに、いくつかのタイプの式について見てきました。\n",
        "式は、整数、浮動小数点数、または文字列のような単一の値になることがあります。\n",
        "また、値と演算子の集合であることもあります。\n",
        "さらには、変数名や関数呼び出しを含むことも可能です。\n",
        "以下は、これらの要素を複数含む式の例です。"
      ]
    },
    {
      "cell_type": "code",
      "execution_count": null,
      "id": "7f0b92df",
      "metadata": {
        "id": "7f0b92df"
      },
      "outputs": [],
      "source": [
        "19 + n + round(math.pi) * 2"
      ]
    },
    {
      "cell_type": "markdown",
      "id": "000dd2ba",
      "metadata": {
        "id": "000dd2ba"
      },
      "source": [
        "いくつかの種類のステートメントを見てきました。  \n",
        "**ステートメント**は、効果を持つ単位のコードですが、値は持ちません。  \n",
        "例えば、代入ステートメントは変数を作成してそれに値を与えますが、ステートメント自体には値はありません。"
      ]
    },
    {
      "cell_type": "code",
      "execution_count": null,
      "id": "b882c340",
      "metadata": {
        "id": "b882c340"
      },
      "outputs": [],
      "source": [
        "n = 17"
      ]
    },
    {
      "cell_type": "markdown",
      "id": "cff0414b",
      "metadata": {
        "id": "cff0414b"
      },
      "source": [
        "同様に、import文はモジュールをインポートするという効果を持ちます。これにより、そのモジュールに含まれる変数や関数を使用できるようになりますが、目に見える効果はありません。"
      ]
    },
    {
      "cell_type": "code",
      "execution_count": null,
      "id": "299817d8",
      "metadata": {
        "id": "299817d8"
      },
      "outputs": [],
      "source": [
        "import math"
      ]
    },
    {
      "cell_type": "markdown",
      "id": "2aeb1000",
      "metadata": {
        "id": "2aeb1000"
      },
      "source": [
        "式の値を計算することを**評価**と呼びます。  \n",
        "文を実行することを**実行**と呼びます。"
      ]
    },
    {
      "cell_type": "markdown",
      "id": "f61601e4",
      "metadata": {
        "id": "f61601e4"
      },
      "source": [
        "## print関数\n",
        "\n",
        "式を評価すると、その結果が表示されます。"
      ]
    },
    {
      "cell_type": "code",
      "execution_count": null,
      "id": "805977c6",
      "metadata": {
        "id": "805977c6"
      },
      "outputs": [],
      "source": [
        "n + 1"
      ]
    },
    {
      "cell_type": "markdown",
      "id": "efacf0fa",
      "metadata": {
        "id": "efacf0fa"
      },
      "source": [
        "ただし、複数の式を評価した場合、表示されるのは最後の式の値のみです。"
      ]
    },
    {
      "cell_type": "code",
      "execution_count": null,
      "id": "962e08ab",
      "metadata": {
        "id": "962e08ab"
      },
      "outputs": [],
      "source": [
        "n + 2\n",
        "n + 3"
      ]
    },
    {
      "cell_type": "markdown",
      "id": "cf2b991d",
      "metadata": {
        "id": "cf2b991d"
      },
      "source": [
        "複数の値を表示するには、`print` 関数を使用できます。"
      ]
    },
    {
      "cell_type": "code",
      "execution_count": null,
      "id": "a797e44d",
      "metadata": {
        "id": "a797e44d"
      },
      "outputs": [],
      "source": [
        "print(n+2)\n",
        "print(n+3)"
      ]
    },
    {
      "cell_type": "markdown",
      "id": "29af1f89",
      "metadata": {
        "id": "29af1f89"
      },
      "source": [
        "また、浮動小数点数や文字列とも連携します。"
      ]
    },
    {
      "cell_type": "code",
      "execution_count": null,
      "id": "73428520",
      "metadata": {
        "id": "73428520"
      },
      "outputs": [],
      "source": [
        "print('The value of pi is approximately')\n",
        "print(math.pi)"
      ]
    },
    {
      "cell_type": "markdown",
      "id": "8b4d7f4a",
      "metadata": {
        "id": "8b4d7f4a"
      },
      "source": [
        "コンマで区切られた一連の式を使用することもできます。"
      ]
    },
    {
      "cell_type": "code",
      "execution_count": null,
      "id": "9ad5bddd",
      "metadata": {
        "id": "9ad5bddd"
      },
      "outputs": [],
      "source": [
        "print('The value of pi is approximately', math.pi)"
      ]
    },
    {
      "cell_type": "markdown",
      "id": "af447ec4",
      "metadata": {
        "id": "af447ec4"
      },
      "source": [
        "`print` 関数は、値の間にスペースを入れることに注意してください。"
      ]
    },
    {
      "cell_type": "markdown",
      "id": "7c73a2fa",
      "metadata": {
        "id": "7c73a2fa"
      },
      "source": [
        "## 引数\n",
        "\n",
        "関数を呼び出す際、括弧内の式を**引数**と呼びます。通常であれば、その理由を説明しますが、この場合、用語の技術的な意味は、その単語の一般的な意味とほとんど関係がないため、説明は控えたいと思います。\n",
        "\n",
        "これまでに見てきた関数の中には `int` のように1つの引数のみを取るものもあります。"
      ]
    },
    {
      "cell_type": "code",
      "execution_count": null,
      "id": "060c60cf",
      "metadata": {
        "id": "060c60cf"
      },
      "outputs": [],
      "source": [
        "int('101')"
      ]
    },
    {
      "cell_type": "markdown",
      "id": "c4ad4f2c",
      "metadata": {
        "id": "c4ad4f2c"
      },
      "source": [
        "いくつかは `math.pow` のように2つの引数を取ります。"
      ]
    },
    {
      "cell_type": "code",
      "execution_count": null,
      "id": "2875d9e0",
      "metadata": {
        "id": "2875d9e0"
      },
      "outputs": [],
      "source": [
        "math.pow(5, 2)"
      ]
    },
    {
      "cell_type": "markdown",
      "id": "17293749",
      "metadata": {
        "id": "17293749"
      },
      "source": [
        "いくつかは追加の引数を取ることができ、それらは任意です。例えば、`int` は数値の基数を指定するための第2引数を取ることができます。"
      ]
    },
    {
      "cell_type": "code",
      "execution_count": null,
      "id": "43b9cf38",
      "metadata": {
        "id": "43b9cf38"
      },
      "outputs": [],
      "source": [
        "int('101', 2)"
      ]
    },
    {
      "cell_type": "markdown",
      "id": "c95589a1",
      "metadata": {
        "id": "c95589a1"
      },
      "source": [
        "2進数の数字の並び `101` は、10進数では数値5を表します。\n",
        "\n",
        "`round` 関数はまた、任意の第2引数として、小数点以下を丸める桁数を取ります。"
      ]
    },
    {
      "cell_type": "code",
      "execution_count": null,
      "id": "e8a21d05",
      "metadata": {
        "id": "e8a21d05"
      },
      "outputs": [],
      "source": [
        "round(math.pi, 3)"
      ]
    },
    {
      "cell_type": "markdown",
      "id": "21e4a448",
      "metadata": {
        "id": "21e4a448"
      },
      "source": [
        "いくつかの関数は、`print`のように任意の数の引数を取ることができます。"
      ]
    },
    {
      "cell_type": "code",
      "execution_count": null,
      "id": "724128f4",
      "metadata": {
        "id": "724128f4"
      },
      "outputs": [],
      "source": [
        "print('Any', 'number', 'of', 'arguments')"
      ]
    },
    {
      "cell_type": "markdown",
      "id": "667cff14",
      "metadata": {
        "id": "667cff14"
      },
      "source": [
        "関数を呼び出す際に引数を多く指定しすぎると、それは`TypeError`です。"
      ]
    },
    {
      "cell_type": "code",
      "execution_count": null,
      "id": "69295e52",
      "metadata": {
        "tags": [],
        "id": "69295e52"
      },
      "outputs": [],
      "source": [
        "%%expect TypeError\n",
        "\n",
        "float('123.0', 2)"
      ]
    },
    {
      "cell_type": "markdown",
      "id": "5103368e",
      "metadata": {
        "id": "5103368e"
      },
      "source": [
        "引数が少なすぎても、それも`TypeError`です。"
      ]
    },
    {
      "cell_type": "code",
      "execution_count": null,
      "id": "edec7064",
      "metadata": {
        "tags": [],
        "id": "edec7064"
      },
      "outputs": [],
      "source": [
        "%%expect TypeError\n",
        "\n",
        "math.pow(2)"
      ]
    },
    {
      "cell_type": "markdown",
      "id": "5333c416",
      "metadata": {
        "id": "5333c416"
      },
      "source": [
        "そして、関数が処理できない型の引数を指定した場合、それも `TypeError` です。"
      ]
    },
    {
      "cell_type": "code",
      "execution_count": null,
      "id": "f86b2896",
      "metadata": {
        "tags": [],
        "id": "f86b2896"
      },
      "outputs": [],
      "source": [
        "%%expect TypeError\n",
        "\n",
        "math.sqrt('123')"
      ]
    },
    {
      "cell_type": "markdown",
      "id": "548828af",
      "metadata": {
        "id": "548828af"
      },
      "source": [
        "始めたばかりの頃は、このようなチェックは面倒に感じるかもしれませんが、エラーを検出して修正するのに役立ちます。"
      ]
    },
    {
      "cell_type": "markdown",
      "id": "be2b6a9b",
      "metadata": {
        "id": "be2b6a9b"
      },
      "source": [
        "## コメント\n",
        "\n",
        "プログラムが大きく複雑になるにつれて、読みづらくなります。  \n",
        "フォーマルな言語は密度が高く、一部のコードを見て何をしているのか、なぜそうしているのかを理解するのは難しいことがあります。\n",
        "\n",
        "このため、プログラムに自然言語でプログラムが何をしているのかを説明するメモを追加することをお勧めします。  \n",
        "これらのメモは**コメント**と呼ばれ、`#`記号で始まります。"
      ]
    },
    {
      "cell_type": "code",
      "execution_count": null,
      "id": "607893a6",
      "metadata": {
        "id": "607893a6"
      },
      "outputs": [],
      "source": [
        "# number of seconds in 42:42\n",
        "seconds = 42 * 60 + 42"
      ]
    },
    {
      "cell_type": "markdown",
      "id": "519c83a9",
      "metadata": {
        "id": "519c83a9"
      },
      "source": [
        "この場合、コメントはそれ自体の行に表示されます。行の最後にコメントを入れることもできます。"
      ]
    },
    {
      "cell_type": "code",
      "execution_count": null,
      "id": "615a11e7",
      "metadata": {
        "id": "615a11e7"
      },
      "outputs": [],
      "source": [
        "miles = 10 / 1.61     # 10 kilometers in miles"
      ]
    },
    {
      "cell_type": "markdown",
      "id": "87c8d10c",
      "metadata": {
        "id": "87c8d10c"
      },
      "source": [
        "`#`から行末までのすべての内容が無視され、プログラムの実行には影響を与えません。\n",
        "\n",
        "コメントは、コードの明らかでない機能を文書化する際に最も有用です。読者がコードが*何を*するのかを理解できると仮定するのは合理的ですが、*なぜ*そうするのかを説明するほうがより有用です。\n",
        "\n",
        "このコメントはコードと冗長であり、無用です。"
      ]
    },
    {
      "cell_type": "code",
      "execution_count": null,
      "id": "cc7fe2e6",
      "metadata": {
        "id": "cc7fe2e6"
      },
      "outputs": [],
      "source": [
        "v = 8     # assign 8 to v"
      ]
    },
    {
      "cell_type": "markdown",
      "id": "eb83b14a",
      "metadata": {
        "id": "eb83b14a"
      },
      "source": [
        "このコメントには、コードにはない有用な情報が含まれています。"
      ]
    },
    {
      "cell_type": "code",
      "execution_count": null,
      "id": "7c93a00d",
      "metadata": {
        "id": "7c93a00d"
      },
      "outputs": [],
      "source": [
        "v = 8     # velocity in miles per hour"
      ]
    },
    {
      "cell_type": "markdown",
      "id": "6cd60d4f",
      "metadata": {
        "id": "6cd60d4f"
      },
      "source": [
        "適切な変数名はコメントの必要性を減らすことができますが、長い名前は複雑な式を読みづらくする可能性があるため、トレードオフがあります。"
      ]
    },
    {
      "cell_type": "markdown",
      "id": "7d61e416",
      "metadata": {
        "id": "7d61e416"
      },
      "source": [
        "## デバッグ\n",
        "\n",
        "プログラムには3種類のエラーが発生することがあります: 構文エラー、実行時エラー、意味エラーです。\n",
        "それらを区別することは、より速く問題を追跡するために役立ちます。\n",
        "\n",
        "* **構文エラー**: 「構文」とは、プログラムの構造とその構造に関するルールを指します。プログラムのどこかに構文エラーがあると、Pythonはプログラムを実行しません。すぐにエラーメッセージを表示します。\n",
        "\n",
        "* **実行時エラー**: プログラムに構文エラーがない場合、実行が開始されます。しかし、何かがうまくいかない場合、Pythonはエラーメッセージを表示し停止します。このタイプのエラーは実行時エラーと呼ばれます。また、**例外**とも呼ばれ、これは特別な状況が発生したことを示しています。\n",
        "\n",
        "* **意味エラー**: 第三のエラーは「意味のエラー」であり、意味に関連しています。プログラムに意味エラーがある場合、それはエラーメッセージを生成せずに実行されますが、意図したとおりには動作しません。意味エラーを特定するのは難しい場合があり、プログラムの出力を見て、何が行われているのかを逆に考えて推測する必要があります。"
      ]
    },
    {
      "cell_type": "markdown",
      "id": "6cd52721",
      "metadata": {
        "id": "6cd52721"
      },
      "source": [
        "ご覧のとおり、無効な変数名は構文エラーです。"
      ]
    },
    {
      "cell_type": "code",
      "execution_count": null,
      "id": "86f07f6e",
      "metadata": {
        "tags": [],
        "id": "86f07f6e"
      },
      "outputs": [],
      "source": [
        "%%expect SyntaxError\n",
        "\n",
        "million! = 1000000"
      ]
    },
    {
      "cell_type": "markdown",
      "id": "b8971d33",
      "metadata": {
        "id": "b8971d33"
      },
      "source": [
        "型がサポートしていない演算子を使用すると、実行時エラーになります。"
      ]
    },
    {
      "cell_type": "code",
      "execution_count": null,
      "id": "682395ea",
      "metadata": {
        "tags": [],
        "id": "682395ea"
      },
      "outputs": [],
      "source": [
        "%%expect TypeError\n",
        "\n",
        "'126' / 3"
      ]
    },
    {
      "cell_type": "markdown",
      "id": "e51fa6e2",
      "metadata": {
        "id": "e51fa6e2"
      },
      "source": [
        "最後に、意味的なエラーの例を示します。  \n",
        "`1` と `3` の平均を計算したいとしますが、演算の順序を忘れて次のように書いてしまったとします。"
      ]
    },
    {
      "cell_type": "code",
      "execution_count": null,
      "id": "2ff25bda",
      "metadata": {
        "id": "2ff25bda"
      },
      "outputs": [],
      "source": [
        "1 + 3 / 2"
      ]
    },
    {
      "cell_type": "markdown",
      "id": "0828afc0",
      "metadata": {
        "id": "0828afc0"
      },
      "source": [
        "この式を評価すると、エラーメッセージは表示されないため、構文エラーや実行時エラーはありません。しかし、その結果は `1` と `3` の平均ではないので、プログラムは正しくありません。プログラムが実行されるものの、意図した動作をしていないため、これを意味論的エラー（セマンティックエラー）と呼びます。"
      ]
    },
    {
      "cell_type": "markdown",
      "id": "07396f3d",
      "metadata": {
        "id": "07396f3d"
      },
      "source": [
        "## 用語集\n",
        "\n",
        "**変数 (variable):**  \n",
        "ある値を参照する名前。\n",
        "\n",
        "**代入文 (assignment statement):**  \n",
        "値を変数に代入する文。\n",
        "\n",
        "**状態図 (state diagram):**  \n",
        "一連の変数とそれらが参照する値のグラフィカルな表現。\n",
        "\n",
        "**キーワード (keyword):**  \n",
        "プログラムの構造を指定するために使用される特別な単語。\n",
        "\n",
        "**インポート文 (import statement):**  \n",
        "モジュールファイルを読み込み、その中に含まれる変数や関数を使用可能にする文。\n",
        "\n",
        "**モジュール (module):**  \n",
        "関数定義やその他の文を含むPythonコードのファイル。\n",
        "\n",
        "**ドット演算子 (dot operator):**  \n",
        "モジュール名の後にドットと関数名を続けることで、他のモジュールの関数にアクセスするための演算子 `.` 。\n",
        "\n",
        "**評価する (evaluate):**  \n",
        "式の演算を行い、値を計算する。\n",
        "\n",
        "**文 (statement):**  \n",
        "コマンドやアクションを表す一行以上のコード。\n",
        "\n",
        "**実行する (execute):**  \n",
        "文を実行し、指示されたことを行う。\n",
        "\n",
        "**引数 (argument):**  \n",
        "関数が呼び出されたときに、その関数に提供される値。\n",
        "\n",
        "**コメント (comment):**  \n",
        "プログラムの情報を提供するが、実行には影響しないテキスト。\n",
        "\n",
        "**実行時エラー (runtime error):**  \n",
        "プログラムにエラーメッセージを表示させ、終了させる原因となるエラー。\n",
        "\n",
        "**例外 (exception):**  \n",
        "プログラムが実行されている間に検出されるエラー。\n",
        "\n",
        "**意味論的エラー (semantic error):**  \n",
        "エラーメッセージを表示することなく、プログラムが間違った処理を行う原因となるエラー。"
      ]
    },
    {
      "cell_type": "markdown",
      "id": "70ee273d",
      "metadata": {
        "id": "70ee273d"
      },
      "source": [
        "## 練習問題"
      ]
    },
    {
      "cell_type": "code",
      "execution_count": null,
      "id": "c9e6cab4",
      "metadata": {
        "tags": [],
        "id": "c9e6cab4"
      },
      "outputs": [],
      "source": [
        "# This cell tells Jupyter to provide detailed debugging information\n",
        "# when a runtime error occurs. Run it before working on the exercises.\n",
        "\n",
        "%xmode Verbose"
      ]
    },
    {
      "cell_type": "markdown",
      "id": "7256a9b2",
      "metadata": {
        "id": "7256a9b2"
      },
      "source": [
        "### バーチャルアシスタントへの質問\n",
        "\n",
        "また、この章にあるトピックをもっと学ぶためにバーチャルアシスタントを使うことをお勧めします。\n",
        "\n",
        "もし、挙げたキーワードについて興味があるなら、「`class`はなぜキーワードなのですか？」や「変数名はなぜキーワードにできないのですか？」といった質問をしてみてください。\n",
        "\n",
        "おそらく気づいたかもしれませんが、`int`、`float`、`str`はPythonのキーワードではありません。\n",
        "これらは型を表す変数であり、関数として使用することができます。\n",
        "これらの名前を使って変数や関数を作ることは*法的に*可能ですが、強く非推奨です。「なぜ`int`、`float`、および`str`を変数名として使うのは良くないのでしょうか？」とアシスタントに聞いてみてください。\n",
        "\n",
        "また、「Pythonの組み込み関数とは何ですか？」という質問もしてみてください。\n",
        "もし興味があるものがあれば、さらに詳しい情報を尋ねてみてください。\n",
        "\n",
        "この章では、`math`モジュールをインポートし、その中で提供されている変数や関数を使いました。アシスタントに「`math`モジュールにはどんな変数や関数がありますか？」や「`math`以外に、コアPythonと見なされるモジュールは何ですか？」と質問してください。"
      ]
    },
    {
      "cell_type": "markdown",
      "id": "f92afde0",
      "metadata": {
        "id": "f92afde0"
      },
      "source": [
        "### 演習\n",
        "\n",
        "前の章で述べたアドバイスを繰り返しますが、新しい機能を学ぶたびに、何が問題になるのかを見るために意図的にエラーを起こすべきです。\n",
        "\n",
        "- `n = 17` が問題ないことは確認しました。では、`17 = n` はどうでしょうか？\n",
        "\n",
        "- `x = y = 1` はどうでしょうか？\n",
        "\n",
        "- いくつかの言語ではすべての文がセミコロン (`;`) で終わります。Python の文の末尾にセミコロンを付けたらどうなりますか？\n",
        "\n",
        "- 文の末尾にピリオドを付けたらどうなりますか？\n",
        "\n",
        "- モジュールの名前を間違えて `maath` としてインポートしようとした場合はどうなりますか？"
      ]
    },
    {
      "cell_type": "markdown",
      "id": "9d562609",
      "metadata": {
        "id": "9d562609"
      },
      "source": [
        "### 演習\n",
        "Pythonインタプリタを計算機として使う練習をしましょう。\n",
        "\n",
        "**パート1.** 半径 $r$ の球の体積は $\\frac{4}{3} \\pi r^3$ です。\n",
        "半径が5の球の体積はいくつでしょうか？ `radius` という名前の変数から始めて、結果を `volume` という名前の変数に代入します。結果を表示してください。 `radius` はセンチメートル単位、`volume` は立方センチメートル単位であることを示すコメントを追加してください。\n",
        "\n",
        "```python\n",
        "import math\n",
        "\n",
        "# 半径はセンチメートル単位\n",
        "radius = 5\n",
        "\n",
        "# 体積は立方センチメートル単位\n",
        "volume = (4/3) * math.pi * radius**3\n",
        "\n",
        "print(volume)\n",
        "```"
      ]
    },
    {
      "cell_type": "code",
      "execution_count": null,
      "id": "18de7d96",
      "metadata": {
        "id": "18de7d96"
      },
      "outputs": [],
      "source": [
        "# Solution goes here"
      ]
    },
    {
      "cell_type": "markdown",
      "id": "6449b12b",
      "metadata": {
        "id": "6449b12b"
      },
      "source": [
        "```python\n",
        "import math\n",
        "\n",
        "# xの値を設定\n",
        "x = 42\n",
        "\n",
        "# コサインとサインを計算\n",
        "cos_x = math.cos(x)\n",
        "sin_x = math.sin(x)\n",
        "\n",
        "# コサインとサインの二乗の和を計算\n",
        "result = (cos_x)**2 + (sin_x)**2\n",
        "\n",
        "print(result)  # 結果を出力\n",
        "```\n",
        "\n",
        "このコードを実行すると、`result`は1に非常に近い値が得られるはずです。浮動小数点演算の性質により、計算結果はたまに微妙に1と異なる場合がありますが、理論的には$(\\cos x)^2 + (\\sin x)^2$は常に1です。"
      ]
    },
    {
      "cell_type": "code",
      "execution_count": null,
      "id": "de812cff",
      "metadata": {
        "id": "de812cff"
      },
      "outputs": [],
      "source": [
        "# Solution goes here"
      ]
    },
    {
      "cell_type": "markdown",
      "id": "4986801f",
      "metadata": {
        "id": "4986801f"
      },
      "source": [
        "パート3。`math`モジュールで定義されているもう一つの変数は自然対数の底である`e`です。 もしこの値を知らない場合は、バーチャルアシスタントに「`math.e`とは何か」と聞いてみてください。 さて、$e^2$を3つの方法で計算してみましょう：\n",
        "\n",
        "- `math.e`と指数演算子（`**`）を使用する。\n",
        "  \n",
        "- `math.e`を2乗するために`math.pow`を使用する。\n",
        "  \n",
        "- 引数として値$x$を取って$e^x$を計算する`math.exp`を使用する。\n",
        "\n",
        "最後の結果が他の2つとわずかに異なることに気付くかもしれません。 どれが正しいかを調べてみましょう。"
      ]
    },
    {
      "cell_type": "code",
      "execution_count": null,
      "id": "b4ada618",
      "metadata": {
        "id": "b4ada618"
      },
      "outputs": [],
      "source": [
        "# Solution goes here"
      ]
    },
    {
      "cell_type": "code",
      "execution_count": null,
      "id": "4424940f",
      "metadata": {
        "id": "4424940f"
      },
      "outputs": [],
      "source": [
        "# Solution goes here"
      ]
    },
    {
      "cell_type": "code",
      "execution_count": null,
      "id": "50e8393a",
      "metadata": {
        "id": "50e8393a"
      },
      "outputs": [],
      "source": [
        "# Solution goes here"
      ]
    },
    {
      "cell_type": "code",
      "execution_count": null,
      "id": "91e5a869",
      "metadata": {
        "id": "91e5a869"
      },
      "outputs": [],
      "source": []
    },
    {
      "cell_type": "markdown",
      "id": "a7f4edf8",
      "metadata": {
        "tags": [],
        "id": "a7f4edf8"
      },
      "source": [
        "[Think Python: 第3版](https://allendowney.github.io/ThinkPython/index.html)\n",
        "\n",
        "著作権 2024 [Allen B. Downey](https://allendowney.com)\n",
        "\n",
        "コードライセンス: [MIT ライセンス](https://mit-license.org/)\n",
        "\n",
        "テキストライセンス: [クリエイティブ・コモンズ 表示 - 非営利 - 継承 4.0 国際](https://creativecommons.org/licenses/by-nc-sa/4.0/)"
      ]
    }
  ],
  "metadata": {
    "celltoolbar": "Tags",
    "kernelspec": {
      "display_name": "Python 3 (ipykernel)",
      "language": "python",
      "name": "python3"
    },
    "language_info": {
      "codemirror_mode": {
        "name": "ipython",
        "version": 3
      },
      "file_extension": ".py",
      "mimetype": "text/x-python",
      "name": "python",
      "nbconvert_exporter": "python",
      "pygments_lexer": "ipython3",
      "version": "3.10.11"
    },
    "vscode": {
      "interpreter": {
        "hash": "357b915890fbc73e00b3ee3cc7035b34e6189554c2854644fe780ff20c2fdfc0"
      }
    },
    "colab": {
      "provenance": [],
      "include_colab_link": true
    }
  },
  "nbformat": 4,
  "nbformat_minor": 5
}