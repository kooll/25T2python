{
  "cells": [
    {
      "cell_type": "markdown",
      "metadata": {
        "id": "view-in-github",
        "colab_type": "text"
      },
      "source": [
        "<a href=\"https://colab.research.google.com/github/kooll/ThinkPythonJ/blob/main/chapters/chap03_translated.ipynb\" target=\"_parent\"><img src=\"https://colab.research.google.com/assets/colab-badge.svg\" alt=\"Open In Colab\"/></a>"
      ]
    },
    {
      "cell_type": "markdown",
      "id": "1331faa1",
      "metadata": {
        "id": "1331faa1"
      },
      "source": [
        "*Think Python 3e* の印刷版および電子書籍版は、[Bookshop.org](https://bookshop.org/a/98697/9781098155438) および [Amazon](https://www.amazon.com/_/dp/1098155432?smid=ATVPDKIKX0DER&_encoding=UTF8&tag=oreilly20-20&_encoding=UTF8&tag=greenteapre01-20&linkCode=ur2&linkId=e2a529f94920295d27ec8a06e757dc7c&camp=1789&creative=9325) から注文できます。"
      ]
    },
    {
      "cell_type": "code",
      "execution_count": null,
      "id": "103cbe3c",
      "metadata": {
        "tags": [],
        "id": "103cbe3c"
      },
      "outputs": [],
      "source": [
        "from os.path import basename, exists\n",
        "\n",
        "def download(url):\n",
        "    filename = basename(url)\n",
        "    if not exists(filename):\n",
        "        from urllib.request import urlretrieve\n",
        "\n",
        "        local, _ = urlretrieve(url, filename)\n",
        "        print(\"Downloaded \" + str(local))\n",
        "    return filename\n",
        "\n",
        "download('https://github.com/AllenDowney/ThinkPython/raw/v3/thinkpython.py');\n",
        "download('https://github.com/AllenDowney/ThinkPython/raw/v3/diagram.py');\n",
        "\n",
        "import thinkpython"
      ]
    },
    {
      "cell_type": "markdown",
      "id": "6bd858a8",
      "metadata": {
        "id": "6bd858a8"
      },
      "source": [
        "# 関数\n",
        "\n",
        "前章では、Pythonが提供する `int` や `float`、また `math` モジュールが提供する `sqrt` や `pow` などのいくつかの関数を使用しました。\n",
        "この章では、独自の関数を作成して実行する方法を学びます。\n",
        "そして、一つの関数が別の関数を呼び出す方法も見ていきます。\n",
        "例として、モンティ・パイソンの歌の歌詞を表示します。\n",
        "これらの愉快な例は重要な特徴を示しています -- 自分自身で関数を書く能力はプログラミングの基礎です。\n",
        "\n",
        "この章では、計算を繰り返すために使用される新しいステートメントである `for` ループも紹介します。"
      ]
    },
    {
      "cell_type": "markdown",
      "id": "b4ea99c5",
      "metadata": {
        "id": "b4ea99c5"
      },
      "source": [
        "## 新しい関数を定義する\n",
        "\n",
        "**関数定義**は、新しい関数の名前とその関数が呼び出されたときに実行される一連の文を指定するものです。以下に例を示します。"
      ]
    },
    {
      "cell_type": "code",
      "execution_count": null,
      "id": "d28f5c1a",
      "metadata": {
        "id": "d28f5c1a"
      },
      "outputs": [],
      "source": [
        "def print_lyrics():\n",
        "    print(\"I'm a lumberjack, and I'm okay.\")\n",
        "    print(\"I sleep all night and I work all day.\")"
      ]
    },
    {
      "cell_type": "markdown",
      "id": "0174fc41",
      "metadata": {
        "id": "0174fc41"
      },
      "source": [
        "`def` は、これは関数定義であることを示すキーワードです。 関数の名前は `print_lyrics` です。 変数名として合法的なものはすべて、関数名としても合法です。\n",
        "\n",
        "名前の後に続く空の括弧は、この関数が引数を取らないことを示しています。\n",
        "\n",
        "関数定義の最初の行は**ヘッダー**と呼ばれ、それ以外の部分は**ボディ**と呼ばれます。 ヘッダーはコロンで終わる必要があり、ボディはインデントされる必要があります。 慣習として、インデントは常に4つのスペースです。 この関数のボディは2つのprint文ですが、一般に、関数のボディにはあらゆる種類の文を任意の数含めることができます。\n",
        "\n",
        "関数を定義すると、**関数オブジェクト**が作成されます。これは次のように表示できます。"
      ]
    },
    {
      "cell_type": "code",
      "execution_count": null,
      "id": "2850a402",
      "metadata": {
        "id": "2850a402"
      },
      "outputs": [],
      "source": [
        "print_lyrics"
      ]
    },
    {
      "cell_type": "markdown",
      "id": "12bd0879",
      "metadata": {
        "id": "12bd0879"
      },
      "source": [
        "出力は、`print_lyrics`が引数を取らない関数であることを示しています。\n",
        "`__main__`は`print_lyrics`を含むモジュールの名前です。\n",
        "\n",
        "関数を定義したので、組み込み関数を呼び出すのと同じ方法で呼び出すことができます。"
      ]
    },
    {
      "cell_type": "code",
      "execution_count": null,
      "id": "9a048657",
      "metadata": {
        "id": "9a048657"
      },
      "outputs": [],
      "source": [
        "print_lyrics()"
      ]
    },
    {
      "cell_type": "markdown",
      "id": "8f0fc45d",
      "metadata": {
        "id": "8f0fc45d"
      },
      "source": [
        "関数が実行されると、ボディ内のステートメントが実行され、「The Lumberjack Song」の最初の2行が表示されます。"
      ]
    },
    {
      "cell_type": "markdown",
      "id": "6d35193e",
      "metadata": {
        "id": "6d35193e"
      },
      "source": [
        "## パラメータ\n",
        "\n",
        "いくつかの関数は引数を必要とします。例えば、`abs`を呼び出すときは数値を引数として渡します。\n",
        "一部の関数は複数の引数を取ります。例えば、`math.pow`は2つの引数、ベースと指数を取ります。\n",
        "\n",
        "ここに、引数を取る関数の定義があります。"
      ]
    },
    {
      "cell_type": "code",
      "execution_count": null,
      "id": "e5d00488",
      "metadata": {
        "id": "e5d00488"
      },
      "outputs": [],
      "source": [
        "def print_twice(string):\n",
        "    print(string)\n",
        "    print(string)"
      ]
    },
    {
      "cell_type": "markdown",
      "id": "1716e3dc",
      "metadata": {
        "id": "1716e3dc"
      },
      "source": [
        "括弧内の変数名は**パラメータ**です。  \n",
        "関数が呼び出されると、引数の値がパラメータに割り当てられます。  \n",
        "例えば、`print_twice`を以下のように呼び出すことができます。"
      ]
    },
    {
      "cell_type": "code",
      "execution_count": null,
      "id": "a3ad5f46",
      "metadata": {
        "id": "a3ad5f46"
      },
      "outputs": [],
      "source": [
        "print_twice('Dennis Moore, ')"
      ]
    },
    {
      "cell_type": "markdown",
      "id": "f02be6d2",
      "metadata": {
        "id": "f02be6d2"
      },
      "source": [
        "この関数を実行すると、引数をパラメータに代入し、その後に関数の本体を実行するのと同じ効果があります。このように。"
      ]
    },
    {
      "cell_type": "code",
      "execution_count": null,
      "id": "042dfec1",
      "metadata": {
        "id": "042dfec1"
      },
      "outputs": [],
      "source": [
        "string = 'Dennis Moore, '\n",
        "print(string)\n",
        "print(string)"
      ]
    },
    {
      "cell_type": "markdown",
      "id": "ea8b8b6e",
      "metadata": {
        "id": "ea8b8b6e"
      },
      "source": [
        "変数を引数として使用することもできます。"
      ]
    },
    {
      "cell_type": "code",
      "execution_count": null,
      "id": "8f078ad0",
      "metadata": {
        "id": "8f078ad0"
      },
      "outputs": [],
      "source": [
        "line = 'Dennis Moore, '\n",
        "print_twice(line)"
      ]
    },
    {
      "cell_type": "markdown",
      "id": "5c1884ad",
      "metadata": {
        "id": "5c1884ad"
      },
      "source": [
        "この例では、パラメータ`string`に`line`の値が割り当てられます。"
      ]
    },
    {
      "cell_type": "markdown",
      "id": "a3e5a790",
      "metadata": {
        "id": "a3e5a790"
      },
      "source": [
        "## 関数の呼び出し\n",
        "\n",
        "関数を定義した後は、別の関数の中でそれを使用することができます。\n",
        "これを示すため、\"The Spam Song\"（<https://www.songfacts.com/lyrics/monty-python/the-spam-song>）の歌詞を出力する関数を書きます。\n",
        "\n",
        "> Spam, Spam, Spam, Spam,  \n",
        "> Spam, Spam, Spam, Spam,  \n",
        "> Spam, Spam,  \n",
        "> (Lovely Spam, Wonderful Spam!)  \n",
        "> Spam, Spam,\n",
        "\n",
        "次の関数から始め、2つのパラメータを取ります。"
      ]
    },
    {
      "cell_type": "code",
      "execution_count": null,
      "id": "e86bb32c",
      "metadata": {
        "id": "e86bb32c"
      },
      "outputs": [],
      "source": [
        "def repeat(word, n):\n",
        "    print(word * n)"
      ]
    },
    {
      "cell_type": "markdown",
      "id": "bdd4daa4",
      "metadata": {
        "id": "bdd4daa4"
      },
      "source": [
        "この関数を使って、次のように曲の最初の行を印刷できます。"
      ]
    },
    {
      "cell_type": "code",
      "execution_count": null,
      "id": "ec117999",
      "metadata": {
        "id": "ec117999"
      },
      "outputs": [],
      "source": [
        "spam = 'Spam, '\n",
        "repeat(spam, 4)"
      ]
    },
    {
      "cell_type": "markdown",
      "id": "c6f81e09",
      "metadata": {
        "id": "c6f81e09"
      },
      "source": [
        "最初の2行を表示するために、新しい関数を定義し、`repeat`を使用することができます。"
      ]
    },
    {
      "cell_type": "code",
      "execution_count": null,
      "id": "3731ffd8",
      "metadata": {
        "id": "3731ffd8"
      },
      "outputs": [],
      "source": [
        "def first_two_lines():\n",
        "    repeat(spam, 4)\n",
        "    repeat(spam, 4)"
      ]
    },
    {
      "cell_type": "markdown",
      "id": "8058ffe4",
      "metadata": {
        "id": "8058ffe4"
      },
      "source": [
        "そして、このように呼び出します。"
      ]
    },
    {
      "cell_type": "code",
      "execution_count": null,
      "id": "6792e63b",
      "metadata": {
        "id": "6792e63b"
      },
      "outputs": [],
      "source": [
        "first_two_lines()"
      ]
    },
    {
      "cell_type": "markdown",
      "id": "07ca432a",
      "metadata": {
        "id": "07ca432a"
      },
      "source": [
        "最後の3行を表示するために、`repeat` を使用する別の関数を定義することができます。"
      ]
    },
    {
      "cell_type": "code",
      "execution_count": null,
      "id": "2dcb020a",
      "metadata": {
        "id": "2dcb020a"
      },
      "outputs": [],
      "source": [
        "def last_three_lines():\n",
        "    repeat(spam, 2)\n",
        "    print('(Lovely Spam, Wonderful Spam!)')\n",
        "    repeat(spam, 2)"
      ]
    },
    {
      "cell_type": "code",
      "execution_count": null,
      "id": "9ff8c60e",
      "metadata": {
        "id": "9ff8c60e"
      },
      "outputs": [],
      "source": [
        "last_three_lines()"
      ]
    },
    {
      "cell_type": "markdown",
      "id": "d6456a19",
      "metadata": {
        "id": "d6456a19"
      },
      "source": [
        "最後に、1つの関数で全てをまとめて、完全な詩を表示することができます。"
      ]
    },
    {
      "cell_type": "code",
      "execution_count": null,
      "id": "78bf3a7b",
      "metadata": {
        "id": "78bf3a7b"
      },
      "outputs": [],
      "source": [
        "def print_verse():\n",
        "    first_two_lines()\n",
        "    last_three_lines()"
      ]
    },
    {
      "cell_type": "code",
      "execution_count": null,
      "id": "ba5da431",
      "metadata": {
        "id": "ba5da431"
      },
      "outputs": [],
      "source": [
        "print_verse()"
      ]
    },
    {
      "cell_type": "markdown",
      "id": "d088fe68",
      "metadata": {
        "id": "d088fe68"
      },
      "source": [
        "`print_verse`を実行すると、`first_two_lines`が呼び出され、それが`repeat`を呼び出し、さらに`print`が呼び出されます。たくさんの関数がありますね。\n",
        "\n",
        "もちろん、少ない関数で同じことを達成することも可能ですが、この例のポイントは、関数がどのように協力して動作できるかを示すことにあります。"
      ]
    },
    {
      "cell_type": "markdown",
      "id": "c3b16e3f",
      "metadata": {
        "id": "c3b16e3f"
      },
      "source": [
        "## 繰り返し\n",
        "\n",
        "複数の詩を表示したい場合は、`for`文を使用することができます。\n",
        "以下はその簡単な例です。"
      ]
    },
    {
      "cell_type": "code",
      "execution_count": null,
      "id": "29b7eff3",
      "metadata": {
        "id": "29b7eff3"
      },
      "outputs": [],
      "source": [
        "for i in range(2):\n",
        "    print(i)"
      ]
    },
    {
      "cell_type": "markdown",
      "id": "bf320549",
      "metadata": {
        "id": "bf320549"
      },
      "source": [
        "ヘッダー行はコロンで終わるタイトルです。  \n",
        "本文はインデントする必要があります。\n",
        "\n",
        "ヘッダーはキーワード `for`、新しい変数 `i`、そしてもう一つのキーワード `in` で始まります。\n",
        "`range` 関数を使って 2 つの値、`0` と `1` のシーケンスを作ります。\n",
        "Pythonでは、数え始めるとき通常 `0` から始めます。\n",
        "\n",
        "`for` 文が実行されると、`range` の最初の値が `i` に代入され、次に本文で `print` 関数が実行され、`0` が表示されます。\n",
        "\n",
        "本文の終わりに到達すると、ヘッダーに戻って繰り返します。このため、この文は**ループ**と呼ばれます。\n",
        "ループの2回目では、`range` の次の値が `i` に代入され、それが表示されます。\n",
        "それで `range` の最後の値になるため、ループは終了します。\n",
        "\n",
        "これが `for` ループを使って、その歌の2つの節を表示する方法です。"
      ]
    },
    {
      "cell_type": "code",
      "execution_count": null,
      "id": "038ad592",
      "metadata": {
        "id": "038ad592"
      },
      "outputs": [],
      "source": [
        "for i in range(2):\n",
        "    print(\"Verse\", i)\n",
        "    print_verse()\n",
        "    print()"
      ]
    },
    {
      "cell_type": "markdown",
      "id": "88a46733",
      "metadata": {
        "id": "88a46733"
      },
      "source": [
        "`for`ループを関数の中に組み込むことができます。たとえば、`print_n_verses`という関数は、`n`という名前のパラメータを取り、それは整数でなければならず、指定された数の詩を表示します。"
      ]
    },
    {
      "cell_type": "code",
      "execution_count": null,
      "id": "8887637a",
      "metadata": {
        "id": "8887637a"
      },
      "outputs": [],
      "source": [
        "def print_n_verses(n):\n",
        "    for i in range(n):\n",
        "        print_verse()\n",
        "        print()"
      ]
    },
    {
      "cell_type": "markdown",
      "id": "ad8060fe",
      "metadata": {
        "id": "ad8060fe"
      },
      "source": [
        "この例では、ループの本体で `i` を使用しませんが、ヘッダーには変数名が必要です。"
      ]
    },
    {
      "cell_type": "markdown",
      "id": "b320ec90",
      "metadata": {
        "id": "b320ec90"
      },
      "source": [
        "## 変数とパラメータはローカル\n",
        "\n",
        "関数内で変数を作成すると、それは**ローカル**になります。つまり、その変数は関数内でのみ存在します。たとえば、次の関数は2つの引数を取り、それらを連結し、結果を2回出力します。"
      ]
    },
    {
      "cell_type": "code",
      "execution_count": null,
      "id": "0db8408e",
      "metadata": {
        "id": "0db8408e"
      },
      "outputs": [],
      "source": [
        "def cat_twice(part1, part2):\n",
        "    cat = part1 + part2\n",
        "    print_twice(cat)"
      ]
    },
    {
      "cell_type": "markdown",
      "id": "3a35a6d0",
      "metadata": {
        "id": "3a35a6d0"
      },
      "source": [
        "こちらがそれを使用した例です。"
      ]
    },
    {
      "cell_type": "code",
      "execution_count": null,
      "id": "1c556e48",
      "metadata": {
        "id": "1c556e48"
      },
      "outputs": [],
      "source": [
        "line1 = 'Always look on the '\n",
        "line2 = 'bright side of life.'\n",
        "cat_twice(line1, line2)"
      ]
    },
    {
      "cell_type": "markdown",
      "id": "4ab4e008",
      "metadata": {
        "id": "4ab4e008"
      },
      "source": [
        "`cat_twice`が実行されると、`cat`という名前のローカル変数が作成されます。この変数は、関数が終了すると破棄されます。そのため、この変数を表示しようとすると、`NameError`が発生します。"
      ]
    },
    {
      "cell_type": "code",
      "execution_count": null,
      "id": "73f03eea",
      "metadata": {
        "tags": [],
        "id": "73f03eea"
      },
      "outputs": [],
      "source": [
        "%%expect NameError\n",
        "\n",
        "print(cat)"
      ]
    },
    {
      "cell_type": "markdown",
      "id": "3ae36c29",
      "metadata": {
        "id": "3ae36c29"
      },
      "source": [
        "関数の外では、`cat`は定義されていません。\n",
        "\n",
        "パラメータもローカルです。\n",
        "例えば、`cat_twice`の外では、`part1`や`part2`といったものは存在しません。"
      ]
    },
    {
      "cell_type": "markdown",
      "id": "eabac8a6",
      "metadata": {
        "id": "eabac8a6"
      },
      "source": [
        "## スタック図\n",
        "\n",
        "どの変数がどこで使用できるかを把握するために、**スタック図**を描くことが有用な場合があります。状態図と同様に、スタック図は各変数の値を示しますが、それに加えて各変数がどの関数に属しているかも示します。\n",
        "\n",
        "各関数は**フレーム**で表されます。フレームは、関数の名前が外側に書かれ、中にはその関数のパラメータとローカル変数が記載されたボックスです。\n",
        "\n",
        "以下は前回の例のためのスタック図です。"
      ]
    },
    {
      "cell_type": "code",
      "execution_count": null,
      "id": "83df4e32",
      "metadata": {
        "tags": [],
        "id": "83df4e32"
      },
      "outputs": [],
      "source": [
        "from diagram import make_frame, Stack\n",
        "\n",
        "d1 = dict(line1=line1, line2=line2)\n",
        "frame1 = make_frame(d1, name='__main__', dy=-0.3, loc='left')\n",
        "\n",
        "d2 = dict(part1=line1, part2=line2, cat=line1+line2)\n",
        "frame2 = make_frame(d2, name='cat_twice', dy=-0.3,\n",
        "                    offsetx=0.03, loc='left')\n",
        "\n",
        "d3 = dict(string=line1+line2)\n",
        "frame3 = make_frame(d3, name='print_twice',\n",
        "                    offsetx=0.04, offsety=-0.3, loc='left')\n",
        "\n",
        "d4 = {\"?\": line1+line2}\n",
        "frame4 = make_frame(d4, name='print',\n",
        "                    offsetx=-0.22, offsety=0, loc='left')\n",
        "\n",
        "stack = Stack([frame1, frame2, frame3, frame4], dy=-0.8)"
      ]
    },
    {
      "cell_type": "code",
      "execution_count": null,
      "id": "bcd5e1df",
      "metadata": {
        "tags": [],
        "id": "bcd5e1df"
      },
      "outputs": [],
      "source": [
        "from diagram import diagram, adjust\n",
        "\n",
        "\n",
        "width, height, x, y = [3.77, 2.9, 1.1, 2.65]\n",
        "ax = diagram(width, height)\n",
        "bbox = stack.draw(ax, x, y)\n",
        "# adjust(x, y, bbox)\n",
        "\n",
        "import matplotlib.pyplot as plt\n",
        "plt.savefig('chap03_stack_diagram.png', dpi=300)"
      ]
    },
    {
      "cell_type": "markdown",
      "id": "854fee12",
      "metadata": {
        "id": "854fee12"
      },
      "source": [
        "フレームは、一つの関数がどの関数を呼び出したかを示すスタックとして配置されています。下から読むと、`print`が`print_twice`によって呼び出され、`print_twice`は`cat_twice`によって呼び出され、`cat_twice`は`__main__`によって呼び出されています。`__main__`は最上位のフレームの特別な名前です。\n",
        "\n",
        "どの関数の外にも変数を作成すると、それは`__main__`に属します。\n",
        "\n",
        "`print`のフレームでは、疑問符がパラメータの名前が不明であることを示しています。もし気になるのなら、バーチャルアシスタントに「Pythonのprint関数のパラメータは何ですか？」と尋ねてみてください。"
      ]
    },
    {
      "cell_type": "markdown",
      "id": "5690cfc0",
      "metadata": {
        "id": "5690cfc0"
      },
      "source": [
        "## トレースバック\n",
        "\n",
        "関数でランタイムエラーが発生すると、Pythonは実行中の関数名、その関数を呼び出した関数名など、スタックの上にある情報を表示します。例を見てみるために、エラーを含む `print_twice` のバージョンを定義します。このバージョンは、他の関数のローカル変数である `cat` を表示しようとします。"
      ]
    },
    {
      "cell_type": "code",
      "execution_count": null,
      "id": "886519cf",
      "metadata": {
        "id": "886519cf"
      },
      "outputs": [],
      "source": [
        "def print_twice(string):\n",
        "    print(cat)            # NameError\n",
        "    print(cat)"
      ]
    },
    {
      "cell_type": "markdown",
      "id": "d7c0713b",
      "metadata": {
        "id": "d7c0713b"
      },
      "source": [
        "`cat_twice`を実行するとどうなるか見てみましょう。"
      ]
    },
    {
      "cell_type": "code",
      "execution_count": null,
      "id": "1fe8ee82",
      "metadata": {
        "tags": [],
        "id": "1fe8ee82"
      },
      "outputs": [],
      "source": [
        "# This cell tells Jupyter to provide detailed debugging information\n",
        "# when a runtime error occurs, including a traceback.\n",
        "\n",
        "%xmode Verbose"
      ]
    },
    {
      "cell_type": "code",
      "execution_count": null,
      "id": "d9082f88",
      "metadata": {
        "tags": [],
        "id": "d9082f88"
      },
      "outputs": [],
      "source": [
        "%%expect NameError\n",
        "\n",
        "cat_twice(line1, line2)"
      ]
    },
    {
      "cell_type": "markdown",
      "id": "2f4defcf",
      "metadata": {
        "id": "2f4defcf"
      },
      "source": [
        "エラーメッセージには**トレースバック**が含まれており、エラーが発生したときに実行されていた関数、それを呼び出した関数などが示されています。この例では、`cat_twice`が`print_twice`を呼び出し、エラーが`print_twice`内で発生したことが示されています。\n",
        "\n",
        "トレースバックの中の関数の順序は、スタック図の枠の順序と同じです。実行中だった関数は一番下にあります。"
      ]
    },
    {
      "cell_type": "markdown",
      "id": "374b4696",
      "metadata": {
        "id": "374b4696"
      },
      "source": [
        "## なぜ関数が必要か？\n",
        "\n",
        "なぜプログラムを関数に分ける必要があるのか、まだはっきりしないかもしれません。いくつかの理由があります。\n",
        "\n",
        "- 新しい関数を作成することで、一連の文に名前を付ける機会が得られ、プログラムが読みやすく、デバッグしやすくなります。\n",
        "\n",
        "- 関数を使用することで、繰り返しのコードを排除し、プログラムを小さくすることができます。後で変更を加える必要がある場合も、一箇所だけで済みます。\n",
        "\n",
        "- 長いプログラムを関数に分割すると、部分ごとにデバッグができ、それらを組み合わせることで全体を動作させることができます。\n",
        "\n",
        "- よく設計された関数は、多くのプログラムで役立つことがよくあります。一度作成してデバッグしたら、再利用することができます。"
      ]
    },
    {
      "cell_type": "markdown",
      "id": "c6dd486e",
      "metadata": {
        "id": "c6dd486e"
      },
      "source": [
        "## デバッグ\n",
        "\n",
        "デバッグは苛立たしいものですが、挑戦的で興味深く、時には面白いこともあります。\n",
        "そして、それは習得すべき最も重要なスキルの一つです。\n",
        "\n",
        "デバッグはある意味で探偵の仕事に似ています。\n",
        "ヒントが与えられ、それをもとに見えている結果に至るまでの出来事を推測しなければなりません。\n",
        "\n",
        "デバッグはまた、実験的な科学にも似ています。\n",
        "何が間違っているのかについての考えが固まったら、プログラムを修正して再度試します。\n",
        "仮説が正しければ、変更の結果を予測することができ、動作するプログラムに一歩近づくことができます。\n",
        "仮説が間違っていた場合は、新しい仮説を考え出す必要があります。\n",
        "\n",
        "中には、プログラミングとデバッグが同じものだと考える人もいます。つまり、プログラミングとは、プログラムが望む通りに動作するようになるまで、徐々にデバッグを行うプロセスだということです。\n",
        "この考え方は、動作するプログラムから始めて、小さな変更を行いながらそれをデバッグしていくべきだというものです。\n",
        "\n",
        "もし自分がデバッグに多くの時間を費やしていることに気付いたら、それはテストを始める前に多くのコードを書きすぎているサインであることが多いです。\n",
        "もっと小さなステップをとることで、より速く進むことができるかもしれません。"
      ]
    },
    {
      "cell_type": "markdown",
      "id": "d4e95e63",
      "metadata": {
        "id": "d4e95e63"
      },
      "source": [
        "## 用語集\n",
        "\n",
        "**関数定義:**\n",
        "関数を作成する文。\n",
        "\n",
        "**ヘッダー:**\n",
        "関数定義の最初の行。\n",
        "\n",
        "**ボディ:**\n",
        "関数定義内の一連の文。\n",
        "\n",
        "**関数オブジェクト:**\n",
        "関数定義によって作成される値。関数の名前は関数オブジェクトを参照する変数。\n",
        "\n",
        "**パラメータ:**\n",
        "引数として渡された値を参照するために関数内で使用される名前。\n",
        "\n",
        "**ループ:**\n",
        "1つ以上の文を実行する文で、しばしば繰り返し使用。\n",
        "\n",
        "**ローカル変数:**\n",
        "関数内で定義され、その関数内でのみアクセス可能な変数。\n",
        "\n",
        "**スタック図:**\n",
        "関数、変数、およびそれらが参照する値のスタックを図示したもの。\n",
        "\n",
        "**フレーム:**\n",
        "スタック図内で関数呼び出しを表すボックス。関数のローカル変数やパラメータを含む。\n",
        "\n",
        "**トレースバック:**\n",
        "例外が発生したときに実行中の関数をリストで表示したもの。"
      ]
    },
    {
      "cell_type": "markdown",
      "id": "eca485f2",
      "metadata": {
        "id": "eca485f2"
      },
      "source": [
        "## 練習問題"
      ]
    },
    {
      "cell_type": "code",
      "execution_count": null,
      "id": "3f77b428",
      "metadata": {
        "tags": [],
        "id": "3f77b428"
      },
      "outputs": [],
      "source": [
        "# This cell tells Jupyter to provide detailed debugging information\n",
        "# when a runtime error occurs. Run it before working on the exercises.\n",
        "\n",
        "%xmode Verbose"
      ]
    },
    {
      "cell_type": "markdown",
      "id": "82951027",
      "metadata": {
        "id": "82951027"
      },
      "source": [
        "### 仮想アシスタントに尋ねる\n",
        "\n",
        "関数や `for` ループ内の文は、慣習的に4つのスペースでインデントされます。しかし、この慣習に同意しない人もいます。この大きな議論の歴史について興味があるなら、仮想アシスタントに「Pythonのスペースとタブについて教えて」と尋ねてみてください。\n",
        "\n",
        "仮想アシスタントは小さな関数を書くのが得意です。\n",
        "\n",
        "1. お気に入りの仮想アシスタントに「文字列と整数を受け取り、その文字列を指定された回数だけ繰り返す関数repeatを書いて」とお願いしてみてください。\n",
        "\n",
        "2. 結果が `for` ループを使用している場合、「forループを使わずにできますか？」と尋ねてみてください。\n",
        "\n",
        "3. この章で紹介されている他の関数の中から1つ選び、仮想アシスタントにその関数を書いてもらってください。目標は、学んだ用語を使って、希望する結果が得られるように関数の内容を正確に説明することです。\n",
        "\n",
        "仮想アシスタントは関数のデバッグも得意です。\n",
        "\n",
        "1. この `print_twice` のバージョンに何が問題か仮想アシスタントに尋ねてみてください。\n",
        "\n",
        "    ```python\n",
        "    def print_twice(string):\n",
        "        print(cat)\n",
        "        print(cat)\n",
        "    ```\n",
        "\n",
        "そして、下記の練習問題で立ち往生した場合は、仮想アシスタントに助けを求めてみてください。"
      ]
    },
    {
      "cell_type": "markdown",
      "id": "b7157b09",
      "metadata": {
        "id": "b7157b09"
      },
      "source": [
        "```python\n",
        "def print_right(text):\n",
        "    total_length = 40\n",
        "    # Calculate the number of leading spaces\n",
        "    leading_spaces = total_length - len(text)\n",
        "    \n",
        "    # Ensure leading spaces are not negative\n",
        "    if leading_spaces < 0:\n",
        "        leading_spaces = 0\n",
        "        \n",
        "    # Create the new string with leading spaces\n",
        "    formatted_text = ' ' * leading_spaces + text\n",
        "    \n",
        "    # Print the formatted text\n",
        "    print(formatted_text)\n",
        "\n",
        "# Example usage\n",
        "print_right(\"Hello, world!\")\n",
        "```\n",
        "\n",
        "This function calculates the number of leading spaces needed by subtracting the length of the provided text from 40, which is the column position we want the text to end in. It then constructs a new string with those leading spaces and prints it."
      ]
    },
    {
      "cell_type": "code",
      "execution_count": null,
      "id": "a6004271",
      "metadata": {
        "id": "a6004271"
      },
      "outputs": [],
      "source": [
        "# Solution goes here"
      ]
    },
    {
      "cell_type": "markdown",
      "id": "428fbee5",
      "metadata": {
        "id": "428fbee5"
      },
      "source": [
        "ヒント: `len`関数、文字列の連結演算子（`+`）と文字列の繰り返し演算子（`*`）を使用してください。\n",
        "\n",
        "以下はその働きを示す例です。"
      ]
    },
    {
      "cell_type": "code",
      "execution_count": null,
      "id": "f142ce6a",
      "metadata": {
        "tags": [],
        "id": "f142ce6a"
      },
      "outputs": [],
      "source": [
        "print_right(\"Monty\")\n",
        "print_right(\"Python's\")\n",
        "print_right(\"Flying Circus\")"
      ]
    },
    {
      "cell_type": "markdown",
      "id": "b47467fa",
      "metadata": {
        "id": "b47467fa"
      },
      "source": [
        "### 演習\n",
        "\n",
        "文字列と整数を受け取る関数 `triangle` を書き、与えられた高さのピラミッドを、指定された文字列を使用して描画します。以下は、文字列 `'L'` を使用した高さ `5` のピラミッドの例です。"
      ]
    },
    {
      "cell_type": "code",
      "execution_count": null,
      "id": "7aa95014",
      "metadata": {
        "id": "7aa95014"
      },
      "outputs": [],
      "source": [
        "# Solution goes here"
      ]
    },
    {
      "cell_type": "code",
      "execution_count": null,
      "id": "b8146a0d",
      "metadata": {
        "scrolled": true,
        "tags": [],
        "id": "b8146a0d"
      },
      "outputs": [],
      "source": [
        "triangle('L', 5)"
      ]
    },
    {
      "cell_type": "markdown",
      "id": "4a28f635",
      "metadata": {
        "id": "4a28f635"
      },
      "source": [
        "### エクササイズ\n",
        "\n",
        "文字列と2つの整数を引数に取る`rectangle`という関数を作成し、与えられた幅と高さで、指定された文字列を使って長方形を描画します。以下は、文字列`'H'`を使い、幅が`5`、高さが`4`の長方形の例です。"
      ]
    },
    {
      "cell_type": "code",
      "execution_count": null,
      "id": "bcedab79",
      "metadata": {
        "id": "bcedab79"
      },
      "outputs": [],
      "source": [
        "# Solution goes here"
      ]
    },
    {
      "cell_type": "code",
      "execution_count": null,
      "id": "73b0c0f6",
      "metadata": {
        "scrolled": true,
        "tags": [],
        "id": "73b0c0f6"
      },
      "outputs": [],
      "source": [
        "rectangle('H', 5, 4)"
      ]
    },
    {
      "cell_type": "markdown",
      "id": "44a5de6f",
      "metadata": {
        "id": "44a5de6f"
      },
      "source": [
        "```python\n",
        "def bottle_verse(bottles):\n",
        "    print(f\"{bottles} bottles of beer on the wall\")\n",
        "    print(f\"{bottles} bottles of beer\")\n",
        "    print(\"Take one down, pass it around\")\n",
        "    \n",
        "    if bottles - 1 == 0:\n",
        "        print(\"No more bottles of beer on the wall\")\n",
        "    else:\n",
        "        print(f\"{bottles - 1} bottles of beer on the wall\")\n",
        "\n",
        "# Example usage\n",
        "bottle_verse(99)  # This will print the verse that starts with 99 bottles\n",
        "bottle_verse(2)   # This will print the verse that starts with 2 bottles\n",
        "```"
      ]
    },
    {
      "cell_type": "code",
      "execution_count": null,
      "id": "53424b43",
      "metadata": {
        "id": "53424b43"
      },
      "outputs": [],
      "source": [
        "# Solution goes here"
      ]
    },
    {
      "cell_type": "code",
      "execution_count": null,
      "id": "61010ffb",
      "metadata": {
        "id": "61010ffb"
      },
      "outputs": [],
      "source": [
        "# Solution goes here"
      ]
    },
    {
      "cell_type": "markdown",
      "id": "ee0076dd",
      "metadata": {
        "tags": [],
        "id": "ee0076dd"
      },
      "source": [
        "この関数呼び出しを使用して、最初の詩節を表示してください。"
      ]
    },
    {
      "cell_type": "code",
      "execution_count": null,
      "id": "47a91c7d",
      "metadata": {
        "tags": [],
        "id": "47a91c7d"
      },
      "outputs": [],
      "source": [
        "bottle_verse(99)"
      ]
    },
    {
      "cell_type": "markdown",
      "id": "42c237c6",
      "metadata": {
        "tags": [],
        "id": "42c237c6"
      },
      "source": [
        "この曲全体を出力したい場合は、この`for`ループを使うことができます。`99`から`1`までカウントダウンします。\n",
        "この例を完全に理解する必要はありません――後で`for`ループと`range`関数についてもっと学びます。"
      ]
    },
    {
      "cell_type": "code",
      "execution_count": null,
      "id": "336cdfa2",
      "metadata": {
        "tags": [],
        "id": "336cdfa2"
      },
      "outputs": [],
      "source": [
        "for n in range(99, 0, -1):\n",
        "    bottle_verse(n)\n",
        "    print()"
      ]
    },
    {
      "cell_type": "code",
      "execution_count": null,
      "id": "4b02510c",
      "metadata": {
        "id": "4b02510c"
      },
      "outputs": [],
      "source": []
    },
    {
      "cell_type": "markdown",
      "id": "a7f4edf8",
      "metadata": {
        "tags": [],
        "id": "a7f4edf8"
      },
      "source": [
        "[Think Python: 3rd Edition](https://allendowney.github.io/ThinkPython/index.html)\n",
        "\n",
        "Copyright 2024 [Allen B. Downey](https://allendowney.com)\n",
        "\n",
        "コードライセンス: [MITライセンス](https://mit-license.org/)\n",
        "\n",
        "テキストライセンス: [クリエイティブ・コモンズ 表示 - 非営利 - 継承 4.0 国際](https://creativecommons.org/licenses/by-nc-sa/4.0/)"
      ]
    }
  ],
  "metadata": {
    "celltoolbar": "Tags",
    "kernelspec": {
      "display_name": "Python 3 (ipykernel)",
      "language": "python",
      "name": "python3"
    },
    "language_info": {
      "codemirror_mode": {
        "name": "ipython",
        "version": 3
      },
      "file_extension": ".py",
      "mimetype": "text/x-python",
      "name": "python",
      "nbconvert_exporter": "python",
      "pygments_lexer": "ipython3",
      "version": "3.10.11"
    },
    "colab": {
      "provenance": [],
      "include_colab_link": true
    }
  },
  "nbformat": 4,
  "nbformat_minor": 5
}