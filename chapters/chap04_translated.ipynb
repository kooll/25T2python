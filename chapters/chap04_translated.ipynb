{
  "cells": [
    {
      "cell_type": "markdown",
      "metadata": {
        "id": "view-in-github",
        "colab_type": "text"
      },
      "source": [
        "<a href=\"https://colab.research.google.com/github/kooll/ThinkPythonJ/blob/main/chapters/chap04_translated.ipynb\" target=\"_parent\"><img src=\"https://colab.research.google.com/assets/colab-badge.svg\" alt=\"Open In Colab\"/></a>"
      ]
    },
    {
      "cell_type": "markdown",
      "id": "1331faa1",
      "metadata": {
        "id": "1331faa1"
      },
      "source": [
        "*Think Python 3e* の印刷版と電子書籍版は、[Bookshop.org](https://bookshop.org/a/98697/9781098155438) および [Amazon](https://www.amazon.com/_/dp/1098155432?smid=ATVPDKIKX0DER&_encoding=UTF8&tag=oreilly20-20&_encoding=UTF8&tag=greenteapre01-20&linkCode=ur2&linkId=e2a529f94920295d27ec8a06e757dc7c&camp=1789&creative=9325) から注文できます。"
      ]
    },
    {
      "cell_type": "code",
      "execution_count": null,
      "id": "df64b7da",
      "metadata": {
        "tags": [],
        "id": "df64b7da"
      },
      "outputs": [],
      "source": [
        "from os.path import basename, exists\n",
        "\n",
        "def download(url):\n",
        "    filename = basename(url)\n",
        "    if not exists(filename):\n",
        "        from urllib.request import urlretrieve\n",
        "\n",
        "        local, _ = urlretrieve(url, filename)\n",
        "        print(\"Downloaded \" + str(local))\n",
        "    return filename\n",
        "\n",
        "download('https://github.com/AllenDowney/ThinkPython/raw/v3/thinkpython.py');\n",
        "download('https://github.com/AllenDowney/ThinkPython/raw/v3/diagram.py');\n",
        "download('https://github.com/ramalho/jupyturtle/releases/download/2024-03/jupyturtle.py');"
      ]
    },
    {
      "cell_type": "code",
      "execution_count": null,
      "id": "320fc8bc",
      "metadata": {
        "tags": [],
        "id": "320fc8bc"
      },
      "outputs": [],
      "source": [
        "import thinkpython\n",
        "\n",
        "%load_ext autoreload\n",
        "%autoreload 2"
      ]
    },
    {
      "cell_type": "markdown",
      "id": "fbb4d5a2",
      "metadata": {
        "id": "fbb4d5a2"
      },
      "source": [
        "# 関数とインターフェース\n",
        "\n",
        "この章では、`jupyturtle`というモジュールを紹介します。これは、架空の亀に指示を与えることで簡単な描画を行うことができるモジュールです。\n",
        "このモジュールを使用して四角形、多角形、円を描画する関数を書きます。また、関数が連携して動作するように設計する方法である**インターフェース設計**も紹介します。"
      ]
    },
    {
      "cell_type": "markdown",
      "id": "0b0efa00",
      "metadata": {
        "tags": [],
        "id": "0b0efa00"
      },
      "source": [
        "ジュピタートータルモジュールを使用するには、以下のようにインポートできます。"
      ]
    },
    {
      "cell_type": "code",
      "execution_count": null,
      "id": "8f5a8a45",
      "metadata": {
        "id": "8f5a8a45"
      },
      "outputs": [],
      "source": [
        "import jupyturtle"
      ]
    },
    {
      "cell_type": "markdown",
      "id": "8c801121",
      "metadata": {
        "id": "8c801121"
      },
      "source": [
        "これで、モジュール内で定義された関数、例えば `make_turtle` や `forward` を使用できます。"
      ]
    },
    {
      "cell_type": "code",
      "execution_count": null,
      "id": "b3f255cd",
      "metadata": {
        "id": "b3f255cd"
      },
      "outputs": [],
      "source": [
        "jupyturtle.make_turtle()\n",
        "jupyturtle.forward(100)"
      ]
    },
    {
      "cell_type": "markdown",
      "id": "77a61cbb",
      "metadata": {
        "id": "77a61cbb"
      },
      "source": [
        "`turtle`ライブラリを使って、キャンバスとタートルを作成し、描画を行います。`make_turtle`は、キャンバスを作成し、その上で描画を行うタートルを設定します。タートルは円形のシェルと三角形の頭で表され、円はタートルの位置を、三角形は進行方向を示します。\n",
        "\n",
        "`forward`関数を使うと、タートルが向いている方向に指定した距離だけ移動し、その間に線を引きます。その距離は任意の単位で、実際のサイズはコンピュータの画面によって異なります。\n",
        "\n",
        "`jupyturtle`モジュールで定義された関数を頻繁に使う場合、モジュール名を毎回書かずに済むように、次のようにインポートできます。"
      ]
    },
    {
      "cell_type": "code",
      "execution_count": null,
      "id": "234fde81",
      "metadata": {
        "id": "234fde81"
      },
      "outputs": [],
      "source": [
        "from jupyturtle import make_turtle, forward"
      ]
    },
    {
      "cell_type": "markdown",
      "id": "c1322d31",
      "metadata": {
        "id": "c1322d31"
      },
      "source": [
        "このバージョンのインポート文では、`jupyturtle`モジュールから`make_turtle`と`forward`をインポートし、このように呼び出すことができます。"
      ]
    },
    {
      "cell_type": "code",
      "execution_count": null,
      "id": "1e768880",
      "metadata": {
        "id": "1e768880"
      },
      "outputs": [],
      "source": [
        "make_turtle()\n",
        "forward(100)"
      ]
    },
    {
      "cell_type": "markdown",
      "id": "bd319754",
      "metadata": {
        "id": "bd319754"
      },
      "source": [
        "`jupyturtle` は、`left` および `right` という2つの関数を提供しており、それらを使用します。\n",
        "次のようにインポートします。"
      ]
    },
    {
      "cell_type": "code",
      "execution_count": null,
      "id": "6d874b03",
      "metadata": {
        "id": "6d874b03"
      },
      "outputs": [],
      "source": [
        "from jupyturtle import left, right"
      ]
    },
    {
      "cell_type": "markdown",
      "id": "0da2a311",
      "metadata": {
        "id": "0da2a311"
      },
      "source": [
        "「left」は、タートルが左に回転するようにします。これは、回転する角度（度単位）を1つの引数として取ります。たとえば、90度左に回転するには、次のようにします。"
      ]
    },
    {
      "cell_type": "code",
      "execution_count": null,
      "id": "1bb57a0c",
      "metadata": {
        "id": "1bb57a0c"
      },
      "outputs": [],
      "source": [
        "make_turtle()\n",
        "forward(50)\n",
        "left(90)\n",
        "forward(50)"
      ]
    },
    {
      "cell_type": "markdown",
      "id": "cea2940f",
      "metadata": {
        "id": "cea2940f"
      },
      "source": [
        "このプログラムはタートルを東に、次に北に移動させ、2つの線分を残します。\n",
        "続ける前に、このプログラムを変更して正方形を描くことができるか試してみてください。"
      ]
    },
    {
      "cell_type": "markdown",
      "id": "e20ea96c",
      "metadata": {
        "id": "e20ea96c"
      },
      "source": [
        "## 正方形を作る方法\n",
        "\n",
        "正方形を作るための1つの方法はこちらです。"
      ]
    },
    {
      "cell_type": "code",
      "execution_count": null,
      "id": "9a9e455f",
      "metadata": {
        "id": "9a9e455f"
      },
      "outputs": [],
      "source": [
        "make_turtle()\n",
        "\n",
        "forward(50)\n",
        "left(90)\n",
        "\n",
        "forward(50)\n",
        "left(90)\n",
        "\n",
        "forward(50)\n",
        "left(90)\n",
        "\n",
        "forward(50)\n",
        "left(90)"
      ]
    },
    {
      "cell_type": "markdown",
      "id": "a7500957",
      "metadata": {
        "id": "a7500957"
      },
      "source": [
        "このプログラムは同じペアの行を4回繰り返すので、`for`ループを使って同じことをもっと簡潔に行うことができます。"
      ]
    },
    {
      "cell_type": "code",
      "execution_count": null,
      "id": "cc27ad66",
      "metadata": {
        "id": "cc27ad66"
      },
      "outputs": [],
      "source": [
        "make_turtle()\n",
        "for i in range(4):\n",
        "    forward(50)\n",
        "    left(90)"
      ]
    },
    {
      "cell_type": "markdown",
      "id": "c072ea41",
      "metadata": {
        "tags": [],
        "id": "c072ea41"
      },
      "source": [
        "## カプセル化と一般化\n",
        "\n",
        "前節の四角形描画コードを取り上げて、それを `square` という関数にまとめましょう。"
      ]
    },
    {
      "cell_type": "code",
      "execution_count": null,
      "id": "ad5f1128",
      "metadata": {
        "id": "ad5f1128"
      },
      "outputs": [],
      "source": [
        "def square():\n",
        "    for i in range(4):\n",
        "        forward(50)\n",
        "        left(90)"
      ]
    },
    {
      "cell_type": "markdown",
      "id": "0789b5d9",
      "metadata": {
        "id": "0789b5d9"
      },
      "source": [
        "これでこのように関数を呼び出すことができます。"
      ]
    },
    {
      "cell_type": "code",
      "execution_count": null,
      "id": "193bbe5e",
      "metadata": {
        "id": "193bbe5e"
      },
      "outputs": [],
      "source": [
        "make_turtle()\n",
        "square()"
      ]
    },
    {
      "cell_type": "markdown",
      "id": "da905fc6",
      "metadata": {
        "id": "da905fc6"
      },
      "source": [
        "コードを関数で包むことを**カプセル化**と呼びます。カプセル化の利点の一つは、コードに名前を付けることで、それが一種のドキュメントとして機能することです。また、コードを再利用する際に、2回関数を呼び出す方が本体をコピー＆ペーストするよりも簡潔であるという利点もあります。\n",
        "\n",
        "現在のバージョンでは、正方形のサイズは常に `50` です。異なるサイズの正方形を描画したい場合は、辺の長さをパラメータとして受け取ることができます。"
      ]
    },
    {
      "cell_type": "code",
      "execution_count": null,
      "id": "def8a5f1",
      "metadata": {
        "id": "def8a5f1"
      },
      "outputs": [],
      "source": [
        "def square(length):\n",
        "    for i in range(4):\n",
        "        forward(length)\n",
        "        left(90)"
      ]
    },
    {
      "cell_type": "markdown",
      "id": "397fda4b",
      "metadata": {
        "id": "397fda4b"
      },
      "source": [
        "今、異なるサイズの正方形を描くことができます。"
      ]
    },
    {
      "cell_type": "code",
      "execution_count": null,
      "id": "b283e795",
      "metadata": {
        "id": "b283e795"
      },
      "outputs": [],
      "source": [
        "make_turtle()\n",
        "square(30)\n",
        "square(60)"
      ]
    },
    {
      "cell_type": "markdown",
      "id": "5a46bf64",
      "metadata": {
        "id": "5a46bf64"
      },
      "source": [
        "関数にパラメータを追加することを**一般化**と呼びます。これにより関数はより一般的になります。以前のバージョンでは、正方形のサイズは常に同じでしたが、このバージョンでは任意のサイズにすることができます。\n",
        "\n",
        "さらに別のパラメータを追加することで、さらに一般化することができます。次の関数は指定された辺の数の正多角形を描きます。"
      ]
    },
    {
      "cell_type": "code",
      "execution_count": null,
      "id": "171974ed",
      "metadata": {
        "id": "171974ed"
      },
      "outputs": [],
      "source": [
        "def polygon(n, length):\n",
        "    angle = 360 / n\n",
        "    for i in range(n):\n",
        "        forward(length)\n",
        "        left(angle)"
      ]
    },
    {
      "cell_type": "markdown",
      "id": "286d3c77",
      "metadata": {
        "id": "286d3c77"
      },
      "source": [
        "正多角形の内部角度は \\((n-2) \\times 180 / n\\) 度ですが、外角（隣接する2辺の間の角度）は \\(360/n\\) 度です。\n",
        "\n",
        "以下の例では、辺の長さが `30` の 7 辺の多角形を描きます。"
      ]
    },
    {
      "cell_type": "code",
      "execution_count": null,
      "id": "71f7d9d2",
      "metadata": {
        "id": "71f7d9d2"
      },
      "outputs": [],
      "source": [
        "make_turtle()\n",
        "polygon(7, 30)"
      ]
    },
    {
      "cell_type": "markdown",
      "id": "dc0226db",
      "metadata": {
        "id": "dc0226db"
      },
      "source": [
        "関数が複数の数値引数を持つ場合、それらが何であるかや順序を忘れがちです。\n",
        "引数リストにパラメータの名前を含めることは良い考えかもしれません。"
      ]
    },
    {
      "cell_type": "code",
      "execution_count": null,
      "id": "8ff2a5f4",
      "metadata": {
        "tags": [],
        "id": "8ff2a5f4"
      },
      "outputs": [],
      "source": [
        "make_turtle()\n",
        "polygon(n=7, length=30)"
      ]
    },
    {
      "cell_type": "markdown",
      "id": "6aa28eba",
      "metadata": {
        "id": "6aa28eba"
      },
      "source": [
        "これらは、パラメーター名を含むため、「名前付き引数」と呼ばれることがあります。しかし、Pythonではより頻繁に**キーワード引数**と呼ばれます（`for`や`def`などのPythonキーワードと混同しないようにしてください）。\n",
        "\n",
        "この割り当て演算子`=`の使用は、引数とパラメーターの仕組みについてのリマインダーです。つまり、関数を呼び出すと、引数がパラメーターに割り当てられます。"
      ]
    },
    {
      "cell_type": "markdown",
      "id": "b10184b4",
      "metadata": {
        "id": "b10184b4"
      },
      "source": [
        "## 円の近似\n",
        "\n",
        "さて、円を描きたいとしましょう。\n",
        "これを行うには、多数の辺を持つ多角形を描くことで、辺が小さく見えないようにすれば、近似的に円を描くことができます。\n",
        "ここに、`polygon`を使って円を近似する`30`辺の多角形を描く関数があります。"
      ]
    },
    {
      "cell_type": "code",
      "execution_count": null,
      "id": "7f2a5f28",
      "metadata": {
        "id": "7f2a5f28"
      },
      "outputs": [],
      "source": [
        "import math\n",
        "\n",
        "def circle(radius):\n",
        "    circumference = 2 * math.pi * radius\n",
        "    n = 30\n",
        "    length = circumference / n\n",
        "    polygon(n, length)"
      ]
    },
    {
      "cell_type": "markdown",
      "id": "39023314",
      "metadata": {
        "id": "39023314"
      },
      "source": [
        "`circle` は、円の半径をパラメータとして受け取ります。\n",
        "この関数は、与えられた半径の円周を計算する `circumference` を求めます。\n",
        "`n` は辺の数を表し、したがって `circumference / n` は各辺の長さとなります。\n",
        "\n",
        "この関数の実行には時間がかかる可能性があります。\n",
        "実行速度を向上させるため、`make_turtle` にキーワード引数 `delay` を渡して、各ステップ後にタートルが待つ時間を秒単位で設定することができます。\n",
        "デフォルト値は `0.2` 秒ですが、`0.02` に設定すると約10倍速く実行されます。"
      ]
    },
    {
      "cell_type": "code",
      "execution_count": null,
      "id": "75258056",
      "metadata": {
        "id": "75258056"
      },
      "outputs": [],
      "source": [
        "make_turtle(delay=0.02)\n",
        "circle(30)"
      ]
    },
    {
      "cell_type": "markdown",
      "id": "701f9cf8",
      "metadata": {
        "id": "701f9cf8"
      },
      "source": [
        "このソリューションの制約は、`n` が定数であるため、非常に大きな円に対しては辺が長すぎ、小さな円に対しては非常に短い辺を描く際に時間を無駄にしてしまうことです。一つの選択肢としては、`n` をパラメータとして受け取ることで関数を一般化することができます。しかし、今はシンプルにしておきましょう。"
      ]
    },
    {
      "cell_type": "markdown",
      "id": "c48f262c",
      "metadata": {
        "id": "c48f262c"
      },
      "source": [
        "## リファクタリング\n",
        "\n",
        "それでは、`circle` のより一般的なバージョンである `arc` を作りましょう。この関数は第2引数として `angle` を受け取り、与えられた角度をまたぐ円弧を描画します。\n",
        "例えば、`angle` が `360` 度の場合、完全な円を描きます。`angle` が `180` 度の場合、半円を描きます。\n",
        "\n",
        "`circle` を書く際には、`polygon` を再利用することができました。多辺形は円の良い近似だからです。\n",
        "しかし、`arc` を書く際には `polygon` を使うことはできません。\n",
        "\n",
        "その代わりに、`polygon` のより一般的なバージョンである `polyline` を作成します。"
      ]
    },
    {
      "cell_type": "code",
      "execution_count": null,
      "id": "381edd23",
      "metadata": {
        "id": "381edd23"
      },
      "outputs": [],
      "source": [
        "def polyline(n, length, angle):\n",
        "    for i in range(n):\n",
        "        forward(length)\n",
        "        left(angle)"
      ]
    },
    {
      "cell_type": "markdown",
      "id": "c2b2503e",
      "metadata": {
        "id": "c2b2503e"
      },
      "source": [
        "`polyline`は、描画する線分の数`n`、線分の長さ`length`、および線分間の角度`angle`をパラメーターとして受け取ります。\n",
        "\n",
        "これを用いて、`polygon`を`polyline`を使用する形に書き換えることができます。"
      ]
    },
    {
      "cell_type": "code",
      "execution_count": null,
      "id": "2f4eecc0",
      "metadata": {
        "id": "2f4eecc0"
      },
      "outputs": [],
      "source": [
        "def polygon(n, length):\n",
        "    angle = 360.0 / n\n",
        "    polyline(n, length, angle)"
      ]
    },
    {
      "cell_type": "markdown",
      "id": "2714a59e",
      "metadata": {
        "id": "2714a59e"
      },
      "source": [
        "そして、`arc` を記述するために `polyline` を使用することができます。"
      ]
    },
    {
      "cell_type": "code",
      "execution_count": null,
      "id": "539466f6",
      "metadata": {
        "id": "539466f6"
      },
      "outputs": [],
      "source": [
        "def arc(radius, angle):\n",
        "    arc_length = 2 * math.pi * radius * angle / 360\n",
        "    n = 30\n",
        "    length = arc_length / n\n",
        "    step_angle = angle / n\n",
        "    polyline(n, length, step_angle)"
      ]
    },
    {
      "cell_type": "markdown",
      "id": "3c18773c",
      "metadata": {
        "id": "3c18773c"
      },
      "source": [
        "`arc`は`circle`に似ていますが、`arc_length`を計算する点が異なります。`arc_length`は円の円周の一部です。\n",
        "\n",
        "最後に、`circle`を`arc`を使うように書き換えることができます。"
      ]
    },
    {
      "cell_type": "code",
      "execution_count": null,
      "id": "8e09f456",
      "metadata": {
        "id": "8e09f456"
      },
      "outputs": [],
      "source": [
        "def circle(radius):\n",
        "    arc(radius,  360)"
      ]
    },
    {
      "cell_type": "markdown",
      "id": "313a357c",
      "metadata": {
        "id": "313a357c"
      },
      "source": [
        "これらの関数が期待通りに動作することを確認するために、それらを使ってカタツムリのようなものを描いてみます。\n",
        "`delay=0` にすると、タートルは可能な限り最速で動作します。"
      ]
    },
    {
      "cell_type": "code",
      "execution_count": null,
      "id": "80d6eadd",
      "metadata": {
        "id": "80d6eadd"
      },
      "outputs": [],
      "source": [
        "make_turtle(delay=0)\n",
        "polygon(n=20, length=9)\n",
        "arc(radius=70, angle=70)\n",
        "circle(radius=10)"
      ]
    },
    {
      "cell_type": "markdown",
      "id": "a34da3d8",
      "metadata": {
        "id": "a34da3d8"
      },
      "source": [
        "この例では、私たちは動作するコードから始め、それを異なる関数で再構成しました。このように、コードの動作を変更せずに改善する変更は、**リファクタリング**と呼ばれます。\n",
        "\n",
        "事前に計画していれば、まず`polyline`を書いてリファクタリングを避けることができたかもしれませんが、多くの場合、プロジェクトの初めの段階ではすべての関数を設計するための十分な情報がありません。コーディングを始めると、問題についてより理解が深まります。時には、リファクタリングが何かを学んだサインとなることもあります。"
      ]
    },
    {
      "cell_type": "markdown",
      "id": "d18c9d16",
      "metadata": {
        "id": "d18c9d16"
      },
      "source": [
        "## スタック図\n",
        "\n",
        "`circle`を呼び出すと、`arc`が呼び出され、その内部で`polyline`が呼び出されます。これらの関数呼び出しの連続と、各関数の引数を示すために、スタック図を使用することができます。"
      ]
    },
    {
      "cell_type": "code",
      "execution_count": null,
      "id": "1571ee71",
      "metadata": {
        "tags": [],
        "id": "1571ee71"
      },
      "outputs": [],
      "source": [
        "from diagram import make_binding, make_frame, Frame, Stack\n",
        "\n",
        "frame1 = make_frame(dict(radius=30), name='circle', loc='left')\n",
        "\n",
        "frame2 = make_frame(dict(radius=30, angle=360), name='arc', loc='left', dx=1.1)\n",
        "\n",
        "frame3 = make_frame(dict(n=60, length=3.04, angle=5.8),\n",
        "                    name='polyline', loc='left', dx=1.1, offsetx=-0.27)\n",
        "\n",
        "stack = Stack([frame1, frame2, frame3], dy=-0.4)"
      ]
    },
    {
      "cell_type": "code",
      "execution_count": null,
      "id": "f4e37360",
      "metadata": {
        "tags": [],
        "id": "f4e37360"
      },
      "outputs": [],
      "source": [
        "from diagram import diagram, adjust\n",
        "\n",
        "width, height, x, y = [3.58, 1.31, 0.98, 1.06]\n",
        "ax = diagram(width, height)\n",
        "bbox = stack.draw(ax, x, y)\n",
        "#adjust(x, y, bbox)"
      ]
    },
    {
      "cell_type": "markdown",
      "id": "3160bba1",
      "metadata": {
        "id": "3160bba1"
      },
      "source": [
        "`polyline` の `angle` の値が `arc` の `angle` の値と異なることに注意してください。  \n",
        "パラメータはローカルであるため、異なる関数で同じパラメータ名を使用することができます。それぞれの関数では異なる変数となり、異なる値を参照することができます。"
      ]
    },
    {
      "cell_type": "markdown",
      "id": "c23552d3",
      "metadata": {
        "id": "c23552d3"
      },
      "source": [
        "## 開発計画\n",
        "\n",
        "**開発計画**とは、プログラムを書くためのプロセスです。\n",
        "この章で使用したプロセスは「カプセル化と一般化」です。\n",
        "このプロセスの手順は以下の通りです：\n",
        "\n",
        "1. 関数定義を含まない小さなプログラムを書くことから始めます。\n",
        "\n",
        "2. プログラムが動作したら、その中で一貫性のある部分を見つけ、その部分を関数にカプセル化し、名前を付けます。\n",
        "\n",
        "3. 適切な引数を追加して関数を一般化します。\n",
        "\n",
        "4. ステップ1から3を繰り返し、動作する一連の関数を作成します。\n",
        "\n",
        "5. リファクタリングによってプログラムを改善する機会を探します。\n",
        "   例えば、複数の場所で似たコードがある場合、それを適切に一般化された関数にまとめることを検討します。\n",
        "\n",
        "このプロセスにはいくつかの欠点があります — 後で代替案を見ていきます — が、プログラムをどのように関数に分割するかが事前にわからない場合には便利です。\n",
        "このアプローチでは、進行しながら設計することが可能です。"
      ]
    },
    {
      "cell_type": "markdown",
      "id": "a3b6b83d",
      "metadata": {
        "id": "a3b6b83d"
      },
      "source": [
        "関数の設計には2つの部分があります。\n",
        "\n",
        "* **インターフェース**は、関数がどのように使用されるかを示すもので、関数名、受け取るパラメータ、そして関数が行うべきことが含まれます。\n",
        "\n",
        "* **実装**は、関数がその目的をどのように達成するかを示すものです。\n",
        "\n",
        "例えば、`polygon`を使用して書いた`circle`の最初のバージョンを以下に示します。"
      ]
    },
    {
      "cell_type": "code",
      "execution_count": null,
      "id": "baf964ba",
      "metadata": {
        "id": "baf964ba"
      },
      "outputs": [],
      "source": [
        "def circle(radius):\n",
        "    circumference = 2 * math.pi * radius\n",
        "    n = 30\n",
        "    length = circumference / n\n",
        "    polygon(n, length)"
      ]
    },
    {
      "cell_type": "markdown",
      "id": "5d3d2e79",
      "metadata": {
        "id": "5d3d2e79"
      },
      "source": [
        "そして、こちらが `arc` を使用したリファクタリング版です。"
      ]
    },
    {
      "cell_type": "code",
      "execution_count": null,
      "id": "e2e006d5",
      "metadata": {
        "id": "e2e006d5"
      },
      "outputs": [],
      "source": [
        "def circle(radius):\n",
        "    arc(radius,  360)"
      ]
    },
    {
      "cell_type": "markdown",
      "id": "b726f72c",
      "metadata": {
        "id": "b726f72c"
      },
      "source": [
        "これらの2つの関数は同じインターフェースを持っています。同じパラメータを取り、同じことを行いますが、実装が異なります。"
      ]
    },
    {
      "cell_type": "markdown",
      "id": "3e3bae20",
      "metadata": {
        "tags": [],
        "id": "3e3bae20"
      },
      "source": [
        "## ドックストリング\n",
        "\n",
        "**ドックストリング**は、関数の冒頭にある文字列で、そのインターフェースを説明します（「ドック」は「ドキュメント」の略です）。\n",
        "こちらがその例です："
      ]
    },
    {
      "cell_type": "code",
      "execution_count": null,
      "id": "b68f3682",
      "metadata": {
        "id": "b68f3682"
      },
      "outputs": [],
      "source": [
        "def polyline(n, length, angle):\n",
        "    \"\"\"Draws line segments with the given length and angle between them.\n",
        "\n",
        "    n: integer number of line segments\n",
        "    length: length of the line segments\n",
        "    angle: angle between segments (in degrees)\n",
        "    \"\"\"\n",
        "    for i in range(n):\n",
        "        forward(length)\n",
        "        left(angle)"
      ]
    },
    {
      "cell_type": "markdown",
      "id": "55b60cbc",
      "metadata": {
        "id": "55b60cbc"
      },
      "source": [
        "慣例として、ドックストリングはトリプルクォートで囲まれた文字列、つまり**複数行の文字列**です。トリプルクォートを使用すると、文字列が複数行にわたることができます。\n",
        "\n",
        "ドックストリングは次のことをすべきです：\n",
        "\n",
        "* 関数が何をするのかを簡潔に説明し、その仕組みの詳細には触れない、\n",
        "\n",
        "* 各パラメーターが関数の動作にどのような影響を与えるのかを説明する、\n",
        "\n",
        "* パラメーターのタイプが明白でない場合は、それが何であるべきかを示す。\n",
        "\n",
        "この種のドキュメントを書くことはインターフェース設計の重要な部分です。よく設計されたインターフェースは説明が簡単であるべきです。もし関数の説明が難しい場合は、そのインターフェースを改善する必要があるかもしれません。"
      ]
    },
    {
      "cell_type": "markdown",
      "id": "f1115940",
      "metadata": {
        "id": "f1115940"
      },
      "source": [
        "## デバッグ\n",
        "\n",
        "インターフェースは、関数と呼び出し元の間の契約のようなものです。呼び出し元は特定の引数を提供し、関数は特定の作業を行うことを約束します。\n",
        "\n",
        "例えば、`polyline` は3つの引数を必要とします。`n` は整数でなければならず、`length` は正の数であるべきであり、`angle` は数値であり、度単位であると理解されています。\n",
        "\n",
        "これらの要件は、関数が実行を開始する前に真であるとされるため、**前提条件** と呼ばれます。逆に、関数の終わりでの条件は **後条件** です。後条件には、関数の意図された効果（例えば、線分を描画すること）や副作用（例えば、タートルを動かしたり、他の変更を加えたりすること）が含まれます。\n",
        "\n",
        "前提条件は呼び出し元の責任です。もし呼び出し元が前提条件を破り、関数が正しく動作しなかった場合、バグは関数ではなく呼び出し元にあります。\n",
        "\n",
        "前提条件が満たされていて後条件が満たされていない場合、バグは関数にあります。前提条件と後条件が明確であれば、デバッグの助けになります。"
      ]
    },
    {
      "cell_type": "markdown",
      "id": "a4d33a70",
      "metadata": {
        "id": "a4d33a70"
      },
      "source": [
        "## 用語集\n",
        "\n",
        "**インターフェースデザイン:**\n",
        "関数のインターフェースを設計するプロセスで、受け取るべきパラメータを含む。\n",
        "\n",
        "**キャンバス:**\n",
        "グラフィカル要素（線、円、矩形、その他の形状）を表示するために使用されるウィンドウ。\n",
        "\n",
        "**カプセル化:**\n",
        "一連の文を関数定義に変換するプロセス。\n",
        "\n",
        "**一般化:**\n",
        "不必要に特定のもの（例えば数値）を、適切に一般化したもの（変数やパラメータ）に置き換えるプロセス。\n",
        "\n",
        "**キーワード引数:**\n",
        "パラメータの名前を含む引数。\n",
        "\n",
        "**リファクタリング:**\n",
        "動作しているプログラムを修正して、関数のインターフェースやコードの他の品質を向上させるプロセス。\n",
        "\n",
        "**開発計画:**\n",
        "プログラムを書くためのプロセス。\n",
        "\n",
        "**ドックストリング:**\n",
        "関数定義の先頭に現れて、そのインターフェースを文書化する文字列。\n",
        "\n",
        "**複数行文字列:**\n",
        "3重引用符で囲まれ、プログラムの複数行にわたることができる文字列。\n",
        "\n",
        "**事前条件:**\n",
        "関数が開始する前に呼び出し側が満たしておくべき要件。\n",
        "\n",
        "**事後条件:**\n",
        "関数が終了する前に満たすべき要件。"
      ]
    },
    {
      "cell_type": "markdown",
      "id": "0bfe2e19",
      "metadata": {
        "id": "0bfe2e19"
      },
      "source": [
        "## 練習問題"
      ]
    },
    {
      "cell_type": "code",
      "execution_count": null,
      "id": "9f94061e",
      "metadata": {
        "tags": [],
        "id": "9f94061e"
      },
      "outputs": [],
      "source": [
        "# This cell tells Jupyter to provide detailed debugging information\n",
        "# when a runtime error occurs. Run it before working on the exercises.\n",
        "\n",
        "%xmode Verbose"
      ]
    },
    {
      "cell_type": "markdown",
      "id": "50ed5c38",
      "metadata": {
        "id": "50ed5c38"
      },
      "source": [
        "以下の練習問題では、いくつかのタートル関数が役に立つかもしれません。\n",
        "\n",
        "* `penup`はタートルの仮想ペンを持ち上げて、移動中に跡が残らないようにします。\n",
        "\n",
        "* `pendown`はペンを再び下ろします。\n",
        "\n",
        "次の関数は、`penup`と`pendown`を使用して、跡を残さずにタートルを移動させます。"
      ]
    },
    {
      "cell_type": "code",
      "execution_count": null,
      "id": "6f9a0106",
      "metadata": {
        "id": "6f9a0106"
      },
      "outputs": [],
      "source": [
        "from jupyturtle import penup, pendown\n",
        "\n",
        "def jump(length):\n",
        "    \"\"\"Move forward length units without leaving a trail.\n",
        "\n",
        "    Postcondition: Leaves the pen down.\n",
        "    \"\"\"\n",
        "    penup()\n",
        "    forward(length)\n",
        "    pendown()"
      ]
    },
    {
      "cell_type": "markdown",
      "id": "c78c1e17",
      "metadata": {
        "id": "c78c1e17"
      },
      "source": [
        "### 演習\n",
        "\n",
        "与えられた辺の長さで長方形を描く関数 `rectangle` を書いてください。例えば、幅が `80` 単位で高さが `40` 単位の長方形は次の通りです。"
      ]
    },
    {
      "cell_type": "code",
      "execution_count": null,
      "id": "c54ba660",
      "metadata": {
        "id": "c54ba660"
      },
      "outputs": [],
      "source": [
        "# Solution goes here"
      ]
    },
    {
      "cell_type": "markdown",
      "id": "4b05078c",
      "metadata": {
        "tags": [],
        "id": "4b05078c"
      },
      "source": [
        "次のコードを使用して関数をテストできます。"
      ]
    },
    {
      "cell_type": "code",
      "execution_count": null,
      "id": "1311ee08",
      "metadata": {
        "tags": [],
        "id": "1311ee08"
      },
      "outputs": [],
      "source": [
        "make_turtle()\n",
        "rectangle(80, 40)"
      ]
    },
    {
      "cell_type": "markdown",
      "id": "8b8faaf6",
      "metadata": {
        "id": "8b8faaf6"
      },
      "source": [
        "### 演習\n",
        "\n",
        "`rhombus`という名前の関数を作成し、与えられた辺の長さと内部角度で菱形を描画します。例えば、辺の長さが`50`で、内部の角度が`60`度の菱形は次のようになります。"
      ]
    },
    {
      "cell_type": "code",
      "execution_count": null,
      "id": "3db6f106",
      "metadata": {
        "id": "3db6f106"
      },
      "outputs": [],
      "source": [
        "# Solution goes here"
      ]
    },
    {
      "cell_type": "markdown",
      "id": "7917956b",
      "metadata": {
        "tags": [],
        "id": "7917956b"
      },
      "source": [
        "次のコードを使用して関数をテストできます。"
      ]
    },
    {
      "cell_type": "code",
      "execution_count": null,
      "id": "1d845de9",
      "metadata": {
        "tags": [],
        "id": "1d845de9"
      },
      "outputs": [],
      "source": [
        "make_turtle()\n",
        "rhombus(50, 60)"
      ]
    },
    {
      "cell_type": "markdown",
      "id": "a9175a90",
      "metadata": {
        "id": "a9175a90"
      },
      "source": [
        "### 演習\n",
        "\n",
        "次に、平行な辺を持つ四辺形を描画する `parallelogram` というより一般的な関数を書いてください。その後、`rectangle` と `rhombus` を `parallelogram` を使って書き直してください。"
      ]
    },
    {
      "cell_type": "code",
      "execution_count": null,
      "id": "895005cb",
      "metadata": {
        "id": "895005cb"
      },
      "outputs": [],
      "source": [
        "# Solution goes here"
      ]
    },
    {
      "cell_type": "code",
      "execution_count": null,
      "id": "7e7d34b0",
      "metadata": {
        "id": "7e7d34b0"
      },
      "outputs": [],
      "source": [
        "# Solution goes here"
      ]
    },
    {
      "cell_type": "code",
      "execution_count": null,
      "id": "481396f9",
      "metadata": {
        "id": "481396f9"
      },
      "outputs": [],
      "source": [
        "# Solution goes here"
      ]
    },
    {
      "cell_type": "markdown",
      "id": "c03bd4a2",
      "metadata": {
        "tags": [],
        "id": "c03bd4a2"
      },
      "source": [
        "次のコードを使用して、あなたの関数をテストすることができます。"
      ]
    },
    {
      "cell_type": "code",
      "execution_count": null,
      "id": "c8dfebc9",
      "metadata": {
        "tags": [],
        "id": "c8dfebc9"
      },
      "outputs": [],
      "source": [
        "make_turtle(width=400)\n",
        "jump(-120)\n",
        "\n",
        "rectangle(80, 40)\n",
        "jump(100)\n",
        "rhombus(50, 60)\n",
        "jump(80)\n",
        "parallelogram(80, 50, 60)"
      ]
    },
    {
      "cell_type": "markdown",
      "id": "991ab59d",
      "metadata": {
        "id": "991ab59d"
      },
      "source": [
        "### 演習\n",
        "\n",
        "次のような形を描くための、適切に一般化された一連の関数を書いてください。\n",
        "\n",
        "ヒント: `triangle`という関数を作成し、1つの三角形のセグメントを描画し、その後に`draw_pie`という関数を用いて`triangle`を使用します。"
      ]
    },
    {
      "cell_type": "code",
      "execution_count": null,
      "id": "8be6442e",
      "metadata": {
        "id": "8be6442e"
      },
      "outputs": [],
      "source": [
        "# Solution goes here"
      ]
    },
    {
      "cell_type": "code",
      "execution_count": null,
      "id": "be1b7ed8",
      "metadata": {
        "id": "be1b7ed8"
      },
      "outputs": [],
      "source": [
        "# Solution goes here"
      ]
    },
    {
      "cell_type": "markdown",
      "id": "8702c0ad",
      "metadata": {
        "tags": [],
        "id": "8702c0ad"
      },
      "source": [
        "次のコードを使用して、関数をテストできます。"
      ]
    },
    {
      "cell_type": "code",
      "execution_count": null,
      "id": "c519ca39",
      "metadata": {
        "tags": [],
        "id": "c519ca39"
      },
      "outputs": [],
      "source": [
        "turtle = make_turtle(delay=0)\n",
        "jump(-80)\n",
        "\n",
        "size = 40\n",
        "draw_pie(5, size)\n",
        "jump(2*size)\n",
        "draw_pie(6, size)\n",
        "jump(2*size)\n",
        "draw_pie(7, size)"
      ]
    },
    {
      "cell_type": "code",
      "execution_count": null,
      "id": "89ce198a",
      "metadata": {
        "tags": [],
        "id": "89ce198a"
      },
      "outputs": [],
      "source": [
        "# Solution goes here"
      ]
    },
    {
      "cell_type": "markdown",
      "id": "9c78b76f",
      "metadata": {
        "id": "9c78b76f"
      },
      "source": [
        "花のような図形を描くための関数を作成するには、Pythonのturtleモジュールを使用します。このエクササイズでは花びらを描くための関数を作成し、それを用いて花全体を描画します。以下は、Pythonのコードの例で、花の図を一般化された関数で描画します。コードを日本語でコメントし、花びら、花、そして複数の花を描く関数を段階的に作成します。\n",
        "\n",
        "```python\n",
        "import turtle\n",
        "\n",
        "# 花びらを描く関数\n",
        "def petal(t, radius, angle):\n",
        "    \"\"\"\n",
        "    t: turtle\n",
        "    radius: 円弧の半径\n",
        "    angle: 円弧の角度\n",
        "    \"\"\"\n",
        "    for _ in range(2):\n",
        "        t.circle(radius, angle)  # 円弧を描く\n",
        "        t.left(180 - angle)  # 円弧の中間で方向を変える\n",
        "\n",
        "# 花全体を描く関数\n",
        "def flower(t, petals, radius, angle):\n",
        "    \"\"\"\n",
        "    t: turtle\n",
        "    petals: 花びらの数\n",
        "    radius: 花びらの円弧の半径\n",
        "    angle: 花びらの円弧の角度\n",
        "    \"\"\"\n",
        "    for _ in range(petals):\n",
        "        petal(t, radius, angle)\n",
        "        t.left(360.0 / petals)  # 次の花びらの位置に向ける\n",
        "\n",
        "# 複数の花を描く関数\n",
        "def draw_flowers():\n",
        "    window = turtle.Screen()  # 描画ウィンドウを作成\n",
        "    window.bgcolor(\"white\")  # 背景色を設定\n",
        "\n",
        "    brad = turtle.Turtle()  # タートルを作成\n",
        "    brad.speed(0)  # スピードを最大にする\n",
        "\n",
        "    # 3つの花を描く例\n",
        "    flower(brad, 7, 60, 60)  # 花1を描く\n",
        "    brad.penup()\n",
        "    brad.goto(-200, 0)\n",
        "    brad.pendown()\n",
        "\n",
        "    flower(brad, 10, 40, 80)  # 花2を描く\n",
        "    brad.penup()\n",
        "    brad.goto(200, 0)\n",
        "    brad.pendown()\n",
        "\n",
        "    flower(brad, 20, 140, 20)  # 花3を描く\n",
        "\n",
        "    brad.hideturtle()\n",
        "    window.mainloop()\n",
        "\n",
        "# 実行\n",
        "draw_flowers()\n",
        "```\n",
        "\n",
        "このコードを実行すると、3つの花が描かれます。それぞれの花は異なる花びらの数とサイズを持っています。このコードを調整することで、花の形状や数を変更できます。"
      ]
    },
    {
      "cell_type": "code",
      "execution_count": null,
      "id": "0f0e7498",
      "metadata": {
        "id": "0f0e7498"
      },
      "outputs": [],
      "source": [
        "# Solution goes here"
      ]
    },
    {
      "cell_type": "code",
      "execution_count": null,
      "id": "6c0d0bff",
      "metadata": {
        "id": "6c0d0bff"
      },
      "outputs": [],
      "source": [
        "# Solution goes here"
      ]
    },
    {
      "cell_type": "markdown",
      "id": "8fe06dea",
      "metadata": {
        "tags": [],
        "id": "8fe06dea"
      },
      "source": [
        "次のコードを使用して、あなたの関数をテストすることができます。\n",
        "\n",
        "このソリューションは、多くの小さな線分を描画するため、実行が進むにつれて速度が遅くなる傾向があります。\n",
        "これを避けるために、キーワード引数 `auto_render=False` を追加して、各ステップの後に描画を行わないようにし、最後に `render` 関数を呼び出して結果を表示することができます。\n",
        "\n",
        "デバッグ中は、`auto_render=False` を削除したいかもしれません。"
      ]
    },
    {
      "cell_type": "code",
      "execution_count": null,
      "id": "04193da5",
      "metadata": {
        "tags": [],
        "id": "04193da5"
      },
      "outputs": [],
      "source": [
        "from jupyturtle import render\n",
        "\n",
        "turtle = make_turtle(auto_render=False)\n",
        "\n",
        "jump(-60)\n",
        "n = 7\n",
        "radius = 60\n",
        "angle = 60\n",
        "flower(n, radius, angle)\n",
        "\n",
        "jump(120)\n",
        "n = 9\n",
        "radius = 40\n",
        "angle = 85\n",
        "flower(n, radius, angle)\n",
        "\n",
        "render()"
      ]
    },
    {
      "cell_type": "code",
      "execution_count": null,
      "id": "4cfea3b0",
      "metadata": {
        "tags": [],
        "id": "4cfea3b0"
      },
      "outputs": [],
      "source": [
        "# Solution goes here"
      ]
    },
    {
      "cell_type": "markdown",
      "id": "9d9f35d1",
      "metadata": {
        "id": "9d9f35d1"
      },
      "source": [
        "次のプログラムは、亀のグラフィックモジュールを使って円を描くコードです。これを元に、渦巻きを描く関数を作成してみましょう。\n",
        "\n",
        "```python\n",
        "from jupyturtle import make_turtle, forward, left\n",
        "import math\n",
        "\n",
        "def spiral(turns, step_length, angle_increment):\n",
        "    for i in range(turns):\n",
        "        forward(i * step_length)\n",
        "        left(angle_increment)\n",
        "        \n",
        "make_turtle(delay=0)\n",
        "spiral(50, 5, 20)\n",
        "```\n",
        "\n",
        "この関数`spiral`は、引数として`turns`（渦巻きのターン数）、`step_length`（前進する距離の増加量）、および`angle_increment`（左右回転する角度の増加量）を取ります。_SETUP_し、指定されたターン数だけ渦巻きを描画します。それぞれのターンで、少しずつ前進距離が増え、指定の角度だけ左に回転します。"
      ]
    },
    {
      "cell_type": "markdown",
      "id": "7beb2afe",
      "metadata": {
        "id": "7beb2afe"
      },
      "source": [
        "次のことを心に留めておいてください。結果にはまだ見たことのない機能が使われているかもしれず、エラーが含まれている可能性もあります。VAからコードをコピーして、それを動かせるかどうか試してください。望んだ結果が得られなかった場合は、プロンプトを変更してみてください。"
      ]
    },
    {
      "cell_type": "code",
      "execution_count": null,
      "id": "46d3151c",
      "metadata": {
        "id": "46d3151c"
      },
      "outputs": [],
      "source": [
        "# Solution goes here"
      ]
    },
    {
      "cell_type": "code",
      "execution_count": null,
      "id": "186c7fbc",
      "metadata": {
        "id": "186c7fbc"
      },
      "outputs": [],
      "source": [
        "# Solution goes here"
      ]
    },
    {
      "cell_type": "markdown",
      "id": "a7f4edf8",
      "metadata": {
        "tags": [],
        "id": "a7f4edf8"
      },
      "source": [
        "[Think Python: 第3版](https://allendowney.github.io/ThinkPython/index.html)\n",
        "\n",
        "著作権 2024 [Allen B. Downey](https://allendowney.com)\n",
        "\n",
        "コードライセンス: [MITライセンス](https://mit-license.org/)\n",
        "\n",
        "テキストライセンス: [クリエイティブ・コモンズ 表示 - 非営利 - 継承 4.0 国際](https://creativecommons.org/licenses/by-nc-sa/4.0/)"
      ]
    }
  ],
  "metadata": {
    "celltoolbar": "Tags",
    "kernelspec": {
      "display_name": "Python 3 (ipykernel)",
      "language": "python",
      "name": "python3"
    },
    "language_info": {
      "codemirror_mode": {
        "name": "ipython",
        "version": 3
      },
      "file_extension": ".py",
      "mimetype": "text/x-python",
      "name": "python",
      "nbconvert_exporter": "python",
      "pygments_lexer": "ipython3",
      "version": "3.10.11"
    },
    "colab": {
      "provenance": [],
      "include_colab_link": true
    }
  },
  "nbformat": 4,
  "nbformat_minor": 5
}