{
  "cells": [
    {
      "cell_type": "markdown",
      "metadata": {
        "id": "view-in-github",
        "colab_type": "text"
      },
      "source": [
        "<a href=\"https://colab.research.google.com/github/kooll/ThinkPythonJ/blob/main/chapters/chap05_translated.ipynb\" target=\"_parent\"><img src=\"https://colab.research.google.com/assets/colab-badge.svg\" alt=\"Open In Colab\"/></a>"
      ]
    },
    {
      "cell_type": "markdown",
      "id": "1331faa1",
      "metadata": {
        "id": "1331faa1"
      },
      "source": [
        "『Think Python 3e』の印刷版および電子書籍版は、[Bookshop.org](https://bookshop.org/a/98697/9781098155438)や[Amazon](https://www.amazon.com/_/dp/1098155432?smid=ATVPDKIKX0DER&_encoding=UTF8&tag=oreilly20-20&_encoding=UTF8&tag=greenteapre01-20&linkCode=ur2&linkId=e2a529f94920295d27ec8a06e757dc7c&camp=1789&creative=9325)で注文できます。"
      ]
    },
    {
      "cell_type": "code",
      "execution_count": null,
      "id": "8119ba50",
      "metadata": {
        "tags": [],
        "id": "8119ba50"
      },
      "outputs": [],
      "source": [
        "from os.path import basename, exists\n",
        "\n",
        "def download(url):\n",
        "    filename = basename(url)\n",
        "    if not exists(filename):\n",
        "        from urllib.request import urlretrieve\n",
        "\n",
        "        local, _ = urlretrieve(url, filename)\n",
        "        print(\"Downloaded \" + str(local))\n",
        "    return filename\n",
        "\n",
        "download('https://github.com/AllenDowney/ThinkPython/raw/v3/thinkpython.py');\n",
        "download('https://github.com/AllenDowney/ThinkPython/raw/v3/diagram.py');\n",
        "download('https://github.com/ramalho/jupyturtle/releases/download/2024-03/jupyturtle.py');\n",
        "\n",
        "import thinkpython"
      ]
    },
    {
      "cell_type": "markdown",
      "id": "75b60d6c",
      "metadata": {
        "id": "75b60d6c"
      },
      "source": [
        "# 条件文と再帰\n",
        "\n",
        "この章の主なテーマは`if`文であり、プログラムの状態に応じて異なるコードを実行します。そして、`if`文を使うことで、コンピューティングにおける最も強力なアイデアの一つである**再帰**を探求できるようになります。\n",
        "\n",
        "しかし、まずは3つの新しい機能から始めましょう。剰余演算子、ブール式、論理演算子です。"
      ]
    },
    {
      "cell_type": "markdown",
      "id": "4ab7caf4",
      "metadata": {
        "id": "4ab7caf4"
      },
      "source": [
        "## 整数の除算と剰余\n",
        "\n",
        "整数の除算演算子 `//` は、2つの数を割って、その結果を切り捨てた整数を返します。\n",
        "たとえば、映画の上映時間が105分だとします。\n",
        "これが何時間に相当するか知りたい場合があります。\n",
        "通常の除算では浮動小数点数が返されます。"
      ]
    },
    {
      "cell_type": "code",
      "execution_count": null,
      "id": "30bd0ba7",
      "metadata": {
        "id": "30bd0ba7"
      },
      "outputs": [],
      "source": [
        "minutes = 105\n",
        "minutes / 60"
      ]
    },
    {
      "cell_type": "markdown",
      "id": "3f224403",
      "metadata": {
        "id": "3f224403"
      },
      "source": [
        "しかし、私たちは通常、時間を小数点で表記しません。整数除算を行うと、時間の整数部分が求められ、小数点以下は切り捨てられます。"
      ]
    },
    {
      "cell_type": "code",
      "execution_count": null,
      "id": "451e3198",
      "metadata": {
        "id": "451e3198"
      },
      "outputs": [],
      "source": [
        "minutes = 105\n",
        "hours = minutes // 60\n",
        "hours"
      ]
    },
    {
      "cell_type": "markdown",
      "id": "bfa9b0cf",
      "metadata": {
        "id": "bfa9b0cf"
      },
      "source": [
        "余りを求めるには、1時間を分で引くことができます。"
      ]
    },
    {
      "cell_type": "code",
      "execution_count": null,
      "id": "64b92876",
      "metadata": {
        "id": "64b92876"
      },
      "outputs": [],
      "source": [
        "remainder = minutes - hours * 60\n",
        "remainder"
      ]
    },
    {
      "cell_type": "markdown",
      "id": "05caf27f",
      "metadata": {
        "id": "05caf27f"
      },
      "source": [
        "または、**剰余演算子** `%` を使用することもできます。これは、2つの数を割り算し、その余りを返します。"
      ]
    },
    {
      "cell_type": "code",
      "execution_count": null,
      "id": "0a593844",
      "metadata": {
        "id": "0a593844"
      },
      "outputs": [],
      "source": [
        "remainder = minutes % 60\n",
        "remainder"
      ]
    },
    {
      "cell_type": "markdown",
      "id": "18c1e0d0",
      "metadata": {
        "id": "18c1e0d0"
      },
      "source": [
        "剰余演算子は、一見すると地味ですが非常に有用です。たとえば、ある数が別の数で割り切れるかどうかを確認することができます。`x % y` がゼロの場合、`x` は `y` で割り切れます。\n",
        "\n",
        "また、数字から右端の桁や桁数を抽出することもできます。たとえば、`x % 10` は `x` の最も右の桁（10進数において）を返します。同様に、`x % 100` は最後の2桁を返します。"
      ]
    },
    {
      "cell_type": "code",
      "execution_count": null,
      "id": "5bd341f7",
      "metadata": {
        "id": "5bd341f7"
      },
      "outputs": [],
      "source": [
        "x = 123\n",
        "x % 10"
      ]
    },
    {
      "cell_type": "code",
      "execution_count": null,
      "id": "367fce0c",
      "metadata": {
        "id": "367fce0c"
      },
      "outputs": [],
      "source": [
        "x % 100"
      ]
    },
    {
      "cell_type": "markdown",
      "id": "f2344fc0",
      "metadata": {
        "id": "f2344fc0"
      },
      "source": [
        "最終的に、剰余演算子は「時計算」も行うことができます。  \n",
        "例えば、イベントが午前11時に始まり、3時間続く場合、剰余演算子を使って終了時刻を計算することができます。"
      ]
    },
    {
      "cell_type": "code",
      "execution_count": null,
      "id": "db33a44d",
      "metadata": {
        "id": "db33a44d"
      },
      "outputs": [],
      "source": [
        "start = 11\n",
        "duration = 3\n",
        "end = (start + duration) % 12\n",
        "end"
      ]
    },
    {
      "cell_type": "markdown",
      "id": "351c30df",
      "metadata": {
        "id": "351c30df"
      },
      "source": [
        "イベントは午後2時に終了します。"
      ]
    },
    {
      "cell_type": "markdown",
      "id": "5ed1b58b",
      "metadata": {
        "id": "5ed1b58b"
      },
      "source": [
        "## ブール式\n",
        "\n",
        "**ブール式**とは、真（true）または偽（false）のいずれかの値を持つ式のことです。\n",
        "例えば、次のような式はイコール演算子 `==` を使用しており、これは2つの値を比較し、それらが等しい場合には `True` を、そうでない場合には `False` を生成します。"
      ]
    },
    {
      "cell_type": "code",
      "execution_count": null,
      "id": "85589d38",
      "metadata": {
        "id": "85589d38"
      },
      "outputs": [],
      "source": [
        "5 == 5"
      ]
    },
    {
      "cell_type": "code",
      "execution_count": null,
      "id": "3c9c8f61",
      "metadata": {
        "id": "3c9c8f61"
      },
      "outputs": [],
      "source": [
        "5 == 7"
      ]
    },
    {
      "cell_type": "markdown",
      "id": "41fbc642",
      "metadata": {
        "id": "41fbc642"
      },
      "source": [
        "一般的な間違いとして、二重の等号（`==`）の代わりに単一の等号（`=`）を使用することがあります。`=`は変数に値を代入するためのものであり、`==`は2つの値を比較するためのものです。"
      ]
    },
    {
      "cell_type": "code",
      "execution_count": null,
      "id": "c0e51bcc",
      "metadata": {
        "id": "c0e51bcc"
      },
      "outputs": [],
      "source": [
        "x = 5\n",
        "y = 7"
      ]
    },
    {
      "cell_type": "code",
      "execution_count": null,
      "id": "a6be44db",
      "metadata": {
        "id": "a6be44db"
      },
      "outputs": [],
      "source": [
        "x == y"
      ]
    },
    {
      "cell_type": "markdown",
      "id": "d3ec6b48",
      "metadata": {
        "id": "d3ec6b48"
      },
      "source": [
        "`True`と`False`は特別な値で、`bool`型に属しています。これらは文字列ではありません。"
      ]
    },
    {
      "cell_type": "code",
      "execution_count": null,
      "id": "90fb1c9c",
      "metadata": {
        "id": "90fb1c9c"
      },
      "outputs": [],
      "source": [
        "type(True)"
      ]
    },
    {
      "cell_type": "code",
      "execution_count": null,
      "id": "c1cae572",
      "metadata": {
        "id": "c1cae572"
      },
      "outputs": [],
      "source": [
        "type(False)"
      ]
    },
    {
      "cell_type": "markdown",
      "id": "451b2e8d",
      "metadata": {
        "id": "451b2e8d"
      },
      "source": [
        "`==`演算子は**関係演算子**の1つです。他の関係演算子には以下があります。"
      ]
    },
    {
      "cell_type": "code",
      "execution_count": null,
      "id": "c901fe2b",
      "metadata": {
        "id": "c901fe2b"
      },
      "outputs": [],
      "source": [
        "x != y               # x is not equal to y"
      ]
    },
    {
      "cell_type": "code",
      "execution_count": null,
      "id": "1457949f",
      "metadata": {
        "id": "1457949f"
      },
      "outputs": [],
      "source": [
        "x > y                # x is greater than y"
      ]
    },
    {
      "cell_type": "code",
      "execution_count": null,
      "id": "56bb7eed",
      "metadata": {
        "id": "56bb7eed"
      },
      "outputs": [],
      "source": [
        "x < y               # x is less than to y"
      ]
    },
    {
      "cell_type": "code",
      "execution_count": null,
      "id": "1cdcc7ab",
      "metadata": {
        "id": "1cdcc7ab"
      },
      "outputs": [],
      "source": [
        "x >= y               # x is greater than or equal to y"
      ]
    },
    {
      "cell_type": "code",
      "execution_count": null,
      "id": "df1a1287",
      "metadata": {
        "id": "df1a1287"
      },
      "outputs": [],
      "source": [
        "x <= y               # x is less than or equal to y"
      ]
    },
    {
      "cell_type": "markdown",
      "id": "db5a9477",
      "metadata": {
        "id": "db5a9477"
      },
      "source": [
        "## 論理演算子\n",
        "\n",
        "ブール値を式に組み合わせるために、**論理演算子**を使用できます。\n",
        "最も一般的なものは `and`、`or`、そして `not` です。\n",
        "これらの演算子の意味は、英語での意味に似ています。\n",
        "例えば、次の式の値は、`x` が `0` より大きく*かつ* `10` 未満の場合にのみ `True` になります。"
      ]
    },
    {
      "cell_type": "code",
      "execution_count": null,
      "id": "848c5f2c",
      "metadata": {
        "id": "848c5f2c"
      },
      "outputs": [],
      "source": [
        "x > 0 and x < 10"
      ]
    },
    {
      "cell_type": "markdown",
      "id": "e8c14026",
      "metadata": {
        "id": "e8c14026"
      },
      "source": [
        "次の式は、条件のうち*どちらか一方または両方*が真の場合、つまり、その数が2または3で割り切れる場合に`True`を返します。"
      ]
    },
    {
      "cell_type": "code",
      "execution_count": null,
      "id": "eb66ee6a",
      "metadata": {
        "id": "eb66ee6a"
      },
      "outputs": [],
      "source": [
        "x % 2 == 0 or x % 3 == 0"
      ]
    },
    {
      "cell_type": "markdown",
      "id": "3bd0ef52",
      "metadata": {
        "id": "3bd0ef52"
      },
      "source": [
        "最終的に、`not` 演算子はブール式を否定しますので、`x > y` が `False` の場合、次の式は `True` となります。"
      ]
    },
    {
      "cell_type": "code",
      "execution_count": null,
      "id": "6de8b97c",
      "metadata": {
        "id": "6de8b97c"
      },
      "outputs": [],
      "source": [
        "not x > y"
      ]
    },
    {
      "cell_type": "markdown",
      "id": "fc6098c2",
      "metadata": {
        "id": "fc6098c2"
      },
      "source": [
        "厳密に言えば、論理演算子のオペランドはブール式であるべきですが、Pythonはそれほど厳格ではありません。ゼロ以外の数値は`True`として解釈されます。"
      ]
    },
    {
      "cell_type": "code",
      "execution_count": null,
      "id": "add63275",
      "metadata": {
        "id": "add63275"
      },
      "outputs": [],
      "source": [
        "42 and True"
      ]
    },
    {
      "cell_type": "markdown",
      "id": "102ceab9",
      "metadata": {
        "id": "102ceab9"
      },
      "source": [
        "この柔軟性は便利ですが、紛らわしい微妙な点がいくつかあります。避けたほうが良いかもしれません。"
      ]
    },
    {
      "cell_type": "markdown",
      "id": "6b0f2dc1",
      "metadata": {
        "id": "6b0f2dc1"
      },
      "source": [
        "## if文\n",
        "\n",
        "有用なプログラムを書くためには、条件をチェックしてそれに応じてプログラムの動作を変更する能力がほぼ常に必要です。**条件文**は、この能力を私たちに提供します。最もシンプルな形が `if` 文です。"
      ]
    },
    {
      "cell_type": "code",
      "execution_count": null,
      "id": "80937bef",
      "metadata": {
        "id": "80937bef"
      },
      "outputs": [],
      "source": [
        "if x > 0:\n",
        "    print('x is positive')"
      ]
    },
    {
      "cell_type": "markdown",
      "id": "973f705e",
      "metadata": {
        "id": "973f705e"
      },
      "source": [
        "`if`はPythonのキーワードです。`if`文は、関数定義と同じ構造を持っています：ヘッダーの後に、インデントされた**ブロック**と呼ばれるステートメントまたはステートメントのシーケンスが続きます。\n",
        "\n",
        "`if`の後のブール式は**条件**と呼ばれます。\n",
        "この条件が真であれば、インデントされたブロックの中のステートメントが実行されます。そうでなければ、実行されません。\n",
        "\n",
        "ブロックに現れるステートメントの数に制限はありませんが、少なくとも1つは必要です。\n",
        "時々、何もしないブロックを持つことが便利なことがあります。通常、それはまだ書いていないコードのプレースホルダーとして使用されます。\n",
        "その場合、何もしない`pass`ステートメントを使用することができます。"
      ]
    },
    {
      "cell_type": "code",
      "execution_count": null,
      "id": "bc74a318",
      "metadata": {
        "id": "bc74a318"
      },
      "outputs": [],
      "source": [
        "if x < 0:\n",
        "    pass          # TODO: need to handle negative values!"
      ]
    },
    {
      "cell_type": "markdown",
      "id": "adf3f6c5",
      "metadata": {
        "id": "adf3f6c5"
      },
      "source": [
        "コメント内の「TODO」という言葉は、後で行う必要があることを示す一般的なリマインダーです。"
      ]
    },
    {
      "cell_type": "markdown",
      "id": "eb39bcd9",
      "metadata": {
        "id": "eb39bcd9"
      },
      "source": [
        "## `else`句\n",
        "\n",
        "`if`文には、`else`句と呼ばれる2番目の部分を持たせることができます。\n",
        "構文は次のようになります:"
      ]
    },
    {
      "cell_type": "code",
      "execution_count": null,
      "id": "d16f49f2",
      "metadata": {
        "id": "d16f49f2"
      },
      "outputs": [],
      "source": [
        "if x % 2 == 0:\n",
        "    print('x is even')\n",
        "else:\n",
        "    print('x is odd')"
      ]
    },
    {
      "cell_type": "markdown",
      "id": "e7dc8943",
      "metadata": {
        "id": "e7dc8943"
      },
      "source": [
        "条件が真の場合、最初のインデントされた文が実行されます。そうでない場合、2番目のインデントされた文が実行されます。\n",
        "\n",
        "この例では、`x`が偶数であれば、`x`を`2`で割った余りは`0`となり、条件は真であるため、プログラムは「x is even」を表示します。\n",
        "`x`が奇数であれば、余りは`1`となり、条件は偽であるため、プログラムは「x is odd」を表示します。\n",
        "\n",
        "条件は真であるか偽であるかのどちらかでなければならないため、必ずどちらか一方の選択肢が実行されます。\n",
        "これらの選択肢は**分岐**と呼ばれます。"
      ]
    },
    {
      "cell_type": "markdown",
      "id": "20c8adb6",
      "metadata": {
        "id": "20c8adb6"
      },
      "source": [
        "## 連鎖条件文\n",
        "\n",
        "場合によっては、可能性が2つ以上あり、2つ以上の分岐が必要になることがあります。\n",
        "そのような計算を表現する1つの方法は、`elif`句を含む**連鎖条件文**を使用することです。"
      ]
    },
    {
      "cell_type": "code",
      "execution_count": null,
      "id": "309fccb8",
      "metadata": {
        "id": "309fccb8"
      },
      "outputs": [],
      "source": [
        "if x < y:\n",
        "    print('x is less than y')\n",
        "elif x > y:\n",
        "    print('x is greater than y')\n",
        "else:\n",
        "    print('x and y are equal')"
      ]
    },
    {
      "cell_type": "markdown",
      "id": "46916379",
      "metadata": {
        "id": "46916379"
      },
      "source": [
        "`elif`は「else if」の略です。\n",
        "`elif`句の数に制限はありません。\n",
        "`else`句がある場合は、最後に置かれなければなりませんが、必ずしも必要ではありません。\n",
        "\n",
        "各条件は順番にチェックされます。\n",
        "最初の条件が偽の場合、次の条件がチェックされ、以下同様です。\n",
        "いずれかの条件が真であれば、対応するブランチが実行され、`if`文は終了します。\n",
        "複数の条件が真であっても、最初に真になったブランチだけが実行されます。"
      ]
    },
    {
      "cell_type": "markdown",
      "id": "e0c0b9dd",
      "metadata": {
        "id": "e0c0b9dd"
      },
      "source": [
        "## ネストされた条件文\n",
        "\n",
        "1つの条件文は、別の条件文の中にネストすることができます。\n",
        "前のセクションの例を次のように書くこともできました:"
      ]
    },
    {
      "cell_type": "code",
      "execution_count": null,
      "id": "d77539cf",
      "metadata": {
        "id": "d77539cf"
      },
      "outputs": [],
      "source": [
        "if x == y:\n",
        "    print('x and y are equal')\n",
        "else:\n",
        "    if x < y:\n",
        "        print('x is less than y')\n",
        "    else:\n",
        "        print('x is greater than y')"
      ]
    },
    {
      "cell_type": "markdown",
      "id": "29f67a0a",
      "metadata": {
        "id": "29f67a0a"
      },
      "source": [
        "外側の`if`文には2つの分岐があります。最初の分岐は単純な文を含みます。2つ目の分岐はもう1つの`if`文を含み、それ自体に2つの分岐があります。これら2つの分岐も単純な文ですが、条件文である可能性もありました。\n",
        "\n",
        "文のインデントによって構造は明らかになりますが、**ネストされた条件文**は読みづらいことがあります。可能な限り避けることをお勧めします。\n",
        "\n",
        "論理演算子はネストされた条件文を簡略化する方法を提供することがあります。以下はネストされた条件文の例です。"
      ]
    },
    {
      "cell_type": "code",
      "execution_count": null,
      "id": "91cac1a0",
      "metadata": {
        "id": "91cac1a0"
      },
      "outputs": [],
      "source": [
        "if 0 < x:\n",
        "    if x < 10:\n",
        "        print('x is a positive single-digit number.')"
      ]
    },
    {
      "cell_type": "markdown",
      "id": "5292eb11",
      "metadata": {
        "id": "5292eb11"
      },
      "source": [
        "`print` ステートメントは、両方の条件をクリアした場合にのみ実行されるため、`and` 演算子を使用して同じ効果を得ることができます。"
      ]
    },
    {
      "cell_type": "code",
      "execution_count": null,
      "id": "f8ba1724",
      "metadata": {
        "id": "f8ba1724"
      },
      "outputs": [],
      "source": [
        "if 0 < x and x < 10:\n",
        "    print('x is a positive single-digit number.')"
      ]
    },
    {
      "cell_type": "markdown",
      "id": "dd8e808a",
      "metadata": {
        "id": "dd8e808a"
      },
      "source": [
        "このような条件の場合、Pythonはより簡潔なオプションを提供しています。"
      ]
    },
    {
      "cell_type": "code",
      "execution_count": null,
      "id": "014cd6f4",
      "metadata": {
        "id": "014cd6f4"
      },
      "outputs": [],
      "source": [
        "if 0 < x < 10:\n",
        "    print('x is a positive single-digit number.')"
      ]
    },
    {
      "cell_type": "markdown",
      "id": "db583cd9",
      "metadata": {
        "id": "db583cd9"
      },
      "source": [
        "## 再帰\n",
        "\n",
        "関数が自分自身を呼び出すことは合法です。\n",
        "それがなぜ良いことなのかは一見分からないかもしれませんが、実際にはプログラムが行うことができる最も魔法のようなことの一つであることが分かっています。\n",
        "ここに一例を紹介します。"
      ]
    },
    {
      "cell_type": "code",
      "execution_count": null,
      "id": "17904e98",
      "metadata": {
        "id": "17904e98"
      },
      "outputs": [],
      "source": [
        "def countdown(n):\n",
        "    if n <= 0:\n",
        "        print('Blastoff!')\n",
        "    else:\n",
        "        print(n)\n",
        "        countdown(n-1)"
      ]
    },
    {
      "cell_type": "markdown",
      "id": "c88e0dc7",
      "metadata": {
        "id": "c88e0dc7"
      },
      "source": [
        "`n` が 0 または負の場合、`countdown` は「Blastoff!」という言葉を出力します。それ以外の場合は、`n` を出力し、`n-1` を引数として自分自身を再度呼び出します。\n",
        "\n",
        "引数 `3` でこの関数を呼び出した場合は以下のようになります：\n",
        "\n",
        "```\n",
        "3\n",
        "2\n",
        "1\n",
        "0\n",
        "Blastoff!\n",
        "```"
      ]
    },
    {
      "cell_type": "code",
      "execution_count": null,
      "id": "6c1e32e2",
      "metadata": {
        "id": "6c1e32e2"
      },
      "outputs": [],
      "source": [
        "countdown(3)"
      ]
    },
    {
      "cell_type": "markdown",
      "id": "3f3c87ec",
      "metadata": {
        "id": "3f3c87ec"
      },
      "source": [
        "`countdown`の実行は`n=3`から始まり、`n`が`0`より大きいため、`3`を表示し、次に自分自身を呼び出します\\...\n",
        "\n",
        "> `countdown`の実行は`n=2`から始まり、`n`が`0`より大きいため、`2`を表示し、次に自分自身を呼び出します\\...\n",
        ">\n",
        "> > `countdown`の実行は`n=1`から始まり、`n`が`0`より大きいため、`1`を表示し、次に自分自身を呼び出します\\...\n",
        "> >\n",
        "> > > `countdown`の実行は`n=0`から始まり、`n`が`0`より大きくないため、「発射！」を表示して終了します。\n",
        "> >\n",
        "> > `n=1`を受け取った`countdown`が終了します。\n",
        ">\n",
        "> `n=2`を受け取った`countdown`が終了します。\n",
        "\n",
        "`n=3`を受け取った`countdown`が終了します。"
      ]
    },
    {
      "cell_type": "markdown",
      "id": "782e95bb",
      "metadata": {
        "id": "782e95bb"
      },
      "source": [
        "自分自身を呼び出す関数は**再帰的**です。  \n",
        "別の例として、文字列を`n`回印刷する関数を書くことができます。"
      ]
    },
    {
      "cell_type": "code",
      "execution_count": null,
      "id": "1bb13f8e",
      "metadata": {
        "id": "1bb13f8e"
      },
      "outputs": [],
      "source": [
        "def print_n_times(string, n):\n",
        "    if n > 0:\n",
        "        print(string)\n",
        "        print_n_times(string, n-1)"
      ]
    },
    {
      "cell_type": "markdown",
      "id": "73d07c17",
      "metadata": {
        "id": "73d07c17"
      },
      "source": [
        "`n`が正の整数である場合、`print_n_times`は`string`の値を表示し、その後、`string`と`n-1`を引数として渡して再帰的に自分自身を呼び出します。\n",
        "\n",
        "`n`が`0`または負の整数である場合、条件が偽となり、`print_n_times`は何も行いません。\n",
        "\n",
        "このように動作します。"
      ]
    },
    {
      "cell_type": "code",
      "execution_count": null,
      "id": "e7b68c57",
      "metadata": {
        "id": "e7b68c57"
      },
      "outputs": [],
      "source": [
        "print_n_times('Spam ', 4)"
      ]
    },
    {
      "cell_type": "markdown",
      "id": "1fb55a78",
      "metadata": {
        "id": "1fb55a78"
      },
      "source": [
        "このような簡単な例では、`for`ループを使う方が簡単かもしれません。しかし、後で`for`ループでは書きにくく、再帰を使うと書きやすい例を紹介しますので、早いうちに慣れておくと良いでしょう。"
      ]
    },
    {
      "cell_type": "markdown",
      "id": "c652c739",
      "metadata": {
        "id": "c652c739"
      },
      "source": [
        "申し訳ありませんが、特定の図や画像を生成することはできませんが、`countdown`関数の呼び出しとフレームの生成に関連する説明を提供できます。\n",
        "\n",
        "スタックダイアグラムは、関数が呼び出されるときの各フレームを示します。`countdown`関数が再帰的に自身を呼び出すたびに、新しいフレームが生成されます。以下に、`countdown`が呼び出される際のフレームの簡単な説明を示します。\n",
        "\n",
        "1. `countdown(3)` が呼び出されて、`n=3`のフレームがスタックに追加されます。\n",
        "2. `countdown(2)` が呼び出されて、次のフレームがスタックに追加され、`n=2`になります。\n",
        "3. `countdown(1)` が呼び出され、さらに次のフレームがスタックに追加され、`n=1`になります。\n",
        "4. `countdown(0)` が呼び出され、ベースケースに達します。ここで再帰呼び出しは終わり、フレームが解放され始めます。\n",
        "\n",
        "再帰が進むにつれて、各フレームはその関数呼び出しに固有の`n`の値を持ちます。そして、最も内側の呼び出しから開始して、各フレームがスタックからポップされます。\n",
        "\n",
        "このプロセスをテキストで表現するのは制限がありますが、スタックダイアグラムを描けば、関数の再帰呼び出しと各フレームの生成が視覚的に明確に理解できるでしょう。"
      ]
    },
    {
      "cell_type": "code",
      "execution_count": null,
      "id": "643148da",
      "metadata": {
        "tags": [],
        "id": "643148da"
      },
      "outputs": [],
      "source": [
        "from diagram import make_frame, Stack\n",
        "\n",
        "frames = []\n",
        "for n in [3,2,1,0]:\n",
        "    d = dict(n=n)\n",
        "    frame = make_frame(d, name='countdown', dy=-0.3, loc='left')\n",
        "    frames.append(frame)\n",
        "\n",
        "stack = Stack(frames, dy=-0.5)"
      ]
    },
    {
      "cell_type": "code",
      "execution_count": null,
      "id": "a8510119",
      "metadata": {
        "tags": [],
        "id": "a8510119"
      },
      "outputs": [],
      "source": [
        "from diagram import diagram, adjust\n",
        "\n",
        "\n",
        "width, height, x, y = [1.74, 2.04, 1.05, 1.77]\n",
        "ax = diagram(width, height)\n",
        "bbox = stack.draw(ax, x, y)\n",
        "# adjust(x, y, bbox)"
      ]
    },
    {
      "cell_type": "markdown",
      "id": "9282331b",
      "metadata": {
        "id": "9282331b"
      },
      "source": [
        "4つの`countdown`フレームには、パラメータ`n`に対して異なる値があります。  \n",
        "スタックの一番下、つまり`n=0`の場所は**基本ケース**と呼ばれます。  \n",
        "これは再帰呼び出しを行わないため、追加のフレームはありません。"
      ]
    },
    {
      "cell_type": "code",
      "execution_count": null,
      "id": "a2a376b3",
      "metadata": {
        "tags": [],
        "id": "a2a376b3"
      },
      "outputs": [],
      "source": [
        "from diagram import make_frame, Stack\n",
        "from diagram import diagram, adjust\n",
        "\n",
        "frames = []\n",
        "for n in [2,1,0]:\n",
        "    d = dict(string='Hello', n=n)\n",
        "    frame = make_frame(d, name='print_n_times', dx=1.3, loc='left')\n",
        "    frames.append(frame)\n",
        "\n",
        "stack = Stack(frames, dy=-0.5)\n",
        "\n",
        "width, height, x, y = [3.53, 1.54, 1.54, 1.27]\n",
        "ax = diagram(width, height)\n",
        "bbox = stack.draw(ax, x, y)\n",
        "# adjust(x, y, bbox)"
      ]
    },
    {
      "cell_type": "markdown",
      "id": "37bbc2b8",
      "metadata": {
        "id": "37bbc2b8"
      },
      "source": [
        "## 無限再帰\n",
        "\n",
        "再帰がベースケースに到達しない場合、再帰呼び出しを無限に続け、プログラムが終了しません。これは**無限再帰**と呼ばれ、一般に良い考えではありません。以下は無限再帰を持つ最小限の関数の例です。"
      ]
    },
    {
      "cell_type": "code",
      "execution_count": null,
      "id": "af487feb",
      "metadata": {
        "id": "af487feb"
      },
      "outputs": [],
      "source": [
        "def recurse():\n",
        "    recurse()"
      ]
    },
    {
      "cell_type": "markdown",
      "id": "450a20ac",
      "metadata": {
        "id": "450a20ac"
      },
      "source": [
        "`recurse` が呼び出されるたびに、自身を再度呼び出すため、別のフレームが作成されます。Python には、同時にスタック上に存在できるフレームの数に制限があります。もしプログラムがその制限を超えた場合、ランタイムエラーが発生します。"
      ]
    },
    {
      "cell_type": "code",
      "execution_count": null,
      "id": "e5d6c732",
      "metadata": {
        "tags": [],
        "id": "e5d6c732"
      },
      "outputs": [],
      "source": [
        "%xmode Context"
      ]
    },
    {
      "cell_type": "code",
      "execution_count": null,
      "id": "22454b51",
      "metadata": {
        "tags": [],
        "id": "22454b51"
      },
      "outputs": [],
      "source": [
        "%%expect RecursionError\n",
        "\n",
        "recurse()"
      ]
    },
    {
      "cell_type": "markdown",
      "id": "39fc5c31",
      "metadata": {
        "id": "39fc5c31"
      },
      "source": [
        "トレースバックによると、エラーが発生した時点でスタックにはほぼ3000フレームがありました。\n",
        "\n",
        "誤って無限再帰に遭遇した場合、関数を見直して、再帰呼び出しを行わない基本ケースがあることを確認してください。また、基本ケースがある場合に、そのケースに確実に到達できるかどうかも確認してください。"
      ]
    },
    {
      "cell_type": "markdown",
      "id": "45299414",
      "metadata": {
        "id": "45299414"
      },
      "source": [
        "## キーボード入力\n",
        "\n",
        "これまでに作成したプログラムは、ユーザーからの入力を受け付けません。毎回同じことを実行するだけです。\n",
        "\n",
        "Pythonは、`input`と呼ばれる組み込み関数を提供しており、これを使用するとプログラムが一時停止し、ユーザーが何かを入力するのを待ちます。ユーザーが*Return*または*Enter*を押すと、プログラムは再開し、`input`はユーザーが入力した内容を文字列として返します。"
      ]
    },
    {
      "cell_type": "code",
      "execution_count": null,
      "id": "ac0fb4a6",
      "metadata": {
        "tags": [],
        "id": "ac0fb4a6"
      },
      "outputs": [],
      "source": [
        "# Solution goes here"
      ]
    },
    {
      "cell_type": "code",
      "execution_count": null,
      "id": "f6a2e4d6",
      "metadata": {
        "id": "f6a2e4d6"
      },
      "outputs": [],
      "source": [
        "text = input()"
      ]
    },
    {
      "cell_type": "markdown",
      "id": "acf9ec53",
      "metadata": {
        "id": "acf9ec53"
      },
      "source": [
        "ユーザーから入力を受け取る前に、ユーザーに入力内容を伝えるプロンプトを表示すると良いでしょう。`input` は、プロンプトを引数として取ることができます。"
      ]
    },
    {
      "cell_type": "code",
      "execution_count": null,
      "id": "e0600e5e",
      "metadata": {
        "tags": [],
        "id": "e0600e5e"
      },
      "outputs": [],
      "source": [
        "# Solution goes here"
      ]
    },
    {
      "cell_type": "code",
      "execution_count": null,
      "id": "964346f0",
      "metadata": {
        "id": "964346f0"
      },
      "outputs": [],
      "source": [
        "name = input('What...is your name?\\n')\n",
        "name"
      ]
    },
    {
      "cell_type": "markdown",
      "id": "1b754b39",
      "metadata": {
        "id": "1b754b39"
      },
      "source": [
        "プロンプトの末尾にあるシーケンス `\\n` は「改行」を表し、特殊文字によって改行を引き起こします。これによってユーザーの入力がプロンプトの下に表示されます。\n",
        "\n",
        "ユーザーが整数を入力することを期待している場合、`int` 関数を使用して返値を `int` に変換することができます。"
      ]
    },
    {
      "cell_type": "code",
      "execution_count": null,
      "id": "590983cd",
      "metadata": {
        "tags": [],
        "id": "590983cd"
      },
      "outputs": [],
      "source": [
        "# Solution goes here"
      ]
    },
    {
      "cell_type": "code",
      "execution_count": null,
      "id": "60a484d7",
      "metadata": {
        "id": "60a484d7"
      },
      "outputs": [],
      "source": [
        "prompt = 'What...is the airspeed velocity of an unladen swallow?\\n'\n",
        "speed = input(prompt)\n",
        "speed"
      ]
    },
    {
      "cell_type": "markdown",
      "id": "0a65f2af",
      "metadata": {
        "id": "0a65f2af"
      },
      "source": [
        "しかし、整数以外のものを入力されると、実行時エラーが発生します。"
      ]
    },
    {
      "cell_type": "code",
      "execution_count": null,
      "id": "8d3d6049",
      "metadata": {
        "tags": [],
        "id": "8d3d6049"
      },
      "outputs": [],
      "source": [
        "%xmode Minimal"
      ]
    },
    {
      "cell_type": "code",
      "execution_count": null,
      "id": "a04e3016",
      "metadata": {
        "tags": [],
        "id": "a04e3016"
      },
      "outputs": [],
      "source": [
        "%%expect ValueError\n",
        "\n",
        "int(speed)"
      ]
    },
    {
      "cell_type": "markdown",
      "id": "a4ce3ed5",
      "metadata": {
        "id": "a4ce3ed5"
      },
      "source": [
        "この種のエラーの対処方法については、後で確認しましょう。"
      ]
    },
    {
      "cell_type": "markdown",
      "id": "14c1d3dc",
      "metadata": {
        "id": "14c1d3dc"
      },
      "source": [
        "## デバッグ\n",
        "\n",
        "構文エラーや実行時エラーが発生すると、エラーメッセージには多くの情報が含まれていますが、圧倒されることがあります。最も役に立つ部分は通常以下の通りです。\n",
        "\n",
        "-   どのようなエラーだったか\n",
        "\n",
        "-   どこで発生したか\n",
        "\n",
        "構文エラーは通常見つけやすいですが、いくつかの注意点があります。スペースやタブに関連するエラーは見えないため厄介ですし、通常はそれらを無視することに慣れています。"
      ]
    },
    {
      "cell_type": "code",
      "execution_count": null,
      "id": "b82642f6",
      "metadata": {
        "tags": [],
        "id": "b82642f6"
      },
      "outputs": [],
      "source": [
        "%%expect IndentationError\n",
        "x = 5\n",
        " y = 6"
      ]
    },
    {
      "cell_type": "markdown",
      "id": "d1d06263",
      "metadata": {
        "id": "d1d06263"
      },
      "source": [
        "この例での問題は、2行目が1スペース分インデントされていることです。しかし、エラーメッセージは `y` を指しており、これは誤解を招くものです。エラーメッセージは問題が発見された場所を示していますが、実際のエラーはコードの前の方にあるかもしれません。\n",
        "\n",
        "これはランタイムエラーでも同様です。例えば、ある比率をデシベルに変換しようとしているとします。次のように:"
      ]
    },
    {
      "cell_type": "code",
      "execution_count": null,
      "id": "583ef53c",
      "metadata": {
        "tags": [],
        "id": "583ef53c"
      },
      "outputs": [],
      "source": [
        "%xmode Context"
      ]
    },
    {
      "cell_type": "code",
      "execution_count": null,
      "id": "2f4b6082",
      "metadata": {
        "tags": [],
        "id": "2f4b6082"
      },
      "outputs": [],
      "source": [
        "%%expect ValueError\n",
        "import math\n",
        "numerator = 9\n",
        "denominator = 10\n",
        "ratio = numerator // denominator\n",
        "decibels = 10 * math.log10(ratio)"
      ]
    },
    {
      "cell_type": "markdown",
      "id": "55914374",
      "metadata": {
        "id": "55914374"
      },
      "source": [
        "エラーメッセージは5行目を指摘していますが、その行には問題がありません。実際の問題は4行目にあり、ここで整数除算を使用しているため、`ratio`の値が`0`になっています。その結果として、`math.log10`を呼び出すと、`math domain error`というメッセージの`ValueError`が発生します。これは`0`が`math.log10`の有効な引数の「定義域」に含まれていないためで、`0`の対数は未定義だからです。\n",
        "\n",
        "一般的に、エラーメッセージは慎重に読み取るべきですが、そこに書かれていることがすべて正しいと鵜呑みにしないでください。"
      ]
    },
    {
      "cell_type": "markdown",
      "id": "8ffe690e",
      "metadata": {
        "id": "8ffe690e"
      },
      "source": [
        "## 用語集\n",
        "\n",
        "**再帰:**  \n",
        "現在実行中の関数を呼び出すプロセス。\n",
        "\n",
        "**剰余演算子:**  \n",
        "整数に働く演算子で、ある数を別の数で割ったときの余りを返します。\n",
        "\n",
        "**ブール式:**  \n",
        "値が `True` または `False` になる式。\n",
        "\n",
        "**関係演算子:**  \n",
        "オペランドを比較する演算子の一つ。`==`、`!=`、`>`、`<`、`>=`、および `<=` が含まれます。\n",
        "\n",
        "**論理演算子:**  \n",
        "ブール式を組み合わせる演算子の一つで、`and`、`or`、`not` を含みます。\n",
        "\n",
        "**条件文:**  \n",
        "ある条件に応じて実行の流れを制御する文。\n",
        "\n",
        "**条件:**  \n",
        "条件文に含まれるブール式で、どの分岐が実行されるかを決定します。\n",
        "\n",
        "**ブロック:**  \n",
        "他の文の一部であることを示すためにインデントされた1つ以上の文。\n",
        "\n",
        "**分岐:**  \n",
        "条件文の中の代替的な一連の文の一つ。\n",
        "\n",
        "**連鎖条件文:**  \n",
        "一連の代替分岐を持つ条件文。\n",
        "\n",
        "**ネストされた条件文:**  \n",
        "他の条件文の分岐の中に現れる条件文。\n",
        "\n",
        "**再帰的:**  \n",
        "自分自身を呼び出す関数は再帰的である。\n",
        "\n",
        "**基底ケース:**  \n",
        "再帰関数の中で再帰呼び出しをしない条件分岐。\n",
        "\n",
        "**無限再帰:**  \n",
        "基底ケースを持たないか、到達しない再帰。最終的に無限再帰はランタイムエラーを引き起こす。\n",
        "\n",
        "**改行:**  \n",
        "文字列の2つの部分の間に行を区切る文字。"
      ]
    },
    {
      "cell_type": "markdown",
      "id": "8d783953",
      "metadata": {
        "id": "8d783953"
      },
      "source": [
        "## 練習問題"
      ]
    },
    {
      "cell_type": "code",
      "execution_count": null,
      "id": "66aae3cb",
      "metadata": {
        "tags": [],
        "id": "66aae3cb"
      },
      "outputs": [],
      "source": [
        "# This cell tells Jupyter to provide detailed debugging information\n",
        "# when a runtime error occurs. Run it before working on the exercises.\n",
        "\n",
        "%xmode Verbose"
      ]
    },
    {
      "cell_type": "markdown",
      "id": "02f9f1d7",
      "metadata": {
        "id": "02f9f1d7"
      },
      "source": [
        "### 仮想アシスタントに質問する\n",
        "\n",
        "* 仮想アシスタントに、「剰余演算子の用途をいくつか教えてください」と尋ねる。\n",
        "\n",
        "仮想アシスタントに次のように訊ねてください。「論理xor演算とは何ですか、そしてPythonでそれをどのように計算しますか？」Pythonは、`and`、`or`、および `not`の論理演算を計算する演算子を提供しますが、通常`xor`と書かれる排他的`or`演算を計算する演算子はありません。\n",
        "\n",
        "この章では、連鎖条件またはネストされた条件を使用して、3つの分岐を持つ`if`文を書く方法を二つ見ました。それを一方から他方に変換するために仮想アシスタントを利用できます。例えば、VAに「この文を連鎖条件に変換してください。」と尋ねます。"
      ]
    },
    {
      "cell_type": "code",
      "execution_count": null,
      "id": "ade1ecb4",
      "metadata": {
        "tags": [],
        "id": "ade1ecb4"
      },
      "outputs": [],
      "source": [
        "x = 5\n",
        "y = 7"
      ]
    },
    {
      "cell_type": "code",
      "execution_count": null,
      "id": "dc7026c2",
      "metadata": {
        "id": "dc7026c2"
      },
      "outputs": [],
      "source": [
        "if x == y:\n",
        "    print('x and y are equal')\n",
        "else:\n",
        "    if x < y:\n",
        "        print('x is less than y')\n",
        "    else:\n",
        "        print('x is greater than y')"
      ]
    },
    {
      "cell_type": "markdown",
      "id": "9c2a8466",
      "metadata": {
        "id": "9c2a8466"
      },
      "source": [
        "VAに依頼する際は、「この文を単一の条件文に書き換えてください。」と言ってください。"
      ]
    },
    {
      "cell_type": "code",
      "execution_count": null,
      "id": "1fd919ea",
      "metadata": {
        "id": "1fd919ea"
      },
      "outputs": [],
      "source": [
        "if 0 < x:\n",
        "    if x < 10:\n",
        "        print('x is a positive single-digit number.')"
      ]
    },
    {
      "cell_type": "markdown",
      "id": "e0fbed08",
      "metadata": {
        "id": "e0fbed08"
      },
      "source": [
        "この不必要な複雑さを簡素化できるかどうか、VAに確認してみてください。"
      ]
    },
    {
      "cell_type": "code",
      "execution_count": null,
      "id": "1e71702e",
      "metadata": {
        "id": "1e71702e"
      },
      "outputs": [],
      "source": [
        "if not x <= 0 and not x >= 10:\n",
        "    print('x is a positive single-digit number.')"
      ]
    },
    {
      "cell_type": "markdown",
      "id": "74ef776d",
      "metadata": {
        "id": "74ef776d"
      },
      "source": [
        "ここに2ずつカウントダウンする再帰関数の試みがあります。"
      ]
    },
    {
      "cell_type": "code",
      "execution_count": null,
      "id": "84cbd5a4",
      "metadata": {
        "id": "84cbd5a4"
      },
      "outputs": [],
      "source": [
        "def countdown_by_two(n):\n",
        "    if n == 0:\n",
        "        print('Blastoff!')\n",
        "    else:\n",
        "        print(n)\n",
        "        countdown_by_two(n-2)"
      ]
    },
    {
      "cell_type": "markdown",
      "id": "77178e79",
      "metadata": {
        "id": "77178e79"
      },
      "source": [
        "うまくいっているようです。"
      ]
    },
    {
      "cell_type": "code",
      "execution_count": null,
      "id": "b0918789",
      "metadata": {
        "id": "b0918789"
      },
      "outputs": [],
      "source": [
        "countdown_by_two(6)"
      ]
    },
    {
      "cell_type": "markdown",
      "id": "c9d3a8dc",
      "metadata": {
        "id": "c9d3a8dc"
      },
      "source": [
        "エラーがありますが、何が問題でどのように修正するかをバーチャルアシスタントに尋ねてください。\n",
        "そのアシスタントが提供する解決策をここに貼り付けてテストしてください。"
      ]
    },
    {
      "cell_type": "markdown",
      "id": "240a3888",
      "metadata": {
        "id": "240a3888"
      },
      "source": [
        "### 練習問題\n",
        "\n",
        "`time`モジュールには、`time`と呼ばれる関数があり、\"Unixエポック\"、つまり1970年1月1日00:00:00 UTC（協定世界時）からの秒数を返します。"
      ]
    },
    {
      "cell_type": "code",
      "execution_count": null,
      "id": "1e7a2c07",
      "metadata": {
        "id": "1e7a2c07"
      },
      "outputs": [],
      "source": [
        "from time import time\n",
        "\n",
        "now = time()\n",
        "now"
      ]
    },
    {
      "cell_type": "markdown",
      "id": "054c3197",
      "metadata": {
        "id": "054c3197"
      },
      "source": [
        "To calculate the number of days since January 1, 1970, and the current time of day (in hours, minutes, and seconds) using integer division and the modulus operator, follow these steps:\n",
        "\n",
        "1. First, obtain the current Unix timestamp, which is the number of seconds since January 1, 1970.\n",
        "\n",
        "2. Compute the number of days since January 1, 1970:\n",
        "   - Use integer division to divide the total seconds by the number of seconds in a day:\n",
        "     \\[\n",
        "     \\text{days} = \\frac{\\text{total seconds}}{86400}\n",
        "     \\]\n",
        "   where 86400 is the number of seconds in a day (24 hours × 60 minutes × 60 seconds).\n",
        "\n",
        "3. Compute the current time of day in terms of hours, minutes, and seconds:\n",
        "   - First, find the number of seconds since midnight by using the modulus operator:\n",
        "     \\[\n",
        "     \\text{seconds since midnight} = \\text{total seconds} \\mod 86400\n",
        "     \\]\n",
        "\n",
        "   - Compute the current hour of the day using integer division:\n",
        "     \\[\n",
        "     \\text{hours} = \\frac{\\text{seconds since midnight}}{3600}\n",
        "     \\]\n",
        "   where 3600 is the number of seconds in an hour (60 minutes × 60 seconds).\n",
        "\n",
        "   - Compute the remaining minutes:\n",
        "     - First, calculate the remaining seconds after hours:\n",
        "       \\[\n",
        "       \\text{remaining seconds} = \\text{seconds since midnight} \\mod 3600\n",
        "       \\]\n",
        "     - Then calculate the minutes using integer division:\n",
        "       \\[\n",
        "       \\text{minutes} = \\frac{\\text{remaining seconds}}{60}\n",
        "       \\]\n",
        "\n",
        "   - Compute the remaining seconds after minutes:\n",
        "     \\[\n",
        "     \\text{remaining seconds after minutes} = \\text{remaining seconds} \\mod 60\n",
        "     \\]\n",
        "\n",
        "This will give you the current time of day in hours, minutes, and seconds.\n",
        "\n",
        "Note that you would need programming tools or a calculator to input the current Unix timestamp and perform these operations in practice."
      ]
    },
    {
      "cell_type": "markdown",
      "id": "310196ba",
      "metadata": {
        "tags": [],
        "id": "310196ba"
      },
      "source": [
        "`time`モジュールについての詳細は、<https://docs.python.org/3/library/time.html>で読むことができます。"
      ]
    },
    {
      "cell_type": "code",
      "execution_count": null,
      "id": "c5fa57b2",
      "metadata": {
        "id": "c5fa57b2"
      },
      "outputs": [],
      "source": [
        "# Solution goes here"
      ]
    },
    {
      "cell_type": "code",
      "execution_count": null,
      "id": "322ddd0a",
      "metadata": {
        "id": "322ddd0a"
      },
      "outputs": [],
      "source": [
        "# Solution goes here"
      ]
    },
    {
      "cell_type": "code",
      "execution_count": null,
      "id": "fc43df7d",
      "metadata": {
        "id": "fc43df7d"
      },
      "outputs": [],
      "source": [
        "# Solution goes here"
      ]
    },
    {
      "cell_type": "code",
      "execution_count": null,
      "id": "0184d21a",
      "metadata": {
        "id": "0184d21a"
      },
      "outputs": [],
      "source": [
        "# Solution goes here"
      ]
    },
    {
      "cell_type": "markdown",
      "id": "6b1fd514",
      "metadata": {
        "id": "6b1fd514"
      },
      "source": [
        "```python\n",
        "def is_triangle(a, b, c):\n",
        "    if a > b + c or b > a + c or c > a + b:\n",
        "        print(\"No\")\n",
        "    else:\n",
        "        print(\"Yes\")\n",
        "\n",
        "# Example usage:\n",
        "is_triangle(3, 4, 5)  # This should print \"Yes\"\n",
        "is_triangle(1, 10, 12)  # This should print \"No\"\n",
        "```\n",
        "\n",
        "この関数 `is_triangle` は、3本の棒の長さを引数として受け取り、それらの長さで三角形を作成できるかどうかを判定します。もし、ある棒の長さが他の2本の棒の長さの合計を超える場合、その3本の棒では三角形を作ることができません。この条件を満たす場合 \"No\" を出力し、条件を満たさない場合は \"Yes\" を出力します。"
      ]
    },
    {
      "cell_type": "code",
      "execution_count": null,
      "id": "06381639",
      "metadata": {
        "tags": [],
        "id": "06381639"
      },
      "outputs": [],
      "source": [
        "# Solution goes here"
      ]
    },
    {
      "cell_type": "markdown",
      "id": "2842401c",
      "metadata": {
        "tags": [],
        "id": "2842401c"
      },
      "source": [
        "もちろん、テストケースを共有していただければ翻訳いたします。どうぞお知らせください。"
      ]
    },
    {
      "cell_type": "code",
      "execution_count": null,
      "id": "156273af",
      "metadata": {
        "tags": [],
        "id": "156273af"
      },
      "outputs": [],
      "source": [
        "is_triangle(4, 5, 6)   # should be Yes"
      ]
    },
    {
      "cell_type": "code",
      "execution_count": null,
      "id": "e00793f4",
      "metadata": {
        "tags": [],
        "id": "e00793f4"
      },
      "outputs": [],
      "source": [
        "is_triangle(1, 2, 3)   # should be Yes"
      ]
    },
    {
      "cell_type": "code",
      "execution_count": null,
      "id": "d2911c71",
      "metadata": {
        "tags": [],
        "id": "d2911c71"
      },
      "outputs": [],
      "source": [
        "is_triangle(6, 2, 3)   # should be No"
      ]
    },
    {
      "cell_type": "code",
      "execution_count": null,
      "id": "2b05586e",
      "metadata": {
        "tags": [],
        "id": "2b05586e"
      },
      "outputs": [],
      "source": [
        "is_triangle(1, 1, 12)   # should be No"
      ]
    },
    {
      "cell_type": "markdown",
      "id": "2ba42106",
      "metadata": {
        "id": "2ba42106"
      },
      "source": [
        "申し訳ありませんが、現在のところ図を作成することはできません。それでも、プログラムの出力について説明することや、そのプログラムの特定の遷移状態についての詳細を提供することはできます。プログラムの具体的な内容を教えていただければ、喜んでお手伝いさせていただきます。"
      ]
    },
    {
      "cell_type": "code",
      "execution_count": null,
      "id": "dac374ad",
      "metadata": {
        "id": "dac374ad"
      },
      "outputs": [],
      "source": [
        "def recurse(n, s):\n",
        "    if n == 0:\n",
        "        print(s)\n",
        "    else:\n",
        "        recurse(n-1, n+s)\n",
        "\n",
        "recurse(3, 0)"
      ]
    },
    {
      "cell_type": "code",
      "execution_count": null,
      "id": "a438cec5",
      "metadata": {
        "id": "a438cec5"
      },
      "outputs": [],
      "source": [
        "# Solution goes here"
      ]
    },
    {
      "cell_type": "code",
      "execution_count": null,
      "id": "2e3f56c7",
      "metadata": {
        "tags": [],
        "id": "2e3f56c7"
      },
      "outputs": [],
      "source": [
        "# Solution goes here"
      ]
    },
    {
      "cell_type": "markdown",
      "id": "bca9517d",
      "metadata": {
        "id": "bca9517d"
      },
      "source": [
        "### 演習\n",
        "\n",
        "次の演習では、Chapter 4で説明されている `jupyturtle` モジュールを使用します。\n",
        "\n",
        "次の関数を読んでみて、それが何をするか考えてみましょう。\n",
        "それからそれを実行して、あなたの予想が正しかったかどうか確認してください。\n",
        "`length`、`angle`、`factor` の値を調整して、それらが結果にどのような影響を与えるかを確認してください。\n",
        "もし、どのように動作するか十分理解できない場合は、バーチャルアシスタントに質問してみてください。"
      ]
    },
    {
      "cell_type": "code",
      "execution_count": null,
      "id": "2b0d60a1",
      "metadata": {
        "id": "2b0d60a1"
      },
      "outputs": [],
      "source": [
        "from jupyturtle import forward, left, right, back\n",
        "\n",
        "def draw(length):\n",
        "    angle = 50\n",
        "    factor = 0.6\n",
        "\n",
        "    if length > 5:\n",
        "        forward(length)\n",
        "        left(angle)\n",
        "        draw(factor * length)\n",
        "        right(2 * angle)\n",
        "        draw(factor * length)\n",
        "        left(angle)\n",
        "        back(length)"
      ]
    },
    {
      "cell_type": "code",
      "execution_count": null,
      "id": "ef0256ee",
      "metadata": {
        "id": "ef0256ee"
      },
      "outputs": [],
      "source": [
        "# Solution goes here"
      ]
    },
    {
      "cell_type": "markdown",
      "id": "e525ba59",
      "metadata": {
        "id": "e525ba59"
      },
      "source": [
        "申し訳ありませんが、Pythonコードを日本語の説明に翻訳します。\n",
        "\n",
        "コッホ曲線の長さ `x` を描くためには、次の手順を実行します。\n",
        "\n",
        "1. `x/3` の長さを持つコッホ曲線を描きます。\n",
        "\n",
        "2. 60度左に回転します。\n",
        "\n",
        "3. `x/3` の長さを持つコッホ曲線を描きます。\n",
        "\n",
        "4. 120度右に回転します。\n",
        "\n",
        "5. `x/3` の長さを持つコッホ曲線を描きます。\n",
        "\n",
        "6. 60度左に回転します。\n",
        "\n",
        "7. `x/3` の長さを持つコッホ曲線を描きます。\n",
        "\n",
        "例外として、もし `x` が5未満の場合は、単に `x` の長さで直線を描けばよいです。\n",
        "\n",
        "次に、指定された長さでコッホ曲線を描くための関数 `koch` を作成します。\n",
        "\n",
        "```python\n",
        "import turtle\n",
        "\n",
        "def koch(x):\n",
        "    if x < 5:\n",
        "        turtle.forward(x)\n",
        "    else:\n",
        "        koch(x / 3)\n",
        "        turtle.left(60)\n",
        "        koch(x / 3)\n",
        "        turtle.right(120)\n",
        "        koch(x / 3)\n",
        "        turtle.left(60)\n",
        "        koch(x / 3)\n",
        "\n",
        "# 使用例\n",
        "turtle.speed(0)  # 描画速度を最大に\n",
        "koch(300)\n",
        "turtle.done()\n",
        "```\n",
        "\n",
        "このコードでは、Pythonの`turtle`モジュールを使用して画面にコッホ曲線を描画しています。`koch`関数は再帰的に呼び出され、指定された長さに従って曲線を構築します。`x`が5未満の場合は、単にまっすぐな線を引きます。それ以上の場合は、コッホ曲線を4つの小さなセグメントに分割し、それぞれの間で指定された角度で回転します。"
      ]
    },
    {
      "cell_type": "code",
      "execution_count": null,
      "id": "c1acc853",
      "metadata": {
        "id": "c1acc853"
      },
      "outputs": [],
      "source": [
        "# Solution goes here"
      ]
    },
    {
      "cell_type": "markdown",
      "id": "2991143a",
      "metadata": {
        "id": "2991143a"
      },
      "source": [
        "結果は次のようになります。"
      ]
    },
    {
      "cell_type": "code",
      "execution_count": null,
      "id": "55507716",
      "metadata": {
        "id": "55507716"
      },
      "outputs": [],
      "source": [
        "make_turtle(delay=0)\n",
        "koch(120)"
      ]
    },
    {
      "cell_type": "markdown",
      "id": "b1c58420",
      "metadata": {
        "tags": [],
        "id": "b1c58420"
      },
      "source": [
        "コッホ曲線が機能するようになったら、このループを使って、雪の結晶の形で3つのコッホ曲線を描くことができます。"
      ]
    },
    {
      "cell_type": "code",
      "execution_count": null,
      "id": "86d3123b",
      "metadata": {
        "tags": [],
        "id": "86d3123b"
      },
      "outputs": [],
      "source": [
        "make_turtle(delay=0, height=300)\n",
        "for i in range(3):\n",
        "    koch(120)\n",
        "    right(120)"
      ]
    },
    {
      "cell_type": "markdown",
      "id": "4c964239",
      "metadata": {
        "id": "4c964239"
      },
      "source": [
        "プログラム例を使って `jupyturtle` モジュールについて説明し、その後にシェルピンスキーの三角形を描くプログラムを作成するように仮想アシスタントに依頼します。\n",
        "\n",
        "まず、`jupyturtle` モジュールを使ったプログラムの例を示します。\n",
        "\n",
        "```python\n",
        "import jupyturtle\n",
        "from jupyturtle import Turtle\n",
        "\n",
        "t = Turtle()\n",
        "t.forward(100)\n",
        "t.right(90)\n",
        "t.forward(100)\n",
        "t.done()\n",
        "```\n",
        "\n",
        "上記のように、`jupyturtle` モジュールを使用することで基本的な図形を描くことができます。今度は、シェルピンスキーの三角形を描画するプログラムを依頼します。\n",
        "\n",
        "以下は、シェルピンスキーの三角形を描く Python プログラムのサンプルです：\n",
        "\n",
        "```python\n",
        "import jupyturtle\n",
        "from jupyturtle import Turtle\n",
        "\n",
        "def sierpinski(turtle, order, size):\n",
        "    if order == 0:\n",
        "        for _ in range(3):\n",
        "            turtle.forward(size)\n",
        "            turtle.left(120)\n",
        "    else:\n",
        "        size /= 2\n",
        "        sierpinski(turtle, order - 1, size)\n",
        "        turtle.forward(size)\n",
        "        sierpinski(turtle, order - 1, size)\n",
        "        turtle.back(size)\n",
        "        turtle.left(60)\n",
        "        turtle.forward(size)\n",
        "        turtle.right(60)\n",
        "        sierpinski(turtle, order - 1, size)\n",
        "        turtle.left(60)\n",
        "        turtle.back(size)\n",
        "        turtle.right(60)\n",
        "\n",
        "# メインプログラム\n",
        "t = Turtle()\n",
        "t.speed(0)  # 高速で描く\n",
        "sierpinski(t, 3, 200)  # order: 3, size: 200\n",
        "t.done()\n",
        "```\n",
        "\n",
        "このプログラムでは、再帰的な関数 `sierpinski` を使用してシェルピンスキーの三角形を描画します。再帰の深さは `order` パラメータで指定され、サイズは `size` パラメータで制御されます。`order` を増やすと、より詳細なシェルピンスキーの三角形を描画できます。"
      ]
    },
    {
      "cell_type": "code",
      "execution_count": null,
      "id": "68439acf",
      "metadata": {
        "id": "68439acf"
      },
      "outputs": [],
      "source": [
        "# Solution goes here"
      ]
    },
    {
      "cell_type": "markdown",
      "id": "6a95097a",
      "metadata": {
        "id": "6a95097a"
      },
      "source": [
        "これが結果の一例です。ただし、お使いのバージョンは異なる可能性があります。"
      ]
    },
    {
      "cell_type": "code",
      "execution_count": null,
      "id": "43470b3d",
      "metadata": {
        "id": "43470b3d"
      },
      "outputs": [],
      "source": [
        "make_turtle(delay=0, height=200)\n",
        "\n",
        "draw_sierpinski(100, 3)"
      ]
    },
    {
      "cell_type": "code",
      "execution_count": null,
      "id": "9d6969d4",
      "metadata": {
        "id": "9d6969d4"
      },
      "outputs": [],
      "source": []
    },
    {
      "cell_type": "markdown",
      "id": "a7f4edf8",
      "metadata": {
        "tags": [],
        "id": "a7f4edf8"
      },
      "source": [
        "[Think Python: 第3版](https://allendowney.github.io/ThinkPython/index.html)\n",
        "\n",
        "著作権 2024 [Allen B. Downey](https://allendowney.com)\n",
        "\n",
        "コードライセンス: [MITライセンス](https://mit-license.org/)\n",
        "\n",
        "テキストライセンス: [Creative Commons 表示 - 非営利 - 継承 4.0 国際](https://creativecommons.org/licenses/by-nc-sa/4.0/)"
      ]
    }
  ],
  "metadata": {
    "celltoolbar": "Tags",
    "kernelspec": {
      "display_name": "Python 3 (ipykernel)",
      "language": "python",
      "name": "python3"
    },
    "language_info": {
      "codemirror_mode": {
        "name": "ipython",
        "version": 3
      },
      "file_extension": ".py",
      "mimetype": "text/x-python",
      "name": "python",
      "nbconvert_exporter": "python",
      "pygments_lexer": "ipython3",
      "version": "3.10.11"
    },
    "colab": {
      "provenance": [],
      "include_colab_link": true
    }
  },
  "nbformat": 4,
  "nbformat_minor": 5
}