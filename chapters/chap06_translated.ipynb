{
  "cells": [
    {
      "cell_type": "markdown",
      "metadata": {
        "id": "view-in-github",
        "colab_type": "text"
      },
      "source": [
        "<a href=\"https://colab.research.google.com/github/kooll/ThinkPythonJ/blob/main/chapters/chap06_translated.ipynb\" target=\"_parent\"><img src=\"https://colab.research.google.com/assets/colab-badge.svg\" alt=\"Open In Colab\"/></a>"
      ]
    },
    {
      "cell_type": "markdown",
      "id": "1331faa1",
      "metadata": {
        "id": "1331faa1"
      },
      "source": [
        "*Think Python 3e* のプリント版および電子書籍版は、[Bookshop.org](https://bookshop.org/a/98697/9781098155438) や [Amazon](https://www.amazon.com/_/dp/1098155432?smid=ATVPDKIKX0DER&_encoding=UTF8&tag=oreilly20-20&_encoding=UTF8&tag=greenteapre01-20&linkCode=ur2&linkId=e2a529f94920295d27ec8a06e757dc7c&camp=1789&creative=9325) で注文できます。"
      ]
    },
    {
      "cell_type": "code",
      "execution_count": null,
      "id": "56b1c184",
      "metadata": {
        "tags": [],
        "id": "56b1c184"
      },
      "outputs": [],
      "source": [
        "from os.path import basename, exists\n",
        "\n",
        "def download(url):\n",
        "    filename = basename(url)\n",
        "    if not exists(filename):\n",
        "        from urllib.request import urlretrieve\n",
        "\n",
        "        local, _ = urlretrieve(url, filename)\n",
        "        print(\"Downloaded \" + str(local))\n",
        "    return filename\n",
        "\n",
        "download('https://github.com/AllenDowney/ThinkPython/raw/v3/thinkpython.py');\n",
        "download('https://github.com/AllenDowney/ThinkPython/raw/v3/diagram.py');\n",
        "\n",
        "import thinkpython"
      ]
    },
    {
      "cell_type": "markdown",
      "id": "88ecc443",
      "metadata": {
        "id": "88ecc443"
      },
      "source": [
        "# 戻り値\n",
        "\n",
        "以前の章では、`abs` や `round` のような組み込み関数や、`sqrt` や `pow` のような数学モジュール内の関数を使用してきました。\n",
        "これらの関数を呼び出すと、変数に代入したり式の一部として使える値を返します。\n",
        "\n",
        "これまでに書いた関数は少し異なります。\n",
        "中には `print` 関数を使って値を表示する関数や、タートル関数を使って図形を描く関数がありますが、変数に代入したり式で使う値を返しません。\n",
        "\n",
        "この章では、値を返す関数を書く方法について学びます。"
      ]
    },
    {
      "cell_type": "markdown",
      "id": "6cf2cf80",
      "metadata": {
        "id": "6cf2cf80"
      },
      "source": [
        "## 関数の中には戻り値を持つものがあります\n",
        "\n",
        "`math.sqrt` のような関数を呼び出すと、その結果は**戻り値**と呼ばれます。\n",
        "セルの最後に関数の呼び出しが現れる場合、Jupyter はその戻り値を即座に表示します。"
      ]
    },
    {
      "cell_type": "code",
      "execution_count": null,
      "id": "e0e1dd91",
      "metadata": {
        "id": "e0e1dd91"
      },
      "outputs": [],
      "source": [
        "import math\n",
        "\n",
        "math.sqrt(42 / math.pi)"
      ]
    },
    {
      "cell_type": "markdown",
      "id": "4b4885c2",
      "metadata": {
        "id": "4b4885c2"
      },
      "source": [
        "返り値を変数に代入すると、表示されません。"
      ]
    },
    {
      "cell_type": "code",
      "execution_count": null,
      "id": "5aaf62d2",
      "metadata": {
        "id": "5aaf62d2"
      },
      "outputs": [],
      "source": [
        "radius = math.sqrt(42 / math.pi)"
      ]
    },
    {
      "cell_type": "markdown",
      "id": "196c692b",
      "metadata": {
        "id": "196c692b"
      },
      "source": [
        "ただし、後で表示することができます。"
      ]
    },
    {
      "cell_type": "code",
      "execution_count": null,
      "id": "741f7386",
      "metadata": {
        "id": "741f7386"
      },
      "outputs": [],
      "source": [
        "radius"
      ]
    },
    {
      "cell_type": "markdown",
      "id": "257b28d5",
      "metadata": {
        "id": "257b28d5"
      },
      "source": [
        "または、戻り値を式の一部として使用することもできます。"
      ]
    },
    {
      "cell_type": "code",
      "execution_count": null,
      "id": "e56d39c4",
      "metadata": {
        "id": "e56d39c4"
      },
      "outputs": [],
      "source": [
        "radius + math.sqrt(42 / math.pi)"
      ]
    },
    {
      "cell_type": "markdown",
      "id": "23ed47ab",
      "metadata": {
        "id": "23ed47ab"
      },
      "source": [
        "こちらは値を返す関数の例です。"
      ]
    },
    {
      "cell_type": "code",
      "execution_count": null,
      "id": "50a9a9be",
      "metadata": {
        "id": "50a9a9be"
      },
      "outputs": [],
      "source": [
        "def circle_area(radius):\n",
        "    area = math.pi * radius**2\n",
        "    return area"
      ]
    },
    {
      "cell_type": "markdown",
      "id": "273acabc",
      "metadata": {
        "id": "273acabc"
      },
      "source": [
        "`circle_area` は `radius` をパラメータとして受け取り、その半径を持つ円の面積を計算します。\n",
        "\n",
        "最後の行は `area` の値を返す `return` 文です。\n",
        "\n",
        "もしこのように関数を呼び出すと、Jupyter は返り値を表示します。"
      ]
    },
    {
      "cell_type": "code",
      "execution_count": null,
      "id": "d70fd9b5",
      "metadata": {
        "id": "d70fd9b5"
      },
      "outputs": [],
      "source": [
        "circle_area(radius)"
      ]
    },
    {
      "cell_type": "markdown",
      "id": "4f28bfd6",
      "metadata": {
        "id": "4f28bfd6"
      },
      "source": [
        "戻り値を変数に代入することができます。"
      ]
    },
    {
      "cell_type": "code",
      "execution_count": null,
      "id": "ef20ba8c",
      "metadata": {
        "id": "ef20ba8c"
      },
      "outputs": [],
      "source": [
        "a = circle_area(radius)"
      ]
    },
    {
      "cell_type": "markdown",
      "id": "3f82fe70",
      "metadata": {
        "id": "3f82fe70"
      },
      "source": [
        "または、表現の一部として使用してください。"
      ]
    },
    {
      "cell_type": "code",
      "execution_count": null,
      "id": "0a4670f4",
      "metadata": {
        "id": "0a4670f4"
      },
      "outputs": [],
      "source": [
        "circle_area(radius) + 2 * circle_area(radius / 2)"
      ]
    },
    {
      "cell_type": "markdown",
      "id": "15122fd2",
      "metadata": {
        "id": "15122fd2"
      },
      "source": [
        "後で、結果を代入した変数の値を表示できます。"
      ]
    },
    {
      "cell_type": "code",
      "execution_count": null,
      "id": "6e6460b9",
      "metadata": {
        "id": "6e6460b9"
      },
      "outputs": [],
      "source": [
        "a"
      ]
    },
    {
      "cell_type": "markdown",
      "id": "a3f6dcae",
      "metadata": {
        "id": "a3f6dcae"
      },
      "source": [
        "しかし、`area`にアクセスできません。"
      ]
    },
    {
      "cell_type": "code",
      "execution_count": null,
      "id": "77613df9",
      "metadata": {
        "tags": [],
        "id": "77613df9"
      },
      "outputs": [],
      "source": [
        "%%expect NameError\n",
        "\n",
        "area"
      ]
    },
    {
      "cell_type": "markdown",
      "id": "f8ace9ce",
      "metadata": {
        "id": "f8ace9ce"
      },
      "source": [
        "`area`は関数内のローカル変数なので、関数の外からアクセスすることはできません。"
      ]
    },
    {
      "cell_type": "markdown",
      "id": "41a4f03f",
      "metadata": {
        "id": "41a4f03f"
      },
      "source": [
        "## そして、いくつかはNoneを持つ\n",
        "\n",
        "関数が`return`ステートメントを持たない場合、それは`None`を返します。`None`は`True`や`False`のような特別な値です。\n",
        "例えば、こちらは第3章の`repeat`関数です。"
      ]
    },
    {
      "cell_type": "code",
      "execution_count": null,
      "id": "89c083f8",
      "metadata": {
        "id": "89c083f8"
      },
      "outputs": [],
      "source": [
        "def repeat(word, n):\n",
        "    print(word * n)"
      ]
    },
    {
      "cell_type": "markdown",
      "id": "6ada19cf",
      "metadata": {
        "id": "6ada19cf"
      },
      "source": [
        "このように呼び出すと、モンティ・パイソンの曲「Finland」の最初の行が表示されます。"
      ]
    },
    {
      "cell_type": "code",
      "execution_count": null,
      "id": "737b67ca",
      "metadata": {
        "id": "737b67ca"
      },
      "outputs": [],
      "source": [
        "repeat('Finland, ', 3)"
      ]
    },
    {
      "cell_type": "markdown",
      "id": "fe49f5e5",
      "metadata": {
        "id": "fe49f5e5"
      },
      "source": [
        "この関数は、`print` 関数を使用して文字列を表示しますが、`return` 文を使用して値を返しません。\n",
        "もしその結果を変数に代入すると、やはり文字列は表示されます。"
      ]
    },
    {
      "cell_type": "code",
      "execution_count": null,
      "id": "9b4fa14f",
      "metadata": {
        "id": "9b4fa14f"
      },
      "outputs": [],
      "source": [
        "result = repeat('Finland, ', 3)"
      ]
    },
    {
      "cell_type": "markdown",
      "id": "4ecabbdb",
      "metadata": {
        "id": "4ecabbdb"
      },
      "source": [
        "変数の値を表示すると、何も得られません。"
      ]
    },
    {
      "cell_type": "code",
      "execution_count": null,
      "id": "50f96bcb",
      "metadata": {
        "id": "50f96bcb"
      },
      "outputs": [],
      "source": [
        "result"
      ]
    },
    {
      "cell_type": "markdown",
      "id": "07033959",
      "metadata": {
        "id": "07033959"
      },
      "source": [
        "`result` には実際に値が入っていますが、Jupyter はそれを表示しません。\n",
        "しかし、次のように表示することができます。"
      ]
    },
    {
      "cell_type": "code",
      "execution_count": null,
      "id": "6712f2df",
      "metadata": {
        "id": "6712f2df"
      },
      "outputs": [],
      "source": [
        "print(result)"
      ]
    },
    {
      "cell_type": "markdown",
      "id": "379b98c5",
      "metadata": {
        "id": "379b98c5"
      },
      "source": [
        "`repeat` の戻り値は `None` です。\n",
        "\n",
        "ここに `repeat` に似た関数がありますが、これには戻り値があります。"
      ]
    },
    {
      "cell_type": "code",
      "execution_count": null,
      "id": "0ec1afd3",
      "metadata": {
        "id": "0ec1afd3"
      },
      "outputs": [],
      "source": [
        "def repeat_string(word, n):\n",
        "    return word * n"
      ]
    },
    {
      "cell_type": "markdown",
      "id": "db6ad3d4",
      "metadata": {
        "id": "db6ad3d4"
      },
      "source": [
        "`return`文では変数だけでなく、式も使用できることに注意してください。\n",
        "\n",
        "このバージョンでは、結果を変数に代入できます。\n",
        "関数が実行されると、何も表示されません。"
      ]
    },
    {
      "cell_type": "code",
      "execution_count": null,
      "id": "c82334b6",
      "metadata": {
        "id": "c82334b6"
      },
      "outputs": [],
      "source": [
        "line = repeat_string('Spam, ', 4)"
      ]
    },
    {
      "cell_type": "markdown",
      "id": "1232cd8a",
      "metadata": {
        "id": "1232cd8a"
      },
      "source": [
        "ただし、後で`line`に割り当てられた値を表示することができます。"
      ]
    },
    {
      "cell_type": "code",
      "execution_count": null,
      "id": "595ec598",
      "metadata": {
        "id": "595ec598"
      },
      "outputs": [],
      "source": [
        "line"
      ]
    },
    {
      "cell_type": "markdown",
      "id": "ae02c7d2",
      "metadata": {
        "id": "ae02c7d2"
      },
      "source": [
        "このような関数は、値を返すこと以外に何も表示したり他の効果を持たないため、**純粋関数**と呼ばれます。"
      ]
    },
    {
      "cell_type": "markdown",
      "id": "567ae734",
      "metadata": {
        "id": "567ae734"
      },
      "source": [
        "## 戻り値と条件分岐\n",
        "\n",
        "もしPythonが`abs`を提供していなかったとしても、私たちは次のようにそれを書くことができます。"
      ]
    },
    {
      "cell_type": "code",
      "execution_count": null,
      "id": "236c59e6",
      "metadata": {
        "id": "236c59e6"
      },
      "outputs": [],
      "source": [
        "def absolute_value(x):\n",
        "    if x < 0:\n",
        "        return -x\n",
        "    else:\n",
        "        return x"
      ]
    },
    {
      "cell_type": "markdown",
      "id": "ffd559b8",
      "metadata": {
        "id": "ffd559b8"
      },
      "source": [
        "`x` が負の場合、最初の `return` 文が `-x` を返し、関数は直ちに終了します。\n",
        "それ以外の場合、2番目の `return` 文が `x` を返し、関数は終了します。\n",
        "したがって、この関数は正しいです。\n",
        "\n",
        "しかし、`return` 文を条件文に組み込む場合は、プログラムのすべてのパスが `return` 文に到達することを確認する必要があります。\n",
        "例えば、こちらは正しくない `absolute_value` のバージョンです。"
      ]
    },
    {
      "cell_type": "code",
      "execution_count": null,
      "id": "2f60639c",
      "metadata": {
        "id": "2f60639c"
      },
      "outputs": [],
      "source": [
        "def absolute_value_wrong(x):\n",
        "    if x < 0:\n",
        "        return -x\n",
        "    if x > 0:\n",
        "        return x"
      ]
    },
    {
      "cell_type": "markdown",
      "id": "da3280ae",
      "metadata": {
        "id": "da3280ae"
      },
      "source": [
        "この関数を引数として `0` を渡して呼び出すと、次のようなことが起こります。"
      ]
    },
    {
      "cell_type": "code",
      "execution_count": null,
      "id": "c9dae6c8",
      "metadata": {
        "id": "c9dae6c8"
      },
      "outputs": [],
      "source": [
        "absolute_value_wrong(0)"
      ]
    },
    {
      "cell_type": "markdown",
      "id": "5733f239",
      "metadata": {
        "id": "5733f239"
      },
      "source": [
        "何も得られません！問題は、`x` が `0` の時、どちらの条件も満たさないため、関数は `return` 文に到達せずに終了します。これにより、戻り値が `None` となり、Jupyter は何も表示しません。\n",
        "\n",
        "別の例として、最後に余分な `return` 文を追加した `absolute_value` 関数のバージョンを示します。"
      ]
    },
    {
      "cell_type": "code",
      "execution_count": null,
      "id": "c8c4edee",
      "metadata": {
        "id": "c8c4edee"
      },
      "outputs": [],
      "source": [
        "def absolute_value_extra_return(x):\n",
        "    if x < 0:\n",
        "        return -x\n",
        "    else:\n",
        "        return x\n",
        "\n",
        "    return 'This is dead code'"
      ]
    },
    {
      "cell_type": "markdown",
      "id": "cf5486fd",
      "metadata": {
        "id": "cf5486fd"
      },
      "source": [
        "`x` が負の場合、最初の `return` 文が実行され、関数は終了します。\n",
        "それ以外の場合、2番目の `return` 文が実行され、関数は終了します。\n",
        "どちらの場合でも、3番目の `return` 文に到達することはないため、実行されることはありません。\n",
        "\n",
        "実行されることのないコードは**デッドコード**と呼ばれます。\n",
        "一般に、デッドコードは害を及ぼすことはありませんが、誤解を示していることが多く、そのプログラムを理解しようとする人にとっては混乱を招くことがあります。"
      ]
    },
    {
      "cell_type": "markdown",
      "id": "68a6ae39",
      "metadata": {
        "tags": [],
        "id": "68a6ae39"
      },
      "source": [
        "## インクリメンタル・デベロップメント\n",
        "\n",
        "大きな関数を書く際に、デバッグに多くの時間を費やすことになるかもしれません。\n",
        "プログラムがますます複雑になるにつれて、このような状況に対処するためには、**インクリメンタル・デベロップメント**（増分開発）を試すと良いでしょう。これは、一度に少量のコードを追加しテストする方法です。\n",
        "\n",
        "例として、座標$(x_1, y_1)$と$(x_2, y_2)$で表される2点間の距離を見つけたいとします。\n",
        "ピタゴラスの定理に従えば、距離は以下の通りです：\n",
        "\n",
        "$$\\mathrm{distance} = \\sqrt{(x_2 - x_1)^2 + (y_2 - y_1)^2}$$\n",
        "\n",
        "最初のステップは、Pythonでの`distance`関数の形を考えることです -- つまり、入力（パラメータ）は何で、出力（戻り値）は何かということです。\n",
        "\n",
        "この関数の場合、入力は2点の座標になります。\n",
        "戻り値は距離です。\n",
        "すぐに関数の概要を書くことができます："
      ]
    },
    {
      "cell_type": "code",
      "execution_count": null,
      "id": "bbcab1ed",
      "metadata": {
        "id": "bbcab1ed"
      },
      "outputs": [],
      "source": [
        "def distance(x1, y1, x2, y2):\n",
        "    return 0.0"
      ]
    },
    {
      "cell_type": "markdown",
      "id": "7b384fcf",
      "metadata": {
        "id": "7b384fcf"
      },
      "source": [
        "このバージョンはまだ距離を計算しません -- 常にゼロを返します。\n",
        "しかし、戻り値を持つ完全な関数であるため、より複雑にする前にテストすることができます。\n",
        "\n",
        "新しい関数をテストするために、サンプルの引数で呼び出してみましょう。"
      ]
    },
    {
      "cell_type": "code",
      "execution_count": null,
      "id": "923d96db",
      "metadata": {
        "id": "923d96db"
      },
      "outputs": [],
      "source": [
        "distance(1, 2, 4, 6)"
      ]
    },
    {
      "cell_type": "markdown",
      "id": "13a98096",
      "metadata": {
        "id": "13a98096"
      },
      "source": [
        "私はこれらの値を選んで、水平方向の距離が「3」、垂直方向の距離が「4」になるようにしました。そうすることで、結果は「5」となり、それは3-4-5の直角三角形の斜辺です。関数をテストする際、正しい答えを知っていることは有用です。\n",
        "\n",
        "この時点で、関数が実行されて値を返すことを確認しました。そして、関数の本体にコードを追加し始めることができます。次の良いステップは、`x2 - x1`および`y2 - y1`の差を求めることです。これらの値を一時変数に保存して表示するバージョンを以下に示します。"
      ]
    },
    {
      "cell_type": "code",
      "execution_count": null,
      "id": "9374cfe3",
      "metadata": {
        "id": "9374cfe3"
      },
      "outputs": [],
      "source": [
        "def distance(x1, y1, x2, y2):\n",
        "    dx = x2 - x1\n",
        "    dy = y2 - y1\n",
        "    print('dx is', dx)\n",
        "    print('dy is', dy)\n",
        "    return 0.0"
      ]
    },
    {
      "cell_type": "markdown",
      "id": "c342a3bd",
      "metadata": {
        "id": "c342a3bd"
      },
      "source": [
        "もし関数が正しく動作しているなら、「dx is 3」と「dy is 4」が表示されるはずです。そうなれば、関数が正しい引数を受け取り、最初の計算を正しく行っていることがわかります。そうでない場合は、確認すべき行がいくつかしかありません。"
      ]
    },
    {
      "cell_type": "code",
      "execution_count": null,
      "id": "405af839",
      "metadata": {
        "id": "405af839"
      },
      "outputs": [],
      "source": [
        "distance(1, 2, 4, 6)"
      ]
    },
    {
      "cell_type": "markdown",
      "id": "9424eca9",
      "metadata": {
        "id": "9424eca9"
      },
      "source": [
        "これまでのところは良いですね。次に、`dx` と `dy` の平方の合計を計算します。"
      ]
    },
    {
      "cell_type": "code",
      "execution_count": null,
      "id": "e52b3b04",
      "metadata": {
        "id": "e52b3b04"
      },
      "outputs": [],
      "source": [
        "def distance(x1, y1, x2, y2):\n",
        "    dx = x2 - x1\n",
        "    dy = y2 - y1\n",
        "    dsquared = dx**2 + dy**2\n",
        "    print('dsquared is: ', dsquared)\n",
        "    return 0.0"
      ]
    },
    {
      "cell_type": "markdown",
      "id": "e28262f9",
      "metadata": {
        "id": "e28262f9"
      },
      "source": [
        "再び関数を実行し、出力を確認することができます。出力は`25`になるはずです。"
      ]
    },
    {
      "cell_type": "code",
      "execution_count": null,
      "id": "38eebbf3",
      "metadata": {
        "id": "38eebbf3"
      },
      "outputs": [],
      "source": [
        "distance(1, 2, 4, 6)"
      ]
    },
    {
      "cell_type": "markdown",
      "id": "c09f0ddc",
      "metadata": {
        "id": "c09f0ddc"
      },
      "source": [
        "最後に、`math.sqrt` を使用して距離を計算できます。"
      ]
    },
    {
      "cell_type": "code",
      "execution_count": null,
      "id": "b4536ea0",
      "metadata": {
        "id": "b4536ea0"
      },
      "outputs": [],
      "source": [
        "def distance(x1, y1, x2, y2):\n",
        "    dx = x2 - x1\n",
        "    dy = y2 - y1\n",
        "    dsquared = dx**2 + dy**2\n",
        "    result = math.sqrt(dsquared)\n",
        "    print(\"result is\", result)"
      ]
    },
    {
      "cell_type": "markdown",
      "id": "f27902ac",
      "metadata": {
        "id": "f27902ac"
      },
      "source": [
        "そしてそれをテストします。"
      ]
    },
    {
      "cell_type": "code",
      "execution_count": null,
      "id": "325efb93",
      "metadata": {
        "id": "325efb93"
      },
      "outputs": [],
      "source": [
        "distance(1, 2, 4, 6)"
      ]
    },
    {
      "cell_type": "markdown",
      "id": "8ad2e626",
      "metadata": {
        "id": "8ad2e626"
      },
      "source": [
        "結果は正しいですが、このバージョンの関数は結果を返すのではなく表示するので、戻り値は `None` になります。\n",
        "\n",
        "これを修正するには、`print` 関数を `return` 文に置き換えればよいです。"
      ]
    },
    {
      "cell_type": "code",
      "execution_count": null,
      "id": "3cd982ce",
      "metadata": {
        "id": "3cd982ce"
      },
      "outputs": [],
      "source": [
        "def distance(x1, y1, x2, y2):\n",
        "    dx = x2 - x1\n",
        "    dy = y2 - y1\n",
        "    dsquared = dx**2 + dy**2\n",
        "    result = math.sqrt(dsquared)\n",
        "    return result"
      ]
    },
    {
      "cell_type": "markdown",
      "id": "f3a13a14",
      "metadata": {
        "id": "f3a13a14"
      },
      "source": [
        "このバージョンの「distance」は純粋関数です。\n",
        "このように呼び出すと、結果だけが表示されます。"
      ]
    },
    {
      "cell_type": "code",
      "execution_count": null,
      "id": "c734f5b2",
      "metadata": {
        "id": "c734f5b2"
      },
      "outputs": [],
      "source": [
        "distance(1, 2, 4, 6)"
      ]
    },
    {
      "cell_type": "markdown",
      "id": "7db8cf86",
      "metadata": {
        "id": "7db8cf86"
      },
      "source": [
        "結果を変数に代入すると、何も表示されません。"
      ]
    },
    {
      "cell_type": "code",
      "execution_count": null,
      "id": "094a242f",
      "metadata": {
        "id": "094a242f"
      },
      "outputs": [],
      "source": [
        "d = distance(1, 2, 4, 6)"
      ]
    },
    {
      "cell_type": "markdown",
      "id": "0c3b8829",
      "metadata": {
        "id": "0c3b8829"
      },
      "source": [
        "`print`ステートメントはデバッグに役立ちますが、関数が正常に動作するようになったら、それらを削除することができます。こういったコードは、最終的な製品の一部ではなく、プログラム構築に役立つことから**スキャフォルディング**と呼ばれます。\n",
        "\n",
        "この例はインクリメンタル開発を示しています。\n",
        "このプロセスの重要な側面は次のとおりです：\n",
        "\n",
        "1. 動作するプログラムから始め、小さな変更を行い、変更のたびにテストします。\n",
        "\n",
        "2. 変数を使って中間値を保持し、それらを表示して確認できます。\n",
        "\n",
        "3. プログラムが正常に動作するようになったら、スキャフォルディングを削除します。\n",
        "\n",
        "どの時点でもエラーが発生した場合、その場所を見つけやすくなります。インクリメンタル開発はデバッグの時間を大幅に節約することができます。"
      ]
    },
    {
      "cell_type": "markdown",
      "id": "3dd7514f",
      "metadata": {
        "id": "3dd7514f"
      },
      "source": [
        "## ブール関数\n",
        "\n",
        "関数はブール値 `True` および `False` を返すことができ、これは複雑なテストを関数内でカプセル化する際に便利です。例えば、`is_divisible` は `x` が `y` で割り切れるかどうかをチェックします。"
      ]
    },
    {
      "cell_type": "code",
      "execution_count": null,
      "id": "64207948",
      "metadata": {
        "id": "64207948"
      },
      "outputs": [],
      "source": [
        "def is_divisible(x, y):\n",
        "    if x % y == 0:\n",
        "        return True\n",
        "    else:\n",
        "        return False"
      ]
    },
    {
      "cell_type": "markdown",
      "id": "f3a58afb",
      "metadata": {
        "id": "f3a58afb"
      },
      "source": [
        "こちらがその使い方です。"
      ]
    },
    {
      "cell_type": "code",
      "execution_count": null,
      "id": "c367cdae",
      "metadata": {
        "id": "c367cdae"
      },
      "outputs": [],
      "source": [
        "is_divisible(6, 4)"
      ]
    },
    {
      "cell_type": "code",
      "execution_count": null,
      "id": "837f4f95",
      "metadata": {
        "id": "837f4f95"
      },
      "outputs": [],
      "source": [
        "is_divisible(6, 3)"
      ]
    },
    {
      "cell_type": "markdown",
      "id": "e9103ece",
      "metadata": {
        "id": "e9103ece"
      },
      "source": [
        "関数の中で、`==` 演算子の結果はブール値であるため、それを直接返すことで関数をより簡潔に書くことができます。"
      ]
    },
    {
      "cell_type": "code",
      "execution_count": null,
      "id": "e411354f",
      "metadata": {
        "id": "e411354f"
      },
      "outputs": [],
      "source": [
        "def is_divisible(x, y):\n",
        "    return x % y == 0"
      ]
    },
    {
      "cell_type": "markdown",
      "id": "4d82dae5",
      "metadata": {
        "id": "4d82dae5"
      },
      "source": [
        "ブール関数は、しばしば条件文で使用されます。"
      ]
    },
    {
      "cell_type": "code",
      "execution_count": null,
      "id": "925e7d4f",
      "metadata": {
        "id": "925e7d4f"
      },
      "outputs": [],
      "source": [
        "if is_divisible(6, 2):\n",
        "    print('divisible')"
      ]
    },
    {
      "cell_type": "markdown",
      "id": "9e232afc",
      "metadata": {
        "id": "9e232afc"
      },
      "source": [
        "次のように書きたくなるかもしれませんが:"
      ]
    },
    {
      "cell_type": "code",
      "execution_count": null,
      "id": "62178e75",
      "metadata": {
        "id": "62178e75"
      },
      "outputs": [],
      "source": [
        "if is_divisible(6, 2) == True:\n",
        "    print('divisible')"
      ]
    },
    {
      "cell_type": "markdown",
      "id": "ff9e5160",
      "metadata": {
        "id": "ff9e5160"
      },
      "source": [
        "しかし、その比較は不要です。"
      ]
    },
    {
      "cell_type": "markdown",
      "id": "a932a966",
      "metadata": {
        "id": "a932a966"
      },
      "source": [
        "## 再帰と戻り値\n",
        "\n",
        "いまや戻り値を持つ関数を書くことができるので、戻り値を持つ再帰関数も書くことができるようになります。この能力によって、私たちが持っているPythonの部分は重要な閾値を越えました — つまり、それは**チューリング完全**であり、アルゴリズムで記述できるあらゆる計算を実行することができます。\n",
        "\n",
        "戻り値を伴う再帰を示すために、いくつかの再帰的に定義された数学的関数を評価します。\n",
        "再帰的定義は循環定義に似ていますが、定義が定義されているものを参照しているという点で類似しています。しかし、真に循環的な定義はあまり役に立ちません。\n",
        "\n",
        "> vorpal: Vorpalなものを形容するのに使用される形容詞です。\n",
        "\n",
        "このような定義を辞書で見たら、少しイラっとするかもしれません。\n",
        "一方、階乗関数の定義（$!$で表される）を調べた場合、以下のようなものを見つけるかもしれません:\n",
        "\n",
        "$$\\begin{aligned}\n",
        "0! &= 1 \\\\\n",
        "n! &= n~(n-1)!\n",
        "\\end{aligned}$$\n",
        "\n",
        "この定義は、$0$ の階乗が $1$ であり、その他の値 $n$ の階乗は、$n$ を $n-1$ の階乗と掛けたものであることを示しています。\n",
        "\n",
        "もし何かの再帰的な定義を書くことができるなら、それを評価するPythonプログラムを書くことができます。\n",
        "段階的開発プロセスを採用し、まず `n` をパラメータとして取り、常に `0` を返す関数から始めましょう。"
      ]
    },
    {
      "cell_type": "code",
      "execution_count": null,
      "id": "23e37c79",
      "metadata": {
        "id": "23e37c79"
      },
      "outputs": [],
      "source": [
        "def factorial(n):\n",
        "    return 0"
      ]
    },
    {
      "cell_type": "markdown",
      "id": "ee1f63b8",
      "metadata": {
        "id": "ee1f63b8"
      },
      "source": [
        "では、定義の最初の部分を追加しましょう。引数が`0`の場合、返すべき値は`1`です。"
      ]
    },
    {
      "cell_type": "code",
      "execution_count": null,
      "id": "5ea57d9f",
      "metadata": {
        "id": "5ea57d9f"
      },
      "outputs": [],
      "source": [
        "def factorial(n):\n",
        "    if n == 0:\n",
        "        return 1\n",
        "    else:\n",
        "        return 0"
      ]
    },
    {
      "cell_type": "markdown",
      "id": "4f2fd7c7",
      "metadata": {
        "id": "4f2fd7c7"
      },
      "source": [
        "では、第二部を埋めましょう。`n`が`0`でない場合、`n-1`の階乗を求めるための再帰呼び出しを行い、その結果を`n`と掛け合わせる必要があります。"
      ]
    },
    {
      "cell_type": "code",
      "execution_count": null,
      "id": "b66e670b",
      "metadata": {
        "id": "b66e670b"
      },
      "outputs": [],
      "source": [
        "def factorial(n):\n",
        "    if n == 0:\n",
        "        return 1\n",
        "    else:\n",
        "        recurse = factorial(n-1)\n",
        "        return n * recurse"
      ]
    },
    {
      "cell_type": "markdown",
      "id": "da3d1595",
      "metadata": {
        "id": "da3d1595"
      },
      "source": [
        "このプログラムの実行の流れは、第5章の `countdown` の流れに似ています。\n",
        "`factorial` を値 `3` で呼び出すと:\n",
        "\n",
        "`3` は `0` ではないため、2番目の分岐を取り、`n-1` の階乗を計算します\\...\n",
        "\n",
        "> `2` も `0` ではないため、2番目の分岐を取り、\n",
        "> `n-1` の階乗を計算します\\...\n",
        ">\n",
        "> > `1` も `0` ではないため、2番目の分岐を取り、\n",
        "> > `n-1` の階乗を計算します\\...\n",
        "> >\n",
        "> > > `0` は `0` に等しいため、最初の分岐を取り、`1` を返し、\n",
        "> > > これ以上再帰的な呼び出しは行いません。\n",
        "> >\n",
        "> > 戻り値である `1` は `n`、つまり `1` で乗算され、その結果が返されます。\n",
        ">\n",
        "> 戻り値である `1` は `n`、つまり `2` で乗算され、その結果が返されます。\n",
        "\n",
        "戻り値 `2` は `n`、つまり `3` で乗算され、その結果 `6` が、この一連のプロセスを開始した\n",
        "関数呼び出しの戻り値となります。\n",
        "\n",
        "次の図は、この関数呼び出しのシーケンスにおけるスタック図を示しています。"
      ]
    },
    {
      "cell_type": "code",
      "execution_count": null,
      "id": "455f0457",
      "metadata": {
        "tags": [],
        "id": "455f0457"
      },
      "outputs": [],
      "source": [
        "from diagram import Frame, Stack, make_binding\n",
        "\n",
        "main = Frame([], name='__main__', loc='left')\n",
        "frames = [main]\n",
        "\n",
        "ns = 3, 2, 1\n",
        "recurses = 2, 1, 1\n",
        "results = 6, 2, 1\n",
        "\n",
        "for n, recurse, result in zip(ns, recurses, results):\n",
        "    binding1 = make_binding('n', n)\n",
        "    binding2 = make_binding('recurse', recurse)\n",
        "    frame = Frame([binding1, binding2],\n",
        "                  name='factorial', value=result,\n",
        "                  loc='left', dx=1.2)\n",
        "    frames.append(frame)\n",
        "\n",
        "binding1 = make_binding('n', 0)\n",
        "frame = Frame([binding1], name='factorial', value=1,\n",
        "              shim=1.2, loc='left', dx=1.4)\n",
        "frames.append(frame)\n",
        "\n",
        "stack = Stack(frames, dy=-0.45)"
      ]
    },
    {
      "cell_type": "code",
      "execution_count": null,
      "id": "a75ccd9b",
      "metadata": {
        "tags": [],
        "id": "a75ccd9b"
      },
      "outputs": [],
      "source": [
        "from diagram import diagram, adjust\n",
        "\n",
        "width, height, x, y = [2.74, 2.26, 0.73, 2.05]\n",
        "ax = diagram(width, height)\n",
        "bbox = stack.draw(ax, x, y)\n",
        "# adjust(x, y, bbox)"
      ]
    },
    {
      "cell_type": "markdown",
      "id": "f924c539",
      "metadata": {
        "id": "f924c539"
      },
      "source": [
        "戻り値はスタックを上に渡される様子が示されています。  \n",
        "各フレームでは、戻り値は `n` と `recurse` の積です。\n",
        "\n",
        "最後のフレームでは、`recurse` というローカル変数は存在しません。これは、その変数を生成する分岐が実行されないからです。"
      ]
    },
    {
      "cell_type": "markdown",
      "id": "acea9dc1",
      "metadata": {
        "id": "acea9dc1"
      },
      "source": [
        "## 信念の飛躍\n",
        "\n",
        "プログラムを読む方法として、実行の流れを追うことがありますが、これはすぐに圧倒されることがあります。代わりに使用できるのが「信念の飛躍」と私が呼ぶものです。関数呼び出しに差し掛かったときに、実行の流れを追う代わりに、その関数が正しく機能し、正しい結果を返すと*仮定*します。\n",
        "\n",
        "実際、組み込み関数を使用する際には、すでにこの信念の飛躍を実践しています。`abs`や`math.sqrt`を呼び出すとき、その関数の本文を調べはしません。それが正しく動くと仮定するだけです。\n",
        "\n",
        "自分で作成した関数を呼び出すときも同様です。たとえば、以前作成した`is_divisible`という関数は、ある数が別の数で割り切れるかを判定します。この関数が正しいと自信を持てたら、もう一度その本文を見ることなく使用できます。\n",
        "\n",
        "再帰的なプログラムに対しても同じことが言えます。再帰呼び出しの部分に来たときには、実行の流れを追う代わりに、再帰呼び出しが機能すると仮定し、「$n-1$の階乗が計算できると仮定したとき、$n$の階乗を計算できるか？」と自問します。階乗の再帰的な定義は、$n$を掛け算することで計算できることを意味します。\n",
        "\n",
        "もちろん、まだ書き終えていない段階で関数が正しく動くと仮定するのは少し奇妙ですが、これが「信念の飛躍」と呼ばれる理由です！"
      ]
    },
    {
      "cell_type": "markdown",
      "id": "ca2a2d76",
      "metadata": {
        "tags": [],
        "id": "ca2a2d76"
      },
      "source": [
        "## フィボナッチ数列\n",
        "\n",
        "「階乗」に続いて、再帰関数の最も一般的な例は「フィボナッチ数列」です。その定義は以下の通りです：\n",
        "\n",
        "$$\\begin{aligned}\n",
        "\\mathrm{fibonacci}(0) &= 0 \\\\\n",
        "\\mathrm{fibonacci}(1) &= 1 \\\\\n",
        "\\mathrm{fibonacci}(n) &= \\mathrm{fibonacci}(n-1) + \\mathrm{fibonacci}(n-2)\n",
        "\\end{aligned}$$\n",
        "\n",
        "これをPythonに翻訳すると、以下のようになります："
      ]
    },
    {
      "cell_type": "code",
      "execution_count": null,
      "id": "cad75752",
      "metadata": {
        "id": "cad75752"
      },
      "outputs": [],
      "source": [
        "def fibonacci(n):\n",
        "    if n == 0:\n",
        "        return 0\n",
        "    elif  n == 1:\n",
        "        return 1\n",
        "    else:\n",
        "        return fibonacci(n-1) + fibonacci(n-2)"
      ]
    },
    {
      "cell_type": "markdown",
      "id": "69d56a0b",
      "metadata": {
        "id": "69d56a0b"
      },
      "source": [
        "ここで小さい値の $n$ についても実行の流れを追おうとすると、頭がパンクします。しかし、「信念の飛躍」によれば、2つの再帰呼び出しが正しく動作すると仮定すれば、最後の `return` 文が正しいことに自信を持つことができます。\n",
        "\n",
        "ちなみに、この方法でフィボナッチ数を計算するのは非常に非効率です。[第10章](section_memos) で、その理由を説明し、改善策を提案します。"
      ]
    },
    {
      "cell_type": "markdown",
      "id": "26d9706b",
      "metadata": {
        "id": "26d9706b"
      },
      "source": [
        "`factorial`に`1.5`を引数として渡すと、通常の整数専用の`factorial`関数ではエラーが発生することがあります。`factorial`関数は整数の階乗を計算するために設計されていますので、整数でない値（例えば浮動小数点数）を渡すと、エラーが発生するか、意図しない結果が得られる可能性があります。\n",
        "\n",
        "Pythonの標準ライブラリである`math.factorial()`は整数でない値を受け取ると、`ValueError`が発生します。\n",
        "\n",
        "たとえば：\n",
        "```python\n",
        "import math\n",
        "math.factorial(1.5)\n",
        "```\n",
        "このコードを実行した場合、`ValueError: factorial() only accepts integral values`というエラーが発生します。\n",
        "\n",
        "したがって、引数の型をチェックして、必要に応じて適切に整数にキャストするか、値が浮動小数点数の場合にエラーメッセージを表示する必要があります。"
      ]
    },
    {
      "cell_type": "code",
      "execution_count": null,
      "id": "5e4b5f1d",
      "metadata": {
        "tags": [],
        "id": "5e4b5f1d"
      },
      "outputs": [],
      "source": [
        "%%expect RecursionError\n",
        "\n",
        "factorial(1.5)"
      ]
    },
    {
      "cell_type": "markdown",
      "id": "0bec7ba4",
      "metadata": {
        "id": "0bec7ba4"
      },
      "source": [
        "それは無限再帰のようです。どうしてそうなるのでしょうか？関数には、`n == 1`または`n == 0`のときの基本ケースがあります。しかし、`n`が整数でない場合、基本ケースを**見逃して**無限に再帰することになります。\n",
        "\n",
        "この例では、`n`の初期値は`1.5`です。最初の再帰呼び出しでは、`n`の値は`0.5`になります。その次には`-0.5`になります。それ以降は値が小さく（より負に）なりますが、`0`にはなりません。\n",
        "\n",
        "無限再帰を避けるためには、組み込み関数`isinstance`を使用して引数の型をチェックすることができます。以下のようにして、値が整数であるかどうかを確認できます。"
      ]
    },
    {
      "cell_type": "code",
      "execution_count": null,
      "id": "3f607dff",
      "metadata": {
        "id": "3f607dff"
      },
      "outputs": [],
      "source": [
        "isinstance(3, int)"
      ]
    },
    {
      "cell_type": "code",
      "execution_count": null,
      "id": "ab638bfe",
      "metadata": {
        "id": "ab638bfe"
      },
      "outputs": [],
      "source": [
        "isinstance(1.5, int)"
      ]
    },
    {
      "cell_type": "markdown",
      "id": "b0017b42",
      "metadata": {
        "id": "b0017b42"
      },
      "source": [
        "こちらはエラーチェックを備えた `factorial` 関数のバージョンです。"
      ]
    },
    {
      "cell_type": "code",
      "execution_count": null,
      "id": "73aafac0",
      "metadata": {
        "id": "73aafac0"
      },
      "outputs": [],
      "source": [
        "def factorial(n):\n",
        "    if not isinstance(n, int):\n",
        "        print('factorial is only defined for integers.')\n",
        "        return None\n",
        "    elif n < 0:\n",
        "        print('factorial is not defined for negative numbers.')\n",
        "        return None\n",
        "    elif n == 0:\n",
        "        return 1\n",
        "    else:\n",
        "        return n * factorial(n-1)"
      ]
    },
    {
      "cell_type": "markdown",
      "id": "0561e3f5",
      "metadata": {
        "id": "0561e3f5"
      },
      "source": [
        "まず、`n`が整数かどうかを確認します。\n",
        "整数でない場合はエラーメッセージを表示し、`None`を返します。"
      ]
    },
    {
      "cell_type": "code",
      "execution_count": null,
      "id": "be881cb7",
      "metadata": {
        "id": "be881cb7"
      },
      "outputs": [],
      "source": [
        "factorial('crunchy frog')"
      ]
    },
    {
      "cell_type": "markdown",
      "id": "10b00a39",
      "metadata": {
        "id": "10b00a39"
      },
      "source": [
        "次に、`n`が負の数であるかどうかを確認します。  \n",
        "もしそうであれば、エラーメッセージを表示し、`None`を返します。"
      ]
    },
    {
      "cell_type": "code",
      "execution_count": null,
      "id": "fa83014f",
      "metadata": {
        "id": "fa83014f"
      },
      "outputs": [],
      "source": [
        "factorial(-2)"
      ]
    },
    {
      "cell_type": "markdown",
      "id": "96aa1403",
      "metadata": {
        "id": "96aa1403"
      },
      "source": [
        "両方のチェックを通過した場合、`n`が非負の整数であることが分かるため、再帰が終了することを確信できます。関数のパラメータをチェックして、正しい型と値を持つことを確認することを**入力バリデーション**と呼びます。"
      ]
    },
    {
      "cell_type": "markdown",
      "id": "eb8a85a7",
      "metadata": {
        "tags": [],
        "id": "eb8a85a7"
      },
      "source": [
        "## デバッグ\n",
        "\n",
        "大規模なプログラムを小さな関数に分割することは、デバッグのための自然なチェックポイントを作成します。\n",
        "もし関数が正しく動作していない場合、考慮すべき3つの可能性があります：\n",
        "\n",
        "- 関数が受け取っている引数に問題がある — つまり、前提条件が違反されています。\n",
        "\n",
        "- 関数自体に問題がある — つまり、後条件が違反されています。\n",
        "\n",
        "- 呼び出し元が返り値を誤って利用している。\n",
        "\n",
        "最初の可能性を排除するためには、関数の冒頭に引数の値（おそらくその型も）を表示する `print` 文を追加することができます。または、前提条件を明示的にチェックするコードを書くこともできます。\n",
        "\n",
        "引数が正しそうであれば、各 `return` 文の前に `print` 文を追加し、返り値を表示します。可能であれば、結果を簡単に確認できるようにする引数で関数を呼び出します。\n",
        "\n",
        "関数が正しく動作しているように見える場合は、関数呼び出しを確認し、返り値が正しく利用されているか、あるいは利用されているか全く確認してください。\n",
        "\n",
        "関数の始めと終わりに `print` 文を追加することで、実行の流れをより可視化することができます。例えば、以下に `factorial` の `print` 文付きのバージョンを示します："
      ]
    },
    {
      "cell_type": "code",
      "execution_count": null,
      "id": "1d50479e",
      "metadata": {
        "id": "1d50479e"
      },
      "outputs": [],
      "source": [
        "def factorial(n):\n",
        "    space = ' ' * (4 * n)\n",
        "    print(space, 'factorial', n)\n",
        "    if n == 0:\n",
        "        print(space, 'returning 1')\n",
        "        return 1\n",
        "    else:\n",
        "        recurse = factorial(n-1)\n",
        "        result = n * recurse\n",
        "        print(space, 'returning', result)\n",
        "        return result"
      ]
    },
    {
      "cell_type": "markdown",
      "id": "0c044111",
      "metadata": {
        "id": "0c044111"
      },
      "source": [
        "`factorial(3)` の結果は次のとおりです：\n",
        "\n",
        "```\n",
        "3! = 3 * 2 * 1 = 6\n",
        "```"
      ]
    },
    {
      "cell_type": "code",
      "execution_count": null,
      "id": "798db5c4",
      "metadata": {
        "id": "798db5c4"
      },
      "outputs": [],
      "source": [
        "factorial(3)"
      ]
    },
    {
      "cell_type": "markdown",
      "id": "43b3e408",
      "metadata": {
        "id": "43b3e408"
      },
      "source": [
        "実行の流れに混乱している場合、この種の出力が役立ちます。効果的なスキャフォールディングを開発するには時間がかかりますが、少しのスキャフォールディングが多くのデバッグを節約することができます。"
      ]
    },
    {
      "cell_type": "markdown",
      "id": "b7c3962f",
      "metadata": {
        "id": "b7c3962f"
      },
      "source": [
        "## 用語集\n",
        "\n",
        "**戻り値:**\n",
        "関数の結果。関数呼び出しが式として使用される場合、戻り値はその式の値となる。\n",
        "\n",
        "**純関数:**\n",
        "表示や他の影響を与えず、戻り値を返すこと以外の動作をしない関数。\n",
        "\n",
        "**デッドコード:**\n",
        "プログラムの一部で、通常は`return`文の後に現れるために実行されないコード。\n",
        "\n",
        "**インクリメンタル開発:**\n",
        "小さなコードを追加してテストすることでデバッグを避けることを目的としたプログラム開発計画。\n",
        "\n",
        "**スキャフォールディング:**\n",
        "プログラム開発中に使用されるが、最終バージョンには含まれないコード。\n",
        "\n",
        "**チューリング完全:**\n",
        "言語または言語のサブセットが、アルゴリズムで記述可能な任意の計算を実行できる性質。\n",
        "\n",
        "**入力バリデーション:**\n",
        "関数のパラメータが正しい型と値を持っているか確認すること。"
      ]
    },
    {
      "cell_type": "markdown",
      "id": "ff7b1edf",
      "metadata": {
        "id": "ff7b1edf"
      },
      "source": [
        "## エクササイズ"
      ]
    },
    {
      "cell_type": "code",
      "execution_count": null,
      "id": "e0f15ca4",
      "metadata": {
        "tags": [],
        "id": "e0f15ca4"
      },
      "outputs": [],
      "source": [
        "# This cell tells Jupyter to provide detailed debugging information\n",
        "# when a runtime error occurs. Run it before working on the exercises.\n",
        "\n",
        "%xmode Verbose"
      ]
    },
    {
      "cell_type": "markdown",
      "id": "0da2daaf",
      "metadata": {
        "id": "0da2daaf"
      },
      "source": [
        "### バーチャルアシスタントに尋ねる\n",
        "\n",
        "この章では、値を返さずに終了する可能性のある誤った関数を見ました。"
      ]
    },
    {
      "cell_type": "code",
      "execution_count": null,
      "id": "90b4979f",
      "metadata": {
        "id": "90b4979f"
      },
      "outputs": [],
      "source": [
        "def absolute_value_wrong(x):\n",
        "    if x < 0:\n",
        "        return -x\n",
        "    if x > 0:\n",
        "        return x"
      ]
    },
    {
      "cell_type": "markdown",
      "id": "69563d4b",
      "metadata": {
        "id": "69563d4b"
      },
      "source": [
        "そして、同じ関数の末尾に使われていないコードが含まれるバージョン。"
      ]
    },
    {
      "cell_type": "code",
      "execution_count": null,
      "id": "9217f038",
      "metadata": {
        "id": "9217f038"
      },
      "outputs": [],
      "source": [
        "def absolute_value_extra_return(x):\n",
        "    if x < 0:\n",
        "        return -x\n",
        "    else:\n",
        "        return x\n",
        "\n",
        "    return 'This is dead code.'"
      ]
    },
    {
      "cell_type": "markdown",
      "id": "9fe8ae2e",
      "metadata": {
        "id": "9fe8ae2e"
      },
      "source": [
        "そして、次の例を見ましたが、正しいものの、慣用的ではありません。"
      ]
    },
    {
      "cell_type": "code",
      "execution_count": null,
      "id": "3168489b",
      "metadata": {
        "id": "3168489b"
      },
      "outputs": [],
      "source": [
        "def is_divisible(x, y):\n",
        "    if x % y == 0:\n",
        "        return True\n",
        "    else:\n",
        "        return False"
      ]
    },
    {
      "cell_type": "markdown",
      "id": "14f52688",
      "metadata": {
        "id": "14f52688"
      },
      "source": [
        "これらの関数の各々に何が問題なのかをバーチャルアシスタントに聞いて、エラーを見つけたりスタイルを改善できるか確認してください。\n",
        "\n",
        "その後、「2つの点の座標を受け取り、それらの間の距離を計算する関数を書いてください」と聞いてみてください。その結果がこの章で書いた`distance`関数のバージョンに似ているか確認してください。"
      ]
    },
    {
      "cell_type": "markdown",
      "id": "fd23bb60",
      "metadata": {
        "id": "fd23bb60"
      },
      "source": [
        "### エクササイズ\n",
        "\n",
        "インクリメンタル開発を使用して、`hypot`という関数を作成し、直角三角形の他の2辺の長さを引数として与えたときに、その斜辺の長さを返すようにします。\n",
        "\n",
        "注: mathモジュールには同じことをする`hypot`という関数がありますが、このエクササイズではそれを使用しないでください！\n",
        "\n",
        "たとえ最初の試みで関数を正しく書けたとしても、常に`0`を返す関数から始め、小さな変更を加えつつテストをしていく練習をしてください。\n",
        "完了したときには、関数は値を返すだけで、何も表示しないようにしましょう。\n",
        "\n",
        "以下は手順に従った開発例です：\n",
        "\n",
        "```python\n",
        "def hypot(a, b):\n",
        "    return 0\n",
        "\n",
        "# 初期段階のテスト\n",
        "print(hypot(3, 4))  # ここでは0が返されるはず\n",
        "\n",
        "def hypot(a, b):\n",
        "    return a\n",
        "\n",
        "# 引数の一つを返す段階でテスト\n",
        "print(hypot(3, 4))  # ここでは3が返されるはず\n",
        "\n",
        "def hypot(a, b):\n",
        "    return a ** 2\n",
        "\n",
        "# 引数の二乗を返す段階でテスト\n",
        "print(hypot(3, 4))  # ここでは9が返されるはず\n",
        "\n",
        "def hypot(a, b):\n",
        "    return a ** 2 + b ** 2\n",
        "\n",
        "# 二つの引数の二乗を合計する段階でテスト\n",
        "print(hypot(3, 4))  # ここでは25が返されるはず\n",
        "\n",
        "def hypot(a, b):\n",
        "    return (a ** 2 + b ** 2) ** 0.5\n",
        "\n",
        "# 斜辺を求める最終段階でテスト\n",
        "print(hypot(3, 4))  # ここでは5.0が返されるはず\n",
        "```\n",
        "\n",
        "各段階で小さな変更を加えつつ、期待される出力をテストし、問題があれば適宜修正していきます。これがインクリメンタル開発のプロセスです。"
      ]
    },
    {
      "cell_type": "code",
      "execution_count": null,
      "id": "62267fa3",
      "metadata": {
        "id": "62267fa3"
      },
      "outputs": [],
      "source": [
        "# Solution goes here"
      ]
    },
    {
      "cell_type": "code",
      "execution_count": null,
      "id": "5f8fa829",
      "metadata": {
        "id": "5f8fa829"
      },
      "outputs": [],
      "source": [
        "# Solution goes here"
      ]
    },
    {
      "cell_type": "code",
      "execution_count": null,
      "id": "3d129b03",
      "metadata": {
        "id": "3d129b03"
      },
      "outputs": [],
      "source": [
        "# Solution goes here"
      ]
    },
    {
      "cell_type": "code",
      "execution_count": null,
      "id": "030179b6",
      "metadata": {
        "id": "030179b6"
      },
      "outputs": [],
      "source": [
        "# Solution goes here"
      ]
    },
    {
      "cell_type": "code",
      "execution_count": null,
      "id": "d737b468",
      "metadata": {
        "id": "d737b468"
      },
      "outputs": [],
      "source": [
        "# Solution goes here"
      ]
    },
    {
      "cell_type": "code",
      "execution_count": null,
      "id": "77a74879",
      "metadata": {
        "id": "77a74879"
      },
      "outputs": [],
      "source": [
        "# Solution goes here"
      ]
    },
    {
      "cell_type": "code",
      "execution_count": null,
      "id": "0521d267",
      "metadata": {
        "id": "0521d267"
      },
      "outputs": [],
      "source": [
        "# Solution goes here"
      ]
    },
    {
      "cell_type": "code",
      "execution_count": null,
      "id": "468a31e9",
      "metadata": {
        "id": "468a31e9"
      },
      "outputs": [],
      "source": [
        "# Solution goes here"
      ]
    },
    {
      "cell_type": "code",
      "execution_count": null,
      "id": "abbe3ebf",
      "metadata": {
        "id": "abbe3ebf"
      },
      "outputs": [],
      "source": [
        "# Solution goes here"
      ]
    },
    {
      "cell_type": "code",
      "execution_count": null,
      "id": "651295e4",
      "metadata": {
        "id": "651295e4"
      },
      "outputs": [],
      "source": [
        "# Solution goes here"
      ]
    },
    {
      "cell_type": "markdown",
      "id": "0a66d82a",
      "metadata": {
        "id": "0a66d82a"
      },
      "source": [
        "```python\n",
        "def is_between(x, y, z):\n",
        "    return (x < y < z) or (z < y < x)\n",
        "```\n",
        "\n",
        "この関数は、変数 `x`、`y`、`z` の値を比較して、`x < y < z` または `z < y < x` のどちらかの条件が成立するかどうかを判定します。条件が成立する場合は `True` を返し、そうでない場合は `False` を返します。"
      ]
    },
    {
      "cell_type": "code",
      "execution_count": null,
      "id": "0a4ee482",
      "metadata": {
        "id": "0a4ee482"
      },
      "outputs": [],
      "source": [
        "# Solution goes here"
      ]
    },
    {
      "cell_type": "markdown",
      "id": "c12f318d",
      "metadata": {
        "tags": [],
        "id": "c12f318d"
      },
      "source": [
        "これらの例を使ってあなたの関数をテストできます。"
      ]
    },
    {
      "cell_type": "code",
      "execution_count": null,
      "id": "956ed6d7",
      "metadata": {
        "tags": [],
        "id": "956ed6d7"
      },
      "outputs": [],
      "source": [
        "is_between(1, 2, 3)  # should be True"
      ]
    },
    {
      "cell_type": "code",
      "execution_count": null,
      "id": "a994eaa6",
      "metadata": {
        "tags": [],
        "id": "a994eaa6"
      },
      "outputs": [],
      "source": [
        "is_between(3, 2, 1)  # should be True"
      ]
    },
    {
      "cell_type": "code",
      "execution_count": null,
      "id": "4318028d",
      "metadata": {
        "tags": [],
        "id": "4318028d"
      },
      "outputs": [],
      "source": [
        "is_between(1, 3, 2)  # should be False"
      ]
    },
    {
      "cell_type": "code",
      "execution_count": null,
      "id": "05208c8b",
      "metadata": {
        "tags": [],
        "id": "05208c8b"
      },
      "outputs": [],
      "source": [
        "is_between(2, 3, 1)  # should be False"
      ]
    },
    {
      "cell_type": "markdown",
      "id": "57f06466",
      "metadata": {
        "id": "57f06466"
      },
      "source": [
        "### 演習\n",
        "\n",
        "アッカーマン関数 $A(m, n)$ は次のように定義されます。\n",
        "\n",
        "$$\\begin{aligned}\n",
        "A(m, n) = \\begin{cases}\n",
        "              n+1 & \\mbox{if } m = 0 \\\\\n",
        "        A(m-1, 1) & \\mbox{if } m > 0 \\mbox{と } n = 0 \\\\\n",
        "A(m-1, A(m, n-1)) & \\mbox{if } m > 0 \\mbox{と } n > 0.\n",
        "\\end{cases}\n",
        "\\end{aligned}$$\n",
        "\n",
        "アッカーマン関数を評価するための `ackermann` という名前の関数を作成してください。\n",
        "`ackermann(5, 5)` を呼び出すとどうなりますか？"
      ]
    },
    {
      "cell_type": "code",
      "execution_count": null,
      "id": "7eb85c5c",
      "metadata": {
        "id": "7eb85c5c"
      },
      "outputs": [],
      "source": [
        "# Solution goes here"
      ]
    },
    {
      "cell_type": "markdown",
      "id": "85f7f614",
      "metadata": {
        "tags": [],
        "id": "85f7f614"
      },
      "source": [
        "これらの例を使ってあなたの関数をテストできます。"
      ]
    },
    {
      "cell_type": "code",
      "execution_count": null,
      "id": "687a3e5a",
      "metadata": {
        "tags": [],
        "id": "687a3e5a"
      },
      "outputs": [],
      "source": [
        "ackermann(3, 2)  # should be 29"
      ]
    },
    {
      "cell_type": "code",
      "execution_count": null,
      "id": "c49e9749",
      "metadata": {
        "tags": [],
        "id": "c49e9749"
      },
      "outputs": [],
      "source": [
        "ackermann(3, 3)  # should be 61"
      ]
    },
    {
      "cell_type": "code",
      "execution_count": null,
      "id": "8497dec4",
      "metadata": {
        "tags": [],
        "id": "8497dec4"
      },
      "outputs": [],
      "source": [
        "ackermann(3, 4)  # should be 125"
      ]
    },
    {
      "cell_type": "markdown",
      "id": "4994ceae",
      "metadata": {
        "tags": [],
        "id": "4994ceae"
      },
      "source": [
        "この関数を4より大きい値で呼び出すと、`RecursionError`が発生します。"
      ]
    },
    {
      "cell_type": "code",
      "execution_count": null,
      "id": "76be4d15",
      "metadata": {
        "tags": [],
        "id": "76be4d15"
      },
      "outputs": [],
      "source": [
        "%%expect RecursionError\n",
        "\n",
        "ackermann(5, 5)"
      ]
    },
    {
      "cell_type": "markdown",
      "id": "b8af1586",
      "metadata": {
        "tags": [],
        "id": "b8af1586"
      },
      "source": [
        "理由を確認するために、関数の先頭にprint文を追加し、パラメータの値を表示してから再度例を実行してください。"
      ]
    },
    {
      "cell_type": "markdown",
      "id": "7c2ac0a4",
      "metadata": {
        "tags": [],
        "id": "7c2ac0a4"
      },
      "source": [
        "### 演習\n",
        "\n",
        "数値 $a$ が $b$ の累乗である条件は、$a$ が $b$ で割り切れること、かつ $a/b$ が $b$ の累乗であることです。`is_power` という名前の関数を作成し、パラメータ `a` と `b` を受け取り、`a` が `b` の累乗である場合に `True` を返すようにしてください。注意: 基本ケースを考慮する必要があります。"
      ]
    },
    {
      "cell_type": "code",
      "execution_count": null,
      "id": "0bcba5fe",
      "metadata": {
        "id": "0bcba5fe"
      },
      "outputs": [],
      "source": [
        "# Solution goes here"
      ]
    },
    {
      "cell_type": "markdown",
      "id": "e93a0715",
      "metadata": {
        "tags": [],
        "id": "e93a0715"
      },
      "source": [
        "これらの例を使ってあなたの関数をテストすることができます。"
      ]
    },
    {
      "cell_type": "code",
      "execution_count": null,
      "id": "4b6656e6",
      "metadata": {
        "tags": [],
        "id": "4b6656e6"
      },
      "outputs": [],
      "source": [
        "is_power(65536, 2)   # should be True"
      ]
    },
    {
      "cell_type": "code",
      "execution_count": null,
      "id": "36d9e92a",
      "metadata": {
        "tags": [],
        "id": "36d9e92a"
      },
      "outputs": [],
      "source": [
        "is_power(27, 3)  # should be True"
      ]
    },
    {
      "cell_type": "code",
      "execution_count": null,
      "id": "1d944b42",
      "metadata": {
        "tags": [],
        "id": "1d944b42"
      },
      "outputs": [],
      "source": [
        "is_power(24, 2)  # should be False"
      ]
    },
    {
      "cell_type": "code",
      "execution_count": null,
      "id": "63ec57c9",
      "metadata": {
        "tags": [],
        "id": "63ec57c9"
      },
      "outputs": [],
      "source": [
        "is_power(1, 17)   # should be True"
      ]
    },
    {
      "cell_type": "markdown",
      "id": "a33bbd07",
      "metadata": {
        "id": "a33bbd07"
      },
      "source": [
        "以下のPython関数は、ユークリッドの互除法を使用して、2つの数値の最大公約数（GCD）を計算します。\n",
        "\n",
        "```python\n",
        "def gcd(a, b):\n",
        "    while b != 0:\n",
        "        a, b = b, a % b\n",
        "    return a\n",
        "\n",
        "# 使用例\n",
        "print(gcd(48, 18))  # 出力: 6\n",
        "```\n",
        "\n",
        "この関数は、`a`を`b`で割った余りを用いて、再帰的に`gcd(b, r)`を計算します。そして、余りがゼロになると、`gcd(a, 0) = a`という基底の場合に基づいて、`a`を返します。ユークリッドの互除法は、効率的かつ一般的に信頼されている方法です。"
      ]
    },
    {
      "cell_type": "code",
      "execution_count": null,
      "id": "4e067bfb",
      "metadata": {
        "id": "4e067bfb"
      },
      "outputs": [],
      "source": [
        "# Solution goes here"
      ]
    },
    {
      "cell_type": "markdown",
      "id": "efbebde9",
      "metadata": {
        "tags": [],
        "id": "efbebde9"
      },
      "source": [
        "これらの例を使用して、あなたの関数をテストすることができます。"
      ]
    },
    {
      "cell_type": "code",
      "execution_count": null,
      "id": "2a7c1c21",
      "metadata": {
        "tags": [],
        "id": "2a7c1c21"
      },
      "outputs": [],
      "source": [
        "gcd(12, 8)    # should be 4"
      ]
    },
    {
      "cell_type": "code",
      "execution_count": null,
      "id": "5df00229",
      "metadata": {
        "tags": [],
        "id": "5df00229"
      },
      "outputs": [],
      "source": [
        "gcd(13, 17)   # should be 1"
      ]
    },
    {
      "cell_type": "code",
      "execution_count": null,
      "id": "8bec38b3",
      "metadata": {
        "id": "8bec38b3"
      },
      "outputs": [],
      "source": []
    },
    {
      "cell_type": "markdown",
      "id": "a7f4edf8",
      "metadata": {
        "tags": [],
        "id": "a7f4edf8"
      },
      "source": [
        "『Think Python: 第3版』（https://allendowney.github.io/ThinkPython/index.html）\n",
        "\n",
        "著作権 2024 [Allen B. Downey](https://allendowney.com)\n",
        "\n",
        "コードライセンス: [MITライセンス](https://mit-license.org/)\n",
        "\n",
        "テキストライセンス: [クリエイティブ・コモンズ 表示-非営利-継承 4.0 国際](https://creativecommons.org/licenses/by-nc-sa/4.0/)"
      ]
    }
  ],
  "metadata": {
    "celltoolbar": "Tags",
    "kernelspec": {
      "display_name": "Python 3 (ipykernel)",
      "language": "python",
      "name": "python3"
    },
    "language_info": {
      "codemirror_mode": {
        "name": "ipython",
        "version": 3
      },
      "file_extension": ".py",
      "mimetype": "text/x-python",
      "name": "python",
      "nbconvert_exporter": "python",
      "pygments_lexer": "ipython3",
      "version": "3.10.11"
    },
    "colab": {
      "provenance": [],
      "include_colab_link": true
    }
  },
  "nbformat": 4,
  "nbformat_minor": 5
}