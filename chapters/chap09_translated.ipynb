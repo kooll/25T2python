{
  "cells": [
    {
      "cell_type": "markdown",
      "id": "1331faa1",
      "metadata": {
        "id": "1331faa1"
      },
      "source": [
        "*Think Python 第3版* のプリント版および電子書籍版は、[Bookshop.org](https://bookshop.org/a/98697/9781098155438)と[Amazon](https://www.amazon.com/_/dp/1098155432?smid=ATVPDKIKX0DER&_encoding=UTF8&tag=oreilly20-20&_encoding=UTF8&tag=greenteapre01-20&linkCode=ur2&linkId=e2a529f94920295d27ec8a06e757dc7c&camp=1789&creative=9325)からご注文いただけます。"
      ]
    },
    {
      "cell_type": "code",
      "execution_count": null,
      "id": "bde1c3f9",
      "metadata": {
        "tags": [],
        "id": "bde1c3f9"
      },
      "outputs": [],
      "source": [
        "from os.path import basename, exists\n",
        "\n",
        "def download(url):\n",
        "    filename = basename(url)\n",
        "    if not exists(filename):\n",
        "        from urllib.request import urlretrieve\n",
        "\n",
        "        local, _ = urlretrieve(url, filename)\n",
        "        print(\"Downloaded \" + str(local))\n",
        "    return filename\n",
        "\n",
        "download('https://github.com/AllenDowney/ThinkPython/raw/v3/thinkpython.py');\n",
        "download('https://github.com/AllenDowney/ThinkPython/raw/v3/diagram.py');\n",
        "\n",
        "import thinkpython"
      ]
    },
    {
      "cell_type": "markdown",
      "id": "3c25ca7e",
      "metadata": {
        "id": "3c25ca7e"
      },
      "source": [
        "# リスト\n\nこの章では、Python の最も便利な組み込み型の一つであるリストについて解説します。また、オブジェクトについてさらに学び、複数の変数が同じオブジェクトを参照すると何が起こるかについても理解を深めます。\n\n章末の演習では、単語リストを作成し、それを使って回文やアナグラムのような特別な単語を探します。"
      ]
    },
    {
      "cell_type": "markdown",
      "id": "4d32b3e2",
      "metadata": {
        "id": "4d32b3e2"
      },
      "source": [
        "## リストはシーケンスです\n\n文字列と同様に、**リスト**も値のシーケンスです。文字列では、値は文字ですが、リストでは任意の型にすることができます。\nリストの中の値は**要素**と呼ばれます。\n\n新しいリストを作成する方法はいくつかありますが、最も簡単なのは要素を角括弧（`[` と `]`）で囲むことです。\n例えば、ここに2つの整数からなるリストがあります。"
      ]
    },
    {
      "cell_type": "code",
      "execution_count": null,
      "id": "a16a119b",
      "metadata": {
        "id": "a16a119b"
      },
      "outputs": [],
      "source": [
        "numbers = [42, 123]"
      ]
    },
    {
      "cell_type": "markdown",
      "id": "b5d6112c",
      "metadata": {
        "id": "b5d6112c"
      },
      "source": [
        "そして、こちらが3つの文字列のリストです。"
      ]
    },
    {
      "cell_type": "code",
      "execution_count": null,
      "id": "ac7a4a0b",
      "metadata": {
        "id": "ac7a4a0b"
      },
      "outputs": [],
      "source": [
        "cheeses = ['Cheddar', 'Edam', 'Gouda']"
      ]
    },
    {
      "cell_type": "markdown",
      "id": "dda58c67",
      "metadata": {
        "id": "dda58c67"
      },
      "source": [
        "リストの要素は同じ型である必要はありません。次のリストは、文字列、浮動小数点数、整数、さらには別のリストも含んでいます。"
      ]
    },
    {
      "cell_type": "code",
      "execution_count": null,
      "id": "18fb0e21",
      "metadata": {
        "id": "18fb0e21"
      },
      "outputs": [],
      "source": [
        "t = ['spam', 2.0, 5, [10, 20]]"
      ]
    },
    {
      "cell_type": "markdown",
      "id": "147fa217",
      "metadata": {
        "id": "147fa217"
      },
      "source": [
        "リスト内に別のリストが存在する場合、それは**ネスト**されています。\n\n要素が含まれていないリストは空のリストと呼ばれ、空のブラケット `[]` を使って作成できます。"
      ]
    },
    {
      "cell_type": "code",
      "execution_count": null,
      "id": "0ff58916",
      "metadata": {
        "id": "0ff58916"
      },
      "outputs": [],
      "source": [
        "empty = []"
      ]
    },
    {
      "cell_type": "markdown",
      "id": "f95381bc",
      "metadata": {
        "id": "f95381bc"
      },
      "source": [
        "`len` 関数はリストの長さを返します。"
      ]
    },
    {
      "cell_type": "code",
      "execution_count": null,
      "id": "f3153f36",
      "metadata": {
        "id": "f3153f36"
      },
      "outputs": [],
      "source": [
        "len(cheeses)"
      ]
    },
    {
      "cell_type": "markdown",
      "id": "371403a3",
      "metadata": {
        "id": "371403a3"
      },
      "source": [
        "空のリストの長さは「0」です。"
      ]
    },
    {
      "cell_type": "code",
      "execution_count": null,
      "id": "58727d35",
      "metadata": {
        "tags": [],
        "id": "58727d35"
      },
      "outputs": [],
      "source": [
        "len(empty)"
      ]
    },
    {
      "cell_type": "markdown",
      "id": "d3589a5d",
      "metadata": {
        "id": "d3589a5d"
      },
      "source": [
        "以下の図は、`cheeses`、`numbers`、および `empty` の状態図を示しています。"
      ]
    },
    {
      "cell_type": "code",
      "execution_count": null,
      "id": "25582cad",
      "metadata": {
        "tags": [],
        "id": "25582cad"
      },
      "outputs": [],
      "source": [
        "from diagram import make_list, Binding, Value\n",
        "\n",
        "list1 = make_list(cheeses, dy=-0.3, offsetx=0.17)\n",
        "binding1 = Binding(Value('cheeses'), list1)\n",
        "\n",
        "list2 = make_list(numbers, dy=-0.3, offsetx=0.17)\n",
        "binding2 = Binding(Value('numbers'), list2)\n",
        "\n",
        "list3 = make_list(empty, dy=-0.3, offsetx=0.1)\n",
        "binding3 = Binding(Value('empty'), list3)"
      ]
    },
    {
      "cell_type": "code",
      "execution_count": null,
      "id": "925c7d67",
      "metadata": {
        "tags": [],
        "id": "925c7d67"
      },
      "outputs": [],
      "source": [
        "from diagram import diagram, adjust, Bbox\n",
        "\n",
        "width, height, x, y = [3.66, 1.58, 0.45, 1.2]\n",
        "ax = diagram(width, height)\n",
        "bbox1 = binding1.draw(ax, x, y)\n",
        "bbox2 = binding2.draw(ax, x+2.25, y)\n",
        "bbox3 = binding3.draw(ax, x+2.25, y-1.0)\n",
        "\n",
        "bbox = Bbox.union([bbox1, bbox2, bbox3])\n",
        "#adjust(x, y, bbox)"
      ]
    },
    {
      "cell_type": "markdown",
      "id": "503f25d8",
      "metadata": {
        "id": "503f25d8"
      },
      "source": [
        "リストは、外側に「リスト」という言葉があり、内側に番号付きの要素がある箱で表されます。"
      ]
    },
    {
      "cell_type": "markdown",
      "id": "e0b8ff01",
      "metadata": {
        "id": "e0b8ff01"
      },
      "source": [
        "## リストは変更可能です\n\nリストの要素を読み取るには、ブラケット演算子を使用できます。\n最初の要素のインデックスは「0」です。"
      ]
    },
    {
      "cell_type": "code",
      "execution_count": null,
      "id": "9deb85a3",
      "metadata": {
        "id": "9deb85a3"
      },
      "outputs": [],
      "source": [
        "cheeses[0]"
      ]
    },
    {
      "cell_type": "markdown",
      "id": "9747e951",
      "metadata": {
        "id": "9747e951"
      },
      "source": [
        "文字列とは異なり、リストはミュータブルです。代入文の左側にブラケット演算子が現れると、そのリストの要素に代入が行われます。"
      ]
    },
    {
      "cell_type": "code",
      "execution_count": null,
      "id": "98ec5d9c",
      "metadata": {
        "id": "98ec5d9c"
      },
      "outputs": [],
      "source": [
        "numbers[1] = 17\n",
        "numbers"
      ]
    },
    {
      "cell_type": "markdown",
      "id": "5097a517",
      "metadata": {
        "id": "5097a517"
      },
      "source": [
        "`numbers` の第二要素が、かつての `123` から `17` に変更されました。\n\nリストのインデックスは文字列のインデックスと同様に機能します：\n\n- 任意の整数式をインデックスとして使用できます。\n\n- 存在しない要素を読み取ろうとしたり書き込もうとしたりすると、`IndexError` が発生します。\n\n- インデックスが負の値の場合、リストの末尾から逆向きにカウントされます。\n\n`in` 演算子はリスト上でも機能します。リスト内の任意の場所に指定された要素が存在するかどうかを確認します。"
      ]
    },
    {
      "cell_type": "code",
      "execution_count": null,
      "id": "000aed26",
      "metadata": {
        "id": "000aed26"
      },
      "outputs": [],
      "source": [
        "'Edam' in cheeses"
      ]
    },
    {
      "cell_type": "code",
      "execution_count": null,
      "id": "bcb8929c",
      "metadata": {
        "id": "bcb8929c"
      },
      "outputs": [],
      "source": [
        "'Wensleydale' in cheeses"
      ]
    },
    {
      "cell_type": "markdown",
      "id": "89d01ebf",
      "metadata": {
        "id": "89d01ebf"
      },
      "source": [
        "リストには別のリストを含めることができますが、ネストされたリストは単一の要素として数えられます。そのため、次のリストには4つの要素しかありません。"
      ]
    },
    {
      "cell_type": "code",
      "execution_count": null,
      "id": "5ad51a26",
      "metadata": {
        "id": "5ad51a26"
      },
      "outputs": [],
      "source": [
        "t = ['spam', 2.0, 5, [10, 20]]\n",
        "len(t)"
      ]
    },
    {
      "cell_type": "markdown",
      "id": "4e0ea41d",
      "metadata": {
        "id": "4e0ea41d"
      },
      "source": [
        "`10`はネストされたリストの要素であり、`t`の要素ではないため、`t`の要素とみなされません。"
      ]
    },
    {
      "cell_type": "code",
      "execution_count": null,
      "id": "156dbc10",
      "metadata": {
        "id": "156dbc10"
      },
      "outputs": [],
      "source": [
        "10 in t"
      ]
    },
    {
      "cell_type": "markdown",
      "id": "1ee7a4d9",
      "metadata": {
        "id": "1ee7a4d9"
      },
      "source": [
        "## リストのスライス\n\nスライス演算子は、文字列と同様にリストにも適用できます。\n次の例では、4つの文字からなるリストの2番目と3番目の要素を選択します。"
      ]
    },
    {
      "cell_type": "code",
      "execution_count": null,
      "id": "70b16371",
      "metadata": {
        "id": "70b16371"
      },
      "outputs": [],
      "source": [
        "letters = ['a', 'b', 'c', 'd']\n",
        "letters[1:3]"
      ]
    },
    {
      "cell_type": "markdown",
      "id": "bc59d952",
      "metadata": {
        "id": "bc59d952"
      },
      "source": [
        "最初のインデックスを省略すると、スライスは最初から始まります。"
      ]
    },
    {
      "cell_type": "code",
      "execution_count": null,
      "id": "e67bab33",
      "metadata": {
        "id": "e67bab33"
      },
      "outputs": [],
      "source": [
        "letters[:2]"
      ]
    },
    {
      "cell_type": "markdown",
      "id": "1aaaae86",
      "metadata": {
        "id": "1aaaae86"
      },
      "source": [
        "2番目を省略すると、スライスは最後まで行きます。"
      ]
    },
    {
      "cell_type": "code",
      "execution_count": null,
      "id": "a310f506",
      "metadata": {
        "id": "a310f506"
      },
      "outputs": [],
      "source": [
        "letters[2:]"
      ]
    },
    {
      "cell_type": "markdown",
      "id": "67ad02e8",
      "metadata": {
        "id": "67ad02e8"
      },
      "source": [
        "そのため、両方を省略すると、スライスはリスト全体のコピーになります。"
      ]
    },
    {
      "cell_type": "code",
      "execution_count": null,
      "id": "1385a75e",
      "metadata": {
        "id": "1385a75e"
      },
      "outputs": [],
      "source": [
        "letters[:]"
      ]
    },
    {
      "cell_type": "markdown",
      "id": "9232c1ef",
      "metadata": {
        "id": "9232c1ef"
      },
      "source": [
        "リストをコピーする別の方法は、`list`関数を使うことです。"
      ]
    },
    {
      "cell_type": "code",
      "execution_count": null,
      "id": "a0ca0135",
      "metadata": {
        "id": "a0ca0135"
      },
      "outputs": [],
      "source": [
        "list(letters)"
      ]
    },
    {
      "cell_type": "markdown",
      "id": "50e4b182",
      "metadata": {
        "id": "50e4b182"
      },
      "source": [
        "`list`は組み込み関数の名前であるため、変数名として使用するのは避けるべきです。"
      ]
    },
    {
      "cell_type": "markdown",
      "id": "1b057c0c",
      "metadata": {
        "id": "1b057c0c"
      },
      "source": [
        "## リスト操作\n\n`+` 演算子はリストを連結します。"
      ]
    },
    {
      "cell_type": "code",
      "execution_count": null,
      "id": "66804de0",
      "metadata": {
        "id": "66804de0"
      },
      "outputs": [],
      "source": [
        "t1 = [1, 2]\n",
        "t2 = [3, 4]\n",
        "t1 + t2"
      ]
    },
    {
      "cell_type": "markdown",
      "id": "474a5c40",
      "metadata": {
        "id": "474a5c40"
      },
      "source": [
        "`*` 演算子はリストを指定された回数だけ繰り返します。"
      ]
    },
    {
      "cell_type": "code",
      "execution_count": null,
      "id": "96620f93",
      "metadata": {
        "id": "96620f93"
      },
      "outputs": [],
      "source": [
        "['spam'] * 4"
      ]
    },
    {
      "cell_type": "markdown",
      "id": "5b33bc51",
      "metadata": {
        "id": "5b33bc51"
      },
      "source": [
        "リストには他の数学的演算子は使えませんが、組み込み関数`sum`を使うと要素を合計することができます。"
      ]
    },
    {
      "cell_type": "code",
      "execution_count": null,
      "id": "0808ed08",
      "metadata": {
        "id": "0808ed08"
      },
      "outputs": [],
      "source": [
        "sum(t1)"
      ]
    },
    {
      "cell_type": "markdown",
      "id": "f216a14d",
      "metadata": {
        "id": "f216a14d"
      },
      "source": [
        "「min」と「max」は最小要素と最大要素を見つけます。"
      ]
    },
    {
      "cell_type": "code",
      "execution_count": null,
      "id": "7ed7e53d",
      "metadata": {
        "id": "7ed7e53d"
      },
      "outputs": [],
      "source": [
        "min(t1)"
      ]
    },
    {
      "cell_type": "code",
      "execution_count": null,
      "id": "dda02e4e",
      "metadata": {
        "id": "dda02e4e"
      },
      "outputs": [],
      "source": [
        "max(t2)"
      ]
    },
    {
      "cell_type": "markdown",
      "id": "533a2009",
      "metadata": {
        "id": "533a2009"
      },
      "source": [
        "## リストメソッド\n\nPythonはリストに対して操作を行うメソッドを提供しています。例えば、`append`メソッドは新しい要素をリストの末尾に追加します。"
      ]
    },
    {
      "cell_type": "code",
      "execution_count": null,
      "id": "bcf04ef9",
      "metadata": {
        "id": "bcf04ef9"
      },
      "outputs": [],
      "source": [
        "letters.append('e')\n",
        "letters"
      ]
    },
    {
      "cell_type": "markdown",
      "id": "ccc57f77",
      "metadata": {
        "id": "ccc57f77"
      },
      "source": [
        "`extend`はリストを引数として受け取り、そのリストのすべての要素を追加します。"
      ]
    },
    {
      "cell_type": "code",
      "execution_count": null,
      "id": "be55916d",
      "metadata": {
        "id": "be55916d"
      },
      "outputs": [],
      "source": [
        "letters.extend(['f', 'g'])\n",
        "letters"
      ]
    },
    {
      "cell_type": "markdown",
      "id": "0f39d9f6",
      "metadata": {
        "id": "0f39d9f6"
      },
      "source": [
        "リストから要素を削除する方法は2つあります。削除したい要素のインデックスが分かっている場合は、`pop`を使用できます。"
      ]
    },
    {
      "cell_type": "code",
      "execution_count": null,
      "id": "b22da905",
      "metadata": {
        "id": "b22da905"
      },
      "outputs": [],
      "source": [
        "t = ['a', 'b', 'c']\n",
        "t.pop(1)"
      ]
    },
    {
      "cell_type": "markdown",
      "id": "6729415a",
      "metadata": {
        "id": "6729415a"
      },
      "source": [
        "戻り値は削除された要素です。そして、リストが変更されたことを確認できます。"
      ]
    },
    {
      "cell_type": "code",
      "execution_count": null,
      "id": "01bdff91",
      "metadata": {
        "id": "01bdff91"
      },
      "outputs": [],
      "source": [
        "t"
      ]
    },
    {
      "cell_type": "markdown",
      "id": "1e97ee7d",
      "metadata": {
        "id": "1e97ee7d"
      },
      "source": [
        "削除したい要素が分かっているが、そのインデックスがわからない場合は、`remove` を使用できます。"
      ]
    },
    {
      "cell_type": "code",
      "execution_count": null,
      "id": "babe366e",
      "metadata": {
        "id": "babe366e"
      },
      "outputs": [],
      "source": [
        "t = ['a', 'b', 'c']\n",
        "t.remove('b')"
      ]
    },
    {
      "cell_type": "markdown",
      "id": "60e710fe",
      "metadata": {
        "id": "60e710fe"
      },
      "source": [
        "`remove` の返り値は `None` ですが、リストが変更されたことを確認できます。"
      ]
    },
    {
      "cell_type": "code",
      "execution_count": null,
      "id": "f80f5b1d",
      "metadata": {
        "id": "f80f5b1d"
      },
      "outputs": [],
      "source": [
        "t"
      ]
    },
    {
      "cell_type": "markdown",
      "id": "2a9448a8",
      "metadata": {
        "id": "2a9448a8"
      },
      "source": [
        "リストにない要素を要求した場合、それはValueErrorです。"
      ]
    },
    {
      "cell_type": "code",
      "execution_count": null,
      "id": "861f8e7e",
      "metadata": {
        "tags": [],
        "id": "861f8e7e"
      },
      "outputs": [],
      "source": [
        "%%expect ValueError\n",
        "\n",
        "t.remove('d')"
      ]
    },
    {
      "cell_type": "markdown",
      "id": "18305f96",
      "metadata": {
        "id": "18305f96"
      },
      "source": [
        "## リストと文字列\n\n文字列は文字の並びであり、リストは値の並びですが、文字のリストは文字列と同じではありません。\n文字列から文字のリストに変換するには、`list` 関数を使用できます。"
      ]
    },
    {
      "cell_type": "code",
      "execution_count": null,
      "id": "1b50bc13",
      "metadata": {
        "id": "1b50bc13"
      },
      "outputs": [],
      "source": [
        "s = 'spam'\n",
        "t = list(s)\n",
        "t"
      ]
    },
    {
      "cell_type": "markdown",
      "id": "0291ef69",
      "metadata": {
        "id": "0291ef69"
      },
      "source": [
        "`list` 関数は、文字列を個々の文字に分解します。\n文字列を単語に分割したい場合は、`split` メソッドを使用できます。"
      ]
    },
    {
      "cell_type": "code",
      "execution_count": null,
      "id": "c28e5127",
      "metadata": {
        "id": "c28e5127"
      },
      "outputs": [],
      "source": [
        "s = 'pining for the fjords'\n",
        "t = s.split()\n",
        "t"
      ]
    },
    {
      "cell_type": "markdown",
      "id": "0e16909d",
      "metadata": {
        "id": "0e16909d"
      },
      "source": [
        "**デリミター**と呼ばれるオプションの引数は、単語の境界として使用する文字を指定します。次の例では、ハイフンをデリミターとして使用しています。"
      ]
    },
    {
      "cell_type": "code",
      "execution_count": null,
      "id": "ec6ea206",
      "metadata": {
        "id": "ec6ea206"
      },
      "outputs": [],
      "source": [
        "s = 'ex-parrot'\n",
        "t = s.split('-')\n",
        "t"
      ]
    },
    {
      "cell_type": "markdown",
      "id": "7c61f916",
      "metadata": {
        "id": "7c61f916"
      },
      "source": [
        "文字列のリストがある場合、それらを連結して単一の文字列にするには、`join` を使用できます。`join` は文字列メソッドなので、デリミタで呼び出し、リストを引数として渡す必要があります。"
      ]
    },
    {
      "cell_type": "code",
      "execution_count": null,
      "id": "75c74d3c",
      "metadata": {
        "id": "75c74d3c"
      },
      "outputs": [],
      "source": [
        "delimiter = ' '\n",
        "t = ['pining', 'for', 'the', 'fjords']\n",
        "s = delimiter.join(t)\n",
        "s"
      ]
    },
    {
      "cell_type": "markdown",
      "id": "bedd842b",
      "metadata": {
        "id": "bedd842b"
      },
      "source": [
        "この場合、デリミタはスペース文字なので、`join`は単語の間にスペースを挿入します。\nスペースを入れずに文字列を結合するには、デリミタとして空文字列 `''` を使用できます。"
      ]
    },
    {
      "cell_type": "markdown",
      "id": "181215ce",
      "metadata": {
        "id": "181215ce"
      },
      "source": [
        "## リストのループ処理\n\nリストの要素をループで処理するには、`for`文を使用できます。"
      ]
    },
    {
      "cell_type": "code",
      "execution_count": null,
      "id": "a5df1e10",
      "metadata": {
        "id": "a5df1e10"
      },
      "outputs": [],
      "source": [
        "for cheese in cheeses:\n",
        "    print(cheese)"
      ]
    },
    {
      "cell_type": "markdown",
      "id": "c0e53a09",
      "metadata": {
        "id": "c0e53a09"
      },
      "source": [
        "たとえば、`split`を使用して単語のリストを作成した後で、それらをループするために`for`を使用できます。"
      ]
    },
    {
      "cell_type": "code",
      "execution_count": null,
      "id": "76b2c2e3",
      "metadata": {
        "id": "76b2c2e3"
      },
      "outputs": [],
      "source": [
        "s = 'pining for the fjords'\n",
        "\n",
        "for word in s.split():\n",
        "    print(word)"
      ]
    },
    {
      "cell_type": "markdown",
      "id": "0857b55b",
      "metadata": {
        "id": "0857b55b"
      },
      "source": [
        "空のリストに対する `for` ループでは、インデントされた文は一度も実行されません。"
      ]
    },
    {
      "cell_type": "code",
      "execution_count": null,
      "id": "7e844887",
      "metadata": {
        "id": "7e844887"
      },
      "outputs": [],
      "source": [
        "for x in []:\n",
        "    print('This never happens.')"
      ]
    },
    {
      "cell_type": "markdown",
      "id": "6e5f55c9",
      "metadata": {
        "id": "6e5f55c9"
      },
      "source": [
        "## リストのソート\n\nPythonにはリストの要素をソートするための組み込み関数`sorted`が用意されています。"
      ]
    },
    {
      "cell_type": "code",
      "execution_count": null,
      "id": "9db54d53",
      "metadata": {
        "id": "9db54d53"
      },
      "outputs": [],
      "source": [
        "scramble = ['c', 'a', 'b']\n",
        "sorted(scramble)"
      ]
    },
    {
      "cell_type": "markdown",
      "id": "44e028cf",
      "metadata": {
        "id": "44e028cf"
      },
      "source": [
        "元のリストは変更されていません。"
      ]
    },
    {
      "cell_type": "code",
      "execution_count": null,
      "id": "33d11287",
      "metadata": {
        "id": "33d11287"
      },
      "outputs": [],
      "source": [
        "scramble"
      ]
    },
    {
      "cell_type": "markdown",
      "id": "530146af",
      "metadata": {
        "id": "530146af"
      },
      "source": [
        "`sorted`はリストだけでなく、あらゆる種類のシーケンスで機能します。このようにして、文字列内の文字をソートすることができます。"
      ]
    },
    {
      "cell_type": "code",
      "execution_count": null,
      "id": "38c7cb0c",
      "metadata": {
        "id": "38c7cb0c"
      },
      "outputs": [],
      "source": [
        "sorted('letters')"
      ]
    },
    {
      "cell_type": "markdown",
      "id": "f90bd9ea",
      "metadata": {
        "id": "f90bd9ea"
      },
      "source": [
        "この結果はリストです。\nリストを文字列に変換するには、`join` を使用できます。"
      ]
    },
    {
      "cell_type": "code",
      "execution_count": null,
      "id": "2adb2fc3",
      "metadata": {
        "id": "2adb2fc3"
      },
      "outputs": [],
      "source": [
        "''.join(sorted('letters'))"
      ]
    },
    {
      "cell_type": "markdown",
      "id": "a57084e2",
      "metadata": {
        "id": "a57084e2"
      },
      "source": [
        "区切り文字として空の文字列を使用すると、リストの要素がその間に何も挟まずに結合されます。"
      ]
    },
    {
      "cell_type": "markdown",
      "id": "ce98b3d5",
      "metadata": {
        "id": "ce98b3d5"
      },
      "source": [
        "申し訳ありませんが、文が途中で終わっているようです。続けて記入していただければ、正確に日本語へ翻訳いたします。"
      ]
    },
    {
      "cell_type": "code",
      "execution_count": null,
      "id": "aa547282",
      "metadata": {
        "id": "aa547282"
      },
      "outputs": [],
      "source": [
        "a = 'banana'\n",
        "b = 'banana'"
      ]
    },
    {
      "cell_type": "markdown",
      "id": "33d020aa",
      "metadata": {
        "id": "33d020aa"
      },
      "source": [
        "`a` と `b` の両方が文字列を指していることはわかっていますが、それらが*同じ*文字列を指しているかどうかはわかりません。\n以下の図に示されるように、考えられる状態は2つあります。"
      ]
    },
    {
      "cell_type": "code",
      "execution_count": null,
      "id": "95a2aded",
      "metadata": {
        "tags": [],
        "id": "95a2aded"
      },
      "outputs": [],
      "source": [
        "from diagram import Frame, Stack\n",
        "\n",
        "s = 'banana'\n",
        "bindings = [Binding(Value(name), Value(repr(s))) for name in 'ab']\n",
        "frame1 = Frame(bindings, dy=-0.25)\n",
        "\n",
        "binding1 = Binding(Value('a'), Value(repr(s)), dy=-0.11)\n",
        "binding2 = Binding(Value('b'), draw_value=False, dy=0.11)\n",
        "frame2 = Frame([binding1, binding2], dy=-0.25)\n",
        "\n",
        "stack = Stack([frame1, frame2], dx=1.7, dy=0)"
      ]
    },
    {
      "cell_type": "code",
      "execution_count": null,
      "id": "3d75a28c",
      "metadata": {
        "tags": [],
        "id": "3d75a28c"
      },
      "outputs": [],
      "source": [
        "width, height, x, y = [2.85, 0.76, 0.17, 0.51]\n",
        "ax = diagram(width, height)\n",
        "bbox = stack.draw(ax, x, y)\n",
        "# adjust(x, y, bbox)"
      ]
    },
    {
      "cell_type": "markdown",
      "id": "2f0b0431",
      "metadata": {
        "id": "2f0b0431"
      },
      "source": [
        "左側の図では、`a` と `b` は異なるオブジェクトで、同じ値を持っています。右側の図では、`a` と `b` は同じオブジェクトを指しています。2つの変数が同じオブジェクトを指しているかどうかを確認するには、`is` 演算子を使用できます。"
      ]
    },
    {
      "cell_type": "code",
      "execution_count": null,
      "id": "a37e37bf",
      "metadata": {
        "id": "a37e37bf"
      },
      "outputs": [],
      "source": [
        "a = 'banana'\n",
        "b = 'banana'\n",
        "a is b"
      ]
    },
    {
      "cell_type": "markdown",
      "id": "d1eb0e36",
      "metadata": {
        "id": "d1eb0e36"
      },
      "source": [
        "この例では、Pythonは1つの文字列オブジェクトしか作成しておらず、`a`と`b`はどちらもそれを参照しています。\nしかし、2つのリストを作成すると、2つのオブジェクトが生成されます。"
      ]
    },
    {
      "cell_type": "code",
      "execution_count": null,
      "id": "d6af7316",
      "metadata": {
        "id": "d6af7316"
      },
      "outputs": [],
      "source": [
        "a = [1, 2, 3]\n",
        "b = [1, 2, 3]\n",
        "a is b"
      ]
    },
    {
      "cell_type": "markdown",
      "id": "a8d4c3d4",
      "metadata": {
        "id": "a8d4c3d4"
      },
      "source": [
        "状態図はこのようになります。"
      ]
    },
    {
      "cell_type": "code",
      "execution_count": null,
      "id": "dea08b82",
      "metadata": {
        "tags": [],
        "id": "dea08b82"
      },
      "outputs": [],
      "source": [
        "t = [1, 2, 3]\n",
        "binding1 = Binding(Value('a'), Value(repr(t)))\n",
        "binding2 = Binding(Value('b'), Value(repr(t)))\n",
        "frame = Frame([binding1, binding2], dy=-0.25)"
      ]
    },
    {
      "cell_type": "code",
      "execution_count": null,
      "id": "7e66ee69",
      "metadata": {
        "tags": [],
        "id": "7e66ee69"
      },
      "outputs": [],
      "source": [
        "width, height, x, y = [1.16, 0.76, 0.21, 0.51]\n",
        "ax = diagram(width, height)\n",
        "bbox = frame.draw(ax, x, y)\n",
        "# adjust(x, y, bbox)"
      ]
    },
    {
      "cell_type": "markdown",
      "id": "cc115a9f",
      "metadata": {
        "id": "cc115a9f"
      },
      "source": [
        "この場合、2つのリストは同じ要素を持っているため「**等価**」だと言えますが、同じオブジェクトではないため「**同一**」ではありません。2つのオブジェクトが同一である場合、それらは等価でもありますが、等価であるからといって必ずしも同一であるとは限りません。"
      ]
    },
    {
      "cell_type": "markdown",
      "id": "a58db021",
      "metadata": {
        "id": "a58db021"
      },
      "source": [
        "## エイリアス\n\n`a`があるオブジェクトを参照しているときに`b = a`と代入すると、両方の変数が同じオブジェクトを参照します。"
      ]
    },
    {
      "cell_type": "code",
      "execution_count": null,
      "id": "d6a7eb5b",
      "metadata": {
        "id": "d6a7eb5b"
      },
      "outputs": [],
      "source": [
        "a = [1, 2, 3]\n",
        "b = a\n",
        "b is a"
      ]
    },
    {
      "cell_type": "markdown",
      "id": "f6ab3262",
      "metadata": {
        "id": "f6ab3262"
      },
      "source": [
        "それでは、状態遷移図はこのようになります。"
      ]
    },
    {
      "cell_type": "code",
      "execution_count": null,
      "id": "dd406791",
      "metadata": {
        "tags": [],
        "id": "dd406791"
      },
      "outputs": [],
      "source": [
        "t = [1, 2, 3]\n",
        "binding1 = Binding(Value('a'), Value(repr(t)), dy=-0.11)\n",
        "binding2 = Binding(Value('b'), draw_value=False, dy=0.11)\n",
        "frame = Frame([binding1, binding2], dy=-0.25)"
      ]
    },
    {
      "cell_type": "code",
      "execution_count": null,
      "id": "552e1e1e",
      "metadata": {
        "tags": [],
        "id": "552e1e1e"
      },
      "outputs": [],
      "source": [
        "width, height, x, y = [1.11, 0.81, 0.17, 0.56]\n",
        "ax = diagram(width, height)\n",
        "bbox = frame.draw(ax, x, y)\n",
        "# adjust(x, y, bbox)"
      ]
    },
    {
      "cell_type": "markdown",
      "id": "c676fde9",
      "metadata": {
        "id": "c676fde9"
      },
      "source": [
        "変数がオブジェクトと関連付けられることを**参照**（reference）と呼びます。\nこの例では、同じオブジェクトに対して2つの参照があります。\n\n1つ以上の参照を持つオブジェクトは複数の名前を持つことになるため、そのオブジェクトは**エイリアスされている**（aliased）と言います。\nエイリアスされたオブジェクトが可変である場合、一方の名前で行った変更はもう一方にも影響します。\nこの例では、オブジェクト`b`が参照するものを変更すると、同時にオブジェクト`a`が参照するものも変更されます。"
      ]
    },
    {
      "cell_type": "code",
      "execution_count": null,
      "id": "6e3c1b24",
      "metadata": {
        "id": "6e3c1b24"
      },
      "outputs": [],
      "source": [
        "b[0] = 5\n",
        "a"
      ]
    },
    {
      "cell_type": "markdown",
      "id": "e3ef0537",
      "metadata": {
        "id": "e3ef0537"
      },
      "source": [
        "したがって、`a`がこの変更を「見る」と言うことができます。この動作は有用であることもありますが、エラーが発生しやすいです。一般的に、可変オブジェクトを扱う際にはエイリアシングを避ける方が安全です。\n\n文字列のような不変オブジェクトの場合、エイリアシングはそれほど問題にはなりません。この例では："
      ]
    },
    {
      "cell_type": "code",
      "execution_count": null,
      "id": "dad8a246",
      "metadata": {
        "id": "dad8a246"
      },
      "outputs": [],
      "source": [
        "a = 'banana'\n",
        "b = 'banana'"
      ]
    },
    {
      "cell_type": "markdown",
      "id": "952bbf60",
      "metadata": {
        "id": "952bbf60"
      },
      "source": [
        "`a`と`b`が同じ文字列を参照しているかどうかは、ほとんど違いを生みません。"
      ]
    },
    {
      "cell_type": "markdown",
      "id": "35045bef",
      "metadata": {
        "id": "35045bef"
      },
      "source": [
        "## リストの引数\n\nリストを関数に渡すと、関数はそのリストの参照を受け取ります。関数がリストを変更すると、呼び出し元にもその変更が反映されます。例えば、`pop_first`はリストメソッド`pop`を使ってリストの最初の要素を削除します。"
      ]
    },
    {
      "cell_type": "code",
      "execution_count": null,
      "id": "613b1845",
      "metadata": {
        "id": "613b1845"
      },
      "outputs": [],
      "source": [
        "def pop_first(lst):\n",
        "    return lst.pop(0)"
      ]
    },
    {
      "cell_type": "markdown",
      "id": "4953b0f9",
      "metadata": {
        "id": "4953b0f9"
      },
      "source": [
        "このように使用できます。"
      ]
    },
    {
      "cell_type": "code",
      "execution_count": null,
      "id": "3aff3598",
      "metadata": {
        "id": "3aff3598"
      },
      "outputs": [],
      "source": [
        "letters = ['a', 'b', 'c']\n",
        "pop_first(letters)"
      ]
    },
    {
      "cell_type": "markdown",
      "id": "ef5d3c1e",
      "metadata": {
        "id": "ef5d3c1e"
      },
      "source": [
        "戻り値は、リストから削除された最初の要素です。これは、修正されたリストを表示することで確認できます。"
      ]
    },
    {
      "cell_type": "code",
      "execution_count": null,
      "id": "c10e4dcc",
      "metadata": {
        "id": "c10e4dcc"
      },
      "outputs": [],
      "source": [
        "letters"
      ]
    },
    {
      "cell_type": "markdown",
      "id": "e5288e08",
      "metadata": {
        "id": "e5288e08"
      },
      "source": [
        "この例では、パラメータ `lst` と変数 `letters` は同じオブジェクトの別名であるため、状態図は次のようになります。"
      ]
    },
    {
      "cell_type": "code",
      "execution_count": null,
      "id": "a13e72c7",
      "metadata": {
        "tags": [],
        "id": "a13e72c7"
      },
      "outputs": [],
      "source": [
        "lst = make_list('abc', dy=-0.3, offsetx=0.1)\n",
        "binding1 = Binding(Value('letters'), draw_value=False)\n",
        "frame1 = Frame([binding1], name='__main__', loc='left')\n",
        "\n",
        "binding2 = Binding(Value('lst'), draw_value=False, dx=0.61, dy=0.35)\n",
        "frame2 = Frame([binding2], name='pop_first', loc='left', offsetx=0.08)\n",
        "\n",
        "stack = Stack([frame1, frame2], dx=-0.3, dy=-0.5)"
      ]
    },
    {
      "cell_type": "code",
      "execution_count": null,
      "id": "1a06dae9",
      "metadata": {
        "tags": [],
        "id": "1a06dae9"
      },
      "outputs": [],
      "source": [
        "width, height, x, y = [2.04, 1.24, 1.06, 0.85]\n",
        "ax = diagram(width, height)\n",
        "bbox1 = stack.draw(ax, x, y)\n",
        "bbox2 = lst.draw(ax, x+0.5, y)\n",
        "bbox = Bbox.union([bbox1, bbox2])\n",
        "adjust(x, y, bbox)"
      ]
    },
    {
      "cell_type": "markdown",
      "id": "c1a093d2",
      "metadata": {
        "id": "c1a093d2"
      },
      "source": [
        "オブジェクトへの参照を引数として関数に渡すと、一種のエイリアスが作成されます。関数がそのオブジェクトを変更した場合、その変更は関数が終了した後も持続します。"
      ]
    },
    {
      "cell_type": "markdown",
      "id": "88c07ec9",
      "metadata": {
        "tags": [],
        "id": "88c07ec9"
      },
      "source": [
        "## 単語リストの作成\n\n前章では、ファイル `words.txt` を読み込み、特定の条件を持つ単語（例えば、文字 `e` を含むもの）を検索しました。しかし、ファイルを何度も読み込むのは効率的ではありません。ファイルを一度だけ読み込み、単語をリストに入れる方が良いです。以下のループはその方法を示しています。"
      ]
    },
    {
      "cell_type": "code",
      "execution_count": null,
      "id": "6550f0b8",
      "metadata": {
        "tags": [],
        "id": "6550f0b8"
      },
      "outputs": [],
      "source": [
        "download('https://raw.githubusercontent.com/AllenDowney/ThinkPython/v3/words.txt');"
      ]
    },
    {
      "cell_type": "code",
      "execution_count": null,
      "id": "e5a94833",
      "metadata": {
        "id": "e5a94833"
      },
      "outputs": [],
      "source": [
        "word_list = []\n",
        "\n",
        "for line in open('words.txt'):\n",
        "    word = line.strip()\n",
        "    word_list.append(word)\n",
        "\n",
        "len(word_list)"
      ]
    },
    {
      "cell_type": "markdown",
      "id": "44450ffa",
      "metadata": {
        "id": "44450ffa"
      },
      "source": [
        "ループの前に、`word_list`は空のリストで初期化されます。ループが回るたびに、`append`メソッドによって単語が末尾に追加されます。ループが終了すると、リストには113,000語以上が含まれています。\n\n同じことを行うもう一つの方法は、`read`を使用してファイル全体を文字列として読み込むことです。"
      ]
    },
    {
      "cell_type": "code",
      "execution_count": null,
      "id": "32e28204",
      "metadata": {
        "id": "32e28204"
      },
      "outputs": [],
      "source": [
        "string = open('words.txt').read()\n",
        "len(string)"
      ]
    },
    {
      "cell_type": "markdown",
      "id": "65718c7f",
      "metadata": {
        "id": "65718c7f"
      },
      "source": [
        "結果は、100万文字を超える単一の文字列です。`split`メソッドを使用して、それを単語のリストに分割することができます。"
      ]
    },
    {
      "cell_type": "code",
      "execution_count": null,
      "id": "4e35f7ce",
      "metadata": {
        "id": "4e35f7ce"
      },
      "outputs": [],
      "source": [
        "word_list = string.split()\n",
        "len(word_list)"
      ]
    },
    {
      "cell_type": "markdown",
      "id": "1b5b25a3",
      "metadata": {
        "id": "1b5b25a3"
      },
      "source": [
        "たとえば、リストに`'demotic'`が含まれているかどうかを確認するために、`in`演算子を使用できます。"
      ]
    },
    {
      "cell_type": "code",
      "execution_count": null,
      "id": "a778a62a",
      "metadata": {
        "id": "a778a62a"
      },
      "outputs": [],
      "source": [
        "'demotic' in word_list"
      ]
    },
    {
      "cell_type": "markdown",
      "id": "9df6674d",
      "metadata": {
        "id": "9df6674d"
      },
      "source": [
        "しかし、`'contrafibularities'`は違います。"
      ]
    },
    {
      "cell_type": "code",
      "execution_count": null,
      "id": "63341c0e",
      "metadata": {
        "id": "63341c0e"
      },
      "outputs": [],
      "source": [
        "'contrafibularities' in word_list"
      ]
    },
    {
      "cell_type": "markdown",
      "id": "243c25b6",
      "metadata": {
        "id": "243c25b6"
      },
      "source": [
        "「それについて私は不快感を持っていると言わざるを得ません。」"
      ]
    },
    {
      "cell_type": "markdown",
      "id": "ce9ffd79",
      "metadata": {
        "id": "ce9ffd79"
      },
      "source": [
        "## デバッグ\n\nほとんどのリストメソッドは引数を変更し、`None`を返すことに注意してください。\nこれは、新しい文字列を返し、元の文字列をそのままにする文字列メソッドとは反対です。\n\n次のように文字列コードを書くのに慣れている場合は:"
      ]
    },
    {
      "cell_type": "code",
      "execution_count": null,
      "id": "88872f14",
      "metadata": {
        "id": "88872f14"
      },
      "outputs": [],
      "source": [
        "word = 'plumage!'\n",
        "word = word.strip('!')\n",
        "word"
      ]
    },
    {
      "cell_type": "markdown",
      "id": "d2117582",
      "metadata": {
        "id": "d2117582"
      },
      "source": [
        "このようにリストのコードを書くのは魅力的です："
      ]
    },
    {
      "cell_type": "code",
      "execution_count": null,
      "id": "e28e7135",
      "metadata": {
        "id": "e28e7135"
      },
      "outputs": [],
      "source": [
        "t = [1, 2, 3]\n",
        "t = t.remove(3)           # WRONG!"
      ]
    },
    {
      "cell_type": "markdown",
      "id": "991c439d",
      "metadata": {
        "id": "991c439d"
      },
      "source": [
        "`remove`はリストを変更し、`None`を返すので、次に`t`で行う操作は失敗する可能性があります。"
      ]
    },
    {
      "cell_type": "code",
      "execution_count": null,
      "id": "97cf0c61",
      "metadata": {
        "tags": [],
        "id": "97cf0c61"
      },
      "outputs": [],
      "source": [
        "%%expect AttributeError\n",
        "\n",
        "t.remove(2)"
      ]
    },
    {
      "cell_type": "markdown",
      "id": "c500e2d8",
      "metadata": {
        "id": "c500e2d8"
      },
      "source": [
        "このエラーメッセージには説明が必要です。オブジェクトの**属性**とは、そのオブジェクトに関連付けられた変数やメソッドのことです。この場合、`t`の値が`None`であり、これは`NoneType`オブジェクトで、`remove`という名前の属性を持っていないので、結果として`AttributeError`が発生します。\n\nこのようなエラーメッセージが表示されたら、プログラムを遡って、リストメソッドを誤って呼び出していないか確認するべきです。"
      ]
    },
    {
      "cell_type": "markdown",
      "id": "f90db780",
      "metadata": {
        "id": "f90db780"
      },
      "source": [
        "## 用語集\n\n**リスト:**\n 値のシーケンスを含むオブジェクト。\n\n**要素:**\n リストや他のシーケンス内の値の1つ。\n\n**ネストリスト:**\n 他のリストの要素として含まれるリスト。\n\n**デリミタ:**\n 文字列をどこで分割するかを示すために使用される文字または文字列。\n\n**同等:**\n 同じ値を持つこと。\n\n**同一:**\n 同じオブジェクトであること（同等であることを意味する）。\n\n**参照:**\n 変数とその値の間の関連。\n\n**エイリアス化:**\n 1つのオブジェクトに複数の変数が参照している場合、そのオブジェクトはエイリアス化されている。\n\n**属性:**\n オブジェクトに関連付けられた名前付きの値の1つ。"
      ]
    },
    {
      "cell_type": "markdown",
      "id": "e67864e5",
      "metadata": {
        "id": "e67864e5"
      },
      "source": [
        "## 練習問題"
      ]
    },
    {
      "cell_type": "code",
      "execution_count": null,
      "id": "a4e34564",
      "metadata": {
        "tags": [],
        "id": "a4e34564"
      },
      "outputs": [],
      "source": [
        "# This cell tells Jupyter to provide detailed debugging information\n",
        "# when a runtime error occurs. Run it before working on the exercises.\n",
        "\n",
        "%xmode Verbose"
      ]
    },
    {
      "cell_type": "markdown",
      "id": "ae9c42da",
      "metadata": {
        "id": "ae9c42da"
      },
      "source": [
        "### バーチャルアシスタントに聞いてみる\n\nこの章では、「contrafibularities」や「anaspeptic」といった言葉を使用しましたが、実際には英語の単語ではありません。これらは、イギリスのテレビ番組 *Black Adder* のシーズン3、エピソード2「Ink and Incapability」で使われた言葉です。\n\nしかし、ChatGPT 3.5（2023年8月3日バージョン）にこれらの言葉の出典を尋ねた際、最初はモンティパイソンから来たと主張し、後にトム・ストッパードの戯曲 *Rosencrantz and Guildenstern Are Dead* から来たと主張しました。\n\n現在聞いてみると、違う結果になるかもしれません。しかし、この例は、バーチャルアシスタントが常に正確ではないということを思い出させてくれます。したがって、結果が正しいかどうかを確認する必要があります。経験を積むことで、バーチャルアシスタントがどの質問に対して信頼性の高い回答を提供できるのかという感覚を得ることができます。この例では、一般的なウェブ検索により、これらの言葉の出典をすぐに特定できるでしょう。\n\nこの章の練習問題で行き詰まった場合は、バーチャルアシスタントに助けを求めることを検討してください。まだ学んでいない機能を使用した結果が出た場合、VA に「役割」を割り当てることができます。\n\n例えば、質問をする前に「役割：基本的なPythonプログラミングのインストラクター」と入力してください。その後は、基本的な機能のみを使った回答を受け取れるはずです。それでもまだ学んでいない機能が出てくる場合は、「基本的なPython機能のみを使って書いてもらえますか？」と追いかけることができます。"
      ]
    },
    {
      "cell_type": "markdown",
      "id": "31d5b304",
      "metadata": {
        "id": "31d5b304"
      },
      "source": [
        "```python\ndef is_anagram(word1, word2):\n    return sorted(word1) == sorted(word2)\n```\n\nこちらのコードは、2つの単語がアナグラムであるかどうかを確認する関数 `is_anagram` を示しています。この関数は、2つの文字列を受け取り、その文字列の各文字をソートします。ソートした結果が一致する場合、2つの単語はアナグラムであるため、関数は `True` を返します。そうでない場合は、`False` を返します。"
      ]
    },
    {
      "cell_type": "markdown",
      "id": "a882bfeb",
      "metadata": {
        "tags": [],
        "id": "a882bfeb"
      },
      "source": [
        "あなたを始めさせるために、ここに doctests を含む関数のアウトラインがあります。"
      ]
    },
    {
      "cell_type": "code",
      "execution_count": null,
      "id": "9c5916ed",
      "metadata": {
        "tags": [],
        "id": "9c5916ed"
      },
      "outputs": [],
      "source": [
        "def is_anagram(word1, word2):\n",
        "    \"\"\"Checks whether two words are anagrams.\n",
        "\n",
        "    >>> is_anagram('tops', 'stop')\n",
        "    True\n",
        "    >>> is_anagram('skate', 'takes')\n",
        "    True\n",
        "    >>> is_anagram('tops', 'takes')\n",
        "    False\n",
        "    >>> is_anagram('skate', 'stop')\n",
        "    False\n",
        "    \"\"\"\n",
        "    return None"
      ]
    },
    {
      "cell_type": "code",
      "execution_count": null,
      "id": "5885cbd3",
      "metadata": {
        "id": "5885cbd3"
      },
      "outputs": [],
      "source": [
        "# Solution goes here"
      ]
    },
    {
      "cell_type": "markdown",
      "id": "a86e7403",
      "metadata": {
        "tags": [],
        "id": "a86e7403"
      },
      "source": [
        "関数をテストするために `doctest` を使用できます。"
      ]
    },
    {
      "cell_type": "code",
      "execution_count": null,
      "id": "ce7a96ec",
      "metadata": {
        "tags": [],
        "id": "ce7a96ec"
      },
      "outputs": [],
      "source": [
        "from doctest import run_docstring_examples\n",
        "\n",
        "def run_doctests(func):\n",
        "    run_docstring_examples(func, globals(), name=func.__name__)\n",
        "\n",
        "run_doctests(is_anagram)"
      ]
    },
    {
      "cell_type": "markdown",
      "id": "8501f3ba",
      "metadata": {
        "id": "8501f3ba"
      },
      "source": [
        "`takes` のアナグラムを見つけるためには、文字を並び替えて意味のある単語を作成する必要があります。以下は `takes` のアナグラムの例です：\n\n1. stake (ステーク)\n2. skate (スケート)\n\nこれらは `takes` から作成できるアナグラムの例です。"
      ]
    },
    {
      "cell_type": "code",
      "execution_count": null,
      "id": "75e17c7b",
      "metadata": {
        "id": "75e17c7b"
      },
      "outputs": [],
      "source": [
        "# Solution goes here"
      ]
    },
    {
      "cell_type": "markdown",
      "id": "7f279f2f",
      "metadata": {
        "id": "7f279f2f"
      },
      "source": [
        "### エクササイズ\n\nPythonは、「reversed」という名前の組み込み関数を提供しています。この関数は、リストや文字列のような要素のシーケンスを引数として取り、要素が逆順に格納された`reversed`オブジェクトを返します。"
      ]
    },
    {
      "cell_type": "code",
      "execution_count": null,
      "id": "aafa5db5",
      "metadata": {
        "id": "aafa5db5"
      },
      "outputs": [],
      "source": [
        "reversed('parrot')"
      ]
    },
    {
      "cell_type": "markdown",
      "id": "0f95c76f",
      "metadata": {
        "id": "0f95c76f"
      },
      "source": [
        "リスト内の要素を逆順にしたい場合は、`list`関数を使うことができます。"
      ]
    },
    {
      "cell_type": "code",
      "execution_count": null,
      "id": "06cbb42a",
      "metadata": {
        "id": "06cbb42a"
      },
      "outputs": [],
      "source": [
        "list(reversed('parrot'))"
      ]
    },
    {
      "cell_type": "markdown",
      "id": "8fc79a2f",
      "metadata": {
        "id": "8fc79a2f"
      },
      "source": [
        "または、それらを文字列にしたい場合は、`join`メソッドを使用できます。"
      ]
    },
    {
      "cell_type": "code",
      "execution_count": null,
      "id": "18a73205",
      "metadata": {
        "id": "18a73205"
      },
      "outputs": [],
      "source": [
        "''.join(reversed('parrot'))"
      ]
    },
    {
      "cell_type": "markdown",
      "id": "ec4ce196",
      "metadata": {
        "id": "ec4ce196"
      },
      "source": [
        "このようにして単語を反転させる関数を書くことができます。"
      ]
    },
    {
      "cell_type": "code",
      "execution_count": null,
      "id": "408932cb",
      "metadata": {
        "id": "408932cb"
      },
      "outputs": [],
      "source": [
        "def reverse_word(word):\n",
        "    return ''.join(reversed(word))"
      ]
    },
    {
      "cell_type": "markdown",
      "id": "21550b5f",
      "metadata": {
        "id": "21550b5f"
      },
      "source": [
        "パリンドローム（回文）は、前後に同じように綴られる単語のことです。例えば、「noon」や「rotator」があります。以下に、そのような単語かどうかを判定する関数 `is_palindrome` の実装を示します。これは入力された文字列がパリンドロームであれば `True` を、そうでなければ `False` を返します。\n\n```python\ndef is_palindrome(s):\n    # 文字列を逆にして、元の文字列と比較します\n    return s == s[::-1]\n\n# 使用例\nprint(is_palindrome(\"noon\"))      # 出力: True\nprint(is_palindrome(\"rotator\"))   # 出力: True\nprint(is_palindrome(\"hello\"))     # 出力: False\n```\n\nこの関数は、文字列をスライスし逆順にして、それが元の文字列と一致するかどうかをチェックすることで、パリンドロームかどうかを確認します。"
      ]
    },
    {
      "cell_type": "markdown",
      "id": "3748b4e0",
      "metadata": {
        "tags": [],
        "id": "3748b4e0"
      },
      "source": [
        "関数のアウトラインと、その関数をチェックするために使えるdoctestが欲しいということですね。具体的にどのような関数を考えているのか教えていただけますか？関数の内容や期待する動作について詳しい情報をいただければ、それに応じた翻訳を提供することができます。"
      ]
    },
    {
      "cell_type": "code",
      "execution_count": null,
      "id": "9179d51c",
      "metadata": {
        "tags": [],
        "id": "9179d51c"
      },
      "outputs": [],
      "source": [
        "def is_palindrome(word):\n",
        "    \"\"\"Check if a word is a palindrome.\n",
        "\n",
        "    >>> is_palindrome('bob')\n",
        "    True\n",
        "    >>> is_palindrome('alice')\n",
        "    False\n",
        "    >>> is_palindrome('a')\n",
        "    True\n",
        "    >>> is_palindrome('')\n",
        "    True\n",
        "    \"\"\"\n",
        "    return False"
      ]
    },
    {
      "cell_type": "code",
      "execution_count": null,
      "id": "16d493ad",
      "metadata": {
        "id": "16d493ad"
      },
      "outputs": [],
      "source": [
        "# Solution goes here"
      ]
    },
    {
      "cell_type": "code",
      "execution_count": null,
      "id": "33c9b4ec",
      "metadata": {
        "tags": [],
        "id": "33c9b4ec"
      },
      "outputs": [],
      "source": [
        "run_doctests(is_palindrome)"
      ]
    },
    {
      "cell_type": "markdown",
      "id": "ad857abf",
      "metadata": {
        "id": "ad857abf"
      },
      "source": [
        "以下のループを使用して、7文字以上の単語リスト内のすべての回文を見つけることができます。"
      ]
    },
    {
      "cell_type": "code",
      "execution_count": null,
      "id": "fea01394",
      "metadata": {
        "tags": [],
        "id": "fea01394"
      },
      "outputs": [],
      "source": [
        "for word in word_list:\n",
        "    if len(word) >= 7 and is_palindrome(word):\n",
        "        print(word)"
      ]
    },
    {
      "cell_type": "markdown",
      "id": "11386f70",
      "metadata": {
        "id": "11386f70"
      },
      "source": [
        "```python\ndef reverse_sentence(sentence):\n    # Split the sentence into words\n    words = sentence.split()\n    \n    # Reverse the order of the words\n    reversed_words = words[::-1]\n    \n    # Join the reversed words into a new sentence\n    reversed_sentence = ' '.join(reversed_words)\n    \n    # Capitalize the first word and make other words lowercase\n    final_sentence = reversed_sentence.capitalize()\n    \n    return final_sentence\n\n# Example usage:\n# Input: \"Reverse this sentence\"\n# Output: \"Sentence this reverse\"\n```\n\n日本語訳:\n```python\ndef reverse_sentence(sentence):\n    # 文を単語に分割する\n    words = sentence.split()\n    \n    # 単語の順序を逆にする\n    reversed_words = words[::-1]\n    \n    # 逆順にした単語を新しい文として結合する\n    reversed_sentence = ' '.join(reversed_words)\n    \n    # 最初の単語を大文字にし、他の単語を小文字にする\n    final_sentence = reversed_sentence.capitalize()\n    \n    return final_sentence\n\n# 使用例:\n# 入力: \"Reverse this sentence\"\n# 出力: \"Sentence this reverse\"\n```"
      ]
    },
    {
      "cell_type": "markdown",
      "id": "13882893",
      "metadata": {
        "tags": [],
        "id": "13882893"
      },
      "source": [
        "開始するために、以下にドックテスト付きの関数のアウトラインを示します。"
      ]
    },
    {
      "cell_type": "code",
      "execution_count": null,
      "id": "d9b5b362",
      "metadata": {
        "tags": [],
        "id": "d9b5b362"
      },
      "outputs": [],
      "source": [
        "def reverse_sentence(input_string):\n",
        "    '''Reverse the words in a string and capitalize the first.\n",
        "\n",
        "    >>> reverse_sentence('Reverse this sentence')\n",
        "    'Sentence this reverse'\n",
        "\n",
        "    >>> reverse_sentence('Python')\n",
        "    'Python'\n",
        "\n",
        "    >>> reverse_sentence('')\n",
        "    ''\n",
        "\n",
        "    >>> reverse_sentence('One for all and all for one')\n",
        "    'One for all and all for one'\n",
        "    '''\n",
        "    return None"
      ]
    },
    {
      "cell_type": "code",
      "execution_count": null,
      "id": "a2cb1451",
      "metadata": {
        "id": "a2cb1451"
      },
      "outputs": [],
      "source": [
        "# Solution goes here"
      ]
    },
    {
      "cell_type": "code",
      "execution_count": null,
      "id": "769d1c7a",
      "metadata": {
        "tags": [],
        "id": "769d1c7a"
      },
      "outputs": [],
      "source": [
        "run_doctests(reverse_sentence)"
      ]
    },
    {
      "cell_type": "markdown",
      "id": "fb5f24b1",
      "metadata": {
        "id": "fb5f24b1"
      },
      "source": [
        "### 練習問題\n\n`total_length`という関数を作成し、文字列のリストを引数に取り、文字列の総文字数を返します。\n`word_list`の単語の総文字数は$902{,}728$であるべきです。"
      ]
    },
    {
      "cell_type": "code",
      "execution_count": null,
      "id": "1fba5377",
      "metadata": {
        "id": "1fba5377"
      },
      "outputs": [],
      "source": [
        "# Solution goes here"
      ]
    },
    {
      "cell_type": "code",
      "execution_count": null,
      "id": "21f4cf1c",
      "metadata": {
        "id": "21f4cf1c"
      },
      "outputs": [],
      "source": [
        "# Solution goes here"
      ]
    },
    {
      "cell_type": "code",
      "execution_count": null,
      "id": "c3efb216",
      "metadata": {
        "id": "c3efb216"
      },
      "outputs": [],
      "source": []
    },
    {
      "cell_type": "markdown",
      "id": "a7f4edf8",
      "metadata": {
        "tags": [],
        "id": "a7f4edf8"
      },
      "source": [
        "[Think Python: 第3版](https://allendowney.github.io/ThinkPython/index.html)\n\n著作権 2024 [Allen B. Downey](https://allendowney.com)\n\nコードライセンス: [MITライセンス](https://mit-license.org/)\n\nテキストライセンス: [クリエイティブ・コモンズ 表示 - 非営利 - 継承 4.0 国際](https://creativecommons.org/licenses/by-nc-sa/4.0/)"
      ]
    }
  ],
  "metadata": {
    "celltoolbar": "Tags",
    "kernelspec": {
      "display_name": "Python 3 (ipykernel)",
      "language": "python",
      "name": "python3"
    },
    "language_info": {
      "codemirror_mode": {
        "name": "ipython",
        "version": 3
      },
      "file_extension": ".py",
      "mimetype": "text/x-python",
      "name": "python",
      "nbconvert_exporter": "python",
      "pygments_lexer": "ipython3",
      "version": "3.10.11"
    },
    "colab": {
      "provenance": []
    }
  },
  "nbformat": 4,
  "nbformat_minor": 5
}