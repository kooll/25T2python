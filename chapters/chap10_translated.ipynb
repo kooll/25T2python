{
  "cells": [
    {
      "cell_type": "markdown",
      "metadata": {
        "id": "view-in-github",
        "colab_type": "text"
      },
      "source": [
        "<a href=\"https://colab.research.google.com/github/kooll/ThinkPythonJ/blob/main/chapters/chap10_translated.ipynb\" target=\"_parent\"><img src=\"https://colab.research.google.com/assets/colab-badge.svg\" alt=\"Open In Colab\"/></a>"
      ]
    },
    {
      "cell_type": "markdown",
      "id": "1331faa1",
      "metadata": {
        "id": "1331faa1"
      },
      "source": [
        "*Think Python 3e* の印刷版および電子書籍版は、[Bookshop.org](https://bookshop.org/a/98697/9781098155438) と [Amazon](https://www.amazon.com/_/dp/1098155432?smid=ATVPDKIKX0DER&_encoding=UTF8&tag=oreilly20-20&_encoding=UTF8&tag=greenteapre01-20&linkCode=ur2&linkId=e2a529f94920295d27ec8a06e757dc7c&camp=1789&creative=9325) から注文できます。"
      ]
    },
    {
      "cell_type": "code",
      "execution_count": null,
      "id": "e55de5cd",
      "metadata": {
        "tags": [],
        "id": "e55de5cd"
      },
      "outputs": [],
      "source": [
        "from os.path import basename, exists\n",
        "\n",
        "def download(url):\n",
        "    filename = basename(url)\n",
        "    if not exists(filename):\n",
        "        from urllib.request import urlretrieve\n",
        "\n",
        "        local, _ = urlretrieve(url, filename)\n",
        "        print(\"Downloaded \" + str(local))\n",
        "    return filename\n",
        "\n",
        "download('https://github.com/AllenDowney/ThinkPython/raw/v3/thinkpython.py');\n",
        "download('https://github.com/AllenDowney/ThinkPython/raw/v3/diagram.py');\n",
        "\n",
        "import thinkpython"
      ]
    },
    {
      "cell_type": "markdown",
      "id": "737e79eb",
      "metadata": {
        "id": "737e79eb"
      },
      "source": [
        "# 辞書\n",
        "\n",
        "この章では、辞書という組み込み型を紹介します。\n",
        "これはPythonの優れた機能の一つであり、多くの効率的でエレガントなアルゴリズムの基盤です。\n",
        "\n",
        "辞書を使用して、本の中でユニークな単語の数とそれぞれの出現回数を計算します。\n",
        "また、演習では辞書を使って単語パズルを解く予定です。"
      ]
    },
    {
      "cell_type": "markdown",
      "id": "be7467bb",
      "metadata": {
        "id": "be7467bb"
      },
      "source": [
        "## 辞書はマッピングです\n",
        "\n",
        "**辞書**はリストのようなもので、より一般的です。リストでは、インデックスは整数である必要がありますが、辞書では（ほぼ）どんな型でも使用できます。たとえば、次のように数字の単語のリストを作成することを考えてみましょう。"
      ]
    },
    {
      "cell_type": "code",
      "execution_count": null,
      "id": "20dd9f32",
      "metadata": {
        "id": "20dd9f32"
      },
      "outputs": [],
      "source": [
        "lst = ['zero', 'one', 'two']"
      ]
    },
    {
      "cell_type": "markdown",
      "id": "aa626f88",
      "metadata": {
        "id": "aa626f88"
      },
      "source": [
        "整数をインデックスとして使用して対応する単語を取得することができます。"
      ]
    },
    {
      "cell_type": "code",
      "execution_count": null,
      "id": "9b6625c0",
      "metadata": {
        "id": "9b6625c0"
      },
      "outputs": [],
      "source": [
        "lst[1]"
      ]
    },
    {
      "cell_type": "markdown",
      "id": "c38e143b",
      "metadata": {
        "id": "c38e143b"
      },
      "source": [
        "しかし、別の方向に進みたいと仮定して、単語を調べて対応する整数を取得したい場合について考えてみましょう。\n",
        "リストではそれはできませんが、辞書を使えば可能です。\n",
        "最初に空の辞書を作成し、それを `numbers` に割り当てます。"
      ]
    },
    {
      "cell_type": "code",
      "execution_count": null,
      "id": "138952d9",
      "metadata": {
        "id": "138952d9"
      },
      "outputs": [],
      "source": [
        "numbers = {}\n",
        "numbers"
      ]
    },
    {
      "cell_type": "markdown",
      "id": "3acce992",
      "metadata": {
        "id": "3acce992"
      },
      "source": [
        "波括弧 `{}` は空の辞書を表します。  \n",
        "辞書に項目を追加するには、角括弧を使用します。"
      ]
    },
    {
      "cell_type": "code",
      "execution_count": null,
      "id": "007ef505",
      "metadata": {
        "id": "007ef505"
      },
      "outputs": [],
      "source": [
        "numbers['zero'] = 0"
      ]
    },
    {
      "cell_type": "markdown",
      "id": "1dbe12c3",
      "metadata": {
        "id": "1dbe12c3"
      },
      "source": [
        "この課題では、辞書に**項目**を追加します。項目は**キー**と**値**を結びつけたものを表します。  \n",
        "この例では、キーは文字列の `'zero'` であり、値は整数の `0` です。  \n",
        "辞書を表示すると、1つの項目が含まれており、キーと値がコロン（`:`）で区切られていることがわかります。"
      ]
    },
    {
      "cell_type": "code",
      "execution_count": null,
      "id": "753a8fbc",
      "metadata": {
        "id": "753a8fbc"
      },
      "outputs": [],
      "source": [
        "numbers"
      ]
    },
    {
      "cell_type": "markdown",
      "id": "ad32c23d",
      "metadata": {
        "id": "ad32c23d"
      },
      "source": [
        "このような項目をさらに追加できます。"
      ]
    },
    {
      "cell_type": "code",
      "execution_count": null,
      "id": "835aac1e",
      "metadata": {
        "id": "835aac1e"
      },
      "outputs": [],
      "source": [
        "numbers['one'] = 1\n",
        "numbers['two'] = 2\n",
        "numbers"
      ]
    },
    {
      "cell_type": "markdown",
      "id": "278901e5",
      "metadata": {
        "id": "278901e5"
      },
      "source": [
        "現在、辞書には3つの項目が含まれています。\n",
        "\n",
        "キーを調べて対応する値を取得するには、ブラケット演算子を使用します。"
      ]
    },
    {
      "cell_type": "code",
      "execution_count": null,
      "id": "c0475cee",
      "metadata": {
        "id": "c0475cee"
      },
      "outputs": [],
      "source": [
        "numbers['two']"
      ]
    },
    {
      "cell_type": "markdown",
      "id": "df5724e6",
      "metadata": {
        "id": "df5724e6"
      },
      "source": [
        "キーが辞書にない場合、`KeyError`が発生します。"
      ]
    },
    {
      "cell_type": "code",
      "execution_count": null,
      "id": "30c37eef",
      "metadata": {
        "tags": [],
        "id": "30c37eef"
      },
      "outputs": [],
      "source": [
        "%%expect KeyError\n",
        "numbers['three']\n"
      ]
    },
    {
      "cell_type": "markdown",
      "id": "2a027a6b",
      "metadata": {
        "id": "2a027a6b"
      },
      "source": [
        "`len` 関数は辞書に対して使用できます。これは項目の数を返します。"
      ]
    },
    {
      "cell_type": "code",
      "execution_count": null,
      "id": "1b4ea0c2",
      "metadata": {
        "id": "1b4ea0c2"
      },
      "outputs": [],
      "source": [
        "len(numbers)"
      ]
    },
    {
      "cell_type": "markdown",
      "id": "58221e96",
      "metadata": {
        "id": "58221e96"
      },
      "source": [
        "数学的な言葉で言えば、辞書はキーから値への**マッピング**を表しています。つまり、各キーがある値に「マップされる」と言うこともできます。 この例では、各数字の単語が対応する整数にマップされます。\n",
        "\n",
        "次の図は、`numbers`の状態図を示しています。"
      ]
    },
    {
      "cell_type": "code",
      "execution_count": null,
      "id": "eba36a24",
      "metadata": {
        "tags": [],
        "id": "eba36a24"
      },
      "outputs": [],
      "source": [
        "from diagram import make_dict, Binding, Value\n",
        "\n",
        "d1 = make_dict(numbers, dy=-0.3, offsetx=0.37)\n",
        "binding1 = Binding(Value('numbers'), d1)"
      ]
    },
    {
      "cell_type": "code",
      "execution_count": null,
      "id": "9016bf4b",
      "metadata": {
        "tags": [],
        "id": "9016bf4b"
      },
      "outputs": [],
      "source": [
        "from diagram import diagram, adjust, Bbox\n",
        "\n",
        "width, height, x, y = [1.83, 1.24, 0.49, 0.85]\n",
        "ax = diagram(width, height)\n",
        "bbox = binding1.draw(ax, x, y)\n",
        "# adjust(x, y, bbox)"
      ]
    },
    {
      "cell_type": "markdown",
      "id": "b092aa61",
      "metadata": {
        "id": "b092aa61"
      },
      "source": [
        "辞書は、外側に「dict」という単語が書かれた箱で表され、その中に項目が入っています。  \n",
        "各項目はキーと、値を指す矢印で表されます。  \n",
        "ここでの鍵括弧は、キーが変数名ではなく文字列であることを示しています。"
      ]
    },
    {
      "cell_type": "markdown",
      "id": "2a0a128a",
      "metadata": {
        "id": "2a0a128a"
      },
      "source": [
        "## 辞書の作成\n",
        "\n",
        "前のセクションでは、空の辞書を作成し、ブラケット演算子を使用してアイテムを一度に1つずつ追加しました。\n",
        "その代わりに、次のようにして一度に辞書を作成することもできます。"
      ]
    },
    {
      "cell_type": "code",
      "execution_count": null,
      "id": "19dfeecb",
      "metadata": {
        "id": "19dfeecb"
      },
      "outputs": [],
      "source": [
        "numbers = {'zero': 0, 'one': 1, 'two': 2}"
      ]
    },
    {
      "cell_type": "markdown",
      "id": "31ded5b2",
      "metadata": {
        "id": "31ded5b2"
      },
      "source": [
        "各項目はコロンで区切られたキーと値で構成されます。項目はコンマで区切られ、波括弧で囲まれています。\n",
        "\n",
        "辞書を作成する別の方法は、`dict`関数を使用することです。\n",
        "このようにして空の辞書を作ることができます。"
      ]
    },
    {
      "cell_type": "code",
      "execution_count": null,
      "id": "39b81034",
      "metadata": {
        "id": "39b81034"
      },
      "outputs": [],
      "source": [
        "empty = dict()\n",
        "empty"
      ]
    },
    {
      "cell_type": "markdown",
      "id": "bfb215c9",
      "metadata": {
        "id": "bfb215c9"
      },
      "source": [
        "そして、辞書をこのようにコピーすることができます。"
      ]
    },
    {
      "cell_type": "code",
      "execution_count": null,
      "id": "88fa12c5",
      "metadata": {
        "id": "88fa12c5"
      },
      "outputs": [],
      "source": [
        "numbers_copy = dict(numbers)\n",
        "numbers_copy"
      ]
    },
    {
      "cell_type": "markdown",
      "id": "966c5539",
      "metadata": {
        "id": "966c5539"
      },
      "source": [
        "操作を行って辞書を変更する前にコピーを作成することは多くの場合有用です。"
      ]
    },
    {
      "cell_type": "markdown",
      "id": "2a948f62",
      "metadata": {
        "tags": [],
        "id": "2a948f62"
      },
      "source": [
        "## in演算子\n",
        "\n",
        "`in`演算子は辞書にも使用できます。これは、何かが辞書の*キー*として存在するかどうかを確認するためのものです。"
      ]
    },
    {
      "cell_type": "code",
      "execution_count": null,
      "id": "025cad92",
      "metadata": {
        "id": "025cad92"
      },
      "outputs": [],
      "source": [
        "'one' in numbers"
      ]
    },
    {
      "cell_type": "markdown",
      "id": "80f6b264",
      "metadata": {
        "id": "80f6b264"
      },
      "source": [
        "`in` 演算子は、値として現れるかどうかを確認 *しません* 。"
      ]
    },
    {
      "cell_type": "code",
      "execution_count": null,
      "id": "65de12ab",
      "metadata": {
        "id": "65de12ab"
      },
      "outputs": [],
      "source": [
        "1 in numbers"
      ]
    },
    {
      "cell_type": "markdown",
      "id": "84856c8b",
      "metadata": {
        "id": "84856c8b"
      },
      "source": [
        "何かが辞書の値として現れるかどうかを確認するには、`values` メソッドを使用すると、値のシーケンスが返され、その後で `in` 演算子を使用できます。"
      ]
    },
    {
      "cell_type": "code",
      "execution_count": null,
      "id": "87ddc1b2",
      "metadata": {
        "id": "87ddc1b2"
      },
      "outputs": [],
      "source": [
        "1 in numbers.values()"
      ]
    },
    {
      "cell_type": "markdown",
      "id": "45dc3d16",
      "metadata": {
        "id": "45dc3d16"
      },
      "source": [
        "Pythonの辞書に格納されているアイテムは、**ハッシュテーブル**に保存されています。これはデータを整理する方法で、ある驚くべき特性を持っています。それは、`in` 演算子が辞書に含まれるアイテムの数に関係なく、ほぼ同じ時間で処理できるという点です。これにより、非常に効率的なアルゴリズムを書くことが可能になります。"
      ]
    },
    {
      "cell_type": "code",
      "execution_count": null,
      "id": "4849b563",
      "metadata": {
        "tags": [],
        "id": "4849b563"
      },
      "outputs": [],
      "source": [
        "download('https://raw.githubusercontent.com/AllenDowney/ThinkPython/v3/words.txt');"
      ]
    },
    {
      "cell_type": "markdown",
      "id": "bba0522c",
      "metadata": {
        "id": "bba0522c"
      },
      "source": [
        "比較を示すために、一方の単語が逆になっているペアの単語を見つける2つのアルゴリズムを比較します。例えば、「stressed」と「desserts」のようなペアです。最初に、単語リストを読み込みます。"
      ]
    },
    {
      "cell_type": "code",
      "execution_count": null,
      "id": "830b1208",
      "metadata": {
        "id": "830b1208"
      },
      "outputs": [],
      "source": [
        "word_list = open('words.txt').read().split()\n",
        "len(word_list)"
      ]
    },
    {
      "cell_type": "markdown",
      "id": "ab29fb8a",
      "metadata": {
        "id": "ab29fb8a"
      },
      "source": [
        "こちらは前章の`reverse_word`です。"
      ]
    },
    {
      "cell_type": "code",
      "execution_count": null,
      "id": "49231201",
      "metadata": {
        "id": "49231201"
      },
      "outputs": [],
      "source": [
        "def reverse_word(word):\n",
        "    return ''.join(reversed(word))"
      ]
    },
    {
      "cell_type": "markdown",
      "id": "93f7ac1b",
      "metadata": {
        "id": "93f7ac1b"
      },
      "source": [
        "以下の関数はリスト内の単語をループ処理します。  \n",
        "各単語に対して、文字を反転させて、その反転された単語がリスト内に存在するかどうかを確認します。"
      ]
    },
    {
      "cell_type": "code",
      "execution_count": null,
      "id": "a41759fb",
      "metadata": {
        "id": "a41759fb"
      },
      "outputs": [],
      "source": [
        "def too_slow():\n",
        "    count = 0\n",
        "    for word in word_list:\n",
        "        if reverse_word(word) in word_list:\n",
        "            count += 1\n",
        "    return count"
      ]
    },
    {
      "cell_type": "markdown",
      "id": "d4ebb84d",
      "metadata": {
        "id": "d4ebb84d"
      },
      "source": [
        "この関数は実行に1分以上かかります。問題は、`in` 演算子がリスト内の単語を最初から1つずつチェックすることです。目的のものが見つからない場合（これはほとんどの場合に起こります）、最後まで検索する必要があります。"
      ]
    },
    {
      "cell_type": "markdown",
      "id": "fac41347",
      "metadata": {
        "tags": [],
        "id": "fac41347"
      },
      "source": [
        "関数の実行時間を測定するには、Jupyterの「組み込みマジックコマンド」の一つである `%time` を使用することができます。これらのコマンドはPython言語の一部ではないため、他の開発環境では動作しないかもしれません。"
      ]
    },
    {
      "cell_type": "code",
      "execution_count": null,
      "id": "33bcddf8",
      "metadata": {
        "tags": [],
        "id": "33bcddf8"
      },
      "outputs": [],
      "source": [
        "# %time too_slow()"
      ]
    },
    {
      "cell_type": "markdown",
      "id": "2acb6c50",
      "metadata": {
        "id": "2acb6c50"
      },
      "source": [
        "そして、`in` 演算子はループの中にあるので、各単語ごとに一回実行されます。リストには100,000以上の単語があるため、各単語に対してさらに100,000以上の単語をチェックします。この比較の総数は単語数の2乗にほぼ等しく、約130億回にもなります。"
      ]
    },
    {
      "cell_type": "code",
      "execution_count": null,
      "id": "f2869dd0",
      "metadata": {
        "id": "f2869dd0"
      },
      "outputs": [],
      "source": [
        "len(word_list)**2"
      ]
    },
    {
      "cell_type": "markdown",
      "id": "5dbf01b7",
      "metadata": {
        "id": "5dbf01b7"
      },
      "source": [
        "この関数を辞書を使ってはるかに速くすることができます。\n",
        "次のループは、単語をキーとして含む辞書を作成します。"
      ]
    },
    {
      "cell_type": "code",
      "execution_count": null,
      "id": "300416d9",
      "metadata": {
        "id": "300416d9"
      },
      "outputs": [],
      "source": [
        "word_dict = {}\n",
        "for word in word_list:\n",
        "    word_dict[word] = 1"
      ]
    },
    {
      "cell_type": "markdown",
      "id": "b7f6a1b7",
      "metadata": {
        "id": "b7f6a1b7"
      },
      "source": [
        "`word_dict`の値はすべて`1`ですが、それは何でもかまいません。というのも、この辞書を値の検索には使用せず、キーが存在するかどうかの確認にのみ使用するからです。\n",
        "\n",
        "さて、こちらが前述の関数で`word_list`を`word_dict`に置き換えたバージョンです。"
      ]
    },
    {
      "cell_type": "code",
      "execution_count": null,
      "id": "9d3dfd8d",
      "metadata": {
        "id": "9d3dfd8d"
      },
      "outputs": [],
      "source": [
        "def much_faster():\n",
        "    count = 0\n",
        "    for word in word_dict:\n",
        "        if reverse_word(word) in word_dict:\n",
        "            count += 1\n",
        "    return count"
      ]
    },
    {
      "cell_type": "markdown",
      "id": "5f41e54c",
      "metadata": {
        "id": "5f41e54c"
      },
      "source": [
        "この関数は0.01秒未満で実行されるので、以前のバージョンの約10,000倍速くなっています。"
      ]
    },
    {
      "cell_type": "markdown",
      "id": "4cd91c99",
      "metadata": {
        "id": "4cd91c99"
      },
      "source": [
        "一般に、リスト内の要素を見つけるのにかかる時間はリストの長さに比例します。辞書内のキーを見つけるのにかかる時間は、アイテム数に関係なく、ほぼ一定です。"
      ]
    },
    {
      "cell_type": "code",
      "execution_count": null,
      "id": "82b36568",
      "metadata": {
        "tags": [],
        "id": "82b36568"
      },
      "outputs": [],
      "source": [
        "%time much_faster()"
      ]
    },
    {
      "cell_type": "markdown",
      "id": "b3bfa8a5",
      "metadata": {
        "id": "b3bfa8a5"
      },
      "source": [
        "## カウンターのコレクション\n",
        "\n",
        "文字列が与えられたとき、各文字が何回出現するかを数えたいとします。\n",
        "この仕事には辞書が適しています。\n",
        "まず、空の辞書から始めます。"
      ]
    },
    {
      "cell_type": "code",
      "execution_count": null,
      "id": "7c21ff00",
      "metadata": {
        "id": "7c21ff00"
      },
      "outputs": [],
      "source": [
        "counter = {}"
      ]
    },
    {
      "cell_type": "markdown",
      "id": "34a9498a",
      "metadata": {
        "id": "34a9498a"
      },
      "source": [
        "文字列内の文字をループしていく際に、初めて文字 `'a'` を見つけたとしましょう。\n",
        "この場合、次のようにして辞書に追加することができます。"
      ]
    },
    {
      "cell_type": "code",
      "execution_count": null,
      "id": "7d0afb00",
      "metadata": {
        "id": "7d0afb00"
      },
      "outputs": [],
      "source": [
        "counter['a'] = 1"
      ]
    },
    {
      "cell_type": "markdown",
      "id": "bca9fa11",
      "metadata": {
        "id": "bca9fa11"
      },
      "source": [
        "値 `1` は、その文字を一度見たことを示しています。\n",
        "後で同じ文字を再び見た場合は、このようにカウンターを増やすことができます。"
      ]
    },
    {
      "cell_type": "code",
      "execution_count": null,
      "id": "ba97b5ea",
      "metadata": {
        "id": "ba97b5ea"
      },
      "outputs": [],
      "source": [
        "counter['a'] += 1"
      ]
    },
    {
      "cell_type": "markdown",
      "id": "274ea014",
      "metadata": {
        "id": "274ea014"
      },
      "source": [
        "`'a'` に関連付けられた値は `2` です。なぜなら、その文字を 2 回見たからです。"
      ]
    },
    {
      "cell_type": "code",
      "execution_count": null,
      "id": "30ffe9b4",
      "metadata": {
        "id": "30ffe9b4"
      },
      "outputs": [],
      "source": [
        "counter"
      ]
    },
    {
      "cell_type": "markdown",
      "id": "2ca8f99d",
      "metadata": {
        "id": "2ca8f99d"
      },
      "source": [
        "以下の関数は、文字列内で各文字が現れる回数を数えるためにこれらの機能を使用します。"
      ]
    },
    {
      "cell_type": "code",
      "execution_count": null,
      "id": "36f95332",
      "metadata": {
        "id": "36f95332"
      },
      "outputs": [],
      "source": [
        "def value_counts(string):\n",
        "    counter = {}\n",
        "    for letter in string:\n",
        "        if letter not in counter:\n",
        "            counter[letter] = 1\n",
        "        else:\n",
        "            counter[letter] += 1\n",
        "    return counter"
      ]
    },
    {
      "cell_type": "markdown",
      "id": "735c758b",
      "metadata": {
        "id": "735c758b"
      },
      "source": [
        "ループを通過するたびに、`letter` が辞書に存在しない場合は、キーが `letter` で値が `1` の新しい項目を作成します。  \n",
        "`letter` がすでに辞書に存在する場合は、その `letter` に関連付けられた値をインクリメントします。\n",
        "\n",
        "以下はその例です。"
      ]
    },
    {
      "cell_type": "code",
      "execution_count": null,
      "id": "d6f1048e",
      "metadata": {
        "id": "d6f1048e"
      },
      "outputs": [],
      "source": [
        "counter = value_counts('brontosaurus')\n",
        "counter"
      ]
    },
    {
      "cell_type": "markdown",
      "id": "8ac1fea4",
      "metadata": {
        "id": "8ac1fea4"
      },
      "source": [
        "`counter`のアイテムは、文字`'b'`が1回、`'r'`が2回登場することを示しています。"
      ]
    },
    {
      "cell_type": "markdown",
      "id": "912bdf5d",
      "metadata": {
        "id": "912bdf5d"
      },
      "source": [
        "## ループと辞書\n",
        "\n",
        "`for`文で辞書を使用すると、辞書のキーをたどります。\n",
        "例として、文字列 `'banana'` の文字をカウントする辞書を作成してみましょう。"
      ]
    },
    {
      "cell_type": "code",
      "execution_count": null,
      "id": "310e1489",
      "metadata": {
        "id": "310e1489"
      },
      "outputs": [],
      "source": [
        "counter = value_counts('banana')\n",
        "counter"
      ]
    },
    {
      "cell_type": "markdown",
      "id": "fe263f3d",
      "metadata": {
        "id": "fe263f3d"
      },
      "source": [
        "以下のループはキーである文字を出力します。"
      ]
    },
    {
      "cell_type": "code",
      "execution_count": null,
      "id": "da4ec7fd",
      "metadata": {
        "id": "da4ec7fd"
      },
      "outputs": [],
      "source": [
        "for key in counter:\n",
        "    print(key)"
      ]
    },
    {
      "cell_type": "markdown",
      "id": "bf1b7824",
      "metadata": {
        "id": "bf1b7824"
      },
      "source": [
        "値を印刷するには、`values` メソッドを使用できます。"
      ]
    },
    {
      "cell_type": "code",
      "execution_count": null,
      "id": "859fe1ad",
      "metadata": {
        "id": "859fe1ad"
      },
      "outputs": [],
      "source": [
        "for value in counter.values():\n",
        "    print(value)"
      ]
    },
    {
      "cell_type": "markdown",
      "id": "721135be",
      "metadata": {
        "id": "721135be"
      },
      "source": [
        "キーと値を出力するには、キーをループして対応する値を検索する方法があります。"
      ]
    },
    {
      "cell_type": "code",
      "execution_count": null,
      "id": "7242ab5b",
      "metadata": {
        "id": "7242ab5b"
      },
      "outputs": [],
      "source": [
        "for key in counter:\n",
        "    value = counter[key]\n",
        "    print(key, value)"
      ]
    },
    {
      "cell_type": "markdown",
      "id": "efa1bce5",
      "metadata": {
        "id": "efa1bce5"
      },
      "source": [
        "次の章では、同じことをより簡潔に行う方法を見ていきます。"
      ]
    },
    {
      "cell_type": "markdown",
      "id": "a160c0ef",
      "metadata": {
        "id": "a160c0ef"
      },
      "source": [
        "## リストと辞書\n",
        "\n",
        "辞書の値としてリストを入れることができます。\n",
        "例えば、次のように、数字 `4` を4つの文字のリストに対応付ける辞書があります。"
      ]
    },
    {
      "cell_type": "code",
      "execution_count": null,
      "id": "29cd8207",
      "metadata": {
        "id": "29cd8207"
      },
      "outputs": [],
      "source": [
        "d = {4: ['r', 'o', 'u', 's']}\n",
        "d"
      ]
    },
    {
      "cell_type": "markdown",
      "id": "815a829f",
      "metadata": {
        "id": "815a829f"
      },
      "source": [
        "しかし、リストを辞書のキーとして使用することはできません。\n",
        "試してみると次のようになります。"
      ]
    },
    {
      "cell_type": "code",
      "execution_count": null,
      "id": "ca9ff511",
      "metadata": {
        "tags": [],
        "id": "ca9ff511"
      },
      "outputs": [],
      "source": [
        "%%expect TypeError\n",
        "letters = list('abcd')\n",
        "d[letters] = 4"
      ]
    },
    {
      "cell_type": "markdown",
      "id": "2469b08a",
      "metadata": {
        "id": "2469b08a"
      },
      "source": [
        "以前に辞書がハッシュテーブルを使用していると述べましたが、それはキーが**ハッシュ可能**でなければならないことを意味します。\n",
        "\n",
        "**ハッシュ**は、値（任意の種類）を受け取り、整数を返す関数です。\n",
        "辞書はこれらの整数、つまりハッシュ値を使用してキーを保存および検索します。\n",
        "\n",
        "このシステムが機能するためには、キーが不変で、そのハッシュ値が常に同じでなければなりません。\n",
        "しかし、キーが可変の場合、そのハッシュ値が変わる可能性があり、辞書は機能しなくなります。\n",
        "そのため、キーはハッシュ可能でなければならず、リストのような可変型は使えないのです。\n",
        "\n",
        "辞書自体は可変なので、キーとして使用することはできません。\n",
        "しかし、値として使用することは*可能*です。"
      ]
    },
    {
      "cell_type": "markdown",
      "id": "acfd2720",
      "metadata": {
        "tags": [],
        "id": "acfd2720"
      },
      "source": [
        "## リストの蓄積\n",
        "\n",
        "多くのプログラミングタスクでは、1つのリストや辞書をループしながら別のリストを作成することが有用です。\n",
        "例として、`word_dict`内の単語をループしながら、前後同じように綴られる単語、つまり「noon」や「rotator」のような回文のリストを作成します。\n",
        "\n",
        "前の章で、単語が回文かどうかをチェックする関数を書くように求められる演習がありました。\n",
        "以下は`reverse_word`を使用した解決策です。"
      ]
    },
    {
      "cell_type": "code",
      "execution_count": null,
      "id": "0647278e",
      "metadata": {
        "id": "0647278e"
      },
      "outputs": [],
      "source": [
        "def is_palindrome(word):\n",
        "    \"\"\"Check if a word is a palindrome.\"\"\"\n",
        "    return reverse_word(word) == word"
      ]
    },
    {
      "cell_type": "markdown",
      "id": "af545fcd",
      "metadata": {
        "id": "af545fcd"
      },
      "source": [
        "`word_dict`の中の単語をループで繰り返すことで、回文の数を次のようにカウントできます。"
      ]
    },
    {
      "cell_type": "code",
      "execution_count": null,
      "id": "9eff9f2c",
      "metadata": {
        "id": "9eff9f2c"
      },
      "outputs": [],
      "source": [
        "count = 0\n",
        "\n",
        "for word in word_dict:\n",
        "    if is_palindrome(word):\n",
        "        count +=1\n",
        "\n",
        "count"
      ]
    },
    {
      "cell_type": "markdown",
      "id": "73c1ce1e",
      "metadata": {
        "id": "73c1ce1e"
      },
      "source": [
        "このパターンは、今やおなじみかもしれません。\n",
        "\n",
        "* ループの前に、`count` は `0` に初期化されます。\n",
        "\n",
        "* ループ内で、もし `word` が回文なら、`count` をインクリメントします。\n",
        "\n",
        "* ループ終了後、`count` には回文の総数が格納されます。\n",
        "\n",
        "同様のパターンを用いて、回文のリストを作成することもできます。"
      ]
    },
    {
      "cell_type": "code",
      "execution_count": null,
      "id": "609bdd9a",
      "metadata": {
        "id": "609bdd9a"
      },
      "outputs": [],
      "source": [
        "palindromes = []\n",
        "\n",
        "for word in word_dict:\n",
        "    if is_palindrome(word):\n",
        "        palindromes.append(word)\n",
        "\n",
        "palindromes[:10]"
      ]
    },
    {
      "cell_type": "markdown",
      "id": "be909f3b",
      "metadata": {
        "id": "be909f3b"
      },
      "source": [
        "以下のように動作します：\n",
        "\n",
        "* ループの前に、`palindromes` は空のリストで初期化されます。\n",
        "\n",
        "* ループ内では、もし `word` が回文であれば、それを `palindromes` の末尾に追加します。\n",
        "\n",
        "* ループが終了すると、`palindromes` は回文のリストになります。\n",
        "\n",
        "このループでは、`palindromes` は **アキュムレータ**（累積変数）として使用され、計算中にデータを収集または蓄積します。\n",
        "\n",
        "さて、7文字以上の回文だけを選びたいと仮定します。\n",
        "`palindromes` をループして、長い回文だけを含む新しいリストを作成します。"
      ]
    },
    {
      "cell_type": "code",
      "execution_count": null,
      "id": "c2db1187",
      "metadata": {
        "id": "c2db1187"
      },
      "outputs": [],
      "source": [
        "long_palindromes = []\n",
        "\n",
        "for word in palindromes:\n",
        "    if len(word) >= 7:\n",
        "        long_palindromes.append(word)\n",
        "\n",
        "long_palindromes"
      ]
    },
    {
      "cell_type": "markdown",
      "id": "fa8ed275",
      "metadata": {
        "id": "fa8ed275"
      },
      "source": [
        "このようにリストをループ処理し、一部の要素を選択し他の要素を除外することを**フィルタリング**と呼びます。"
      ]
    },
    {
      "cell_type": "markdown",
      "id": "8ed50837",
      "metadata": {
        "tags": [],
        "id": "8ed50837"
      },
      "source": [
        "## メモ\n",
        "\n",
        "もし[第6章](section_fibonacci)の`fibonacci`関数を実行した場合、大きな引数を与えるほど、関数の実行に時間がかかることに気付いたかもしれません。"
      ]
    },
    {
      "cell_type": "code",
      "execution_count": null,
      "id": "13a7ed35",
      "metadata": {
        "id": "13a7ed35"
      },
      "outputs": [],
      "source": [
        "def fibonacci(n):\n",
        "    if n == 0:\n",
        "        return 0\n",
        "\n",
        "    if n == 1:\n",
        "        return 1\n",
        "\n",
        "    return fibonacci(n-1) + fibonacci(n-2)"
      ]
    },
    {
      "cell_type": "markdown",
      "id": "1b5203c2",
      "metadata": {
        "id": "1b5203c2"
      },
      "source": [
        "さらに、実行時間は急速に増加します。その理由を理解するために、次の図を考えてみてください。この図は、`n=4`の`fibonacci`に対する**コールグラフ**を示しています。"
      ]
    },
    {
      "cell_type": "code",
      "execution_count": null,
      "id": "7ed6137a",
      "metadata": {
        "tags": [],
        "id": "7ed6137a"
      },
      "outputs": [],
      "source": [
        "from diagram import make_binding, Frame, Arrow\n",
        "\n",
        "bindings = [make_binding('n', i) for i in range(5)]\n",
        "frames = [Frame([binding]) for binding in bindings]"
      ]
    },
    {
      "cell_type": "code",
      "execution_count": null,
      "id": "a9374c39",
      "metadata": {
        "tags": [],
        "id": "a9374c39"
      },
      "outputs": [],
      "source": [
        "arrowprops = dict(arrowstyle=\"-\", color='gray', alpha=0.5, ls='-', lw=0.5)\n",
        "\n",
        "def left_arrow(ax, bbox1, bbox2):\n",
        "    x = bbox1.xmin + 0.1\n",
        "    y = bbox1.ymin\n",
        "    dx = bbox2.xmax - x - 0.1\n",
        "    dy = bbox2.ymax - y\n",
        "    arrow = Arrow(dx=dx, dy=dy, arrowprops=arrowprops)\n",
        "    return arrow.draw(ax, x, y)\n",
        "\n",
        "def right_arrow(ax, bbox1, bbox2):\n",
        "    x = bbox1.xmax - 0.1\n",
        "    y = bbox1.ymin\n",
        "    dx = bbox2.xmin - x + 0.1\n",
        "    dy = bbox2.ymax - y\n",
        "    arrow = Arrow(dx=dx, dy=dy, arrowprops=arrowprops)\n",
        "    return arrow.draw(ax, x, y)"
      ]
    },
    {
      "cell_type": "code",
      "execution_count": null,
      "id": "12098be7",
      "metadata": {
        "tags": [],
        "id": "12098be7"
      },
      "outputs": [],
      "source": [
        "from diagram import diagram, adjust, Bbox\n",
        "\n",
        "width, height, x, y = [4.94, 2.16, -1.03, 1.91]\n",
        "ax = diagram(width, height)\n",
        "\n",
        "dx = 0.6\n",
        "dy = 0.55\n",
        "\n",
        "bboxes = []\n",
        "bboxes.append(frames[4].draw(ax, x+6*dx, y))\n",
        "\n",
        "bboxes.append(frames[3].draw(ax, x+4*dx, y-dy))\n",
        "bboxes.append(frames[2].draw(ax, x+8*dx, y-dy))\n",
        "\n",
        "bboxes.append(frames[2].draw(ax, x+3*dx, y-2*dy))\n",
        "bboxes.append(frames[1].draw(ax, x+5*dx, y-2*dy))\n",
        "bboxes.append(frames[1].draw(ax, x+7*dx, y-2*dy))\n",
        "bboxes.append(frames[0].draw(ax, x+9*dx, y-2*dy))\n",
        "\n",
        "bboxes.append(frames[1].draw(ax, x+2*dx, y-3*dy))\n",
        "bboxes.append(frames[0].draw(ax, x+4*dx, y-3*dy))\n",
        "\n",
        "left_arrow(ax, bboxes[0], bboxes[1])\n",
        "left_arrow(ax, bboxes[1], bboxes[3])\n",
        "left_arrow(ax, bboxes[3], bboxes[7])\n",
        "left_arrow(ax, bboxes[2], bboxes[5])\n",
        "\n",
        "right_arrow(ax, bboxes[0], bboxes[2])\n",
        "right_arrow(ax, bboxes[1], bboxes[4])\n",
        "right_arrow(ax, bboxes[2], bboxes[6])\n",
        "right_arrow(ax, bboxes[3], bboxes[8])\n",
        "\n",
        "bbox = Bbox.union(bboxes)\n",
        "# adjust(x, y, bbox)"
      ]
    },
    {
      "cell_type": "markdown",
      "id": "4ee2a87c",
      "metadata": {
        "id": "4ee2a87c"
      },
      "source": [
        "呼び出しグラフは、関数フレームのセットを示し、各フレームからそれが呼び出す関数のフレームへの線が接続されています。グラフの頂点では、`fibonacci(n=4)` が `fibonacci(n=3)` と `fibonacci(n=2)` を呼び出します。そして `fibonacci(n=3)` は `fibonacci(n=2)` と `n=1` を呼び出します。このように続きます。\n",
        "\n",
        "`fibonacci(0)` と `fibonacci(1)` が呼び出される回数を数えます。この方法は問題の非効率な解法であり、引数が大きくなるにつれて状況は悪化します。\n",
        "\n",
        "解決策の一つは、すでに計算された値をディクショナリに保存して管理することです。後で使用するために保存された以前に計算された値を **メモ** と呼びます。こちらが `fibonacci` の「メモ化」されたバージョンです。"
      ]
    },
    {
      "cell_type": "code",
      "execution_count": null,
      "id": "28e443f5",
      "metadata": {
        "id": "28e443f5"
      },
      "outputs": [],
      "source": [
        "known = {0:0, 1:1}\n",
        "\n",
        "def fibonacci_memo(n):\n",
        "    if n in known:\n",
        "        return known[n]\n",
        "\n",
        "    res = fibonacci_memo(n-1) + fibonacci_memo(n-2)\n",
        "    known[n] = res\n",
        "    return res"
      ]
    },
    {
      "cell_type": "markdown",
      "id": "d2ac4dd7",
      "metadata": {
        "id": "d2ac4dd7"
      },
      "source": [
        "`known`は、すでにわかっているフィボナッチ数を追跡するための辞書です。これは2つの項目から始まります：`0`は`0`に、`1`は`1`にマップされています。\n",
        "\n",
        "`fibonacci_memo`が呼び出されるたびに、この関数は`known`をチェックします。もし結果がすでにそこにあれば、すぐに返すことができます。そうでなければ、新しい値を計算して、辞書に追加し、それを返す必要があります。\n",
        "\n",
        "二つの関数を比較すると、`fibonacci(40)`の実行には約30秒かかりますが、`fibonacci_memo(40)`の実行には約30マイクロ秒しかかかりません。したがって、`fibonacci_memo`は約100万倍高速です。この章のノートブックでは、これらの測定結果がどのように得られたかを確認できます。"
      ]
    },
    {
      "cell_type": "code",
      "execution_count": null,
      "id": "af818c11",
      "metadata": {
        "tags": [],
        "id": "af818c11"
      },
      "outputs": [],
      "source": [
        "# %time fibonacci(40)"
      ]
    },
    {
      "cell_type": "code",
      "execution_count": null,
      "id": "7316d721",
      "metadata": {
        "tags": [],
        "id": "7316d721"
      },
      "outputs": [],
      "source": [
        "%time fibonacci_memo(40)"
      ]
    },
    {
      "cell_type": "markdown",
      "id": "ec969e51",
      "metadata": {
        "id": "ec969e51"
      },
      "source": [
        "## デバッグ\n",
        "\n",
        "大きなデータセットを扱うと、出力を手動でプリントしてチェックするだけではデバッグが難しくなります。以下は大規模データセットのデバッグに関するいくつかの提案です。\n",
        "\n",
        "1. 入力を縮小する：可能であれば、データセットのサイズを小さくしましょう。たとえば、プログラムがテキストファイルを読み込む場合、最初の10行だけで開始したり、見つけられる最小の例で試すことができます。ファイル自体を修正することも可能ですが、プログラムを変更して最初の`n`行だけを読むようにする方が良いです。\n",
        "\n",
        "    エラーが発生した場合、エラーが発生する最小の`n`に縮小することができます。エラーを発見して修正する際には、`n`を徐々に増やしていくことができます。"
      ]
    },
    {
      "cell_type": "markdown",
      "id": "1a62288b",
      "metadata": {
        "id": "1a62288b"
      },
      "source": [
        "2. 要約と型の確認: データセット全体を印刷して確認する代わりに、データの要約を出力することを考慮しましょう。例えば、辞書の項目数や数字のリストの合計です。\n",
        "\n",
        "ランタイムエラーの一般的な原因は、値が正しい型ではないことです。この種のエラーをデバッグするには、値の型を出力するだけで十分なことがよくあります。"
      ]
    },
    {
      "cell_type": "markdown",
      "id": "c749ea3c",
      "metadata": {
        "id": "c749ea3c"
      },
      "source": [
        "3. 自己チェックを書く: 時にはエラーを自動的にチェックするコードを書くことができます。例えば、数字のリストの平均を計算している場合、結果がリスト内の最大の要素を超えないことや最小の要素を下回らないことを確認することができます。これは「サニティチェック」と呼ばれ、「非常識」な結果を検出するためのものです。\n",
        "\n",
        "別の種類のチェックとして、2つの異なる計算結果を比較して、それらが一貫性があるかどうかを確認することがあります。これは「一貫性チェック」と呼ばれます。"
      ]
    },
    {
      "cell_type": "markdown",
      "id": "749b91e9",
      "metadata": {
        "id": "749b91e9"
      },
      "source": [
        "4. 出力を整形する: デバッグ出力をフォーマットすることで、エラーを発見しやすくなることがあります。[第6章](section_debugging_factorial)でその例を見ました。もう一つ便利なツールとして`pprint`モジュールがあります。このモジュールが提供する`pprint`関数は、組み込み型をより読みやすい形式で表示します（`pprint`は「pretty print」の略です）。\n",
        "\n",
        "    再び言いますが、足場を構築するために費やす時間は、デバッグに費やす時間を削減することに繋がります。"
      ]
    },
    {
      "cell_type": "markdown",
      "id": "9820175f",
      "metadata": {
        "id": "9820175f"
      },
      "source": [
        "## 用語集\n",
        "\n",
        "**辞書:**\n",
        " キーと値のペア (項目とも呼ばれる) を含むオブジェクト。\n",
        "\n",
        "**項目:**\n",
        " 辞書内で、キーと値のペアの別名。\n",
        "\n",
        "**キー:**\n",
        " 辞書内で、キーと値のペアの最初の部分として現れるオブジェクト。\n",
        "\n",
        "**値:**\n",
        " 辞書内で、キーと値のペアの2番目の部分として現れるオブジェクト。これは以前の「値」という言葉の使用より具体的です。\n",
        "\n",
        "**マッピング:**\n",
        " ある集合の各要素が別の集合の要素に対応する関係。\n",
        "\n",
        "**ハッシュテーブル:**\n",
        " キーと値のペアの集まりで、キーを検索してその値を効率的に見つけることができるように整理されています。\n",
        "\n",
        "**ハッシュ可能:**\n",
        " 整数、浮動小数点数、文字列のような変更不可能な型はハッシュ可能です。リストや辞書のような変更可能な型はそうではありません。\n",
        "\n",
        "**ハッシュ関数:**\n",
        " オブジェクトを受け取り、そのハッシュテーブル内のキーを見つけるために使用される整数を計算する関数。\n",
        "\n",
        "**累算器:**\n",
        " ループ内で結果を加算または累積するために使用される変数。\n",
        "\n",
        "**フィルタリング:**\n",
        " シーケンスをループし、要素を選択または省略すること。\n",
        "\n",
        "**コールグラフ:**\n",
        " プログラムの実行中に作成されるすべてのフレームを示す図で、各呼び出し元から各呼び出し先への矢印が付けられています。\n",
        "\n",
        "**メモ:**\n",
        " 不必要な将来の計算を避けるために保存される計算値。"
      ]
    },
    {
      "cell_type": "markdown",
      "id": "906c1236",
      "metadata": {
        "id": "906c1236"
      },
      "source": [
        "## 演習"
      ]
    },
    {
      "cell_type": "code",
      "execution_count": null,
      "id": "1e3c12ec",
      "metadata": {
        "tags": [],
        "id": "1e3c12ec"
      },
      "outputs": [],
      "source": [
        "# This cell tells Jupyter to provide detailed debugging information\n",
        "# when a runtime error occurs. Run it before working on the exercises.\n",
        "\n",
        "%xmode Verbose"
      ]
    },
    {
      "cell_type": "markdown",
      "id": "170f1deb",
      "metadata": {
        "id": "170f1deb"
      },
      "source": [
        "### バーチャルアシスタントに質問する\n",
        "\n",
        "この章で、辞書のキーはハッシュ可能でなければならないと述べ、その短い説明をしました。もっと詳しく知りたい場合は、バーチャルアシスタントに「なぜPythonの辞書のキーはハッシュ可能でなければならないのですか？」と質問してください。\n",
        "\n",
        "[前のセクション](section_dictionary_in_operator)では、単語のリストを辞書のキーとして保存して、`in`演算子の効率的なバージョンを使用しました。\n",
        "同じことを、もう一つの組み込みデータ型である`set`を使用して行うこともできます。\n",
        "バーチャルアシスタントに「Pythonのセットを文字列のリストから作成し、文字列がそのセットの要素であるかを確認するにはどうすればいいですか？」と質問してください。"
      ]
    },
    {
      "cell_type": "markdown",
      "id": "badf7d65",
      "metadata": {
        "id": "badf7d65"
      },
      "source": [
        "### 演習\n",
        "\n",
        "辞書の中には`get`というメソッドがあります。このメソッドはキーとデフォルト値を受け取ります。\n",
        "もしそのキーが辞書に存在する場合、`get`は対応する値を返します。そうでない場合、デフォルト値を返します。\n",
        "例えば、以下のような辞書があります。この辞書は文字列内の文字からそれが出現する回数へのマッピングを行っています。"
      ]
    },
    {
      "cell_type": "code",
      "execution_count": null,
      "id": "06e437d9",
      "metadata": {
        "id": "06e437d9"
      },
      "outputs": [],
      "source": [
        "counter = value_counts('brontosaurus')"
      ]
    },
    {
      "cell_type": "markdown",
      "id": "c3f6458d",
      "metadata": {
        "id": "c3f6458d"
      },
      "source": [
        "単語の中に出現する文字を調べると、その文字が出現する回数が返されます。"
      ]
    },
    {
      "cell_type": "code",
      "execution_count": null,
      "id": "fc328161",
      "metadata": {
        "id": "fc328161"
      },
      "outputs": [],
      "source": [
        "counter.get('b', 0)"
      ]
    },
    {
      "cell_type": "markdown",
      "id": "49bbff3e",
      "metadata": {
        "id": "49bbff3e"
      },
      "source": [
        "存在しない文字を調べる場合、デフォルト値の `0` を取得します。"
      ]
    },
    {
      "cell_type": "code",
      "execution_count": null,
      "id": "674b6663",
      "metadata": {
        "id": "674b6663"
      },
      "outputs": [],
      "source": [
        "counter.get('c', 0)"
      ]
    },
    {
      "cell_type": "markdown",
      "id": "4ac3210f",
      "metadata": {
        "id": "4ac3210f"
      },
      "source": [
        "`value_counts = {key: value_counts.get(key, 0) + 1 for key in data}`"
      ]
    },
    {
      "cell_type": "markdown",
      "id": "5413af6e",
      "metadata": {
        "id": "5413af6e"
      },
      "source": [
        "### 練習問題\n",
        "\n",
        "各文字が一度だけ現れる最も長い単語を考えてください。`unpredictably`より長い単語を見つけることができるか試してみましょう。\n",
        "\n",
        "`has_duplicates`という名前の関数を作成してください。この関数はリストや文字列のようなシーケンスを引数に取り、そのシーケンスの要素が重複している場合は`True`を返します。"
      ]
    },
    {
      "cell_type": "markdown",
      "id": "9879d9e7",
      "metadata": {
        "tags": [],
        "id": "9879d9e7"
      },
      "source": [
        "始めるために、関数のアウトラインとドクテストを以下に示します。"
      ]
    },
    {
      "cell_type": "code",
      "execution_count": null,
      "id": "1744d3e9",
      "metadata": {
        "tags": [],
        "id": "1744d3e9"
      },
      "outputs": [],
      "source": [
        "def has_duplicates(t):\n",
        "    \"\"\"Check whether any element in a sequence appears more than once.\n",
        "\n",
        "    >>> has_duplicates('banana')\n",
        "    True\n",
        "    >>> has_duplicates('ambidextrously')\n",
        "    False\n",
        "    >>> has_duplicates([1, 2, 2])\n",
        "    True\n",
        "    >>> has_duplicates([1, 2, 3])\n",
        "    False\n",
        "    \"\"\"\n",
        "    return None"
      ]
    },
    {
      "cell_type": "code",
      "execution_count": null,
      "id": "061e2903",
      "metadata": {
        "id": "061e2903"
      },
      "outputs": [],
      "source": [
        "# Solution goes here"
      ]
    },
    {
      "cell_type": "markdown",
      "id": "d8c85906",
      "metadata": {
        "tags": [],
        "id": "d8c85906"
      },
      "source": [
        "関数のテストには `doctest` を使用できます。"
      ]
    },
    {
      "cell_type": "code",
      "execution_count": null,
      "id": "62dcdf4d",
      "metadata": {
        "tags": [],
        "id": "62dcdf4d"
      },
      "outputs": [],
      "source": [
        "from doctest import run_docstring_examples\n",
        "\n",
        "def run_doctests(func):\n",
        "    run_docstring_examples(func, globals(), name=func.__name__)\n",
        "\n",
        "run_doctests(has_duplicates)"
      ]
    },
    {
      "cell_type": "markdown",
      "id": "ce4df190",
      "metadata": {
        "tags": [],
        "id": "ce4df190"
      },
      "source": [
        "このループを使用して、重複する文字がない最も長い単語を見つけることができます。"
      ]
    },
    {
      "cell_type": "code",
      "execution_count": null,
      "id": "a1143193",
      "metadata": {
        "tags": [],
        "id": "a1143193"
      },
      "outputs": [],
      "source": [
        "no_repeats = []\n",
        "\n",
        "for word in word_list:\n",
        "    if len(word) > 12 and not has_duplicates(word):\n",
        "        no_repeats.append(word)\n",
        "\n",
        "no_repeats"
      ]
    },
    {
      "cell_type": "markdown",
      "id": "afd5f3b6",
      "metadata": {
        "id": "afd5f3b6"
      },
      "source": [
        "関数 `find_repeats` を次のように実装します。この関数は、キーをカウンターにマップする辞書を受け取り、値が1より大きいキーのリストを返します。\n",
        "\n",
        "```python\n",
        "def find_repeats(counter_dict):\n",
        "    # キーを保持するリスト\n",
        "    repeated_keys = []\n",
        "\n",
        "    # 辞書をループして、カウントが1より大きいキーを見つける\n",
        "    for key, count in counter_dict.items():\n",
        "        if count > 1:\n",
        "            repeated_keys.append(key)\n",
        "\n",
        "    return repeated_keys\n",
        "```\n",
        "\n",
        "この関数を使うと、渡された辞書内のカウントが2以上であるキーのリストを取得できます。"
      ]
    },
    {
      "cell_type": "code",
      "execution_count": null,
      "id": "9ea333ff",
      "metadata": {
        "id": "9ea333ff"
      },
      "outputs": [],
      "source": [
        "def find_repeats(counter):\n",
        "    \"\"\"Makes a list of keys with values greater than 1.\n",
        "\n",
        "    counter: dictionary that maps from keys to counts\n",
        "\n",
        "    returns: list of keys\n",
        "    \"\"\"\n",
        "    return []"
      ]
    },
    {
      "cell_type": "code",
      "execution_count": null,
      "id": "bbd6d241",
      "metadata": {
        "id": "bbd6d241"
      },
      "outputs": [],
      "source": [
        "# Solution goes here"
      ]
    },
    {
      "cell_type": "markdown",
      "id": "b9b0cbec",
      "metadata": {
        "tags": [],
        "id": "b9b0cbec"
      },
      "source": [
        "以下の例を使って、コードをテストすることができます。まず、文字をカウントにマッピングする辞書を作成します。"
      ]
    },
    {
      "cell_type": "code",
      "execution_count": null,
      "id": "ac983c6f",
      "metadata": {
        "tags": [],
        "id": "ac983c6f"
      },
      "outputs": [],
      "source": [
        "counter1 = value_counts('banana')\n",
        "counter1"
      ]
    },
    {
      "cell_type": "markdown",
      "id": "3aa62942",
      "metadata": {
        "tags": [],
        "id": "3aa62942"
      },
      "source": [
        "`find_repeats` の結果は `['a', 'n']` であるべきです。"
      ]
    },
    {
      "cell_type": "code",
      "execution_count": null,
      "id": "214345d8",
      "metadata": {
        "tags": [],
        "id": "214345d8"
      },
      "outputs": [],
      "source": [
        "repeats = find_repeats(counter1)\n",
        "repeats"
      ]
    },
    {
      "cell_type": "markdown",
      "id": "3eaf77f8",
      "metadata": {
        "tags": [],
        "id": "3eaf77f8"
      },
      "source": [
        "別の例として、数字のリストから始めます。結果は `[1, 2]` となります。"
      ]
    },
    {
      "cell_type": "code",
      "execution_count": null,
      "id": "10e9d54a",
      "metadata": {
        "tags": [],
        "id": "10e9d54a"
      },
      "outputs": [],
      "source": [
        "counter1 = value_counts([1, 2, 3, 2, 1])\n",
        "repeats = find_repeats(counter1)\n",
        "repeats"
      ]
    },
    {
      "cell_type": "markdown",
      "id": "1c700d84",
      "metadata": {
        "id": "1c700d84"
      },
      "source": [
        "### 演習\n",
        "\n",
        "2つの異なる単語で `value_counts` を実行し、その結果を2つの辞書に保存したとします。"
      ]
    },
    {
      "cell_type": "code",
      "execution_count": null,
      "id": "c97e2419",
      "metadata": {
        "id": "c97e2419"
      },
      "outputs": [],
      "source": [
        "counter1 = value_counts('brontosaurus')\n",
        "counter2 = value_counts('apatosaurus')"
      ]
    },
    {
      "cell_type": "markdown",
      "id": "deb14c7a",
      "metadata": {
        "id": "deb14c7a"
      },
      "source": [
        "`add_counters` という関数を作成して、2つの辞書を受け取り、それらを統合して新しい辞書を返します。この新しい辞書には、両方の辞書に含まれるすべての文字と、それらが出現する合計回数が含まれます。Pythonでの基本的な実装方法は以下のとおりです。\n",
        "\n",
        "```python\n",
        "def add_counters(counter1, counter2):\n",
        "    result = {}\n",
        "\n",
        "    # 最初の辞書のキーと値を結果に追加\n",
        "    for key, value in counter1.items():\n",
        "        result[key] = value\n",
        "\n",
        "    # 2番目の辞書のキーと値を結果に追加\n",
        "    for key, value in counter2.items():\n",
        "        if key in result:\n",
        "            result[key] += value\n",
        "        else:\n",
        "            result[key] = value\n",
        "\n",
        "    return result\n",
        "```\n",
        "\n",
        "この関数 `add_counters` は、2つの辞書を走査し、それぞれの項目を集計して新しい辞書を生成します。どちらか一方の辞書にしか存在しない文字も、適切にカウントされます。"
      ]
    },
    {
      "cell_type": "code",
      "execution_count": null,
      "id": "6cf70355",
      "metadata": {
        "id": "6cf70355"
      },
      "outputs": [],
      "source": [
        "# Solution goes here"
      ]
    },
    {
      "cell_type": "code",
      "execution_count": null,
      "id": "6a729a14",
      "metadata": {
        "id": "6a729a14"
      },
      "outputs": [],
      "source": [
        "# Solution goes here"
      ]
    },
    {
      "cell_type": "markdown",
      "id": "f88110a9",
      "metadata": {
        "id": "f88110a9"
      },
      "source": [
        "### 練習問題\n",
        "\n",
        "単語が「インターロッキング」であるとは、交互の文字を取ることによってそれを2つの単語に分割できる場合を指します。例えば、「schooled」という単語は「shoe」と「cold」に分割できるためインターロッキングな単語です。\n",
        "\n",
        "文字列から交互の文字を選択するには、スライス演算子を使用して、開始位置、終了位置、および文字を選択する間隔を指定することができます。\n",
        "\n",
        "次のスライスでは、最初の要素が `0` であるため、最初の文字から始めます。第2の要素が `None` であるため、文字列の終わりまで続けます。そして第3の要素が `2` であるため、選択する文字の間には2つのステップがあります。"
      ]
    },
    {
      "cell_type": "code",
      "execution_count": null,
      "id": "56783358",
      "metadata": {
        "id": "56783358"
      },
      "outputs": [],
      "source": [
        "word = 'schooled'\n",
        "first = word[0:None:2]\n",
        "first"
      ]
    },
    {
      "cell_type": "markdown",
      "id": "d432332d",
      "metadata": {
        "id": "d432332d"
      },
      "source": [
        "2番目の要素として `None` を指定する代わりに、それ自体を完全に省略することで同じ効果を得ることができます。例えば、次のスライスは2番目の文字から始まって、1つおきに文字を選択します。"
      ]
    },
    {
      "cell_type": "code",
      "execution_count": null,
      "id": "77fa8483",
      "metadata": {
        "id": "77fa8483"
      },
      "outputs": [],
      "source": [
        "second = word[1::2]\n",
        "second"
      ]
    },
    {
      "cell_type": "markdown",
      "id": "c8c4e3ba",
      "metadata": {
        "id": "c8c4e3ba"
      },
      "source": [
        "In order to write a function `is_interlocking`, we first need to understand what \"interlocking words\" means. Interlocking words refer to a pair of words that can be combined by alternating their letters to form another word. For example, the word \"shoe\" can be split into \"so\" and \"he\" because alternating the letters from \"so\" and \"he\" gives \"shoe\".\n",
        "\n",
        "Let's implement the `is_interlocking` function in Python:\n",
        "\n",
        "```python\n",
        "def is_interlocking(word):\n",
        "    # Split the word into two potential interlocking words\n",
        "    word1 = word[::2]\n",
        "    word2 = word[1::2]\n",
        "\n",
        "    # Check if both are valid interlocking words\n",
        "    # As the problem does not specify what constitutes valid words,\n",
        "    # this check assumes any sequence of letters could be valid.\n",
        "    # However, these could be checked against a dictionary if provided.\n",
        "    # For now, we'll just check that the lengths add to the original word.\n",
        "    return len(word1) + len(word2) == len(word) and word1.isalpha() and word2.isalpha()\n",
        "\n",
        "# Testing the function\n",
        "print(is_interlocking(\"shoe\"))  # Should return True, can be split into \"so\" and \"he\"\n",
        "print(is_interlocking(\"hello\")) # Should return False, cannot be interlocked into two valid words\n",
        "```\n",
        "\n",
        "Please note, this function assumes that you have some context on what constitutes a valid \"word\". For more robust logic, you might integrate checks against a lexicon or dictionary to ensure `word1` and `word2` are indeed separate valid words in some language."
      ]
    },
    {
      "cell_type": "code",
      "execution_count": null,
      "id": "e5e1030c",
      "metadata": {
        "id": "e5e1030c"
      },
      "outputs": [],
      "source": [
        "# Solution goes here"
      ]
    },
    {
      "cell_type": "markdown",
      "id": "2787f786",
      "metadata": {
        "tags": [],
        "id": "2787f786"
      },
      "source": [
        "以下のループを使用して、単語リスト内の組み合わさった単語を見つけることができます。"
      ]
    },
    {
      "cell_type": "code",
      "execution_count": null,
      "id": "e04a5c73",
      "metadata": {
        "tags": [],
        "id": "e04a5c73"
      },
      "outputs": [],
      "source": [
        "for word in word_list:\n",
        "    if len(word) >= 8 and is_interlocking(word):\n",
        "        first = word[0::2]\n",
        "        second = word[1::2]\n",
        "        print(word, first, second)"
      ]
    },
    {
      "cell_type": "code",
      "execution_count": null,
      "id": "ced5aa90",
      "metadata": {
        "id": "ced5aa90"
      },
      "outputs": [],
      "source": []
    },
    {
      "cell_type": "markdown",
      "id": "a7f4edf8",
      "metadata": {
        "tags": [],
        "id": "a7f4edf8"
      },
      "source": [
        "[Think Python: 第3版](https://allendowney.github.io/ThinkPython/index.html)\n",
        "\n",
        "著作権 2024 [Allen B. Downey](https://allendowney.com)\n",
        "\n",
        "コードライセンス: [MITライセンス](https://mit-license.org/)\n",
        "\n",
        "テキストライセンス: [クリエイティブ・コモンズ 表示-非営利-継承 4.0 国際](https://creativecommons.org/licenses/by-nc-sa/4.0/)"
      ]
    }
  ],
  "metadata": {
    "celltoolbar": "Tags",
    "kernelspec": {
      "display_name": "Python 3 (ipykernel)",
      "language": "python",
      "name": "python3"
    },
    "language_info": {
      "codemirror_mode": {
        "name": "ipython",
        "version": 3
      },
      "file_extension": ".py",
      "mimetype": "text/x-python",
      "name": "python",
      "nbconvert_exporter": "python",
      "pygments_lexer": "ipython3",
      "version": "3.10.11"
    },
    "colab": {
      "provenance": [],
      "include_colab_link": true
    }
  },
  "nbformat": 4,
  "nbformat_minor": 5
}