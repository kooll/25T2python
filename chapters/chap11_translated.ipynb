{
  "cells": [
    {
      "cell_type": "markdown",
      "id": "1331faa1",
      "metadata": {
        "id": "1331faa1"
      },
      "source": [
        "*Think Python 3e*の印刷版と電子書籍版は、[Bookshop.org](https://bookshop.org/a/98697/9781098155438)および[Amazon](https://www.amazon.com/_/dp/1098155432?smid=ATVPDKIKX0DER&_encoding=UTF8&tag=oreilly20-20&_encoding=UTF8&tag=greenteapre01-20&linkCode=ur2&linkId=e2a529f94920295d27ec8a06e757dc7c&camp=1789&creative=9325)から注文できます。"
      ]
    },
    {
      "cell_type": "code",
      "execution_count": null,
      "id": "295ac6d7",
      "metadata": {
        "tags": [],
        "id": "295ac6d7"
      },
      "outputs": [],
      "source": [
        "from os.path import basename, exists\n",
        "\n",
        "def download(url):\n",
        "    filename = basename(url)\n",
        "    if not exists(filename):\n",
        "        from urllib.request import urlretrieve\n",
        "\n",
        "        local, _ = urlretrieve(url, filename)\n",
        "        print(\"Downloaded \" + str(local))\n",
        "    return filename\n",
        "\n",
        "download('https://github.com/AllenDowney/ThinkPython/raw/v3/thinkpython.py');\n",
        "download('https://github.com/AllenDowney/ThinkPython/raw/v3/diagram.py');\n",
        "\n",
        "import thinkpython"
      ]
    },
    {
      "cell_type": "markdown",
      "id": "5705b2a6",
      "metadata": {
        "tags": [],
        "id": "5705b2a6"
      },
      "source": [
        "# タプル\n\nこの章では、もう一つの組み込み型であるタプルを紹介し、リストや辞書とタプルの連携方法について説明します。また、タプルの代入方法や、可変長引数リストを持つ関数に便利な機能であるパッキングとアンパッキングの演算子についても紹介します。\n\n演習では、タプルをリストや辞書と組み合わせて使い、より多くの言葉のパズルを解いたり、効率的なアルゴリズムを実装したりします。\n\n一つ注意しておきたいのは、「タプル」という言葉の発音には二通りがあることです。ある人々は \"tuh-ple\" と発音し、\"supple\" と韻を踏みます。しかし、プログラミングの文脈では、多くの人々は \"too-ple\" と発音し、\"quadruple\" と韻を踏みます。"
      ]
    },
    {
      "cell_type": "markdown",
      "id": "19474596",
      "metadata": {
        "id": "19474596"
      },
      "source": [
        "## タプルはリストに似ています\n\nタプルは値のシーケンスです。値は任意の型であり、それらは整数でインデックス付けされるため、タプルはリストによく似ています。重要な違いは、タプルが不変であることです。\n\nタプルを作成するには、カンマで区切られた値のリストを書くことができます。"
      ]
    },
    {
      "cell_type": "code",
      "execution_count": null,
      "id": "fb0bdca2",
      "metadata": {
        "id": "fb0bdca2"
      },
      "outputs": [],
      "source": [
        "t = 'l', 'u', 'p', 'i', 'n'\n",
        "type(t)"
      ]
    },
    {
      "cell_type": "markdown",
      "id": "a2ec15d8",
      "metadata": {
        "id": "a2ec15d8"
      },
      "source": [
        "必須ではないが、タプルを括弧で囲むのが一般的である。"
      ]
    },
    {
      "cell_type": "code",
      "execution_count": null,
      "id": "5a6da881",
      "metadata": {
        "id": "5a6da881"
      },
      "outputs": [],
      "source": [
        "t = ('l', 'u', 'p', 'i', 'n')\n",
        "type(t)"
      ]
    },
    {
      "cell_type": "markdown",
      "id": "9194a159",
      "metadata": {
        "id": "9194a159"
      },
      "source": [
        "単一要素のタプルを作成するには、最後にカンマを含める必要があります。"
      ]
    },
    {
      "cell_type": "code",
      "execution_count": null,
      "id": "e2596ca7",
      "metadata": {
        "id": "e2596ca7"
      },
      "outputs": [],
      "source": [
        "t1 = 'p',\n",
        "type(t1)"
      ]
    },
    {
      "cell_type": "markdown",
      "id": "e39b95a5",
      "metadata": {
        "id": "e39b95a5"
      },
      "source": [
        "括弧で囲まれた単一の値はタプルではありません。"
      ]
    },
    {
      "cell_type": "code",
      "execution_count": null,
      "id": "a0d350a6",
      "metadata": {
        "id": "a0d350a6"
      },
      "outputs": [],
      "source": [
        "t2 = ('p')\n",
        "type(t2)"
      ]
    },
    {
      "cell_type": "markdown",
      "id": "a64bfb64",
      "metadata": {
        "id": "a64bfb64"
      },
      "source": [
        "タプルを作成するもう一つの方法は、組み込み関数`tuple`を使用することです。引数を指定しない場合、空のタプルが作成されます。"
      ]
    },
    {
      "cell_type": "code",
      "execution_count": null,
      "id": "c9100ee4",
      "metadata": {
        "id": "c9100ee4"
      },
      "outputs": [],
      "source": [
        "t = tuple()\n",
        "t"
      ]
    },
    {
      "cell_type": "markdown",
      "id": "f3447831",
      "metadata": {
        "id": "f3447831"
      },
      "source": [
        "引数がシーケンス（文字列、リストまたはタプル）の場合、結果はそのシーケンスの要素を含むタプルになります。"
      ]
    },
    {
      "cell_type": "code",
      "execution_count": null,
      "id": "44bd3d83",
      "metadata": {
        "id": "44bd3d83"
      },
      "outputs": [],
      "source": [
        "t = tuple('lupin')\n",
        "t"
      ]
    },
    {
      "cell_type": "markdown",
      "id": "2e48b980",
      "metadata": {
        "id": "2e48b980"
      },
      "source": [
        "`tuple`は組み込み関数の名前であるため、変数名として使用することは避けるべきです。\n\nほとんどのリスト演算子はタプルでも機能します。例えば、ブラケット演算子は要素をインデックスします。"
      ]
    },
    {
      "cell_type": "code",
      "execution_count": null,
      "id": "92e55b2c",
      "metadata": {
        "id": "92e55b2c"
      },
      "outputs": [],
      "source": [
        "t[0]"
      ]
    },
    {
      "cell_type": "markdown",
      "id": "2f702785",
      "metadata": {
        "id": "2f702785"
      },
      "source": [
        "スライス演算子は要素の範囲を選択します。"
      ]
    },
    {
      "cell_type": "code",
      "execution_count": null,
      "id": "38ee5c2a",
      "metadata": {
        "id": "38ee5c2a"
      },
      "outputs": [],
      "source": [
        "t[1:3]"
      ]
    },
    {
      "cell_type": "markdown",
      "id": "c9ed9af2",
      "metadata": {
        "id": "c9ed9af2"
      },
      "source": [
        "「+」演算子はタプルを結合します。"
      ]
    },
    {
      "cell_type": "code",
      "execution_count": null,
      "id": "2e0e311a",
      "metadata": {
        "id": "2e0e311a"
      },
      "outputs": [],
      "source": [
        "tuple('lup') + ('i', 'n')"
      ]
    },
    {
      "cell_type": "markdown",
      "id": "1d7dcd6d",
      "metadata": {
        "id": "1d7dcd6d"
      },
      "source": [
        "`*` 演算子は、タプルを指定された回数だけ複製します。"
      ]
    },
    {
      "cell_type": "code",
      "execution_count": null,
      "id": "8bb7d715",
      "metadata": {
        "id": "8bb7d715"
      },
      "outputs": [],
      "source": [
        "tuple('spam') * 2"
      ]
    },
    {
      "cell_type": "markdown",
      "id": "a53ce8bd",
      "metadata": {
        "id": "a53ce8bd"
      },
      "source": [
        "`sorted` 関数はタプルに対しても機能しますが、結果はタプルではなく、リストになります。"
      ]
    },
    {
      "cell_type": "code",
      "execution_count": null,
      "id": "e653e00f",
      "metadata": {
        "id": "e653e00f"
      },
      "outputs": [],
      "source": [
        "sorted(t)"
      ]
    },
    {
      "cell_type": "markdown",
      "id": "50e5cadc",
      "metadata": {
        "id": "50e5cadc"
      },
      "source": [
        "`reversed` 関数はタプルにも使えます。"
      ]
    },
    {
      "cell_type": "code",
      "execution_count": null,
      "id": "8969188d",
      "metadata": {
        "id": "8969188d"
      },
      "outputs": [],
      "source": [
        "reversed(t)"
      ]
    },
    {
      "cell_type": "markdown",
      "id": "f6d973c5",
      "metadata": {
        "id": "f6d973c5"
      },
      "source": [
        "結果は `reversed` オブジェクトであり、これをリストやタプルに変換することができます。"
      ]
    },
    {
      "cell_type": "code",
      "execution_count": null,
      "id": "65d7ebaa",
      "metadata": {
        "id": "65d7ebaa"
      },
      "outputs": [],
      "source": [
        "tuple(reversed(t))"
      ]
    },
    {
      "cell_type": "markdown",
      "id": "a7cb9ee6",
      "metadata": {
        "id": "a7cb9ee6"
      },
      "source": [
        "これまでの例に基づくと、タプルはリストと同じように見えるかもしれません。"
      ]
    },
    {
      "cell_type": "markdown",
      "id": "8c3f381e",
      "metadata": {
        "id": "8c3f381e"
      },
      "source": [
        "## しかし、タプルは不変です\n\nブラケット演算子を使用してタプルを変更しようとすると、`TypeError` が発生します。"
      ]
    },
    {
      "cell_type": "code",
      "execution_count": null,
      "id": "b4970fe0",
      "metadata": {
        "tags": [],
        "id": "b4970fe0"
      },
      "outputs": [],
      "source": [
        "%%expect TypeError\n",
        "t[0] = 'L'"
      ]
    },
    {
      "cell_type": "markdown",
      "id": "592ce99c",
      "metadata": {
        "id": "592ce99c"
      },
      "source": [
        "タプルには、リストを変更するメソッド（`append`や`remove`など）が一切ありません。"
      ]
    },
    {
      "cell_type": "code",
      "execution_count": null,
      "id": "772738cc",
      "metadata": {
        "tags": [],
        "id": "772738cc"
      },
      "outputs": [],
      "source": [
        "%%expect AttributeError\n",
        "\n",
        "t.remove('l')"
      ]
    },
    {
      "cell_type": "markdown",
      "id": "70772ba2",
      "metadata": {
        "id": "70772ba2"
      },
      "source": [
        "「属性」とは、オブジェクトに関連付けられた変数またはメソッドのことを指します。このエラーメッセージは、タプルに `remove` という名前のメソッドが無いことを意味しています。\n\nタプルは不変であるため、ハッシュ可能です。つまり、辞書のキーとして使用することができます。例えば、次の辞書は整数にマップされる2つのタプルをキーとして含んでいます。"
      ]
    },
    {
      "cell_type": "code",
      "execution_count": null,
      "id": "37e67042",
      "metadata": {
        "id": "37e67042"
      },
      "outputs": [],
      "source": [
        "d = {}\n",
        "d[1, 2] = 3\n",
        "d[3, 4] = 7"
      ]
    },
    {
      "cell_type": "markdown",
      "id": "47ba17ab",
      "metadata": {
        "id": "47ba17ab"
      },
      "source": [
        "辞書のタプルを次のように確認できます。"
      ]
    },
    {
      "cell_type": "code",
      "execution_count": null,
      "id": "d809a490",
      "metadata": {
        "id": "d809a490"
      },
      "outputs": [],
      "source": [
        "d[1, 2]"
      ]
    },
    {
      "cell_type": "markdown",
      "id": "f2c0a354",
      "metadata": {
        "id": "f2c0a354"
      },
      "source": [
        "また、タプルを参照する変数がある場合、それをキーとして使用することができます。"
      ]
    },
    {
      "cell_type": "code",
      "execution_count": null,
      "id": "dfc42a8b",
      "metadata": {
        "id": "dfc42a8b"
      },
      "outputs": [],
      "source": [
        "t = (3, 4)\n",
        "d[t]"
      ]
    },
    {
      "cell_type": "markdown",
      "id": "2ea8fc3c",
      "metadata": {
        "id": "2ea8fc3c"
      },
      "source": [
        "タプルは辞書内の値としても使用できます。"
      ]
    },
    {
      "cell_type": "code",
      "execution_count": null,
      "id": "2debf30c",
      "metadata": {
        "id": "2debf30c"
      },
      "outputs": [],
      "source": [
        "t = tuple('abc')\n",
        "d = {'key': t}\n",
        "d"
      ]
    },
    {
      "cell_type": "markdown",
      "id": "25655ab3",
      "metadata": {
        "id": "25655ab3"
      },
      "source": [
        "## タプルの代入\n\n代入の左側に変数のタプルを、右側に値のタプルを置くことができます。"
      ]
    },
    {
      "cell_type": "code",
      "execution_count": null,
      "id": "1e94ea37",
      "metadata": {
        "id": "1e94ea37"
      },
      "outputs": [],
      "source": [
        "a, b = 1, 2"
      ]
    },
    {
      "cell_type": "markdown",
      "id": "92c00ceb",
      "metadata": {
        "id": "92c00ceb"
      },
      "source": [
        "値は左から右に変数に割り当てられます。この例では、`a` は `1` の値を取得し、`b` は `2` の値を取得します。結果を次のように表示できます。"
      ]
    },
    {
      "cell_type": "code",
      "execution_count": null,
      "id": "99c96c7f",
      "metadata": {
        "id": "99c96c7f"
      },
      "outputs": [],
      "source": [
        "a, b"
      ]
    },
    {
      "cell_type": "markdown",
      "id": "6362b36e",
      "metadata": {
        "id": "6362b36e"
      },
      "source": [
        "一般的に、代入の左側がタプルの場合、右側は文字列、リスト、タプルなど、どんな種類のシーケンスでもかまいません。例えば、メールアドレスをユーザー名とドメインに分割するには、次のように書くことができます。"
      ]
    },
    {
      "cell_type": "code",
      "execution_count": null,
      "id": "b67881ed",
      "metadata": {
        "id": "b67881ed"
      },
      "outputs": [],
      "source": [
        "email = 'monty@python.org'\n",
        "username, domain = email.split('@')"
      ]
    },
    {
      "cell_type": "markdown",
      "id": "d134a94c",
      "metadata": {
        "id": "d134a94c"
      },
      "source": [
        "`split` からの戻り値は2つの要素を持つリストです。最初の要素は `username` に、2番目の要素は `domain` に割り当てられます。"
      ]
    },
    {
      "cell_type": "code",
      "execution_count": null,
      "id": "b4515e2b",
      "metadata": {
        "id": "b4515e2b"
      },
      "outputs": [],
      "source": [
        "username, domain"
      ]
    },
    {
      "cell_type": "markdown",
      "id": "5a7e3c62",
      "metadata": {
        "id": "5a7e3c62"
      },
      "source": [
        "左側の変数の数と右側の値の数は同じでなければなりません。そうでない場合は `ValueError` が発生します。"
      ]
    },
    {
      "cell_type": "code",
      "execution_count": null,
      "id": "8e5b4a14",
      "metadata": {
        "tags": [],
        "id": "8e5b4a14"
      },
      "outputs": [],
      "source": [
        "%%expect ValueError\n",
        "a, b = 1, 2, 3"
      ]
    },
    {
      "cell_type": "markdown",
      "id": "808c2928",
      "metadata": {
        "id": "808c2928"
      },
      "source": [
        "タプルの代入は、2つの変数の値を入れ替えたいときに便利です。通常の代入を使用する場合、次のように一時変数を使う必要があります。"
      ]
    },
    {
      "cell_type": "code",
      "execution_count": null,
      "id": "2389d6de",
      "metadata": {
        "id": "2389d6de"
      },
      "outputs": [],
      "source": [
        "temp = a\n",
        "a = b\n",
        "b = temp"
      ]
    },
    {
      "cell_type": "markdown",
      "id": "98496d02",
      "metadata": {
        "id": "98496d02"
      },
      "source": [
        "それはうまくいきますが、タプル代入を使うことで、一時変数を使用せずに同じことができます。"
      ]
    },
    {
      "cell_type": "code",
      "execution_count": null,
      "id": "5512edec",
      "metadata": {
        "id": "5512edec"
      },
      "outputs": [],
      "source": [
        "a, b = b, a"
      ]
    },
    {
      "cell_type": "markdown",
      "id": "a66a87bc",
      "metadata": {
        "id": "a66a87bc"
      },
      "source": [
        "これは、右側のすべての式が代入の前に評価されるため、機能します。\n\nまた、`for` 文でタプル代入を使用することもできます。たとえば、辞書のアイテムをループするには、`items` メソッドを使用します。"
      ]
    },
    {
      "cell_type": "code",
      "execution_count": null,
      "id": "651ab417",
      "metadata": {
        "id": "651ab417"
      },
      "outputs": [],
      "source": [
        "d = {'one': 1, 'two': 2}\n",
        "\n",
        "for item in d.items():\n",
        "    key, value = item\n",
        "    print(key, '->', value)"
      ]
    },
    {
      "cell_type": "markdown",
      "id": "dd0d4feb",
      "metadata": {
        "id": "dd0d4feb"
      },
      "source": [
        "ループを通過するたびに、`item` にはキーと対応する値を含むタプルが割り当てられます。\n\nこのループは次のように簡潔に書くことができます："
      ]
    },
    {
      "cell_type": "code",
      "execution_count": null,
      "id": "2c0b7d47",
      "metadata": {
        "id": "2c0b7d47"
      },
      "outputs": [],
      "source": [
        "for key, value in d.items():\n",
        "    print(key, '->', value)"
      ]
    },
    {
      "cell_type": "markdown",
      "id": "f0513578",
      "metadata": {
        "id": "f0513578"
      },
      "source": [
        "ループを通過するたびに、キーと対応する値が直接`key`と`value`に割り当てられます。"
      ]
    },
    {
      "cell_type": "markdown",
      "id": "efedeb37",
      "metadata": {
        "id": "efedeb37"
      },
      "source": [
        "## タプルを戻り値として使用する\n\n厳密に言えば、関数は一つの値しか返せませんが、もしその戻り値がタプルであれば、複数の値を返しているのと同じ効果があります。例えば、2つの整数を除算して商と余りを計算したい場合、`x//y`を計算してから`x%y`を計算するのは非効率です。それらを同時に計算する方が良いです。\n\n組み込み関数 `divmod` は2つの引数を取り、商と余りの2つの値を持つタプルを返します。"
      ]
    },
    {
      "cell_type": "code",
      "execution_count": null,
      "id": "fff80eaa",
      "metadata": {
        "id": "fff80eaa"
      },
      "outputs": [],
      "source": [
        "divmod(7, 3)"
      ]
    },
    {
      "cell_type": "markdown",
      "id": "33f3c57d",
      "metadata": {
        "id": "33f3c57d"
      },
      "source": [
        "タプルの要素を2つの変数に格納するために、タプル代入を使用できます。"
      ]
    },
    {
      "cell_type": "code",
      "execution_count": null,
      "id": "4a0eb2a9",
      "metadata": {
        "id": "4a0eb2a9"
      },
      "outputs": [],
      "source": [
        "quotient, remainder = divmod(7, 3)\n",
        "quotient"
      ]
    },
    {
      "cell_type": "code",
      "execution_count": null,
      "id": "d74ba1b6",
      "metadata": {
        "id": "d74ba1b6"
      },
      "outputs": [],
      "source": [
        "remainder"
      ]
    },
    {
      "cell_type": "markdown",
      "id": "15079805",
      "metadata": {
        "id": "15079805"
      },
      "source": [
        "これはタプルを返す関数の例です。"
      ]
    },
    {
      "cell_type": "code",
      "execution_count": null,
      "id": "dad3b3bb",
      "metadata": {
        "id": "dad3b3bb"
      },
      "outputs": [],
      "source": [
        "def min_max(t):\n",
        "    return min(t), max(t)"
      ]
    },
    {
      "cell_type": "markdown",
      "id": "43c4e1e0",
      "metadata": {
        "id": "43c4e1e0"
      },
      "source": [
        "`max` と `min` は、シーケンス内の最大要素と最小要素を見つける組み込み関数です。  \n`min_max` は両方を計算し、2つの値を持つタプルを返します。"
      ]
    },
    {
      "cell_type": "code",
      "execution_count": null,
      "id": "fbd90b0e",
      "metadata": {
        "id": "fbd90b0e"
      },
      "outputs": [],
      "source": [
        "min_max([2, 4, 1, 3])"
      ]
    },
    {
      "cell_type": "markdown",
      "id": "86b60e71",
      "metadata": {
        "id": "86b60e71"
      },
      "source": [
        "次のように結果を変数に代入できます。"
      ]
    },
    {
      "cell_type": "code",
      "execution_count": null,
      "id": "5a101efb",
      "metadata": {
        "id": "5a101efb"
      },
      "outputs": [],
      "source": [
        "low, high = min_max([2, 4, 1, 3])\n",
        "low, high"
      ]
    },
    {
      "cell_type": "markdown",
      "id": "112b5aa2",
      "metadata": {
        "tags": [],
        "id": "112b5aa2"
      },
      "source": [
        "## 引数のパッキング\n\n関数は可変個の引数を取ることができます。\n`*`演算子を先頭に付けたパラメータ名は、引数をタプルに**パック**します。\n例えば、次の関数は任意の数の引数を取り、それらの算術平均、すなわち合計を引数の数で割ったものを計算します。"
      ]
    },
    {
      "cell_type": "code",
      "execution_count": null,
      "id": "0a33e2d0",
      "metadata": {
        "id": "0a33e2d0"
      },
      "outputs": [],
      "source": [
        "def mean(*args):\n",
        "    return sum(args) / len(args)"
      ]
    },
    {
      "cell_type": "markdown",
      "id": "6044fc1b",
      "metadata": {
        "id": "6044fc1b"
      },
      "source": [
        "パラメータには任意の名前を付けることができますが、`args`が一般的です。\n関数は次のように呼び出すことができます。"
      ]
    },
    {
      "cell_type": "code",
      "execution_count": null,
      "id": "336a08ca",
      "metadata": {
        "id": "336a08ca"
      },
      "outputs": [],
      "source": [
        "mean(1, 2, 3)"
      ]
    },
    {
      "cell_type": "markdown",
      "id": "a5e8b158",
      "metadata": {
        "id": "a5e8b158"
      },
      "source": [
        "値のシーケンスを持っていて、それらを関数に複数の引数として渡したい場合、`*`演算子を使用してタプルを**アンパック**することができます。例えば、`divmod`は正確に2つの引数を取ります。もしタプルをパラメータとして渡すと、エラーが発生します。"
      ]
    },
    {
      "cell_type": "code",
      "execution_count": null,
      "id": "991810bc",
      "metadata": {
        "tags": [],
        "id": "991810bc"
      },
      "outputs": [],
      "source": [
        "%%expect TypeError\n",
        "t = (7, 3)\n",
        "divmod(t)"
      ]
    },
    {
      "cell_type": "markdown",
      "id": "5a9110db",
      "metadata": {
        "id": "5a9110db"
      },
      "source": [
        "タプルは2つの要素を含んでいても、1つの引数としてカウントされます。しかし、タプルをアンパックすると、2つの引数として扱われます。"
      ]
    },
    {
      "cell_type": "code",
      "execution_count": null,
      "id": "f25ebee1",
      "metadata": {
        "id": "f25ebee1"
      },
      "outputs": [],
      "source": [
        "divmod(*t)"
      ]
    },
    {
      "cell_type": "markdown",
      "id": "da554863",
      "metadata": {
        "id": "da554863"
      },
      "source": [
        "パッキングとアンパッキングは、既存の関数の動作を適応させたい場合に便利です。例えば、この関数は任意の数の引数を取り、最も低い値と最も高い値を削除し、残りの平均を計算します。"
      ]
    },
    {
      "cell_type": "code",
      "execution_count": null,
      "id": "7ad64412",
      "metadata": {
        "id": "7ad64412"
      },
      "outputs": [],
      "source": [
        "def trimmed_mean(*args):\n",
        "    low, high = min_max(args)\n",
        "    trimmed = list(args)\n",
        "    trimmed.remove(low)\n",
        "    trimmed.remove(high)\n",
        "    return mean(*trimmed)"
      ]
    },
    {
      "cell_type": "markdown",
      "id": "d1e05e49",
      "metadata": {
        "id": "d1e05e49"
      },
      "source": [
        "まず、`min_max` を使用して、最小要素と最大要素を見つけます。\n次に、`args` をリストに変換して、`remove` メソッドを使用できるようにします。\n最後に、リストをアンパックして、要素を単一のリストではなく、別々の引数として `mean` に渡します。\n\n以下は、その効果を示す例です。"
      ]
    },
    {
      "cell_type": "code",
      "execution_count": null,
      "id": "b2863701",
      "metadata": {
        "id": "b2863701"
      },
      "outputs": [],
      "source": [
        "mean(1, 2, 3, 10)"
      ]
    },
    {
      "cell_type": "code",
      "execution_count": null,
      "id": "cc1afa29",
      "metadata": {
        "id": "cc1afa29"
      },
      "outputs": [],
      "source": [
        "trimmed_mean(1, 2, 3, 10)"
      ]
    },
    {
      "cell_type": "markdown",
      "id": "35e04996",
      "metadata": {
        "id": "35e04996"
      },
      "source": [
        "このような「トリムされた」平均は、主観的な審査が行われるダイビングや体操などのスポーツで使用され、他の審判の得点から大きく逸脱する審判の影響を軽減するために用いられます。"
      ]
    },
    {
      "cell_type": "markdown",
      "id": "c4572cd2",
      "metadata": {
        "id": "c4572cd2"
      },
      "source": [
        "## Zip\n\nタプルは、2つのシーケンスの要素をループする際に、それぞれの要素に対して操作を行う場合に役立ちます。例えば、2つのチームが7試合のシリーズで対戦し、それぞれの試合結果を2つのリストに記録したとしましょう。それぞれのリストは各チームの得点を表しています。"
      ]
    },
    {
      "cell_type": "code",
      "execution_count": null,
      "id": "ad3e6f81",
      "metadata": {
        "id": "ad3e6f81"
      },
      "outputs": [],
      "source": [
        "scores1 = [1, 2, 4, 5, 1, 5, 2]\n",
        "scores2 = [5, 5, 2, 2, 5, 2, 3]"
      ]
    },
    {
      "cell_type": "markdown",
      "id": "b44f228b",
      "metadata": {
        "id": "b44f228b"
      },
      "source": [
        "各チームが何試合勝ったか見てみましょう。 `zip`を使いますが、これは2つ以上のシーケンスを取り、シーケンスの要素をジッパーの歯のように組み合わせた**zipオブジェクト**を返す組み込み関数です。"
      ]
    },
    {
      "cell_type": "code",
      "execution_count": null,
      "id": "9ce313ce",
      "metadata": {
        "id": "9ce313ce"
      },
      "outputs": [],
      "source": [
        "zip(scores1, scores2)"
      ]
    },
    {
      "cell_type": "markdown",
      "id": "9adcf8f9",
      "metadata": {
        "id": "9adcf8f9"
      },
      "source": [
        "シーケンス内の値をペアでループするために、zipオブジェクトを使用できます。"
      ]
    },
    {
      "cell_type": "code",
      "execution_count": null,
      "id": "321d9c30",
      "metadata": {
        "id": "321d9c30"
      },
      "outputs": [],
      "source": [
        "for pair in zip(scores1, scores2):\n",
        "     print(pair)"
      ]
    },
    {
      "cell_type": "markdown",
      "id": "51d1dabb",
      "metadata": {
        "id": "51d1dabb"
      },
      "source": [
        "ループを通過するたびに、`pair` にはスコアのタプルが割り当てられます。したがって、スコアを変数に割り当てて、次のように最初のチームの勝利数を数えることができます。"
      ]
    },
    {
      "cell_type": "code",
      "execution_count": null,
      "id": "7eb73d5d",
      "metadata": {
        "id": "7eb73d5d"
      },
      "outputs": [],
      "source": [
        "wins = 0\n",
        "for team1, team2 in zip(scores1, scores2):\n",
        "    if team1 > team2:\n",
        "        wins += 1\n",
        "\n",
        "wins"
      ]
    },
    {
      "cell_type": "markdown",
      "id": "ad740fcd",
      "metadata": {
        "id": "ad740fcd"
      },
      "source": [
        "残念ながら、第一チームは試合で3勝しかできず、シリーズに敗れました。\n\n2つのリストがあり、ペアのリストを作成したい場合は、`zip`と`list`を使用することができます。"
      ]
    },
    {
      "cell_type": "code",
      "execution_count": null,
      "id": "9529baa8",
      "metadata": {
        "id": "9529baa8"
      },
      "outputs": [],
      "source": [
        "t = list(zip(scores1, scores2))\n",
        "t"
      ]
    },
    {
      "cell_type": "markdown",
      "id": "ec4249fa",
      "metadata": {
        "id": "ec4249fa"
      },
      "source": [
        "結果はタプルのリストなので、最後の試合の結果をこのように取得できます:"
      ]
    },
    {
      "cell_type": "code",
      "execution_count": null,
      "id": "dbde77b8",
      "metadata": {
        "id": "dbde77b8"
      },
      "outputs": [],
      "source": [
        "t[-1]"
      ]
    },
    {
      "cell_type": "markdown",
      "id": "436486b9",
      "metadata": {
        "id": "436486b9"
      },
      "source": [
        "キーのリストと値のリストがある場合、`zip`と`dict`を使用して辞書を作成することができます。例えば、アルファベットの各文字をその位置にマッピングする辞書を作成する方法は以下の通りです。"
      ]
    },
    {
      "cell_type": "code",
      "execution_count": null,
      "id": "dbb7d0b3",
      "metadata": {
        "id": "dbb7d0b3"
      },
      "outputs": [],
      "source": [
        "letters = 'abcdefghijklmnopqrstuvwxyz'\n",
        "numbers = range(len(letters))\n",
        "letter_map = dict(zip(letters, numbers))"
      ]
    },
    {
      "cell_type": "markdown",
      "id": "b4de6974",
      "metadata": {
        "id": "b4de6974"
      },
      "source": [
        "これで文字を調べて、アルファベットの中でのその位置を知ることができます。"
      ]
    },
    {
      "cell_type": "code",
      "execution_count": null,
      "id": "49e3fd8e",
      "metadata": {
        "id": "49e3fd8e"
      },
      "outputs": [],
      "source": [
        "letter_map['a'], letter_map['z']"
      ]
    },
    {
      "cell_type": "markdown",
      "id": "cc632542",
      "metadata": {
        "id": "cc632542"
      },
      "source": [
        "このマッピングでは、`'a'` のインデックスは `0` で、`'z'` のインデックスは `25` です。\n\nシーケンスの要素とそのインデックスをループで処理する必要がある場合、組み込み関数 `enumerate` を使用することができます。"
      ]
    },
    {
      "cell_type": "code",
      "execution_count": null,
      "id": "9e4f3e51",
      "metadata": {
        "id": "9e4f3e51"
      },
      "outputs": [],
      "source": [
        "enumerate('abc')"
      ]
    },
    {
      "cell_type": "markdown",
      "id": "92ad45bb",
      "metadata": {
        "id": "92ad45bb"
      },
      "source": [
        "結果として得られるのは、**enumerateオブジェクト**です。これはペアのシーケンスをループで処理するもので、各ペアはインデックス（0から始まる）と与えられたシーケンスからの要素を含みます。"
      ]
    },
    {
      "cell_type": "code",
      "execution_count": null,
      "id": "c1dcb46d",
      "metadata": {
        "id": "c1dcb46d"
      },
      "outputs": [],
      "source": [
        "for index, element in enumerate('abc'):\n",
        "    print(index, element)"
      ]
    },
    {
      "cell_type": "markdown",
      "id": "cf0b55d7",
      "metadata": {
        "id": "cf0b55d7"
      },
      "source": [
        "## 比較とソート\n\n比較演算子はタプルや他のシーケンスと一緒に使うことができます。例えば、タプルで `<` 演算子を使うと、各シーケンスの最初の要素から比較を始めます。もしそれらが等しい場合は、次の要素のペアを比較し、そうして続けていき、異なる要素のペアが見つかるまで比較を続けます。"
      ]
    },
    {
      "cell_type": "code",
      "execution_count": null,
      "id": "aed20c28",
      "metadata": {
        "id": "aed20c28"
      },
      "outputs": [],
      "source": [
        "(0, 1, 2) < (0, 3, 4)"
      ]
    },
    {
      "cell_type": "markdown",
      "id": "65ceea86",
      "metadata": {
        "id": "65ceea86"
      },
      "source": [
        "その後の要素は考慮されません -- たとえそれらが非常に大きくても。"
      ]
    },
    {
      "cell_type": "code",
      "execution_count": null,
      "id": "4d9e73b3",
      "metadata": {
        "id": "4d9e73b3"
      },
      "outputs": [],
      "source": [
        "(0, 1, 2000000) < (0, 3, 4)"
      ]
    },
    {
      "cell_type": "markdown",
      "id": "55e4a35e",
      "metadata": {
        "id": "55e4a35e"
      },
      "source": [
        "このようなタプルの比較方法は、タプルのリストをソートしたり、最小または最大を見つけたりするのに便利です。  \n例として、単語の中で最も一般的な文字を見つけてみましょう。  \n前の章では、`value_counts`という関数を書きました。これは、文字列を受け取り、各文字からそれが現れる回数へのマッピングを返す辞書を生成します。"
      ]
    },
    {
      "cell_type": "code",
      "execution_count": null,
      "id": "2077dfa9",
      "metadata": {
        "id": "2077dfa9"
      },
      "outputs": [],
      "source": [
        "def value_counts(string):\n",
        "    counter = {}\n",
        "    for letter in string:\n",
        "        if letter not in counter:\n",
        "            counter[letter] = 1\n",
        "        else:\n",
        "            counter[letter] += 1\n",
        "    return counter"
      ]
    },
    {
      "cell_type": "markdown",
      "id": "a80012c1",
      "metadata": {
        "id": "a80012c1"
      },
      "source": [
        "こちらが文字列 'banana' の結果です。"
      ]
    },
    {
      "cell_type": "code",
      "execution_count": null,
      "id": "b3d40516",
      "metadata": {
        "id": "b3d40516"
      },
      "outputs": [],
      "source": [
        "counter = value_counts('banana')\n",
        "counter"
      ]
    },
    {
      "cell_type": "markdown",
      "id": "cc1ea4a7",
      "metadata": {
        "id": "cc1ea4a7"
      },
      "source": [
        "3つのアイテムしかない場合、最頻出の文字が `'a'` であることが容易にわかります。この文字は3回現れています。しかし、アイテムがもっと多い場合は、自動的に並べ替えることが役に立ちます。\n\n`counter` からアイテムを取得する方法は以下の通りです。"
      ]
    },
    {
      "cell_type": "code",
      "execution_count": null,
      "id": "8288c28f",
      "metadata": {
        "id": "8288c28f"
      },
      "outputs": [],
      "source": [
        "items = counter.items()\n",
        "items"
      ]
    },
    {
      "cell_type": "markdown",
      "id": "ac8dea7a",
      "metadata": {
        "id": "ac8dea7a"
      },
      "source": [
        "結果はタプルのリストのように振る舞う`dict_items`オブジェクトであり、このようにソートすることができます。"
      ]
    },
    {
      "cell_type": "code",
      "execution_count": null,
      "id": "bbbade35",
      "metadata": {
        "id": "bbbade35"
      },
      "outputs": [],
      "source": [
        "sorted(items)"
      ]
    },
    {
      "cell_type": "markdown",
      "id": "b690d17a",
      "metadata": {
        "id": "b690d17a"
      },
      "source": [
        "デフォルトの動作では、各タプルの最初の要素を使用してリストをソートし、同点の場合には2番目の要素を使用します。\n\nしかし、最も高いカウントの項目を見つけるには、リストをソートするのに2番目の要素を使用したいです。\nそれには、タプルを受け取り、その2番目の要素を返す関数を書くことで実現できます。"
      ]
    },
    {
      "cell_type": "code",
      "execution_count": null,
      "id": "a4c31795",
      "metadata": {
        "id": "a4c31795"
      },
      "outputs": [],
      "source": [
        "def second_element(t):\n",
        "    return t[1]"
      ]
    },
    {
      "cell_type": "markdown",
      "id": "b964aa14",
      "metadata": {
        "id": "b964aa14"
      },
      "source": [
        "その後で、その関数を `sorted` のオプション引数である `key` に渡すことができます。この `key` は各項目のソートキーを計算するためにこの関数を使用することを示しています。"
      ]
    },
    {
      "cell_type": "code",
      "execution_count": null,
      "id": "f3d3619a",
      "metadata": {
        "id": "f3d3619a"
      },
      "outputs": [],
      "source": [
        "sorted_items = sorted(items, key=second_element)\n",
        "sorted_items"
      ]
    },
    {
      "cell_type": "markdown",
      "id": "4dc96848",
      "metadata": {
        "id": "4dc96848"
      },
      "source": [
        "ソートキーはリスト内のアイテムの順序を決定します。  \n最も少ない数の文字が最初に現れ、最も多い数の文字が最後に現れます。  \nこの方法で最も一般的な文字を見つけることができます。"
      ]
    },
    {
      "cell_type": "code",
      "execution_count": null,
      "id": "f078c8a6",
      "metadata": {
        "id": "f078c8a6"
      },
      "outputs": [],
      "source": [
        "sorted_items[-1]"
      ]
    },
    {
      "cell_type": "markdown",
      "id": "d0d8b999",
      "metadata": {
        "id": "d0d8b999"
      },
      "source": [
        "最大値のみを求める場合、リストをソートする必要はありません。  \n`max` 関数を使用することができ、これにはオプション引数として `key` を指定できます。"
      ]
    },
    {
      "cell_type": "code",
      "execution_count": null,
      "id": "54030d8f",
      "metadata": {
        "id": "54030d8f"
      },
      "outputs": [],
      "source": [
        "max(items, key=second_element)"
      ]
    },
    {
      "cell_type": "markdown",
      "id": "8a8327df",
      "metadata": {
        "id": "8a8327df"
      },
      "source": [
        "文字の出現回数が最も少ないものを見つけるには、同じように `min` を使うことができます。"
      ]
    },
    {
      "cell_type": "markdown",
      "id": "a62394a5",
      "metadata": {
        "id": "a62394a5"
      },
      "source": [
        "辞書を反転させるには、キーと値を入れ替えて新しい辞書を作成します。ただし、辞書内のキーは一意である必要がありますが、値は一意である必要がありません。したがって、ある値に複数のキーが対応する場合もあります。この問題を解決するために、元の辞書のキーをリストとして保持する新しい辞書を作成します。\n\n例として、「parrot」に含まれる文字数を数えて辞書を作成し、それを反転させる方法を次に示します：\n\n1. 初めに、「parrot」に含まれる各文字を数えて、元の辞書を作成します。たとえば、1回出現する文字と2回出現する文字があります。\n   ```python\n   word_count = {\n       'p': 1,\n       'a': 1,\n       'r': 2,\n       'o': 1,\n       't': 1\n   }\n   ```\n\n2. 次に、この辞書を反転させるための新しい辞書を作成します。値をキーとして使用し、それに対応する元のキーをリストとして格納します。\n   ```python\n   inverted_dict = {}\n   for letter, count in word_count.items():\n       if count not in inverted_dict:\n           inverted_dict[count] = [letter]\n       else:\n           inverted_dict[count].append(letter)\n   ```\n\n3. 結果として、反転された辞書は以下のようになります：\n   ```python\n   inverted_dict = {\n       1: ['p', 'a', 'o', 't'],\n       2: ['r']\n   }\n   ```\n\nこの方法で、元の辞書を反転させて、値から元のキーのリストを取得できるようになりました。この技法は、値が一意ではない場合に有効です。"
      ]
    },
    {
      "cell_type": "code",
      "execution_count": null,
      "id": "ef158f81",
      "metadata": {
        "id": "ef158f81"
      },
      "outputs": [],
      "source": [
        "d =  value_counts('parrot')\n",
        "d"
      ]
    },
    {
      "cell_type": "markdown",
      "id": "f4570eae",
      "metadata": {
        "id": "f4570eae"
      },
      "source": [
        "この辞書を反転させると、結果は `{1: ['p', 'a', 'o', 't'], 2: ['r']}` になります。これは、1回現れる文字が `'p'`、`'a'`、`'o'`、`'t'` であり、2回現れる文字が `'r'` であることを示しています。\n\n以下の関数は辞書を受け取り、新しい辞書としてその逆を返します。"
      ]
    },
    {
      "cell_type": "code",
      "execution_count": null,
      "id": "d3607b8d",
      "metadata": {
        "id": "d3607b8d"
      },
      "outputs": [],
      "source": [
        "def invert_dict(d):\n",
        "    new = {}\n",
        "    for key, value in d.items():\n",
        "        if value not in new:\n",
        "            new[value] = [key]\n",
        "        else:\n",
        "            new[value].append(key)\n",
        "    return new"
      ]
    },
    {
      "cell_type": "markdown",
      "id": "ca5fa025",
      "metadata": {
        "id": "ca5fa025"
      },
      "source": [
        "`for`文は、辞書`d`のキーと値をループします。\nもし値が新しい辞書にまだ含まれていない場合、その値が追加され、単一の要素を持つリストが関連付けられます。\nそうでなければ、その値は既存のリストに追加されます。\n\nこれを次のようにテストできます。"
      ]
    },
    {
      "cell_type": "code",
      "execution_count": null,
      "id": "692d9cf8",
      "metadata": {
        "id": "692d9cf8"
      },
      "outputs": [],
      "source": [
        "invert_dict(d)"
      ]
    },
    {
      "cell_type": "markdown",
      "id": "4cfb1693",
      "metadata": {
        "id": "4cfb1693"
      },
      "source": [
        "そして、私たちは期待していた結果を得ます。\n\nこれは、辞書の中の値がリストになっている最初の例です。\nこれからもっと見ていきます！"
      ]
    },
    {
      "cell_type": "markdown",
      "id": "6d138cd7",
      "metadata": {
        "tags": [],
        "id": "6d138cd7"
      },
      "source": [
        "## デバッグ\n\nリスト、辞書、タプルは**データ構造**です。\nこの章では、タプルのリストや、タプルをキーとして持ちリストを値として持つ辞書のような、複合データ構造を見始めます。\n複合データ構造は便利ですが、データ構造が間違った型、大きさ、または構造を持っているときに起こるエラーが発生しやすいです。\nたとえば、関数が整数のリストを期待しているときに、単なる整数（リストに入っていないもの）を渡すと、おそらく正しく機能しません。\n\nこの種のエラーをデバッグするために、私は `structshape` というモジュールを書きました。\nこのモジュールは、任意の種類のデータ構造を引数として受け取り、その構造を要約する文字列を返す関数 `structshape` を提供します。\n<https://raw.githubusercontent.com/AllenDowney/ThinkPython/v3/structshape.py> からダウンロードできます。"
      ]
    },
    {
      "cell_type": "code",
      "execution_count": null,
      "id": "e9f03e91",
      "metadata": {
        "tags": [],
        "id": "e9f03e91"
      },
      "outputs": [],
      "source": [
        "download('https://raw.githubusercontent.com/AllenDowney/ThinkPython/v3/structshape.py');"
      ]
    },
    {
      "cell_type": "markdown",
      "id": "646f4d55",
      "metadata": {
        "id": "646f4d55"
      },
      "source": [
        "それを次のようにインポートできます。"
      ]
    },
    {
      "cell_type": "code",
      "execution_count": null,
      "id": "90ab624a",
      "metadata": {
        "id": "90ab624a"
      },
      "outputs": [],
      "source": [
        "from structshape import structshape"
      ]
    },
    {
      "cell_type": "markdown",
      "id": "86cc6ccc",
      "metadata": {
        "id": "86cc6ccc"
      },
      "source": [
        "こちらは簡単なリストの例です。"
      ]
    },
    {
      "cell_type": "code",
      "execution_count": null,
      "id": "6794330f",
      "metadata": {
        "id": "6794330f"
      },
      "outputs": [],
      "source": [
        "t = [1, 2, 3]\n",
        "structshape(t)"
      ]
    },
    {
      "cell_type": "markdown",
      "id": "9de4f6ec",
      "metadata": {
        "id": "9de4f6ec"
      },
      "source": [
        "こちらがリストのリストです。"
      ]
    },
    {
      "cell_type": "code",
      "execution_count": null,
      "id": "54cd185b",
      "metadata": {
        "id": "54cd185b"
      },
      "outputs": [],
      "source": [
        "t2 = [[1,2], [3,4], [5,6]]\n",
        "structshape(t2)"
      ]
    },
    {
      "cell_type": "markdown",
      "id": "aced9984",
      "metadata": {
        "id": "aced9984"
      },
      "source": [
        "リストの要素が同じ型でない場合、`structshape`はそれらを型別にグループ化します。"
      ]
    },
    {
      "cell_type": "code",
      "execution_count": null,
      "id": "04028afd",
      "metadata": {
        "id": "04028afd"
      },
      "outputs": [],
      "source": [
        "t3 = [1, 2, 3, 4.0, '5', '6', [7], [8], 9]\n",
        "structshape(t3)"
      ]
    },
    {
      "cell_type": "markdown",
      "id": "f63ff690",
      "metadata": {
        "id": "f63ff690"
      },
      "source": [
        "リストのタプルをこちらに提供してください。翻訳が必要な箇所についてお手伝いします。"
      ]
    },
    {
      "cell_type": "code",
      "execution_count": null,
      "id": "b5d45c88",
      "metadata": {
        "id": "b5d45c88"
      },
      "outputs": [],
      "source": [
        "s = 'abc'\n",
        "lt = list(zip(t, s))\n",
        "structshape(lt)"
      ]
    },
    {
      "cell_type": "markdown",
      "id": "c9ec67eb",
      "metadata": {
        "id": "c9ec67eb"
      },
      "source": [
        "こちらは、整数を文字列にマッピングする3項目の辞書です。"
      ]
    },
    {
      "cell_type": "code",
      "execution_count": null,
      "id": "15131907",
      "metadata": {
        "id": "15131907"
      },
      "outputs": [],
      "source": [
        "d = dict(lt)\n",
        "structshape(d)"
      ]
    },
    {
      "cell_type": "markdown",
      "id": "f29bb82b",
      "metadata": {
        "id": "f29bb82b"
      },
      "source": [
        "データ構造の管理に問題がある場合、`structshape`が役立ちます。"
      ]
    },
    {
      "cell_type": "markdown",
      "id": "79d93082",
      "metadata": {
        "id": "79d93082"
      },
      "source": [
        "## 用語集\n\n**pack（パック）:**\n複数の引数をタプルにまとめること。\n\n**unpack（アンパック）:**\nタプル（または他のシーケンス）を複数の引数として扱うこと。\n\n**zipオブジェクト:**\n組み込み関数`zip`を呼び出した結果で、タプルのシーケンスをループするのに使用できる。\n\n**enumerateオブジェクト:**\n組み込み関数`enumerate`を呼び出した結果で、タプルのシーケンスをループするのに使用できる。\n\n**sort key（ソートキー）:**\nコレクションの要素をソートするために使用される値、または値を計算する関数。\n\n**データ構造:**\n特定の操作を効率的に実行するために組織化された値の集まり。"
      ]
    },
    {
      "cell_type": "markdown",
      "id": "1471b3c0",
      "metadata": {
        "id": "1471b3c0"
      },
      "source": [
        "## エクササイズ"
      ]
    },
    {
      "cell_type": "code",
      "execution_count": null,
      "id": "c65d68d2",
      "metadata": {
        "tags": [],
        "id": "c65d68d2"
      },
      "outputs": [],
      "source": [
        "# This cell tells Jupyter to provide detailed debugging information\n",
        "# when a runtime error occurs. Run it before working on the exercises.\n",
        "\n",
        "%xmode Verbose"
      ]
    },
    {
      "cell_type": "markdown",
      "id": "97a0352d",
      "metadata": {
        "id": "97a0352d"
      },
      "source": [
        "### 仮想アシスタントに尋ねる\n\nこの章の練習問題は前の章より難しいかもしれませんので、仮想アシスタントの助けを借りることを推奨します。\nより難しい質問をしたとき、最初の試みで答えが正しくないことがあるかもしれませんが、これを機会に良いプロンプトを作成し、適切な修正を行う練習をしましょう。\n\n一つの戦略として、大きな問題を簡単な関数で解決できる部分に分けることを考えてみてください。\n仮想アシスタントに関数を書いてテストするよう依頼しましょう。\nそしてそれらが動作したら、元の問題の解決策を求めてください。\n\n以下の練習問題の中には、使用するデータ構造やアルゴリズムについての提案をしている場合があります。\n問題に取り組む際にこれらの提案が役立つかもしれませんし、仮想アシスタントに渡す良いプロンプトでもあります。"
      ]
    },
    {
      "cell_type": "markdown",
      "id": "f90e011f",
      "metadata": {
        "id": "f90e011f"
      },
      "source": [
        "### 演習\n\nこの章で、タプルはハッシュ可能であるため辞書のキーとして使用でき、ハッシュ可能である理由はそれが不変であるからだと述べました。\nしかし、それは常に正しいわけではありません。\n\nタプルがリストや辞書のような可変の値を含む場合、そのタプルはもはやハッシュ可能ではありません。なぜなら、ハッシュ可能ではない要素を含んでいるからです。例として、整数のリストを2つ含むタプルを示します。"
      ]
    },
    {
      "cell_type": "code",
      "execution_count": null,
      "id": "4416fe4a",
      "metadata": {
        "id": "4416fe4a"
      },
      "outputs": [],
      "source": [
        "list0 = [1, 2, 3]\n",
        "list1 = [4, 5]\n",
        "\n",
        "t = (list0, list1)\n",
        "t"
      ]
    },
    {
      "cell_type": "markdown",
      "id": "02799077",
      "metadata": {
        "id": "02799077"
      },
      "source": [
        "`t[1].append(6)`"
      ]
    },
    {
      "cell_type": "code",
      "execution_count": null,
      "id": "e6eda0e4",
      "metadata": {
        "tags": [],
        "id": "e6eda0e4"
      },
      "outputs": [],
      "source": [
        "# Solution goes here"
      ]
    },
    {
      "cell_type": "markdown",
      "id": "644b1dfb",
      "metadata": {
        "id": "644b1dfb"
      },
      "source": [
        "`t` はミュータブルなオブジェクト (例えば、リストや辞書など) だと仮定すると、Pythonではそのようなオブジェクトはハッシュ可能ではないため、辞書のキーとして使用することはできません。そのため、`t` がミュータブルな場合、辞書のキーとして使用しようとすると `TypeError` が発生します。以下はその例です。\n\n例えば、`t` がリストである場合：\n\n```python\nt = [1, 2, 3]  # ミュータブルなオブジェクト\nmy_dict = {t: \"some value\"}  # TypeErrorが発生する\n```\n\nこの場合、`TypeError: unhashable type: 'list'` というエラーが出ます。リストはハッシュ不可のため、辞書のキーとして使うことはできません。"
      ]
    },
    {
      "cell_type": "code",
      "execution_count": null,
      "id": "4fae1acc",
      "metadata": {
        "tags": [],
        "id": "4fae1acc"
      },
      "outputs": [],
      "source": [
        "# Solution goes here"
      ]
    },
    {
      "cell_type": "markdown",
      "id": "fb77a352",
      "metadata": {
        "id": "fb77a352"
      },
      "source": [
        "このトピックについてもっと知りたい場合は、バーチャルアシスタントに「Pythonのタプルは常にハッシュ可能ですか？」と尋ねてください。"
      ]
    },
    {
      "cell_type": "markdown",
      "id": "bdfc8c27",
      "metadata": {
        "tags": [],
        "id": "bdfc8c27"
      },
      "source": [
        "### 演習\n\nこの章では、各文字をアルファベット内のそのインデックスにマッピングする辞書を作成しました。"
      ]
    },
    {
      "cell_type": "code",
      "execution_count": null,
      "id": "855c7ed2",
      "metadata": {
        "id": "855c7ed2"
      },
      "outputs": [],
      "source": [
        "letters = 'abcdefghijklmnopqrstuvwxyz'\n",
        "numbers = range(len(letters))\n",
        "letter_map = dict(zip(letters, numbers))"
      ]
    },
    {
      "cell_type": "markdown",
      "id": "a8cd720b",
      "metadata": {
        "id": "a8cd720b"
      },
      "source": [
        "例えば、`'a'`のインデックスは`0`です。"
      ]
    },
    {
      "cell_type": "code",
      "execution_count": null,
      "id": "3c921f68",
      "metadata": {
        "id": "3c921f68"
      },
      "outputs": [],
      "source": [
        "letter_map['a']"
      ]
    },
    {
      "cell_type": "markdown",
      "id": "a04c25db",
      "metadata": {
        "id": "a04c25db"
      },
      "source": [
        "他の方向に進むには、リストのインデックスを使用できます。たとえば、インデックス`1`にある文字は`'b'`です。"
      ]
    },
    {
      "cell_type": "code",
      "execution_count": null,
      "id": "b029b0da",
      "metadata": {
        "id": "b029b0da"
      },
      "outputs": [],
      "source": [
        "letters[1]"
      ]
    },
    {
      "cell_type": "markdown",
      "id": "165ab770",
      "metadata": {
        "id": "165ab770"
      },
      "source": [
        "To implement the `shift_word` function for a Caesar cipher, we'll follow these steps:\n\n1. Create a list that represents the alphabet so that we can easily determine the position of each letter.\n2. Loop through each character in the string, determine its position in the alphabet, and then apply the shift using the modulus operator to properly wrap around the alphabet.\n3. Construct the encoded word by collecting each shifted character and join them into a new string.\n\nHere's how you can implement this:\n\n```python\ndef shift_word(word, shift):\n    # All lowercase letters in the alphabet\n    letters = 'abcdefghijklmnopqrstuvwxyz'\n    encoded_word = []\n    \n    for char in word:\n        if char in letters:\n            # Find the index of the char in the alphabet\n            original_position = letters.index(char)\n            # Calculate new position with shift, using modulus operator for wrapping\n            new_position = (original_position + shift) % 26\n            # Get the new character from the alphabet\n            new_char = letters[new_position]\n            # Append the new character to the list\n            encoded_word.append(new_char)\n        else:\n            # If the character is not in the alphabet (e.g., a space), leave it unchanged\n            encoded_word.append(char)\n    \n    # Use join to convert list of characters back to a string\n    return ''.join(encoded_word)\n\n# Testing the function\nprint(shift_word(\"cheer\", 7))  # Should output 'jolly'\nprint(shift_word(\"melon\", 16)) # Should output 'cubed'\n```\n\nThis function should work successfully for lowercase letters and shifts the word correctly as per the Caesar cipher rules. The use of the modulus operator ensures that we wrap around to the start of the alphabet when needed."
      ]
    },
    {
      "cell_type": "markdown",
      "id": "e7478b18",
      "metadata": {
        "tags": [],
        "id": "e7478b18"
      },
      "source": [
        "このアウトラインを使用して始めることができます。"
      ]
    },
    {
      "cell_type": "code",
      "execution_count": null,
      "id": "1cc07036",
      "metadata": {
        "tags": [],
        "id": "1cc07036"
      },
      "outputs": [],
      "source": [
        "def shift_word(word, n):\n",
        "    \"\"\"Shift the letters of `word` by `n` places.\n",
        "\n",
        "    >>> shift_word('cheer', 7)\n",
        "    'jolly'\n",
        "    >>> shift_word('melon', 16)\n",
        "    'cubed'\n",
        "    \"\"\"\n",
        "    return None"
      ]
    },
    {
      "cell_type": "code",
      "execution_count": null,
      "id": "96560a0e",
      "metadata": {
        "id": "96560a0e"
      },
      "outputs": [],
      "source": [
        "# Solution goes here"
      ]
    },
    {
      "cell_type": "code",
      "execution_count": null,
      "id": "c026c6d1",
      "metadata": {
        "tags": [],
        "id": "c026c6d1"
      },
      "outputs": [],
      "source": [
        "shift_word('cheer', 7)"
      ]
    },
    {
      "cell_type": "code",
      "execution_count": null,
      "id": "5814999d",
      "metadata": {
        "tags": [],
        "id": "5814999d"
      },
      "outputs": [],
      "source": [
        "shift_word('melon', 16)"
      ]
    },
    {
      "cell_type": "markdown",
      "id": "39a67af9",
      "metadata": {
        "tags": [],
        "id": "39a67af9"
      },
      "source": [
        "あなたの関数をテストするには、`doctest`を使用することができます。"
      ]
    },
    {
      "cell_type": "code",
      "execution_count": null,
      "id": "9464d140",
      "metadata": {
        "tags": [],
        "id": "9464d140"
      },
      "outputs": [],
      "source": [
        "from doctest import run_docstring_examples\n",
        "\n",
        "def run_doctests(func):\n",
        "    run_docstring_examples(func, globals(), name=func.__name__)\n",
        "\n",
        "run_doctests(shift_word)"
      ]
    },
    {
      "cell_type": "markdown",
      "id": "779f13af",
      "metadata": {
        "id": "779f13af"
      },
      "source": [
        "```python\ndef most_frequent_letters(s):\n    # Remove spaces from the string and convert to lowercase\n    s = s.replace(\" \", \"\").lower()\n    \n    # Create a dictionary to count the frequency of each letter\n    frequency_dict = {}\n    \n    for letter in s:\n        if letter in frequency_dict:\n            frequency_dict[letter] += 1\n        else:\n            frequency_dict[letter] = 1\n\n    # Sort the letters based on frequency in decreasing order\n    sorted_letters = sorted(frequency_dict.items(), key=lambda x: x[1], reverse=True)\n    \n    # Print the letters in decreasing order of frequency\n    for letter, frequency in sorted_letters:\n        print(letter)\n\n# Example usage:\nmost_frequent_letters(\"Hello World\")\n```\n\nThis function will process the string \"Hello World\", count the frequency of each letter, and print them sorted by frequency in descending order."
      ]
    },
    {
      "cell_type": "markdown",
      "id": "d71923e6",
      "metadata": {
        "tags": [],
        "id": "d71923e6"
      },
      "source": [
        "この関数のアウトラインを使用して、始めることができます。"
      ]
    },
    {
      "cell_type": "code",
      "execution_count": null,
      "id": "4309d0b5",
      "metadata": {
        "tags": [],
        "id": "4309d0b5"
      },
      "outputs": [],
      "source": [
        "def most_frequent_letters(string):\n",
        "    return None"
      ]
    },
    {
      "cell_type": "code",
      "execution_count": null,
      "id": "52228828",
      "metadata": {
        "id": "52228828"
      },
      "outputs": [],
      "source": [
        "# Solution goes here"
      ]
    },
    {
      "cell_type": "markdown",
      "id": "c6354c44",
      "metadata": {
        "tags": [],
        "id": "c6354c44"
      },
      "source": [
        "この例であなたの機能をテストします。"
      ]
    },
    {
      "cell_type": "code",
      "execution_count": null,
      "id": "3bf2aa0d",
      "metadata": {
        "tags": [],
        "id": "3bf2aa0d"
      },
      "outputs": [],
      "source": [
        "most_frequent_letters('brontosaurus')"
      ]
    },
    {
      "cell_type": "markdown",
      "id": "2ca1e337",
      "metadata": {
        "tags": [],
        "id": "2ca1e337"
      },
      "source": [
        "関数が動作するようになったら、次のコードを使用して、プロジェクト・グーテンベルクからダウンロードできる『ドラキュラ』の中で最も一般的な文字を印刷することができます。"
      ]
    },
    {
      "cell_type": "code",
      "execution_count": null,
      "id": "e4fbf5d9",
      "metadata": {
        "tags": [],
        "id": "e4fbf5d9"
      },
      "outputs": [],
      "source": [
        "download('https://www.gutenberg.org/cache/epub/345/pg345.txt');"
      ]
    },
    {
      "cell_type": "code",
      "execution_count": null,
      "id": "817ec689",
      "metadata": {
        "tags": [],
        "id": "817ec689"
      },
      "outputs": [],
      "source": [
        "string = open('pg345.txt').read()\n",
        "most_frequent_letters(string)"
      ]
    },
    {
      "cell_type": "markdown",
      "id": "211c09c9",
      "metadata": {
        "tags": [],
        "id": "211c09c9"
      },
      "source": [
        "Zim's sequence of \"ETAONRISH\" represents the most frequently used letters in the English language in descending order. When analyzing letter frequency in a specific text like *Dracula*, the order might slightly differ due to the author's style, vocabulary choice, and thematic elements. Common variations could include shifts in the positions of certain letters, such as 'H' or 'I', depending on the author's usage patterns. To determine the exact sequence in *Dracula*, one would need to perform a letter frequency analysis on the text itself and then compare the results to Zim's sequence."
      ]
    },
    {
      "cell_type": "markdown",
      "id": "cbe9933e",
      "metadata": {
        "id": "cbe9933e"
      },
      "source": [
        "### エクササイズ\n\n以前のエクササイズでは、2つの文字列がアナグラムであるかどうかをテストするために、両方の単語の文字をソートし、ソートされた文字が同じかどうかを確認しました。\n今回は問題を少し難しくしましょう。\n\n単語のリストを受け取り、アナグラムとなる単語のセットをすべて出力するプログラムを書きます。\n出力は次のようになるかもしれません：\n\n```\n['deltas', 'desalt', 'lasted', 'salted', 'slated', 'staled']\n['retainers', 'ternaries']\n['generating', 'greatening']\n['resmelts', 'smelters', 'termless']\n```\n\nヒント：単語リストの各単語について、文字をソートしてそれを再度文字列に結合します。このソートされた文字列から、それがアナグラムである単語のリストへのマッピングを行う辞書を作成します。"
      ]
    },
    {
      "cell_type": "markdown",
      "id": "4b9ed2a8",
      "metadata": {
        "tags": [],
        "id": "4b9ed2a8"
      },
      "source": [
        "以下のセルは`words.txt`をダウンロードし、単語をリストに読み込みます。"
      ]
    },
    {
      "cell_type": "code",
      "execution_count": null,
      "id": "941719c1",
      "metadata": {
        "tags": [],
        "id": "941719c1"
      },
      "outputs": [],
      "source": [
        "download('https://raw.githubusercontent.com/AllenDowney/ThinkPython/v3/words.txt');"
      ]
    },
    {
      "cell_type": "code",
      "execution_count": null,
      "id": "d2ec641b",
      "metadata": {
        "tags": [],
        "id": "d2ec641b"
      },
      "outputs": [],
      "source": [
        "word_list = open('words.txt').read().split()"
      ]
    },
    {
      "cell_type": "markdown",
      "id": "e4cc2c8c",
      "metadata": {
        "tags": [],
        "id": "e4cc2c8c"
      },
      "source": [
        "以前に使用した `sort_word` 関数をこちらでご紹介します。"
      ]
    },
    {
      "cell_type": "code",
      "execution_count": null,
      "id": "7ae29f73",
      "metadata": {
        "tags": [],
        "id": "7ae29f73"
      },
      "outputs": [],
      "source": [
        "def sort_word(word):\n",
        "    return ''.join(sorted(word))"
      ]
    },
    {
      "cell_type": "code",
      "execution_count": null,
      "id": "013819a5",
      "metadata": {
        "id": "013819a5"
      },
      "outputs": [],
      "source": [
        "# Solution goes here"
      ]
    },
    {
      "cell_type": "markdown",
      "id": "70faa9f5",
      "metadata": {
        "tags": [],
        "id": "70faa9f5"
      },
      "source": [
        "アナグラムのリストの中で最も長いものを見つけるには、次の関数を使用できます。この関数は、キーが文字列で、値が単語のリストであるキーと値のペアを受け取ります。そして、そのリストの長さを返します。"
      ]
    },
    {
      "cell_type": "code",
      "execution_count": null,
      "id": "fbf9ede3",
      "metadata": {
        "tags": [],
        "id": "fbf9ede3"
      },
      "outputs": [],
      "source": [
        "def value_length(pair):\n",
        "    key, value = pair\n",
        "    return len(value)"
      ]
    },
    {
      "cell_type": "markdown",
      "id": "dcda6e28",
      "metadata": {
        "tags": [],
        "id": "dcda6e28"
      },
      "source": [
        "この関数をソートキーとして使用し、最も長いアナグラムのリストを見つけることができます。"
      ]
    },
    {
      "cell_type": "code",
      "execution_count": null,
      "id": "55435050",
      "metadata": {
        "tags": [],
        "id": "55435050"
      },
      "outputs": [],
      "source": [
        "anagram_items = sorted(anagram_dict.items(), key=value_length)\n",
        "for key, value in anagram_items[-10:]:\n",
        "    print(value)"
      ]
    },
    {
      "cell_type": "markdown",
      "id": "0b6d5add",
      "metadata": {
        "tags": [],
        "id": "0b6d5add"
      },
      "source": [
        "アナグラムを持つ最長の単語を知りたい場合、以下のループを使用していくつかを表示することができます。"
      ]
    },
    {
      "cell_type": "code",
      "execution_count": null,
      "id": "6a9320c2",
      "metadata": {
        "tags": [],
        "id": "6a9320c2"
      },
      "outputs": [],
      "source": [
        "longest = 7\n",
        "\n",
        "for key, value in anagram_items:\n",
        "    if len(value) > 1:\n",
        "        word_len = len(value[0])\n",
        "        if word_len > longest:\n",
        "            longest = word_len\n",
        "            print(value)"
      ]
    },
    {
      "cell_type": "markdown",
      "id": "4fbe939e",
      "metadata": {
        "id": "4fbe939e"
      },
      "source": [
        "```python\ndef word_distance(word1, word2):\n    return sum(1 for a, b in zip(word1, word2) if a != b)\n\n# Example usage:\n# result = word_distance(\"hello\", \"hxllo\")\n# This would return 1 since the words differ by the second letter.\n```\n\nこの関数は、与えられた2つの単語の異なる文字の位置数を返します。`zip`を使用して、2つの単語の対応する文字をループし、異なる文字のペアがあればカウントします。"
      ]
    },
    {
      "cell_type": "markdown",
      "id": "8b48dbdc",
      "metadata": {
        "tags": [],
        "id": "8b48dbdc"
      },
      "source": [
        "以下は、関数のアウトラインと、その関数をチェックするために使用できるdoctestの一例です。\n\n```python\ndef your_function_name(args):\n    \"\"\"\n    ここに関数の説明を書きます。\n\n    >>> your_function_name(test_input1)\n    expected_output1\n\n    >>> your_function_name(test_input2)\n    expected_output2\n    \"\"\"\n    # 関数の実装をここに書きます\n```\n\ndoctestを使うことで、関数の説明の中で実際の入力と期待される出力を示すことができます。そして、`doctest`モジュールを使って関数をテストすることができます。このテストは、関数が正しく動作するかどうかを確認するのに便利です。"
      ]
    },
    {
      "cell_type": "code",
      "execution_count": null,
      "id": "3d5a75f8",
      "metadata": {
        "tags": [],
        "id": "3d5a75f8"
      },
      "outputs": [],
      "source": [
        "def word_distance(word1, word2):\n",
        "    \"\"\"Computes the number of places where two word differ.\n",
        "\n",
        "    >>> word_distance(\"hello\", \"hxllo\")\n",
        "    1\n",
        "    >>> word_distance(\"ample\", \"apply\")\n",
        "    2\n",
        "    >>> word_distance(\"kitten\", \"mutton\")\n",
        "    3\n",
        "    \"\"\"\n",
        "    return None"
      ]
    },
    {
      "cell_type": "code",
      "execution_count": null,
      "id": "a9816dde",
      "metadata": {
        "id": "a9816dde"
      },
      "outputs": [],
      "source": [
        "# Solution goes here"
      ]
    },
    {
      "cell_type": "code",
      "execution_count": null,
      "id": "753a23c1",
      "metadata": {
        "tags": [],
        "id": "753a23c1"
      },
      "outputs": [],
      "source": [
        "from doctest import run_docstring_examples\n",
        "\n",
        "def run_doctests(func):\n",
        "    run_docstring_examples(func, globals(), name=func.__name__)\n",
        "\n",
        "run_doctests(word_distance)"
      ]
    },
    {
      "cell_type": "markdown",
      "id": "066eec59",
      "metadata": {
        "id": "066eec59"
      },
      "source": [
        "### 演習\n\n「メタセシス」とは、単語内の文字を入れ替えることです。\n2つの単語が「メタセシスペア」を形成するのは、`converse` と `conserve` のように、2文字を入れ替えることで一方を他方に変換できる場合です。\n単語リスト内のすべてのメタセシスペアを見つけるプログラムを書いてください。\n\nヒント: メタセシスペアの単語は、お互いのアナグラムでなければなりません。\n\nクレジット: この演習は <http://puzzlers.org> の例に触発されています。"
      ]
    },
    {
      "cell_type": "code",
      "execution_count": null,
      "id": "57649075",
      "metadata": {
        "id": "57649075"
      },
      "outputs": [],
      "source": [
        "# Solution goes here"
      ]
    },
    {
      "cell_type": "markdown",
      "id": "6a028806",
      "metadata": {
        "tags": [],
        "id": "6a028806"
      },
      "source": [
        "### 演習\n\nこれは本に載っていないボーナス課題です。  \nこの章の他の演習よりも難易度が高いため、バーチャルアシスタントに助けを求めるか、数章読み進めた後で挑戦すると良いでしょう。\n\n以下はCar Talkのパズラーの一例です（<http://www.cartalk.com/content/puzzlers>）：\n\n> 英単語を1文字ずつ削除していくとき、最も長く有効な英単語はどれでしょうか？\n>\n> 文字は端からでも真ん中からでも削除できますが、並び替えはできません。\n> 毎回1文字削除するたびに、別の有効な英単語になります。\n> そうして続けていくと、最終的には1文字の英単語になり、それも辞書に載っている単語なわけです。\n> 最も長い単語とその文字数を教えてください。\n>\n> 小さな例を挙げましょう：Spriteです。Spriteを使い始め、単語の内部から1文字削除します。\n> rを取り除くと、spiteという語が残ります。次に末尾からeを取り除くと、spitが残ります。\n> sを取り除くと、pitが残り、次にit、そして最後にIです。\n\nこのように削減できるすべての単語を見つけ、その中で最も長いものを探すプログラムを書いてください。\n\nこの演習は他の演習より少し難しいので、以下の提案を参考にしてください：\n\n1. 特定の単語を受け取り、1文字削除してできるすべての単語のリストを計算する関数を書きましょう。これらは単語の「子供」となります。\n\n2. 再帰的に、いずれかの子供が削減可能であれば、その単語も削減可能です。  \n   ベースケースとして、空の文字列を削減可能とみなすことができます。\n\n3. 今使っている単語リストには1文字の単語が含まれていません。  \n   したがって「I」と「a」を追加する必要があるかもしれません。\n\n4. プログラムのパフォーマンスを向上させるために、削減可能と既知の単語をメモ化することを検討するとよいでしょう。"
      ]
    },
    {
      "cell_type": "code",
      "execution_count": null,
      "id": "c19bf833",
      "metadata": {
        "id": "c19bf833"
      },
      "outputs": [],
      "source": [
        "# Solution goes here"
      ]
    },
    {
      "cell_type": "code",
      "execution_count": null,
      "id": "2d9764d6",
      "metadata": {
        "id": "2d9764d6"
      },
      "outputs": [],
      "source": [
        "# Solution goes here"
      ]
    },
    {
      "cell_type": "code",
      "execution_count": null,
      "id": "5e4f5d8e",
      "metadata": {
        "id": "5e4f5d8e"
      },
      "outputs": [],
      "source": [
        "# Solution goes here"
      ]
    },
    {
      "cell_type": "code",
      "execution_count": null,
      "id": "27d311dd",
      "metadata": {
        "id": "27d311dd"
      },
      "outputs": [],
      "source": [
        "# Solution goes here"
      ]
    },
    {
      "cell_type": "code",
      "execution_count": null,
      "id": "68c27c7e",
      "metadata": {
        "id": "68c27c7e"
      },
      "outputs": [],
      "source": [
        "# Solution goes here"
      ]
    },
    {
      "cell_type": "markdown",
      "id": "a7f4edf8",
      "metadata": {
        "tags": [],
        "id": "a7f4edf8"
      },
      "source": [
        "『Think Python: 第3版』(https://allendowney.github.io/ThinkPython/index.html)\n\n著作権 2024 [Allen B. Downey](https://allendowney.com)\n\nコードライセンス: [MITライセンス](https://mit-license.org/)\n\nテキストライセンス: [クリエイティブ・コモンズ 表示-非営利-継承 4.0 国際](https://creativecommons.org/licenses/by-nc-sa/4.0/)"
      ]
    }
  ],
  "metadata": {
    "celltoolbar": "Tags",
    "kernelspec": {
      "display_name": "Python 3 (ipykernel)",
      "language": "python",
      "name": "python3"
    },
    "language_info": {
      "codemirror_mode": {
        "name": "ipython",
        "version": 3
      },
      "file_extension": ".py",
      "mimetype": "text/x-python",
      "name": "python",
      "nbconvert_exporter": "python",
      "pygments_lexer": "ipython3",
      "version": "3.10.11"
    },
    "colab": {
      "provenance": []
    }
  },
  "nbformat": 4,
  "nbformat_minor": 5
}