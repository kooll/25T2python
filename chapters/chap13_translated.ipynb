{
  "cells": [
    {
      "cell_type": "markdown",
      "metadata": {
        "id": "view-in-github",
        "colab_type": "text"
      },
      "source": [
        "<a href=\"https://colab.research.google.com/github/kooll/ThinkPythonJ/blob/main/chapters/chap13_translated.ipynb\" target=\"_parent\"><img src=\"https://colab.research.google.com/assets/colab-badge.svg\" alt=\"Open In Colab\"/></a>"
      ]
    },
    {
      "cell_type": "markdown",
      "id": "1331faa1",
      "metadata": {
        "id": "1331faa1"
      },
      "source": [
        "*Think Python 3e*の印刷版および電子書籍版は、[Bookshop.org](https://bookshop.org/a/98697/9781098155438)および[Amazon](https://www.amazon.com/_/dp/1098155432?smid=ATVPDKIKX0DER&_encoding=UTF8&tag=oreilly20-20&_encoding=UTF8&tag=greenteapre01-20&linkCode=ur2&linkId=e2a529f94920295d27ec8a06e757dc7c&camp=1789&creative=9325)から注文できます。"
      ]
    },
    {
      "cell_type": "code",
      "execution_count": null,
      "id": "31b6f97a",
      "metadata": {
        "tags": [],
        "id": "31b6f97a"
      },
      "outputs": [],
      "source": [
        "from os.path import basename, exists\n",
        "\n",
        "def download(url):\n",
        "    filename = basename(url)\n",
        "    if not exists(filename):\n",
        "        from urllib.request import urlretrieve\n",
        "\n",
        "        local, _ = urlretrieve(url, filename)\n",
        "        print(\"Downloaded \" + str(local))\n",
        "    return filename\n",
        "\n",
        "download('https://github.com/AllenDowney/ThinkPython/raw/v3/thinkpython.py');\n",
        "download('https://github.com/AllenDowney/ThinkPython/raw/v3/diagram.py');\n",
        "\n",
        "import thinkpython"
      ]
    },
    {
      "cell_type": "markdown",
      "id": "c3ee5c27",
      "metadata": {
        "tags": [],
        "id": "c3ee5c27"
      },
      "source": [
        "クレジット: 写真は[Lorem Picsum](https://picsum.photos/)からダウンロードしました。このサービスはプレースホルダー画像を提供しています。名前は、プレースホルダーテキストとして使われる \"lorem ipsum\" にちなんでいます。"
      ]
    },
    {
      "cell_type": "code",
      "execution_count": null,
      "id": "9b246dc6",
      "metadata": {
        "tags": [],
        "id": "9b246dc6"
      },
      "outputs": [],
      "source": [
        "# This cell downloads an archive file that contains the the files we'll\n",
        "# use for the examples in this chapter.\n",
        "\n",
        "download('https://github.com/AllenDowney/ThinkPython/raw/v3/photos.zip');"
      ]
    },
    {
      "cell_type": "code",
      "execution_count": null,
      "id": "23792899",
      "metadata": {
        "tags": [],
        "id": "23792899"
      },
      "outputs": [],
      "source": [
        "# WARNING: This cell removes the photos/ directory if it already exists.\n",
        "# Any files already in the photos/ directory will be deleted.\n",
        "\n",
        "# !rm -rf photos/"
      ]
    },
    {
      "cell_type": "code",
      "execution_count": null,
      "id": "713dfeb0",
      "metadata": {
        "tags": [],
        "id": "713dfeb0"
      },
      "outputs": [],
      "source": [
        "!unzip -o photos.zip"
      ]
    },
    {
      "cell_type": "markdown",
      "id": "92934cb0",
      "metadata": {
        "id": "92934cb0"
      },
      "source": [
        "# ファイルとデータベース\n",
        "\n",
        "これまでに見てきたプログラムのほとんどは、実行時間が短く出力を生成するだけで、終了するとそのデータは消えてしまうという意味で、**一時的** なものでした。一時的なプログラムは実行するたびにクリーンな状態からスタートします。\n",
        "\n",
        "一方で、他のプログラムは **持続的** です。これらは長時間（または常時）実行され、データの少なくとも一部を長期保存し、シャットダウンして再起動しても、停止したところから作業を再開できます。\n",
        "\n",
        "プログラムがデータを保持する簡単な方法は、テキストファイルを読み書きすることです。もっと多機能な代替手段としては、データをデータベースに保存することです。データベースは、テキストファイルよりも効率的に読み書きができ、追加の機能を提供する特化したファイルです。\n",
        "\n",
        "この章では、テキストファイルやデータベースを読み書きするプログラムを書きます。また、演習として、写真のコレクションから重複を検索するプログラムを書いてみましょう。でも、ファイルを扱う前に、まずはファイル名、パス、ディレクトリについて理解する必要があります。"
      ]
    },
    {
      "cell_type": "markdown",
      "id": "75cec7ca",
      "metadata": {
        "id": "75cec7ca"
      },
      "source": [
        "## ファイル名とパス\n",
        "\n",
        "ファイルは**ディレクトリ**（フォルダとも呼ばれます）に整理されています。\n",
        "実行中のプログラムには**現在の作業ディレクトリ**があり、ほとんどの操作のデフォルトディレクトリとして機能します。\n",
        "たとえば、ファイルを開くとき、Pythonは現在の作業ディレクトリ内でファイルを探します。\n",
        "\n",
        "`os`モジュールは、ファイルやディレクトリを操作するための機能を提供します（「os」は「オペレーティングシステム」を意味します）。\n",
        "このモジュールには、現在の作業ディレクトリの名前を取得する`getcwd`という関数が用意されています。"
      ]
    },
    {
      "cell_type": "code",
      "execution_count": null,
      "id": "4fdb528a",
      "metadata": {
        "tags": [],
        "id": "4fdb528a"
      },
      "outputs": [],
      "source": [
        "# this cell replaces `os.cwd` with a function that returns a fake path\n",
        "\n",
        "import os\n",
        "\n",
        "def getcwd():\n",
        "    return \"/home/dinsdale\"\n",
        "\n",
        "os.getcwd = getcwd"
      ]
    },
    {
      "cell_type": "code",
      "execution_count": null,
      "id": "c7b209f6",
      "metadata": {
        "id": "c7b209f6"
      },
      "outputs": [],
      "source": [
        "import os\n",
        "\n",
        "os.getcwd()"
      ]
    },
    {
      "cell_type": "markdown",
      "id": "6c55575f",
      "metadata": {
        "id": "6c55575f"
      },
      "source": [
        "この例の結果は、`dinsdale` という名前のユーザーのホームディレクトリです。`'/home/dinsdale'`のようにファイルやディレクトリを識別する文字列は、**パス**と呼ばれます。\n",
        "\n",
        "単純なファイル名である `'memo.txt'` もパスと見なされますが、これは現在のディレクトリに対する相対的なファイル名を指定しているため、**相対パス**と呼ばれます。この例では、現在のディレクトリは `/home/dinsdale` なので、`'memo.txt'` は完全なパス `'/home/dinsdale/memo.txt'` と同等です。\n",
        "\n",
        "`/` で始まるパスは、現在のディレクトリに依存しないため、**絶対パス**と呼ばれます。ファイルへの絶対パスを見つけるためには、`abspath` を使用できます。"
      ]
    },
    {
      "cell_type": "code",
      "execution_count": null,
      "id": "66a15e44",
      "metadata": {
        "id": "66a15e44"
      },
      "outputs": [],
      "source": [
        "os.path.abspath('memo.txt')"
      ]
    },
    {
      "cell_type": "markdown",
      "id": "f1a0cf04",
      "metadata": {
        "id": "f1a0cf04"
      },
      "source": [
        "`os`モジュールは、ファイル名やパスを扱うための他の機能も提供しています。\n",
        "`listdir`は、指定したディレクトリの内容をリストとして返し、ファイルや他のディレクトリも含まれます。\n",
        "以下は、`photos`という名前のディレクトリの内容を列挙する例です。"
      ]
    },
    {
      "cell_type": "code",
      "execution_count": null,
      "id": "a22d2675",
      "metadata": {
        "id": "a22d2675"
      },
      "outputs": [],
      "source": [
        "os.listdir('photos')"
      ]
    },
    {
      "cell_type": "markdown",
      "id": "ab160f29",
      "metadata": {
        "id": "ab160f29"
      },
      "source": [
        "このディレクトリには、`notes.txt`という名前のテキストファイルと3つのディレクトリが含まれています。ディレクトリにはJPEG形式の画像ファイルが含まれています。"
      ]
    },
    {
      "cell_type": "code",
      "execution_count": null,
      "id": "a217eac7",
      "metadata": {
        "id": "a217eac7"
      },
      "outputs": [],
      "source": [
        "os.listdir('photos/jan-2023')"
      ]
    },
    {
      "cell_type": "markdown",
      "id": "06b27c85",
      "metadata": {
        "id": "06b27c85"
      },
      "source": [
        "ファイルやディレクトリが存在するかどうかを確認するには、`os.path.exists`を使用できます。"
      ]
    },
    {
      "cell_type": "code",
      "execution_count": null,
      "id": "aa56aeac",
      "metadata": {
        "id": "aa56aeac"
      },
      "outputs": [],
      "source": [
        "os.path.exists('photos')"
      ]
    },
    {
      "cell_type": "code",
      "execution_count": null,
      "id": "9049009a",
      "metadata": {
        "id": "9049009a"
      },
      "outputs": [],
      "source": [
        "os.path.exists('photos/apr-2023')"
      ]
    },
    {
      "cell_type": "markdown",
      "id": "d41f235c",
      "metadata": {
        "id": "d41f235c"
      },
      "source": [
        "パスがファイルかディレクトリかを確認するには、`isdir`を使用できます。この関数は、パスがディレクトリを指している場合に`True`を返します。"
      ]
    },
    {
      "cell_type": "code",
      "execution_count": null,
      "id": "0feddb06",
      "metadata": {
        "id": "0feddb06"
      },
      "outputs": [],
      "source": [
        "os.path.isdir('photos')"
      ]
    },
    {
      "cell_type": "markdown",
      "id": "4bd70cc9",
      "metadata": {
        "id": "4bd70cc9"
      },
      "source": [
        "そして、`isfile` はパスがファイルを指している場合に `True` を返します。"
      ]
    },
    {
      "cell_type": "code",
      "execution_count": null,
      "id": "e9f6a762",
      "metadata": {
        "id": "e9f6a762"
      },
      "outputs": [],
      "source": [
        "os.path.isfile('photos/notes.txt')"
      ]
    },
    {
      "cell_type": "markdown",
      "id": "c6933c18",
      "metadata": {
        "id": "c6933c18"
      },
      "source": [
        "パスを扱う際の課題の一つは、異なるオペレーティングシステムで見た目が異なることです。  \n",
        "macOSやLinuxのようなUNIXシステムでは、パス内のディレクトリやファイル名はスラッシュ（`/`）で区切られます。  \n",
        "Windowsではバックスラッシュ（`\\`）が使用されます。  \n",
        "したがって、これらの例をWindows上で実行すると、パスにバックスラッシュが表示され、例の中のスラッシュを置き換える必要があります。\n",
        "\n",
        "また、両方のシステムで動作するコードを書くためには、`os.path.join`を使用できます。これを使うと、使用するオペレーティングシステムに応じてスラッシュまたはバックスラッシュを使用して、ディレクトリとファイル名を結合してパスを作成できます。"
      ]
    },
    {
      "cell_type": "code",
      "execution_count": null,
      "id": "eb738376",
      "metadata": {
        "id": "eb738376"
      },
      "outputs": [],
      "source": [
        "os.path.join('photos', 'jan-2023', 'photo1.jpg')"
      ]
    },
    {
      "cell_type": "markdown",
      "id": "0a665cf9",
      "metadata": {
        "id": "0a665cf9"
      },
      "source": [
        "この章の後半では、これらの関数を使用してディレクトリのセットを検索し、すべての画像ファイルを見つけます。"
      ]
    },
    {
      "cell_type": "markdown",
      "id": "31a96ba4",
      "metadata": {
        "id": "31a96ba4"
      },
      "source": [
        "## f-strings\n",
        "\n",
        "プログラムがデータを保存する方法の一つとして、テキストファイルに書き込むというものがあります。\n",
        "例えば、あなたがラクダ観察者で、観察期間中に見たラクダの数を記録したいとします。\n",
        "1年半の間に23頭のラクダを見つけたとしましょう。\n",
        "あなたのラクダ観察ノートのデータはこのようになるかもしれません。"
      ]
    },
    {
      "cell_type": "code",
      "execution_count": null,
      "id": "23e7a6a4",
      "metadata": {
        "id": "23e7a6a4"
      },
      "outputs": [],
      "source": [
        "num_years = 1.5\n",
        "num_camels = 23"
      ]
    },
    {
      "cell_type": "markdown",
      "id": "f652aaac",
      "metadata": {
        "id": "f652aaac"
      },
      "source": [
        "このデータをファイルに書き込むには、第8章で見たように、`write`メソッドを使用できます。`write`の引数は文字列である必要があるので、他の値をファイルに入れたい場合は、それらを文字列に変換する必要があります。これを行う最も簡単な方法は、組み込み関数`str`を使用することです。\n",
        "\n",
        "以下にその例を示します。"
      ]
    },
    {
      "cell_type": "code",
      "execution_count": null,
      "id": "174d4f83",
      "metadata": {
        "id": "174d4f83"
      },
      "outputs": [],
      "source": [
        "writer = open('camel-spotting-book.txt', 'w')\n",
        "writer.write(str(num_years))\n",
        "writer.write(str(num_camels))\n",
        "writer.close()"
      ]
    },
    {
      "cell_type": "markdown",
      "id": "307c22d2",
      "metadata": {
        "id": "307c22d2"
      },
      "source": [
        "それは動作しますが、`write`は明示的に指定しない限りスペースや改行を追加しません。\n",
        "ファイルを読み返すと、2つの数字が連続しているのがわかります。"
      ]
    },
    {
      "cell_type": "code",
      "execution_count": null,
      "id": "5209eda3",
      "metadata": {
        "id": "5209eda3"
      },
      "outputs": [],
      "source": [
        "open('camel-spotting-book.txt').read()"
      ]
    },
    {
      "cell_type": "markdown",
      "id": "8008ecdc",
      "metadata": {
        "id": "8008ecdc"
      },
      "source": [
        "少なくとも、数字の間にスペースを追加するべきです。\n",
        "ついでに、いくつかの説明文も追加しましょう。\n",
        "\n",
        "文字列と他の値の組み合わせを書くためには、**f-string**を使用できます。これは、開く引用符の前に `f` という文字があり、中括弧内に1つ以上のPython式を含む文字列です。\n",
        "以下のf-stringは1つの式を含んでおり、これは変数名です。"
      ]
    },
    {
      "cell_type": "code",
      "execution_count": null,
      "id": "0f202d66",
      "metadata": {
        "id": "0f202d66"
      },
      "outputs": [],
      "source": [
        "f'I have spotted {num_camels} camels'"
      ]
    },
    {
      "cell_type": "markdown",
      "id": "a3fb0556",
      "metadata": {
        "id": "a3fb0556"
      },
      "source": [
        "結果は、式が評価され、その結果に置き換えられた文字列です。式は複数含まれる場合があります。"
      ]
    },
    {
      "cell_type": "code",
      "execution_count": null,
      "id": "33c5f77f",
      "metadata": {
        "id": "33c5f77f"
      },
      "outputs": [],
      "source": [
        "f'In {num_years} years I have spotted {num_camels} camels'"
      ]
    },
    {
      "cell_type": "markdown",
      "id": "bace1539",
      "metadata": {
        "id": "bace1539"
      },
      "source": [
        "そして、式は演算子や関数呼び出しを含むことができます。"
      ]
    },
    {
      "cell_type": "code",
      "execution_count": null,
      "id": "1fe7111c",
      "metadata": {
        "id": "1fe7111c"
      },
      "outputs": [],
      "source": [
        "line = f'In {round(num_years * 12)} months I have spotted {num_camels} camels'\n",
        "line"
      ]
    },
    {
      "cell_type": "markdown",
      "id": "bc6fa094",
      "metadata": {
        "id": "bc6fa094"
      },
      "source": [
        "このようにデータをテキストファイルに書き込むことができます。"
      ]
    },
    {
      "cell_type": "code",
      "execution_count": null,
      "id": "bc06e90a",
      "metadata": {
        "id": "bc06e90a"
      },
      "outputs": [],
      "source": [
        "writer = open('camel-spotting-book.txt', 'w')\n",
        "writer.write(f'Years of observation: {num_years}\\n')\n",
        "writer.write(f'Camels spotted: {num_camels}\\n')\n",
        "writer.close()"
      ]
    },
    {
      "cell_type": "markdown",
      "id": "f916d561",
      "metadata": {
        "id": "f916d561"
      },
      "source": [
        "両方のf文字列は、`\\n`のシーケンスで終わるため、改行文字が追加されます。\n",
        "\n",
        "ファイルを次のように読み戻すことができます。"
      ]
    },
    {
      "cell_type": "code",
      "execution_count": null,
      "id": "8d9eaf8d",
      "metadata": {
        "id": "8d9eaf8d"
      },
      "outputs": [],
      "source": [
        "data = open('camel-spotting-book.txt').read()\n",
        "print(data)"
      ]
    },
    {
      "cell_type": "markdown",
      "id": "c3bf6913",
      "metadata": {
        "id": "c3bf6913"
      },
      "source": [
        "f文字列では、中括弧内の式が文字列に変換されるため、リストや辞書、その他の型を含めることができます。"
      ]
    },
    {
      "cell_type": "code",
      "execution_count": null,
      "id": "ae3060c1",
      "metadata": {
        "id": "ae3060c1"
      },
      "outputs": [],
      "source": [
        "t = [1, 2, 3]\n",
        "d = {'one': 1}\n",
        "f'Here is a list {t} and a dictionary {d}'"
      ]
    },
    {
      "cell_type": "markdown",
      "id": "838ef132",
      "metadata": {
        "tags": [],
        "id": "838ef132"
      },
      "source": [
        "f文字列に無効な式が含まれている場合、エラーが発生します。"
      ]
    },
    {
      "cell_type": "code",
      "execution_count": null,
      "id": "26ca3d1b",
      "metadata": {
        "tags": [],
        "id": "26ca3d1b"
      },
      "outputs": [],
      "source": [
        "%%expect TypeError\n",
        "\n",
        "f'This is not a valid expression {t + 2}'"
      ]
    },
    {
      "cell_type": "markdown",
      "id": "cbbaaed3",
      "metadata": {
        "id": "cbbaaed3"
      },
      "source": [
        "プログラムがファイルを読み書きする理由の一つに、**設定データ**の保存があります。これは、プログラムが何をすべきか、どのように動作するべきかを指定する情報です。\n",
        "\n",
        "例えば、重複する写真を検索するプログラムでは、検索すべきディレクトリ名、結果を保存するべき別のディレクトリ名、画像ファイルを識別するために使用するファイル拡張子のリストを含む`config`という辞書を持っているかもしれません。\n",
        "\n",
        "それは次のように見えるかもしれません："
      ]
    },
    {
      "cell_type": "code",
      "execution_count": null,
      "id": "5bb69e1a",
      "metadata": {
        "id": "5bb69e1a"
      },
      "outputs": [],
      "source": [
        "config = {\n",
        "    'photo_dir': 'photos',\n",
        "    'data_dir': 'photo_info',\n",
        "    'extensions': ['jpg', 'jpeg'],\n",
        "}"
      ]
    },
    {
      "cell_type": "markdown",
      "id": "1667bb96",
      "metadata": {
        "id": "1667bb96"
      },
      "source": [
        "このデータをテキストファイルに書き込むには、前のセクションで示したようにf文字列を使用することもできますが、このような目的に特化した`yaml`というモジュールを使う方が簡単です。\n",
        "\n",
        "`yaml`モジュールは、YAMLファイルを扱うための関数を提供します。YAMLファイルは、人間やプログラムが読み書きしやすいようにフォーマットされたテキストファイルです。\n",
        "\n",
        "以下は、`config`辞書をYAMLファイルに書き込むために`dump`関数を使用する例です。"
      ]
    },
    {
      "cell_type": "code",
      "execution_count": null,
      "id": "0090a29f",
      "metadata": {
        "tags": [],
        "id": "0090a29f"
      },
      "outputs": [],
      "source": [
        "# this cell installs the pyyaml package, which provides the yaml module\n",
        "\n",
        "try:\n",
        "    import yaml\n",
        "except ImportError:\n",
        "    !pip install pyyaml"
      ]
    },
    {
      "cell_type": "code",
      "execution_count": null,
      "id": "97079479",
      "metadata": {
        "id": "97079479"
      },
      "outputs": [],
      "source": [
        "import yaml\n",
        "\n",
        "config_filename = 'config.yaml'\n",
        "writer = open(config_filename, 'w')\n",
        "yaml.dump(config, writer)\n",
        "writer.close()"
      ]
    },
    {
      "cell_type": "markdown",
      "id": "92d1b7ff",
      "metadata": {
        "id": "92d1b7ff"
      },
      "source": [
        "ファイルの内容を読み返すと、YAML形式がどのようなものかを見ることができます。"
      ]
    },
    {
      "cell_type": "code",
      "execution_count": null,
      "id": "8646dd2f",
      "metadata": {
        "id": "8646dd2f"
      },
      "outputs": [],
      "source": [
        "readback = open(config_filename).read()\n",
        "print(readback)"
      ]
    },
    {
      "cell_type": "markdown",
      "id": "33cdfd2c",
      "metadata": {
        "id": "33cdfd2c"
      },
      "source": [
        "これで、`safe_load` を使用して YAML ファイルを読み込むことができます。"
      ]
    },
    {
      "cell_type": "code",
      "execution_count": null,
      "id": "e8ce2e4f",
      "metadata": {
        "id": "e8ce2e4f"
      },
      "outputs": [],
      "source": [
        "reader = open(config_filename)\n",
        "config_readback = yaml.safe_load(reader)\n",
        "config_readback"
      ]
    },
    {
      "cell_type": "markdown",
      "id": "ca55764f",
      "metadata": {
        "id": "ca55764f"
      },
      "source": [
        "結果として、新しい辞書が作成され、それは元の辞書と同じ情報を含んでいますが、同じ辞書ではありません。"
      ]
    },
    {
      "cell_type": "code",
      "execution_count": null,
      "id": "871d6ad5",
      "metadata": {
        "id": "871d6ad5"
      },
      "outputs": [],
      "source": [
        "config is config_readback"
      ]
    },
    {
      "cell_type": "markdown",
      "id": "969ad306",
      "metadata": {
        "id": "969ad306"
      },
      "source": [
        "辞書のようなオブジェクトを文字列に変換することを**シリアライズ**と呼びます。  \n",
        "文字列を再びオブジェクトに変換することを**デシリアライズ**と呼びます。  \n",
        "オブジェクトをシリアライズしてデシリアライズすると、その結果は元のオブジェクトと同等であるべきです。"
      ]
    },
    {
      "cell_type": "markdown",
      "id": "5e130cf8",
      "metadata": {
        "id": "5e130cf8"
      },
      "source": [
        "## Shelve\n",
        "\n",
        "これまで、テキストファイルの読み書きを行ってきましたが、ここでデータベースを考えてみましょう。\n",
        "**データベース**とは、データを保存するために組織化されたファイルのことです。\n",
        "データベースの中には、情報の行と列があるテーブルのように組織化されたものもあれば、キーから値へのマッピングのように組織化された辞書のようなものもあります。これらは**キー・バリュー・ストア**と呼ばれることもあります。\n",
        "\n",
        "`shelve`モジュールは、「シェルフ」と呼ばれるキー・バリュー・ストアを作成および更新するための関数を提供しています。\n",
        "例として、`photos`ディレクトリ内の図のキャプションを含むシェルフを作成します。\n",
        "シェルフを配置するディレクトリの名前を取得するために、`config`辞書を使用します。"
      ]
    },
    {
      "cell_type": "code",
      "execution_count": null,
      "id": "70a6d625",
      "metadata": {
        "id": "70a6d625"
      },
      "outputs": [],
      "source": [
        "config['data_dir']"
      ]
    },
    {
      "cell_type": "markdown",
      "id": "3e6cfb65",
      "metadata": {
        "id": "3e6cfb65"
      },
      "source": [
        "このディレクトリがまだ存在しない場合、`os.makedirs`を使用して作成することができます。"
      ]
    },
    {
      "cell_type": "code",
      "execution_count": null,
      "id": "fd070fa7",
      "metadata": {
        "id": "fd070fa7"
      },
      "outputs": [],
      "source": [
        "os.makedirs(config['data_dir'], exist_ok=True)"
      ]
    },
    {
      "cell_type": "markdown",
      "id": "6352f83f",
      "metadata": {
        "id": "6352f83f"
      },
      "source": [
        "そして、ディレクトリ名とシェルフファイル名「captions」を含むパスを作成するために、`os.path.join`を使用します。"
      ]
    },
    {
      "cell_type": "code",
      "execution_count": null,
      "id": "f5aeb7ab",
      "metadata": {
        "id": "f5aeb7ab"
      },
      "outputs": [],
      "source": [
        "db_file = os.path.join(config['data_dir'], 'captions')\n",
        "db_file"
      ]
    },
    {
      "cell_type": "markdown",
      "id": "cbb08679",
      "metadata": {
        "id": "cbb08679"
      },
      "source": [
        "これで、`shelve.open`を使用してシェルフファイルを開くことができます。引数`c`は、必要に応じてファイルを作成することを示しています。"
      ]
    },
    {
      "cell_type": "code",
      "execution_count": null,
      "id": "291ea875",
      "metadata": {
        "id": "291ea875"
      },
      "outputs": [],
      "source": [
        "import shelve\n",
        "\n",
        "db = shelve.open(db_file, 'c')\n",
        "db"
      ]
    },
    {
      "cell_type": "markdown",
      "id": "0e4a2fb3",
      "metadata": {
        "id": "0e4a2fb3"
      },
      "source": [
        "戻り値は公式には `DbfilenameShelf` オブジェクトであり、よりカジュアルにはシェルフオブジェクトと呼ばれます。\n",
        "\n",
        "シェルフオブジェクトは多くの点で辞書のように振る舞います。例えば、ブラケット演算子を使用してアイテムを追加できます。これはキーと値のマッピングです。"
      ]
    },
    {
      "cell_type": "code",
      "execution_count": null,
      "id": "b3f6d6ce",
      "metadata": {
        "id": "b3f6d6ce"
      },
      "outputs": [],
      "source": [
        "key = 'jan-2023/photo1.jpg'\n",
        "db[key] = 'Cat nose'"
      ]
    },
    {
      "cell_type": "markdown",
      "id": "36fd5e3a",
      "metadata": {
        "id": "36fd5e3a"
      },
      "source": [
        "この例では、キーが画像ファイルへのパスであり、値が画像を説明する文字列です。\n",
        "\n",
        "また、ブラケット演算子を使用してキーを検索し、対応する値を取得します。"
      ]
    },
    {
      "cell_type": "code",
      "execution_count": null,
      "id": "d4e06b19",
      "metadata": {
        "id": "d4e06b19"
      },
      "outputs": [],
      "source": [
        "value = db[key]\n",
        "value"
      ]
    },
    {
      "cell_type": "markdown",
      "id": "e9b252a7",
      "metadata": {
        "id": "e9b252a7"
      },
      "source": [
        "既存のキーに別の値を割り当てると、`shelve`は古い値を置き換えます。"
      ]
    },
    {
      "cell_type": "code",
      "execution_count": null,
      "id": "89a0936c",
      "metadata": {
        "id": "89a0936c"
      },
      "outputs": [],
      "source": [
        "db[key] = 'Close up view of a cat nose'\n",
        "db[key]"
      ]
    },
    {
      "cell_type": "markdown",
      "id": "003eacbc",
      "metadata": {
        "id": "003eacbc"
      },
      "source": [
        "`keys`、`values`、`items`のような一部の辞書メソッドは、shelfオブジェクトでも機能します。"
      ]
    },
    {
      "cell_type": "code",
      "execution_count": null,
      "id": "7d0c4cff",
      "metadata": {
        "id": "7d0c4cff"
      },
      "outputs": [],
      "source": [
        "list(db.keys())"
      ]
    },
    {
      "cell_type": "code",
      "execution_count": null,
      "id": "a9db327d",
      "metadata": {
        "id": "a9db327d"
      },
      "outputs": [],
      "source": [
        "list(db.values())"
      ]
    },
    {
      "cell_type": "markdown",
      "id": "056e0bd9",
      "metadata": {
        "id": "056e0bd9"
      },
      "source": [
        "`in` 演算子を使用して、棚にキーが存在するかどうかを確認できます。"
      ]
    },
    {
      "cell_type": "code",
      "execution_count": null,
      "id": "cc81ed95",
      "metadata": {
        "id": "cc81ed95"
      },
      "outputs": [],
      "source": [
        "key in db"
      ]
    },
    {
      "cell_type": "markdown",
      "id": "982740b4",
      "metadata": {
        "id": "982740b4"
      },
      "source": [
        "`for`文を使用してキーをループ処理することができます。"
      ]
    },
    {
      "cell_type": "code",
      "execution_count": null,
      "id": "68ff774e",
      "metadata": {
        "id": "68ff774e"
      },
      "outputs": [],
      "source": [
        "for key in db:\n",
        "    print(key, ':', db[key])"
      ]
    },
    {
      "cell_type": "markdown",
      "id": "b67a0ddc",
      "metadata": {
        "id": "b67a0ddc"
      },
      "source": [
        "他のファイルと同様に、作業が終わったらデータベースを閉じるべきです。"
      ]
    },
    {
      "cell_type": "code",
      "execution_count": null,
      "id": "2b411885",
      "metadata": {
        "id": "2b411885"
      },
      "outputs": [],
      "source": [
        "db.close()"
      ]
    },
    {
      "cell_type": "markdown",
      "id": "a1e08b41",
      "metadata": {
        "id": "a1e08b41"
      },
      "source": [
        "データディレクトリの内容を一覧表示すると、2つのファイルが見えます。"
      ]
    },
    {
      "cell_type": "code",
      "execution_count": null,
      "id": "4806720c",
      "metadata": {
        "tags": [],
        "id": "4806720c"
      },
      "outputs": [],
      "source": [
        "# When you open a shelve file, a backup file is created that has the suffix `.bak`.\n",
        "# If you run this notebook more than once, you might see that file left behind.\n",
        "# This cell removes it so the output shown in the book is correct.\n",
        "\n",
        "!rm -f photo_info/captions.bak"
      ]
    },
    {
      "cell_type": "code",
      "execution_count": null,
      "id": "59eb2dde",
      "metadata": {
        "id": "59eb2dde"
      },
      "outputs": [],
      "source": [
        "os.listdir(config['data_dir'])"
      ]
    },
    {
      "cell_type": "markdown",
      "id": "97453006",
      "metadata": {
        "id": "97453006"
      },
      "source": [
        "`captions.dat`には、私たちがちょうど保存したデータが含まれています。\n",
        "`captions.dir`には、データベースの組織に関する情報が含まれており、それによってアクセスがより効率的になります。\n",
        "`dir`というサフィックスは「ディレクトリ」を表していますが、ファイルを含むディレクトリとは関係ありません。"
      ]
    },
    {
      "cell_type": "markdown",
      "id": "0033e4f5",
      "metadata": {
        "tags": [],
        "id": "0033e4f5"
      },
      "source": [
        "## データ構造の保存\n",
        "\n",
        "前の例では、shelfのキーと値は文字列でしたが、リストや辞書のようなデータ構造を含めるためにもshelfを使用することができます。\n",
        "\n",
        "例として、第11章の演習で扱ったアナグラムの例を再訪しましょう。覚えているかもしれませんが、私たちはアルファベット順に並べた文字列から、その文字でつづることができる単語のリストにマッピングする辞書を作成しました。\n",
        "例えば、キー `'opst'` はリスト `['opts', 'post', 'pots', 'spot', 'stop', 'tops']` にマッピングされます。\n",
        "\n",
        "以下の関数を使用して、単語の文字を並べ替えます。"
      ]
    },
    {
      "cell_type": "code",
      "execution_count": null,
      "id": "8819b211",
      "metadata": {
        "id": "8819b211"
      },
      "outputs": [],
      "source": [
        "def sort_word(word):\n",
        "    return ''.join(sorted(word))"
      ]
    },
    {
      "cell_type": "markdown",
      "id": "8c24316c",
      "metadata": {
        "id": "8c24316c"
      },
      "source": [
        "そしてこちらが例です。"
      ]
    },
    {
      "cell_type": "code",
      "execution_count": null,
      "id": "fc8f1434",
      "metadata": {
        "id": "fc8f1434"
      },
      "outputs": [],
      "source": [
        "word = 'pots'\n",
        "key = sort_word(word)\n",
        "key"
      ]
    },
    {
      "cell_type": "markdown",
      "id": "7c5d7555",
      "metadata": {
        "id": "7c5d7555"
      },
      "source": [
        "では、「anagram_map」という名前の棚を開いてみましょう。引数 `'n'` は、新しい空の棚を常に作成することを意味します。既に存在している場合でも同様です。"
      ]
    },
    {
      "cell_type": "code",
      "execution_count": null,
      "id": "f2f17f05",
      "metadata": {
        "id": "f2f17f05"
      },
      "outputs": [],
      "source": [
        "db = shelve.open('anagram_map', 'n')"
      ]
    },
    {
      "cell_type": "markdown",
      "id": "6b495e79",
      "metadata": {
        "id": "6b495e79"
      },
      "source": [
        "これで、棚にアイテムを追加することができます。"
      ]
    },
    {
      "cell_type": "code",
      "execution_count": null,
      "id": "b918dcfe",
      "metadata": {
        "id": "b918dcfe"
      },
      "outputs": [],
      "source": [
        "db[key] = [word]\n",
        "db[key]"
      ]
    },
    {
      "cell_type": "markdown",
      "id": "f058dff1",
      "metadata": {
        "id": "f058dff1"
      },
      "source": [
        "この項目では、キーは文字列で、値は文字列のリストです。\n",
        "\n",
        "さて、例えば「tops」のように同じ文字を含む別の単語を見つけたとします。"
      ]
    },
    {
      "cell_type": "code",
      "execution_count": null,
      "id": "e0d728e6",
      "metadata": {
        "id": "e0d728e6"
      },
      "outputs": [],
      "source": [
        "word = 'tops'\n",
        "key = sort_word(word)\n",
        "key"
      ]
    },
    {
      "cell_type": "markdown",
      "id": "a215367d",
      "metadata": {
        "id": "a215367d"
      },
      "source": [
        "キーは前の例と同じなので、同じ文字列のリストに2番目の単語を追加したいと思います。\n",
        "もし `db` が辞書である場合、私たちは次のようにそれを行います。"
      ]
    },
    {
      "cell_type": "code",
      "execution_count": null,
      "id": "12e39086",
      "metadata": {
        "id": "12e39086"
      },
      "outputs": [],
      "source": [
        "db[key].append(word)          # INCORRECT"
      ]
    },
    {
      "cell_type": "markdown",
      "id": "e1a83f39",
      "metadata": {
        "id": "e1a83f39"
      },
      "source": [
        "しかし、それを実行してからシェルフでキーを調べると、更新されていないように見えます。"
      ]
    },
    {
      "cell_type": "code",
      "execution_count": null,
      "id": "b0dc42e0",
      "metadata": {
        "id": "b0dc42e0"
      },
      "outputs": [],
      "source": [
        "db[key]"
      ]
    },
    {
      "cell_type": "markdown",
      "id": "32a56de9",
      "metadata": {
        "id": "32a56de9"
      },
      "source": [
        "問題があります。キーを調べると文字列のリストが得られますが、文字列のリストを変更してもシェルフには影響しません。シェルフを更新したい場合は、古い値を読み取り、それを更新して、新しい値をシェルフに書き戻す必要があります。"
      ]
    },
    {
      "cell_type": "code",
      "execution_count": null,
      "id": "b4105610",
      "metadata": {
        "id": "b4105610"
      },
      "outputs": [],
      "source": [
        "anagram_list = db[key]\n",
        "anagram_list.append(word)\n",
        "db[key] = anagram_list"
      ]
    },
    {
      "cell_type": "markdown",
      "id": "a054f537",
      "metadata": {
        "id": "a054f537"
      },
      "source": [
        "棚の値が更新されました。"
      ]
    },
    {
      "cell_type": "code",
      "execution_count": null,
      "id": "4f737cd9",
      "metadata": {
        "id": "4f737cd9"
      },
      "outputs": [],
      "source": [
        "db[key]"
      ]
    },
    {
      "cell_type": "markdown",
      "id": "ca02c0d7",
      "metadata": {
        "id": "ca02c0d7"
      },
      "source": [
        "練習として、この例を完了するには、単語リストを読み取り、すべてのアナグラムをシェルフに保存することができます。"
      ]
    },
    {
      "cell_type": "code",
      "execution_count": null,
      "id": "5395780f",
      "metadata": {
        "tags": [],
        "id": "5395780f"
      },
      "outputs": [],
      "source": [
        "db.close()"
      ]
    },
    {
      "cell_type": "markdown",
      "id": "b1336e56",
      "metadata": {
        "tags": [],
        "id": "b1336e56"
      },
      "source": [
        "## 等価なファイルのチェック\n",
        "\n",
        "さて、この章の目的に戻りましょう。異なるファイルで同じデータを含むものを検索することです。\n",
        "その1つの方法は、両方のファイルの内容を読み込んで比較することです。\n",
        "\n",
        "ファイルが画像を含む場合、モードを `'rb'` にして開く必要があります。ここで `'r'` は内容を読みたいことを意味し、`'b'` は**バイナリモード**を示します。\n",
        "バイナリモードでは、内容はテキストとして解釈されず、バイトのシーケンスとして扱われます。\n",
        "\n",
        "以下は画像ファイルを開いて読み込む例です。"
      ]
    },
    {
      "cell_type": "code",
      "execution_count": null,
      "id": "a3104fc7",
      "metadata": {
        "id": "a3104fc7"
      },
      "outputs": [],
      "source": [
        "path1 = 'photos/jan-2023/photo1.jpg'\n",
        "data1 = open(path1, 'rb').read()\n",
        "type(data1)"
      ]
    },
    {
      "cell_type": "markdown",
      "id": "36687da2",
      "metadata": {
        "id": "36687da2"
      },
      "source": [
        "`read` の結果は `bytes` オブジェクトです。その名の通り、バイト列を含んでいます。\n",
        "\n",
        "一般的に、画像ファイルの内容は人間には読みやすいものではありません。しかし、別のファイルからその内容を読み取れば、`==` 演算子を使用して比較することができます。"
      ]
    },
    {
      "cell_type": "code",
      "execution_count": null,
      "id": "fd6dd21d",
      "metadata": {
        "id": "fd6dd21d"
      },
      "outputs": [],
      "source": [
        "path2 = 'photos/jan-2023/photo2.jpg'\n",
        "data2 = open(path2, 'rb').read()\n",
        "data1 == data2"
      ]
    },
    {
      "cell_type": "markdown",
      "id": "36006cd4",
      "metadata": {
        "id": "36006cd4"
      },
      "source": [
        "これらの2つのファイルは同等ではありません。\n",
        "\n",
        "これまでの内容を関数にまとめましょう。"
      ]
    },
    {
      "cell_type": "code",
      "execution_count": null,
      "id": "b1c8643c",
      "metadata": {
        "id": "b1c8643c"
      },
      "outputs": [],
      "source": [
        "def same_contents(path1, path2):\n",
        "    data1 = open(path1, 'rb').read()\n",
        "    data2 = open(path2, 'rb').read()\n",
        "    return data1 == data2"
      ]
    },
    {
      "cell_type": "markdown",
      "id": "b4e08850",
      "metadata": {
        "id": "b4e08850"
      },
      "source": [
        "ファイルが2つだけの場合、この関数は良い選択肢です。しかし、膨大な数のファイルがあり、それらのうちのいずれか2つが同じデータを含んでいるかどうかを知りたいと仮定します。すべてのファイルペアを比較するのは非効率的でしょう。\n",
        "\n",
        "代替方法として**ハッシュ関数**を使用できます。ハッシュ関数は、ファイルの内容を取り込み、通常は大きな整数である**ダイジェスト**を生成します。2つのファイルが同じデータを含んでいる場合、同じダイジェストを持つことになります。2つのファイルが異なる場合、*ほとんど常に*異なるダイジェストを持ちます。\n",
        "\n",
        "`hashlib`モジュールは、いくつかのハッシュ関数を提供します。ここで使用するのは`md5`というものです。まず、`hashlib.md5`を使用して`HASH`オブジェクトを作成してみましょう。"
      ]
    },
    {
      "cell_type": "code",
      "execution_count": null,
      "id": "c03198fc",
      "metadata": {
        "id": "c03198fc"
      },
      "outputs": [],
      "source": [
        "import hashlib\n",
        "\n",
        "md5_hash = hashlib.md5()\n",
        "type(md5_hash)"
      ]
    },
    {
      "cell_type": "markdown",
      "id": "a8e480f0",
      "metadata": {
        "id": "a8e480f0"
      },
      "source": [
        "`HASH`オブジェクトは、ファイルの内容を引数として受け取る`update`メソッドを提供します。"
      ]
    },
    {
      "cell_type": "code",
      "execution_count": null,
      "id": "1567ec9e",
      "metadata": {
        "id": "1567ec9e"
      },
      "outputs": [],
      "source": [
        "md5_hash.update(data1)"
      ]
    },
    {
      "cell_type": "markdown",
      "id": "86bd6bc0",
      "metadata": {
        "id": "86bd6bc0"
      },
      "source": [
        "これで `hexdigest` を使用して、16進数で整数を表す文字列としてダイジェストを取得できます。"
      ]
    },
    {
      "cell_type": "code",
      "execution_count": null,
      "id": "b2e61e76",
      "metadata": {
        "id": "b2e61e76"
      },
      "outputs": [],
      "source": [
        "digest = md5_hash.hexdigest()\n",
        "digest"
      ]
    },
    {
      "cell_type": "markdown",
      "id": "b9b4b347",
      "metadata": {
        "id": "b9b4b347"
      },
      "source": [
        "次の関数はこれらのステップをカプセル化します。"
      ]
    },
    {
      "cell_type": "code",
      "execution_count": null,
      "id": "330def4e",
      "metadata": {
        "id": "330def4e"
      },
      "outputs": [],
      "source": [
        "def md5_digest(filename):\n",
        "    data = open(filename, 'rb').read()\n",
        "    md5_hash = hashlib.md5()\n",
        "    md5_hash.update(data)\n",
        "    digest = md5_hash.hexdigest()\n",
        "    return digest"
      ]
    },
    {
      "cell_type": "markdown",
      "id": "914b85b2",
      "metadata": {
        "id": "914b85b2"
      },
      "source": [
        "異なるファイルの内容をハッシュ化すると、異なるダイジェストが得られることを確認できます。"
      ]
    },
    {
      "cell_type": "code",
      "execution_count": null,
      "id": "eae2d207",
      "metadata": {
        "id": "eae2d207"
      },
      "outputs": [],
      "source": [
        "filename2 = 'photos/feb-2023/photo2.jpg'\n",
        "md5_digest(filename2)"
      ]
    },
    {
      "cell_type": "markdown",
      "id": "deeabdde",
      "metadata": {
        "id": "deeabdde"
      },
      "source": [
        "これで、同等のファイルを見つけるために必要なものがほぼすべて揃いました。最後のステップは、ディレクトリを検索してすべての画像ファイルを見つけることです。"
      ]
    },
    {
      "cell_type": "markdown",
      "id": "129475df",
      "metadata": {
        "tags": [],
        "id": "129475df"
      },
      "source": [
        "## ディレクトリの探索\n",
        "\n",
        "以下の関数は、検索したいディレクトリを引数として受け取ります。\n",
        "`listdir` を使ってディレクトリの内容をループ処理します。\n",
        "ファイルを見つけた場合、その完全なパスを表示します。\n",
        "ディレクトリを見つけた場合、再帰的に自身を呼び出してサブディレクトリを探索します。"
      ]
    },
    {
      "cell_type": "code",
      "execution_count": null,
      "id": "c84a64db",
      "metadata": {
        "id": "c84a64db"
      },
      "outputs": [],
      "source": [
        "def walk(dirname):\n",
        "    for name in os.listdir(dirname):\n",
        "        path = os.path.join(dirname, name)\n",
        "\n",
        "        if os.path.isfile(path):\n",
        "            print(path)\n",
        "        elif os.path.isdir(path):\n",
        "            walk(path)"
      ]
    },
    {
      "cell_type": "markdown",
      "id": "faaf5b25",
      "metadata": {
        "id": "faaf5b25"
      },
      "source": [
        "このように使用できます。"
      ]
    },
    {
      "cell_type": "code",
      "execution_count": null,
      "id": "f1c60f6b",
      "metadata": {
        "id": "f1c60f6b"
      },
      "outputs": [],
      "source": [
        "walk('photos')"
      ]
    },
    {
      "cell_type": "markdown",
      "id": "897c66bf",
      "metadata": {
        "id": "897c66bf"
      },
      "source": [
        "結果の順序はオペレーティングシステムの詳細によって異なります。"
      ]
    },
    {
      "cell_type": "markdown",
      "id": "c7853f18",
      "metadata": {
        "id": "c7853f18"
      },
      "source": [
        "## デバッグ\n",
        "\n",
        "ファイルを読み書きしていると、空白文字が原因で問題が発生することがあります。\n",
        "空白文字は通常目に見えないため、これらのエラーのデバッグは難しい場合があります。\n",
        "たとえば、次に示す文字列には空白、タブ（シーケンス `\\t` で表される）、および改行（シーケンス `\\n` で表される）が含まれています。\n",
        "これをプリントするときに、空白文字は見えません。"
      ]
    },
    {
      "cell_type": "code",
      "execution_count": null,
      "id": "15d7425a",
      "metadata": {
        "id": "15d7425a"
      },
      "outputs": [],
      "source": [
        "s = '1 2\\t 3\\n 4'\n",
        "print(s)"
      ]
    },
    {
      "cell_type": "markdown",
      "id": "49bbebe6",
      "metadata": {
        "id": "49bbebe6"
      },
      "source": [
        "組み込み関数 `repr` は役に立ちます。この関数は任意のオブジェクトを引数として取ることができ、そのオブジェクトの文字列表現を返します。文字列に対しては、空白文字をバックスラッシュシーケンスで表現します。"
      ]
    },
    {
      "cell_type": "code",
      "execution_count": null,
      "id": "61feff85",
      "metadata": {
        "id": "61feff85"
      },
      "outputs": [],
      "source": [
        "print(repr(s))"
      ]
    },
    {
      "cell_type": "markdown",
      "id": "790cf8dd",
      "metadata": {
        "id": "790cf8dd"
      },
      "source": [
        "これはデバッグに役立つことがあります。\n",
        "\n",
        "もう一つの問題として、異なるシステムが行の終わりを示すために異なる文字を使用することがあります。あるシステムでは、改行を使用し、これは`\\n`で表されます。他のシステムでは、復帰文字を使用し、これは`\\r`で表されます。また、両方を使用するシステムもあります。異なるシステム間でファイルを移動するとき、これらの不一致が問題を引き起こすことがあります。\n",
        "\n",
        "ファイル名の大文字小文字の扱いも、異なるオペレーティングシステムを使用する際に直面する可能性のある問題です。macOSやUNIXでは、ファイル名には小文字と大文字、数字、そしてほとんどの記号を含めることができます。しかし、Windowsの多くのアプリケーションでは小文字と大文字の違いを無視し、macOSやUNIXで許可されているいくつかの記号がWindowsでは許可されていません。"
      ]
    },
    {
      "cell_type": "markdown",
      "id": "cf063639",
      "metadata": {
        "id": "cf063639"
      },
      "source": [
        "了解しました。こちらの用語集には、プログラミングに関連する英単語とその意味が記載されています。それぞれの用語は日本語で次のように説明できます。\n",
        "\n",
        "**ephemeral（短命な）:**\n",
        "短期間だけ実行され、終了するとそのデータが失われるプログラム。\n",
        "\n",
        "**persistent（永続的な）:**\n",
        "無期限に実行され、少なくとも一部のデータを恒久的なストレージに保存するプログラム。\n",
        "\n",
        "**directory（ディレクトリ）:**\n",
        "ファイルや他のディレクトリの集合。\n",
        "\n",
        "**current working directory（現在の作業ディレクトリ）:**\n",
        "プログラムが別のディレクトリを指定しない限り、デフォルトで使用されるディレクトリ。\n",
        "\n",
        "**path（パス）:**\n",
        "通常はファイルに至るディレクトリの順序を指定する文字列。\n",
        "\n",
        "**relative path（相対パス）:**\n",
        "カレントディレクトリまたは他の指定されたディレクトリから始まるパス。\n",
        "\n",
        "**absolute path（絶対パス）:**\n",
        "現在のディレクトリに依存しないパス。\n",
        "\n",
        "**f-string（f文字列）:**\n",
        "開始引用符の前に「f」が付き、中括弧で囲まれた1つ以上の式を含む文字列。\n",
        "\n",
        "**configuration data（設定データ）:**\n",
        "プログラムの動作や方法を指定する、しばしばファイルに保存されるデータ。\n",
        "\n",
        "**serialization（シリアライズ）:**\n",
        "オブジェクトを文字列に変換すること。\n",
        "\n",
        "**deserialization（デシリアライズ）:**\n",
        "文字列をオブジェクトに変換すること。\n",
        "\n",
        "**database（データベース）:**\n",
        "特定の操作を効率的に行うために内容が組織化されたファイル。\n",
        "\n",
        "**key-value stores（キー値ストア）:**\n",
        "キーが値に対応する辞書のように内容が組織されたデータベース。\n",
        "\n",
        "**binary mode（バイナリモード）:**\n",
        "ファイルの内容を文字の並びとしてではなくバイトの並びとして解釈する方法でファイルを開くこと。\n",
        "\n",
        "**hash function（ハッシュ関数）:**\n",
        "オブジェクトを受け取り整数を計算する関数で、時にはダイジェストと呼ばれることがある。\n",
        "\n",
        "**digest（ダイジェスト）:**\n",
        "特に2つのオブジェクトが同じかどうかを確認するために用いるハッシュ関数の結果。"
      ]
    },
    {
      "cell_type": "markdown",
      "id": "67941fdd",
      "metadata": {
        "id": "67941fdd"
      },
      "source": [
        "## エクササイズ"
      ]
    },
    {
      "cell_type": "code",
      "execution_count": null,
      "id": "bd885ba1",
      "metadata": {
        "tags": [],
        "id": "bd885ba1"
      },
      "outputs": [],
      "source": [
        "# This cell tells Jupyter to provide detailed debugging information\n",
        "# when a runtime error occurs. Run it before working on the exercises.\n",
        "\n",
        "%xmode Verbose"
      ]
    },
    {
      "cell_type": "markdown",
      "id": "9a537173",
      "metadata": {
        "id": "9a537173"
      },
      "source": [
        "### バーチャルアシスタントに尋ねる\n",
        "\n",
        "この章で触れた話題にはいくつかの詳細を説明していないものがあります。\n",
        "バーチャルアシスタントに詳細情報を求めるために、次のような質問をしてみてください。\n",
        "\n",
        "* 「揮発性プログラムと永続性プログラムの違いは何ですか？」\n",
        "\n",
        "* 「永続性プログラムの例としてはどのようなものがありますか？」\n",
        "\n",
        "* 「相対パスと絶対パスの違いは何ですか？」\n",
        "\n",
        "* 「なぜ `yaml` モジュールには `load` と `safe_load` という関数があるのですか？」\n",
        "\n",
        "* 「Pythonのshelfを書くとき、`dat`と`dir`というサフィックスがついたファイルは何ですか？」\n",
        "\n",
        "* 「キー・バリュー・ストア以外に、どのような種類のデータベースがありますか？」\n",
        "\n",
        "* 「ファイルを読むとき、バイナリモードとテキストモードの違いは何ですか？」\n",
        "\n",
        "* 「バイトオブジェクトと文字列の違いは何ですか？」\n",
        "\n",
        "* 「ハッシュ関数とは何ですか？」\n",
        "\n",
        "* 「MD5ダイジェストとは何ですか？」\n",
        "\n",
        "いつも通り、以下の演習で行き詰まった場合は、VAに助けを求めることを考慮してください。質問と一緒に、この章の関連機能を貼り付けると良いでしょう。"
      ]
    },
    {
      "cell_type": "markdown",
      "id": "7586e1e9",
      "metadata": {
        "id": "7586e1e9"
      },
      "source": [
        "### 演習\n",
        "\n",
        "`replace_all`という関数を書いてください。この関数はパターン文字列、置換文字列、そして2つのファイル名を引数として受け取ります。\n",
        "この関数は最初のファイルを読み込み、その内容を2番目のファイルに書き込みます（必要ならばファイルを作成します）。\n",
        "内容の中にパターン文字列がどこかに現れた場合、それを置換文字列に置き換えなければなりません。"
      ]
    },
    {
      "cell_type": "markdown",
      "id": "85844afb",
      "metadata": {
        "id": "85844afb"
      },
      "source": [
        "以下は、開始するための関数のアウトラインです。"
      ]
    },
    {
      "cell_type": "code",
      "execution_count": null,
      "id": "1e598e70",
      "metadata": {
        "id": "1e598e70"
      },
      "outputs": [],
      "source": [
        "def replace_all(old, new, source_path, dest_path):\n",
        "    # read the contents of the source file\n",
        "    reader = open(source_path)\n",
        "\n",
        "    # replace the old string with the new\n",
        "\n",
        "    # write the result into the destination file\n"
      ]
    },
    {
      "cell_type": "code",
      "execution_count": null,
      "id": "d3774d1a",
      "metadata": {
        "id": "d3774d1a"
      },
      "outputs": [],
      "source": [
        "# Solution goes here"
      ]
    },
    {
      "cell_type": "markdown",
      "id": "7f37245c",
      "metadata": {
        "id": "7f37245c"
      },
      "source": [
        "申し訳ありませんが、ファイルを直接操作する能力はありません。しかし、ファイル操作はPythonを使って簡単に行えます。以下はそのためのサンプルコードです。\n",
        "\n",
        "```python\n",
        "# ファイル 'photos/notes.txt' を開く\n",
        "with open('photos/notes.txt', 'r') as file:\n",
        "    # ファイル内容を読み込む\n",
        "    content = file.read()\n",
        "\n",
        "# 'photos' という単語を 'images' に置換\n",
        "new_content = content.replace('photos', 'images')\n",
        "\n",
        "# 変更した内容を新たなファイル 'photos/new_notes.txt' に書き込む\n",
        "with open('photos/new_notes.txt', 'w') as new_file:\n",
        "    new_file.write(new_content)\n",
        "```\n",
        "\n",
        "このコードを実行することで、指定された操作を行うことができます。何か他にお手伝いできることがあればお知らせください。"
      ]
    },
    {
      "cell_type": "code",
      "execution_count": null,
      "id": "3b80dfd8",
      "metadata": {
        "tags": [],
        "id": "3b80dfd8"
      },
      "outputs": [],
      "source": [
        "source_path = 'photos/notes.txt'\n",
        "open(source_path).read()"
      ]
    },
    {
      "cell_type": "code",
      "execution_count": null,
      "id": "4b67579f",
      "metadata": {
        "tags": [],
        "id": "4b67579f"
      },
      "outputs": [],
      "source": [
        "dest_path = 'photos/new_notes.txt'\n",
        "old = 'photos'\n",
        "new = 'images'\n",
        "replace_all(old, new, source_path, dest_path)"
      ]
    },
    {
      "cell_type": "code",
      "execution_count": null,
      "id": "1d990225",
      "metadata": {
        "tags": [],
        "id": "1d990225"
      },
      "outputs": [],
      "source": [
        "open(dest_path).read()"
      ]
    },
    {
      "cell_type": "markdown",
      "id": "7b2589a4",
      "metadata": {
        "id": "7b2589a4"
      },
      "source": [
        "### 演習\n",
        "\n",
        "[前のセクション](section_storing_data_structure)では、`shelve`モジュールを使用して、ソートされた文字列とアナグラムのリストとの間のキーバリューストアを作成しました。  \n",
        "この例を完成させるために、文字列とshelveオブジェクトを引数に取る関数`add_word`を作成してください。\n",
        "\n",
        "この関数は、単語の文字をソートしてキーを作成し、キーがすでにshelfに存在するかを確認します。存在しない場合は、新しい単語を含むリストを作成し、それをshelfに追加します。もし存在する場合は、新しい単語を既存の値に追加します。"
      ]
    },
    {
      "cell_type": "code",
      "execution_count": null,
      "id": "1c2fff95",
      "metadata": {
        "id": "1c2fff95"
      },
      "outputs": [],
      "source": [
        "# Solution goes here"
      ]
    },
    {
      "cell_type": "markdown",
      "id": "07cb454f",
      "metadata": {
        "tags": [],
        "id": "07cb454f"
      },
      "source": [
        "このループを使用して、関数をテストすることができます。"
      ]
    },
    {
      "cell_type": "code",
      "execution_count": null,
      "id": "8008cde6",
      "metadata": {
        "tags": [],
        "id": "8008cde6"
      },
      "outputs": [],
      "source": [
        "download('https://raw.githubusercontent.com/AllenDowney/ThinkPython/v3/words.txt');"
      ]
    },
    {
      "cell_type": "code",
      "execution_count": null,
      "id": "a6b5e51a",
      "metadata": {
        "tags": [],
        "id": "a6b5e51a"
      },
      "outputs": [],
      "source": [
        "word_list = open('words.txt').read().split()\n",
        "\n",
        "db = shelve.open('anagram_map', 'n')\n",
        "for word in word_list:\n",
        "    add_word(word, db)"
      ]
    },
    {
      "cell_type": "markdown",
      "id": "40342366",
      "metadata": {
        "tags": [],
        "id": "40342366"
      },
      "source": [
        "すべてが正常に動作していれば、`'opst'`のようなキーを調べて、その文字で綴られる単語のリストを取得できるはずです。"
      ]
    },
    {
      "cell_type": "code",
      "execution_count": null,
      "id": "ffefe13e",
      "metadata": {
        "tags": [],
        "id": "ffefe13e"
      },
      "outputs": [],
      "source": [
        "db['opst']"
      ]
    },
    {
      "cell_type": "code",
      "execution_count": null,
      "id": "7eb54fbc",
      "metadata": {
        "tags": [],
        "id": "7eb54fbc"
      },
      "outputs": [],
      "source": [
        "for key, value in db.items():\n",
        "    if len(value) > 8:\n",
        "        print(value)"
      ]
    },
    {
      "cell_type": "code",
      "execution_count": null,
      "id": "ac784df7",
      "metadata": {
        "tags": [],
        "id": "ac784df7"
      },
      "outputs": [],
      "source": [
        "db.close()"
      ]
    },
    {
      "cell_type": "markdown",
      "id": "228e977c",
      "metadata": {
        "id": "228e977c"
      },
      "source": [
        "### エクササイズ\n",
        "\n",
        "大量のファイルコレクションの中で、異なるディレクトリに保存されたり異なるファイル名で保存されたりしている同じファイルのコピーが複数あるかもしれません。\n",
        "このエクササイズの目的は、重複ファイルを検索することです。\n",
        "例として、`photos` ディレクトリ内の画像ファイルを使用します。\n",
        "\n",
        "次のように動作します：\n",
        "\n",
        "* `walk` 関数を使用して、`config['extensions']` に含まれる拡張子で終わるファイルをこのディレクトリで探します。\n",
        "\n",
        "* 各ファイルに対して、`md5_digest` を使用して内容のダイジェストを計算します。\n",
        "\n",
        "* シェルフを使用して、各ダイジェストからそのダイジェストを持つパスのリストへのマッピングを作成します。\n",
        "\n",
        "* 最後に、複数のファイルにマップされているダイジェストがないかシェルフを検索します。\n",
        "\n",
        "* もし見つかった場合、`same_contents` を使用して、ファイルが同一のデータを含むかを確認します。"
      ]
    },
    {
      "cell_type": "markdown",
      "id": "8f5365da",
      "metadata": {
        "id": "8f5365da"
      },
      "source": [
        "まず最初にいくつかの関数を書くことを提案します。それから全てをまとめます。\n",
        "\n",
        "1. 画像ファイルを識別するために、`is_image`という関数を書きます。この関数はパスとファイル拡張子のリストを引数として受け取り、パスがリスト内の一つの拡張子で終了する場合に`True`を返します。ヒント: `os.path.splitext`を使用します。\n",
        "\n",
        "以下はその関数の例です：\n",
        "\n",
        "```python\n",
        "import os\n",
        "\n",
        "def is_image(path, extensions):\n",
        "    _, ext = os.path.splitext(path)\n",
        "    return ext.lower() in (e.lower() for e in extensions)\n",
        "```\n",
        "\n",
        "この関数は、指定されたパスが画像ファイルの拡張子リストに含まれる場合に`True`を返します。"
      ]
    },
    {
      "cell_type": "code",
      "execution_count": null,
      "id": "03b6acf9",
      "metadata": {
        "id": "03b6acf9"
      },
      "outputs": [],
      "source": [
        "# Solution goes here"
      ]
    },
    {
      "cell_type": "markdown",
      "id": "dde4b5c8",
      "metadata": {
        "tags": [],
        "id": "dde4b5c8"
      },
      "source": [
        "`doctest` を使用して関数をテストすることができます。"
      ]
    },
    {
      "cell_type": "code",
      "execution_count": null,
      "id": "21c33092",
      "metadata": {
        "tags": [],
        "id": "21c33092"
      },
      "outputs": [],
      "source": [
        "from doctest import run_docstring_examples\n",
        "\n",
        "def run_doctests(func):\n",
        "    run_docstring_examples(func, globals(), name=func.__name__)\n",
        "\n",
        "run_doctests(is_image)"
      ]
    },
    {
      "cell_type": "markdown",
      "id": "1a7c8f49",
      "metadata": {
        "id": "1a7c8f49"
      },
      "source": [
        "```python\n",
        "import hashlib\n",
        "import shelve\n",
        "\n",
        "def md5_digest(file_path):\n",
        "    \"\"\"Returns the MD5 digest of the contents of the file at `file_path`.\"\"\"\n",
        "    hash_md5 = hashlib.md5()\n",
        "    with open(file_path, \"rb\") as f:\n",
        "        for chunk in iter(lambda: f.read(4096), b\"\"):\n",
        "            hash_md5.update(chunk)\n",
        "    return hash_md5.hexdigest()\n",
        "\n",
        "def add_path(path, shelf):\n",
        "    \"\"\"Adds the path to the shelf, keyed by the file's MD5 digest.\"\"\"\n",
        "    # Compute the MD5 digest of the file\n",
        "    digest = md5_digest(path)\n",
        "    \n",
        "    # Open the shelf and update it\n",
        "    with shelve.open(shelf, writeback=True) as db:\n",
        "        if digest not in db:\n",
        "            db[digest] = [path]\n",
        "        else:\n",
        "            # Avoid adding duplicate paths\n",
        "            if path not in db[digest]:\n",
        "                db[digest].append(path)\n",
        "```\n",
        "\n",
        "このコードは、`md5_digest` 関数を用いてファイルのMD5ダイジェストを計算し、そのダイジェストをキーとしてパスを棚（shelf）に追加します。棚には、ダイジェストがすでに存在する場合、そのリストに新しいパスを追加し、存在しない場合は新しいリストを作成します。"
      ]
    },
    {
      "cell_type": "code",
      "execution_count": null,
      "id": "31c056a9",
      "metadata": {
        "id": "31c056a9"
      },
      "outputs": [],
      "source": [
        "# Solution goes here"
      ]
    },
    {
      "cell_type": "markdown",
      "id": "08223a21",
      "metadata": {
        "id": "08223a21"
      },
      "source": [
        "ディレクトリとそのサブディレクトリ内のファイルを走査する `walk_images` というバージョンの `walk` を作成します。各ファイルについて、`is_image` を使用してそれが画像ファイルかどうかを確認し、`add_path` を使用して棚に追加する必要があります。以下はそのPythonコードの例です。\n",
        "\n",
        "```python\n",
        "import os\n",
        "\n",
        "def is_image(file_path):\n",
        "    # 画像ファイルの拡張子を定義\n",
        "    image_extensions = ['.jpg', '.jpeg', '.png', '.gif', '.bmp', '.tiff']\n",
        "    _, ext = os.path.splitext(file_path)\n",
        "    return ext.lower() in image_extensions\n",
        "\n",
        "def add_path(shelf, file_path):\n",
        "    # ファイルパスを棚に追加する処理\n",
        "    shelf.append(file_path)\n",
        "\n",
        "def walk_images(directory, shelf):\n",
        "    for root, dirs, files in os.walk(directory):\n",
        "        for file in files:\n",
        "            file_path = os.path.join(root, file)\n",
        "            if is_image(file_path):\n",
        "                add_path(shelf, file_path)\n",
        "\n",
        "# 使用例:\n",
        "# ディレクトリパスを指定\n",
        "directory_path = '/path/to/directory'\n",
        "shelf = []\n",
        "\n",
        "# walk_images を呼び出して画像ファイルを収集\n",
        "walk_images(directory_path, shelf)\n",
        "\n",
        "# 結果を表示\n",
        "print(shelf)\n",
        "```\n",
        "\n",
        "このコードでは、指定されたディレクトリ内のすべてのファイルについて、`is_image` 関数を使って画像ファイルかどうかを確認し、画像ファイルであれば `add_path` 関数で棚にそのパスを追加します。`os.walk` を使用することで、サブディレクトリも含めて走査が可能です。"
      ]
    },
    {
      "cell_type": "code",
      "execution_count": null,
      "id": "e54d6993",
      "metadata": {
        "id": "e54d6993"
      },
      "outputs": [],
      "source": [
        "# Solution goes here"
      ]
    },
    {
      "cell_type": "markdown",
      "id": "1ea76a52",
      "metadata": {
        "id": "1ea76a52"
      },
      "source": [
        "すべてが正常に機能している場合、次のプログラムを使用してシェルフを作成し、`photos` ディレクトリを検索してシェルフにパスを追加し、同じダイジェストを持つファイルが複数存在するかどうかを確認できます。"
      ]
    },
    {
      "cell_type": "code",
      "execution_count": null,
      "id": "c31ba5b6",
      "metadata": {
        "tags": [],
        "id": "c31ba5b6"
      },
      "outputs": [],
      "source": [
        "db = shelve.open('photos/digests', 'n')\n",
        "walk_images('photos')\n",
        "\n",
        "for digest, paths in db.items():\n",
        "    if len(paths) > 1:\n",
        "        print(paths)"
      ]
    },
    {
      "cell_type": "markdown",
      "id": "102d4d10",
      "metadata": {
        "id": "102d4d10"
      },
      "source": [
        "同じダイジェストを持つファイルのペアを見つける必要があります。`same_contents`を使用して、それらが同じデータを含んでいるかどうかを確認してください。"
      ]
    },
    {
      "cell_type": "code",
      "execution_count": null,
      "id": "d7c7e679",
      "metadata": {
        "id": "d7c7e679"
      },
      "outputs": [],
      "source": [
        "# Solution goes here"
      ]
    },
    {
      "cell_type": "code",
      "execution_count": null,
      "id": "c6a6b5a7",
      "metadata": {
        "id": "c6a6b5a7"
      },
      "outputs": [],
      "source": []
    },
    {
      "cell_type": "markdown",
      "id": "a7f4edf8",
      "metadata": {
        "tags": [],
        "id": "a7f4edf8"
      },
      "source": [
        "[Think Python: 第3版](https://allendowney.github.io/ThinkPython/index.html)\n",
        "\n",
        "Copyright 2024 [Allen B. Downey](https://allendowney.com)\n",
        "\n",
        "コードライセンス: [MITライセンス](https://mit-license.org/)\n",
        "\n",
        "テキストライセンス: [クリエイティブ・コモンズ 表示-非営利-継承4.0国際](https://creativecommons.org/licenses/by-nc-sa/4.0/)"
      ]
    }
  ],
  "metadata": {
    "celltoolbar": "Tags",
    "kernelspec": {
      "display_name": "Python 3 (ipykernel)",
      "language": "python",
      "name": "python3"
    },
    "language_info": {
      "codemirror_mode": {
        "name": "ipython",
        "version": 3
      },
      "file_extension": ".py",
      "mimetype": "text/x-python",
      "name": "python",
      "nbconvert_exporter": "python",
      "pygments_lexer": "ipython3",
      "version": "3.10.11"
    },
    "colab": {
      "provenance": [],
      "include_colab_link": true
    }
  },
  "nbformat": 4,
  "nbformat_minor": 5
}