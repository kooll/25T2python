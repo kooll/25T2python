{
  "cells": [
    {
      "cell_type": "markdown",
      "metadata": {
        "id": "view-in-github",
        "colab_type": "text"
      },
      "source": [
        "<a href=\"https://colab.research.google.com/github/kooll/ThinkPythonJ/blob/main/chapters/chap14_translated.ipynb\" target=\"_parent\"><img src=\"https://colab.research.google.com/assets/colab-badge.svg\" alt=\"Open In Colab\"/></a>"
      ]
    },
    {
      "cell_type": "markdown",
      "id": "1331faa1",
      "metadata": {
        "id": "1331faa1"
      },
      "source": [
        "『Think Python 3e』の印刷版と電子書籍版は、[Bookshop.org](https://bookshop.org/a/98697/9781098155438)および[Amazon](https://www.amazon.com/_/dp/1098155432?smid=ATVPDKIKX0DER&_encoding=UTF8&tag=oreilly20-20&_encoding=UTF8&tag=greenteapre01-20&linkCode=ur2&linkId=e2a529f94920295d27ec8a06e757dc7c&camp=1789&creative=9325)から注文できます。"
      ]
    },
    {
      "cell_type": "code",
      "execution_count": null,
      "id": "ae5a86f8",
      "metadata": {
        "tags": [],
        "id": "ae5a86f8"
      },
      "outputs": [],
      "source": [
        "from os.path import basename, exists\n",
        "\n",
        "def download(url):\n",
        "    filename = basename(url)\n",
        "    if not exists(filename):\n",
        "        from urllib.request import urlretrieve\n",
        "\n",
        "        local, _ = urlretrieve(url, filename)\n",
        "        print(\"Downloaded \" + str(local))\n",
        "    return filename\n",
        "\n",
        "download('https://github.com/AllenDowney/ThinkPython/raw/v3/thinkpython.py');\n",
        "download('https://github.com/AllenDowney/ThinkPython/raw/v3/diagram.py');\n",
        "\n",
        "import thinkpython"
      ]
    },
    {
      "cell_type": "markdown",
      "id": "e826e661",
      "metadata": {
        "id": "e826e661"
      },
      "source": [
        "# クラスと関数\n",
        "\n",
        "この時点で、コードを整理するための関数の使い方と、データを整理するための組み込み型の使い方について学んできました。次のステップは**オブジェクト指向プログラミング**で、これはプログラマーが定義した型を使ってコードとデータの両方を整理します。\n",
        "\n",
        "オブジェクト指向プログラミングは大きなトピックなので、徐々に進めていきます。この章では、慣習的なコードではないものから始めます。つまり、経験豊富なプログラマーが書くようなコードではありませんが、出発点としては良い場所です。次の2章では、より慣習的なコードを書くために追加の機能を使用します。"
      ]
    },
    {
      "cell_type": "markdown",
      "id": "6b414d4a",
      "metadata": {
        "id": "6b414d4a"
      },
      "source": [
        "## プログラマー定義の型\n",
        "\n",
        "これまでにPythonの多くの組み込み型を使用してきましたが、ここで新しい型を定義します。\n",
        "最初の例として、`Time`という時刻を表す型を作成します。\n",
        "プログラマー定義の型は、**クラス**とも呼ばれます。\n",
        "クラス定義の構文は次のようになります。"
      ]
    },
    {
      "cell_type": "code",
      "execution_count": null,
      "id": "c9c99d2c",
      "metadata": {
        "id": "c9c99d2c"
      },
      "outputs": [],
      "source": [
        "class Time:\n",
        "    \"\"\"Represents a time of day.\"\"\""
      ]
    },
    {
      "cell_type": "markdown",
      "id": "e2414cd2",
      "metadata": {
        "id": "e2414cd2"
      },
      "source": [
        "ヘッダーには、新しいクラスが `Time` と呼ばれることが示されています。本文は、クラスが何のためにあるかを説明するドキュメンテーション文字列（docstring）です。クラスを定義すると、**クラスオブジェクト**が作成されます。\n",
        "\n",
        "クラスオブジェクトは、オブジェクトを作成するための工場のようなものです。`Time` オブジェクトを作成するには、`Time` を関数のように呼び出します。"
      ]
    },
    {
      "cell_type": "code",
      "execution_count": null,
      "id": "d318001a",
      "metadata": {
        "id": "d318001a"
      },
      "outputs": [],
      "source": [
        "lunch = Time()"
      ]
    },
    {
      "cell_type": "markdown",
      "id": "f63247d4",
      "metadata": {
        "id": "f63247d4"
      },
      "source": [
        "結果は新しいオブジェクトで、その型は`__main__.Time`です。ここで`__main__`は`Time`が定義されているモジュールの名前です。"
      ]
    },
    {
      "cell_type": "code",
      "execution_count": null,
      "id": "f37d67fd",
      "metadata": {
        "id": "f37d67fd"
      },
      "outputs": [],
      "source": [
        "type(lunch)"
      ]
    },
    {
      "cell_type": "markdown",
      "id": "14d0c96a",
      "metadata": {
        "id": "14d0c96a"
      },
      "source": [
        "オブジェクトを出力すると、Pythonはそのオブジェクトの型とメモリ上の保存場所を表示します（`0x`という接頭辞は、その後の数が16進数であることを意味します）。"
      ]
    },
    {
      "cell_type": "code",
      "execution_count": null,
      "id": "e2bd114a",
      "metadata": {
        "id": "e2bd114a"
      },
      "outputs": [],
      "source": [
        "print(lunch)"
      ]
    },
    {
      "cell_type": "markdown",
      "id": "b6445414",
      "metadata": {
        "id": "b6445414"
      },
      "source": [
        "新しいオブジェクトを作成することは**インスタンス化**と呼ばれ、そのオブジェクトはクラスの**インスタンス**です。"
      ]
    },
    {
      "cell_type": "markdown",
      "id": "4c3768ec",
      "metadata": {
        "id": "4c3768ec"
      },
      "source": [
        "## 属性\n",
        "\n",
        "オブジェクトには変数を含めることができ、これを**属性**と呼びます。発音は「a-TRIB-ute」ではなく、「AT-trib-ute」のように第一音節に強調があります。ドット表記法を使用して属性を作成することができます。"
      ]
    },
    {
      "cell_type": "code",
      "execution_count": null,
      "id": "e166701a",
      "metadata": {
        "id": "e166701a"
      },
      "outputs": [],
      "source": [
        "lunch.hour = 11\n",
        "lunch.minute = 59\n",
        "lunch.second = 1"
      ]
    },
    {
      "cell_type": "markdown",
      "id": "b3fd8858",
      "metadata": {
        "id": "b3fd8858"
      },
      "source": [
        "この例では、`hour`、`minute`、および `second` という属性を作成します。これらの属性には、時刻 `11:59:01` の時間、分、および秒が含まれており、私にとっては昼食時です。\n",
        "\n",
        "以下の図は、これらの代入後の `lunch` とその属性の状態を示しています。"
      ]
    },
    {
      "cell_type": "code",
      "execution_count": null,
      "id": "3eb47826",
      "metadata": {
        "tags": [],
        "id": "3eb47826"
      },
      "outputs": [],
      "source": [
        "from diagram import make_frame, make_binding\n",
        "\n",
        "d1 = dict(hour=11, minute=59, second=1)\n",
        "frame = make_frame(d1, name='Time', dy=-0.3, offsetx=0.48)\n",
        "binding = make_binding('lunch', frame)"
      ]
    },
    {
      "cell_type": "code",
      "execution_count": null,
      "id": "6702a353",
      "metadata": {
        "tags": [],
        "id": "6702a353"
      },
      "outputs": [],
      "source": [
        "from diagram import diagram, adjust\n",
        "\n",
        "width, height, x, y = [1.77, 1.24, 0.25, 0.86]\n",
        "ax = diagram(width, height)\n",
        "bbox = binding.draw(ax, x, y)\n",
        "#adjust(x, y, bbox)"
      ]
    },
    {
      "cell_type": "markdown",
      "id": "d9df5b48",
      "metadata": {
        "id": "d9df5b48"
      },
      "source": [
        "変数 `lunch` は `Time` オブジェクトを指し、それには3つの属性が含まれています。各属性は整数を参照しています。このようにオブジェクトとその属性を示す状態図は、**オブジェクト図** と呼ばれます。\n",
        "\n",
        "ドット演算子を使用して、属性の値を読むことができます。"
      ]
    },
    {
      "cell_type": "code",
      "execution_count": null,
      "id": "4c4eff2b",
      "metadata": {
        "id": "4c4eff2b"
      },
      "outputs": [],
      "source": [
        "lunch.hour"
      ]
    },
    {
      "cell_type": "markdown",
      "id": "5ccfaea0",
      "metadata": {
        "id": "5ccfaea0"
      },
      "source": [
        "属性を任意の式の一部として使用できます。"
      ]
    },
    {
      "cell_type": "code",
      "execution_count": null,
      "id": "7ac6db21",
      "metadata": {
        "id": "7ac6db21"
      },
      "outputs": [],
      "source": [
        "total_minutes = lunch.hour * 60 + lunch.minute\n",
        "total_minutes"
      ]
    },
    {
      "cell_type": "markdown",
      "id": "c5e6725b",
      "metadata": {
        "id": "c5e6725b"
      },
      "source": [
        "そして、f文字列内の式でドット演算子を使用できます。"
      ]
    },
    {
      "cell_type": "code",
      "execution_count": null,
      "id": "1ecdc091",
      "metadata": {
        "id": "1ecdc091"
      },
      "outputs": [],
      "source": [
        "f'{lunch.hour}:{lunch.minute}:{lunch.second}'"
      ]
    },
    {
      "cell_type": "markdown",
      "id": "e70671d2",
      "metadata": {
        "id": "e70671d2"
      },
      "source": [
        "しかし、前の例は標準フォーマットになっていません。これを修正するためには、`minute` と `second` の属性を先頭にゼロを付けて表示する必要があります。これを達成するには、中括弧内の式を**フォーマット指定子**で拡張することができます。次の例では、フォーマット指定子が `minute` と `second` を少なくとも2桁で表示し、必要であれば先頭にゼロを付けることを示しています。"
      ]
    },
    {
      "cell_type": "code",
      "execution_count": null,
      "id": "a8a45573",
      "metadata": {
        "id": "a8a45573"
      },
      "outputs": [],
      "source": [
        "f'{lunch.hour}:{lunch.minute:02d}:{lunch.second:02d}'"
      ]
    },
    {
      "cell_type": "markdown",
      "id": "bcbea13a",
      "metadata": {
        "id": "bcbea13a"
      },
      "source": [
        "このf文字列を使用して、`Time`オブジェクトの値を表示する関数を書きます。オブジェクトは通常の方法で引数として渡すことができます。例えば、次の関数は`Time`オブジェクトを引数として受け取ります。"
      ]
    },
    {
      "cell_type": "code",
      "execution_count": null,
      "id": "fc77feb2",
      "metadata": {
        "id": "fc77feb2"
      },
      "outputs": [],
      "source": [
        "def print_time(time):\n",
        "    s = f'{time.hour:02d}:{time.minute:02d}:{time.second:02d}'\n",
        "    print(s)"
      ]
    },
    {
      "cell_type": "markdown",
      "id": "3b8ccbed",
      "metadata": {
        "id": "3b8ccbed"
      },
      "source": [
        "それを呼び出すときに、引数として `lunch` を渡すことができます。"
      ]
    },
    {
      "cell_type": "code",
      "execution_count": null,
      "id": "59b7f4f4",
      "metadata": {
        "id": "59b7f4f4"
      },
      "outputs": [],
      "source": [
        "print_time(lunch)"
      ]
    },
    {
      "cell_type": "markdown",
      "id": "18826e53",
      "metadata": {
        "id": "18826e53"
      },
      "source": [
        "## 戻り値としてのオブジェクト\n",
        "\n",
        "関数はオブジェクトを返すことができます。例えば、`make_time` という関数は、`hour`、`minute`、`second` というパラメータを受け取り、それらを `Time` オブジェクトの属性として保存し、新しいオブジェクトを返します。"
      ]
    },
    {
      "cell_type": "code",
      "execution_count": null,
      "id": "fde15b59",
      "metadata": {
        "id": "fde15b59"
      },
      "outputs": [],
      "source": [
        "def make_time(hour, minute, second):\n",
        "    time = Time()\n",
        "    time.hour = hour\n",
        "    time.minute = minute\n",
        "    time.second = second\n",
        "    return time"
      ]
    },
    {
      "cell_type": "markdown",
      "id": "d8a6acca",
      "metadata": {
        "id": "d8a6acca"
      },
      "source": [
        "`make_time` を使用して `Time` オブジェクトを作成する方法を説明します。パラメーターが属性と同じ名前を持つのは意外かもしれませんが、このような関数を書く一般的な方法です。"
      ]
    },
    {
      "cell_type": "code",
      "execution_count": null,
      "id": "f4199d7f",
      "metadata": {
        "id": "f4199d7f"
      },
      "outputs": [],
      "source": [
        "time = make_time(11, 59, 1)\n",
        "print_time(time)"
      ]
    },
    {
      "cell_type": "markdown",
      "id": "05720bcb",
      "metadata": {
        "id": "05720bcb"
      },
      "source": [
        "## オブジェクトはミュータブル\n",
        "\n",
        "例えば、*Monty Python and the Holy Grail* の映画上映に行くと仮定しましょう。この映画は `9:20 PM` に開始し、 `92` 分、つまり `1` 時間 `32` 分間上映されます。\n",
        "映画は何時に終わるでしょうか？\n",
        "\n",
        "まず、開始時間を表す `Time` オブジェクトを作成します。"
      ]
    },
    {
      "cell_type": "code",
      "execution_count": null,
      "id": "57847af3",
      "metadata": {
        "id": "57847af3"
      },
      "outputs": [],
      "source": [
        "start = make_time(9, 20, 0)\n",
        "print_time(start)"
      ]
    },
    {
      "cell_type": "markdown",
      "id": "001bcda9",
      "metadata": {
        "id": "001bcda9"
      },
      "source": [
        "終了時間を見つけるためには、映画の持続時間を追加して、`Time`オブジェクトの属性を変更することができます。"
      ]
    },
    {
      "cell_type": "code",
      "execution_count": null,
      "id": "f3637b10",
      "metadata": {
        "id": "f3637b10"
      },
      "outputs": [],
      "source": [
        "start.hour += 1\n",
        "start.minute += 32\n",
        "print_time(start)"
      ]
    },
    {
      "cell_type": "markdown",
      "id": "7007ab61",
      "metadata": {
        "id": "7007ab61"
      },
      "source": [
        "映画は午後10時52分に終了します。\n",
        "\n",
        "この計算を関数に組み込み、映画の長さを `hours`、`minutes`、`seconds` の3つのパラメータとして受け取るように一般化しましょう。"
      ]
    },
    {
      "cell_type": "code",
      "execution_count": null,
      "id": "3468f4d0",
      "metadata": {
        "id": "3468f4d0"
      },
      "outputs": [],
      "source": [
        "def increment_time(time, hours, minutes, seconds):\n",
        "    time.hour += hours\n",
        "    time.minute += minutes\n",
        "    time.second += seconds"
      ]
    },
    {
      "cell_type": "markdown",
      "id": "a51913e2",
      "metadata": {
        "id": "a51913e2"
      },
      "source": [
        "こちらはその効果を示す例です。"
      ]
    },
    {
      "cell_type": "code",
      "execution_count": null,
      "id": "ad8177ad",
      "metadata": {
        "id": "ad8177ad"
      },
      "outputs": [],
      "source": [
        "start = make_time(9, 20, 0)\n",
        "increment_time(start, 1, 32, 0)\n",
        "print_time(start)"
      ]
    },
    {
      "cell_type": "markdown",
      "id": "42d7de02",
      "metadata": {
        "id": "42d7de02"
      },
      "source": [
        "次のスタック図は、`increment_time` がオブジェクトを変更する直前のプログラムの状態を示しています。"
      ]
    },
    {
      "cell_type": "code",
      "execution_count": null,
      "id": "6f90c060",
      "metadata": {
        "tags": [],
        "id": "6f90c060"
      },
      "outputs": [],
      "source": [
        "from diagram import Frame, Binding, Value, Stack\n",
        "\n",
        "d1 = dict(hour=9, minute=20, second=0)\n",
        "obj1 = make_frame(d1, name='Time', dy=-0.25, offsetx=0.78)\n",
        "\n",
        "binding1 = make_binding('start', frame, draw_value=False, dx=0.7)\n",
        "frame1 = Frame([binding1], name='__main__', loc='left', offsetx=-0.2)\n",
        "\n",
        "binding2 = Binding(Value('time'), draw_value=False, dx=0.7, dy=0.35)\n",
        "binding3 = make_binding('hours', 1)\n",
        "binding4 = make_binding('minutes',32)\n",
        "binding5 = make_binding('seconds', 0)\n",
        "frame2 = Frame([binding2, binding3, binding4, binding5], name='increment_time',\n",
        "               loc='left', dy=-0.25, offsetx=0.08)\n",
        "\n",
        "stack = Stack([frame1, frame2], dx=-0.3, dy=-0.5)"
      ]
    },
    {
      "cell_type": "code",
      "execution_count": null,
      "id": "93a1db71",
      "metadata": {
        "tags": [],
        "id": "93a1db71"
      },
      "outputs": [],
      "source": [
        "from diagram import Bbox\n",
        "\n",
        "width, height, x, y = [3.4, 1.89, 1.75, 1.5]\n",
        "ax = diagram(width, height)\n",
        "bbox1 = stack.draw(ax, x, y)\n",
        "bbox2 = obj1.draw(ax, x+0.23, y)\n",
        "bbox = Bbox.union([bbox1, bbox2])\n",
        "# adjust(x, y, bbox)"
      ]
    },
    {
      "cell_type": "markdown",
      "id": "d1e27667",
      "metadata": {
        "id": "d1e27667"
      },
      "source": [
        "関数内で、`time`は`start`のエイリアスになっているので、`time`が変更されると`start`も変わります。\n",
        "\n",
        "この関数は動作しますが、実行後には*終了*時間を表すオブジェクトに関連付けられた変数`start`が残され、開始時間を表すオブジェクトがなくなってしまいます。\n",
        "`start`を変更せずに終了時間を表す新しいオブジェクトを作成する方が良いでしょう。\n",
        "それには`start`をコピーして、そのコピーを変更する方法があります。"
      ]
    },
    {
      "cell_type": "markdown",
      "id": "0128f850",
      "metadata": {
        "id": "0128f850"
      },
      "source": [
        "## コピー\n",
        "\n",
        "`copy` モジュールは、任意のオブジェクトを複製できる関数 `copy` を提供します。\n",
        "これを次のようにインポートすることができます。"
      ]
    },
    {
      "cell_type": "code",
      "execution_count": null,
      "id": "9f74834d",
      "metadata": {
        "id": "9f74834d"
      },
      "outputs": [],
      "source": [
        "from copy import copy"
      ]
    },
    {
      "cell_type": "markdown",
      "id": "940adbeb",
      "metadata": {
        "id": "940adbeb"
      },
      "source": [
        "その仕組みを確認するために、映画の開始時刻を表す新しい`Time`オブジェクトを作成しましょう。"
      ]
    },
    {
      "cell_type": "code",
      "execution_count": null,
      "id": "770c077a",
      "metadata": {
        "id": "770c077a"
      },
      "outputs": [],
      "source": [
        "start = make_time(9, 20, 0)"
      ]
    },
    {
      "cell_type": "markdown",
      "id": "514f05b9",
      "metadata": {
        "id": "514f05b9"
      },
      "source": [
        "コピーを作成してください。"
      ]
    },
    {
      "cell_type": "code",
      "execution_count": null,
      "id": "edced6e5",
      "metadata": {
        "id": "edced6e5"
      },
      "outputs": [],
      "source": [
        "end = copy(start)"
      ]
    },
    {
      "cell_type": "markdown",
      "id": "87d8956b",
      "metadata": {
        "id": "87d8956b"
      },
      "source": [
        "`start`と`end`は同じデータを含んでいます。"
      ]
    },
    {
      "cell_type": "code",
      "execution_count": null,
      "id": "509c3640",
      "metadata": {
        "id": "509c3640"
      },
      "outputs": [],
      "source": [
        "print_time(start)\n",
        "print_time(end)"
      ]
    },
    {
      "cell_type": "markdown",
      "id": "e75c1e09",
      "metadata": {
        "id": "e75c1e09"
      },
      "source": [
        "しかし、`is` 演算子は、それらが同じオブジェクトではないことを確認します。"
      ]
    },
    {
      "cell_type": "code",
      "execution_count": null,
      "id": "60d812f7",
      "metadata": {
        "id": "60d812f7"
      },
      "outputs": [],
      "source": [
        "start is end"
      ]
    },
    {
      "cell_type": "markdown",
      "id": "22b68a3f",
      "metadata": {
        "id": "22b68a3f"
      },
      "source": [
        "`==` 演算子が何をするか見てみましょう。"
      ]
    },
    {
      "cell_type": "code",
      "execution_count": null,
      "id": "4d504362",
      "metadata": {
        "id": "4d504362"
      },
      "outputs": [],
      "source": [
        "start == end"
      ]
    },
    {
      "cell_type": "markdown",
      "id": "78ebf931",
      "metadata": {
        "id": "78ebf931"
      },
      "source": [
        "同じデータを含んでいるため、`==` が `True` を返すと予想するかもしれません。しかし、プログラマーが定義したクラスについては、`==` 演算子のデフォルトの動作は `is` 演算子と同じです。つまり、同一性を確認し、同等性を確認しません。"
      ]
    },
    {
      "cell_type": "markdown",
      "id": "a3934fdd-d4cd-41e0-86e6-5bb78d0886a7",
      "metadata": {
        "id": "a3934fdd-d4cd-41e0-86e6-5bb78d0886a7"
      },
      "source": [
        "純粋関数\n",
        "\n",
        "`copy`を使用して、そのパラメータを変更しない純粋関数を書くことができます。\n",
        "たとえば、次のような関数があります。この関数は`Time`オブジェクトと、時間、分、秒の継続時間を引数として受け取ります。\n",
        "この関数は、元のオブジェクトのコピーを作成し、そのコピーを`increment_time`を使用して変更し、結果を返します。"
      ]
    },
    {
      "cell_type": "code",
      "execution_count": null,
      "id": "85090d3e",
      "metadata": {
        "id": "85090d3e"
      },
      "outputs": [],
      "source": [
        "def add_time(time, hours, minutes, seconds):\n",
        "    total = copy(time)\n",
        "    increment_time(total, hours, minutes, seconds)\n",
        "    return total"
      ]
    },
    {
      "cell_type": "markdown",
      "id": "c181af12",
      "metadata": {
        "id": "c181af12"
      },
      "source": [
        "これがその使い方です。"
      ]
    },
    {
      "cell_type": "code",
      "execution_count": null,
      "id": "1d9cf4da",
      "metadata": {
        "id": "1d9cf4da"
      },
      "outputs": [],
      "source": [
        "end = add_time(start, 1, 32, 0)\n",
        "print_time(end)"
      ]
    },
    {
      "cell_type": "markdown",
      "id": "54b1ca4a",
      "metadata": {
        "id": "54b1ca4a"
      },
      "source": [
        "返り値は映画の終了時間を表す新しいオブジェクトです。そして、`start`が変更されていないことを確認できます。"
      ]
    },
    {
      "cell_type": "code",
      "execution_count": null,
      "id": "9fe30d71",
      "metadata": {
        "id": "9fe30d71"
      },
      "outputs": [],
      "source": [
        "print_time(start)"
      ]
    },
    {
      "cell_type": "markdown",
      "id": "1233b2db",
      "metadata": {
        "id": "1233b2db"
      },
      "source": [
        "`add_time`は**純粋関数**です。なぜなら、引数として渡されたオブジェクトを変更せず、返り値を返すことだけがその効果だからです。\n",
        "\n",
        "純粋関数でできることは、非純粋関数でも実行可能です。実際、一部のプログラミング言語では純粋関数のみが許可されています。純粋関数を使用するプログラムはエラーが少ない傾向がありますが、非純粋関数は便利で、時には効率的であることもあります。\n",
        "\n",
        "一般的に、合理的な場合には純粋関数を書くことをお勧めし、説得力のある利点がある場合のみ非純粋関数に頼ることを推奨します。このアプローチは**関数型プログラミングスタイル**と呼ばれるかもしれません。"
      ]
    },
    {
      "cell_type": "markdown",
      "id": "9d9fabbc",
      "metadata": {
        "id": "9d9fabbc"
      },
      "source": [
        "## プロトタイプとパッチ\n",
        "\n",
        "前の例では、`increment_time` と `add_time` は動作しているように見えますが、別の例を試すと、それらが完全には正しくないことがわかります。\n",
        "\n",
        "劇場に到着して映画が `9:20` ではなく `9:40` に始まることがわかったとします。\n",
        "更新された終了時間を計算すると何が起こるか見てみましょう。"
      ]
    },
    {
      "cell_type": "code",
      "execution_count": null,
      "id": "57a96bf9-7d7b-4715-a4b3-2dfad1beb670",
      "metadata": {
        "id": "57a96bf9-7d7b-4715-a4b3-2dfad1beb670"
      },
      "outputs": [],
      "source": [
        "start = make_time(9, 40, 0)\n",
        "end = add_time(start, 1, 32, 0)\n",
        "print_time(end)"
      ]
    },
    {
      "cell_type": "markdown",
      "id": "c712ebf7-7e52-490e-91d7-5f1c83334de0",
      "metadata": {
        "id": "c712ebf7-7e52-490e-91d7-5f1c83334de0"
      },
      "source": [
        "結果は有効な時間ではありません。\n",
        "問題は、`increment_time`が秒や分が60以上になるケースを処理していないことです。\n",
        "\n",
        "秒が60以上の場合に分を繰り上げ、分が60以上の場合に時間を繰り上げるように改善したバージョンがこちらです。"
      ]
    },
    {
      "cell_type": "code",
      "execution_count": null,
      "id": "5bada1df-be0a-4f6a-8fe3-d92bd937dc70",
      "metadata": {
        "id": "5bada1df-be0a-4f6a-8fe3-d92bd937dc70"
      },
      "outputs": [],
      "source": [
        "def increment_time(time, hours, minutes, seconds):\n",
        "    time.hour += hours\n",
        "    time.minute += minutes\n",
        "    time.second += seconds\n",
        "\n",
        "    if time.second >= 60:\n",
        "        time.second -= 60\n",
        "        time.minute += 1\n",
        "\n",
        "    if time.minute >= 60:\n",
        "        time.minute -= 60\n",
        "        time.hour += 1"
      ]
    },
    {
      "cell_type": "markdown",
      "id": "c133c5d8",
      "metadata": {
        "id": "c133c5d8"
      },
      "source": [
        "`increment_time`を修正すると、それを使用する`add_time`も修正されます。\n",
        "そのため、以前の例が正しく動作するようになりました。"
      ]
    },
    {
      "cell_type": "code",
      "execution_count": null,
      "id": "a139b64b",
      "metadata": {
        "id": "a139b64b"
      },
      "outputs": [],
      "source": [
        "end = add_time(start, 1, 32, 0)\n",
        "print_time(end)"
      ]
    },
    {
      "cell_type": "markdown",
      "id": "a2f644a6-ca43-494e-af14-6e845b3d7973",
      "metadata": {
        "id": "a2f644a6-ca43-494e-af14-6e845b3d7973"
      },
      "source": [
        "しかし、この関数はまだ正しくありません。なぜなら、引数が`60`を超える可能性があるからです。例えば、`92`分として指定された場合、`1`時間`32`分という形になります。このような場合、`add_time`は次のように呼び出すかもしれません。"
      ]
    },
    {
      "cell_type": "code",
      "execution_count": null,
      "id": "8c9384cb",
      "metadata": {
        "id": "8c9384cb"
      },
      "outputs": [],
      "source": [
        "end = add_time(start, 0, 92, 0)\n",
        "print_time(end)"
      ]
    },
    {
      "cell_type": "markdown",
      "id": "72e0a08b",
      "metadata": {
        "id": "72e0a08b"
      },
      "source": [
        "結果は有効な時間ではありません。  \n",
        "そこで、`divmod` 関数を使用して別のアプローチを試してみましょう。  \n",
        "`start` のコピーを作成し、`minute` 属性をインクリメントしてそれを変更します。"
      ]
    },
    {
      "cell_type": "code",
      "execution_count": null,
      "id": "47b04507",
      "metadata": {
        "id": "47b04507"
      },
      "outputs": [],
      "source": [
        "end = copy(start)\n",
        "end.minute = start.minute + 92\n",
        "end.minute"
      ]
    },
    {
      "cell_type": "markdown",
      "id": "c56355bc",
      "metadata": {
        "id": "c56355bc"
      },
      "source": [
        "`minute` は現在 `132` であり、これは `2` 時間と `12` 分です。`divmod` を使用して `60` で割ると、時間の整数部分と残りの分数を返すことができます。"
      ]
    },
    {
      "cell_type": "code",
      "execution_count": null,
      "id": "8ce8f8bc",
      "metadata": {
        "id": "8ce8f8bc"
      },
      "outputs": [],
      "source": [
        "carry, end.minute = divmod(end.minute, 60)\n",
        "carry, end.minute"
      ]
    },
    {
      "cell_type": "markdown",
      "id": "43204703",
      "metadata": {
        "id": "43204703"
      },
      "source": [
        "「minute」が正しいので、「hour」に時間を追加できます。"
      ]
    },
    {
      "cell_type": "code",
      "execution_count": null,
      "id": "90445645",
      "metadata": {
        "id": "90445645"
      },
      "outputs": [],
      "source": [
        "end.hour += carry\n",
        "print_time(end)"
      ]
    },
    {
      "cell_type": "markdown",
      "id": "a68ae1cd",
      "metadata": {
        "id": "a68ae1cd"
      },
      "source": [
        "結果は有効な時間です。同じことを `hour` と `second` でも行い、この全過程を関数にまとめることができます。"
      ]
    },
    {
      "cell_type": "code",
      "execution_count": null,
      "id": "0a9653a2",
      "metadata": {
        "id": "0a9653a2"
      },
      "outputs": [],
      "source": [
        "def increment_time(time, hours, minutes, seconds):\n",
        "    time.hour += hours\n",
        "    time.minute += minutes\n",
        "    time.second += seconds\n",
        "\n",
        "    carry, time.second = divmod(time.second, 60)\n",
        "    carry, time.minute = divmod(time.minute + carry, 60)\n",
        "    carry, time.hour = divmod(time.hour + carry, 24)"
      ]
    },
    {
      "cell_type": "markdown",
      "id": "7437113a",
      "metadata": {
        "id": "7437113a"
      },
      "source": [
        "このバージョンの`increment_time`を使えば、`add_time`は引数が`60`を超えていても正しく動作します。"
      ]
    },
    {
      "cell_type": "code",
      "execution_count": null,
      "id": "694cfdd1",
      "metadata": {
        "id": "694cfdd1"
      },
      "outputs": [],
      "source": [
        "end = add_time(start, 0, 90, 120)\n",
        "print_time(end)"
      ]
    },
    {
      "cell_type": "markdown",
      "id": "7c6329b2",
      "metadata": {
        "id": "7c6329b2"
      },
      "source": [
        "このセクションでは、私が「プロトタイプとパッチ」と呼ぶプログラム開発計画を示します。最初の例で正しく動作するシンプルなプロトタイプから始めました。その後、より難しい例でテストを行い、エラーが見つかった場合には、パンクしたタイヤにパッチを当てるようにプログラムを修正しました。\n",
        "\n",
        "このアプローチは、特に問題について深い理解がまだない場合に効果的です。しかし、逐次的な修正は、多くの特別なケースに対処するため、不要に複雑であるコードを生成する可能性があり、すべてのエラーを見つけたかどうかわかりにくいため信頼性が低くなることがあります。"
      ]
    },
    {
      "cell_type": "markdown",
      "id": "39031461-49a9-4eba-a075-ef49a6f5552b",
      "metadata": {
        "id": "39031461-49a9-4eba-a075-ef49a6f5552b"
      },
      "source": [
        "## デザイン先行開発\n",
        "\n",
        "別の計画として、**デザイン先行開発**があります。これはプロトタイピングの前により多くの計画を立てることを含みます。デザイン先行のプロセスでは、問題に対する高レベルの洞察がプログラミングを非常に簡単にすることがあります。\n",
        "\n",
        "この場合の洞察は、`Time`オブジェクトを60進数、つまりセクサジマルの3桁の数として考えることができるということです。`second`属性は「1の位」、`minute`属性は「60の位」、`hour`属性は「3600の位」となります。`increment_time`を書いたとき、実質的に60進数での加算を行っており、これが桁上げが必要な理由です。\n",
        "\n",
        "この観察は、問題全体に対する別のアプローチを示唆します。つまり、`Time`オブジェクトを整数に変換し、Pythonが整数演算を行うことができるという事実を利用できるということです。\n",
        "\n",
        "以下に、`Time`を整数に変換する関数を示します。"
      ]
    },
    {
      "cell_type": "code",
      "execution_count": null,
      "id": "a4427f06-10f3-478f-af4b-888297ee59ac",
      "metadata": {
        "id": "a4427f06-10f3-478f-af4b-888297ee59ac"
      },
      "outputs": [],
      "source": [
        "def time_to_int(time):\n",
        "    minutes = time.hour * 60 + time.minute\n",
        "    seconds = minutes * 60 + time.second\n",
        "    return seconds"
      ]
    },
    {
      "cell_type": "markdown",
      "id": "c7e7789e",
      "metadata": {
        "id": "c7e7789e"
      },
      "source": [
        "結果は、1日の始まりからの経過秒数です。例えば、「01:01:01」は1日の始まりから「1」時間、「1」分、「1」秒に相当し、「3600」秒、「60」秒、「1」秒の合計になります。"
      ]
    },
    {
      "cell_type": "code",
      "execution_count": null,
      "id": "e71f9661",
      "metadata": {
        "id": "e71f9661"
      },
      "outputs": [],
      "source": [
        "time = make_time(1, 1, 1)\n",
        "print_time(time)\n",
        "time_to_int(time)"
      ]
    },
    {
      "cell_type": "markdown",
      "id": "6ea525c8-4547-4bde-91c3-17f45add1bf8",
      "metadata": {
        "id": "6ea525c8-4547-4bde-91c3-17f45add1bf8"
      },
      "source": [
        "こちらは逆方向、すなわち整数を`Time`オブジェクトに変換する関数であり、`divmod`関数を使用しています。"
      ]
    },
    {
      "cell_type": "code",
      "execution_count": null,
      "id": "7a93edcc-de21-43b1-b0a9-1bcbc7f6125c",
      "metadata": {
        "id": "7a93edcc-de21-43b1-b0a9-1bcbc7f6125c"
      },
      "outputs": [],
      "source": [
        "def int_to_time(seconds):\n",
        "    minute, second = divmod(seconds, 60)\n",
        "    hour, minute = divmod(minute, 60)\n",
        "    return make_time(hour, minute, second)"
      ]
    },
    {
      "cell_type": "markdown",
      "id": "4706b5df",
      "metadata": {
        "id": "4706b5df"
      },
      "source": [
        "前の例を`Time`に戻してテストすることができます。"
      ]
    },
    {
      "cell_type": "code",
      "execution_count": null,
      "id": "967fc3c2",
      "metadata": {
        "id": "967fc3c2"
      },
      "outputs": [],
      "source": [
        "time = int_to_time(3661)\n",
        "print_time(time)"
      ]
    },
    {
      "cell_type": "markdown",
      "id": "0c2b8469-d4a7-46f9-a0a1-f2a6c1595183",
      "metadata": {
        "id": "0c2b8469-d4a7-46f9-a0a1-f2a6c1595183"
      },
      "source": [
        "これらの関数を使用して、`add_time` のより簡潔なバージョンを書くことができます。"
      ]
    },
    {
      "cell_type": "code",
      "execution_count": null,
      "id": "0278a042-9e5b-460f-bd26-2fa319e7193a",
      "metadata": {
        "id": "0278a042-9e5b-460f-bd26-2fa319e7193a"
      },
      "outputs": [],
      "source": [
        "def add_time(time, hours, minutes, seconds):\n",
        "    duration = make_time(hours, minutes, seconds)\n",
        "    seconds = time_to_int(time) + time_to_int(duration)\n",
        "    return int_to_time(seconds)"
      ]
    },
    {
      "cell_type": "markdown",
      "id": "cb560257",
      "metadata": {
        "id": "cb560257"
      },
      "source": [
        "最初の行は、引数を`Time`オブジェクトである`duration`に変換します。  \n",
        "2番目の行は、`time`と`duration`を秒に変換してそれらを加算します。  \n",
        "3番目の行は、その合計を`Time`オブジェクトに変換して返します。\n",
        "\n",
        "仕組みは以下の通りです。"
      ]
    },
    {
      "cell_type": "code",
      "execution_count": null,
      "id": "ee78ffbc",
      "metadata": {
        "id": "ee78ffbc"
      },
      "outputs": [],
      "source": [
        "start = make_time(9, 40, 0)\n",
        "end = add_time(start, 1, 32, 0)\n",
        "print_time(end)"
      ]
    },
    {
      "cell_type": "markdown",
      "id": "db762aa8-4aab-4c17-a88d-72c5048f18c0",
      "metadata": {
        "id": "db762aa8-4aab-4c17-a88d-72c5048f18c0"
      },
      "source": [
        "いくつかの点で、60進法から10進法への変換とその逆は、単に時刻を扱うよりも難しいです。数値基数の変換はより抽象的であり、時間の値を扱う直感のほうが優れています。\n",
        "\n",
        "しかし、時間を60進数として扱うという洞察を得て、変換関数 `time_to_int` と `int_to_time` を作成する努力を投資すれば、プログラムは短くなり、読みやすく、デバッグしやすく、またより信頼性の高いものになります。\n",
        "\n",
        "さらに、後で機能を追加するのも容易になります。たとえば、2つの `Time` オブジェクトを引いてその間の継続時間を求める場面を想像してください。素朴なアプローチは、借用を伴う減算を実装することですが、変換関数を使うほうが簡単で、正しい可能性が高いです。\n",
        "\n",
        "皮肉なことに、問題をより難しく、あるいは一般化することで、かえって簡単になることがあります。なぜなら、特別なケースが少なくなり、エラーの機会も減少するからです。"
      ]
    },
    {
      "cell_type": "markdown",
      "id": "a0d23d08",
      "metadata": {
        "tags": [],
        "id": "a0d23d08"
      },
      "source": [
        "## デバッグ\n",
        "\n",
        "Pythonには、オブジェクトを扱うプログラムのテストやデバッグに役立ついくつかの組み込み関数があります。\n",
        "例えば、オブジェクトの型がわからない場合、それを尋ねることができます。"
      ]
    },
    {
      "cell_type": "code",
      "execution_count": null,
      "id": "652bee8f",
      "metadata": {
        "id": "652bee8f"
      },
      "outputs": [],
      "source": [
        "type(start)"
      ]
    },
    {
      "cell_type": "markdown",
      "id": "7ec0eabf",
      "metadata": {
        "id": "7ec0eabf"
      },
      "source": [
        "`isinstance`を使用して、オブジェクトが特定のクラスのインスタンスであるかどうかを確認することもできます。"
      ]
    },
    {
      "cell_type": "code",
      "execution_count": null,
      "id": "3ab974e4",
      "metadata": {
        "id": "3ab974e4"
      },
      "outputs": [],
      "source": [
        "isinstance(end, Time)"
      ]
    },
    {
      "cell_type": "markdown",
      "id": "4f453fe9",
      "metadata": {
        "id": "4f453fe9"
      },
      "source": [
        "オブジェクトが特定の属性を持っているかどうか確信がない場合は、組み込み関数 `hasattr` を使用できます。"
      ]
    },
    {
      "cell_type": "code",
      "execution_count": null,
      "id": "5f80e5ad",
      "metadata": {
        "id": "5f80e5ad"
      },
      "outputs": [],
      "source": [
        "hasattr(start, 'hour')"
      ]
    },
    {
      "cell_type": "markdown",
      "id": "a0131d84",
      "metadata": {
        "id": "a0131d84"
      },
      "source": [
        "辞書内のすべての属性とその値を取得するには、`vars` を使用できます。"
      ]
    },
    {
      "cell_type": "code",
      "execution_count": null,
      "id": "2a102f0f",
      "metadata": {
        "id": "2a102f0f"
      },
      "outputs": [],
      "source": [
        "vars(start)"
      ]
    },
    {
      "cell_type": "markdown",
      "id": "f1a443c8",
      "metadata": {
        "id": "f1a443c8"
      },
      "source": [
        "`structshape`モジュールは、[第11章](section_debugging_11)で見たように、プログラマーが定義した型でも動作します。"
      ]
    },
    {
      "cell_type": "code",
      "execution_count": null,
      "id": "b71f46d8",
      "metadata": {
        "tags": [],
        "id": "b71f46d8"
      },
      "outputs": [],
      "source": [
        "download('https://raw.githubusercontent.com/AllenDowney/ThinkPython/v3/structshape.py');"
      ]
    },
    {
      "cell_type": "code",
      "execution_count": null,
      "id": "1e6498a8",
      "metadata": {
        "id": "1e6498a8"
      },
      "outputs": [],
      "source": [
        "from structshape import structshape\n",
        "\n",
        "t = start, end\n",
        "structshape(t)"
      ]
    },
    {
      "cell_type": "markdown",
      "id": "501436c0-6634-415f-be84-2d130232b2b8",
      "metadata": {
        "id": "501436c0-6634-415f-be84-2d130232b2b8"
      },
      "source": [
        "## 用語集\n",
        "\n",
        "**オブジェクト指向プログラミング:**  \n",
        "オブジェクトを使用してコードとデータを整理するプログラミングスタイル。\n",
        "\n",
        "**クラス:**  \n",
        "プログラマーが定義する型。クラス定義は新しいクラスオブジェクトを生成する。\n",
        "\n",
        "**クラスオブジェクト:**  \n",
        "クラスを表すオブジェクトで、クラス定義の結果として作成される。\n",
        "\n",
        "**インスタンス化:**  \n",
        "クラスに属するオブジェクトを作成するプロセス。\n",
        "\n",
        "**インスタンス:**  \n",
        "クラスに属するオブジェクト。\n",
        "\n",
        "**属性:**  \n",
        "オブジェクトに関連付けられた変数で、インスタンス変数とも呼ばれる。\n",
        "\n",
        "**オブジェクト図:**  \n",
        "オブジェクト、その属性、およびその値のグラフィカルな表現。\n",
        "\n",
        "**フォーマット指定子:**  \n",
        "f文字列において、フォーマット指定子は値がどのように文字列に変換されるかを決定する。\n",
        "\n",
        "**純粋関数:**  \n",
        "パラメータを変更せず、値を返す以外に影響を与えることのない関数。\n",
        "\n",
        "**関数型プログラミングスタイル:**  \n",
        "可能な限り純粋関数を使用するプログラミング手法。\n",
        "\n",
        "**プロトタイプとパッチ:**  \n",
        "おおまかなドラフトから始め、徐々に機能を追加しバグを修正することでプログラムを開発する方法。\n",
        "\n",
        "**デザインファースト開発:**  \n",
        "プロトタイプとパッチよりも慎重な計画を立ててプログラムを開発する方法。"
      ]
    },
    {
      "cell_type": "markdown",
      "id": "09dd41c1",
      "metadata": {
        "id": "09dd41c1"
      },
      "source": [
        "## 演習問題"
      ]
    },
    {
      "cell_type": "code",
      "execution_count": null,
      "id": "ab3d0104",
      "metadata": {
        "tags": [],
        "id": "ab3d0104"
      },
      "outputs": [],
      "source": [
        "# This cell tells Jupyter to provide detailed debugging information\n",
        "# when a runtime error occurs. Run it before working on the exercises.\n",
        "\n",
        "%xmode Verbose"
      ]
    },
    {
      "cell_type": "markdown",
      "id": "da0aea86",
      "metadata": {
        "id": "da0aea86"
      },
      "source": [
        "### バーチャルアシスタントに質問する\n",
        "\n",
        "この章には新しいボキャブラリーがたくさん含まれています。\n",
        "バーチャルアシスタントとの会話が理解を強化するのに役立ちます。\n",
        "以下の質問を検討してください：\n",
        "\n",
        "* 「クラスとタイプの違いは何ですか？」\n",
        "\n",
        "* 「オブジェクトとインスタンスの違いは何ですか？」\n",
        "\n",
        "* 「変数と属性の違いは何ですか？」\n",
        "\n",
        "* 「純粋関数と不純関数の利点と欠点は何ですか？」\n",
        "\n",
        "オブジェクト指向プログラミングを始めたばかりなので、この章のコードは慣用的ではありません -- 経験豊富なプログラマーが書くようなコードではありません。\n",
        "練習問題についてバーチャルアシスタントに助けを求めた場合、まだ取り扱っていない機能が表示されることがあります。\n",
        "特に、インスタンスの属性を初期化するために使用される`__init__`というメソッドが表示されるかもしれません。\n",
        "\n",
        "これらの機能が理解できるなら、ぜひ使用してください。\n",
        "しかし、理解できない場合は、時間をかけてください -- すぐにその内容に到達します。\n",
        "それまでの間、これまでに取り扱った機能のみを使用して、以下の練習問題を解いてみてください。\n",
        "\n",
        "また、この章ではフォーマット指定子の例が1つ紹介されました。詳細については、「Pythonのf-stringで使用できるフォーマット指定子は何ですか？」と質問してください。"
      ]
    },
    {
      "cell_type": "markdown",
      "id": "bcdab7d6",
      "metadata": {
        "id": "bcdab7d6"
      },
      "source": [
        "```python\n",
        "class Time:\n",
        "    def __init__(self, hour=0, minute=0, second=0):\n",
        "        self.hour = hour\n",
        "        self.minute = minute\n",
        "        self.second = second\n",
        "\n",
        "def subtract_time(time1, time2):\n",
        "    time1_in_seconds = time1.hour * 3600 + time1.minute * 60 + time1.second\n",
        "    time2_in_seconds = time2.hour * 3600 + time2.minute * 60 + time2.second\n",
        "    return abs(time1_in_seconds - time2_in_seconds)\n",
        "```\n",
        "\n",
        "この関数`subtract_time`は、2つの`Time`オブジェクトを受け取り、その間の差を秒単位で返します。2つの時刻は同じ日の範囲内であると仮定しています。"
      ]
    },
    {
      "cell_type": "markdown",
      "id": "5033ee5f",
      "metadata": {
        "tags": [],
        "id": "5033ee5f"
      },
      "source": [
        "これを始めるための関数のアウトラインを示します。"
      ]
    },
    {
      "cell_type": "code",
      "execution_count": null,
      "id": "7d898f43",
      "metadata": {
        "tags": [],
        "id": "7d898f43"
      },
      "outputs": [],
      "source": [
        "def subtract_time(t1, t2):\n",
        "    \"\"\"Compute the difference between two times in seconds.\n",
        "\n",
        "    >>> subtract_time(make_time(3, 2, 1), make_time(3, 2, 0))\n",
        "    1\n",
        "    >>> subtract_time(make_time(3, 2, 1), make_time(3, 0, 0))\n",
        "    121\n",
        "    >>> subtract_time(make_time(11, 12, 0), make_time(9, 40, 0))\n",
        "    5520\n",
        "    \"\"\"\n",
        "    return None"
      ]
    },
    {
      "cell_type": "code",
      "execution_count": null,
      "id": "f1b54959",
      "metadata": {
        "id": "f1b54959"
      },
      "outputs": [],
      "source": [
        "# Solution goes here"
      ]
    },
    {
      "cell_type": "markdown",
      "id": "73334265",
      "metadata": {
        "tags": [],
        "id": "73334265"
      },
      "source": [
        "`doctest`を使用して関数をテストできます。"
      ]
    },
    {
      "cell_type": "code",
      "execution_count": null,
      "id": "5a25a3de",
      "metadata": {
        "tags": [],
        "id": "5a25a3de"
      },
      "outputs": [],
      "source": [
        "from doctest import run_docstring_examples\n",
        "\n",
        "def run_doctests(func):\n",
        "    run_docstring_examples(func, globals(), name=func.__name__)\n",
        "\n",
        "run_doctests(subtract_time)"
      ]
    },
    {
      "cell_type": "markdown",
      "id": "c3189549",
      "metadata": {
        "id": "c3189549"
      },
      "source": [
        "関数`is_after`を作成し、2つの`Time`オブジェクトを引数として受け取り、最初の時刻が2番目の時刻よりも遅い場合に`True`を返し、そうでない場合に`False`を返します。"
      ]
    },
    {
      "cell_type": "markdown",
      "id": "fd4ac340",
      "metadata": {
        "tags": [],
        "id": "fd4ac340"
      },
      "source": [
        "こちらが始めるための関数の概要です。"
      ]
    },
    {
      "cell_type": "code",
      "execution_count": null,
      "id": "05499ffa",
      "metadata": {
        "id": "05499ffa"
      },
      "outputs": [],
      "source": [
        "def is_after(t1, t2):\n",
        "    \"\"\"Checks whether `t1` is after `t2`.\n",
        "\n",
        "    >>> is_after(make_time(3, 2, 1), make_time(3, 2, 0))\n",
        "    True\n",
        "    >>> is_after(make_time(3, 2, 1), make_time(3, 2, 1))\n",
        "    False\n",
        "    >>> is_after(make_time(11, 12, 0), make_time(9, 40, 0))\n",
        "    True\n",
        "    \"\"\"\n",
        "    return None"
      ]
    },
    {
      "cell_type": "code",
      "execution_count": null,
      "id": "12b4ad17",
      "metadata": {
        "id": "12b4ad17"
      },
      "outputs": [],
      "source": [
        "# Solution goes here"
      ]
    },
    {
      "cell_type": "markdown",
      "id": "f9da8ede",
      "metadata": {
        "tags": [],
        "id": "f9da8ede"
      },
      "source": [
        "関数をテストするために `doctest` を使用できます。"
      ]
    },
    {
      "cell_type": "code",
      "execution_count": null,
      "id": "4e580404",
      "metadata": {
        "tags": [],
        "id": "4e580404"
      },
      "outputs": [],
      "source": [
        "run_doctests(is_after)"
      ]
    },
    {
      "cell_type": "markdown",
      "id": "16dff862",
      "metadata": {
        "id": "16dff862"
      },
      "source": [
        "### 演習\n",
        "\n",
        "以下は年、月、日を表す`Date`クラスの定義です。"
      ]
    },
    {
      "cell_type": "code",
      "execution_count": null,
      "id": "c5de60ed",
      "metadata": {
        "id": "c5de60ed"
      },
      "outputs": [],
      "source": [
        "class Date:\n",
        "    \"\"\"Represents a year, month, and day\"\"\""
      ]
    },
    {
      "cell_type": "markdown",
      "id": "3311fa97",
      "metadata": {
        "id": "3311fa97"
      },
      "source": [
        "以下は `make_date`、`print_date`、および `is_after` 関数を実装する例です。\n",
        "\n",
        "```python\n",
        "class Date:\n",
        "    def __init__(self, year, month, day):\n",
        "        self.year = year\n",
        "        self.month = month\n",
        "        self.day = day\n",
        "\n",
        "def make_date(year, month, day):\n",
        "    \"\"\"年、月、日を受け取り、Dateオブジェクトを返す\"\"\"\n",
        "    return Date(year, month, day)\n",
        "\n",
        "def print_date(date):\n",
        "    \"\"\"Dateオブジェクトを受け取り、'YYYY-MM-DD'形式で表示する\"\"\"\n",
        "    print(f\"{date.year:04d}-{date.month:02d}-{date.day:02d}\")\n",
        "\n",
        "def date_to_tuple(date):\n",
        "    \"\"\"Dateオブジェクトを受け取り、(年, 月, 日)のタプルを返す\"\"\"\n",
        "    return (date.year, date.month, date.day)\n",
        "\n",
        "def is_after(date1, date2):\n",
        "    \"\"\"2つの日付を比較し、date1がdate2より後ならTrueを返す\"\"\"\n",
        "    return date_to_tuple(date1) > date_to_tuple(date2)\n",
        "\n",
        "# オブジェクトの作成\n",
        "date1 = make_date(1933, 6, 22)\n",
        "date2 = make_date(1933, 9, 17)\n",
        "\n",
        "# print_date関数をテスト\n",
        "print_date(date1)  # 結果は '1933-06-22' となるべき\n",
        "\n",
        "# is_after関数をテスト\n",
        "print(is_after(date2, date1))  # 結果は True となるべき\n",
        "```\n",
        "\n",
        "このコードは、指定された日付を表すオブジェクトを作成し、指定のフォーマットで表示し、2つの日付を比較してどちらが後かを判断します。最初のオブジェクトは1933年6月22日を表し、2番目のオブジェクトは1933年9月17日を表します。関数は適切に動作し、出力が期待通りになります。"
      ]
    },
    {
      "cell_type": "markdown",
      "id": "90b10ca5",
      "metadata": {
        "tags": [],
        "id": "90b10ca5"
      },
      "source": [
        "この関数のアウトラインを使用して始めることができます。"
      ]
    },
    {
      "cell_type": "code",
      "execution_count": null,
      "id": "9e16bcde",
      "metadata": {
        "tags": [],
        "id": "9e16bcde"
      },
      "outputs": [],
      "source": [
        "def make_date(year, month, day):\n",
        "    return None"
      ]
    },
    {
      "cell_type": "code",
      "execution_count": null,
      "id": "ff95300b",
      "metadata": {
        "id": "ff95300b"
      },
      "outputs": [],
      "source": [
        "# Solution goes here"
      ]
    },
    {
      "cell_type": "markdown",
      "id": "20c5edf8",
      "metadata": {
        "tags": [],
        "id": "20c5edf8"
      },
      "source": [
        "これらの例を使用して `make_date` をテストできます。"
      ]
    },
    {
      "cell_type": "code",
      "execution_count": null,
      "id": "62180007",
      "metadata": {
        "tags": [],
        "id": "62180007"
      },
      "outputs": [],
      "source": [
        "birthday1 = make_date(1933, 6, 22)"
      ]
    },
    {
      "cell_type": "code",
      "execution_count": null,
      "id": "2d70104e",
      "metadata": {
        "tags": [],
        "id": "2d70104e"
      },
      "outputs": [],
      "source": [
        "birthday2 = make_date(1933, 9, 17)"
      ]
    },
    {
      "cell_type": "markdown",
      "id": "16ff5bef",
      "metadata": {
        "tags": [],
        "id": "16ff5bef"
      },
      "source": [
        "この関数のアウトラインを使用して始めてください。"
      ]
    },
    {
      "cell_type": "code",
      "execution_count": null,
      "id": "2cc0653e",
      "metadata": {
        "tags": [],
        "id": "2cc0653e"
      },
      "outputs": [],
      "source": [
        "def print_date(date):\n",
        "    print('')"
      ]
    },
    {
      "cell_type": "code",
      "execution_count": null,
      "id": "0b8f63df",
      "metadata": {
        "id": "0b8f63df"
      },
      "outputs": [],
      "source": [
        "# Solution goes here"
      ]
    },
    {
      "cell_type": "markdown",
      "id": "c36c432e",
      "metadata": {
        "tags": [],
        "id": "c36c432e"
      },
      "source": [
        "この例を使って `print_date` をテストすることができます。"
      ]
    },
    {
      "cell_type": "code",
      "execution_count": null,
      "id": "2d0a026d",
      "metadata": {
        "tags": [],
        "id": "2d0a026d"
      },
      "outputs": [],
      "source": [
        "print_date(birthday1)"
      ]
    },
    {
      "cell_type": "markdown",
      "id": "17565b1e",
      "metadata": {
        "tags": [],
        "id": "17565b1e"
      },
      "source": [
        "次の関数の概要を使用して開始できます。"
      ]
    },
    {
      "cell_type": "code",
      "execution_count": null,
      "id": "70413f48",
      "metadata": {
        "tags": [],
        "id": "70413f48"
      },
      "outputs": [],
      "source": [
        "def is_after(date1, date2):\n",
        "    return None"
      ]
    },
    {
      "cell_type": "code",
      "execution_count": null,
      "id": "b244a057",
      "metadata": {
        "id": "b244a057"
      },
      "outputs": [],
      "source": [
        "# Solution goes here"
      ]
    },
    {
      "cell_type": "code",
      "execution_count": null,
      "id": "5fab04bd",
      "metadata": {
        "id": "5fab04bd"
      },
      "outputs": [],
      "source": [
        "# Solution goes here"
      ]
    },
    {
      "cell_type": "markdown",
      "id": "d9b5dd67",
      "metadata": {
        "tags": [],
        "id": "d9b5dd67"
      },
      "source": [
        "これらの例を使用して `is_after` をテストできます。"
      ]
    },
    {
      "cell_type": "code",
      "execution_count": null,
      "id": "59166d30",
      "metadata": {
        "tags": [],
        "id": "59166d30"
      },
      "outputs": [],
      "source": [
        "is_after(birthday1, birthday2)  # should be False"
      ]
    },
    {
      "cell_type": "code",
      "execution_count": null,
      "id": "c33706ee",
      "metadata": {
        "tags": [],
        "id": "c33706ee"
      },
      "outputs": [],
      "source": [
        "is_after(birthday2, birthday1)  # should be True"
      ]
    },
    {
      "cell_type": "markdown",
      "id": "d6f1cc2f",
      "metadata": {
        "id": "d6f1cc2f"
      },
      "source": [
        "申し訳ありませんが、翻訳するテキストが提供されていません。翻訳したい英語のテキストを入力してください。"
      ]
    },
    {
      "cell_type": "markdown",
      "id": "a7f4edf8",
      "metadata": {
        "tags": [],
        "id": "a7f4edf8"
      },
      "source": [
        "『Think Python: 第3版』(https://allendowney.github.io/ThinkPython/index.html)\n",
        "\n",
        "Copyright 2024 アレン・B・ダウニー (https://allendowney.com)\n",
        "\n",
        "コードライセンス: [MITライセンス](https://mit-license.org/)\n",
        "\n",
        "テキストライセンス: [クリエイティブ・コモンズ 表示 - 非営利 - 継承 4.0 国際](https://creativecommons.org/licenses/by-nc-sa/4.0/)"
      ]
    }
  ],
  "metadata": {
    "celltoolbar": "Tags",
    "kernelspec": {
      "display_name": "Python 3 (ipykernel)",
      "language": "python",
      "name": "python3"
    },
    "language_info": {
      "codemirror_mode": {
        "name": "ipython",
        "version": 3
      },
      "file_extension": ".py",
      "mimetype": "text/x-python",
      "name": "python",
      "nbconvert_exporter": "python",
      "pygments_lexer": "ipython3",
      "version": "3.10.11"
    },
    "colab": {
      "provenance": [],
      "include_colab_link": true
    }
  },
  "nbformat": 4,
  "nbformat_minor": 5
}