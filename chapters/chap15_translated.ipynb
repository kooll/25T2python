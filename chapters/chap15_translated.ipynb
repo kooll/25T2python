{
  "cells": [
    {
      "cell_type": "markdown",
      "metadata": {
        "id": "view-in-github",
        "colab_type": "text"
      },
      "source": [
        "<a href=\"https://colab.research.google.com/github/kooll/ThinkPythonJ/blob/main/chapters/chap15_translated.ipynb\" target=\"_parent\"><img src=\"https://colab.research.google.com/assets/colab-badge.svg\" alt=\"Open In Colab\"/></a>"
      ]
    },
    {
      "cell_type": "markdown",
      "id": "1331faa1",
      "metadata": {
        "id": "1331faa1"
      },
      "source": [
        "*Think Python 3e* の印刷版と電子書籍版は、[Bookshop.org](https://bookshop.org/a/98697/9781098155438) および [Amazon](https://www.amazon.com/_/dp/1098155432?smid=ATVPDKIKX0DER&_encoding=UTF8&tag=oreilly20-20&_encoding=UTF8&tag=greenteapre01-20&linkCode=ur2&linkId=e2a529f94920295d27ec8a06e757dc7c&camp=1789&creative=9325) から注文できます。"
      ]
    },
    {
      "cell_type": "code",
      "execution_count": null,
      "id": "3161b50b",
      "metadata": {
        "tags": [],
        "id": "3161b50b"
      },
      "outputs": [],
      "source": [
        "from os.path import basename, exists\n",
        "\n",
        "def download(url):\n",
        "    filename = basename(url)\n",
        "    if not exists(filename):\n",
        "        from urllib.request import urlretrieve\n",
        "\n",
        "        local, _ = urlretrieve(url, filename)\n",
        "        print(\"Downloaded \" + str(local))\n",
        "    return filename\n",
        "\n",
        "download('https://github.com/AllenDowney/ThinkPython/raw/v3/thinkpython.py');\n",
        "download('https://github.com/AllenDowney/ThinkPython/raw/v3/diagram.py');\n",
        "\n",
        "import thinkpython"
      ]
    },
    {
      "cell_type": "markdown",
      "id": "fa22117f",
      "metadata": {
        "id": "fa22117f"
      },
      "source": [
        "# クラスとメソッド\n",
        "\n",
        "Pythonは**オブジェクト指向言語**です。つまり、オブジェクト指向プログラミングをサポートする機能を提供しており、以下のような特長があります。\n",
        "\n",
        "-   計算の大半がオブジェクトに対する操作として表現されます。\n",
        "\n",
        "-   オブジェクトはしばしば現実世界のものを表し、メソッドは現実世界のものが相互作用する方法に対応することが多いです。\n",
        "\n",
        "-   プログラムにはクラスとメソッドの定義が含まれます。\n",
        "\n",
        "たとえば、前章では、日常的な時間の記録方法に対応する`Time`クラスを定義し、時間に関して人々が行うようなことに対応する関数を定義しました。\n",
        "しかし、`Time`クラスの定義とその後の関数定義との間に明示的な関係はありませんでした。\n",
        "関数をクラス定義の内部で定義された**メソッド**として書き直すことにより、この関係を明示することができます。"
      ]
    },
    {
      "cell_type": "markdown",
      "id": "9857823a",
      "metadata": {
        "id": "9857823a"
      },
      "source": [
        "## メソッドの定義\n",
        "\n",
        "前の章では、`Time` という名前のクラスを定義し、時刻を表示する `print_time` という関数を書きました。"
      ]
    },
    {
      "cell_type": "code",
      "execution_count": null,
      "id": "ee093ca4",
      "metadata": {
        "id": "ee093ca4"
      },
      "outputs": [],
      "source": [
        "class Time:\n",
        "    \"\"\"Represents the time of day.\"\"\"\n",
        "\n",
        "def print_time(time):\n",
        "    s = f'{time.hour:02d}:{time.minute:02d}:{time.second:02d}'\n",
        "    print(s)"
      ]
    },
    {
      "cell_type": "markdown",
      "id": "a89ddf58",
      "metadata": {
        "id": "a89ddf58"
      },
      "source": [
        "`print_time` をメソッドにするには、関数定義をクラス定義の中に移動するだけで済みます。インデントの変更に注意してください。\n",
        "\n",
        "同時に、パラメータの名前を `time` から `self` に変更します。この変更は必須ではありませんが、メソッドの最初のパラメータを `self` と命名することが慣例とされています。"
      ]
    },
    {
      "cell_type": "code",
      "execution_count": null,
      "id": "fd26a1bc",
      "metadata": {
        "id": "fd26a1bc"
      },
      "outputs": [],
      "source": [
        "class Time:\n",
        "    \"\"\"Represents the time of day.\"\"\"\n",
        "\n",
        "    def print_time(self):\n",
        "        s = f'{self.hour:02d}:{self.minute:02d}:{self.second:02d}'\n",
        "        print(s)"
      ]
    },
    {
      "cell_type": "markdown",
      "id": "8da4079c",
      "metadata": {
        "id": "8da4079c"
      },
      "source": [
        "このメソッドを呼び出すには、引数として `Time` オブジェクトを渡す必要があります。\n",
        "こちらが `Time` オブジェクトを作成するために使用する関数です。"
      ]
    },
    {
      "cell_type": "code",
      "execution_count": null,
      "id": "5fc157ea",
      "metadata": {
        "id": "5fc157ea"
      },
      "outputs": [],
      "source": [
        "def make_time(hour, minute, second):\n",
        "    time = Time()\n",
        "    time.hour = hour\n",
        "    time.minute = minute\n",
        "    time.second = second\n",
        "    return time"
      ]
    },
    {
      "cell_type": "markdown",
      "id": "c6ad4e12",
      "metadata": {
        "id": "c6ad4e12"
      },
      "source": [
        "そして、こちらが`Time`インスタンスです。"
      ]
    },
    {
      "cell_type": "code",
      "execution_count": null,
      "id": "35acd8e6",
      "metadata": {
        "id": "35acd8e6"
      },
      "outputs": [],
      "source": [
        "start = make_time(9, 40, 0)"
      ]
    },
    {
      "cell_type": "markdown",
      "id": "bbbcd333",
      "metadata": {
        "id": "bbbcd333"
      },
      "source": [
        "`print_time`を呼び出す方法は現在2つあります。1つ目（そしてあまり一般的ではない）方法は、関数の構文を使用することです。"
      ]
    },
    {
      "cell_type": "code",
      "execution_count": null,
      "id": "f755081c",
      "metadata": {
        "id": "f755081c"
      },
      "outputs": [],
      "source": [
        "Time.print_time(start)"
      ]
    },
    {
      "cell_type": "markdown",
      "id": "2eb0847e",
      "metadata": {
        "id": "2eb0847e"
      },
      "source": [
        "このバージョンでは、`Time`がクラス名で、`print_time`がメソッド名、`start`がパラメータとして渡されます。第二の（より慣用的な）方法は、メソッド構文を使用することです。"
      ]
    },
    {
      "cell_type": "code",
      "execution_count": null,
      "id": "d6f91aec",
      "metadata": {
        "id": "d6f91aec"
      },
      "outputs": [],
      "source": [
        "start.print_time()"
      ]
    },
    {
      "cell_type": "markdown",
      "id": "c80c40f0",
      "metadata": {
        "id": "c80c40f0"
      },
      "source": [
        "このバージョンでは、メソッドが呼び出される対象である `start` が「レシーバー」と呼ばれています。これは、メソッドを呼び出すことがオブジェクトにメッセージを送ることに似ているというアナロジーに基づいています。\n",
        "\n",
        "構文にかかわらず、メソッドの動作は同じです。レシーバーは最初のパラメーターに割り当てられるので、メソッド内では `self` が `start` と同じオブジェクトを指します。"
      ]
    },
    {
      "cell_type": "markdown",
      "id": "8deb6c34",
      "metadata": {
        "id": "8deb6c34"
      },
      "source": [
        "こちらは前章の`time_to_int`関数です。"
      ]
    },
    {
      "cell_type": "code",
      "execution_count": null,
      "id": "24c4c985",
      "metadata": {
        "id": "24c4c985"
      },
      "outputs": [],
      "source": [
        "def time_to_int(time):\n",
        "    minutes = time.hour * 60 + time.minute\n",
        "    seconds = minutes * 60 + time.second\n",
        "    return seconds"
      ]
    },
    {
      "cell_type": "markdown",
      "id": "144e043f",
      "metadata": {
        "id": "144e043f"
      },
      "source": [
        "こちらはメソッドとして書き直したバージョンです。"
      ]
    },
    {
      "cell_type": "code",
      "execution_count": null,
      "id": "dde6f15f",
      "metadata": {
        "id": "dde6f15f"
      },
      "outputs": [],
      "source": [
        "%%add_method_to Time\n",
        "\n",
        "    def time_to_int(self):\n",
        "        minutes = self.hour * 60 + self.minute\n",
        "        seconds = minutes * 60 + self.second\n",
        "        return seconds"
      ]
    },
    {
      "cell_type": "markdown",
      "id": "e3a721ab",
      "metadata": {
        "id": "e3a721ab"
      },
      "source": [
        "最初の行は特別なコマンド`add_method_to`を使用しており、これは以前に定義されたクラスにメソッドを追加します。このコマンドはJupyterノートブックで動作しますが、Pythonの一部ではないため、他の環境では機能しません。通常、クラスのすべてのメソッドはクラス定義の内部にあり、クラスと同時に定義されます。しかし、この本のためには、一度に1つのメソッドを定義することが役立ちます。\n",
        "\n",
        "前の例と同様に、メソッド定義はインデントされており、パラメータの名前は`self`です。それ以外の点では、メソッドは関数と同じです。それをどのように呼び出すか、次に示します。"
      ]
    },
    {
      "cell_type": "code",
      "execution_count": null,
      "id": "8943fa0a",
      "metadata": {
        "id": "8943fa0a"
      },
      "outputs": [],
      "source": [
        "start.time_to_int()"
      ]
    },
    {
      "cell_type": "markdown",
      "id": "14565505",
      "metadata": {
        "id": "14565505"
      },
      "source": [
        "関数を「呼び出す」と言い、メソッドを「インボークする」と言うことは一般的ですが、これらは同じ意味を持ちます。"
      ]
    },
    {
      "cell_type": "markdown",
      "id": "7bc24683",
      "metadata": {
        "id": "7bc24683"
      },
      "source": [
        "## スタティックメソッド\n",
        "\n",
        "別の例として、`int_to_time` 関数を考えてみましょう。\n",
        "こちらは前章のバージョンです。"
      ]
    },
    {
      "cell_type": "code",
      "execution_count": null,
      "id": "8547b1c2",
      "metadata": {
        "id": "8547b1c2"
      },
      "outputs": [],
      "source": [
        "def int_to_time(seconds):\n",
        "    minute, second = divmod(seconds, 60)\n",
        "    hour, minute = divmod(minute, 60)\n",
        "    return make_time(hour, minute, second)"
      ]
    },
    {
      "cell_type": "markdown",
      "id": "2b77c2a0",
      "metadata": {
        "id": "2b77c2a0"
      },
      "source": [
        "この関数は、`seconds`をパラメータとして受け取り、新しい`Time`オブジェクトを返します。\n",
        "この関数を`Time`クラスのメソッドに変換した場合、`Time`オブジェクトを用いてメソッドを呼び出す必要があります。\n",
        "しかし、新しい`Time`オブジェクトを作成しようとしている場合、何に対してメソッドを呼び出せば良いのでしょうか？\n",
        "\n",
        "この鶏と卵の問題は、インスタンスなしでクラスから呼び出せる**静的メソッド**を使用することで解決できます。\n",
        "以下のように、この関数を静的メソッドとして書き直します。"
      ]
    },
    {
      "cell_type": "code",
      "execution_count": null,
      "id": "b233669c",
      "metadata": {
        "id": "b233669c"
      },
      "outputs": [],
      "source": [
        "%%add_method_to Time\n",
        "\n",
        "    def int_to_time(seconds):\n",
        "        minute, second = divmod(seconds, 60)\n",
        "        hour, minute = divmod(minute, 60)\n",
        "        return make_time(hour, minute, second)"
      ]
    },
    {
      "cell_type": "markdown",
      "id": "a7e2e788",
      "metadata": {
        "id": "a7e2e788"
      },
      "source": [
        "それは静的メソッドであるため、パラメータとして`self`を持ちません。  \n",
        "これを呼び出すには、クラスオブジェクトである`Time`を使用します。"
      ]
    },
    {
      "cell_type": "code",
      "execution_count": null,
      "id": "7e88f06b",
      "metadata": {
        "id": "7e88f06b"
      },
      "outputs": [],
      "source": [
        "start = Time.int_to_time(34800)"
      ]
    },
    {
      "cell_type": "markdown",
      "id": "d2f4fd5a",
      "metadata": {
        "id": "d2f4fd5a"
      },
      "source": [
        "結果は9時40分を表す新しいオブジェクトです。"
      ]
    },
    {
      "cell_type": "code",
      "execution_count": null,
      "id": "8c9f66b0",
      "metadata": {
        "id": "8c9f66b0"
      },
      "outputs": [],
      "source": [
        "start.print_time()"
      ]
    },
    {
      "cell_type": "markdown",
      "id": "e6a18c76",
      "metadata": {
        "id": "e6a18c76"
      },
      "source": [
        "前の章の関数を参考にして、`Time.from_seconds`を利用して`add_time`をメソッドとして書くことができます。以下はそのサンプルコードです：\n",
        "\n",
        "```python\n",
        "class Time:\n",
        "    def __init__(self, hours=0, minutes=0, seconds=0):\n",
        "        self.hours = hours\n",
        "        self.minutes = minutes\n",
        "        self.seconds = seconds\n",
        "\n",
        "    @classmethod\n",
        "    def from_seconds(cls, total_seconds):\n",
        "        hours = total_seconds // 3600\n",
        "        minutes = (total_seconds % 3600) // 60\n",
        "        seconds = total_seconds % 60\n",
        "        return cls(hours, minutes, seconds)\n",
        "\n",
        "    def to_seconds(self):\n",
        "        return self.hours * 3600 + self.minutes * 60 + self.seconds\n",
        "\n",
        "    def add_time(self, other):\n",
        "        total_seconds = self.to_seconds() + other.to_seconds()\n",
        "        return Time.from_seconds(total_seconds)\n",
        "\n",
        "# 使用例\n",
        "time1 = Time(1, 45, 30)\n",
        "time2 = Time(0, 50, 30)\n",
        "new_time = time1.add_time(time2)\n",
        "print(f\"{new_time.hours}時間 {new_time.minutes}分 {new_time.seconds}秒\")\n",
        "```\n",
        "\n",
        "このコードでは、`Time`クラスに`add_time`メソッドを追加し、`from_seconds`クラスメソッドを活用して時間の合算結果を新しい`Time`オブジェクトとして返します。"
      ]
    },
    {
      "cell_type": "code",
      "execution_count": null,
      "id": "c600d536",
      "metadata": {
        "id": "c600d536"
      },
      "outputs": [],
      "source": [
        "def add_time(time, hours, minutes, seconds):\n",
        "    duration = make_time(hours, minutes, seconds)\n",
        "    seconds = time_to_int(time) + time_to_int(duration)\n",
        "    return int_to_time(seconds)"
      ]
    },
    {
      "cell_type": "markdown",
      "id": "8e56da48",
      "metadata": {
        "id": "8e56da48"
      },
      "source": [
        "そして、こちらがメソッドとして書き直したバージョンです。"
      ]
    },
    {
      "cell_type": "code",
      "execution_count": null,
      "id": "c6fa0176",
      "metadata": {
        "id": "c6fa0176"
      },
      "outputs": [],
      "source": [
        "%%add_method_to Time\n",
        "\n",
        "    def add_time(self, hours, minutes, seconds):\n",
        "        duration = make_time(hours, minutes, seconds)\n",
        "        seconds = time_to_int(self) + time_to_int(duration)\n",
        "        return Time.int_to_time(seconds)"
      ]
    },
    {
      "cell_type": "markdown",
      "id": "b784a4ea",
      "metadata": {
        "id": "b784a4ea"
      },
      "source": [
        "`add_time`には`self`がパラメータとして含まれています。これは静的メソッドではなく、通常のメソッド、つまり**インスタンスメソッド**と呼ばれるものだからです。これを呼び出すには、`Time`インスタンスが必要です。"
      ]
    },
    {
      "cell_type": "code",
      "execution_count": null,
      "id": "e17b2ad7",
      "metadata": {
        "id": "e17b2ad7"
      },
      "outputs": [],
      "source": [
        "end = start.add_time(1, 32, 0)\n",
        "print_time(end)"
      ]
    },
    {
      "cell_type": "markdown",
      "id": "f1c806a9",
      "metadata": {
        "id": "f1c806a9"
      },
      "source": [
        "## 時刻オブジェクトの比較\n",
        "\n",
        "もう一つの例として、`is_after` をメソッドとして書いてみましょう。\n",
        "こちらは前章の演習問題の解答である `is_after` 関数です。"
      ]
    },
    {
      "cell_type": "code",
      "execution_count": null,
      "id": "971eebbb",
      "metadata": {
        "id": "971eebbb"
      },
      "outputs": [],
      "source": [
        "def is_after(t1, t2):\n",
        "    return time_to_int(t1) > time_to_int(t2)"
      ]
    },
    {
      "cell_type": "markdown",
      "id": "8e7153e8",
      "metadata": {
        "id": "8e7153e8"
      },
      "source": [
        "そしてこちらがその方法です。"
      ]
    },
    {
      "cell_type": "code",
      "execution_count": null,
      "id": "90d7234d",
      "metadata": {
        "id": "90d7234d"
      },
      "outputs": [],
      "source": [
        "%%add_method_to Time\n",
        "\n",
        "    def is_after(self, other):\n",
        "        return self.time_to_int() > other.time_to_int()"
      ]
    },
    {
      "cell_type": "markdown",
      "id": "50815aec",
      "metadata": {
        "id": "50815aec"
      },
      "source": [
        "2つのオブジェクトを比較しているため、最初のパラメータが`self`である場合、2番目のパラメータを`other`と呼びます。このメソッドを使用するには、1つのオブジェクトでこれを呼び出し、もう1つのオブジェクトを引数として渡す必要があります。"
      ]
    },
    {
      "cell_type": "code",
      "execution_count": null,
      "id": "19e3d639",
      "metadata": {
        "id": "19e3d639"
      },
      "outputs": [],
      "source": [
        "end.is_after(start)"
      ]
    },
    {
      "cell_type": "markdown",
      "id": "cf97e358",
      "metadata": {
        "id": "cf97e358"
      },
      "source": [
        "この構文の良い点の一つは、ほとんど質問のように読めることです。「`end` は `start` の後にありますか？」"
      ]
    },
    {
      "cell_type": "markdown",
      "id": "15a17fce",
      "metadata": {
        "id": "15a17fce"
      },
      "source": [
        "## `__str__`メソッド\n",
        "\n",
        "メソッドを書くときには、ほぼ任意の名前を選ぶことができます。\n",
        "しかし、一部の名前には特別な意味があります。\n",
        "例えば、オブジェクトが`__str__`という名前のメソッドを持っている場合、Pythonはそのメソッドを使ってオブジェクトを文字列に変換します。\n",
        "例えば、ここに時間オブジェクトの`__str__`メソッドがあります。"
      ]
    },
    {
      "cell_type": "code",
      "execution_count": null,
      "id": "f935a999",
      "metadata": {
        "id": "f935a999"
      },
      "outputs": [],
      "source": [
        "%%add_method_to Time\n",
        "\n",
        "    def __str__(self):\n",
        "        s = f'{self.hour:02d}:{self.minute:02d}:{self.second:02d}'\n",
        "        return s"
      ]
    },
    {
      "cell_type": "markdown",
      "id": "b056b729",
      "metadata": {
        "id": "b056b729"
      },
      "source": [
        "このメソッドは、前の章の`print_time`と似ていますが、文字列を印字するのではなく、返す点が異なります。\n",
        "\n",
        "通常の方法でこのメソッドを呼び出すことができます。"
      ]
    },
    {
      "cell_type": "code",
      "execution_count": null,
      "id": "61d7275d",
      "metadata": {
        "id": "61d7275d"
      },
      "outputs": [],
      "source": [
        "end.__str__()"
      ]
    },
    {
      "cell_type": "markdown",
      "id": "76092a0c",
      "metadata": {
        "id": "76092a0c"
      },
      "source": [
        "しかし、Pythonはそれを自動的に呼び出すこともできます。\n",
        "`Time`オブジェクトを文字列に変換するために組み込み関数`str`を使用すると、Pythonは`Time`クラスの`__str__`メソッドを使用します。"
      ]
    },
    {
      "cell_type": "code",
      "execution_count": null,
      "id": "b6dcc0c2",
      "metadata": {
        "id": "b6dcc0c2"
      },
      "outputs": [],
      "source": [
        "str(end)"
      ]
    },
    {
      "cell_type": "markdown",
      "id": "8a26caa8",
      "metadata": {
        "id": "8a26caa8"
      },
      "source": [
        "それを印刷する場合も、`Time`オブジェクトで同じことが起こります。"
      ]
    },
    {
      "cell_type": "code",
      "execution_count": null,
      "id": "6e1e6fb3",
      "metadata": {
        "id": "6e1e6fb3"
      },
      "outputs": [],
      "source": [
        "print(end)"
      ]
    },
    {
      "cell_type": "markdown",
      "id": "97eb30c2",
      "metadata": {
        "id": "97eb30c2"
      },
      "source": [
        "`__str__`のようなメソッドは、**特殊メソッド**と呼ばれます。これらは名前が先頭と末尾に2つのアンダースコアが付いていることで識別できます。"
      ]
    },
    {
      "cell_type": "markdown",
      "id": "e01e9673",
      "metadata": {
        "id": "e01e9673"
      },
      "source": [
        "## init メソッド\n",
        "\n",
        "特殊メソッドの中で最も特別なものは `__init__` です。なぜなら、新しいオブジェクトの属性を初期化するために使われるからです。\n",
        "`Time` クラスのための `__init__` メソッドは次のようになるかもしれません:"
      ]
    },
    {
      "cell_type": "code",
      "execution_count": null,
      "id": "7ddcca8a",
      "metadata": {
        "id": "7ddcca8a"
      },
      "outputs": [],
      "source": [
        "%%add_method_to Time\n",
        "\n",
        "    def __init__(self, hour=0, minute=0, second=0):\n",
        "        self.hour = hour\n",
        "        self.minute = minute\n",
        "        self.second = second"
      ]
    },
    {
      "cell_type": "markdown",
      "id": "8ba624c3",
      "metadata": {
        "id": "8ba624c3"
      },
      "source": [
        "`Time`オブジェクトをインスタンス化すると、Pythonは`__init__`を呼び出し、引数を渡します。これにより、オブジェクトを作成して、同時に属性を初期化することができるのです。"
      ]
    },
    {
      "cell_type": "code",
      "execution_count": null,
      "id": "afd652c6",
      "metadata": {
        "id": "afd652c6"
      },
      "outputs": [],
      "source": [
        "time = Time(9, 40, 0)\n",
        "print(time)"
      ]
    },
    {
      "cell_type": "markdown",
      "id": "55e0e296",
      "metadata": {
        "id": "55e0e296"
      },
      "source": [
        "この例では、パラメーターは任意ですので、引数なしで `Time` を呼び出すと、デフォルトの値が取得されます。"
      ]
    },
    {
      "cell_type": "code",
      "execution_count": null,
      "id": "8a852588",
      "metadata": {
        "id": "8a852588"
      },
      "outputs": [],
      "source": [
        "time = Time()\n",
        "print(time)"
      ]
    },
    {
      "cell_type": "markdown",
      "id": "bacb036d",
      "metadata": {
        "id": "bacb036d"
      },
      "source": [
        "1つの引数を指定すると、`hour`が上書きされます。"
      ]
    },
    {
      "cell_type": "code",
      "execution_count": null,
      "id": "0ff75ace",
      "metadata": {
        "id": "0ff75ace"
      },
      "outputs": [],
      "source": [
        "time = Time(9)\n",
        "print(time)"
      ]
    },
    {
      "cell_type": "markdown",
      "id": "37edb221",
      "metadata": {
        "id": "37edb221"
      },
      "source": [
        "引数を2つ指定すると、`hour`と`minute`を上書きします。"
      ]
    },
    {
      "cell_type": "code",
      "execution_count": null,
      "id": "b8e948bc",
      "metadata": {
        "id": "b8e948bc"
      },
      "outputs": [],
      "source": [
        "time = Time(9, 45)\n",
        "print(time)"
      ]
    },
    {
      "cell_type": "markdown",
      "id": "277de217",
      "metadata": {
        "id": "277de217"
      },
      "source": [
        "そして、3つの引数を指定すると、3つのデフォルト値すべてが上書きされます。\n",
        "\n",
        "新しいクラスを書くとき、私はほとんど常に`__init__`から始めます。これはオブジェクトを作成しやすくし、デバッグに役立つ`__str__`もよく書きます。"
      ]
    },
    {
      "cell_type": "markdown",
      "id": "94bbbd7d",
      "metadata": {
        "id": "94bbbd7d"
      },
      "source": [
        "## 演算子オーバーローディング\n",
        "\n",
        "特定の特殊メソッドを定義することで、プログラマーが定義した型に対する演算子の動作を指定できます。例えば、`Time`クラスに対して`__add__`という名前のメソッドを定義すれば、Timeオブジェクトに`+`演算子を使用することができます。\n",
        "\n",
        "こちらが`__add__`メソッドの例です。"
      ]
    },
    {
      "cell_type": "code",
      "execution_count": null,
      "id": "0d140036",
      "metadata": {
        "id": "0d140036"
      },
      "outputs": [],
      "source": [
        "%%add_method_to Time\n",
        "\n",
        "    def __add__(self, other):\n",
        "        seconds = self.time_to_int() + other.time_to_int()\n",
        "        return Time.int_to_time(seconds)"
      ]
    },
    {
      "cell_type": "markdown",
      "id": "0221c9ad",
      "metadata": {
        "id": "0221c9ad"
      },
      "source": [
        "このように使うことができます。"
      ]
    },
    {
      "cell_type": "code",
      "execution_count": null,
      "id": "280acfce",
      "metadata": {
        "id": "280acfce"
      },
      "outputs": [],
      "source": [
        "duration = Time(1, 32)\n",
        "end = start + duration\n",
        "print(end)"
      ]
    },
    {
      "cell_type": "markdown",
      "id": "7cc7866e",
      "metadata": {
        "id": "7cc7866e"
      },
      "source": [
        "これらの3行のコードを実行すると、多くのことが起こります。\n",
        "\n",
        "* `Time`オブジェクトをインスタンス化すると、`__init__`メソッドが呼び出されます。\n",
        "\n",
        "* `Time`オブジェクトと`+`演算子を使用すると、その`__add__`メソッドが呼び出されます。\n",
        "\n",
        "* `Time`オブジェクトを表示すると、その`__str__`メソッドが呼び出されます。\n",
        "\n",
        "演算子の動作をプログラマが定義した型で動作するように変更することを、**演算子のオーバーロード**と呼びます。`+`のような各演算子には、`__add__`のような対応する特殊メソッドがあります。"
      ]
    },
    {
      "cell_type": "markdown",
      "id": "b7299e62",
      "metadata": {
        "id": "b7299e62"
      },
      "source": [
        "## デバッグ\n",
        "\n",
        "`Time`オブジェクトが有効であるためには、`minute`（分）と`second`（秒）の値が`0`から`60`の間にある必要があります。`0`は含まれますが、`60`は含まれません。そして、`hour`（時）は正の値でなければなりません。また、`hour`と`minute`は整数値である必要がありますが、`second`には小数部分があってもかまいません。このような要件は**不変条件**と呼ばれ、常に真であるべきです。別の言い方をすれば、これらが真でなければ、何かが間違っています。\n",
        "\n",
        "不変条件を確認するコードを書くことは、エラーを検出し、その原因を見つけるのに役立ちます。例えば、`is_valid`のようなメソッドを用意し、`Time`オブジェクトを受け取り、もし不変条件を破っている場合には`False`を返す、という方法があります。"
      ]
    },
    {
      "cell_type": "code",
      "execution_count": null,
      "id": "6eb34442",
      "metadata": {
        "id": "6eb34442"
      },
      "outputs": [],
      "source": [
        "%%add_method_to Time\n",
        "\n",
        "    def is_valid(self):\n",
        "        if self.hour < 0 or self.minute < 0 or self.second < 0:\n",
        "            return False\n",
        "        if self.minute >= 60 or self.second >= 60:\n",
        "            return False\n",
        "        if not isinstance(self.hour, int):\n",
        "            return False\n",
        "        if not isinstance(self.minute, int):\n",
        "            return False\n",
        "        return True"
      ]
    },
    {
      "cell_type": "markdown",
      "id": "a10ad3db",
      "metadata": {
        "id": "a10ad3db"
      },
      "source": [
        "その後、各メソッドの冒頭で引数が有効であることを確認することができます。"
      ]
    },
    {
      "cell_type": "code",
      "execution_count": null,
      "id": "57d86843",
      "metadata": {
        "id": "57d86843"
      },
      "outputs": [],
      "source": [
        "%%add_method_to Time\n",
        "\n",
        "    def is_after(self, other):\n",
        "        assert self.is_valid(), 'self is not a valid Time'\n",
        "        assert other.is_valid(), 'self is not a valid Time'\n",
        "        return self.time_to_int() > other.time_to_int()"
      ]
    },
    {
      "cell_type": "markdown",
      "id": "e7c78e9a",
      "metadata": {
        "id": "e7c78e9a"
      },
      "source": [
        "`assert` 文は、後に続く式を評価します。その結果が `True` の場合は何もせず、`False` の場合は `AssertionError` を発生させます。以下はその例です。"
      ]
    },
    {
      "cell_type": "code",
      "execution_count": null,
      "id": "5452888b",
      "metadata": {
        "id": "5452888b"
      },
      "outputs": [],
      "source": [
        "duration = Time(minute=132)\n",
        "print(duration)"
      ]
    },
    {
      "cell_type": "code",
      "execution_count": null,
      "id": "56680d97",
      "metadata": {
        "tags": [],
        "id": "56680d97"
      },
      "outputs": [],
      "source": [
        "%%expect AssertionError\n",
        "\n",
        "start.is_after(duration)"
      ]
    },
    {
      "cell_type": "markdown",
      "id": "18bd34ad",
      "metadata": {
        "id": "18bd34ad"
      },
      "source": [
        "`assert` ステートメントは、通常の条件を処理するコードとエラーをチェックするコードを区別するために有用です。"
      ]
    },
    {
      "cell_type": "markdown",
      "id": "58b86fbe",
      "metadata": {
        "id": "58b86fbe"
      },
      "source": [
        "## 用語集\n",
        "\n",
        "**オブジェクト指向言語:**\n",
        "オブジェクト指向プログラミングをサポートする機能を提供する言語、特にユーザー定義型。\n",
        "\n",
        "**メソッド:**\n",
        "クラス定義内で定義され、そのクラスのインスタンス上で呼び出される関数。\n",
        "\n",
        "**レシーバ:**\n",
        "メソッドが呼び出される対象のオブジェクト。\n",
        "\n",
        "**静的メソッド:**\n",
        "オブジェクトをレシーバとして持たずに呼び出すことができるメソッド。\n",
        "\n",
        "**インスタンスメソッド:**\n",
        "オブジェクトをレシーバとして持ち、そのオブジェクト上で呼び出されるメソッド。\n",
        "\n",
        "**特殊メソッド:**\n",
        "オブジェクトとの操作に影響を与える演算子や関数の動作を変えるメソッド。\n",
        "\n",
        "**演算子オーバーロード:**\n",
        "特殊メソッドを使用して、ユーザー定義型との演算子の動作を変更するプロセス。\n",
        "\n",
        "**不変条件:**\n",
        "プログラムの実行中常に真であるべき条件。"
      ]
    },
    {
      "cell_type": "markdown",
      "id": "796adf5c",
      "metadata": {
        "id": "796adf5c"
      },
      "source": [
        "## 演習"
      ]
    },
    {
      "cell_type": "code",
      "execution_count": null,
      "id": "3115ea33",
      "metadata": {
        "tags": [],
        "id": "3115ea33"
      },
      "outputs": [],
      "source": [
        "# This cell tells Jupyter to provide detailed debugging information\n",
        "# when a runtime error occurs. Run it before working on the exercises.\n",
        "\n",
        "%xmode Verbose"
      ]
    },
    {
      "cell_type": "markdown",
      "id": "25cd6888",
      "metadata": {
        "id": "25cd6888"
      },
      "source": [
        "### バーチャルアシスタントに質問しよう\n",
        "\n",
        "スタティックメソッドについてもっと知りたい場合は、バーチャルアシスタントに質問してください：\n",
        "\n",
        "* 「インスタンスメソッドとスタティックメソッドの違いは何ですか？」\n",
        "\n",
        "* 「なぜスタティックメソッドはスタティックと呼ばれるのですか？」\n",
        "\n",
        "バーチャルアシスタントにスタティックメソッドの生成を依頼すると、結果はおそらく `@staticmethod` で始まります。これはスタティックメソッドであることを示す「デコレーター」です。デコレーターについてはこの本では触れませんが、興味がある場合はVAに詳細を尋ねてください。\n",
        "\n",
        "この章ではいくつかの関数を書き直してメソッドにしました。バーチャルアシスタントは、このようなコード変換が得意です。例として、以下の関数をVAに貼り付けて、「この関数を`Time`クラスのメソッドとして書き換えてください。」と尋ねてみてください。"
      ]
    },
    {
      "cell_type": "code",
      "execution_count": null,
      "id": "133d7679",
      "metadata": {
        "id": "133d7679"
      },
      "outputs": [],
      "source": [
        "def subtract_time(t1, t2):\n",
        "    return time_to_int(t1) - time_to_int(t2)"
      ]
    },
    {
      "cell_type": "markdown",
      "id": "fc9f135b-e242-4ef6-83eb-8e028235c07b",
      "metadata": {
        "id": "fc9f135b-e242-4ef6-83eb-8e028235c07b"
      },
      "source": [
        "### 解答\n",
        "\n",
        "1. `Date` クラスの定義:\n",
        "   `Date` クラスは、日付を表すためのもので、年、月、日を保持します。\n",
        "\n",
        "2. `__init__` メソッドの定義:\n",
        "   このメソッドは、`year`、`month`、`day` をパラメータとして受け取り、それを属性に割り当てます。6月22日、1933年を表すオブジェクトを生成します。\n",
        "\n",
        "3. `__str__` メソッドの定義:\n",
        "   このメソッドは、f文字列を使って属性をフォーマットし、結果を返します。生成した `Date` オブジェクトでテストすると、`1933-06-22` が返されるはずです。\n",
        "\n",
        "4. `is_after` メソッドの定義:\n",
        "   このメソッドは、2つの `Date` オブジェクトを受け取り、最初のオブジェクトが2番目のオブジェクトの後である場合に `True` を返します。9月17日、1933年を表す2番目のオブジェクトを作成し、最初のオブジェクトの後に来るかどうかを確認します。\n",
        "\n",
        "以下は、各ステップの実装です。\n",
        "\n",
        "```python\n",
        "class Date:\n",
        "    def __init__(self, year, month, day):\n",
        "        self.year = year\n",
        "        self.month = month\n",
        "        self.day = day\n",
        "    \n",
        "    def __str__(self):\n",
        "        return f\"{self.year:04d}-{self.month:02d}-{self.day:02d}\"\n",
        "    \n",
        "    def to_tuple(self):\n",
        "        return (self.year, self.month, self.day)\n",
        "    \n",
        "    def is_after(self, other):\n",
        "        return self.to_tuple() > other.to_tuple()\n",
        "\n",
        "# 1933年6月22日を表すオブジェクトを生成\n",
        "date1 = Date(1933, 6, 22)\n",
        "print(date1)  # 出力: 1933-06-22\n",
        "\n",
        "# 1933年9月17日を表すオブジェクトを生成\n",
        "date2 = Date(1933, 9, 17)\n",
        "\n",
        "# date2 が date1 より後かどうかを確認\n",
        "print(date2.is_after(date1))  # 出力: True\n",
        "```\n",
        "\n",
        "このコードでは、`Date` クラスを使用して、指定された日付を表すオブジェクトを生成し、それらの日付を比較することができます。`is_after` メソッドでは、`to_tuple` メソッドを利用して属性を比較しています。"
      ]
    },
    {
      "cell_type": "code",
      "execution_count": null,
      "id": "3c9f3777-4869-481e-9f4e-4223d6028913",
      "metadata": {
        "id": "3c9f3777-4869-481e-9f4e-4223d6028913"
      },
      "outputs": [],
      "source": [
        "# Solution goes here"
      ]
    },
    {
      "cell_type": "markdown",
      "id": "1122620d-f3f6-4746-8675-13ce0b7f3ee9",
      "metadata": {
        "tags": [],
        "id": "1122620d-f3f6-4746-8675-13ce0b7f3ee9"
      },
      "source": [
        "これらの例を使用して、あなたのソリューションをテストすることができます。"
      ]
    },
    {
      "cell_type": "code",
      "execution_count": null,
      "id": "fd4b2521-aa71-45da-97eb-ce62ce2714ad",
      "metadata": {
        "tags": [],
        "id": "fd4b2521-aa71-45da-97eb-ce62ce2714ad"
      },
      "outputs": [],
      "source": [
        "birthday1 = Date(1933, 6, 22)\n",
        "print(birthday1)"
      ]
    },
    {
      "cell_type": "code",
      "execution_count": null,
      "id": "ee3f1294-cad1-406b-a574-045ad2b84294",
      "metadata": {
        "tags": [],
        "id": "ee3f1294-cad1-406b-a574-045ad2b84294"
      },
      "outputs": [],
      "source": [
        "birthday2 = Date(1933, 9, 17)\n",
        "print(birthday2)"
      ]
    },
    {
      "cell_type": "code",
      "execution_count": null,
      "id": "ac093f7b-83cf-4488-8842-5c71bcfa35ec",
      "metadata": {
        "tags": [],
        "id": "ac093f7b-83cf-4488-8842-5c71bcfa35ec"
      },
      "outputs": [],
      "source": [
        "birthday1.is_after(birthday2)  # should be False"
      ]
    },
    {
      "cell_type": "code",
      "execution_count": null,
      "id": "7e7cb5e1-631f-4b1e-874f-eb16d4792625",
      "metadata": {
        "tags": [],
        "id": "7e7cb5e1-631f-4b1e-874f-eb16d4792625"
      },
      "outputs": [],
      "source": [
        "birthday2.is_after(birthday1)  # should be True"
      ]
    },
    {
      "cell_type": "code",
      "execution_count": null,
      "id": "5b92712d",
      "metadata": {
        "id": "5b92712d"
      },
      "outputs": [],
      "source": []
    },
    {
      "cell_type": "markdown",
      "id": "a7f4edf8",
      "metadata": {
        "tags": [],
        "id": "a7f4edf8"
      },
      "source": [
        "[Think Python: 3rd Edition](https://allendowney.github.io/ThinkPython/index.html)\n",
        "\n",
        "Copyright 2024 [Allen B. Downey](https://allendowney.com)\n",
        "\n",
        "コードライセンス: [MITライセンス](https://mit-license.org/)\n",
        "\n",
        "テキストライセンス: [クリエイティブ・コモンズ 表示-非営利-継承 4.0 国際ライセンス](https://creativecommons.org/licenses/by-nc-sa/4.0/)"
      ]
    }
  ],
  "metadata": {
    "celltoolbar": "Tags",
    "kernelspec": {
      "display_name": "Python 3 (ipykernel)",
      "language": "python",
      "name": "python3"
    },
    "language_info": {
      "codemirror_mode": {
        "name": "ipython",
        "version": 3
      },
      "file_extension": ".py",
      "mimetype": "text/x-python",
      "name": "python",
      "nbconvert_exporter": "python",
      "pygments_lexer": "ipython3",
      "version": "3.10.11"
    },
    "colab": {
      "provenance": [],
      "include_colab_link": true
    }
  },
  "nbformat": 4,
  "nbformat_minor": 5
}