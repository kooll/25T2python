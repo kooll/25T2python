{
  "cells": [
    {
      "cell_type": "markdown",
      "metadata": {
        "id": "view-in-github",
        "colab_type": "text"
      },
      "source": [
        "<a href=\"https://colab.research.google.com/github/kooll/ThinkPythonJ/blob/main/chapters/chap16_translated.ipynb\" target=\"_parent\"><img src=\"https://colab.research.google.com/assets/colab-badge.svg\" alt=\"Open In Colab\"/></a>"
      ]
    },
    {
      "cell_type": "markdown",
      "id": "1331faa1",
      "metadata": {
        "id": "1331faa1"
      },
      "source": [
        "*Think Python 3e*の印刷版と電子書籍版は、[Bookshop.org](https://bookshop.org/a/98697/9781098155438)と[Amazon](https://www.amazon.com/_/dp/1098155432?smid=ATVPDKIKX0DER&_encoding=UTF8&tag=oreilly20-20&_encoding=UTF8&tag=greenteapre01-20&linkCode=ur2&linkId=e2a529f94920295d27ec8a06e757dc7c&camp=1789&creative=9325)から注文できます。"
      ]
    },
    {
      "cell_type": "code",
      "execution_count": null,
      "id": "ae5a86f8",
      "metadata": {
        "tags": [],
        "id": "ae5a86f8"
      },
      "outputs": [],
      "source": [
        "from os.path import basename, exists\n",
        "\n",
        "def download(url):\n",
        "    filename = basename(url)\n",
        "    if not exists(filename):\n",
        "        from urllib.request import urlretrieve\n",
        "\n",
        "        local, _ = urlretrieve(url, filename)\n",
        "        print(\"Downloaded \" + str(local))\n",
        "    return filename\n",
        "\n",
        "download('https://github.com/AllenDowney/ThinkPython/raw/v3/thinkpython.py');\n",
        "download('https://github.com/AllenDowney/ThinkPython/raw/v3/diagram.py');\n",
        "download('https://github.com/ramalho/jupyturtle/releases/download/2024-03/jupyturtle.py');\n",
        "\n",
        "import thinkpython"
      ]
    },
    {
      "cell_type": "markdown",
      "id": "e826e661",
      "metadata": {
        "id": "e826e661"
      },
      "source": [
        "# クラスとオブジェクト\n",
        "\n",
        "この時点で、私たちはクラスを定義し、1日の時間や1年の特定の日を表すオブジェクトを作成しました。\n",
        "また、これらのオブジェクトを作成、修正、および計算を行うメソッドを定義しました。\n",
        "\n",
        "この章では、幾何学的なオブジェクトである点、直線、長方形、円を表現するクラスを定義することで、オブジェクト指向プログラミング（OOP）のツアーを続けます。\n",
        "これらのオブジェクトを作成および修正するメソッドを記述し、`jupyturtle`モジュールを使用してそれらを描画します。\n",
        "\n",
        "これらのクラスを使用して、オブジェクトの同一性と同等性、浅いコピーと深いコピー、ポリモーフィズムを含むOOPのトピックを示します。"
      ]
    },
    {
      "cell_type": "markdown",
      "id": "6b414d4a",
      "metadata": {
        "tags": [],
        "id": "6b414d4a"
      },
      "source": [
        "## ポイントの作成\n",
        "\n",
        "コンピューターグラフィックスでは、画面上の位置は通常、`x`-`y` 平面上の座標ペアで表されます。慣習的に、ポイント `(0, 0)` は通常画面の左上隅を表し、`(x, y)` は原点から右に `x` ユニット、下に `y` ユニット移動したポイントを表します。数学の授業で見たかもしれないデカルト座標系と比較すると、`y` 軸が上下逆になっています。\n",
        "\n",
        "Pythonでポイントを表現する方法はいくつかあります：\n",
        "\n",
        "- 座標を2つの変数 `x` と `y` に分けて格納することができます。\n",
        "\n",
        "- 座標をリストまたはタプルの要素として格納することができます。\n",
        "\n",
        "- ポイントをオブジェクトとして表現する新たな型を作成することができます。\n",
        "\n",
        "オブジェクト指向プログラミングにおいては、新しい型を作成するのが最も慣習的です。それを行うには、まず `Point` のクラス定義から始めます。"
      ]
    },
    {
      "cell_type": "code",
      "execution_count": null,
      "id": "c9c99d2c",
      "metadata": {
        "id": "c9c99d2c"
      },
      "outputs": [],
      "source": [
        "class Point:\n",
        "    \"\"\"Represents a point in 2-D space.\"\"\"\n",
        "\n",
        "    def __init__(self, x, y):\n",
        "        self.x = x\n",
        "        self.y = y\n",
        "\n",
        "    def __str__(self):\n",
        "        return f'Point({self.x}, {self.y})'"
      ]
    },
    {
      "cell_type": "markdown",
      "id": "3d35a095",
      "metadata": {
        "id": "3d35a095"
      },
      "source": [
        "`__init__`メソッドは座標をパラメータとして受け取り、それらを属性`x`と`y`に割り当てます。  \n",
        "`__str__`メソッドは`Point`の文字列表現を返します。\n",
        "\n",
        "これで、次のようにして`Point`オブジェクトをインスタンス化し表示することができます。"
      ]
    },
    {
      "cell_type": "code",
      "execution_count": null,
      "id": "d318001a",
      "metadata": {
        "id": "d318001a"
      },
      "outputs": [],
      "source": [
        "start = Point(0, 0)\n",
        "print(start)"
      ]
    },
    {
      "cell_type": "markdown",
      "id": "b3fd8858",
      "metadata": {
        "id": "b3fd8858"
      },
      "source": [
        "次の図は、新しいオブジェクトの状態を示しています。"
      ]
    },
    {
      "cell_type": "code",
      "execution_count": null,
      "id": "3eb47826",
      "metadata": {
        "tags": [],
        "id": "3eb47826"
      },
      "outputs": [],
      "source": [
        "from diagram import make_frame, make_binding\n",
        "\n",
        "d1 = vars(start)\n",
        "frame = make_frame(d1, name='Point', dy=-0.25, offsetx=0.18)\n",
        "binding = make_binding('start', frame)"
      ]
    },
    {
      "cell_type": "code",
      "execution_count": null,
      "id": "6702a353",
      "metadata": {
        "tags": [],
        "id": "6702a353"
      },
      "outputs": [],
      "source": [
        "from diagram import diagram, adjust\n",
        "\n",
        "width, height, x, y = [1.41, 0.89, 0.26, 0.5]\n",
        "ax = diagram(width, height)\n",
        "bbox = binding.draw(ax, x, y)\n",
        "#adjust(x, y, bbox)"
      ]
    },
    {
      "cell_type": "markdown",
      "id": "713b7410",
      "metadata": {
        "id": "713b7410"
      },
      "source": [
        "通常、プログラマーが定義した型は、型の名前が外にあり、属性が中にある箱で表されます。\n",
        "\n",
        "一般に、プログラマー定義の型は可変なので、`translate`のようなメソッドを書いて、2つの数値`dx`と`dy`を取り、属性`x`と`y`にそれらを加えることができます。"
      ]
    },
    {
      "cell_type": "code",
      "execution_count": null,
      "id": "0f710c4f",
      "metadata": {
        "id": "0f710c4f"
      },
      "outputs": [],
      "source": [
        "%%add_method_to Point\n",
        "\n",
        "    def translate(self, dx, dy):\n",
        "        self.x += dx\n",
        "        self.y += dy"
      ]
    },
    {
      "cell_type": "markdown",
      "id": "4d183292",
      "metadata": {
        "id": "4d183292"
      },
      "source": [
        "この関数は、平面上のある位置から別の位置へ`Point`を移動させます。\n",
        "既存の`Point`を変更したくない場合は、`copy`を使用して元のオブジェクトをコピーし、そのコピーを変更することができます。"
      ]
    },
    {
      "cell_type": "code",
      "execution_count": null,
      "id": "6e37126b",
      "metadata": {
        "id": "6e37126b"
      },
      "outputs": [],
      "source": [
        "from copy import copy\n",
        "\n",
        "end1 = copy(start)\n",
        "end1.translate(300, 0)\n",
        "print(end1)"
      ]
    },
    {
      "cell_type": "markdown",
      "id": "562567c2",
      "metadata": {
        "id": "562567c2"
      },
      "source": [
        "これらのステップを `translated` と呼ばれる別のメソッドにカプセル化することができます。"
      ]
    },
    {
      "cell_type": "code",
      "execution_count": null,
      "id": "f38bfaaa",
      "metadata": {
        "id": "f38bfaaa"
      },
      "outputs": [],
      "source": [
        "%%add_method_to Point\n",
        "\n",
        "    def translated(self, dx=0, dy=0):\n",
        "        point = copy(self)\n",
        "        point.translate(dx, dy)\n",
        "        return point"
      ]
    },
    {
      "cell_type": "markdown",
      "id": "a7a635ee",
      "metadata": {
        "id": "a7a635ee"
      },
      "source": [
        "ここに例があります:\n",
        "\n",
        "```python\n",
        "class Point:\n",
        "    def __init__(self, x, y):\n",
        "        self.x = x\n",
        "        self.y = y\n",
        "\n",
        "    def translate(self, dx, dy):\n",
        "        self.x += dx\n",
        "        self.y += dy\n",
        "\n",
        "    def translated(self, dx, dy):\n",
        "        return Point(self.x + dx, self.y + dy)\n",
        "\n",
        "# 使用例\n",
        "p1 = Point(1, 2)\n",
        "\n",
        "# Pointオブジェクトp1を原点から(3, 4)だけ移動する\n",
        "p1.translate(3, 4)\n",
        "print(f\"Translated p1: ({p1.x}, {p1.y})\")  # 出力: Translated p1: (4, 6)\n",
        "\n",
        "# 新しいPointオブジェクトp2を作成し、元のp1を変更せずに(5, 6)だけ移動\n",
        "p2 = p1.translated(5, 6)\n",
        "print(f\"Original p1: ({p1.x}, {p1.y})\")  # 出力: Original p1: (4, 6)\n",
        "print(f\"New p2: ({p2.x}, {p2.y})\")      # 出力: New p2: (9, 12)\n",
        "```\n",
        "\n",
        "この例では、`translate`メソッドは元の`Point`オブジェクトを変更し、`translated`メソッドは変更を加えずに新しい`Point`オブジェクトを作成します。"
      ]
    },
    {
      "cell_type": "code",
      "execution_count": null,
      "id": "cef864a6",
      "metadata": {
        "id": "cef864a6"
      },
      "outputs": [],
      "source": [
        "end2 = start.translated(0, 150)\n",
        "print(end2)"
      ]
    },
    {
      "cell_type": "markdown",
      "id": "923362d2",
      "metadata": {
        "id": "923362d2"
      },
      "source": [
        "次のセクションでは、これらの点を使用して線を定義し、描画します。"
      ]
    },
    {
      "cell_type": "markdown",
      "id": "837f98fd",
      "metadata": {
        "id": "837f98fd"
      },
      "source": [
        "## ラインの作成\n",
        "\n",
        "では、2つのポイント間の線分を表すクラスを定義してみましょう。いつものように、まず `__init__` メソッドと `__str__` メソッドから始めます。"
      ]
    },
    {
      "cell_type": "code",
      "execution_count": null,
      "id": "6ae012a1",
      "metadata": {
        "id": "6ae012a1"
      },
      "outputs": [],
      "source": [
        "class Line:\n",
        "    def __init__(self, p1, p2):\n",
        "        self.p1 = p1\n",
        "        self.p2 = p2\n",
        "\n",
        "    def __str__(self):\n",
        "        return f'Line({self.p1}, {self.p2})'"
      ]
    },
    {
      "cell_type": "markdown",
      "id": "d7dad30e",
      "metadata": {
        "id": "d7dad30e"
      },
      "source": [
        "これらの2つの方法を使用して、`x`軸を表すために使用する`Line`オブジェクトをインスタンス化して表示できます。"
      ]
    },
    {
      "cell_type": "code",
      "execution_count": null,
      "id": "39b2ae2a",
      "metadata": {
        "id": "39b2ae2a"
      },
      "outputs": [],
      "source": [
        "line1 = Line(start, end1)\n",
        "print(line1)"
      ]
    },
    {
      "cell_type": "markdown",
      "id": "e7b5fd9a",
      "metadata": {
        "id": "e7b5fd9a"
      },
      "source": [
        "`print`を呼び出し、`line`をパラメータとして渡すと、`print`は`line`に対して`__str__`メソッドを呼び出します。\n",
        "この`__str__`メソッドはf文字列を使用して、`line`の文字列表現を作成します。\n",
        "\n",
        "f文字列には、中括弧に囲まれた2つの式、`self.p1`と`self.p2`が含まれています。\n",
        "これらの式が評価されると、結果は`Point`オブジェクトになります。\n",
        "そして、それらが文字列に変換されると、`Point`クラスの`__str__`メソッドが呼び出されます。\n",
        "\n",
        "そのため、`Line`を表示すると、結果には`Point`オブジェクトの文字列表現が含まれます。\n",
        "\n",
        "以下のオブジェクト図は、この`Line`オブジェクトの状態を示しています。"
      ]
    },
    {
      "cell_type": "code",
      "execution_count": null,
      "id": "dee93202",
      "metadata": {
        "tags": [],
        "id": "dee93202"
      },
      "outputs": [],
      "source": [
        "from diagram import Binding, Value, Frame\n",
        "\n",
        "d1 = vars(line1.p1)\n",
        "frame1 = make_frame(d1, name='Point', dy=-0.25, offsetx=0.17)\n",
        "\n",
        "d2 = vars(line1.p2)\n",
        "frame2 = make_frame(d2, name='Point', dy=-0.25, offsetx=0.17)\n",
        "\n",
        "binding1 = Binding(Value('start'), frame1, dx=0.4)\n",
        "binding2 = Binding(Value('end'), frame2, dx=0.4)\n",
        "frame3 = Frame([binding1, binding2], name='Line', dy=-0.9, offsetx=0.4, offsety=-0.25)\n",
        "\n",
        "binding = make_binding('line1', frame3)"
      ]
    },
    {
      "cell_type": "code",
      "execution_count": null,
      "id": "43682c57",
      "metadata": {
        "tags": [],
        "id": "43682c57"
      },
      "outputs": [],
      "source": [
        "width, height, x, y = [2.45, 2.12, 0.27, 1.76]\n",
        "ax = diagram(width, height)\n",
        "bbox = binding.draw(ax, x, y)\n",
        "#adjust(x, y, bbox)"
      ]
    },
    {
      "cell_type": "markdown",
      "id": "079859b5",
      "metadata": {
        "id": "079859b5"
      },
      "source": [
        "文字表現とオブジェクト図はデバッグに役立ちますが、この例のポイントはテキストではなくグラフィックを生成することです。\n",
        "そのため、`jupyturtle` モジュールを使用してスクリーンに線を描画します。\n",
        "\n",
        "[第4章](section_turtle_module)で行ったように、`make_turtle` を使って `Turtle` オブジェクトと、そのオブジェクトが描画できる小さなキャンバスを作成します。\n",
        "線を描画するには、`jupyturtle` モジュールからの2つの新しい関数を使用します:\n",
        "\n",
        "* `jumpto` は2つの座標を受け取り、ラインを引かずに `Turtle` を指定された位置に移動させます。\n",
        "\n",
        "* `moveto` は現在の位置から指定された位置まで `Turtle` を移動させ、その間に線のセグメントを描画します。\n",
        "\n",
        "以下のようにして、これらをインポートします。"
      ]
    },
    {
      "cell_type": "code",
      "execution_count": null,
      "id": "5225d870",
      "metadata": {
        "id": "5225d870"
      },
      "outputs": [],
      "source": [
        "from jupyturtle import make_turtle, jumpto, moveto"
      ]
    },
    {
      "cell_type": "markdown",
      "id": "9d2dd88f",
      "metadata": {
        "id": "9d2dd88f"
      },
      "source": [
        "そして、`Line` を描画するメソッドがこちらです。"
      ]
    },
    {
      "cell_type": "code",
      "execution_count": null,
      "id": "999843cb",
      "metadata": {
        "id": "999843cb"
      },
      "outputs": [],
      "source": [
        "%%add_method_to Line\n",
        "\n",
        "    def draw(self):\n",
        "        jumpto(self.p1.x, self.p1.y)\n",
        "        moveto(self.p2.x, self.p2.y)"
      ]
    },
    {
      "cell_type": "markdown",
      "id": "2341f0e0",
      "metadata": {
        "id": "2341f0e0"
      },
      "source": [
        "使用方法を示すために、`y`軸を表す2本目の線を作成します。"
      ]
    },
    {
      "cell_type": "code",
      "execution_count": null,
      "id": "6ac10ec7",
      "metadata": {
        "id": "6ac10ec7"
      },
      "outputs": [],
      "source": [
        "line2 = Line(start, end2)\n",
        "print(line2)"
      ]
    },
    {
      "cell_type": "markdown",
      "id": "d7450736",
      "metadata": {
        "id": "d7450736"
      },
      "source": [
        "それから、軸を描いてください。"
      ]
    },
    {
      "cell_type": "code",
      "execution_count": null,
      "id": "b15b70dd",
      "metadata": {
        "id": "b15b70dd"
      },
      "outputs": [],
      "source": [
        "make_turtle()\n",
        "line1.draw()\n",
        "line2.draw()"
      ]
    },
    {
      "cell_type": "markdown",
      "id": "473c156f",
      "metadata": {
        "id": "473c156f"
      },
      "source": [
        "オブジェクトを定義して描画する際に、これらの線を再び使用します。しかし、まずオブジェクトの等価性と同一性について話しましょう。"
      ]
    },
    {
      "cell_type": "markdown",
      "id": "950da673",
      "metadata": {
        "id": "950da673"
      },
      "source": [
        "2つの点を同じ座標で作成すると仮定します。"
      ]
    },
    {
      "cell_type": "code",
      "execution_count": null,
      "id": "62414805",
      "metadata": {
        "id": "62414805"
      },
      "outputs": [],
      "source": [
        "p1 = Point(200, 100)\n",
        "p2 = Point(200, 100)"
      ]
    },
    {
      "cell_type": "markdown",
      "id": "82b14526",
      "metadata": {
        "id": "82b14526"
      },
      "source": [
        "それらを比較する際に `==` 演算子を使用すると、プログラマが定義した型に対するデフォルトの動作が適用されます。つまり、同じオブジェクトである場合にのみ結果は `True` となりますが、通常それらは同じオブジェクトではありません。"
      ]
    },
    {
      "cell_type": "code",
      "execution_count": null,
      "id": "7c611eb2",
      "metadata": {
        "id": "7c611eb2"
      },
      "outputs": [],
      "source": [
        "p1 == p2"
      ]
    },
    {
      "cell_type": "markdown",
      "id": "96be0ff8",
      "metadata": {
        "id": "96be0ff8"
      },
      "source": [
        "その動作を変更したい場合は、2つの`Point`オブジェクトが等しいことを定義する特別なメソッド`__eq__`を提供することができます。"
      ]
    },
    {
      "cell_type": "code",
      "execution_count": null,
      "id": "3a976072",
      "metadata": {
        "id": "3a976072"
      },
      "outputs": [],
      "source": [
        "%%add_method_to Point\n",
        "\n",
        "def __eq__(self, other):\n",
        "    return (self.x == other.x) and (self.y == other.y)"
      ]
    },
    {
      "cell_type": "markdown",
      "id": "7f4409de",
      "metadata": {
        "id": "7f4409de"
      },
      "source": [
        "この定義では、2つの`Point`がそれらの属性が等しい場合に等しいと見なします。今、`==`演算子を使用すると、`__eq__`メソッドが呼び出され、`p1`と`p2`が等しいと見なされることを示しています。"
      ]
    },
    {
      "cell_type": "code",
      "execution_count": null,
      "id": "7660d756",
      "metadata": {
        "id": "7660d756"
      },
      "outputs": [],
      "source": [
        "p1 == p2"
      ]
    },
    {
      "cell_type": "markdown",
      "id": "52662e6a",
      "metadata": {
        "id": "52662e6a"
      },
      "source": [
        "しかし、`is` 演算子はそれらが異なるオブジェクトであることを示しています。"
      ]
    },
    {
      "cell_type": "code",
      "execution_count": null,
      "id": "e76ff9ef",
      "metadata": {
        "id": "e76ff9ef"
      },
      "outputs": [],
      "source": [
        "p1 is p2"
      ]
    },
    {
      "cell_type": "markdown",
      "id": "c008d3dd",
      "metadata": {
        "id": "c008d3dd"
      },
      "source": [
        "`is` 演算子をオーバーライドすることはできません。それは常にオブジェクトが同一であるかどうかをチェックします。しかし、プログラマが定義した型については、`==` 演算子をオーバーライドすることができ、オブジェクトが等価であるかどうかをチェックできます。そして、等価が何を意味するかを定義できます。"
      ]
    },
    {
      "cell_type": "markdown",
      "id": "893a8cab",
      "metadata": {
        "id": "893a8cab"
      },
      "source": [
        "## 長方形の作成\n",
        "\n",
        "次に、長方形を表現し、描画するクラスを定義しましょう。\n",
        "簡単にするために、長方形は垂直または水平で、角度がついていないと仮定します。\n",
        "長方形の位置とサイズを指定するために、どの属性を使用するべきだと思いますか？\n",
        "\n",
        "少なくとも2つの可能性があります。\n",
        "\n",
        "- 長方形の幅と高さ、そして一つの角の位置を指定する方法。\n",
        "\n",
        "- 二つの対角の角を指定する方法。\n",
        "\n",
        "現時点ではどちらが優れているかはっきりとは言えませんが、まずは最初の方法を実装してみましょう。\n",
        "以下がクラス定義です。"
      ]
    },
    {
      "cell_type": "code",
      "execution_count": null,
      "id": "c2a2aa29",
      "metadata": {
        "id": "c2a2aa29"
      },
      "outputs": [],
      "source": [
        "class Rectangle:\n",
        "    \"\"\"Represents a rectangle.\n",
        "\n",
        "    attributes: width, height, corner.\n",
        "    \"\"\"\n",
        "    def __init__(self, width, height, corner):\n",
        "        self.width = width\n",
        "        self.height = height\n",
        "        self.corner = corner\n",
        "\n",
        "    def __str__(self):\n",
        "        return f'Rectangle({self.width}, {self.height}, {self.corner})'"
      ]
    },
    {
      "cell_type": "markdown",
      "id": "df2852f3",
      "metadata": {
        "id": "df2852f3"
      },
      "source": [
        "通常、`__init__` メソッドはパラメータを属性に割り当て、`__str__` メソッドはオブジェクトの文字列表現を返します。これで、左上の角の位置として `Point` を使用して、`Rectangle` オブジェクトをインスタンス化することができます。"
      ]
    },
    {
      "cell_type": "code",
      "execution_count": null,
      "id": "5d36d561",
      "metadata": {
        "id": "5d36d561"
      },
      "outputs": [],
      "source": [
        "corner = Point(30, 20)\n",
        "box1 = Rectangle(100, 50, corner)\n",
        "print(box1)"
      ]
    },
    {
      "cell_type": "markdown",
      "id": "a9e0b5ec",
      "metadata": {
        "id": "a9e0b5ec"
      },
      "source": [
        "次の図は、このオブジェクトの状態を示しています。"
      ]
    },
    {
      "cell_type": "code",
      "execution_count": null,
      "id": "6e47d99a",
      "metadata": {
        "tags": [],
        "id": "6e47d99a"
      },
      "outputs": [],
      "source": [
        "from diagram import Binding, Value\n",
        "\n",
        "def make_rectangle_binding(name, box, **options):\n",
        "    d1 = vars(box.corner)\n",
        "    frame_corner = make_frame(d1, name='Point', dy=-0.25, offsetx=0.07)\n",
        "\n",
        "    d2 = dict(width=box.width, height=box.height)\n",
        "    frame = make_frame(d2, name='Rectangle', dy=-0.25, offsetx=0.45)\n",
        "    binding = Binding(Value('corner'), frame1, dx=0.92, draw_value=False, **options)\n",
        "    frame.bindings.append(binding)\n",
        "\n",
        "    binding = Binding(Value(name), frame)\n",
        "    return binding, frame_corner\n",
        "\n",
        "binding_box1, frame_corner1 = make_rectangle_binding('box1', box1)"
      ]
    },
    {
      "cell_type": "code",
      "execution_count": null,
      "id": "1e7e4a72",
      "metadata": {
        "tags": [],
        "id": "1e7e4a72"
      },
      "outputs": [],
      "source": [
        "from diagram import Bbox\n",
        "\n",
        "width, height, x, y = [2.83, 1.49, 0.27, 1.1]\n",
        "ax = diagram(width, height)\n",
        "bbox1 = binding_box1.draw(ax, x, y)\n",
        "bbox2 = frame_corner1.draw(ax, x+1.85, y-0.6)\n",
        "bbox = Bbox.union([bbox1, bbox2])\n",
        "#adjust(x, y, bbox)"
      ]
    },
    {
      "cell_type": "markdown",
      "id": "bb54e6b5",
      "metadata": {
        "id": "bb54e6b5"
      },
      "source": [
        "四角形を描くために、次の方法を使用して四つの `Point` オブジェクトを作成し、角を表します。"
      ]
    },
    {
      "cell_type": "code",
      "execution_count": null,
      "id": "8fb74cd8",
      "metadata": {
        "id": "8fb74cd8"
      },
      "outputs": [],
      "source": [
        "%%add_method_to Rectangle\n",
        "\n",
        "    def make_points(self):\n",
        "        p1 = self.corner\n",
        "        p2 = p1.translated(self.width, 0)\n",
        "        p3 = p2.translated(0, self.height)\n",
        "        p4 = p3.translated(-self.width, 0)\n",
        "        return p1, p2, p3, p4"
      ]
    },
    {
      "cell_type": "markdown",
      "id": "20dbe0cb",
      "metadata": {
        "id": "20dbe0cb"
      },
      "source": [
        "それから、辺を表すために4つの `Line` オブジェクトを作成します。"
      ]
    },
    {
      "cell_type": "code",
      "execution_count": null,
      "id": "1c419c73",
      "metadata": {
        "id": "1c419c73"
      },
      "outputs": [],
      "source": [
        "%%add_method_to Rectangle\n",
        "\n",
        "    def make_lines(self):\n",
        "        p1, p2, p3, p4 = self.make_points()\n",
        "        return Line(p1, p2), Line(p2, p3), Line(p3, p4), Line(p4, p1)"
      ]
    },
    {
      "cell_type": "markdown",
      "id": "30fe41cc",
      "metadata": {
        "id": "30fe41cc"
      },
      "source": [
        "それから、側面を描きましょう。"
      ]
    },
    {
      "cell_type": "code",
      "execution_count": null,
      "id": "5ceccb7d",
      "metadata": {
        "id": "5ceccb7d"
      },
      "outputs": [],
      "source": [
        "%%add_method_to Rectangle\n",
        "\n",
        "    def draw(self):\n",
        "        lines = self.make_lines()\n",
        "        for line in lines:\n",
        "            line.draw()"
      ]
    },
    {
      "cell_type": "markdown",
      "id": "390ba3e7",
      "metadata": {
        "id": "390ba3e7"
      },
      "source": [
        "こちらが例です。"
      ]
    },
    {
      "cell_type": "code",
      "execution_count": null,
      "id": "2870c782",
      "metadata": {
        "id": "2870c782"
      },
      "outputs": [],
      "source": [
        "make_turtle()\n",
        "line1.draw()\n",
        "line2.draw()\n",
        "box1.draw()"
      ]
    },
    {
      "cell_type": "markdown",
      "id": "532a4f69",
      "metadata": {
        "id": "532a4f69"
      },
      "source": [
        "この図には、軸を表すための2本の線が含まれています。"
      ]
    },
    {
      "cell_type": "markdown",
      "id": "0e713a90",
      "metadata": {
        "id": "0e713a90"
      },
      "source": [
        "## 長方形の変更\n",
        "\n",
        "ここでは、長方形を変更する2つのメソッド、`grow` と `translate` について考えます。\n",
        "`grow` は期待通りに動作しますが、`translate` には微妙なバグがあります。\n",
        "私が説明する前に、それを見つけることができるかどうか試してみてください。\n",
        "\n",
        "`grow` は2つの数値、`dwidth` および `dheight` を取ります。それらを長方形の `width` （幅）および `height` （高さ）属性に追加します。"
      ]
    },
    {
      "cell_type": "code",
      "execution_count": null,
      "id": "21537ed7",
      "metadata": {
        "id": "21537ed7"
      },
      "outputs": [],
      "source": [
        "%%add_method_to Rectangle\n",
        "\n",
        "    def grow(self, dwidth, dheight):\n",
        "        self.width += dwidth\n",
        "        self.height += dheight"
      ]
    },
    {
      "cell_type": "markdown",
      "id": "a51913e2",
      "metadata": {
        "id": "a51913e2"
      },
      "source": [
        "こちらは、`box1`のコピーを作成し、そのコピーに対して`grow`を呼び出すことで効果を示す例です。"
      ]
    },
    {
      "cell_type": "code",
      "execution_count": null,
      "id": "243ca804",
      "metadata": {
        "id": "243ca804"
      },
      "outputs": [],
      "source": [
        "box2 = copy(box1)\n",
        "box2.grow(60, 40)\n",
        "print(box2)"
      ]
    },
    {
      "cell_type": "markdown",
      "id": "6d74da62",
      "metadata": {
        "id": "6d74da62"
      },
      "source": [
        "「box1」と「box2」を描画すると、「grow」が期待通りに動作することを確認できます。"
      ]
    },
    {
      "cell_type": "code",
      "execution_count": null,
      "id": "110f995f",
      "metadata": {
        "id": "110f995f"
      },
      "outputs": [],
      "source": [
        "make_turtle()\n",
        "line1.draw()\n",
        "line2.draw()\n",
        "box1.draw()\n",
        "box2.draw()"
      ]
    },
    {
      "cell_type": "markdown",
      "id": "0c940008",
      "metadata": {
        "id": "0c940008"
      },
      "source": [
        "ここでは「translate」について見ていきます。  \n",
        "これは2つの数値、`dx`と`dy`を受け取り、矩形を`x`方向と`y`方向に指定された距離だけ移動させるものです。"
      ]
    },
    {
      "cell_type": "code",
      "execution_count": null,
      "id": "8a5e7e73",
      "metadata": {
        "id": "8a5e7e73"
      },
      "outputs": [],
      "source": [
        "%%add_method_to Rectangle\n",
        "\n",
        "    def translate(self, dx, dy):\n",
        "        self.corner.translate(dx, dy)"
      ]
    },
    {
      "cell_type": "markdown",
      "id": "c27fe91d",
      "metadata": {
        "id": "c27fe91d"
      },
      "source": [
        "効果を示すために、`box2`を右と下に移動させます。"
      ]
    },
    {
      "cell_type": "code",
      "execution_count": null,
      "id": "78b9e344",
      "metadata": {
        "id": "78b9e344"
      },
      "outputs": [],
      "source": [
        "box2.translate(30, 20)\n",
        "print(box2)"
      ]
    },
    {
      "cell_type": "markdown",
      "id": "e01badbc",
      "metadata": {
        "id": "e01badbc"
      },
      "source": [
        "さて、もう一度 `box1` と `box2` を描画したら、どうなるでしょうか。"
      ]
    },
    {
      "cell_type": "code",
      "execution_count": null,
      "id": "b70bcad9",
      "metadata": {
        "id": "b70bcad9"
      },
      "outputs": [],
      "source": [
        "make_turtle()\n",
        "line1.draw()\n",
        "line2.draw()\n",
        "box1.draw()\n",
        "box2.draw()"
      ]
    },
    {
      "cell_type": "markdown",
      "id": "5310bdd7",
      "metadata": {
        "id": "5310bdd7"
      },
      "source": [
        "両方の長方形が動いたようですが、それは私たちの意図したことではありませんでした！\n",
        "次のセクションでは、何が問題だったのか説明します。"
      ]
    },
    {
      "cell_type": "markdown",
      "id": "940adbeb",
      "metadata": {
        "id": "940adbeb"
      },
      "source": [
        "## ディープコピー\n",
        "\n",
        "`box1`を複製するために`copy`を使用すると、`Rectangle`オブジェクトはコピーされますが、その中に含まれる`Point`オブジェクトはコピーされません。\n",
        "その結果、`box1`と`box2`は異なるオブジェクトになります。これは意図した通りです。"
      ]
    },
    {
      "cell_type": "code",
      "execution_count": null,
      "id": "b67ce168",
      "metadata": {
        "id": "b67ce168"
      },
      "outputs": [],
      "source": [
        "box1 is box2"
      ]
    },
    {
      "cell_type": "markdown",
      "id": "eac5309b",
      "metadata": {
        "id": "eac5309b"
      },
      "source": [
        "しかし、彼らの `corner` 属性は同じオブジェクトを指しています。"
      ]
    },
    {
      "cell_type": "code",
      "execution_count": null,
      "id": "1d9cf4da",
      "metadata": {
        "id": "1d9cf4da"
      },
      "outputs": [],
      "source": [
        "box1.corner is box2.corner"
      ]
    },
    {
      "cell_type": "markdown",
      "id": "f0cc51b5",
      "metadata": {
        "id": "f0cc51b5"
      },
      "source": [
        "以下の図は、これらのオブジェクトの状態を示しています。"
      ]
    },
    {
      "cell_type": "code",
      "execution_count": null,
      "id": "6d883459",
      "metadata": {
        "tags": [],
        "id": "6d883459"
      },
      "outputs": [],
      "source": [
        "from diagram import Stack\n",
        "from copy import deepcopy\n",
        "\n",
        "binding_box1, frame_corner1 = make_rectangle_binding('box1', box1)\n",
        "binding_box2, frame_corner2 = make_rectangle_binding('box2', box2, dy=0.4)\n",
        "binding_box2.value.bindings.reverse()\n",
        "\n",
        "stack = Stack([binding_box1, binding_box2], dy=-1.3)"
      ]
    },
    {
      "cell_type": "code",
      "execution_count": null,
      "id": "637042fb",
      "metadata": {
        "tags": [],
        "id": "637042fb"
      },
      "outputs": [],
      "source": [
        "from diagram import Bbox\n",
        "\n",
        "width, height, x, y = [2.76, 2.54, 0.27, 2.16]\n",
        "ax = diagram(width, height)\n",
        "bbox1 = stack.draw(ax, x, y)\n",
        "bbox2 = frame_corner1.draw(ax, x+1.85, y-0.6)\n",
        "bbox = Bbox.union([bbox1, bbox2])\n",
        "# adjust(x, y, bbox)"
      ]
    },
    {
      "cell_type": "markdown",
      "id": "35f3e7e1",
      "metadata": {
        "id": "35f3e7e1"
      },
      "source": [
        "`copy` が行う操作は **浅いコピー** と呼ばれます。これはオブジェクト自体をコピーしますが、その中に含まれるオブジェクトはコピーしません。\n",
        "その結果、ある `Rectangle` の `width` や `height` を変更しても他の `Rectangle` には影響しませんが、共有されている `Point` の属性を変更すると、両方に影響を与えます！\n",
        "この動作は混乱を招きやすく、エラーの原因となる可能性があります。\n",
        "\n",
        "幸いなことに、`copy` モジュールは `deepcopy` という別の関数を提供しています。これはオブジェクトだけでなく、それが参照するオブジェクト、そのオブジェクトがさらに参照するオブジェクトというように、すべてをコピーします。\n",
        "この操作は **深いコピー** と呼ばれます。\n",
        "\n",
        "例を示すために、新しい `Point` を含む新しい `Rectangle` から始めましょう。"
      ]
    },
    {
      "cell_type": "code",
      "execution_count": null,
      "id": "168277a9",
      "metadata": {
        "id": "168277a9"
      },
      "outputs": [],
      "source": [
        "corner = Point(20, 20)\n",
        "box3 = Rectangle(100, 50, corner)\n",
        "print(box3)"
      ]
    },
    {
      "cell_type": "markdown",
      "id": "ff9ee872",
      "metadata": {
        "id": "ff9ee872"
      },
      "source": [
        "そして、ディープコピーを作成します。"
      ]
    },
    {
      "cell_type": "code",
      "execution_count": null,
      "id": "75219ef6",
      "metadata": {
        "id": "75219ef6"
      },
      "outputs": [],
      "source": [
        "from copy import deepcopy\n",
        "\n",
        "box4 = deepcopy(box3)"
      ]
    },
    {
      "cell_type": "markdown",
      "id": "7efd0e6a",
      "metadata": {
        "id": "7efd0e6a"
      },
      "source": [
        "2つの `Rectangle` オブジェクトが異なる `Point` オブジェクトを参照していることを確認できます。"
      ]
    },
    {
      "cell_type": "code",
      "execution_count": null,
      "id": "fde2486c",
      "metadata": {
        "id": "fde2486c"
      },
      "outputs": [],
      "source": [
        "box3.corner is box4.corner"
      ]
    },
    {
      "cell_type": "markdown",
      "id": "ca925206",
      "metadata": {
        "id": "ca925206"
      },
      "source": [
        "`box3` と `box4` は完全に別々のオブジェクトであるため、一方を変更しても他方には影響を与えません。\n",
        "これを示すために、`box3` を移動し、`box4` を拡大してみます。"
      ]
    },
    {
      "cell_type": "code",
      "execution_count": null,
      "id": "3f6d1d6b",
      "metadata": {
        "id": "3f6d1d6b"
      },
      "outputs": [],
      "source": [
        "box3.translate(50, 30)\n",
        "box4.grow(100, 60)"
      ]
    },
    {
      "cell_type": "markdown",
      "id": "3ff31c7c",
      "metadata": {
        "id": "3ff31c7c"
      },
      "source": [
        "その効果が予想通りであることを確認できます。"
      ]
    },
    {
      "cell_type": "code",
      "execution_count": null,
      "id": "092ded2c",
      "metadata": {
        "id": "092ded2c"
      },
      "outputs": [],
      "source": [
        "make_turtle()\n",
        "line1.draw()\n",
        "line2.draw()\n",
        "box3.draw()\n",
        "box4.draw()"
      ]
    },
    {
      "cell_type": "markdown",
      "id": "67051d62",
      "metadata": {
        "id": "67051d62"
      },
      "source": [
        "## ポリモーヒズム\n",
        "\n",
        "前回の例では、2つの`Line`オブジェクトと2つの`Rectangle`オブジェクトに対して`draw`メソッドを呼び出しました。\n",
        "オブジェクトのリストを作成することで、同じことをより簡潔に行うことができます。"
      ]
    },
    {
      "cell_type": "code",
      "execution_count": null,
      "id": "c846343c",
      "metadata": {
        "id": "c846343c"
      },
      "outputs": [],
      "source": [
        "shapes = [line1, line2, box3, box4]"
      ]
    },
    {
      "cell_type": "markdown",
      "id": "773955dd",
      "metadata": {
        "id": "773955dd"
      },
      "source": [
        "このリストの要素は異なる種類ですが、それぞれに `draw` メソッドが用意されているため、リストをループして各要素に対して `draw` を呼び出すことができます。"
      ]
    },
    {
      "cell_type": "code",
      "execution_count": null,
      "id": "10912b62",
      "metadata": {
        "id": "10912b62"
      },
      "outputs": [],
      "source": [
        "make_turtle()\n",
        "\n",
        "for shape in shapes:\n",
        "    shape.draw()"
      ]
    },
    {
      "cell_type": "markdown",
      "id": "a1ae190c",
      "metadata": {
        "id": "a1ae190c"
      },
      "source": [
        "ループの最初と2回目では、`shape` は `Line` オブジェクトを指していますので、`draw` が呼び出されると、`Line` クラスで定義されたメソッドが実行されます。\n",
        "\n",
        "ループの3回目と4回目では、`shape` は `Rectangle` オブジェクトを指していますので、`draw` が呼び出されると、`Rectangle` クラスで定義されたメソッドが実行されます。\n",
        "\n",
        "ある意味で、各オブジェクトは自分自身の描き方を知っています。この機能は **ポリモーフィズム** と呼ばれます。この言葉はギリシャ語の語源から来ており、「多くの形」を意味します。オブジェクト指向プログラミングにおけるポリモーフィズムは、異なる型が同じメソッドを提供できる能力を指し、異なる型のオブジェクトに対して同じメソッドを呼び出すことで、形を描くなどの多数の計算を実行することが可能になります。\n",
        "\n",
        "この章の最後の演習では、円を表す新しいクラスを定義し、`draw` メソッドを提供することになります。それから、ポリモーフィズムを活用して、線や長方形、円を描くことができます。"
      ]
    },
    {
      "cell_type": "markdown",
      "id": "74d1b48f",
      "metadata": {
        "id": "74d1b48f"
      },
      "source": [
        "## デバッグ\n",
        "\n",
        "この章では、2つの `Rectangle` オブジェクトで共有されている `Point` を作成し、その後その `Point` を変更したために発生した微妙なバグに遭遇しました。\n",
        "一般的に、このような問題を避ける方法は2つあります。オブジェクトの共有を避けるか、またはオブジェクトの変更を避けることです。\n",
        "\n",
        "オブジェクトの共有を避けるためには、この章で行ったようにディープコピーを使用することができます。\n",
        "\n",
        "オブジェクトの変更を避けるためには、`translate` のような不純な関数を `translated` のような純粋な関数に置き換えることを検討してください。\n",
        "たとえば、新しい `Point` を作成し、その属性を決して変更しない `translated` のバージョンがこちらです。"
      ]
    },
    {
      "cell_type": "code",
      "execution_count": null,
      "id": "c803c91a",
      "metadata": {
        "id": "c803c91a"
      },
      "outputs": [],
      "source": [
        "    def translated(self, dx=0, dy=0):\n",
        "        x = self.x + dx\n",
        "        y = self.y + dy\n",
        "        return Point(x, y)"
      ]
    },
    {
      "cell_type": "markdown",
      "id": "76972167",
      "metadata": {
        "id": "76972167"
      },
      "source": [
        "Pythonは、オブジェクトの変更を避けるための機能を提供しています。それらはこの本の範囲を超えていますが、興味がある場合は、バーチャルアシスタントに「Pythonオブジェクトを不変にする方法」を尋ねるとよいでしょう。\n",
        "\n",
        "新しいオブジェクトを作成するには、既存のオブジェクトを変更するよりも時間がかかりますが、その違いは実際にはほとんど問題になりません。共有オブジェクトや不純な関数を避けるプログラムは、開発、テスト、デバッグが容易であることが多いです。そして、最良のデバッグは、それ自体を行わなくても済むものです。"
      ]
    },
    {
      "cell_type": "markdown",
      "id": "02106995",
      "metadata": {
        "id": "02106995"
      },
      "source": [
        "## 用語集\n",
        "\n",
        "**シャローコピー:**\n",
        "ネストされたオブジェクトをコピーしないコピー操作。\n",
        "\n",
        "**ディープコピー:**\n",
        "ネストされたオブジェクトもコピーするコピー操作。\n",
        "\n",
        "**ポリモorphism:**\n",
        "メソッドや演算子が複数の種類のオブジェクトで動作する能力。"
      ]
    },
    {
      "cell_type": "markdown",
      "id": "09dd41c1",
      "metadata": {
        "id": "09dd41c1"
      },
      "source": [
        "## 演習"
      ]
    },
    {
      "cell_type": "code",
      "execution_count": null,
      "id": "32b151a5",
      "metadata": {
        "tags": [],
        "id": "32b151a5"
      },
      "outputs": [],
      "source": [
        "# This cell tells Jupyter to provide detailed debugging information\n",
        "# when a runtime error occurs. Run it before working on the exercises.\n",
        "\n",
        "%xmode Verbose"
      ]
    },
    {
      "cell_type": "markdown",
      "id": "da0aea86",
      "metadata": {
        "id": "da0aea86"
      },
      "source": [
        "仮想アシスタントに助けを求める際は、以下のクラス定義をプロンプトに含めることを忘れないでください：\n",
        "\n",
        "```python\n",
        "class Point:\n",
        "    def __init__(self, x, y):\n",
        "        self.x = x\n",
        "        self.y = y\n",
        "\n",
        "class Line:\n",
        "    def __init__(self, start_point, end_point):\n",
        "        self.start_point = start_point\n",
        "        self.end_point = end_point\n",
        "\n",
        "class Rectangle:\n",
        "    def __init__(self, top_left, width, height):\n",
        "        self.top_left = top_left\n",
        "        self.width = width\n",
        "        self.height = height\n",
        "```\n",
        "\n",
        "これにより、仮想アシスタントはクラスの属性と関数を正確に理解し、実際に動作するコードの生成が可能になります。"
      ]
    },
    {
      "cell_type": "markdown",
      "id": "7721e47b",
      "metadata": {
        "id": "7721e47b"
      },
      "source": [
        "```python\n",
        "class Point:\n",
        "    def __init__(self, x, y):\n",
        "        self.x = x\n",
        "        self.y = y\n",
        "\n",
        "    def __eq__(self, other):\n",
        "        if not isinstance(other, Point):\n",
        "            return False\n",
        "        return self.x == other.x and self.y == other.y\n",
        "\n",
        "class Line:\n",
        "    def __init__(self, point1, point2):\n",
        "        self.point1 = point1\n",
        "        self.point2 = point2\n",
        "\n",
        "    def __eq__(self, other):\n",
        "        if not isinstance(other, Line):\n",
        "            return False\n",
        "        return ((self.point1 == other.point1 and self.point2 == other.point2) or\n",
        "                (self.point1 == other.point2 and self.point2 == other.point1))\n",
        "```\n",
        "\n",
        "こちらのコードは、`Line` オブジェクトが同等の `Point` オブジェクトを参照する場合に `True` を返す `__eq__` メソッドを `Line` クラスに追加しています。順序に関わらず、2本の `Line` オブジェクトが同じ2つのポイントを持っている場合、このメソッドは `True` を返します。"
      ]
    },
    {
      "cell_type": "markdown",
      "id": "2e488e0f",
      "metadata": {
        "id": "2e488e0f"
      },
      "source": [
        "以下のアウトラインを使って始めることができます。"
      ]
    },
    {
      "cell_type": "code",
      "execution_count": null,
      "id": "92c07380",
      "metadata": {
        "id": "92c07380"
      },
      "outputs": [],
      "source": [
        "%%add_method_to Line\n",
        "\n",
        "def __eq__(self, other):\n",
        "    return None"
      ]
    },
    {
      "cell_type": "code",
      "execution_count": null,
      "id": "a99446c4",
      "metadata": {
        "tags": [],
        "id": "a99446c4"
      },
      "outputs": [],
      "source": [
        "# Solution goes here"
      ]
    },
    {
      "cell_type": "markdown",
      "id": "3a44e45a",
      "metadata": {
        "id": "3a44e45a"
      },
      "source": [
        "これらの例を使って、コードをテストすることができます。"
      ]
    },
    {
      "cell_type": "code",
      "execution_count": null,
      "id": "aa086dd1",
      "metadata": {
        "id": "aa086dd1"
      },
      "outputs": [],
      "source": [
        "start1 = Point(0, 0)\n",
        "start2 = Point(0, 0)\n",
        "end = Point(200, 100)"
      ]
    },
    {
      "cell_type": "markdown",
      "id": "e825f049",
      "metadata": {
        "id": "e825f049"
      },
      "source": [
        "この例は、`Line`オブジェクトが同じ順序で等価な`Point`オブジェクトを参照しているため、`True`であるべきです。"
      ]
    },
    {
      "cell_type": "code",
      "execution_count": null,
      "id": "857cba26",
      "metadata": {
        "id": "857cba26"
      },
      "outputs": [],
      "source": [
        "line_a = Line(start1, end)\n",
        "line_b = Line(start2, end)\n",
        "line_a == line_b    # should be True"
      ]
    },
    {
      "cell_type": "markdown",
      "id": "c3d8fb2b",
      "metadata": {
        "tags": [],
        "id": "c3d8fb2b"
      },
      "source": [
        "この例は `True` であるべきです。なぜなら、`Line` オブジェクトが参照している `Point` オブジェクトが逆の順序で等価であるからです。"
      ]
    },
    {
      "cell_type": "code",
      "execution_count": null,
      "id": "b45def0a",
      "metadata": {
        "id": "b45def0a"
      },
      "outputs": [],
      "source": [
        "line_c = Line(end, start1)\n",
        "line_a == line_c     # should be True"
      ]
    },
    {
      "cell_type": "markdown",
      "id": "8c9c787b",
      "metadata": {
        "id": "8c9c787b"
      },
      "source": [
        "同値関係は常に推移的であるべきです。つまり、`line_a` と `line_b` が同値であり、`line_a` と `line_c` も同値である場合、`line_b` と `line_c` も同値であるべきです。"
      ]
    },
    {
      "cell_type": "code",
      "execution_count": null,
      "id": "9784300c",
      "metadata": {
        "id": "9784300c"
      },
      "outputs": [],
      "source": [
        "line_b == line_c     # should be True"
      ]
    },
    {
      "cell_type": "markdown",
      "id": "d4f385fa",
      "metadata": {
        "id": "d4f385fa"
      },
      "source": [
        "この例は「False」であるべきです。なぜなら、`Line`オブジェクトが参照している`Point`オブジェクトが等価ではないからです。"
      ]
    },
    {
      "cell_type": "code",
      "execution_count": null,
      "id": "5435c8e4",
      "metadata": {
        "id": "5435c8e4"
      },
      "outputs": [],
      "source": [
        "line_d = Line(start1, start2)\n",
        "line_a == line_d    # should be False"
      ]
    },
    {
      "cell_type": "markdown",
      "id": "0e629491",
      "metadata": {
        "id": "0e629491"
      },
      "source": [
        "```python\n",
        "class Point:\n",
        "    def __init__(self, x=0, y=0):\n",
        "        self.x = x\n",
        "        self.y = y\n",
        "\n",
        "class Line:\n",
        "    def __init__(self, start_point, end_point):\n",
        "        self.start_point = start_point\n",
        "        self.end_point = end_point\n",
        "\n",
        "    def midpoint(self):\n",
        "        mid_x = (self.start_point.x + self.end_point.x) / 2\n",
        "        mid_y = (self.start_point.y + self.end_point.y) / 2\n",
        "        return Point(mid_x, mid_y)\n",
        "```\n",
        "\n",
        "```ja\n",
        "class Point:\n",
        "    def __init__(self, x=0, y=0):\n",
        "        self.x = x\n",
        "        self.y = y\n",
        "\n",
        "class Line:\n",
        "    def __init__(self, start_point, end_point):\n",
        "        self.start_point = start_point\n",
        "        self.end_point = end_point\n",
        "\n",
        "    def midpoint(self):\n",
        "        mid_x = (self.start_point.x + self.end_point.x) / 2\n",
        "        mid_y = (self.start_point.y + self.end_point.y) / 2\n",
        "        return Point(mid_x, mid_y)\n",
        "```\n",
        "\n",
        "`Line`クラスに`midpoint`というメソッドを実装しました。このメソッドは線分の中点を計算し、結果を`Point`オブジェクトとして返します。"
      ]
    },
    {
      "cell_type": "markdown",
      "id": "b8c52d19",
      "metadata": {
        "id": "b8c52d19"
      },
      "source": [
        "以下のアウトラインを使用して始めてください。"
      ]
    },
    {
      "cell_type": "code",
      "execution_count": null,
      "id": "f377afbb",
      "metadata": {
        "id": "f377afbb"
      },
      "outputs": [],
      "source": [
        "%%add_method_to Line\n",
        "\n",
        "    def midpoint(self):\n",
        "        return Point(0, 0)"
      ]
    },
    {
      "cell_type": "code",
      "execution_count": null,
      "id": "96d81b90",
      "metadata": {
        "tags": [],
        "id": "96d81b90"
      },
      "outputs": [],
      "source": [
        "# Solution goes here"
      ]
    },
    {
      "cell_type": "markdown",
      "id": "4df69a9f",
      "metadata": {
        "id": "4df69a9f"
      },
      "source": [
        "以下のサンプルを使用してコードをテストし、結果を描画することができます。"
      ]
    },
    {
      "cell_type": "code",
      "execution_count": null,
      "id": "0d603aa3",
      "metadata": {
        "id": "0d603aa3"
      },
      "outputs": [],
      "source": [
        "start = Point(0, 0)\n",
        "end1 = Point(300, 0)\n",
        "end2 = Point(0, 150)\n",
        "line1 = Line(start, end1)\n",
        "line2 = Line(start, end2)"
      ]
    },
    {
      "cell_type": "code",
      "execution_count": null,
      "id": "647d0982",
      "metadata": {
        "id": "647d0982"
      },
      "outputs": [],
      "source": [
        "mid1 = line1.midpoint()\n",
        "print(mid1)"
      ]
    },
    {
      "cell_type": "code",
      "execution_count": null,
      "id": "e351bea3",
      "metadata": {
        "id": "e351bea3"
      },
      "outputs": [],
      "source": [
        "mid2 = line2.midpoint()\n",
        "print(mid2)"
      ]
    },
    {
      "cell_type": "code",
      "execution_count": null,
      "id": "5ad5a076",
      "metadata": {
        "id": "5ad5a076"
      },
      "outputs": [],
      "source": [
        "line3 = Line(mid1, mid2)"
      ]
    },
    {
      "cell_type": "code",
      "execution_count": null,
      "id": "8effaff0",
      "metadata": {
        "id": "8effaff0"
      },
      "outputs": [],
      "source": [
        "make_turtle()\n",
        "\n",
        "for shape in [line1, line2, line3]:\n",
        "    shape.draw()"
      ]
    },
    {
      "cell_type": "markdown",
      "id": "0518c200",
      "metadata": {
        "id": "0518c200"
      },
      "source": [
        "```python\n",
        "class Point:\n",
        "    def __init__(self, x, y):\n",
        "        self.x = x\n",
        "        self.y = y\n",
        "\n",
        "class Rectangle:\n",
        "    def __init__(self, width, height, x, y):\n",
        "        self.width = width\n",
        "        self.height = height\n",
        "        self.x = x\n",
        "        self.y = y\n",
        "\n",
        "    def midpoint(self):\n",
        "        mid_x = self.x + self.width / 2\n",
        "        mid_y = self.y + self.height / 2\n",
        "        return Point(mid_x, mid_y)\n",
        "```\n",
        "\n",
        "```python\n",
        "# Rectangle クラスの midpoint メソッドは、矩形の中心にある点を見つけ、\n",
        "# その結果を Point オブジェクトとして返します。\n",
        "```"
      ]
    },
    {
      "cell_type": "markdown",
      "id": "c586a3ed",
      "metadata": {
        "id": "c586a3ed"
      },
      "source": [
        "次のアウトラインを使用して始めることができます。"
      ]
    },
    {
      "cell_type": "code",
      "execution_count": null,
      "id": "d94a6350",
      "metadata": {
        "id": "d94a6350"
      },
      "outputs": [],
      "source": [
        "%%add_method_to Rectangle\n",
        "\n",
        "    def midpoint(self):\n",
        "        return Point(0, 0)"
      ]
    },
    {
      "cell_type": "code",
      "execution_count": null,
      "id": "de6756da",
      "metadata": {
        "tags": [],
        "id": "de6756da"
      },
      "outputs": [],
      "source": [
        "# Solution goes here"
      ]
    },
    {
      "cell_type": "markdown",
      "id": "d186c84b",
      "metadata": {
        "id": "d186c84b"
      },
      "source": [
        "次の例を使ってコードをテストすることができます。"
      ]
    },
    {
      "cell_type": "code",
      "execution_count": null,
      "id": "4aec759c",
      "metadata": {
        "id": "4aec759c"
      },
      "outputs": [],
      "source": [
        "corner = Point(30, 20)\n",
        "rectangle = Rectangle(100, 80, corner)"
      ]
    },
    {
      "cell_type": "code",
      "execution_count": null,
      "id": "7ec3339d",
      "metadata": {
        "id": "7ec3339d"
      },
      "outputs": [],
      "source": [
        "mid = rectangle.midpoint()\n",
        "print(mid)"
      ]
    },
    {
      "cell_type": "code",
      "execution_count": null,
      "id": "326dbf24",
      "metadata": {
        "id": "326dbf24"
      },
      "outputs": [],
      "source": [
        "diagonal = Line(corner, mid)"
      ]
    },
    {
      "cell_type": "code",
      "execution_count": null,
      "id": "4da710d4",
      "metadata": {
        "id": "4da710d4"
      },
      "outputs": [],
      "source": [
        "make_turtle()\n",
        "\n",
        "for shape in [line1, line2, rectangle, diagonal]:\n",
        "    shape.draw()"
      ]
    },
    {
      "cell_type": "markdown",
      "id": "00cbc4d9",
      "metadata": {
        "id": "00cbc4d9"
      },
      "source": [
        "```python\n",
        "class Point:\n",
        "    def __init__(self, x, y):\n",
        "        self.x = x\n",
        "        self.y = y\n",
        "\n",
        "class Line:\n",
        "    def __init__(self, start, end):\n",
        "        self.start = start\n",
        "        self.end = end\n",
        "\n",
        "class Rectangle:\n",
        "    def __init__(self, top_left, width, height):\n",
        "        self.top_left = top_left\n",
        "        self.width = width\n",
        "        self.height = height\n",
        "\n",
        "    def make_lines(self):\n",
        "        top_right = Point(self.top_left.x + self.width, self.top_left.y)\n",
        "        bottom_left = Point(self.top_left.x, self.top_left.y - self.height)\n",
        "        bottom_right = Point(self.top_left.x + self.width, self.top_left.y - self.height)\n",
        "        \n",
        "        top_line = Line(self.top_left, top_right)\n",
        "        left_line = Line(self.top_left, bottom_left)\n",
        "        right_line = Line(top_right, bottom_right)\n",
        "        bottom_line = Line(bottom_left, bottom_right)\n",
        "        \n",
        "        return [top_line, left_line, right_line, bottom_line]\n",
        "\n",
        "    def make_cross(self):\n",
        "        lines = self.make_lines()\n",
        "        \n",
        "        # Midpoints of the lines\n",
        "        midpoints = [\n",
        "            Point((lines[0].start.x + lines[0].end.x) / 2, (lines[0].start.y + lines[0].end.y) / 2),\n",
        "            Point((lines[1].start.x + lines[1].end.x) / 2, (lines[1].start.y + lines[1].end.y) / 2),\n",
        "            Point((lines[2].start.x + lines[2].end.x) / 2, (lines[2].start.y + lines[2].end.y) / 2),\n",
        "            Point((lines[3].start.x + lines[3].end.x) / 2, (lines[3].start.y + lines[3].end.y) / 2)\n",
        "        ]\n",
        "        \n",
        "        # Creating cross lines connecting opposite midpoints\n",
        "        diagonal1 = Line(midpoints[0], midpoints[3])\n",
        "        diagonal2 = Line(midpoints[1], midpoints[2])\n",
        "        \n",
        "        return [diagonal1, diagonal2]\n",
        "```\n",
        "\n",
        "こちらのコードは、`Rectangle`クラス内に`make_cross`メソッドを定義しています。このメソッドは、四角形の4辺を表す`Line`オブジェクトのリストを取得し、それらの中点を計算します。次に、反対の中点を結んで中央でクロスする2本の直線を表す`Line`オブジェクトを作成して返します。"
      ]
    },
    {
      "cell_type": "markdown",
      "id": "29e994c6",
      "metadata": {
        "id": "29e994c6"
      },
      "source": [
        "このアウトラインを使用して始めることができます。"
      ]
    },
    {
      "cell_type": "code",
      "execution_count": null,
      "id": "30cc0726",
      "metadata": {
        "id": "30cc0726"
      },
      "outputs": [],
      "source": [
        "%%add_method_to Rectangle\n",
        "\n",
        "    def make_diagonals(self):\n",
        "        return []"
      ]
    },
    {
      "cell_type": "code",
      "execution_count": null,
      "id": "6cdde16e",
      "metadata": {
        "tags": [],
        "id": "6cdde16e"
      },
      "outputs": [],
      "source": [
        "# Solution goes here"
      ]
    },
    {
      "cell_type": "markdown",
      "id": "970fcbca",
      "metadata": {
        "id": "970fcbca"
      },
      "source": [
        "コードをテストするために、次の例を使うことができます。"
      ]
    },
    {
      "cell_type": "code",
      "execution_count": null,
      "id": "2afd718c",
      "metadata": {
        "id": "2afd718c"
      },
      "outputs": [],
      "source": [
        "corner = Point(30, 20)\n",
        "rectangle = Rectangle(100, 80, corner)"
      ]
    },
    {
      "cell_type": "code",
      "execution_count": null,
      "id": "b7bdb467",
      "metadata": {
        "id": "b7bdb467"
      },
      "outputs": [],
      "source": [
        "lines = rectangle.make_cross()"
      ]
    },
    {
      "cell_type": "code",
      "execution_count": null,
      "id": "9d09b2c3",
      "metadata": {
        "id": "9d09b2c3"
      },
      "outputs": [],
      "source": [
        "make_turtle()\n",
        "\n",
        "rectangle.draw()\n",
        "for line in lines:\n",
        "    line.draw()"
      ]
    },
    {
      "cell_type": "markdown",
      "id": "cb1b24a3",
      "metadata": {
        "id": "cb1b24a3"
      },
      "source": [
        "以下の機能を使用できます。これは、第4章で作成した`circle`関数のバージョンです。"
      ]
    },
    {
      "cell_type": "code",
      "execution_count": null,
      "id": "b3d2328f",
      "metadata": {
        "id": "b3d2328f"
      },
      "outputs": [],
      "source": [
        "from jupyturtle import make_turtle, forward, left, right\n",
        "import math\n",
        "\n",
        "def draw_circle(radius):\n",
        "    circumference = 2 * math.pi * radius\n",
        "    n = 30\n",
        "    length = circumference / n\n",
        "    angle = 360 / n\n",
        "    left(angle / 2)\n",
        "    for i in range(n):\n",
        "        forward(length)\n",
        "        left(angle)"
      ]
    },
    {
      "cell_type": "markdown",
      "source": [
        "（翻訳修正）\n",
        "\n",
        "以下のクラス Circle の定義のヒントは、英語版（図書館で読める英語の電子版）に含まれていません。\n",
        "日本語版には、誤って、古いヒント（古いjupyturtle を使ったコード例）を含んでいました。\n",
        "この修正版には、古いヒントの代わりに、新しいヒントを入れることにしました。\n",
        "\n",
        "```python\n",
        "class Circle:\n",
        "    def __init__(self, center, radius):\n",
        "        self.center = center\n",
        "        self.radius = radius\n",
        "\n",
        "    def __str__(self):\n",
        "        return f'Circle({self.center}, {self.radius})'\n",
        "\n",
        "    def draw(self):\n",
        "        start = self.center.translated(self.radius, 0)\n",
        "        jumpto(start.x, start.y)\n",
        "　　　　# Solution goes here\n",
        "        # Use draw_circle, left, right.\n",
        "```  "
      ],
      "metadata": {
        "id": "eHTBrrIVO3CW"
      },
      "id": "eHTBrrIVO3CW"
    },
    {
      "cell_type": "markdown",
      "id": "b4325143",
      "metadata": {
        "id": "b4325143"
      },
      "source": [
        "次の例を使ってコードをテストできます。幅と高さが「100」の正方形「Rectangle」から始めます。"
      ]
    },
    {
      "cell_type": "code",
      "execution_count": null,
      "id": "49074ed5",
      "metadata": {
        "id": "49074ed5"
      },
      "outputs": [],
      "source": [
        "corner = Point(20, 20)\n",
        "rectangle = Rectangle(100, 100, corner)"
      ]
    },
    {
      "cell_type": "markdown",
      "id": "2cdecfa9",
      "metadata": {
        "id": "2cdecfa9"
      },
      "source": [
        "次のコードは、正方形の内側に収まるような「Circle」を作成する必要があります。"
      ]
    },
    {
      "cell_type": "code",
      "execution_count": null,
      "id": "d65a9163",
      "metadata": {
        "id": "d65a9163"
      },
      "outputs": [],
      "source": [
        "center = rectangle.midpoint()\n",
        "radius = rectangle.height / 2\n",
        "\n",
        "circle = Circle(center, radius)\n",
        "print(circle)"
      ]
    },
    {
      "cell_type": "markdown",
      "id": "37e94d98",
      "metadata": {
        "id": "37e94d98"
      },
      "source": [
        "もしすべてが正しく機能していれば、以下のコードは円を正方形の内側に描画するはずです（すべての辺に接触しています）。"
      ]
    },
    {
      "cell_type": "code",
      "execution_count": null,
      "id": "e3b23b4d",
      "metadata": {
        "id": "e3b23b4d"
      },
      "outputs": [],
      "source": [
        "make_turtle(delay=0.01)\n",
        "\n",
        "rectangle.draw()\n",
        "circle.draw()"
      ]
    },
    {
      "cell_type": "markdown",
      "id": "a7f4edf8",
      "metadata": {
        "tags": [],
        "id": "a7f4edf8"
      },
      "source": [
        "『Think Python: 第3版』(https://allendowney.github.io/ThinkPython/index.html)\n",
        "\n",
        "著作権 2024 [Allen B. Downey](https://allendowney.com)\n",
        "\n",
        "コードライセンス: [MITライセンス](https://mit-license.org/)\n",
        "\n",
        "テキストライセンス: [クリエイティブ・コモンズ 表示 - 非営利 - 継承 4.0 国際](https://creativecommons.org/licenses/by-nc-sa/4.0/)"
      ]
    }
  ],
  "metadata": {
    "celltoolbar": "Tags",
    "kernelspec": {
      "display_name": "Python 3 (ipykernel)",
      "language": "python",
      "name": "python3"
    },
    "language_info": {
      "codemirror_mode": {
        "name": "ipython",
        "version": 3
      },
      "file_extension": ".py",
      "mimetype": "text/x-python",
      "name": "python",
      "nbconvert_exporter": "python",
      "pygments_lexer": "ipython3",
      "version": "3.10.11"
    },
    "colab": {
      "provenance": [],
      "include_colab_link": true
    }
  },
  "nbformat": 4,
  "nbformat_minor": 5
}