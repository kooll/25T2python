{
  "cells": [
    {
      "cell_type": "markdown",
      "metadata": {
        "id": "view-in-github",
        "colab_type": "text"
      },
      "source": [
        "<a href=\"https://colab.research.google.com/github/kooll/ThinkPythonJ/blob/main/chapters/chap17_translated.ipynb\" target=\"_parent\"><img src=\"https://colab.research.google.com/assets/colab-badge.svg\" alt=\"Open In Colab\"/></a>"
      ]
    },
    {
      "cell_type": "markdown",
      "id": "1331faa1",
      "metadata": {
        "id": "1331faa1"
      },
      "source": [
        "*Think Python 3e* の印刷版および電子書籍版は、[Bookshop.org](https://bookshop.org/a/98697/9781098155438)と[Amazon](https://www.amazon.com/_/dp/1098155432?smid=ATVPDKIKX0DER&_encoding=UTF8&tag=oreilly20-20&_encoding=UTF8&tag=greenteapre01-20&linkCode=ur2&linkId=e2a529f94920295d27ec8a06e757dc7c&camp=1789&creative=9325)から注文できます。"
      ]
    },
    {
      "cell_type": "code",
      "execution_count": null,
      "id": "217fc9bf",
      "metadata": {
        "tags": [],
        "id": "217fc9bf"
      },
      "outputs": [],
      "source": [
        "from os.path import basename, exists\n",
        "\n",
        "def download(url):\n",
        "    filename = basename(url)\n",
        "    if not exists(filename):\n",
        "        from urllib.request import urlretrieve\n",
        "\n",
        "        local, _ = urlretrieve(url, filename)\n",
        "        print(\"Downloaded \" + str(local))\n",
        "    return filename\n",
        "\n",
        "download('https://github.com/AllenDowney/ThinkPython/raw/v3/thinkpython.py');\n",
        "download('https://github.com/AllenDowney/ThinkPython/raw/v3/diagram.py');\n",
        "\n",
        "import thinkpython"
      ]
    },
    {
      "cell_type": "markdown",
      "id": "ced31782",
      "metadata": {
        "tags": [],
        "id": "ced31782"
      },
      "source": [
        "# 継承\n",
        "\n",
        "オブジェクト指向プログラミングと最も関連付けられる言語機能は、**継承**です。継承は、既存のクラスを元にして、それを修正した新しいクラスを定義する機能です。この章では、トランプのカード、カードのデッキ、ポーカーの手役を表すクラスを使って継承を示します。もしポーカーをプレイしないとしても心配しないでください ― 必要なことはちゃんと説明します。"
      ]
    },
    {
      "cell_type": "markdown",
      "id": "b19c4dae",
      "metadata": {
        "id": "b19c4dae"
      },
      "source": [
        "## カードの表現\n",
        "\n",
        "標準的なデッキには52枚のトランプカードがあり、それぞれは4つのスーツのうちの1つに属し、13のランクのうちの1つに属します。\n",
        "スーツはスペード、ハート、ダイヤモンド、クラブです。\n",
        "ランクはエース、2、3、4、5、6、7、8、9、10、ジャック、クイーン、キングです。\n",
        "プレイするゲームによっては、エースがキングより高いか、2より低いかを決定します。\n",
        "\n",
        "トランプカードを表す新しいオブジェクトを定義したい場合、属性は `rank` と `suit` であることは明らかです。\n",
        "しかし、属性の型を何にするかはあまり明らかではありません。\n",
        "一つの可能性は、スーツには `'Spade'` のような文字列を、ランクには `'Queen'` のような文字列を使用することです。\n",
        "この実装の問題点は、カードのランクやスーツを比較してどちらが高いかを判断するのが容易ではないことです。\n",
        "\n",
        "代替案として、ランクとスーツをエンコードするために整数を使用する方法があります。\n",
        "この文脈で「エンコード」とは、数値とスーツ、または数値とランクの間にマッピングを定義することを意味します。\n",
        "この種のエンコードは秘密にすることが目的ではありません（それは「暗号化」となります）。"
      ]
    },
    {
      "cell_type": "markdown",
      "id": "a9bafecf",
      "metadata": {
        "id": "a9bafecf"
      },
      "source": [
        "例えば、この表はスーツとそれに対応する整数コードを示しています。\n",
        "\n",
        "| スーツ | コード |\n",
        "| --- | --- |\n",
        "| スペード | 3 |\n",
        "| ハート | 2 |\n",
        "| ダイヤ | 1 |\n",
        "| クラブ | 0 |\n",
        "\n",
        "このエンコーディングを使用すると、スーツをそのコードを比較することで比較することができます。"
      ]
    },
    {
      "cell_type": "markdown",
      "id": "a1b46b1a",
      "metadata": {
        "id": "a1b46b1a"
      },
      "source": [
        "ランクをエンコードするために、整数 `2` をランク `2`、`3` を `3`、そして `10` まで順に使用します。フェイスカードに対するコードは次の表の通りです。\n",
        "\n",
        "| ランク | コード |\n",
        "| --- | --- |\n",
        "| ジャック | 11 |\n",
        "| クイーン | 12 |\n",
        "| キング | 13 |\n",
        "\n",
        "エースを表すには、他のランクより低く扱う場合は `1`、高く扱う場合は `14` を使用します。\n",
        "\n",
        "これらのエンコーディングを表現するために、スートの名前を表す文字列のリストと、ランクの名前を表す文字列のリストを使用します。\n",
        "\n",
        "以下は、トランプのカードを表すクラスの定義です。このクラスには**クラス変数**があり、これはクラス定義内で定義される変数ですが、メソッド内ではありません。"
      ]
    },
    {
      "cell_type": "code",
      "execution_count": null,
      "id": "ef26adf0",
      "metadata": {
        "id": "ef26adf0"
      },
      "outputs": [],
      "source": [
        "class Card:\n",
        "    \"\"\"Represents a standard playing card.\"\"\"\n",
        "\n",
        "    suit_names = ['Clubs', 'Diamonds', 'Hearts', 'Spades']\n",
        "    rank_names = [None, 'Ace', '2', '3', '4', '5', '6', '7',\n",
        "                  '8', '9', '10', 'Jack', 'Queen', 'King', 'Ace']"
      ]
    },
    {
      "cell_type": "markdown",
      "id": "d63f798a",
      "metadata": {
        "id": "d63f798a"
      },
      "source": [
        "`rank_names` の最初の要素が `None` であるのは、ランクがゼロのカードが存在しないためです。この `None` をプレースキーパーとして含めることにより、インデックス `2` が文字列 `'2'` にマップするという便利な特性を持つリストを得られます。\n",
        "\n",
        "クラス変数はクラスに関連付けられており、そのクラスのインスタンスではなく、次のようにアクセスできます。"
      ]
    },
    {
      "cell_type": "code",
      "execution_count": null,
      "id": "4e4bd268",
      "metadata": {
        "id": "4e4bd268"
      },
      "outputs": [],
      "source": [
        "Card.suit_names"
      ]
    },
    {
      "cell_type": "markdown",
      "id": "c837fff6",
      "metadata": {
        "id": "c837fff6"
      },
      "source": [
        "`suit_names`を使用してスーツを調べ、その対応する文字列を取得できます。"
      ]
    },
    {
      "cell_type": "code",
      "execution_count": null,
      "id": "8aec2a6a",
      "metadata": {
        "id": "8aec2a6a"
      },
      "outputs": [],
      "source": [
        "Card.suit_names[0]"
      ]
    },
    {
      "cell_type": "markdown",
      "id": "a59d905e",
      "metadata": {
        "id": "a59d905e"
      },
      "source": [
        "「rank_names」を使用してランクを検索します。"
      ]
    },
    {
      "cell_type": "code",
      "execution_count": null,
      "id": "baf029e9",
      "metadata": {
        "id": "baf029e9"
      },
      "outputs": [],
      "source": [
        "Card.rank_names[11]"
      ]
    },
    {
      "cell_type": "markdown",
      "id": "50dda19b",
      "metadata": {
        "id": "50dda19b"
      },
      "source": [
        "## カードの属性\n",
        "\n",
        "こちらは `Card` クラスの `__init__` メソッドです。このメソッドは `suit` と `rank` をパラメータとして取り、それらを同じ名前の属性に割り当てます。"
      ]
    },
    {
      "cell_type": "code",
      "execution_count": null,
      "id": "91320ea3",
      "metadata": {
        "id": "91320ea3"
      },
      "outputs": [],
      "source": [
        "%%add_method_to Card\n",
        "\n",
        "    def __init__(self, suit, rank):\n",
        "        self.suit = suit\n",
        "        self.rank = rank"
      ]
    },
    {
      "cell_type": "markdown",
      "id": "31a2782d",
      "metadata": {
        "id": "31a2782d"
      },
      "source": [
        "これで、このようにして `Card` オブジェクトを作成できます。"
      ]
    },
    {
      "cell_type": "code",
      "execution_count": null,
      "id": "c04bb77e",
      "metadata": {
        "id": "c04bb77e"
      },
      "outputs": [],
      "source": [
        "queen = Card(1, 12)"
      ]
    },
    {
      "cell_type": "markdown",
      "id": "85e5cf5d",
      "metadata": {
        "id": "85e5cf5d"
      },
      "source": [
        "新しいインスタンスを使用して属性にアクセスできます。"
      ]
    },
    {
      "cell_type": "code",
      "execution_count": null,
      "id": "b182e6fa",
      "metadata": {
        "id": "b182e6fa"
      },
      "outputs": [],
      "source": [
        "queen.suit, queen.rank"
      ]
    },
    {
      "cell_type": "markdown",
      "id": "449225d3",
      "metadata": {
        "id": "449225d3"
      },
      "source": [
        "インスタンスを使用してクラス変数にアクセスすることも合法です。"
      ]
    },
    {
      "cell_type": "code",
      "execution_count": null,
      "id": "17ce1a51",
      "metadata": {
        "id": "17ce1a51"
      },
      "outputs": [],
      "source": [
        "queen.suit_names"
      ]
    },
    {
      "cell_type": "markdown",
      "id": "97232ffa",
      "metadata": {
        "id": "97232ffa"
      },
      "source": [
        "ただし、クラスを使用すると、それらが属性ではなくクラス変数であることがより明確になります。"
      ]
    },
    {
      "cell_type": "markdown",
      "id": "7a0a79ae",
      "metadata": {
        "id": "7a0a79ae"
      },
      "source": [
        "もちろん、`Card`オブジェクトの`__str__`メソッドの定義を以下に示します。`Card`クラスは一般的にトランプのカードを表現するために利用されます。簡単な例としてカードの`__str__`メソッドを実装すると、以下のようになります。\n",
        "\n",
        "```python\n",
        "class Card:\n",
        "    def __init__(self, suit, rank):\n",
        "        self.suit = suit\n",
        "        self.rank = rank\n",
        "\n",
        "    def __str__(self):\n",
        "        return f\"{self.rank} of {self.suit}\"\n",
        "\n",
        "# 使用例\n",
        "card = Card(\"Hearts\", \"Ace\")\n",
        "print(card)  # 出力: Ace of Hearts\n",
        "```\n",
        "\n",
        "ここで、`suit`はカードのスート（例：Hearts, Diamonds, Clubs, Spades）を表し、`rank`はカードの数字や顔（例：2, 3, ... , 10, Jack, Queen, King, Ace）を表します。`__str__`メソッドはカードオブジェクトが文字列として表現されるときの形式を定義します。この例では、「rank of suit」という形式で出力されます。"
      ]
    },
    {
      "cell_type": "code",
      "execution_count": null,
      "id": "6709b45a",
      "metadata": {
        "id": "6709b45a"
      },
      "outputs": [],
      "source": [
        "%%add_method_to Card\n",
        "\n",
        "    def __str__(self):\n",
        "        rank_name = Card.rank_names[self.rank]\n",
        "        suit_name = Card.suit_names[self.suit]\n",
        "        return f'{rank_name} of {suit_name}'"
      ]
    },
    {
      "cell_type": "markdown",
      "id": "d6c51352",
      "metadata": {
        "id": "d6c51352"
      },
      "source": [
        "`Card`を印刷すると、Pythonは`__str__`メソッドを呼び出してカードの人間に読みやすい表現を取得します。"
      ]
    },
    {
      "cell_type": "code",
      "execution_count": null,
      "id": "e7f9304d",
      "metadata": {
        "id": "e7f9304d"
      },
      "outputs": [],
      "source": [
        "print(queen)"
      ]
    },
    {
      "cell_type": "markdown",
      "id": "76044b9e",
      "metadata": {
        "id": "76044b9e"
      },
      "source": [
        "以下は`Card`クラスオブジェクトとそのインスタンスである`queen`の図です。\n",
        "`Card`はクラスオブジェクトなので、その型は`type`です。\n",
        "`queen`は`Card`のインスタンスなので、その型は`Card`です。\n",
        "スペースを節約するために、`suit_names`と`rank_names`の中身は描いていません。"
      ]
    },
    {
      "cell_type": "code",
      "execution_count": null,
      "id": "d589ed70",
      "metadata": {
        "tags": [],
        "id": "d589ed70"
      },
      "outputs": [],
      "source": [
        "from diagram import Binding, Value, Frame, Stack\n",
        "\n",
        "bindings = [Binding(Value(name), draw_value=False)\n",
        "            for name in ['suit_names', 'rank_names']]\n",
        "\n",
        "frame1 = Frame(bindings, name='type', dy=-0.5, offsetx=0.77)\n",
        "binding1 = Binding(Value('Card'), frame1)\n",
        "\n",
        "bindings = [Binding(Value(name), Value(value))\n",
        "            for name, value in zip(['suit', 'rank'], [1, 11])]\n",
        "\n",
        "frame2 = Frame(bindings, name='Card', dy=-0.3, offsetx=0.33)\n",
        "binding2 = Binding(Value('queen'), frame2)\n",
        "\n",
        "stack = Stack([binding1, binding2], dy=-1.2)"
      ]
    },
    {
      "cell_type": "code",
      "execution_count": null,
      "id": "5518455f",
      "metadata": {
        "tags": [],
        "id": "5518455f"
      },
      "outputs": [],
      "source": [
        "from diagram import diagram, Bbox, make_list, adjust\n",
        "\n",
        "width, height, x, y = [2.11, 2.14, 0.35, 1.76]\n",
        "ax = diagram(width, height)\n",
        "bbox = stack.draw(ax, x, y)\n",
        "\n",
        "value = make_list([])\n",
        "bbox2 = value.draw(ax, x+1.66, y)\n",
        "\n",
        "value = make_list([])\n",
        "bbox3 = value.draw(ax, x+1.66, y-0.5)\n",
        "\n",
        "bbox = Bbox.union([bbox, bbox2, bbox3])\n",
        "#adjust(x, y, bbox)"
      ]
    },
    {
      "cell_type": "markdown",
      "id": "ccb8e41d",
      "metadata": {
        "id": "ccb8e41d"
      },
      "source": [
        "各 `Card` インスタンスはそれぞれ独自の `suit` と `rank` 属性を持ちますが、`Card` クラスオブジェクトは1つだけであり、クラス変数 `suit_names` と `rank_names` のコピーも1つだけです。"
      ]
    },
    {
      "cell_type": "markdown",
      "id": "98c6508d",
      "metadata": {
        "id": "98c6508d"
      },
      "source": [
        "カードのオブジェクトをもう一つ作成し、同じスートとランクを持たせるとしましょう。"
      ]
    },
    {
      "cell_type": "code",
      "execution_count": null,
      "id": "cadb115d",
      "metadata": {
        "id": "cadb115d"
      },
      "outputs": [],
      "source": [
        "queen2 = Card(1, 12)\n",
        "print(queen2)"
      ]
    },
    {
      "cell_type": "markdown",
      "id": "3c92779c",
      "metadata": {
        "id": "3c92779c"
      },
      "source": [
        "`==` 演算子を使用してそれらを比較する場合、`queen` と `queen2` が同じオブジェクトを参照しているかどうかを確認します。"
      ]
    },
    {
      "cell_type": "code",
      "execution_count": null,
      "id": "6a625fde",
      "metadata": {
        "id": "6a625fde"
      },
      "outputs": [],
      "source": [
        "queen == queen2"
      ]
    },
    {
      "cell_type": "markdown",
      "id": "278d8abe",
      "metadata": {
        "id": "278d8abe"
      },
      "source": [
        "それに一致しないため、`False`を返します。\n",
        "この動作は、特別なメソッド`__eq__`を定義することで変更できます。"
      ]
    },
    {
      "cell_type": "code",
      "execution_count": null,
      "id": "4f394e57",
      "metadata": {
        "id": "4f394e57"
      },
      "outputs": [],
      "source": [
        "%%add_method_to Card\n",
        "\n",
        "    def __eq__(self, other):\n",
        "        return self.suit == other.suit and self.rank == other.rank"
      ]
    },
    {
      "cell_type": "markdown",
      "id": "bd66a9d3",
      "metadata": {
        "id": "bd66a9d3"
      },
      "source": [
        "`__eq__`メソッドは、2つの`Card`オブジェクトをパラメータとして受け取り、それらが同じスートとランクを持っている場合に`True`を返します。つまり、それらが同一のオブジェクトでなくても等価であるかを確認します。\n",
        "\n",
        "`Card`オブジェクト同士で`==`演算子を使用すると、Pythonは`__eq__`メソッドを呼び出します。"
      ]
    },
    {
      "cell_type": "code",
      "execution_count": null,
      "id": "2c10425b",
      "metadata": {
        "id": "2c10425b"
      },
      "outputs": [],
      "source": [
        "queen == queen2"
      ]
    },
    {
      "cell_type": "markdown",
      "id": "23d99d3e",
      "metadata": {
        "id": "23d99d3e"
      },
      "source": [
        "2番目のテストとして、同じスートで異なるランクのカードを作成してみましょう。"
      ]
    },
    {
      "cell_type": "code",
      "execution_count": null,
      "id": "c2a695b4",
      "metadata": {
        "id": "c2a695b4"
      },
      "outputs": [],
      "source": [
        "six = Card(1, 6)\n",
        "print(six)"
      ]
    },
    {
      "cell_type": "markdown",
      "id": "c5f66404",
      "metadata": {
        "id": "c5f66404"
      },
      "source": [
        "`queen`と`six`が同等ではないことを確認できます。"
      ]
    },
    {
      "cell_type": "code",
      "execution_count": null,
      "id": "400c3340",
      "metadata": {
        "id": "400c3340"
      },
      "outputs": [],
      "source": [
        "queen == six"
      ]
    },
    {
      "cell_type": "markdown",
      "id": "1dcb561f",
      "metadata": {
        "id": "1dcb561f"
      },
      "source": [
        "`!=` 演算子を使用する場合、Python は `__ne__` と呼ばれる特別なメソッドを呼び出します。ただし、このメソッドが存在しない場合は `__eq__` を呼び出してその結果を反転させます。つまり、`__eq__` が `True` を返す場合、`!=` 演算子の結果は `False` になります。"
      ]
    },
    {
      "cell_type": "code",
      "execution_count": null,
      "id": "c7d731b6",
      "metadata": {
        "id": "c7d731b6"
      },
      "outputs": [],
      "source": [
        "queen != queen2"
      ]
    },
    {
      "cell_type": "code",
      "execution_count": null,
      "id": "d2be6c82",
      "metadata": {
        "id": "d2be6c82"
      },
      "outputs": [],
      "source": [
        "queen != six"
      ]
    },
    {
      "cell_type": "markdown",
      "id": "77c48464",
      "metadata": {
        "id": "77c48464"
      },
      "source": [
        "2枚のカードを比較してどちらが大きいかを判断したい場合、関係演算子を使用すると`TypeError`が発生することがあります。これは、カードの比較が通常の数値や文字列とは異なる基準で行われるためです。カードオブジェクト同士を直接比較するには、カードのランクやスートに基づいたカスタムの比較メソッドを実装する必要があります。例えば、Pythonでは`__lt__`や`__gt__`といった特殊メソッドを定義することで、カードの比較をコントロールすることが可能です。"
      ]
    },
    {
      "cell_type": "code",
      "execution_count": null,
      "id": "aa63fe2a",
      "metadata": {
        "tags": [],
        "id": "aa63fe2a"
      },
      "outputs": [],
      "source": [
        "%%expect TypeError\n",
        "\n",
        "queen < queen2"
      ]
    },
    {
      "cell_type": "markdown",
      "id": "4db0ad52",
      "metadata": {
        "id": "4db0ad52"
      },
      "source": [
        "`<` 演算子の動作を変更するためには、`__lt__` という特別なメソッドを定義できます。これは \"less than\" の略です。この例では、スートがランクよりも重要であると仮定します。したがって、すべてのスペードはすべてのハートよりも優れており、ハートはすべてのダイヤモンドよりも優れています。もし2枚のカードが同じスートを持つ場合は、ランクが高いカードが勝ちます。\n",
        "\n",
        "このロジックを実装するために、以下のメソッドを使用します。このメソッドは、カードのスートとランクをその順で含むタプルを返します。"
      ]
    },
    {
      "cell_type": "code",
      "execution_count": null,
      "id": "b2126f79",
      "metadata": {
        "id": "b2126f79"
      },
      "outputs": [],
      "source": [
        "%%add_method_to Card\n",
        "\n",
        "    def to_tuple(self):\n",
        "        return (self.suit, self.rank)"
      ]
    },
    {
      "cell_type": "markdown",
      "id": "d5062348",
      "metadata": {
        "id": "d5062348"
      },
      "source": [
        "このメソッドを使用して `__lt__` を記述することができます。"
      ]
    },
    {
      "cell_type": "code",
      "execution_count": null,
      "id": "d4d0a652",
      "metadata": {
        "id": "d4d0a652"
      },
      "outputs": [],
      "source": [
        "%%add_method_to Card\n",
        "\n",
        "    def __lt__(self, other):\n",
        "        return self.to_tuple() < other.to_tuple()"
      ]
    },
    {
      "cell_type": "markdown",
      "id": "bd9ef8f5",
      "metadata": {
        "id": "bd9ef8f5"
      },
      "source": [
        "タプルの比較では、まず各タプルの最初の要素、つまりスートを比較します。もしそれらが同じであれば、次の要素、つまりランクを比較します。\n",
        "\n",
        "`<` 演算子を使用すると、`__lt__` メソッドが呼び出されます。"
      ]
    },
    {
      "cell_type": "code",
      "execution_count": null,
      "id": "9d4ea1f8",
      "metadata": {
        "id": "9d4ea1f8"
      },
      "outputs": [],
      "source": [
        "six < queen"
      ]
    },
    {
      "cell_type": "markdown",
      "id": "83289a77",
      "metadata": {
        "id": "83289a77"
      },
      "source": [
        "`>`演算子を使用すると、`__gt__`という特別なメソッドが存在すればそれを呼び出します。\n",
        "存在しなければ、引数を逆の順番にして`__lt__`を呼び出します。"
      ]
    },
    {
      "cell_type": "code",
      "execution_count": null,
      "id": "676ede7e",
      "metadata": {
        "id": "676ede7e"
      },
      "outputs": [],
      "source": [
        "queen < queen2"
      ]
    },
    {
      "cell_type": "code",
      "execution_count": null,
      "id": "3c4854fb",
      "metadata": {
        "id": "3c4854fb"
      },
      "outputs": [],
      "source": [
        "queen > queen2"
      ]
    },
    {
      "cell_type": "markdown",
      "id": "5d0a91de",
      "metadata": {
        "id": "5d0a91de"
      },
      "source": [
        "最後に、`<=` 演算子を使用すると、`__le__` という特別なメソッドが呼び出されます。"
      ]
    },
    {
      "cell_type": "code",
      "execution_count": null,
      "id": "27280fc2",
      "metadata": {
        "id": "27280fc2"
      },
      "outputs": [],
      "source": [
        "%%add_method_to Card\n",
        "\n",
        "    def __le__(self, other):\n",
        "        return self.to_tuple() <= other.to_tuple()"
      ]
    },
    {
      "cell_type": "markdown",
      "id": "6c85ac69",
      "metadata": {
        "id": "6c85ac69"
      },
      "source": [
        "だから、あるカードが別のカードより小さいか、または等しいかどうかを確認できます。"
      ]
    },
    {
      "cell_type": "code",
      "execution_count": null,
      "id": "bea50d85",
      "metadata": {
        "id": "bea50d85"
      },
      "outputs": [],
      "source": [
        "queen <= queen2"
      ]
    },
    {
      "cell_type": "code",
      "execution_count": null,
      "id": "8d539454",
      "metadata": {
        "id": "8d539454"
      },
      "outputs": [],
      "source": [
        "queen <= six"
      ]
    },
    {
      "cell_type": "markdown",
      "id": "7af7b289",
      "metadata": {
        "id": "7af7b289"
      },
      "source": [
        "`>=` 演算子を使用すると、もし `__ge__` が存在する場合、それが使用されます。存在しない場合は、引数の順序を逆にして `__le__` が呼び出されます。"
      ]
    },
    {
      "cell_type": "code",
      "execution_count": null,
      "id": "e7edb7cb",
      "metadata": {
        "id": "e7edb7cb"
      },
      "outputs": [],
      "source": [
        "queen >= six"
      ]
    },
    {
      "cell_type": "markdown",
      "id": "fe2a81cc",
      "metadata": {
        "id": "fe2a81cc"
      },
      "source": [
        "これらのメソッドを定義したように、それらは任意の2つの`Card`オブジェクトを比較できるという意味で完全であり、異なる演算子からの結果が互いに矛盾しないという意味で一貫しています。 これらの2つの特性により、`Card`オブジェクトは**完全順序付け**されていると言えます。 これはすぐにわかるように、それらをソートできることを意味します。"
      ]
    },
    {
      "cell_type": "markdown",
      "id": "199f8bfc",
      "metadata": {
        "id": "199f8bfc"
      },
      "source": [
        "## デッキ\n",
        "\n",
        "カードを表すオブジェクトが定義できたので、デッキを表すオブジェクトを定義しましょう。\n",
        "以下は、`Deck` クラスの定義です。このクラスには、`Card` オブジェクトのリストをパラメータとして受け取り、それを `cards` という属性に割り当てる `__init__` メソッドがあります。"
      ]
    },
    {
      "cell_type": "code",
      "execution_count": null,
      "id": "b55140e3",
      "metadata": {
        "id": "b55140e3"
      },
      "outputs": [],
      "source": [
        "class Deck:\n",
        "\n",
        "    def __init__(self, cards):\n",
        "        self.cards = cards"
      ]
    },
    {
      "cell_type": "markdown",
      "id": "2d529789",
      "metadata": {
        "id": "2d529789"
      },
      "source": [
        "標準的なトランプデッキに含まれる52枚のカードのリストを作成するために、次の静的メソッドを使用します。"
      ]
    },
    {
      "cell_type": "code",
      "execution_count": null,
      "id": "836f1a32",
      "metadata": {
        "id": "836f1a32"
      },
      "outputs": [],
      "source": [
        "%%add_method_to Deck\n",
        "\n",
        "    def make_cards():\n",
        "        cards = []\n",
        "        for suit in range(4):\n",
        "            for rank in range(2, 15):\n",
        "                card = Card(suit, rank)\n",
        "                cards.append(card)\n",
        "        return cards"
      ]
    },
    {
      "cell_type": "markdown",
      "id": "47ae8f71",
      "metadata": {
        "id": "47ae8f71"
      },
      "source": [
        "`make_cards`内では、外側のループがスートを`0`から`3`まで列挙します。\n",
        "内側のループではランクを`2`から`14`まで列挙し、`14`はキングよりランクが高いエースを表します。\n",
        "各イテレーションでは、現在のスートとランクを持つ新しい`Card`を作成し、それを`cards`に追加します。\n",
        "\n",
        "以下に、カードのリストとそれを含む`Deck`オブジェクトを作成する方法を示します。"
      ]
    },
    {
      "cell_type": "code",
      "execution_count": null,
      "id": "ca50c79b",
      "metadata": {
        "id": "ca50c79b"
      },
      "outputs": [],
      "source": [
        "cards = Deck.make_cards()\n",
        "deck = Deck(cards)\n",
        "len(deck.cards)"
      ]
    },
    {
      "cell_type": "markdown",
      "id": "032ec302",
      "metadata": {
        "id": "032ec302"
      },
      "source": [
        "それには、意図通り52枚のカードが含まれています。"
      ]
    },
    {
      "cell_type": "markdown",
      "id": "c2ec7f01",
      "metadata": {
        "tags": [],
        "id": "c2ec7f01"
      },
      "source": [
        "デッキクラスの`__str__`メソッドは、デッキの内容を文字列として表現するためのものです。このメソッドを実装することで、デッキオブジェクトをprint関数で出力する際に、カードを視覚的に確認できるようになります。\n",
        "\n",
        "例として、デッキ内のカードを一行に一枚ずつ表示するような`__str__`メソッドの実装を考えてみましょう。\n",
        "\n",
        "```python\n",
        "class Deck:\n",
        "    def __init__(self, cards):\n",
        "        self.cards = cards\n",
        "\n",
        "    def __str__(self):\n",
        "        return '\\n'.join(str(card) for card in self.cards)\n",
        "```\n",
        "\n",
        "上記のコードでは、`Deck`クラスにはカードのリストを保持する`cards`という属性があります。`__str__`メソッド内で、このリストの各カードを文字列に変換し、それらを改行区切りで結合して、一つの文字列として返しています。\n",
        "\n",
        "このように実装すれば、デッキの内容をprint関数で簡単に出力することができ、各カードが見やすく表示されます。"
      ]
    },
    {
      "cell_type": "code",
      "execution_count": null,
      "id": "1f1b923e",
      "metadata": {
        "id": "1f1b923e"
      },
      "outputs": [],
      "source": [
        "%%add_method_to Deck\n",
        "\n",
        "    def __str__(self):\n",
        "        res = []\n",
        "        for card in self.cards:\n",
        "            res.append(str(card))\n",
        "        return '\\n'.join(res)"
      ]
    },
    {
      "cell_type": "markdown",
      "id": "660f18e6",
      "metadata": {
        "id": "660f18e6"
      },
      "source": [
        "この方法は、大きな文字列を効率的に蓄積する方法を示しています。まず文字列のリストを作成し、その後に文字列のメソッド `join` を使用します。\n",
        "\n",
        "この方法を、2枚のカードしか含まないデッキでテストしてみましょう。"
      ]
    },
    {
      "cell_type": "code",
      "execution_count": null,
      "id": "0c55a663",
      "metadata": {
        "id": "0c55a663"
      },
      "outputs": [],
      "source": [
        "small_deck = Deck([queen, six])"
      ]
    },
    {
      "cell_type": "markdown",
      "id": "91c7145f",
      "metadata": {
        "id": "91c7145f"
      },
      "source": [
        "`str`を呼び出すと、`__str__`が呼び出されます。"
      ]
    },
    {
      "cell_type": "code",
      "execution_count": null,
      "id": "fb3350ef",
      "metadata": {
        "id": "fb3350ef"
      },
      "outputs": [],
      "source": [
        "str(small_deck)"
      ]
    },
    {
      "cell_type": "markdown",
      "id": "00270656",
      "metadata": {
        "id": "00270656"
      },
      "source": [
        "Jupyterが文字列を表示するとき、「表現形式」を示します。これは改行をシーケンス`\\n`で表します。\n",
        "\n",
        "しかし、結果をprint関数で表示すると、Jupyterは文字列の「印刷可能形式」を示し、改行を空白として表示します。"
      ]
    },
    {
      "cell_type": "code",
      "execution_count": null,
      "id": "d67f8fd5",
      "metadata": {
        "id": "d67f8fd5"
      },
      "outputs": [],
      "source": [
        "print(small_deck)"
      ]
    },
    {
      "cell_type": "markdown",
      "id": "e97810c4",
      "metadata": {
        "id": "e97810c4"
      },
      "source": [
        "そのカードは別々の行に表示されます。"
      ]
    },
    {
      "cell_type": "markdown",
      "id": "52d3d597",
      "metadata": {
        "id": "52d3d597"
      },
      "source": [
        "カードを配るには、デッキからカードを取り除き、それを返すメソッドが必要です。そのために、リストメソッドの`pop`を使うと便利です。"
      ]
    },
    {
      "cell_type": "code",
      "execution_count": null,
      "id": "3836c48c",
      "metadata": {
        "id": "3836c48c"
      },
      "outputs": [],
      "source": [
        "%%add_method_to Deck\n",
        "\n",
        "    def take_card(self):\n",
        "        return self.cards.pop()"
      ]
    },
    {
      "cell_type": "markdown",
      "id": "1fcef47b",
      "metadata": {
        "id": "1fcef47b"
      },
      "source": [
        "ここでの使用方法です。"
      ]
    },
    {
      "cell_type": "code",
      "execution_count": null,
      "id": "5afccad6",
      "metadata": {
        "id": "5afccad6"
      },
      "outputs": [],
      "source": [
        "card = deck.take_card()\n",
        "print(card)"
      ]
    },
    {
      "cell_type": "markdown",
      "id": "65427954",
      "metadata": {
        "id": "65427954"
      },
      "source": [
        "デッキにはカードが「51」枚残っていることを確認できます。"
      ]
    },
    {
      "cell_type": "code",
      "execution_count": null,
      "id": "58f9473a",
      "metadata": {
        "id": "58f9473a"
      },
      "outputs": [],
      "source": [
        "len(deck.cards)"
      ]
    },
    {
      "cell_type": "markdown",
      "id": "7ca3614e",
      "metadata": {
        "id": "7ca3614e"
      },
      "source": [
        "カードを追加するには、リストメソッド`append`を使用できます。"
      ]
    },
    {
      "cell_type": "code",
      "execution_count": null,
      "id": "f3eac4b5",
      "metadata": {
        "id": "f3eac4b5"
      },
      "outputs": [],
      "source": [
        "%%add_method_to Deck\n",
        "\n",
        "    def put_card(self, card):\n",
        "        self.cards.append(card)"
      ]
    },
    {
      "cell_type": "markdown",
      "id": "2ecd8703",
      "metadata": {
        "id": "2ecd8703"
      },
      "source": [
        "例として、今取り出したカードを戻すことができます。"
      ]
    },
    {
      "cell_type": "code",
      "execution_count": null,
      "id": "f234eff4",
      "metadata": {
        "id": "f234eff4"
      },
      "outputs": [],
      "source": [
        "deck.put_card(card)\n",
        "len(deck.cards)"
      ]
    },
    {
      "cell_type": "markdown",
      "id": "8b5af8ce",
      "metadata": {
        "id": "8b5af8ce"
      },
      "source": [
        "デッキをシャッフルするには、`random`モジュールの`shuffle`関数を使用できます。"
      ]
    },
    {
      "cell_type": "code",
      "execution_count": null,
      "id": "81e60a08",
      "metadata": {
        "id": "81e60a08"
      },
      "outputs": [],
      "source": [
        "import random"
      ]
    },
    {
      "cell_type": "code",
      "execution_count": null,
      "id": "b630cbb8",
      "metadata": {
        "tags": [],
        "id": "b630cbb8"
      },
      "outputs": [],
      "source": [
        "# This cell initializes the random number generator so we\n",
        "# always get the same results.\n",
        "\n",
        "random.seed(3)"
      ]
    },
    {
      "cell_type": "code",
      "execution_count": null,
      "id": "bea615ea",
      "metadata": {
        "id": "bea615ea"
      },
      "outputs": [],
      "source": [
        "%%add_method_to Deck\n",
        "\n",
        "    def shuffle(self):\n",
        "        random.shuffle(self.cards)"
      ]
    },
    {
      "cell_type": "markdown",
      "id": "a8cb1a7f",
      "metadata": {
        "id": "a8cb1a7f"
      },
      "source": [
        "デッキをシャッフルして最初の数枚を印刷すると、それらがはっきりした順序になっていないことがわかります。"
      ]
    },
    {
      "cell_type": "code",
      "execution_count": null,
      "id": "6b0f6b02",
      "metadata": {
        "id": "6b0f6b02"
      },
      "outputs": [],
      "source": [
        "deck.shuffle()\n",
        "for card in deck.cards[:4]:\n",
        "    print(card)"
      ]
    },
    {
      "cell_type": "markdown",
      "id": "a198dde3",
      "metadata": {
        "id": "a198dde3"
      },
      "source": [
        "カードを並べ替えるには、リストメソッドの`sort`を使用できます。このメソッドは要素を「インプレース」で並べ替えます。つまり、新しいリストを作成するのではなく、リストを変更します。"
      ]
    },
    {
      "cell_type": "code",
      "execution_count": null,
      "id": "6bff10b6",
      "metadata": {
        "id": "6bff10b6"
      },
      "outputs": [],
      "source": [
        "%%add_method_to Deck\n",
        "\n",
        "    def sort(self):\n",
        "        self.cards.sort()"
      ]
    },
    {
      "cell_type": "markdown",
      "id": "d4f017c7",
      "metadata": {
        "id": "d4f017c7"
      },
      "source": [
        "`sort`を呼び出すと、カードの比較に`__lt__`メソッドが使用されます。"
      ]
    },
    {
      "cell_type": "code",
      "execution_count": null,
      "id": "568a6583",
      "metadata": {
        "id": "568a6583"
      },
      "outputs": [],
      "source": [
        "deck.sort()"
      ]
    },
    {
      "cell_type": "markdown",
      "id": "2bb966fd",
      "metadata": {
        "id": "2bb966fd"
      },
      "source": [
        "最初の数枚のカードを印刷すれば、それらが昇順になっていることを確認できます。"
      ]
    },
    {
      "cell_type": "code",
      "execution_count": null,
      "id": "54e91c91",
      "metadata": {
        "id": "54e91c91"
      },
      "outputs": [],
      "source": [
        "for card in deck.cards[:4]:\n",
        "    print(card)"
      ]
    },
    {
      "cell_type": "markdown",
      "id": "5c41ce4d",
      "metadata": {
        "id": "5c41ce4d"
      },
      "source": [
        "この例では、`Deck.sort`は`list.sort`を呼び出す以外には何もしていません。\n",
        "このように責任を引き渡すことを**委譲**と呼びます。"
      ]
    },
    {
      "cell_type": "markdown",
      "id": "0502961b",
      "metadata": {
        "id": "0502961b"
      },
      "source": [
        "## 親と子\n",
        "\n",
        "継承とは、既存のクラスを修正したバージョンとして新しいクラスを定義する能力です。\n",
        "例として、「手札」を表すクラスを作成したいとしましょう。これは、1人のプレイヤーが持っているカードです。\n",
        "\n",
        "* 手札はデッキに似ています。どちらもカードのコレクションで構成されており、カードの追加や削除といった操作が必要です。\n",
        "\n",
        "* 手札はデッキと異なります。手札に必要な操作がデッキには意味をなさない場合があります。例えば、ポーカーでは2つの手札を比較してどちらが勝つかを判断することがあります。ブリッジでは、入札を行うために手札のスコアを計算することがあります。\n",
        "\n",
        "このように、あるクラスが他のクラスの特化したバージョンであるという関係は、継承に適しています。\n",
        "\n",
        "既存のクラスを基にした新しいクラスを定義するには、既存のクラス名を括弧内に記述します。"
      ]
    },
    {
      "cell_type": "code",
      "execution_count": null,
      "id": "f39fc598",
      "metadata": {
        "id": "f39fc598"
      },
      "outputs": [],
      "source": [
        "class Hand(Deck):\n",
        "    \"\"\"Represents a hand of playing cards.\"\"\""
      ]
    },
    {
      "cell_type": "markdown",
      "id": "339295cd",
      "metadata": {
        "id": "339295cd"
      },
      "source": [
        "この定義は、`Hand` が `Deck` を継承していることを示しています。つまり、`Hand` オブジェクトは `Deck` に定義されている `take_card` や `put_card` といったメソッドにアクセスできます。\n",
        "\n",
        "また、`Hand` は `Deck` から `__init__` も継承しますが、もし `Hand` クラスで `__init__` を定義すると、それは `Deck` クラスのものをオーバーライドします。"
      ]
    },
    {
      "cell_type": "code",
      "execution_count": null,
      "id": "9e7a1045",
      "metadata": {
        "id": "9e7a1045"
      },
      "outputs": [],
      "source": [
        "%%add_method_to Hand\n",
        "\n",
        "    def __init__(self, label=''):\n",
        "        self.label = label\n",
        "        self.cards = []"
      ]
    },
    {
      "cell_type": "markdown",
      "id": "9b6a763a",
      "metadata": {
        "id": "9b6a763a"
      },
      "source": [
        "このバージョンの `__init__` は、オプションの文字列をパラメータとして受け取り、常に空のカードのリストから始まります。`Hand` を作成すると、Python はこのメソッドを呼び出し、`Deck` のメソッドを呼び出さないことになります。それを確認する方法としては、結果として得られるオブジェクトに `label` 属性があるかどうかをチェックすることが挙げられます。"
      ]
    },
    {
      "cell_type": "code",
      "execution_count": null,
      "id": "8de8cff4",
      "metadata": {
        "id": "8de8cff4"
      },
      "outputs": [],
      "source": [
        "hand = Hand('player 1')\n",
        "hand.label"
      ]
    },
    {
      "cell_type": "markdown",
      "id": "b1e2a67d",
      "metadata": {
        "id": "b1e2a67d"
      },
      "source": [
        "カードを配るために、`take_card` を使用して `Deck` からカードを取り除き、`put_card` を使用してそのカードを `Hand` に追加することができます。"
      ]
    },
    {
      "cell_type": "code",
      "execution_count": null,
      "id": "9f582ce0",
      "metadata": {
        "id": "9f582ce0"
      },
      "outputs": [],
      "source": [
        "deck = Deck(cards)\n",
        "card = deck.take_card()\n",
        "hand.put_card(card)\n",
        "print(hand)"
      ]
    },
    {
      "cell_type": "markdown",
      "id": "dc2ce06b",
      "metadata": {
        "id": "dc2ce06b"
      },
      "source": [
        "このコードを `move_cards` という `Deck` メソッドにカプセル化しましょう。"
      ]
    },
    {
      "cell_type": "code",
      "execution_count": null,
      "id": "180069eb",
      "metadata": {
        "id": "180069eb"
      },
      "outputs": [],
      "source": [
        "%%add_method_to Deck\n",
        "\n",
        "    def move_cards(self, other, num):\n",
        "        for i in range(num):\n",
        "            card = self.take_card()\n",
        "            other.put_card(card)"
      ]
    },
    {
      "cell_type": "markdown",
      "id": "16e6c404",
      "metadata": {
        "id": "16e6c404"
      },
      "source": [
        "このメソッドは多態的です。つまり、`self` と `other` は `Hand` または `Deck` のどちらかの型として機能することができます。そのため、このメソッドを使用して、`Deck` から `Hand` にカードを配る、ある `Hand` から別の `Hand` にカードを渡す、あるいは `Hand` から `Deck` にカードを戻すことができます。"
      ]
    },
    {
      "cell_type": "markdown",
      "id": "e648a722",
      "metadata": {
        "id": "e648a722"
      },
      "source": [
        "新しいクラスが既存のクラスを継承すると、既存のクラスは「親」と呼ばれ、新しいクラスは「子」と呼ばれます。一般的に：\n",
        "\n",
        "* 子クラスのインスタンスは、親クラスのすべての属性を持つべきですが、追加の属性を持つことができます。\n",
        "\n",
        "* 子クラスは、親クラスのすべてのメソッドを持つべきですが、追加のメソッドを持つことができます。\n",
        "\n",
        "* 子クラスが親クラスのメソッドをオーバーライドする場合、新しいメソッドは同じパラメータを取り、互換性のある結果を返すべきです。\n",
        "\n",
        "この一連のルールは、計算機科学者バーバラ・リスコフにちなんで「リスコフの置換原則」と呼ばれています。\n",
        "\n",
        "これらのルールに従えば、「Deck」のような親クラスのインスタンスで動作するように設計された任意の関数やメソッドは、「Hand」のような子クラスのインスタンスでも動作します。これらのルールに違反すると、コードはトランプの家のように崩れてしまいます（すみません）。"
      ]
    },
    {
      "cell_type": "markdown",
      "id": "e80873dd",
      "metadata": {
        "id": "e80873dd"
      },
      "source": [
        "ブリッジゲームの手札を表すクラス `BridgeHand` を作成しましょう。このクラスは、カードゲームの手札を表す `Hand` クラスを継承し、高いカードを評価する新しいメソッド `high_card_point_count` を追加します。このメソッドは、手札の高いカードに応じてポイントを加算することで評価を行います。\n",
        "\n",
        "以下にクラス定義があります。クラス変数としてカードの名前からポイント値へのマッピングを行う辞書も含めます。\n",
        "\n",
        "```python\n",
        "class Hand:\n",
        "    def __init__(self, cards):\n",
        "        self.cards = cards\n",
        "\n",
        "class BridgeHand(Hand):\n",
        "    HIGH_CARD_POINTS = {\n",
        "        'A': 4,  # Ace\n",
        "        'K': 3,  # King\n",
        "        'Q': 2,  # Queen\n",
        "        'J': 1   # Jack\n",
        "    }\n",
        "\n",
        "    def high_card_point_count(self):\n",
        "        count = 0\n",
        "        for card in self.cards:\n",
        "            rank = card[0]  # Assuming card is a string like 'AS' (Ace of Spades)\n",
        "            if rank in self.HIGH_CARD_POINTS:\n",
        "                count += self.HIGH_CARD_POINTS[rank]\n",
        "        return count\n",
        "```\n",
        "\n",
        "このコードでは、`BridgeHand` クラスにおける `high_card_point_count` メソッドが、カードのランクに基づいてポイントを計算します。`HIGH_CARD_POINTS` 辞書を用いて、エース、キング、クイーン、ジャックにそれぞれのポイントを割り当てます。"
      ]
    },
    {
      "cell_type": "code",
      "execution_count": null,
      "id": "b9e949cf",
      "metadata": {
        "id": "b9e949cf"
      },
      "outputs": [],
      "source": [
        "class BridgeHand(Hand):\n",
        "    \"\"\"Represents a bridge hand.\"\"\"\n",
        "\n",
        "    hcp_dict = {\n",
        "        'Ace': 4,\n",
        "        'King': 3,\n",
        "        'Queen': 2,\n",
        "        'Jack': 1,\n",
        "    }"
      ]
    },
    {
      "cell_type": "markdown",
      "id": "4c038717",
      "metadata": {
        "id": "4c038717"
      },
      "source": [
        "カードのランク（例えば `12`）が与えられた場合、`Card.rank_names`を使用してそのランクの文字列表現を取得し、次に`hcp_dict`を使用してそのスコアを得ることができます。"
      ]
    },
    {
      "cell_type": "code",
      "execution_count": null,
      "id": "0586b764",
      "metadata": {
        "id": "0586b764"
      },
      "outputs": [],
      "source": [
        "rank = 12\n",
        "rank_name = Card.rank_names[rank]\n",
        "score = BridgeHand.hcp_dict.get(rank_name, 0)\n",
        "rank_name, score"
      ]
    },
    {
      "cell_type": "markdown",
      "id": "c3a7820d",
      "metadata": {
        "id": "c3a7820d"
      },
      "source": [
        "次のメソッドは、`BridgeHand` 内のカードをループして、それらのスコアを合計します。"
      ]
    },
    {
      "cell_type": "code",
      "execution_count": null,
      "id": "f01e8027",
      "metadata": {
        "id": "f01e8027"
      },
      "outputs": [],
      "source": [
        "%%add_method_to BridgeHand\n",
        "\n",
        "    def high_card_point_count(self):\n",
        "        count = 0\n",
        "        for card in self.cards:\n",
        "            rank_name = Card.rank_names[card.rank]\n",
        "            count += BridgeHand.hcp_dict.get(rank_name, 0)\n",
        "        return count"
      ]
    },
    {
      "cell_type": "code",
      "execution_count": null,
      "id": "227bef61",
      "metadata": {
        "tags": [],
        "id": "227bef61"
      },
      "outputs": [],
      "source": [
        "# This cell makes a fresh Deck and\n",
        "# initializes the random number generator\n",
        "\n",
        "cards = Deck.make_cards()\n",
        "deck = Deck(cards)\n",
        "random.seed(3)"
      ]
    },
    {
      "cell_type": "markdown",
      "id": "94535d8e",
      "metadata": {
        "id": "94535d8e"
      },
      "source": [
        "テストのために、5枚のカードでハンドを配ります。通常、ブリッジのハンドは13枚ですが、小さい例でコードをテストする方が簡単です。"
      ]
    },
    {
      "cell_type": "code",
      "execution_count": null,
      "id": "f7d9275a",
      "metadata": {
        "id": "f7d9275a"
      },
      "outputs": [],
      "source": [
        "hand = BridgeHand('player 2')\n",
        "\n",
        "deck.shuffle()\n",
        "deck.move_cards(hand, 5)\n",
        "print(hand)"
      ]
    },
    {
      "cell_type": "markdown",
      "id": "a1bd2521",
      "metadata": {
        "id": "a1bd2521"
      },
      "source": [
        "こちらが国王と王妃の合計得点です。"
      ]
    },
    {
      "cell_type": "code",
      "execution_count": null,
      "id": "ceb63a74",
      "metadata": {
        "id": "ceb63a74"
      },
      "outputs": [],
      "source": [
        "hand.high_card_point_count()"
      ]
    },
    {
      "cell_type": "markdown",
      "id": "b4f5e107",
      "metadata": {
        "id": "b4f5e107"
      },
      "source": [
        "`BridgeHand`は、`Hand`の変数やメソッドを継承し、ブリッジに特化したクラス変数とメソッドを追加します。\n",
        "継承を利用したこの方法は、特定の用途（例えばブリッジをプレイすること）に特化した新しいクラスを定義するため、**特殊化**と呼ばれます。"
      ]
    },
    {
      "cell_type": "markdown",
      "id": "b493622d",
      "metadata": {
        "id": "b493622d"
      },
      "source": [
        "## デバッグ\n",
        "\n",
        "継承は便利な機能です。継承がなければ繰り返しが多くなるプログラムも、継承を使うことで簡潔に書くことができます。また、継承を利用することで親クラスを修正することなく、その動作をカスタマイズできるため、コードの再利用が可能になります。場合によっては、継承の構造が問題の自然な構造を反映し、設計が理解しやすくなることもあります。\n",
        "\n",
        "一方で、継承はプログラムの可読性を下げることがあります。メソッドが呼び出されたときに、その定義がどこにあるのか分かりにくい場合があり、関連するコードが複数のモジュールに分散していることがあります。\n",
        "\n",
        "プログラムの実行フローに確信が持てない場合、最も簡単な解決策は関連するメソッドの冒頭にprint文を追加することです。例えば、`Deck.shuffle`が`Running Deck.shuffle`のようなメッセージを出力するようにすれば、プログラムの実行中にそのフローを追跡することができます。\n",
        "\n",
        "別の方法として、以下の関数を使用することができます。この関数はオブジェクトとメソッド名（文字列として）を受け取り、そのメソッドを定義しているクラスを返します。"
      ]
    },
    {
      "cell_type": "code",
      "execution_count": null,
      "id": "20633d57",
      "metadata": {
        "id": "20633d57"
      },
      "outputs": [],
      "source": [
        "def find_defining_class(obj, method_name):\n",
        "    \"\"\"Find the class where the given method is defined.\"\"\"\n",
        "    for typ in type(obj).mro():\n",
        "        if method_name in vars(typ):\n",
        "            return typ\n",
        "    return f'Method {method_name} not found.'"
      ]
    },
    {
      "cell_type": "markdown",
      "id": "1ee8f2da",
      "metadata": {
        "id": "1ee8f2da"
      },
      "source": [
        "`find_defining_class`は、メソッドを探すクラスオブジェクト（型）のリストを取得するために`mro`メソッドを使用します。「MRO」は「メソッド解決順序」を意味し、Pythonがメソッド名を「解決」するために検索するクラスのシーケンスです。これは、メソッド名が参照する関数オブジェクトを見つけるためのものです。\n",
        "\n",
        "例として、`BridgeHand`をインスタンス化し、その後`shuffle`メソッドの定義クラスを見つけましょう。"
      ]
    },
    {
      "cell_type": "code",
      "execution_count": null,
      "id": "c5bec04f",
      "metadata": {
        "id": "c5bec04f"
      },
      "outputs": [],
      "source": [
        "hand = BridgeHand('player 3')\n",
        "find_defining_class(hand, 'shuffle')"
      ]
    },
    {
      "cell_type": "markdown",
      "id": "eeb70a14",
      "metadata": {
        "id": "eeb70a14"
      },
      "source": [
        "`BridgeHand`オブジェクトの`shuffle`メソッドは`Deck`のものです。"
      ]
    },
    {
      "cell_type": "markdown",
      "id": "07f4c4bb",
      "metadata": {
        "id": "07f4c4bb"
      },
      "source": [
        "## 用語集\n",
        "\n",
        "**継承 (いしょう):**\n",
        " 以前に定義されたクラスを修正したバージョンとして、新しいクラスを定義する能力。\n",
        "\n",
        "**エンコード (えんこーど):**\n",
        " 一組の値を、他の一組の値を使用して表現するために、それらの間にマッピングを構築すること。\n",
        "\n",
        "**クラス変数 (くらすへんすう):**\n",
        " クラス定義内で定義されているが、いずれのメソッド内にもない変数。\n",
        "\n",
        "**全順序 (ぜんじゅんじょ):**\n",
        " オブジェクトの集合が全順序であるとは、任意の二要素を比較し、その結果が一貫している場合を指す。\n",
        "\n",
        "**委譲 (いじょう):**\n",
        " あるメソッドが、責任を別のメソッドに渡し、ほとんどまたはすべての作業をそのメソッドに任せること。\n",
        "\n",
        "**親クラス (おやくらす):**\n",
        " 継承されるクラス。\n",
        "\n",
        "**子クラス (こくらす):**\n",
        " 他のクラスから継承するクラス。\n",
        "\n",
        "**特化 (とっか):**\n",
        " 継承を利用して、既存のクラスの特化バージョンとして新しいクラスを作成する方法。"
      ]
    },
    {
      "cell_type": "markdown",
      "id": "1aea9b2b",
      "metadata": {
        "id": "1aea9b2b"
      },
      "source": [
        "## 練習問題"
      ]
    },
    {
      "cell_type": "code",
      "execution_count": null,
      "id": "e281457a",
      "metadata": {
        "tags": [],
        "id": "e281457a"
      },
      "outputs": [],
      "source": [
        "# This cell tells Jupyter to provide detailed debugging information\n",
        "# when a runtime error occurs. Run it before working on the exercises.\n",
        "\n",
        "%xmode Verbose"
      ]
    },
    {
      "cell_type": "markdown",
      "id": "7913e6b1",
      "metadata": {
        "id": "7913e6b1"
      },
      "source": [
        "### 仮想アシスタントに質問\n",
        "\n",
        "オブジェクト指向プログラミング（OOP）がうまくいくと、プログラムがより読みやすく、テストしやすく、再利用しやすくなります。しかし、プログラムが複雑で維持しにくくなる可能性もあります。その結果、OOPは議論の的となっており、愛する人もいれば、そうでない人もいます。\n",
        "\n",
        "このトピックについてもっと知るために、仮想アシスタントに以下を尋ねましょう。\n",
        "\n",
        "* オブジェクト指向プログラミングの長所と短所は何ですか？\n",
        "\n",
        "* 「継承よりもコンポジションを優先する」とはどういう意味ですか？\n",
        "\n",
        "* リスコフの置換原則とは何ですか？\n",
        "\n",
        "* Pythonはオブジェクト指向言語ですか？\n",
        "\n",
        "* 集合が全順序であるための条件は何ですか？\n",
        "\n",
        "また、これらのエクササイズを行う際には、仮想アシスタントを活用することを検討してください。"
      ]
    },
    {
      "cell_type": "markdown",
      "id": "1af81269",
      "metadata": {
        "id": "1af81269"
      },
      "source": [
        "### 演習\n",
        "\n",
        "コントラクトブリッジにおいて、「トリック」とは、4人のプレイヤーがそれぞれ1枚のカードをプレイするラウンドのことを指します。\n",
        "これらのカードを表現するために、`Deck`クラスを継承したクラスを定義します。"
      ]
    },
    {
      "cell_type": "code",
      "execution_count": null,
      "id": "47d9ce31",
      "metadata": {
        "id": "47d9ce31"
      },
      "outputs": [],
      "source": [
        "class Trick(Deck):\n",
        "    \"\"\"Represents a trick in contract bridge.\"\"\""
      ]
    },
    {
      "cell_type": "markdown",
      "id": "9916d562",
      "metadata": {
        "id": "9916d562"
      },
      "source": [
        "例えばこのトリックを考えてみましょう。最初のプレイヤーがダイヤの3を出すと、ダイヤが「リードスート」となります。2番目と3番目のプレイヤーは「フォロースート」し、リードスートのカードを出します。4番目のプレイヤーは別のスートのカードを出すため、このトリックには勝てません。したがって、このトリックの勝者は3番目のプレイヤーで、リードスートの中で最も高いカードを出したからです。"
      ]
    },
    {
      "cell_type": "code",
      "execution_count": null,
      "id": "7bb54059",
      "metadata": {
        "id": "7bb54059"
      },
      "outputs": [],
      "source": [
        "cards = [Card(1, 3),\n",
        "         Card(1, 10),\n",
        "         Card(1, 12),\n",
        "         Card(2, 13)]\n",
        "trick = Trick(cards)\n",
        "print(trick)"
      ]
    },
    {
      "cell_type": "markdown",
      "id": "c94a1337",
      "metadata": {
        "id": "c94a1337"
      },
      "source": [
        "トランプゲームにおける`Trick`クラスにおいて、トリック内のカードを走査し、勝利するカードのインデックスを返す`find_winner`メソッドを実装する方法を説明します。以下のコードスニペットでは、その方法を示します。\n",
        "\n",
        "```python\n",
        "class Trick:\n",
        "    def __init__(self, cards):\n",
        "        # カードはリストとして与えられると仮定します\n",
        "        self.cards = cards\n",
        "\n",
        "    def find_winner(self):\n",
        "        # ここでは、勝利するカードのインデックスを見つける方法を示します\n",
        "        winning_card_index = 0\n",
        "        winning_card = self.cards[0]\n",
        "        \n",
        "        for i in range(1, len(self.cards)):\n",
        "            current_card = self.cards[i]\n",
        "            \n",
        "            # 比較ロジック: ここで具体的な比較ルールを実装します\n",
        "            # 例として、単純に値が大きいカードを勝ちとする場合\n",
        "            if current_card > winning_card:\n",
        "                winning_card = current_card\n",
        "                winning_card_index = i\n",
        "\n",
        "        return winning_card_index\n",
        "\n",
        "# 使用例\n",
        "cards = [3, 6, 10, 7]  # 例としてのカードリスト\n",
        "trick = Trick(cards)\n",
        "winner_index = trick.find_winner()\n",
        "print(f\"The index of the winning card is: {winner_index}\")  # 期待される出力は2\n",
        "```\n",
        "\n",
        "このコードは、カードリストの中で最も高い値を持つカードのインデックスを`find_winner`メソッドで返します。この例では、単純な整数としてカードを比較していますが、実際のトランプゲームでは、カードのスートや特別なルールに基づいて比較を行う必要があるかもしれません。その場合は、比較ロジック部分を適切に調整してください。"
      ]
    },
    {
      "cell_type": "markdown",
      "id": "60c43389",
      "metadata": {
        "tags": [],
        "id": "60c43389"
      },
      "source": [
        "以下のアウトラインを使用して始めてください。"
      ]
    },
    {
      "cell_type": "code",
      "execution_count": null,
      "id": "72a410d7",
      "metadata": {
        "tags": [],
        "id": "72a410d7"
      },
      "outputs": [],
      "source": [
        "%%add_method_to Trick\n",
        "\n",
        "    def find_winner(self):\n",
        "        return 0"
      ]
    },
    {
      "cell_type": "code",
      "execution_count": null,
      "id": "b09cceb1",
      "metadata": {
        "tags": [],
        "id": "b09cceb1"
      },
      "outputs": [],
      "source": [
        "# Solution goes here"
      ]
    },
    {
      "cell_type": "markdown",
      "id": "d7e3b94c",
      "metadata": {
        "tags": [],
        "id": "d7e3b94c"
      },
      "source": [
        "以前の例でメソッドをテストする場合、勝利カードのインデックスは「2」であるべきです。"
      ]
    },
    {
      "cell_type": "code",
      "execution_count": null,
      "id": "e185c2f7",
      "metadata": {
        "tags": [],
        "id": "e185c2f7"
      },
      "outputs": [],
      "source": [
        "trick.find_winner()"
      ]
    },
    {
      "cell_type": "markdown",
      "id": "b5b9fb4b",
      "metadata": {
        "id": "b5b9fb4b"
      },
      "source": [
        "### 演習\n",
        "\n",
        "次のいくつかの演習では、ポーカーの手札を分類する関数を書くことが求められています。\n",
        "ポーカーに詳しくない場合、必要な情報を説明します。\n",
        "以下のクラスを使用してポーカーの手札を表現します。"
      ]
    },
    {
      "cell_type": "code",
      "execution_count": null,
      "id": "2558ddd1",
      "metadata": {
        "id": "2558ddd1"
      },
      "outputs": [],
      "source": [
        "class PokerHand(Hand):\n",
        "    \"\"\"Represents a poker hand.\"\"\"\n",
        "\n",
        "    def get_suit_counts(self):\n",
        "        counter = {}\n",
        "        for card in self.cards:\n",
        "            key = card.suit\n",
        "            counter[key] = counter.get(key, 0) + 1\n",
        "        return counter\n",
        "\n",
        "    def get_rank_counts(self):\n",
        "        counter = {}\n",
        "        for card in self.cards:\n",
        "            key = card.rank\n",
        "            counter[key] = counter.get(key, 0) + 1\n",
        "        return counter"
      ]
    },
    {
      "cell_type": "markdown",
      "id": "2daecced",
      "metadata": {
        "id": "2daecced"
      },
      "source": [
        "`PokerHand` は、いくつかの演習を助けるための2つのメソッドを提供しています。\n",
        "\n",
        "* `get_suit_counts` は `PokerHand` の中のカードをループで回り、各スーツのカードの数を数え、それをスーツコードから出現回数へのマッピングを持つ辞書として返します。\n",
        "\n",
        "* `get_rank_counts` はカードのランクについて同様の操作を行い、ランクコードから出現回数へのマッピングを持つ辞書として返します。\n",
        "\n",
        "以下の演習はすべて、これまでに学んだPythonの機能のみで実行できますが、そのうちのいくつかはこれまでの演習より難しいです。\n",
        "仮想アシスタントに助けを求めることをお勧めします。\n",
        "\n",
        "このような問題では、戦略やアルゴリズムについて一般的なアドバイスを求めると良い結果が得られることが多いです。\n",
        "その後、自分でコードを書くか、コードを求めることができます。\n",
        "もしコードを依頼する場合は、関連するクラス定義をプロンプトの一部として提供することを検討してください。"
      ]
    },
    {
      "cell_type": "markdown",
      "id": "ccc2d8ca",
      "metadata": {
        "id": "ccc2d8ca"
      },
      "source": [
        "最初の練習として、手札に「フラッシュ」があるかどうかを確認するメソッド`has_flush`を作成します。ここでいう「フラッシュ」とは、同じスートのカードが少なくとも5枚含まれていることを意味します。\n",
        "\n",
        "ほとんどのポーカーの種類では、手札には5枚または7枚のカードが含まれますが、手札に他の枚数のカードが含まれるエキゾチックなバリエーションも存在します。しかし、手札に含まれるカードが何枚であっても、最良のハンドを作る5枚のカードのみがカウントされます。"
      ]
    },
    {
      "cell_type": "markdown",
      "id": "6911a0f6",
      "metadata": {
        "tags": [],
        "id": "6911a0f6"
      },
      "source": [
        "以下のアウトラインを使って始めることができます。"
      ]
    },
    {
      "cell_type": "code",
      "execution_count": null,
      "id": "7aa25f29",
      "metadata": {
        "tags": [],
        "id": "7aa25f29"
      },
      "outputs": [],
      "source": [
        "%%add_method_to PokerHand\n",
        "\n",
        "    def has_flush(self):\n",
        "        \"\"\"Checks whether this hand has a flush.\"\"\"\n",
        "        return False"
      ]
    },
    {
      "cell_type": "code",
      "execution_count": null,
      "id": "72c769d5",
      "metadata": {
        "tags": [],
        "id": "72c769d5"
      },
      "outputs": [],
      "source": [
        "# Solution goes here"
      ]
    },
    {
      "cell_type": "markdown",
      "id": "07878cb3",
      "metadata": {
        "tags": [],
        "id": "07878cb3"
      },
      "source": [
        "この方法をテストするために、すべてがクラブの5枚のカードを持つ手札を構築し、フラッシュを含むようにします。"
      ]
    },
    {
      "cell_type": "code",
      "execution_count": null,
      "id": "e1c4f474",
      "metadata": {
        "tags": [],
        "id": "e1c4f474"
      },
      "outputs": [],
      "source": [
        "good_hand = PokerHand('good_hand')\n",
        "\n",
        "suit = 0\n",
        "for rank in range(10, 15):\n",
        "    card = Card(suit, rank)\n",
        "    good_hand.put_card(card)\n",
        "\n",
        "print(good_hand)"
      ]
    },
    {
      "cell_type": "markdown",
      "id": "83698207",
      "metadata": {
        "tags": [],
        "id": "83698207"
      },
      "source": [
        "`get_suit_counts`を呼び出すと、ランクコード`0`が`5`回出現することを確認できます。"
      ]
    },
    {
      "cell_type": "code",
      "execution_count": null,
      "id": "c91e3bdb",
      "metadata": {
        "tags": [],
        "id": "c91e3bdb"
      },
      "outputs": [],
      "source": [
        "good_hand.get_suit_counts()"
      ]
    },
    {
      "cell_type": "markdown",
      "id": "fdec7276",
      "metadata": {
        "tags": [],
        "id": "fdec7276"
      },
      "source": [
        "したがって、`has_flush` は `True` を返すべきです。"
      ]
    },
    {
      "cell_type": "code",
      "execution_count": null,
      "id": "a60e233d",
      "metadata": {
        "tags": [],
        "id": "a60e233d"
      },
      "outputs": [],
      "source": [
        "good_hand.has_flush()"
      ]
    },
    {
      "cell_type": "markdown",
      "id": "ba10e1ba",
      "metadata": {
        "tags": [],
        "id": "ba10e1ba"
      },
      "source": [
        "2回目のテストとして、3枚のクラブと他の2種類のスーツで手札を構成します。"
      ]
    },
    {
      "cell_type": "code",
      "execution_count": null,
      "id": "ae5063e2",
      "metadata": {
        "tags": [],
        "id": "ae5063e2"
      },
      "outputs": [],
      "source": [
        "cards = [Card(0, 2),\n",
        "         Card(0, 3),\n",
        "         Card(2, 4),\n",
        "         Card(3, 5),\n",
        "         Card(0, 7),\n",
        "        ]\n",
        "\n",
        "bad_hand = PokerHand('bad hand')\n",
        "for card in cards:\n",
        "    bad_hand.put_card(card)\n",
        "\n",
        "print(bad_hand)"
      ]
    },
    {
      "cell_type": "markdown",
      "id": "8611610f",
      "metadata": {
        "tags": [],
        "id": "8611610f"
      },
      "source": [
        "したがって、`has_flush`は`False`を返すべきです。"
      ]
    },
    {
      "cell_type": "code",
      "execution_count": null,
      "id": "940928ba",
      "metadata": {
        "tags": [],
        "id": "940928ba"
      },
      "outputs": [],
      "source": [
        "bad_hand.has_flush()"
      ]
    },
    {
      "cell_type": "markdown",
      "id": "ad716880",
      "metadata": {
        "id": "ad716880"
      },
      "source": [
        "### エクササイズ\n",
        "\n",
        "ハンドにストレート（連続するランクを持つ5枚のカードのセット）が含まれているかどうかを確認する`has_straight`メソッドを書いてください。\n",
        "例えば、ハンドにランク`5`、`6`、`7`、`8`、`9`が含まれている場合、それはストレートを含んでいます。\n",
        "\n",
        "エースは2の前、またはキングの後に来ることができるため、`Ace`、`2`、`3`、`4`、`5`はストレートであり、`10`、`Jack`、`Queen`、`King`、`Ace`もストレートです。\n",
        "しかし、ストレートは「ラップアラウンド」することはできないため、`King`、`Ace`、`2`、`3`、`4`はストレートではありません。"
      ]
    },
    {
      "cell_type": "markdown",
      "id": "bbd04e50",
      "metadata": {
        "tags": [],
        "id": "bbd04e50"
      },
      "source": [
        "以下のアウトラインを使用して開始できます。これには、エースの数を数えるいくつかのコード行が含まれており、エースはコード `1` または `14` で表され、カウンターの両方の位置に合計が格納されます。"
      ]
    },
    {
      "cell_type": "code",
      "execution_count": null,
      "id": "6513ef14",
      "metadata": {
        "tags": [],
        "id": "6513ef14"
      },
      "outputs": [],
      "source": [
        "%%add_method_to PokerHand\n",
        "\n",
        "    def has_straight(self, n=5):\n",
        "        \"\"\"Checks whether this hand has a straight with at least `n` cards.\"\"\"\n",
        "        counter = self.get_rank_counts()\n",
        "        aces = counter.get(1, 0) + counter.get(14, 0)\n",
        "        counter[1] = aces\n",
        "        counter[14] = aces\n",
        "\n",
        "        return False"
      ]
    },
    {
      "cell_type": "code",
      "execution_count": null,
      "id": "8a220d67",
      "metadata": {
        "tags": [],
        "id": "8a220d67"
      },
      "outputs": [],
      "source": [
        "# Solution goes here"
      ]
    },
    {
      "cell_type": "markdown",
      "id": "d2e576bf",
      "metadata": {
        "tags": [],
        "id": "d2e576bf"
      },
      "source": [
        "前回の演習で作成した「good_hand」にはストレートが含まれています。「get_rank_counts」を使用すると、5つの連続したランクの各ランクに少なくとも1枚のカードがあることを確認できます。"
      ]
    },
    {
      "cell_type": "code",
      "execution_count": null,
      "id": "5a422cae",
      "metadata": {
        "tags": [],
        "id": "5a422cae"
      },
      "outputs": [],
      "source": [
        "good_hand.get_rank_counts()"
      ]
    },
    {
      "cell_type": "markdown",
      "id": "009a20dd",
      "metadata": {
        "tags": [],
        "id": "009a20dd"
      },
      "source": [
        "したがって、`has_straight`は`True`を返すべきです。"
      ]
    },
    {
      "cell_type": "code",
      "execution_count": null,
      "id": "24483b99",
      "metadata": {
        "tags": [],
        "id": "24483b99"
      },
      "outputs": [],
      "source": [
        "good_hand.has_straight()"
      ]
    },
    {
      "cell_type": "markdown",
      "id": "1d79b2b6",
      "metadata": {
        "tags": [],
        "id": "1d79b2b6"
      },
      "source": [
        "`bad_hand`にはストレートが含まれていないため、`has_straight`は`False`を返すべきです。"
      ]
    },
    {
      "cell_type": "code",
      "execution_count": null,
      "id": "69f7cea9",
      "metadata": {
        "tags": [],
        "id": "69f7cea9"
      },
      "outputs": [],
      "source": [
        "bad_hand.has_straight()"
      ]
    },
    {
      "cell_type": "markdown",
      "id": "c1ecebd3",
      "metadata": {
        "id": "c1ecebd3"
      },
      "source": [
        "ポーカーの手札にストレートフラッシュが含まれているかどうかを確認するための方法を設計します。ストレートフラッシュは、5枚の同じスーツかつ連続したランクのカードで構成されます。以下に、Pythonで`PokerHand`クラスのメソッドを実装する方法を示します。\n",
        "\n",
        "```python\n",
        "class Card:\n",
        "    def __init__(self, rank, suit):\n",
        "        self.rank = rank\n",
        "        self.suit = suit\n",
        "\n",
        "class PokerHand:\n",
        "    def __init__(self, cards):\n",
        "        self.cards = cards\n",
        "\n",
        "    def has_straight_flush(self):\n",
        "        # カードをスーツごとに分類\n",
        "        suits = {}\n",
        "        for card in self.cards:\n",
        "            if card.suit not in suits:\n",
        "                suits[card.suit] = []\n",
        "            suits[card.suit].append(card.rank)\n",
        "\n",
        "        # 各スーツに対して、ストレートが存在するか確認\n",
        "        for suit, ranks in suits.items():\n",
        "            # ランクを昇順にソート（エースを考慮して13以下の範囲に対応）\n",
        "            ranks = list(set(ranks))  # 重複があれば削除\n",
        "            ranks.sort()\n",
        "            \n",
        "            # ストレートチェック（エースは14として扱う可能性があるため、追加）\n",
        "            rank_values = {'2': 2, '3': 3, '4': 4, '5': 5, '6': 6, '7': 7, '8': 8, '9': 9, '10': 10, 'J': 11, 'Q': 12, 'K': 13, 'A': 14}\n",
        "            rank_indices = [rank_values[rank] for rank in ranks]\n",
        "            \n",
        "            # ストレートの5連続を確認\n",
        "            for i in range(len(rank_indices) - 4):\n",
        "                if rank_indices[i + 4] == rank_indices[i] + 4:\n",
        "                    return True\n",
        "\n",
        "        return False\n",
        "```\n",
        "\n",
        "この実装では、まず手札のカードをスーツごとに分類し、各スーツについてストレートが存在するかチェックします。これを行うことで、ストレートフラッシュの存在を確認します。"
      ]
    },
    {
      "cell_type": "markdown",
      "id": "94570008",
      "metadata": {
        "tags": [],
        "id": "94570008"
      },
      "source": [
        "以下のアウトラインを使って始めてください。"
      ]
    },
    {
      "cell_type": "code",
      "execution_count": null,
      "id": "88bd35fb",
      "metadata": {
        "tags": [],
        "id": "88bd35fb"
      },
      "outputs": [],
      "source": [
        "%%add_method_to PokerHand\n",
        "\n",
        "    def has_straightflush(self):\n",
        "        \"\"\"Check whether this hand has a straight flush.\"\"\"\n",
        "        return False"
      ]
    },
    {
      "cell_type": "code",
      "execution_count": null,
      "id": "5e602773",
      "metadata": {
        "tags": [],
        "id": "5e602773"
      },
      "outputs": [],
      "source": [
        "# Solution goes here"
      ]
    },
    {
      "cell_type": "code",
      "execution_count": null,
      "id": "997b120d",
      "metadata": {
        "tags": [],
        "id": "997b120d"
      },
      "outputs": [],
      "source": [
        "# Solution goes here"
      ]
    },
    {
      "cell_type": "markdown",
      "id": "4a1e17b1",
      "metadata": {
        "tags": [],
        "id": "4a1e17b1"
      },
      "source": [
        "メソッドをテストするための以下の例を使用してください。"
      ]
    },
    {
      "cell_type": "code",
      "execution_count": null,
      "id": "23704ab4",
      "metadata": {
        "tags": [],
        "id": "23704ab4"
      },
      "outputs": [],
      "source": [
        "good_hand.has_straightflush()     # should return True"
      ]
    },
    {
      "cell_type": "code",
      "execution_count": null,
      "id": "7d8d2fdb",
      "metadata": {
        "tags": [],
        "id": "7d8d2fdb"
      },
      "outputs": [],
      "source": [
        "bad_hand.has_straightflush()     # should return False"
      ]
    },
    {
      "cell_type": "markdown",
      "id": "9127ceb1",
      "metadata": {
        "tags": [],
        "id": "9127ceb1"
      },
      "source": [
        "ストレートとフラッシュがあるかどうかを確認するだけでは不十分であることに注意してください。その理由を考えるために、次の手札を考えてみましょう。"
      ]
    },
    {
      "cell_type": "code",
      "execution_count": null,
      "id": "4c5727d9",
      "metadata": {
        "tags": [],
        "id": "4c5727d9"
      },
      "outputs": [],
      "source": [
        "from copy import deepcopy\n",
        "\n",
        "straight_and_flush = deepcopy(bad_hand)\n",
        "straight_and_flush.put_card(Card(0, 6))\n",
        "straight_and_flush.put_card(Card(0, 9))\n",
        "print(straight_and_flush)"
      ]
    },
    {
      "cell_type": "markdown",
      "id": "c4ed18e4",
      "metadata": {
        "tags": [],
        "id": "c4ed18e4"
      },
      "source": [
        "この手にはストレートとフラッシュが含まれていますが、それらは同じ5枚のカードではありません。"
      ]
    },
    {
      "cell_type": "code",
      "execution_count": null,
      "id": "7e65e951",
      "metadata": {
        "tags": [],
        "id": "7e65e951"
      },
      "outputs": [],
      "source": [
        " straight_and_flush.has_straight(), straight_and_flush.has_flush()"
      ]
    },
    {
      "cell_type": "markdown",
      "id": "5ff4e160",
      "metadata": {
        "tags": [],
        "id": "5ff4e160"
      },
      "source": [
        "したがって、ストレートフラッシュは含まれていません。"
      ]
    },
    {
      "cell_type": "code",
      "execution_count": null,
      "id": "758fc922",
      "metadata": {
        "tags": [],
        "id": "758fc922"
      },
      "outputs": [],
      "source": [
        "straight_and_flush.has_straightflush()    # should return False"
      ]
    },
    {
      "cell_type": "markdown",
      "id": "dd742401",
      "metadata": {
        "id": "dd742401"
      },
      "source": [
        "```python\n",
        "class PokerHand:\n",
        "    def __init__(self, cards):\n",
        "        self.cards = cards\n",
        "\n",
        "    def has_pair(self):\n",
        "        rank_count = {}\n",
        "        for card in self.cards:\n",
        "            rank = card[:-1]  # トランプランクを取得（例: '9' in '9H'）\n",
        "            if rank in rank_count:\n",
        "                rank_count[rank] += 1\n",
        "            else:\n",
        "                rank_count[rank] = 1\n",
        "        \n",
        "        for count in rank_count.values():\n",
        "            if count >= 2:\n",
        "                return True\n",
        "        return False\n",
        "\n",
        "# 使用例\n",
        "hand = PokerHand(['9H', '9D', '5S', '3C', '2H'])\n",
        "print(hand.has_pair())  # Trueを出力\n",
        "```\n",
        "\n",
        "このコードは、`PokerHand` クラスに `has_pair` メソッドを追加し、ポーカーハンドにペアが存在するかどうかをチェックします。カードのランクごとにカウントを行い、2枚以上のカードが同じランクであればペアがあると判断します。"
      ]
    },
    {
      "cell_type": "markdown",
      "id": "00464353",
      "metadata": {
        "tags": [],
        "id": "00464353"
      },
      "source": [
        "次のアウトラインを使用して開始できます。"
      ]
    },
    {
      "cell_type": "code",
      "execution_count": null,
      "id": "15a81a40",
      "metadata": {
        "tags": [],
        "id": "15a81a40"
      },
      "outputs": [],
      "source": [
        "%%add_method_to PokerHand\n",
        "\n",
        "    def check_sets(self, *need_list):\n",
        "        return True"
      ]
    },
    {
      "cell_type": "code",
      "execution_count": null,
      "id": "bc7ca211",
      "metadata": {
        "tags": [],
        "id": "bc7ca211"
      },
      "outputs": [],
      "source": [
        "# Solution goes here"
      ]
    },
    {
      "cell_type": "code",
      "execution_count": null,
      "id": "20b65d89",
      "metadata": {
        "tags": [],
        "id": "20b65d89"
      },
      "outputs": [],
      "source": [
        "# Solution goes here"
      ]
    },
    {
      "cell_type": "markdown",
      "id": "9f001207",
      "metadata": {
        "id": "9f001207"
      },
      "source": [
        "テストするために、ペアがある手札を紹介します。"
      ]
    },
    {
      "cell_type": "code",
      "execution_count": null,
      "id": "57e616be",
      "metadata": {
        "id": "57e616be"
      },
      "outputs": [],
      "source": [
        "pair = deepcopy(bad_hand)\n",
        "pair.put_card(Card(1, 2))\n",
        "print(pair)"
      ]
    },
    {
      "cell_type": "code",
      "execution_count": null,
      "id": "b8d87fd8",
      "metadata": {
        "id": "b8d87fd8"
      },
      "outputs": [],
      "source": [
        "pair.has_pair()    # should return True"
      ]
    },
    {
      "cell_type": "code",
      "execution_count": null,
      "id": "3016e99a",
      "metadata": {
        "id": "3016e99a"
      },
      "outputs": [],
      "source": [
        "bad_hand.has_pair()    # should return False"
      ]
    },
    {
      "cell_type": "code",
      "execution_count": null,
      "id": "852e3b11",
      "metadata": {
        "id": "852e3b11"
      },
      "outputs": [],
      "source": [
        "good_hand.has_pair()   # should return False"
      ]
    },
    {
      "cell_type": "markdown",
      "id": "c4180a64",
      "metadata": {
        "id": "c4180a64"
      },
      "source": [
        "ポーカーハンドのフルハウスを判定するメソッドを実装するためには、手札のカードをランクごとに分類し、その出現回数を確認する必要があります。以下にそのメソッドのサンプル実装を示します：\n",
        "\n",
        "```python\n",
        "class PokerHand:\n",
        "    def __init__(self, cards):\n",
        "        self.cards = cards\n",
        "\n",
        "    def has_full_house(self):\n",
        "        rank_counts = {}\n",
        "\n",
        "        # ランクごとのカウントを取得\n",
        "        for card in self.cards:\n",
        "            rank = card['rank']\n",
        "            if rank in rank_counts:\n",
        "                rank_counts[rank] += 1\n",
        "            else:\n",
        "                rank_counts[rank] = 1\n",
        "\n",
        "        # 出現回数をリストに変換\n",
        "        counts = list(rank_counts.values())\n",
        "\n",
        "        # フルハウスは3枚が1つと2枚が1つ\n",
        "        return (3 in counts) and (2 in counts)\n",
        "```\n",
        "\n",
        "このメソッドでは、`cards`はカードのリストであり、それぞれのカードはランク情報を含む辞書型オブジェクトと仮定しています。`has_full_house`メソッドは手札がフルハウスかどうかを確認し、フルハウスであれば`True`を、そうでなければ`False`を返します。"
      ]
    },
    {
      "cell_type": "markdown",
      "id": "5aa80ee6",
      "metadata": {
        "tags": [],
        "id": "5aa80ee6"
      },
      "source": [
        "次のアウトラインを使用して始めることができます。"
      ]
    },
    {
      "cell_type": "code",
      "execution_count": null,
      "id": "1f95601d",
      "metadata": {
        "tags": [],
        "id": "1f95601d"
      },
      "outputs": [],
      "source": [
        "%%add_method_to PokerHand\n",
        "\n",
        "    def has_full_house(self):\n",
        "        return False"
      ]
    },
    {
      "cell_type": "code",
      "execution_count": null,
      "id": "420ca0fd",
      "metadata": {
        "tags": [],
        "id": "420ca0fd"
      },
      "outputs": [],
      "source": [
        "# Solution goes here"
      ]
    },
    {
      "cell_type": "markdown",
      "id": "f020cf9e",
      "metadata": {
        "tags": [],
        "id": "f020cf9e"
      },
      "source": [
        "この手を使ってあなたの方法をテストできます。"
      ]
    },
    {
      "cell_type": "code",
      "execution_count": null,
      "id": "1e4957cb",
      "metadata": {
        "tags": [],
        "id": "1e4957cb"
      },
      "outputs": [],
      "source": [
        "boat = deepcopy(pair)\n",
        "boat.put_card(Card(2, 2))\n",
        "boat.put_card(Card(2, 3))\n",
        "print(boat)"
      ]
    },
    {
      "cell_type": "code",
      "execution_count": null,
      "id": "4dc8b899",
      "metadata": {
        "tags": [],
        "id": "4dc8b899"
      },
      "outputs": [],
      "source": [
        "boat.has_full_house()     # should return True"
      ]
    },
    {
      "cell_type": "code",
      "execution_count": null,
      "id": "86229763",
      "metadata": {
        "tags": [],
        "id": "86229763"
      },
      "outputs": [],
      "source": [
        "pair.has_full_house()     # should return False"
      ]
    },
    {
      "cell_type": "code",
      "execution_count": null,
      "id": "7f1b3664",
      "metadata": {
        "tags": [],
        "id": "7f1b3664"
      },
      "outputs": [],
      "source": [
        "good_hand.has_full_house()     # should return False"
      ]
    },
    {
      "cell_type": "markdown",
      "id": "666340c1",
      "metadata": {
        "id": "666340c1"
      },
      "source": [
        "### 演習\n",
        "\n",
        "この演習は、デバッグが難しい一般的なエラーについての警告の物語です。次のクラス定義を考えてみましょう。"
      ]
    },
    {
      "cell_type": "code",
      "execution_count": null,
      "id": "85b47651",
      "metadata": {
        "id": "85b47651"
      },
      "outputs": [],
      "source": [
        "class Kangaroo:\n",
        "    \"\"\"A Kangaroo is a marsupial.\"\"\"\n",
        "\n",
        "    def __init__(self, name, contents=[]):\n",
        "        \"\"\"Initialize the pouch contents.\n",
        "\n",
        "        name: string\n",
        "        contents: initial pouch contents.\n",
        "        \"\"\"\n",
        "        self.name = name\n",
        "        self.contents = contents\n",
        "\n",
        "    def __str__(self):\n",
        "        \"\"\"Return a string representaion of this Kangaroo.\n",
        "        \"\"\"\n",
        "        t = [ self.name + ' has pouch contents:' ]\n",
        "        for obj in self.contents:\n",
        "            s = '    ' + object.__str__(obj)\n",
        "            t.append(s)\n",
        "        return '\\n'.join(t)\n",
        "\n",
        "    def put_in_pouch(self, item):\n",
        "        \"\"\"Adds a new item to the pouch contents.\n",
        "\n",
        "        item: object to be added\n",
        "        \"\"\"\n",
        "        self.contents.append(item)"
      ]
    },
    {
      "cell_type": "markdown",
      "id": "1e349832",
      "metadata": {
        "id": "1e349832"
      },
      "source": [
        "`__init__`は2つのパラメータを受け取ります。`name`は必須ですが、`contents`はオプションです。`contents`が提供されない場合は、デフォルト値として空のリストが使用されます。\n",
        "\n",
        "`__str__`は、オブジェクトの文字列表現を返します。この文字列表現には、ポーチの名前と内容が含まれます。\n",
        "\n",
        "`put_in_pouch`は任意のオブジェクトを受け取り、それを`contents`に追加します。\n",
        "\n",
        "では、このクラスがどのように動作するかを見てみましょう。\n",
        "`Kangaroo`オブジェクトを名前`'Kanga'`と`'Roo'`で2つ作成します。"
      ]
    },
    {
      "cell_type": "code",
      "execution_count": null,
      "id": "13f1e1f3",
      "metadata": {
        "id": "13f1e1f3"
      },
      "outputs": [],
      "source": [
        "kanga = Kangaroo('Kanga')\n",
        "roo = Kangaroo('Roo')"
      ]
    },
    {
      "cell_type": "markdown",
      "id": "533982d1",
      "metadata": {
        "id": "533982d1"
      },
      "source": [
        "カンガのポーチには、2本の紐とルーを加えます。"
      ]
    },
    {
      "cell_type": "code",
      "execution_count": null,
      "id": "e882e2d6",
      "metadata": {
        "id": "e882e2d6"
      },
      "outputs": [],
      "source": [
        "kanga.put_in_pouch('wallet')\n",
        "kanga.put_in_pouch('car keys')\n",
        "kanga.put_in_pouch(roo)"
      ]
    },
    {
      "cell_type": "markdown",
      "id": "41cd6d6e",
      "metadata": {
        "id": "41cd6d6e"
      },
      "source": [
        "「kanga」を印刷すれば、すべてがうまくいったように思えます。"
      ]
    },
    {
      "cell_type": "code",
      "execution_count": null,
      "id": "724805bb",
      "metadata": {
        "id": "724805bb"
      },
      "outputs": [],
      "source": [
        "print(kanga)"
      ]
    },
    {
      "cell_type": "markdown",
      "id": "0ba26163",
      "metadata": {
        "id": "0ba26163"
      },
      "source": [
        "しかし、`roo`を印刷するとどうなりますか？"
      ]
    },
    {
      "cell_type": "code",
      "execution_count": null,
      "id": "3f6cff16",
      "metadata": {
        "id": "3f6cff16"
      },
      "outputs": [],
      "source": [
        "print(roo)"
      ]
    },
    {
      "cell_type": "markdown",
      "id": "a2aef813",
      "metadata": {
        "id": "a2aef813"
      },
      "source": [
        "ルーのポーチには、カンガのと同じ内容物が含まれています。その中には、`roo`の参照もあります。\n",
        "\n",
        "何が問題だったのかを考えてみてください。\n",
        "その後、バーチャルアシスタントに「次のプログラムの何が問題ですか？」と尋ね、`Kangaroo`の定義を貼り付けてください。"
      ]
    },
    {
      "cell_type": "code",
      "execution_count": null,
      "id": "6ef15c8c",
      "metadata": {
        "id": "6ef15c8c"
      },
      "outputs": [],
      "source": []
    },
    {
      "cell_type": "markdown",
      "id": "a7f4edf8",
      "metadata": {
        "tags": [],
        "id": "a7f4edf8"
      },
      "source": [
        "[Think Python: 第3版](https://allendowney.github.io/ThinkPython/index.html)\n",
        "\n",
        "著作権 2024 [Allen B. Downey](https://allendowney.com)\n",
        "\n",
        "コードライセンス: [MITライセンス](https://mit-license.org/)\n",
        "\n",
        "テキストライセンス: [クリエイティブ・コモンズ 表示 - 非営利 - 継承 4.0 国際](https://creativecommons.org/licenses/by-nc-sa/4.0/)"
      ]
    }
  ],
  "metadata": {
    "celltoolbar": "Tags",
    "kernelspec": {
      "display_name": "Python 3 (ipykernel)",
      "language": "python",
      "name": "python3"
    },
    "language_info": {
      "codemirror_mode": {
        "name": "ipython",
        "version": 3
      },
      "file_extension": ".py",
      "mimetype": "text/x-python",
      "name": "python",
      "nbconvert_exporter": "python",
      "pygments_lexer": "ipython3",
      "version": "3.10.11"
    },
    "colab": {
      "provenance": [],
      "include_colab_link": true
    }
  },
  "nbformat": 4,
  "nbformat_minor": 5
}