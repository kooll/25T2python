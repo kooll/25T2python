{
  "cells": [
    {
      "cell_type": "markdown",
      "metadata": {
        "id": "view-in-github",
        "colab_type": "text"
      },
      "source": [
        "<a href=\"https://colab.research.google.com/github/kooll/ThinkPythonJ/blob/main/chapters/chap18_translated.ipynb\" target=\"_parent\"><img src=\"https://colab.research.google.com/assets/colab-badge.svg\" alt=\"Open In Colab\"/></a>"
      ]
    },
    {
      "cell_type": "markdown",
      "id": "1331faa1",
      "metadata": {
        "id": "1331faa1"
      },
      "source": [
        "*Think Python 3e* のプリント版と電子書籍版は、[Bookshop.org](https://bookshop.org/a/98697/9781098155438) と [Amazon](https://www.amazon.com/_/dp/1098155432?smid=ATVPDKIKX0DER&_encoding=UTF8&tag=oreilly20-20&_encoding=UTF8&tag=greenteapre01-20&linkCode=ur2&linkId=e2a529f94920295d27ec8a06e757dc7c&camp=1789&creative=9325) から注文できます。"
      ]
    },
    {
      "cell_type": "code",
      "execution_count": null,
      "id": "260216be",
      "metadata": {
        "tags": [],
        "id": "260216be"
      },
      "outputs": [],
      "source": [
        "from os.path import basename, exists\n",
        "\n",
        "def download(url):\n",
        "    filename = basename(url)\n",
        "    if not exists(filename):\n",
        "        from urllib.request import urlretrieve\n",
        "\n",
        "        local, _ = urlretrieve(url, filename)\n",
        "        print(\"Downloaded \" + str(local))\n",
        "    return filename\n",
        "\n",
        "download('https://github.com/AllenDowney/ThinkPython/raw/v3/thinkpython.py');\n",
        "download('https://github.com/AllenDowney/ThinkPython/raw/v3/diagram.py');\n",
        "\n",
        "import thinkpython"
      ]
    },
    {
      "cell_type": "markdown",
      "id": "f5cb253c",
      "metadata": {
        "tags": [],
        "id": "f5cb253c"
      },
      "source": [
        "こちらは第17章の`Card`、`Deck`、`Hand`クラスのバージョンです。これらは今章のいくつかの例で使用します。"
      ]
    },
    {
      "cell_type": "code",
      "execution_count": null,
      "id": "ad0da137",
      "metadata": {
        "tags": [],
        "id": "ad0da137"
      },
      "outputs": [],
      "source": [
        "class Card:\n",
        "    suit_names = ['Clubs', 'Diamonds', 'Hearts', 'Spades']\n",
        "    rank_names = [None, 'Ace', '2', '3', '4', '5', '6', '7',\n",
        "                  '8', '9', '10', 'Jack', 'Queen', 'King', 'Ace']\n",
        "\n",
        "    def __init__(self, suit, rank):\n",
        "        self.suit = suit\n",
        "        self.rank = rank\n",
        "\n",
        "    def __str__(self):\n",
        "        rank_name = Card.rank_names[self.rank]\n",
        "        suit_name = Card.suit_names[self.suit]\n",
        "        return f'{rank_name} of {suit_name}'"
      ]
    },
    {
      "cell_type": "code",
      "execution_count": null,
      "id": "8b00461b",
      "metadata": {
        "tags": [],
        "id": "8b00461b"
      },
      "outputs": [],
      "source": [
        "import random\n",
        "\n",
        "class Deck:\n",
        "    def __init__(self, cards):\n",
        "        self.cards = cards\n",
        "\n",
        "    def __str__(self):\n",
        "        res = []\n",
        "        for card in self.cards:\n",
        "            res.append(str(card))\n",
        "        return '\\n'.join(res)\n",
        "\n",
        "    def make_cards():\n",
        "        cards = []\n",
        "        for suit in range(4):\n",
        "            for rank in range(2, 15):\n",
        "                card = Card(suit, rank)\n",
        "                cards.append(card)\n",
        "        return cards\n",
        "\n",
        "    def shuffle(self):\n",
        "        random.shuffle(self.cards)\n",
        "\n",
        "    def pop_card(self):\n",
        "        return self.cards.pop()\n",
        "\n",
        "    def add_card(self, card):\n",
        "        self.cards.append(card)"
      ]
    },
    {
      "cell_type": "code",
      "execution_count": null,
      "id": "737b8979",
      "metadata": {
        "tags": [],
        "id": "737b8979"
      },
      "outputs": [],
      "source": [
        "class Hand(Deck):\n",
        "    def __init__(self, label=''):\n",
        "        self.label = label\n",
        "        self.cards = []"
      ]
    },
    {
      "cell_type": "markdown",
      "id": "27e8d827",
      "metadata": {
        "id": "27e8d827"
      },
      "source": [
        "# Python エクストラ\n",
        "\n",
        "この書籍の目標の一つは、可能な限り少ないPythonの知識を教えることでした。\n",
        "ある物事を行う方法が2つあるときには、そのうちの1つを選び、もう片方には触れないようにしてきました。\n",
        "あるいは、時にはその2つ目の方法を演習問題に入れることもありました。\n",
        "\n",
        "さて、ここで取りこぼしていた良い部分に戻りたいと思います。\n",
        "Pythonは、必ずしも必要ではないが、良いコードを書くのに使える、いくつかの機能を提供しています。これらを使うことで、コードをより簡潔に、読みやすく、効率的に書くことができ、時にはその全てを実現できます。"
      ]
    },
    {
      "cell_type": "markdown",
      "id": "7ddcece8",
      "metadata": {
        "id": "7ddcece8"
      },
      "source": [
        "## 集合\n",
        "\n",
        "Pythonは、ユニークな要素の集まりを表す`set`というクラスを提供しています。\n",
        "空の集合を作成するには、クラスオブジェクトを関数のように使用することができます。"
      ]
    },
    {
      "cell_type": "code",
      "execution_count": null,
      "id": "77f98242",
      "metadata": {
        "id": "77f98242"
      },
      "outputs": [],
      "source": [
        "s1 = set()\n",
        "s1"
      ]
    },
    {
      "cell_type": "markdown",
      "id": "904e2071",
      "metadata": {
        "id": "904e2071"
      },
      "source": [
        "要素を追加するには、`add` メソッドを使用できます。"
      ]
    },
    {
      "cell_type": "code",
      "execution_count": null,
      "id": "85157902",
      "metadata": {
        "id": "85157902"
      },
      "outputs": [],
      "source": [
        "s1.add('a')\n",
        "s1.add('b')\n",
        "s1"
      ]
    },
    {
      "cell_type": "markdown",
      "id": "beee02fc",
      "metadata": {
        "id": "beee02fc"
      },
      "source": [
        "または、どのような種類のシーケンスでも `set` に渡すことができます。"
      ]
    },
    {
      "cell_type": "code",
      "execution_count": null,
      "id": "b470e34a",
      "metadata": {
        "id": "b470e34a"
      },
      "outputs": [],
      "source": [
        "s2 = set('acd')\n",
        "s2"
      ]
    },
    {
      "cell_type": "markdown",
      "id": "42f99153",
      "metadata": {
        "id": "42f99153"
      },
      "source": [
        "要素は`set`に一度しか現れません。\n",
        "既に存在する要素を追加しても効果はありません。"
      ]
    },
    {
      "cell_type": "code",
      "execution_count": null,
      "id": "e6a2d78b",
      "metadata": {
        "id": "e6a2d78b"
      },
      "outputs": [],
      "source": [
        "s1.add('a')\n",
        "s1"
      ]
    },
    {
      "cell_type": "markdown",
      "id": "9b0a82ee",
      "metadata": {
        "id": "9b0a82ee"
      },
      "source": [
        "または、重複を含むシーケンスでセットを作成すると、結果には一意の要素のみが含まれます。"
      ]
    },
    {
      "cell_type": "code",
      "execution_count": null,
      "id": "a4f5ff4f",
      "metadata": {
        "id": "a4f5ff4f"
      },
      "outputs": [],
      "source": [
        "set('banana')"
      ]
    },
    {
      "cell_type": "markdown",
      "id": "328e2009",
      "metadata": {
        "id": "328e2009"
      },
      "source": [
        "この本のいくつかの演習は、セットを使って簡潔かつ効率的に行うことができます。例えば、ここに辞書を使ってシーケンス内に重複する要素があるかどうかを確認する、第11章の演習に対する解答があります。"
      ]
    },
    {
      "cell_type": "code",
      "execution_count": null,
      "id": "483046f2",
      "metadata": {
        "id": "483046f2"
      },
      "outputs": [],
      "source": [
        "def has_duplicates(t):\n",
        "    d = {}\n",
        "    for x in t:\n",
        "        d[x] = True\n",
        "    return len(d) < len(t)"
      ]
    },
    {
      "cell_type": "markdown",
      "id": "0b250e58",
      "metadata": {
        "id": "0b250e58"
      },
      "source": [
        "このバージョンでは、辞書のキーとして要素`t`を追加し、その後キーの数が要素より少ないかどうかを確認します。\n",
        "セットを使用すると、この関数を次のように書くことができます。"
      ]
    },
    {
      "cell_type": "code",
      "execution_count": null,
      "id": "fe22c739",
      "metadata": {
        "id": "fe22c739"
      },
      "outputs": [],
      "source": [
        "def has_duplicates(t):\n",
        "    s = set(t)\n",
        "    return len(s) < len(t)"
      ]
    },
    {
      "cell_type": "code",
      "execution_count": null,
      "id": "3bbd3b72",
      "metadata": {
        "tags": [],
        "id": "3bbd3b72"
      },
      "outputs": [],
      "source": [
        "has_duplicates('abba')"
      ]
    },
    {
      "cell_type": "markdown",
      "id": "30cf3158",
      "metadata": {
        "id": "30cf3158"
      },
      "source": [
        "ある要素は集合に一度しか現れることができないため、もし `t` に含まれる要素が複数回現れる場合、集合のサイズは `t` よりも小さくなります。重複がない場合、集合のサイズは `t` と同じになります。\n",
        "\n",
        "`set` オブジェクトは集合演算を行うメソッドを提供しています。例えば、`union` メソッドは二つの集合の和集合を計算し、どちらかの集合に現れるすべての要素を含む新しい集合を作成します。"
      ]
    },
    {
      "cell_type": "code",
      "execution_count": null,
      "id": "0a8234b1",
      "metadata": {
        "id": "0a8234b1"
      },
      "outputs": [],
      "source": [
        "s1.union(s2)"
      ]
    },
    {
      "cell_type": "markdown",
      "id": "57b1d50c",
      "metadata": {
        "id": "57b1d50c"
      },
      "source": [
        "いくつかの算術演算子は集合でも機能します。たとえば、`-` 演算子は集合の減算を行います。この結果は、新しい集合であり、第1の集合から第2の集合に存在しない要素すべてを含みます。"
      ]
    },
    {
      "cell_type": "code",
      "execution_count": null,
      "id": "5b81bb56",
      "metadata": {
        "id": "5b81bb56"
      },
      "outputs": [],
      "source": [
        "s1 - s2"
      ]
    },
    {
      "cell_type": "markdown",
      "id": "5099226c",
      "metadata": {
        "id": "5099226c"
      },
      "source": [
        "[第12章](section_dictionary_subtraction)では、辞書を使用して文書に現れる単語を単語リストと照合し、リストにない単語を見つける方法を説明しました。次の関数を使用しました。この関数は2つの辞書を受け取り、2番目に現れない最初の辞書のキーのみを含む新しい辞書を返します。"
      ]
    },
    {
      "cell_type": "code",
      "execution_count": null,
      "id": "06a94266",
      "metadata": {
        "id": "06a94266"
      },
      "outputs": [],
      "source": [
        "def subtract(d1, d2):\n",
        "    res = {}\n",
        "    for key in d1:\n",
        "        if key not in d2:\n",
        "            res[key] = d1[key]\n",
        "    return res"
      ]
    },
    {
      "cell_type": "markdown",
      "id": "455c3e34",
      "metadata": {
        "id": "455c3e34"
      },
      "source": [
        "集合を使えば、この関数を自分で書く必要はありません。  \n",
        "もし `word_counter` がドキュメント中のユニークな単語を含む辞書であり、`word_list` が有効な単語のリストである場合、次のように集合の差を計算できます。"
      ]
    },
    {
      "cell_type": "code",
      "execution_count": null,
      "id": "3f303544",
      "metadata": {
        "tags": [],
        "id": "3f303544"
      },
      "outputs": [],
      "source": [
        "# this cell creates a small example so we can run the following\n",
        "# cell without loading the actual data\n",
        "\n",
        "word_counter = {'word': 1}\n",
        "word_list = ['word']"
      ]
    },
    {
      "cell_type": "code",
      "execution_count": null,
      "id": "b200cbc2",
      "metadata": {
        "tags": [],
        "id": "b200cbc2"
      },
      "outputs": [],
      "source": [
        "set(word_counter) - set(word_list)"
      ]
    },
    {
      "cell_type": "markdown",
      "id": "91efe708",
      "metadata": {
        "id": "91efe708"
      },
      "source": [
        "結果は、単語リストには含まれない文書内の単語を集めた集合です。\n",
        "\n",
        "関係演算子は集合に対して動作します。例えば、`<=` はある集合が他の集合の部分集合であるかどうかをチェックします。このとき、両者が等しい場合も含まれます。"
      ]
    },
    {
      "cell_type": "code",
      "execution_count": null,
      "id": "15919aca",
      "metadata": {
        "id": "15919aca"
      },
      "outputs": [],
      "source": [
        "set('ab') <= set('abc')"
      ]
    },
    {
      "cell_type": "markdown",
      "id": "74d4d824",
      "metadata": {
        "id": "74d4d824"
      },
      "source": [
        "これらの演算子を使用すると、集合を用いて第7章のいくつかの練習問題を行うことができます。たとえば、ループを使用した`uses_only`のバージョンは次のようになります。"
      ]
    },
    {
      "cell_type": "code",
      "execution_count": null,
      "id": "21940f25",
      "metadata": {
        "id": "21940f25"
      },
      "outputs": [],
      "source": [
        "def uses_only(word, available):\n",
        "    for letter in word:\n",
        "        if letter not in available:\n",
        "            return False\n",
        "    return True"
      ]
    },
    {
      "cell_type": "markdown",
      "id": "58c1da26",
      "metadata": {
        "id": "58c1da26"
      },
      "source": [
        "`uses_only` は、`word` に含まれるすべての文字が `available` にも含まれているかどうかをチェックする関数です。このロジックをセット（集合）を用いて書き直すことができます。\n",
        "\n",
        "以下がその例です：\n",
        "\n",
        "```python\n",
        "def uses_only(word, available):\n",
        "    return set(word).issubset(set(available))\n",
        "```\n",
        "\n",
        "このコードでは、`word` に含まれる文字の集合が `available` に含まれる文字の集合のサブセットであるかを確認することで、すべての文字が `available` に含まれているかをチェックします。したがって、`word` のすべての文字が `available` に存在する場合は `True` を返し、そうでない場合は `False` を返します。"
      ]
    },
    {
      "cell_type": "code",
      "execution_count": null,
      "id": "5769968e",
      "metadata": {
        "id": "5769968e"
      },
      "outputs": [],
      "source": [
        "def uses_only(word, available):\n",
        "    return set(word) <= set(available)"
      ]
    },
    {
      "cell_type": "markdown",
      "id": "01ce8cff",
      "metadata": {
        "id": "01ce8cff"
      },
      "source": [
        "「word」の文字が「available」の文字の部分集合である場合、それは「word」が「available」に含まれる文字のみを使っていることを意味します。"
      ]
    },
    {
      "cell_type": "markdown",
      "id": "d7c22ef5",
      "metadata": {
        "id": "d7c22ef5"
      },
      "source": [
        "## カウンター\n",
        "\n",
        "`Counter`は集合に似ていますが、要素が複数回出現する場合、その出現回数を記録します。\n",
        "数学的な概念の「マルチセット」に精通しているなら、`Counter`はマルチセットを表現する自然な方法です。\n",
        "\n",
        "`Counter`クラスは`collections`というモジュールで定義されているので、インポートする必要があります。\n",
        "その後、クラスオブジェクトを関数として使用し、文字列、リスト、その他の種類のシーケンスを引数として渡すことができます。"
      ]
    },
    {
      "cell_type": "code",
      "execution_count": null,
      "id": "1baff39a",
      "metadata": {
        "id": "1baff39a"
      },
      "outputs": [],
      "source": [
        "from collections import Counter\n",
        "\n",
        "counter = Counter('banana')\n",
        "counter"
      ]
    },
    {
      "cell_type": "code",
      "execution_count": null,
      "id": "14d5aee5",
      "metadata": {
        "id": "14d5aee5"
      },
      "outputs": [],
      "source": [
        "from collections import Counter\n",
        "\n",
        "t = (1, 1, 1, 2, 2, 3)\n",
        "counter = Counter(t)\n",
        "counter"
      ]
    },
    {
      "cell_type": "markdown",
      "id": "8da28fe5",
      "metadata": {
        "id": "8da28fe5"
      },
      "source": [
        "`Counter` オブジェクトは、各キーからその出現回数へのマッピングを行う辞書のようなものです。辞書と同様に、キーはハッシュ可能である必要があります。\n",
        "\n",
        "辞書とは異なり、`Counter` オブジェクトは存在しない要素にアクセスしても例外を発生させません。その代わりに、`0` を返します。"
      ]
    },
    {
      "cell_type": "code",
      "execution_count": null,
      "id": "28eb9235",
      "metadata": {
        "id": "28eb9235"
      },
      "outputs": [],
      "source": [
        "counter['d']"
      ]
    },
    {
      "cell_type": "markdown",
      "id": "9bb2b650",
      "metadata": {
        "id": "9bb2b650"
      },
      "source": [
        "`Counter`オブジェクトを使って、2つの単語がアナグラムであるかどうかを確認する関数を作成する方法を以下に示します。この方法は、1つの単語の文字を並べ替えて別の単語を作ることが可能かどうかを確認します。\n",
        "\n",
        "```python\n",
        "from collections import Counter\n",
        "\n",
        "def are_anagrams(word1, word2):\n",
        "    return Counter(word1) == Counter(word2)\n",
        "\n",
        "# 例の使用法\n",
        "print(are_anagrams(\"listen\", \"silent\"))  # Trueが出力されます\n",
        "print(are_anagrams(\"hello\", \"world\"))    # Falseが出力されます\n",
        "```\n",
        "\n",
        "この関数`are_anagrams`は、Pythonの`collections`モジュールからの`Counter`オブジェクトを使用しており、それぞれの単語の文字カウントを比較します。同じ文字とその出現回数を持つ単語はアナグラムです。"
      ]
    },
    {
      "cell_type": "code",
      "execution_count": null,
      "id": "67aadb0b",
      "metadata": {
        "id": "67aadb0b"
      },
      "outputs": [],
      "source": [
        "def is_anagram(word1, word2):\n",
        "    return Counter(word1) == Counter(word2)"
      ]
    },
    {
      "cell_type": "markdown",
      "id": "6907f368",
      "metadata": {
        "id": "6907f368"
      },
      "source": [
        "もし2つの単語がアナグラムである場合、それらは同じ文字を同じ数だけ含んでいるため、それぞれの`Counter`オブジェクトは等価になります。\n",
        "\n",
        "`Counter`は`most_common`というメソッドを提供しており、これは値とその出現頻度のペアを、最も一般的なものから最も少ないものの順にソートして返します。"
      ]
    },
    {
      "cell_type": "code",
      "execution_count": null,
      "id": "0c771fb9",
      "metadata": {
        "id": "0c771fb9"
      },
      "outputs": [],
      "source": [
        "counter.most_common()"
      ]
    },
    {
      "cell_type": "markdown",
      "id": "b02b7dff",
      "metadata": {
        "id": "b02b7dff"
      },
      "source": [
        "また、集合のような操作を行うためのメソッドや演算子も提供しています。これには、加算、減算、和集合、積集合が含まれます。たとえば、`+` 演算子を使うと、2つの `Counter` オブジェクトを組み合わせて、両方のキーとそれぞれのカウントの合計を含む新しい `Counter` を作成します。\n",
        "\n",
        "これをテストするには、文字列 `'bans'` から文字を取り出して `Counter` を作成し、それを `'banana'` の文字からなる `Counter` に加算します。"
      ]
    },
    {
      "cell_type": "code",
      "execution_count": null,
      "id": "38a511cc",
      "metadata": {
        "id": "38a511cc"
      },
      "outputs": [],
      "source": [
        "counter2 = Counter('bans')\n",
        "counter + counter2"
      ]
    },
    {
      "cell_type": "markdown",
      "id": "5461328e",
      "metadata": {
        "id": "5461328e"
      },
      "source": [
        "この章の終わりの演習で、他の`Counter`操作を探求する機会があります。"
      ]
    },
    {
      "cell_type": "markdown",
      "id": "7cf47e67",
      "metadata": {
        "id": "7cf47e67"
      },
      "source": [
        "## defaultdict\n",
        "\n",
        "`collections`モジュールには`defaultdict`もあり、通常の辞書に似ていますが、存在しないキーにアクセスした場合に、新しい値を自動的に生成します。\n",
        "\n",
        "`defaultdict`を作成する際には、新しい値を生成するための関数を指定します。\n",
        "オブジェクトを作成する関数はしばしば**ファクトリー**と呼ばれます。\n",
        "リスト、セット、その他の型を生成する組み込み関数は、ファクトリーとして使用できます。\n",
        "\n",
        "例えば、必要に応じて新しい`list`を作成する`defaultdict`は次のようになります。"
      ]
    },
    {
      "cell_type": "code",
      "execution_count": null,
      "id": "5303812d",
      "metadata": {
        "id": "5303812d"
      },
      "outputs": [],
      "source": [
        "from collections import defaultdict\n",
        "\n",
        "d = defaultdict(list)\n",
        "d"
      ]
    },
    {
      "cell_type": "markdown",
      "id": "9f43d537",
      "metadata": {
        "id": "9f43d537"
      },
      "source": [
        "引数は `list` であり、これはクラスオブジェクトであって、`list()` という新しいリストを作成するための関数呼び出しではないことに注意してください。ファクトリー関数は存在しないキーにアクセスした場合にのみ呼び出されます。"
      ]
    },
    {
      "cell_type": "code",
      "execution_count": null,
      "id": "4955b14f",
      "metadata": {
        "id": "4955b14f"
      },
      "outputs": [],
      "source": [
        "t = d['new key']\n",
        "t"
      ]
    },
    {
      "cell_type": "markdown",
      "id": "01f87415",
      "metadata": {
        "id": "01f87415"
      },
      "source": [
        "新しいリストを `t` と呼んでおり、これも辞書に追加されます。   \n",
        "したがって、`t` を変更すると、その変更は `d` に反映されます。"
      ]
    },
    {
      "cell_type": "code",
      "execution_count": null,
      "id": "d6a771af",
      "metadata": {
        "id": "d6a771af"
      },
      "outputs": [],
      "source": [
        "t.append('new value')\n",
        "d['new key']"
      ]
    },
    {
      "cell_type": "markdown",
      "id": "3e5d0151",
      "metadata": {
        "id": "3e5d0151"
      },
      "source": [
        "リストの辞書を作成する場合、`defaultdict`を使用することで、よりシンプルなコードを書くことができることが多いです。\n",
        "\n",
        "[Chapter 11](chapter_tuples)の演習の1つでは、アルファベットを並び替えた文字列から、そのアルファベットで綴ることができる単語のリストにマップする辞書を作成しました。\n",
        "例えば、文字列 `'opst'` はリスト `['opts', 'post', 'pots', 'spot', 'stop', 'tops']` にマップされます。\n",
        "以下が元のコードです。"
      ]
    },
    {
      "cell_type": "code",
      "execution_count": null,
      "id": "9c4166e4",
      "metadata": {
        "id": "9c4166e4"
      },
      "outputs": [],
      "source": [
        "def all_anagrams(filename):\n",
        "    d = {}\n",
        "    for line in open(filename):\n",
        "        word = line.strip().lower()\n",
        "        t = signature(word)\n",
        "        if t not in d:\n",
        "            d[t] = [word]\n",
        "        else:\n",
        "            d[t].append(word)\n",
        "    return d"
      ]
    },
    {
      "cell_type": "markdown",
      "id": "8e9a0a2b",
      "metadata": {
        "id": "8e9a0a2b"
      },
      "source": [
        "そして、`defaultdict`を使用したよりシンプルなバージョンです。"
      ]
    },
    {
      "cell_type": "code",
      "execution_count": null,
      "id": "e908188e",
      "metadata": {
        "id": "e908188e"
      },
      "outputs": [],
      "source": [
        "def all_anagrams(filename):\n",
        "    d = defaultdict(list)\n",
        "    for line in open(filename):\n",
        "        word = line.strip().lower()\n",
        "        t = signature(word)\n",
        "        d[t].append(word)\n",
        "    return d"
      ]
    },
    {
      "cell_type": "markdown",
      "id": "cccdd46c",
      "metadata": {
        "id": "cccdd46c"
      },
      "source": [
        "章末の演習では、`defaultdict` オブジェクトの使用を練習する機会があります。"
      ]
    },
    {
      "cell_type": "code",
      "execution_count": null,
      "id": "4e1e35f7",
      "metadata": {
        "id": "4e1e35f7"
      },
      "outputs": [],
      "source": [
        "from collections import defaultdict\n",
        "\n",
        "d = defaultdict(list)\n",
        "key = ('into', 'the')\n",
        "d[key].append('woods')\n",
        "d[key]"
      ]
    },
    {
      "cell_type": "markdown",
      "id": "610359c1",
      "metadata": {
        "id": "610359c1"
      },
      "source": [
        "## 条件式\n",
        "\n",
        "条件文は、次のように2つの値から1つを選択するためによく使用されます。"
      ]
    },
    {
      "cell_type": "code",
      "execution_count": null,
      "id": "25ff32b9",
      "metadata": {
        "tags": [],
        "id": "25ff32b9"
      },
      "outputs": [],
      "source": [
        "import math\n",
        "x = 5"
      ]
    },
    {
      "cell_type": "code",
      "execution_count": null,
      "id": "11676b80",
      "metadata": {
        "id": "11676b80"
      },
      "outputs": [],
      "source": [
        "if x > 0:\n",
        "    y = math.log(x)\n",
        "else:\n",
        "    y = float('nan')"
      ]
    },
    {
      "cell_type": "code",
      "execution_count": null,
      "id": "0249c4c8",
      "metadata": {
        "tags": [],
        "id": "0249c4c8"
      },
      "outputs": [],
      "source": [
        "y"
      ]
    },
    {
      "cell_type": "markdown",
      "id": "2c5fc3dd",
      "metadata": {
        "id": "2c5fc3dd"
      },
      "source": [
        "この文は、`x` が正であるかどうかをチェックします。もし正であれば、その対数を計算します。\n",
        "そうでなければ、`math.log` は ValueError を発生させるでしょう。\n",
        "プログラムが停止するのを避けるために、「NaN」を生成します。これは「数ではない」を表す特別な浮動小数点値です。\n",
        "\n",
        "この文は、**条件式**を使ってより簡潔に書くことができます。"
      ]
    },
    {
      "cell_type": "code",
      "execution_count": null,
      "id": "803a39c4",
      "metadata": {
        "id": "803a39c4"
      },
      "outputs": [],
      "source": [
        "y = math.log(x) if x > 0 else float('nan')"
      ]
    },
    {
      "cell_type": "code",
      "execution_count": null,
      "id": "03b1afa9",
      "metadata": {
        "tags": [],
        "id": "03b1afa9"
      },
      "outputs": [],
      "source": [
        "y"
      ]
    },
    {
      "cell_type": "markdown",
      "id": "6a7cf27b",
      "metadata": {
        "id": "6a7cf27b"
      },
      "source": [
        "この行はほとんど英語のように読めます：「もし `x` が0より大きければ `y` は log-`x` を取得し、それ以外の場合は `NaN` を取得します」。\n",
        "\n",
        "再帰関数は、条件式を用いて簡潔に書かれることがあります。例えば、こちらは条件文を使った `factorial` のバージョンです。"
      ]
    },
    {
      "cell_type": "code",
      "execution_count": null,
      "id": "73d3e7e9",
      "metadata": {
        "id": "73d3e7e9"
      },
      "outputs": [],
      "source": [
        "def factorial(n):\n",
        "    if n == 0:\n",
        "        return 1\n",
        "    else:\n",
        "        return n * factorial(n-1)"
      ]
    },
    {
      "cell_type": "markdown",
      "id": "56052b5c",
      "metadata": {
        "id": "56052b5c"
      },
      "source": [
        "こちらが条件式を使ったバージョンです。"
      ]
    },
    {
      "cell_type": "code",
      "execution_count": null,
      "id": "d14e82df",
      "metadata": {
        "id": "d14e82df"
      },
      "outputs": [],
      "source": [
        "def factorial(n):\n",
        "    return 1 if n == 0 else n * factorial(n-1)"
      ]
    },
    {
      "cell_type": "markdown",
      "id": "d53fbc15",
      "metadata": {
        "id": "d53fbc15"
      },
      "source": [
        "条件式のもう一つの用途は、オプションの引数を処理することです。例えば、デフォルト値を持つパラメータを確認するために条件式を使用する`__init__`メソッドを含むクラス定義を以下に示します。"
      ]
    },
    {
      "cell_type": "code",
      "execution_count": null,
      "id": "aa8fcfe5",
      "metadata": {
        "id": "aa8fcfe5"
      },
      "outputs": [],
      "source": [
        "class Kangaroo:\n",
        "    def __init__(self, name, contents=None):\n",
        "        self.name = name\n",
        "        if contents is None:\n",
        "            contents = []\n",
        "        self.contents = contents"
      ]
    },
    {
      "cell_type": "markdown",
      "id": "655bfc46",
      "metadata": {
        "id": "655bfc46"
      },
      "source": [
        "こちらは条件式を使用したバージョンです。"
      ]
    },
    {
      "cell_type": "code",
      "execution_count": null,
      "id": "fcb67453",
      "metadata": {
        "id": "fcb67453"
      },
      "outputs": [],
      "source": [
        "def __init__(self, name, contents=None):\n",
        "    self.name = name\n",
        "    self.contents = [] if contents is None else contents"
      ]
    },
    {
      "cell_type": "markdown",
      "id": "fef85229",
      "metadata": {
        "id": "fef85229"
      },
      "source": [
        "一般に、両方の分岐が単一の式を含み、ステートメントを含まない場合、条件文を条件式に置き換えることができます。"
      ]
    },
    {
      "cell_type": "markdown",
      "id": "45d3b306",
      "metadata": {
        "id": "45d3b306"
      },
      "source": [
        "## リスト内包表記\n",
        "\n",
        "前の章では、空のリストから始めて、`append`メソッドを使って要素を1つずつ追加する例をいくつか見てきました。\n",
        "例えば、映画のタイトルが含まれている文字列があり、そのすべての単語を大文字にしたいとしましょう。"
      ]
    },
    {
      "cell_type": "code",
      "execution_count": null,
      "id": "a1d31625",
      "metadata": {
        "id": "a1d31625"
      },
      "outputs": [],
      "source": [
        "title = 'monty python and the holy grail'"
      ]
    },
    {
      "cell_type": "markdown",
      "id": "9eeb45a6",
      "metadata": {
        "id": "9eeb45a6"
      },
      "source": [
        "それを文字列のリストに分割し、文字列をループ処理して大文字にしてからリストに追加することができます。"
      ]
    },
    {
      "cell_type": "code",
      "execution_count": null,
      "id": "595cdbc8",
      "metadata": {
        "id": "595cdbc8"
      },
      "outputs": [],
      "source": [
        "t = []\n",
        "for word in title.split():\n",
        "    t.append(word.capitalize())\n",
        "\n",
        "' '.join(t)"
      ]
    },
    {
      "cell_type": "markdown",
      "id": "b96197c2",
      "metadata": {
        "id": "b96197c2"
      },
      "source": [
        "同じことを**リスト内包表記**を使ってより簡潔に行うことができます。"
      ]
    },
    {
      "cell_type": "code",
      "execution_count": null,
      "id": "ac327d75",
      "metadata": {
        "id": "ac327d75"
      },
      "outputs": [],
      "source": [
        "t = [word.capitalize() for word in title.split()]\n",
        "\n",
        "' '.join(t)"
      ]
    },
    {
      "cell_type": "markdown",
      "id": "e5b565ad",
      "metadata": {
        "id": "e5b565ad"
      },
      "source": [
        "括弧演算子は、新しいリストを構築していることを示します。括弧内の式はリストの要素を指定し、`for`節はどのシーケンスを通してループしているかを示します。\n",
        "\n",
        "リスト内包表記の構文は奇妙に思えるかもしれません。この例ではループ変数である`word`が、定義が出てくる前に式に現れるからです。しかし、慣れてきます。\n",
        "\n",
        "別の例として、[第9章](section_word_list)でファイルから単語を読み取り、それをリストに追加するためにこのループを使用しました。"
      ]
    },
    {
      "cell_type": "code",
      "execution_count": null,
      "id": "036ec803",
      "metadata": {
        "tags": [],
        "id": "036ec803"
      },
      "outputs": [],
      "source": [
        "download('https://raw.githubusercontent.com/AllenDowney/ThinkPython2/master/code/words.txt');"
      ]
    },
    {
      "cell_type": "code",
      "execution_count": null,
      "id": "1437f1f1",
      "metadata": {
        "id": "1437f1f1"
      },
      "outputs": [],
      "source": [
        "word_list = []\n",
        "\n",
        "for line in open('words.txt'):\n",
        "    word = line.strip()\n",
        "    word_list.append(word)"
      ]
    },
    {
      "cell_type": "code",
      "execution_count": null,
      "id": "c9c2a932",
      "metadata": {
        "tags": [],
        "id": "c9c2a932"
      },
      "outputs": [],
      "source": [
        "len(word_list)"
      ]
    },
    {
      "cell_type": "markdown",
      "id": "2d1df49b",
      "metadata": {
        "id": "2d1df49b"
      },
      "source": [
        "それをリスト内包表記で書く方法は次のとおりです。"
      ]
    },
    {
      "cell_type": "code",
      "execution_count": null,
      "id": "d4f854c6",
      "metadata": {
        "id": "d4f854c6"
      },
      "outputs": [],
      "source": [
        "word_list = [line.strip() for line in open('words.txt')]"
      ]
    },
    {
      "cell_type": "code",
      "execution_count": null,
      "id": "3d797346",
      "metadata": {
        "tags": [],
        "id": "3d797346"
      },
      "outputs": [],
      "source": [
        "len(word_list)"
      ]
    },
    {
      "cell_type": "markdown",
      "id": "92d856ba",
      "metadata": {
        "id": "92d856ba"
      },
      "source": [
        "リスト内包表記には、リストに含まれる要素を決定するための `if` 節を含めることもできます。 例えば、次のような `for` ループが [第10章](section_palindrome_list) で使用されており、`word_list` 内の回文語のみをリストにするためのものです。"
      ]
    },
    {
      "cell_type": "code",
      "execution_count": null,
      "id": "d476e43c",
      "metadata": {
        "tags": [],
        "id": "d476e43c"
      },
      "outputs": [],
      "source": [
        "def is_palindrome(word):\n",
        "    return list(reversed(word)) == list(word)"
      ]
    },
    {
      "cell_type": "code",
      "execution_count": null,
      "id": "6b295593",
      "metadata": {
        "id": "6b295593"
      },
      "outputs": [],
      "source": [
        "palindromes = []\n",
        "\n",
        "for word in word_list:\n",
        "    if is_palindrome(word):\n",
        "        palindromes.append(word)"
      ]
    },
    {
      "cell_type": "code",
      "execution_count": null,
      "id": "f7b1cd91",
      "metadata": {
        "tags": [],
        "id": "f7b1cd91"
      },
      "outputs": [],
      "source": [
        "palindromes[:10]"
      ]
    },
    {
      "cell_type": "markdown",
      "id": "151621d8",
      "metadata": {
        "id": "151621d8"
      },
      "source": [
        "以下はリスト内包表記を使用して同じことを行う方法です。"
      ]
    },
    {
      "cell_type": "code",
      "execution_count": null,
      "id": "c356d9fb",
      "metadata": {
        "id": "c356d9fb"
      },
      "outputs": [],
      "source": [
        "palindromes = [word for word in word_list if is_palindrome(word)]"
      ]
    },
    {
      "cell_type": "code",
      "execution_count": null,
      "id": "52e32b33",
      "metadata": {
        "tags": [],
        "id": "52e32b33"
      },
      "outputs": [],
      "source": [
        "palindromes[:10]"
      ]
    },
    {
      "cell_type": "markdown",
      "id": "5fc4eab1",
      "metadata": {
        "id": "5fc4eab1"
      },
      "source": [
        "関数の引数としてリスト内包表記を使用する場合、括弧を省略することがよくあります。\n",
        "例えば、$1 / 2^n$を$n$が0から9までの値について足し合わせたいとしましょう。\n",
        "この場合、次のようにリスト内包表記を使うことができます。"
      ]
    },
    {
      "cell_type": "code",
      "execution_count": null,
      "id": "dcf239d7",
      "metadata": {
        "id": "dcf239d7"
      },
      "outputs": [],
      "source": [
        "sum([1/2**n for n in range(10)])"
      ]
    },
    {
      "cell_type": "markdown",
      "id": "2ee312e0",
      "metadata": {
        "id": "2ee312e0"
      },
      "source": [
        "あるいは、このように括弧を省略することもできます。"
      ]
    },
    {
      "cell_type": "code",
      "execution_count": null,
      "id": "b9bdec8d",
      "metadata": {
        "id": "b9bdec8d"
      },
      "outputs": [],
      "source": [
        "sum(1/2**n for n in range(10))"
      ]
    },
    {
      "cell_type": "markdown",
      "id": "3d56d584",
      "metadata": {
        "id": "3d56d584"
      },
      "source": [
        "この例では、引数は技術的には**ジェネレータ式**であり、リスト内包表記ではなく、実際にはリストを作成しません。それ以外の点では、動作は同じです。\n",
        "\n",
        "リスト内包表記とジェネレータ式は、簡潔で読みやすいです。少なくとも単純な式の場合はそうです。また、通常は同等のforループよりも高速で、場合によってはかなり高速です。ですから、これに関して早く触れなかったことに怒っているなら、その気持ちは理解します。\n",
        "\n",
        "しかし、私の弁護として言えば、リスト内包表記はデバッグが難しいです。なぜなら、ループ内にprint文を入れることができないからです。計算が単純で初回で正しく動作する可能性が高い場合にのみ使用することをお勧めします。または、`for`ループを書いてデバッグした後、それをリスト内包表記に変換することも考慮してください。"
      ]
    },
    {
      "cell_type": "markdown",
      "id": "f9fac860",
      "metadata": {
        "id": "f9fac860"
      },
      "source": [
        "## `any` と `all`\n",
        "\n",
        "Pythonには組み込み関数の `any` があり、これはブール値のシーケンスを受け取り、それらの値のうちのいずれかが `True` の場合に `True` を返します。"
      ]
    },
    {
      "cell_type": "code",
      "execution_count": null,
      "id": "81a15164",
      "metadata": {
        "id": "81a15164"
      },
      "outputs": [],
      "source": [
        "any([False, False, True])"
      ]
    },
    {
      "cell_type": "markdown",
      "id": "43217186",
      "metadata": {
        "id": "43217186"
      },
      "source": [
        "`any` はジェネレータ式と一緒によく使われます。"
      ]
    },
    {
      "cell_type": "code",
      "execution_count": null,
      "id": "7756c9ea",
      "metadata": {
        "id": "7756c9ea"
      },
      "outputs": [],
      "source": [
        "any(letter == 't' for letter in 'monty')"
      ]
    },
    {
      "cell_type": "markdown",
      "id": "22395487",
      "metadata": {
        "id": "22395487"
      },
      "source": [
        "その例は「in」演算子と同じことをするため、あまり役に立ちません。しかし、「any」を使って[第7章](chapter_search)のいくつかの練習問題に対する簡明な解法を書くことができます。例えば、「uses_none」を以下のように書くことができます。"
      ]
    },
    {
      "cell_type": "code",
      "execution_count": null,
      "id": "70133073",
      "metadata": {
        "id": "70133073"
      },
      "outputs": [],
      "source": [
        "def uses_none(word, forbidden):\n",
        "    \"\"\"Checks whether a word avoids forbidden letters.\"\"\"\n",
        "    return not any(letter in forbidden for letter in word)"
      ]
    },
    {
      "cell_type": "code",
      "execution_count": null,
      "id": "aec0523b",
      "metadata": {
        "tags": [],
        "id": "aec0523b"
      },
      "outputs": [],
      "source": [
        "uses_none('banana', 'xyz')"
      ]
    },
    {
      "cell_type": "code",
      "execution_count": null,
      "id": "863252da",
      "metadata": {
        "tags": [],
        "id": "863252da"
      },
      "outputs": [],
      "source": [
        "uses_none('apple', 'efg')"
      ]
    },
    {
      "cell_type": "markdown",
      "id": "fbefe3c1",
      "metadata": {
        "id": "fbefe3c1"
      },
      "source": [
        "この関数は、`word` 内の文字をループして、それらが `forbidden` に含まれているかどうかをチェックします。ジェネレータ式と共に `any` を使うことは効率的で、`True` の値を見つけた時点で即座に処理を停止するため、シーケンス全体をループする必要がありません。\n",
        "\n",
        "Python には、シーケンスのすべての要素が `True` の場合に `True` を返す組み込み関数 `all` もあります。これを使用して、`uses_all` の簡潔なバージョンを書くことができます。"
      ]
    },
    {
      "cell_type": "code",
      "execution_count": null,
      "id": "4b4046aa",
      "metadata": {
        "id": "4b4046aa"
      },
      "outputs": [],
      "source": [
        "def uses_all(word, required):\n",
        "    \"\"\"Check whether a word uses all required letters.\"\"\"\n",
        "    return all(letter in word for letter in required)"
      ]
    },
    {
      "cell_type": "code",
      "execution_count": null,
      "id": "5c6addfb",
      "metadata": {
        "tags": [],
        "id": "5c6addfb"
      },
      "outputs": [],
      "source": [
        "uses_all('banana', 'ban')"
      ]
    },
    {
      "cell_type": "code",
      "execution_count": null,
      "id": "54df18a1",
      "metadata": {
        "tags": [],
        "id": "54df18a1"
      },
      "outputs": [],
      "source": [
        "uses_all('apple', 'api')"
      ]
    },
    {
      "cell_type": "markdown",
      "id": "8d9f7364",
      "metadata": {
        "id": "8d9f7364"
      },
      "source": [
        "`any` や `all` を使った式は、簡潔で効率的かつ読みやすくなります。"
      ]
    },
    {
      "cell_type": "markdown",
      "id": "911857a3",
      "metadata": {
        "id": "911857a3"
      },
      "source": [
        "## 名前付きタプル\n",
        "\n",
        "`collections`モジュールは、シンプルなクラスを作成するために使用できる`namedtuple`という関数を提供しています。\n",
        "たとえば、第16章の`Point`オブジェクトは、`x`と`y`の2つの属性しかありません。\n",
        "以下にその定義方法を示します。"
      ]
    },
    {
      "cell_type": "code",
      "execution_count": null,
      "id": "3550c5a4",
      "metadata": {
        "id": "3550c5a4"
      },
      "outputs": [],
      "source": [
        "class Point:\n",
        "    \"\"\"Represents a point in 2-D space.\"\"\"\n",
        "\n",
        "    def __init__(self, x, y):\n",
        "        self.x = x\n",
        "        self.y = y\n",
        "\n",
        "    def __str__(self):\n",
        "        return f'({self.x}, {self.y})'"
      ]
    },
    {
      "cell_type": "markdown",
      "id": "36f08927",
      "metadata": {
        "id": "36f08927"
      },
      "source": [
        "少量の情報を伝えるには、それは多くのコードです。`namedtuple`を使用すれば、このようなクラスをより簡潔に定義する方法を提供します。"
      ]
    },
    {
      "cell_type": "code",
      "execution_count": null,
      "id": "4852da0c",
      "metadata": {
        "id": "4852da0c"
      },
      "outputs": [],
      "source": [
        "from collections import namedtuple\n",
        "\n",
        "Point = namedtuple('Point', ['x', 'y'])"
      ]
    },
    {
      "cell_type": "markdown",
      "id": "942a0877",
      "metadata": {
        "id": "942a0877"
      },
      "source": [
        "最初の引数は作成したいクラスの名前です。二番目の引数は、`Point` オブジェクトが持つべき属性のリストです。結果として得られるのはクラスオブジェクトなので、大文字で始まる変数名に割り当てられます。\n",
        "\n",
        "`namedtuple` で作成されたクラスは、属性に値を割り当てる `__init__` メソッドと、オブジェクトを読みやすい形で表示する `__str__` を提供します。\n",
        "このようにして `Point` オブジェクトを作成し、表示することができます。"
      ]
    },
    {
      "cell_type": "code",
      "execution_count": null,
      "id": "8acb172d",
      "metadata": {
        "id": "8acb172d"
      },
      "outputs": [],
      "source": [
        "p = Point(1, 2)\n",
        "p"
      ]
    },
    {
      "cell_type": "markdown",
      "id": "b42ee9a2",
      "metadata": {
        "id": "b42ee9a2"
      },
      "source": [
        "`Point`は、2つの`Point`オブジェクトが同等であるかどうか、つまりその属性が同じであるかどうかを確認する`__eq__`メソッドも提供しています。"
      ]
    },
    {
      "cell_type": "code",
      "execution_count": null,
      "id": "494b78ac",
      "metadata": {
        "id": "494b78ac"
      },
      "outputs": [],
      "source": [
        "p == Point(1, 2)"
      ]
    },
    {
      "cell_type": "markdown",
      "id": "9bcf275a",
      "metadata": {
        "id": "9bcf275a"
      },
      "source": [
        "名前付きタプルの要素には、名前またはインデックスでアクセスできます。"
      ]
    },
    {
      "cell_type": "code",
      "execution_count": null,
      "id": "f59e85f4",
      "metadata": {
        "id": "f59e85f4"
      },
      "outputs": [],
      "source": [
        "p.x, p.y"
      ]
    },
    {
      "cell_type": "code",
      "execution_count": null,
      "id": "742795a9",
      "metadata": {
        "id": "742795a9"
      },
      "outputs": [],
      "source": [
        "p[0], p[1]"
      ]
    },
    {
      "cell_type": "markdown",
      "id": "0768ff41",
      "metadata": {
        "id": "0768ff41"
      },
      "source": [
        "この代入のように、名前付きタプルをタプルとして扱うこともできます。"
      ]
    },
    {
      "cell_type": "code",
      "execution_count": null,
      "id": "df42d98a",
      "metadata": {
        "id": "df42d98a"
      },
      "outputs": [],
      "source": [
        "x, y = p\n",
        "x, y"
      ]
    },
    {
      "cell_type": "markdown",
      "id": "964aa3bd",
      "metadata": {
        "id": "964aa3bd"
      },
      "source": [
        "しかし、`namedtuple` オブジェクトは不変です。属性が初期化された後は、変更することができません。"
      ]
    },
    {
      "cell_type": "code",
      "execution_count": null,
      "id": "e61693ba",
      "metadata": {
        "tags": [],
        "id": "e61693ba"
      },
      "outputs": [],
      "source": [
        "%%expect TypeError\n",
        "\n",
        "p[0] = 3"
      ]
    },
    {
      "cell_type": "code",
      "execution_count": null,
      "id": "871dafae",
      "metadata": {
        "tags": [],
        "id": "871dafae"
      },
      "outputs": [],
      "source": [
        "%%expect AttributeError\n",
        "\n",
        "p.x = 3"
      ]
    },
    {
      "cell_type": "markdown",
      "id": "f2db7783",
      "metadata": {
        "id": "f2db7783"
      },
      "source": [
        "`namedtuple`は、シンプルなクラスを定義するための迅速な方法を提供しますが、シンプルなクラスは必ずしもシンプルなままとは限りません。後になって、named tupleにメソッドを追加したいと思うかもしれません。その場合、named tupleを継承する新しいクラスを定義することができます。"
      ]
    },
    {
      "cell_type": "code",
      "execution_count": null,
      "id": "586d8c51",
      "metadata": {
        "id": "586d8c51"
      },
      "outputs": [],
      "source": [
        "class Pointier(Point):\n",
        "    \"\"\"This class inherits from Point\"\"\""
      ]
    },
    {
      "cell_type": "markdown",
      "id": "805475ce",
      "metadata": {
        "id": "805475ce"
      },
      "source": [
        "または、その時点で従来のクラス定義に切り替えることができます。"
      ]
    },
    {
      "cell_type": "markdown",
      "id": "4f3713a0",
      "metadata": {
        "id": "4f3713a0"
      },
      "source": [
        "引数をタプルにパックする関数については[第11章](section_argument_pack)で説明しました。"
      ]
    },
    {
      "cell_type": "code",
      "execution_count": null,
      "id": "6de26a32",
      "metadata": {
        "id": "6de26a32"
      },
      "outputs": [],
      "source": [
        "def mean(*args):\n",
        "    return sum(args) / len(args)"
      ]
    },
    {
      "cell_type": "markdown",
      "id": "71e3b049",
      "metadata": {
        "id": "71e3b049"
      },
      "source": [
        "この関数は任意の数の引数で呼び出すことができます。"
      ]
    },
    {
      "cell_type": "code",
      "execution_count": null,
      "id": "ecb6a9fa",
      "metadata": {
        "id": "ecb6a9fa"
      },
      "outputs": [],
      "source": [
        "mean(1, 2, 3)"
      ]
    },
    {
      "cell_type": "markdown",
      "id": "486a690f",
      "metadata": {
        "id": "486a690f"
      },
      "source": [
        "しかし、`*` 演算子はキーワード引数をまとめることはできません。\n",
        "そのため、キーワード引数を使用してこの関数を呼び出すとエラーが発生します。"
      ]
    },
    {
      "cell_type": "code",
      "execution_count": null,
      "id": "5871229d",
      "metadata": {
        "tags": [],
        "id": "5871229d"
      },
      "outputs": [],
      "source": [
        "%%expect TypeError\n",
        "\n",
        "mean(1, 2, start=3)"
      ]
    },
    {
      "cell_type": "markdown",
      "id": "eb7f9281",
      "metadata": {
        "id": "eb7f9281"
      },
      "source": [
        "キーワード引数をパックするには、`**` 演算子を使用できます。"
      ]
    },
    {
      "cell_type": "code",
      "execution_count": null,
      "id": "b274db6a",
      "metadata": {
        "id": "b274db6a"
      },
      "outputs": [],
      "source": [
        "def mean(*args, **kwargs):\n",
        "    print(kwargs)\n",
        "    return sum(args) / len(args)"
      ]
    },
    {
      "cell_type": "markdown",
      "id": "067bf7c4",
      "metadata": {
        "id": "067bf7c4"
      },
      "source": [
        "キーワードパッキングパラメータは任意の名前を付けることができますが、`kwargs`が一般的な選択です。 結果はキーワードと値をマッピングする辞書になります。"
      ]
    },
    {
      "cell_type": "code",
      "execution_count": null,
      "id": "3a1b131c",
      "metadata": {
        "id": "3a1b131c"
      },
      "outputs": [],
      "source": [
        "mean(1, 2, start=3)"
      ]
    },
    {
      "cell_type": "markdown",
      "id": "07be77f3",
      "metadata": {
        "id": "07be77f3"
      },
      "source": [
        "この例では、`kwargs` の値が出力されますが、それ以外には何の効果もありません。\n",
        "\n",
        "しかし、`**` 演算子は引数リストで辞書をアンパックするためにも使用できます。例えば、キーワード引数をパックし、それを `sum` 関数にキーワード引数としてアンパックする `mean` のバージョンを以下に示します。"
      ]
    },
    {
      "cell_type": "code",
      "execution_count": null,
      "id": "a0305500",
      "metadata": {
        "id": "a0305500"
      },
      "outputs": [],
      "source": [
        "def mean(*args, **kwargs):\n",
        "    return sum(args, **kwargs) / len(args)"
      ]
    },
    {
      "cell_type": "markdown",
      "id": "ba00858c",
      "metadata": {
        "id": "ba00858c"
      },
      "source": [
        "`mean` にキーワード引数として `start` を渡すと、それが `sum` に受け渡され、合計の開始点として使用されます。次の例では、`start=3` が合計に `3` を加えてから平均を計算するため、合計は `6` となり、結果は `3` になります。"
      ]
    },
    {
      "cell_type": "code",
      "execution_count": null,
      "id": "457d5610",
      "metadata": {
        "id": "457d5610"
      },
      "outputs": [],
      "source": [
        "mean(1, 2, start=3)"
      ]
    },
    {
      "cell_type": "markdown",
      "id": "949a2ca3",
      "metadata": {
        "id": "949a2ca3"
      },
      "source": [
        "別の例として、`x` と `y` のキーを持つ辞書がある場合、それをアンパック演算子と共に使用して `Point` オブジェクトを作成することができます。"
      ]
    },
    {
      "cell_type": "code",
      "execution_count": null,
      "id": "020c1243",
      "metadata": {
        "id": "020c1243"
      },
      "outputs": [],
      "source": [
        "d = dict(x=1, y=2)\n",
        "Point(**d)"
      ]
    },
    {
      "cell_type": "markdown",
      "id": "8aaf128a",
      "metadata": {
        "id": "8aaf128a"
      },
      "source": [
        "アンパック演算子がないと、`d`は1つの位置引数として扱われるため、`x`に割り当てられ、`y`に割り当てる2番目の引数がないために`TypeError`が発生します。"
      ]
    },
    {
      "cell_type": "code",
      "execution_count": null,
      "id": "ba91298b",
      "metadata": {
        "tags": [],
        "id": "ba91298b"
      },
      "outputs": [],
      "source": [
        "%%expect TypeError\n",
        "\n",
        "d = dict(x=1, y=2)\n",
        "Point(d)"
      ]
    },
    {
      "cell_type": "markdown",
      "id": "e8acb958",
      "metadata": {
        "id": "e8acb958"
      },
      "source": [
        "キーワード引数が多数ある関数を扱う場合、頻繁に使用するオプションを指定する辞書を作成して活用することがよくあります。"
      ]
    },
    {
      "cell_type": "code",
      "execution_count": null,
      "id": "1b36b5ed",
      "metadata": {
        "id": "1b36b5ed"
      },
      "outputs": [],
      "source": [
        "def pack_and_print(**kwargs):\n",
        "    print(kwargs)\n",
        "\n",
        "pack_and_print(a=1, b=2)"
      ]
    },
    {
      "cell_type": "markdown",
      "id": "e046e382",
      "metadata": {
        "id": "e046e382"
      },
      "source": [
        "## デバッグ\n",
        "\n",
        "前の章では、関数をテストするために `doctest` を使用しました。\n",
        "例えば、ここに `add` という名前の関数があり、2つの数値を受け取り、それらの合計を返します。\n",
        "これは `2 + 2` が `4` であるかどうかを確認する doctest を含んでいます。"
      ]
    },
    {
      "cell_type": "code",
      "execution_count": null,
      "id": "e1366e43",
      "metadata": {
        "id": "e1366e43"
      },
      "outputs": [],
      "source": [
        "def add(a, b):\n",
        "    '''Add two numbers.\n",
        "\n",
        "    >>> add(2, 2)\n",
        "    4\n",
        "    '''\n",
        "    return a + b"
      ]
    },
    {
      "cell_type": "markdown",
      "id": "a5e332d3",
      "metadata": {
        "id": "a5e332d3"
      },
      "source": [
        "この関数は、関数オブジェクトを受け取り、そのドクトストを実行します。"
      ]
    },
    {
      "cell_type": "code",
      "execution_count": null,
      "id": "13802dc4",
      "metadata": {
        "id": "13802dc4"
      },
      "outputs": [],
      "source": [
        "from doctest import run_docstring_examples\n",
        "\n",
        "def run_doctests(func):\n",
        "    run_docstring_examples(func, globals(), name=func.__name__)"
      ]
    },
    {
      "cell_type": "markdown",
      "id": "2d752a40",
      "metadata": {
        "id": "2d752a40"
      },
      "source": [
        "したがって、`add` をこのようにテストできます。"
      ]
    },
    {
      "cell_type": "code",
      "execution_count": null,
      "id": "2136083a",
      "metadata": {
        "id": "2136083a"
      },
      "outputs": [],
      "source": [
        "run_doctests(add)"
      ]
    },
    {
      "cell_type": "markdown",
      "id": "77d36e9b",
      "metadata": {
        "id": "77d36e9b"
      },
      "source": [
        "出力がないということは、すべてのテストが合格したということです。\n",
        "\n",
        "Pythonには、`unittest`という自動テストを実行するための別のツールが用意されています。\n",
        "これは少し複雑ですが、以下に例を示します。"
      ]
    },
    {
      "cell_type": "code",
      "execution_count": null,
      "id": "d6bc8bae",
      "metadata": {
        "id": "d6bc8bae"
      },
      "outputs": [],
      "source": [
        "from unittest import TestCase\n",
        "\n",
        "class TestExample(TestCase):\n",
        "\n",
        "    def test_add(self):\n",
        "        result = add(2, 2)\n",
        "        self.assertEqual(result, 4)"
      ]
    },
    {
      "cell_type": "markdown",
      "id": "59b4212a",
      "metadata": {
        "id": "59b4212a"
      },
      "source": [
        "まず、`unittest`モジュールのクラスである`TestCase`をインポートします。\n",
        "これを使用するには、`TestCase`を継承し、少なくとも1つのテストメソッドを提供する新しいクラスを定義しなければなりません。\n",
        "テストメソッドの名前は`test`で始まり、どの関数をテストするのかを示すべきです。\n",
        "\n",
        "この例では、`test_add`が`add`関数をテストしており、関数を呼び出して結果を保存し、`TestCase`から継承した`assertEqual`を呼び出します。\n",
        "`assertEqual`は2つの引数を取り、それらが等しいかどうかをチェックします。\n",
        "\n",
        "このテストメソッドを実行するには、`unittest`内の`main`という関数をいくつかのキーワード引数と共に実行する必要があります。\n",
        "詳細は以下の関数で示されます。興味があれば、バーチャルアシスタントにその仕組みを説明してもらうことができます。"
      ]
    },
    {
      "cell_type": "code",
      "execution_count": null,
      "id": "96587ab7",
      "metadata": {
        "id": "96587ab7"
      },
      "outputs": [],
      "source": [
        "import unittest\n",
        "\n",
        "def run_unittest():\n",
        "    unittest.main(argv=[''], verbosity=0, exit=False)"
      ]
    },
    {
      "cell_type": "markdown",
      "id": "5409ea0c",
      "metadata": {
        "id": "5409ea0c"
      },
      "source": [
        "`run_unittest`は`TestExample`を引数として受け取りません。代わりに、`TestCase`を継承するクラスを探します。\n",
        "次に、`test`で始まるメソッドを探し、それらを実行します。\n",
        "このプロセスは**テスト探索（test discovery）**と呼ばれます。\n",
        "\n",
        "`run_unittest`を呼び出すと、以下のようなことが起こります。"
      ]
    },
    {
      "cell_type": "code",
      "execution_count": null,
      "id": "d3db5642",
      "metadata": {
        "id": "d3db5642"
      },
      "outputs": [],
      "source": [
        "run_unittest()"
      ]
    },
    {
      "cell_type": "markdown",
      "id": "7775304a",
      "metadata": {
        "id": "7775304a"
      },
      "source": [
        "`unittest.main`は実行されたテストの数とその結果を報告します。\n",
        "この場合、`OK`はテストが成功したことを示します。\n",
        "\n",
        "テストが失敗した場合に何が起こるかを確認するために、`TestExample`に誤ったテストメソッドを追加してみます。"
      ]
    },
    {
      "cell_type": "code",
      "execution_count": null,
      "id": "e5320931",
      "metadata": {
        "id": "e5320931"
      },
      "outputs": [],
      "source": [
        "%%add_method_to TestExample\n",
        "\n",
        "    def test_add_broken(self):\n",
        "        result = add(2, 2)\n",
        "        self.assertEqual(result, 100)"
      ]
    },
    {
      "cell_type": "markdown",
      "id": "96810614",
      "metadata": {
        "id": "96810614"
      },
      "source": [
        "テストを実行するとこうなります。"
      ]
    },
    {
      "cell_type": "code",
      "execution_count": null,
      "id": "c8d4fa4a",
      "metadata": {
        "id": "c8d4fa4a"
      },
      "outputs": [],
      "source": [
        "run_unittest()"
      ]
    },
    {
      "cell_type": "markdown",
      "id": "64b743cb",
      "metadata": {
        "id": "64b743cb"
      },
      "source": [
        "レポートには、失敗したテストメソッドとその位置を示すエラーメッセージが含まれています。サマリーには、2つのテストが実行され、1つが失敗したことが示されています。\n",
        "\n",
        "以下の演習では、`unittest`についてもっと情報を得るためにバーチャルアシスタントに尋ねることができるいくつかのプロンプトを提案します。"
      ]
    },
    {
      "cell_type": "markdown",
      "id": "7d0fb256",
      "metadata": {
        "id": "7d0fb256"
      },
      "source": [
        "## 用語集\n",
        "\n",
        "**factory（ファクトリー）:**\n",
        "オブジェクトを作成するために使用される関数で、しばしば他の関数への引数として渡されます。\n",
        "\n",
        "**conditional expression（条件式）:**\n",
        "条件を使用して二つの値のいずれかを選択する式。\n",
        "\n",
        "**list comprehension（リスト内包）:**\n",
        "シーケンスをループしてリストを作成するための簡潔な方法。\n",
        "\n",
        "**generator expression（ジェネレーター式）:**\n",
        "リスト内包に似ていますが、リストを作成しません。\n",
        "\n",
        "**test discovery（テスト発見）:**\n",
        "テストを見つけて実行するためのプロセス。"
      ]
    },
    {
      "cell_type": "markdown",
      "id": "bc03f15d",
      "metadata": {
        "id": "bc03f15d"
      },
      "source": [
        "## 練習問題"
      ]
    },
    {
      "cell_type": "code",
      "execution_count": null,
      "id": "5029c76d",
      "metadata": {
        "tags": [],
        "id": "5029c76d"
      },
      "outputs": [],
      "source": [
        "# This cell tells Jupyter to provide detailed debugging information\n",
        "# when a runtime error occurs. Run it before working on the exercises.\n",
        "\n",
        "%xmode Verbose"
      ]
    },
    {
      "cell_type": "markdown",
      "id": "fe10415e",
      "metadata": {
        "id": "fe10415e"
      },
      "source": [
        "### バーチャルアシスタントに質問する\n",
        "\n",
        "この章のフォーカスエリアに関連するトピックを学びたいかもしれません。\n",
        "\n",
        "* 「Pythonのセットクラスのメソッドとオペレーターは何ですか？」\n",
        "\n",
        "* 「PythonのCounterクラスのメソッドとオペレーターは何ですか？」\n",
        "\n",
        "* 「Pythonのリスト内包表記とジェネレーター式の違いは何ですか？」\n",
        "\n",
        "* 「新しいクラスを定義するのではなく、Pythonの`namedtuple`を使うべき場面はいつですか？」\n",
        "\n",
        "* 「キーワード引数のパッキングとアンパッキングの使用法は何ですか？」\n",
        "\n",
        "* 「`unittest`はどうやってテストの検出を行いますか？」\n",
        "\n",
        "* 「`assertEqual`と並んで、`unittest.TestCase`で最も一般的に使われるメソッドは何ですか？」\n",
        "\n",
        "* 「`doctest`と`unittest`の利点と欠点は何ですか？」\n",
        "\n",
        "以下の演習を考えるとき、バーチャルアシスタントに助けを求めることも良いですが、常に結果をテストすることを忘れないようにしてください。"
      ]
    },
    {
      "cell_type": "markdown",
      "id": "c61ecde2",
      "metadata": {
        "id": "c61ecde2"
      },
      "source": [
        "### 演習\n",
        "\n",
        "Chapter 7の演習の一つには、`uses_none`という関数を作成することが求められています。この関数は、ある単語と禁止されている文字の文字列を引数として取り、単語がその文字を一切使用していない場合に`True`を返すものです。以下にその解決策を示します。"
      ]
    },
    {
      "cell_type": "code",
      "execution_count": null,
      "id": "f75b48e0",
      "metadata": {
        "id": "f75b48e0"
      },
      "outputs": [],
      "source": [
        "def uses_none(word, forbidden):\n",
        "    for letter in word.lower():\n",
        "        if letter in forbidden.lower():\n",
        "            return False\n",
        "    return True"
      ]
    },
    {
      "cell_type": "markdown",
      "id": "b558b8b3",
      "metadata": {
        "id": "b558b8b3"
      },
      "source": [
        "Of course! If you're looking to use set operations in Python instead of a for loop to compute intersections, you can make use of the `intersection()` method or the `&` operator. Here is an example of how you can modify a function to achieve that:\n",
        "\n",
        "### Original Function with `for` Loop:\n",
        "```python\n",
        "def intersection_with_loop(set1, set2):\n",
        "    result = []\n",
        "    for element in set1:\n",
        "        if element in set2:\n",
        "            result.append(element)\n",
        "    return result\n",
        "```\n",
        "\n",
        "### Refactored Function Using `set` Operations:\n",
        "Here is how you can refactor the above function to use set operations:\n",
        "\n",
        "```python\n",
        "def intersection_with_set(set1, set2):\n",
        "    return list(set1.intersection(set2))\n",
        "    # Alternatively, you can use:\n",
        "    # return list(set1 & set2)\n",
        "```\n",
        "\n",
        "This function directly uses the `intersection()` method of Python's set type or the `&` operator to compute the intersection of the two sets, which is typically more efficient and concise than using a loop for this purpose."
      ]
    },
    {
      "cell_type": "markdown",
      "id": "e97dfead",
      "metadata": {
        "tags": [],
        "id": "e97dfead"
      },
      "source": [
        "このアウトラインを使用して始めることができます。"
      ]
    },
    {
      "cell_type": "code",
      "execution_count": null,
      "id": "2024d4c6",
      "metadata": {
        "tags": [],
        "id": "2024d4c6"
      },
      "outputs": [],
      "source": [
        "def uses_none(word, forbidden):\n",
        "    \"\"\"Checks whether a word avoid forbidden letters.\n",
        "\n",
        "    >>> uses_none('banana', 'xyz')\n",
        "    True\n",
        "    >>> uses_none('apple', 'efg')\n",
        "    False\n",
        "    >>> uses_none('', 'abc')\n",
        "    True\n",
        "    \"\"\"\n",
        "    return False"
      ]
    },
    {
      "cell_type": "code",
      "execution_count": null,
      "id": "46a13618",
      "metadata": {
        "id": "46a13618"
      },
      "outputs": [],
      "source": [
        "# Solution goes here"
      ]
    },
    {
      "cell_type": "code",
      "execution_count": null,
      "id": "160a29b3",
      "metadata": {
        "tags": [],
        "id": "160a29b3"
      },
      "outputs": [],
      "source": [
        "from doctest import run_docstring_examples\n",
        "\n",
        "def run_doctests(func):\n",
        "    run_docstring_examples(func, globals(), name=func.__name__)"
      ]
    },
    {
      "cell_type": "code",
      "execution_count": null,
      "id": "8db988e6",
      "metadata": {
        "tags": [],
        "id": "8db988e6"
      },
      "outputs": [],
      "source": [
        "run_doctests(uses_none)"
      ]
    },
    {
      "cell_type": "markdown",
      "id": "d2d670cf",
      "metadata": {
        "id": "d2d670cf"
      },
      "source": [
        "文字タイルを使って単語をスペルできるかどうかを確認する関数を作成する必要があります。以下にそのためのPython関数の例を示します：\n",
        "\n",
        "```python\n",
        "def can_spell(tiles, word):\n",
        "    # 文字のカウントを保持するための辞書を作成します\n",
        "    from collections import Counter\n",
        "    tiles_count = Counter(tiles)\n",
        "    word_count = Counter(word)\n",
        "    \n",
        "    # 各文字がタイルの中に十分な数あるかをチェックします\n",
        "    for letter in word_count:\n",
        "        if word_count[letter] > tiles_count.get(letter, 0):\n",
        "            return False\n",
        "    return True\n",
        "\n",
        "# 例の使用法\n",
        "tiles = \"TABLE\"\n",
        "word = \"BELT\"\n",
        "print(can_spell(tiles, word))  # 出力: True\n",
        "\n",
        "word = \"BEET\"\n",
        "print(can_spell(tiles, word))  # 出力: False\n",
        "```\n",
        "\n",
        "この関数`can_spell`は、与えられた文字列`tiles`で指定された単語`word`が作成可能かどうかを確認します。文字をカウントし、それぞれが充分な数タイルに存在するかどうかを確認します。"
      ]
    },
    {
      "cell_type": "markdown",
      "id": "091919bd",
      "metadata": {
        "tags": [],
        "id": "091919bd"
      },
      "source": [
        "以下のアウトラインを使用して始めることができます。"
      ]
    },
    {
      "cell_type": "code",
      "execution_count": null,
      "id": "b3c2c475",
      "metadata": {
        "tags": [],
        "id": "b3c2c475"
      },
      "outputs": [],
      "source": [
        "def can_spell(letters, word):\n",
        "    \"\"\"Check whether the letters can spell the word.\n",
        "\n",
        "    >>> can_spell('table', 'belt')\n",
        "    True\n",
        "    >>> can_spell('table', 'late')\n",
        "    True\n",
        "    >>> can_spell('table', 'beet')\n",
        "    False\n",
        "    \"\"\"\n",
        "    return False"
      ]
    },
    {
      "cell_type": "code",
      "execution_count": null,
      "id": "a67768c0",
      "metadata": {
        "id": "a67768c0"
      },
      "outputs": [],
      "source": [
        "# Solution goes here"
      ]
    },
    {
      "cell_type": "code",
      "execution_count": null,
      "id": "7900d2ed",
      "metadata": {
        "tags": [],
        "id": "7900d2ed"
      },
      "outputs": [],
      "source": [
        "run_doctests(can_spell)"
      ]
    },
    {
      "cell_type": "markdown",
      "id": "de2dc099",
      "metadata": {
        "id": "de2dc099"
      },
      "source": [
        "### エクササイズ\n",
        "\n",
        "[第17章](chapter_inheritance)のエクササイズの一つで、`has_straightflush`に対する私の解決策は、`PokerHand`を4つのハンドに分ける次のメソッドを使用します。それぞれのハンドは同じスーツのカードを含んでいます。"
      ]
    },
    {
      "cell_type": "code",
      "execution_count": null,
      "id": "661f1635",
      "metadata": {
        "id": "661f1635"
      },
      "outputs": [],
      "source": [
        "    def partition(self):\n",
        "        \"\"\"Make a list of four hands, each containing only one suit.\"\"\"\n",
        "        hands = []\n",
        "        for i in range(4):\n",
        "            hands.append(PokerHand())\n",
        "\n",
        "        for card in self.cards:\n",
        "            hands[card.suit].add_card(card)\n",
        "\n",
        "        return hands"
      ]
    },
    {
      "cell_type": "markdown",
      "id": "cd04a7a3",
      "metadata": {
        "id": "cd04a7a3"
      },
      "source": [
        "Sure! Please provide the function you would like to simplify, and I'll help you translate it to use a `defaultdict`."
      ]
    },
    {
      "cell_type": "markdown",
      "id": "c236c5c7",
      "metadata": {
        "tags": [],
        "id": "c236c5c7"
      },
      "source": [
        "こちらは、`PokerHand`クラスと`partition_suits`関数の概要です。これを利用して始めましょう。"
      ]
    },
    {
      "cell_type": "code",
      "execution_count": null,
      "id": "b9cf2e47",
      "metadata": {
        "tags": [],
        "id": "b9cf2e47"
      },
      "outputs": [],
      "source": [
        "class PokerHand(Hand):\n",
        "\n",
        "    def partition(self):\n",
        "        return {}"
      ]
    },
    {
      "cell_type": "code",
      "execution_count": null,
      "id": "33f15964",
      "metadata": {
        "id": "33f15964"
      },
      "outputs": [],
      "source": [
        "# Solution goes here"
      ]
    },
    {
      "cell_type": "markdown",
      "id": "9b176e67",
      "metadata": {
        "tags": [],
        "id": "9b176e67"
      },
      "source": [
        "コードをテストするために、デッキを作ってシャッフルします。"
      ]
    },
    {
      "cell_type": "code",
      "execution_count": null,
      "id": "339f912a",
      "metadata": {
        "tags": [],
        "id": "339f912a"
      },
      "outputs": [],
      "source": [
        "cards = Deck.make_cards()\n",
        "deck = Deck(cards)\n",
        "deck.shuffle()"
      ]
    },
    {
      "cell_type": "markdown",
      "id": "d253e3ad",
      "metadata": {
        "tags": [],
        "id": "d253e3ad"
      },
      "source": [
        "次に `PokerHand` を作成し、7枚のカードを追加します。"
      ]
    },
    {
      "cell_type": "code",
      "execution_count": null,
      "id": "b4efde58",
      "metadata": {
        "tags": [],
        "id": "b4efde58"
      },
      "outputs": [],
      "source": [
        "random_hand = PokerHand('random')\n",
        "\n",
        "for i in range(7):\n",
        "    card = deck.pop_card()\n",
        "    random_hand.add_card(card)\n",
        "\n",
        "print(random_hand)"
      ]
    },
    {
      "cell_type": "markdown",
      "id": "a714e145",
      "metadata": {
        "tags": [],
        "id": "a714e145"
      },
      "source": [
        "`partition`を呼び出して結果を表示すると、各手札にはそれぞれ1つのスートのカードのみが含まれているはずです。"
      ]
    },
    {
      "cell_type": "code",
      "execution_count": null,
      "id": "bfddf015",
      "metadata": {
        "tags": [],
        "id": "bfddf015"
      },
      "outputs": [],
      "source": [
        "hand_dict = random_hand.partition()\n",
        "\n",
        "for hand in hand_dict.values():\n",
        "    print(hand)\n",
        "    print()"
      ]
    },
    {
      "cell_type": "markdown",
      "id": "218798e3",
      "metadata": {
        "id": "218798e3"
      },
      "source": [
        "章11からのフィボナッチ数を計算する関数は以下の通りです。翻訳が必要な部分や追加の具体的な説明があればお知らせください。\n",
        "\n",
        "```python\n",
        "def fibonacci(n):\n",
        "    if n <= 0:\n",
        "        return 0\n",
        "    elif n == 1:\n",
        "        return 1\n",
        "    else:\n",
        "        return fibonacci(n-1) + fibonacci(n-2)\n",
        "```\n",
        "\n",
        "この関数は再帰を使ってフィボナッチ数列を計算します。`n`が0以下の場合は0を返し、`n`が1の場合は1を返します。その他のケースでは、`n-1`番目と`n-2`番目のフィボナッチ数を再帰的に計算し、その和を返します。"
      ]
    },
    {
      "cell_type": "code",
      "execution_count": null,
      "id": "f854f6d5",
      "metadata": {
        "id": "f854f6d5"
      },
      "outputs": [],
      "source": [
        "def fibonacci(n):\n",
        "    if n == 0:\n",
        "        return 0\n",
        "\n",
        "    if n == 1:\n",
        "        return 1\n",
        "\n",
        "    return fibonacci(n-1) + fibonacci(n-2)"
      ]
    },
    {
      "cell_type": "markdown",
      "id": "6acab624",
      "metadata": {
        "id": "6acab624"
      },
      "source": [
        "Please provide the function code that you would like to modify."
      ]
    },
    {
      "cell_type": "code",
      "execution_count": null,
      "id": "4efa9382",
      "metadata": {
        "id": "4efa9382"
      },
      "outputs": [],
      "source": [
        "# Solution goes here"
      ]
    },
    {
      "cell_type": "code",
      "execution_count": null,
      "id": "6440d14b",
      "metadata": {
        "tags": [],
        "id": "6440d14b"
      },
      "outputs": [],
      "source": [
        "fibonacci(10)    # should be 55"
      ]
    },
    {
      "cell_type": "code",
      "execution_count": null,
      "id": "3b9d5bac",
      "metadata": {
        "tags": [],
        "id": "3b9d5bac"
      },
      "outputs": [],
      "source": [
        "fibonacci(20)    # should be 6765"
      ]
    },
    {
      "cell_type": "markdown",
      "id": "2deb0e1f",
      "metadata": {
        "id": "2deb0e1f"
      },
      "source": [
        "### 演習\n",
        "以下は、二項係数を再帰的に計算する関数です。"
      ]
    },
    {
      "cell_type": "code",
      "execution_count": null,
      "id": "9a9e43fa",
      "metadata": {
        "id": "9a9e43fa"
      },
      "outputs": [],
      "source": [
        "def binomial_coeff(n, k):\n",
        "    \"\"\"Compute the binomial coefficient \"n choose k\".\n",
        "\n",
        "    n: number of trials\n",
        "    k: number of successes\n",
        "\n",
        "    returns: int\n",
        "    \"\"\"\n",
        "    if k == 0:\n",
        "        return 1\n",
        "\n",
        "    if n == 0:\n",
        "        return 0\n",
        "\n",
        "    return binomial_coeff(n-1, k) + binomial_coeff(n-1, k-1)"
      ]
    },
    {
      "cell_type": "markdown",
      "id": "656c61f6",
      "metadata": {
        "id": "656c61f6"
      },
      "source": [
        "申し訳ありませんが、現在の文脈では関数の具体的な中身を提供されていないため、翻訳や修正を行うことができません。関数の内容を具体的に示していただければ、翻訳や助言をいたします。"
      ]
    },
    {
      "cell_type": "code",
      "execution_count": null,
      "id": "07226bce",
      "metadata": {
        "id": "07226bce"
      },
      "outputs": [],
      "source": [
        "# Solution goes here"
      ]
    },
    {
      "cell_type": "code",
      "execution_count": null,
      "id": "1e3b8009",
      "metadata": {
        "id": "1e3b8009"
      },
      "outputs": [],
      "source": [
        "binomial_coeff(10, 4)    # should be 210"
      ]
    },
    {
      "cell_type": "markdown",
      "id": "921719dc",
      "metadata": {
        "id": "921719dc"
      },
      "source": [
        "### 演習\n",
        "\n",
        "以下は [第17章](section_print_deck)で紹介した `Deck` クラスからの `__str__` メソッドです。"
      ]
    },
    {
      "cell_type": "code",
      "execution_count": null,
      "id": "4fd0793d",
      "metadata": {
        "id": "4fd0793d"
      },
      "outputs": [],
      "source": [
        "%%add_method_to Deck\n",
        "\n",
        "    def __str__(self):\n",
        "        res = []\n",
        "        for card in self.cards:\n",
        "            res.append(str(card))\n",
        "        return '\\n'.join(res)"
      ]
    },
    {
      "cell_type": "markdown",
      "id": "27f189cf",
      "metadata": {
        "id": "27f189cf"
      },
      "source": [
        "リスト内包表記またはジェネレータ式でこのメソッドをより簡潔に書き直してください。"
      ]
    },
    {
      "cell_type": "code",
      "execution_count": null,
      "id": "2aa7da71",
      "metadata": {
        "tags": [],
        "id": "2aa7da71"
      },
      "outputs": [],
      "source": [
        "# Solution goes here"
      ]
    },
    {
      "cell_type": "markdown",
      "id": "25525582",
      "metadata": {
        "tags": [],
        "id": "25525582"
      },
      "source": [
        "この例を使って解決策をテストできます。"
      ]
    },
    {
      "cell_type": "code",
      "execution_count": null,
      "id": "cd8bb7d2",
      "metadata": {
        "tags": [],
        "id": "cd8bb7d2"
      },
      "outputs": [],
      "source": [
        "cards = Deck.make_cards()\n",
        "deck = Deck(cards)\n",
        "print(deck)"
      ]
    },
    {
      "cell_type": "code",
      "execution_count": null,
      "id": "16ce7d9f",
      "metadata": {
        "id": "16ce7d9f"
      },
      "outputs": [],
      "source": []
    },
    {
      "cell_type": "markdown",
      "id": "a7f4edf8",
      "metadata": {
        "tags": [],
        "id": "a7f4edf8"
      },
      "source": [
        "[Think Python: 第3版](https://allendowney.github.io/ThinkPython/index.html)\n",
        "\n",
        "著作権 2024 [Allen B. Downey](https://allendowney.com)\n",
        "\n",
        "コードライセンス: [MITライセンス](https://mit-license.org/)\n",
        "\n",
        "テキストライセンス: [クリエイティブ・コモンズ 表示 - 非営利 - 継承 4.0 国際](https://creativecommons.org/licenses/by-nc-sa/4.0/)"
      ]
    }
  ],
  "metadata": {
    "celltoolbar": "Tags",
    "kernelspec": {
      "display_name": "Python 3 (ipykernel)",
      "language": "python",
      "name": "python3"
    },
    "language_info": {
      "codemirror_mode": {
        "name": "ipython",
        "version": 3
      },
      "file_extension": ".py",
      "mimetype": "text/x-python",
      "name": "python",
      "nbconvert_exporter": "python",
      "pygments_lexer": "ipython3",
      "version": "3.10.11"
    },
    "colab": {
      "provenance": [],
      "include_colab_link": true
    }
  },
  "nbformat": 4,
  "nbformat_minor": 5
}