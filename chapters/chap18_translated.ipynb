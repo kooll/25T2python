{
  "cells": [
    {
      "cell_type": "markdown",
      "id": "1331faa1",
      "metadata": {},
      "source": [
        "*Think Python 3e* のプリント版と電子書籍版は、[Bookshop.org](https://bookshop.org/a/98697/9781098155438) と [Amazon](https://www.amazon.com/_/dp/1098155432?smid=ATVPDKIKX0DER&_encoding=UTF8&tag=oreilly20-20&_encoding=UTF8&tag=greenteapre01-20&linkCode=ur2&linkId=e2a529f94920295d27ec8a06e757dc7c&camp=1789&creative=9325) から注文できます。"
      ]
    },
    {
      "cell_type": "code",
      "execution_count": 1,
      "id": "260216be",
      "metadata": {
        "tags": []
      },
      "outputs": [],
      "source": [
        "from os.path import basename, exists\n",
        "\n",
        "def download(url):\n",
        "    filename = basename(url)\n",
        "    if not exists(filename):\n",
        "        from urllib.request import urlretrieve\n",
        "\n",
        "        local, _ = urlretrieve(url, filename)\n",
        "        print(\"Downloaded \" + str(local))\n",
        "    return filename\n",
        "\n",
        "download('https://github.com/AllenDowney/ThinkPython/raw/v3/thinkpython.py');\n",
        "download('https://github.com/AllenDowney/ThinkPython/raw/v3/diagram.py');\n",
        "\n",
        "import thinkpython"
      ]
    },
    {
      "cell_type": "markdown",
      "id": "f5cb253c",
      "metadata": {
        "tags": []
      },
      "source": [
        "こちらは第17章の`Card`、`Deck`、`Hand`クラスのバージョンです。これらは今章のいくつかの例で使用します。"
      ]
    },
    {
      "cell_type": "code",
      "execution_count": 2,
      "id": "ad0da137",
      "metadata": {
        "tags": []
      },
      "outputs": [],
      "source": [
        "class Card:\n",
        "    suit_names = ['Clubs', 'Diamonds', 'Hearts', 'Spades']\n",
        "    rank_names = [None, 'Ace', '2', '3', '4', '5', '6', '7', \n",
        "                  '8', '9', '10', 'Jack', 'Queen', 'King', 'Ace']\n",
        "    \n",
        "    def __init__(self, suit, rank):\n",
        "        self.suit = suit\n",
        "        self.rank = rank\n",
        "\n",
        "    def __str__(self):\n",
        "        rank_name = Card.rank_names[self.rank]\n",
        "        suit_name = Card.suit_names[self.suit]\n",
        "        return f'{rank_name} of {suit_name}' "
      ]
    },
    {
      "cell_type": "code",
      "execution_count": 3,
      "id": "8b00461b",
      "metadata": {
        "tags": []
      },
      "outputs": [],
      "source": [
        "import random\n",
        "\n",
        "class Deck:\n",
        "    def __init__(self, cards):\n",
        "        self.cards = cards\n",
        "        \n",
        "    def __str__(self):\n",
        "        res = []\n",
        "        for card in self.cards:\n",
        "            res.append(str(card))\n",
        "        return '\\n'.join(res)\n",
        "    \n",
        "    def make_cards():\n",
        "        cards = []\n",
        "        for suit in range(4):\n",
        "            for rank in range(2, 15):\n",
        "                card = Card(suit, rank)\n",
        "                cards.append(card)\n",
        "        return cards\n",
        "    \n",
        "    def shuffle(self):\n",
        "        random.shuffle(self.cards)\n",
        "        \n",
        "    def pop_card(self):\n",
        "        return self.cards.pop()\n",
        "    \n",
        "    def add_card(self, card):\n",
        "        self.cards.append(card)"
      ]
    },
    {
      "cell_type": "code",
      "execution_count": 4,
      "id": "737b8979",
      "metadata": {
        "tags": []
      },
      "outputs": [],
      "source": [
        "class Hand(Deck):\n",
        "    def __init__(self, label=''):\n",
        "        self.label = label\n",
        "        self.cards = []"
      ]
    },
    {
      "cell_type": "markdown",
      "id": "27e8d827",
      "metadata": {},
      "source": [
        "# Python エクストラ\n\nこの書籍の目標の一つは、可能な限り少ないPythonの知識を教えることでした。 \nある物事を行う方法が2つあるときには、そのうちの1つを選び、もう片方には触れないようにしてきました。\nあるいは、時にはその2つ目の方法を演習問題に入れることもありました。\n\nさて、ここで取りこぼしていた良い部分に戻りたいと思います。\nPythonは、必ずしも必要ではないが、良いコードを書くのに使える、いくつかの機能を提供しています。これらを使うことで、コードをより簡潔に、読みやすく、効率的に書くことができ、時にはその全てを実現できます。"
      ]
    },
    {
      "cell_type": "markdown",
      "id": "7ddcece8",
      "metadata": {},
      "source": [
        "## 集合\n\nPythonは、ユニークな要素の集まりを表す`set`というクラスを提供しています。\n空の集合を作成するには、クラスオブジェクトを関数のように使用することができます。"
      ]
    },
    {
      "cell_type": "code",
      "execution_count": 5,
      "id": "77f98242",
      "metadata": {},
      "outputs": [],
      "source": [
        "s1 = set()\n",
        "s1"
      ]
    },
    {
      "cell_type": "markdown",
      "id": "904e2071",
      "metadata": {},
      "source": [
        "要素を追加するには、`add` メソッドを使用できます。"
      ]
    },
    {
      "cell_type": "code",
      "execution_count": 6,
      "id": "85157902",
      "metadata": {},
      "outputs": [],
      "source": [
        "s1.add('a')\n",
        "s1.add('b')\n",
        "s1"
      ]
    },
    {
      "cell_type": "markdown",
      "id": "beee02fc",
      "metadata": {},
      "source": [
        "または、どのような種類のシーケンスでも `set` に渡すことができます。"
      ]
    },
    {
      "cell_type": "code",
      "execution_count": 7,
      "id": "b470e34a",
      "metadata": {},
      "outputs": [],
      "source": [
        "s2 = set('acd')\n",
        "s2"
      ]
    },
    {
      "cell_type": "markdown",
      "id": "42f99153",
      "metadata": {},
      "source": [
        "要素は`set`に一度しか現れません。\n既に存在する要素を追加しても効果はありません。"
      ]
    },
    {
      "cell_type": "code",
      "execution_count": 8,
      "id": "e6a2d78b",
      "metadata": {},
      "outputs": [],
      "source": [
        "s1.add('a')\n",
        "s1"
      ]
    },
    {
      "cell_type": "markdown",
      "id": "9b0a82ee",
      "metadata": {},
      "source": [
        "または、重複を含むシーケンスでセットを作成すると、結果には一意の要素のみが含まれます。"
      ]
    },
    {
      "cell_type": "code",
      "execution_count": 9,
      "id": "a4f5ff4f",
      "metadata": {},
      "outputs": [],
      "source": [
        "set('banana')"
      ]
    },
    {
      "cell_type": "markdown",
      "id": "328e2009",
      "metadata": {},
      "source": [
        "この本のいくつかの演習は、セットを使って簡潔かつ効率的に行うことができます。例えば、ここに辞書を使ってシーケンス内に重複する要素があるかどうかを確認する、第11章の演習に対する解答があります。"
      ]
    },
    {
      "cell_type": "code",
      "execution_count": 10,
      "id": "483046f2",
      "metadata": {},
      "outputs": [],
      "source": [
        "def has_duplicates(t):\n",
        "    d = {}\n",
        "    for x in t:\n",
        "        d[x] = True\n",
        "    return len(d) < len(t)"
      ]
    },
    {
      "cell_type": "markdown",
      "id": "0b250e58",
      "metadata": {},
      "source": [
        "このバージョンでは、辞書のキーとして要素`t`を追加し、その後キーの数が要素より少ないかどうかを確認します。\nセットを使用すると、この関数を次のように書くことができます。"
      ]
    },
    {
      "cell_type": "code",
      "execution_count": 11,
      "id": "fe22c739",
      "metadata": {},
      "outputs": [],
      "source": [
        "def has_duplicates(t):\n",
        "    s = set(t)\n",
        "    return len(s) < len(t)"
      ]
    },
    {
      "cell_type": "code",
      "execution_count": 12,
      "id": "3bbd3b72",
      "metadata": {
        "tags": []
      },
      "outputs": [],
      "source": [
        "has_duplicates('abba')"
      ]
    },
    {
      "cell_type": "markdown",
      "id": "30cf3158",
      "metadata": {},
      "source": [
        "ある要素は集合に一度しか現れることができないため、もし `t` に含まれる要素が複数回現れる場合、集合のサイズは `t` よりも小さくなります。重複がない場合、集合のサイズは `t` と同じになります。\n\n`set` オブジェクトは集合演算を行うメソッドを提供しています。例えば、`union` メソッドは二つの集合の和集合を計算し、どちらかの集合に現れるすべての要素を含む新しい集合を作成します。"
      ]
    },
    {
      "cell_type": "code",
      "execution_count": 13,
      "id": "0a8234b1",
      "metadata": {},
      "outputs": [],
      "source": [
        "s1.union(s2)"
      ]
    },
    {
      "cell_type": "markdown",
      "id": "57b1d50c",
      "metadata": {},
      "source": [
        "いくつかの算術演算子は集合でも機能します。たとえば、`-` 演算子は集合の減算を行います。この結果は、新しい集合であり、第1の集合から第2の集合に存在しない要素すべてを含みます。"
      ]
    },
    {
      "cell_type": "code",
      "execution_count": 14,
      "id": "5b81bb56",
      "metadata": {},
      "outputs": [],
      "source": [
        "s1 - s2"
      ]
    },
    {
      "cell_type": "markdown",
      "id": "5099226c",
      "metadata": {},
      "source": [
        "[第12章](section_dictionary_subtraction)では、辞書を使用して文書に現れる単語を単語リストと照合し、リストにない単語を見つける方法を説明しました。次の関数を使用しました。この関数は2つの辞書を受け取り、2番目に現れない最初の辞書のキーのみを含む新しい辞書を返します。"
      ]
    },
    {
      "cell_type": "code",
      "execution_count": 15,
      "id": "06a94266",
      "metadata": {},
      "outputs": [],
      "source": [
        "def subtract(d1, d2):\n",
        "    res = {}\n",
        "    for key in d1:\n",
        "        if key not in d2:\n",
        "            res[key] = d1[key]\n",
        "    return res"
      ]
    },
    {
      "cell_type": "markdown",
      "id": "455c3e34",
      "metadata": {},
      "source": [
        "集合を使えば、この関数を自分で書く必要はありません。  \nもし `word_counter` がドキュメント中のユニークな単語を含む辞書であり、`word_list` が有効な単語のリストである場合、次のように集合の差を計算できます。"
      ]
    },
    {
      "cell_type": "code",
      "execution_count": 16,
      "id": "3f303544",
      "metadata": {
        "tags": []
      },
      "outputs": [],
      "source": [
        "# this cell creates a small example so we can run the following\n",
        "# cell without loading the actual data\n",
        "\n",
        "word_counter = {'word': 1}\n",
        "word_list = ['word']"
      ]
    },
    {
      "cell_type": "code",
      "execution_count": 17,
      "id": "b200cbc2",
      "metadata": {
        "tags": []
      },
      "outputs": [],
      "source": [
        "set(word_counter) - set(word_list)"
      ]
    },
    {
      "cell_type": "markdown",
      "id": "91efe708",
      "metadata": {},
      "source": [
        "結果は、単語リストには含まれない文書内の単語を集めた集合です。\n\n関係演算子は集合に対して動作します。例えば、`<=` はある集合が他の集合の部分集合であるかどうかをチェックします。このとき、両者が等しい場合も含まれます。"
      ]
    },
    {
      "cell_type": "code",
      "execution_count": 18,
      "id": "15919aca",
      "metadata": {},
      "outputs": [],
      "source": [
        "set('ab') <= set('abc')"
      ]
    },
    {
      "cell_type": "markdown",
      "id": "74d4d824",
      "metadata": {},
      "source": [
        "これらの演算子を使用すると、集合を用いて第7章のいくつかの練習問題を行うことができます。たとえば、ループを使用した`uses_only`のバージョンは次のようになります。"
      ]
    },
    {
      "cell_type": "code",
      "execution_count": 19,
      "id": "21940f25",
      "metadata": {},
      "outputs": [],
      "source": [
        "def uses_only(word, available):\n",
        "    for letter in word: \n",
        "        if letter not in available:\n",
        "            return False\n",
        "    return True"
      ]
    },
    {
      "cell_type": "markdown",
      "id": "58c1da26",
      "metadata": {},
      "source": [
        "`uses_only` は、`word` に含まれるすべての文字が `available` にも含まれているかどうかをチェックする関数です。このロジックをセット（集合）を用いて書き直すことができます。\n\n以下がその例です：\n\n```python\ndef uses_only(word, available):\n    return set(word).issubset(set(available))\n```\n\nこのコードでは、`word` に含まれる文字の集合が `available` に含まれる文字の集合のサブセットであるかを確認することで、すべての文字が `available` に含まれているかをチェックします。したがって、`word` のすべての文字が `available` に存在する場合は `True` を返し、そうでない場合は `False` を返します。"
      ]
    },
    {
      "cell_type": "code",
      "execution_count": 20,
      "id": "5769968e",
      "metadata": {},
      "outputs": [],
      "source": [
        "def uses_only(word, available):\n",
        "    return set(word) <= set(available)"
      ]
    },
    {
      "cell_type": "markdown",
      "id": "01ce8cff",
      "metadata": {},
      "source": [
        "「word」の文字が「available」の文字の部分集合である場合、それは「word」が「available」に含まれる文字のみを使っていることを意味します。"
      ]
    },
    {
      "cell_type": "markdown",
      "id": "d7c22ef5",
      "metadata": {},
      "source": [
        "## カウンター\n\n`Counter`は集合に似ていますが、要素が複数回出現する場合、その出現回数を記録します。\n数学的な概念の「マルチセット」に精通しているなら、`Counter`はマルチセットを表現する自然な方法です。\n\n`Counter`クラスは`collections`というモジュールで定義されているので、インポートする必要があります。\nその後、クラスオブジェクトを関数として使用し、文字列、リスト、その他の種類のシーケンスを引数として渡すことができます。"
      ]
    },
    {
      "cell_type": "code",
      "execution_count": 21,
      "id": "1baff39a",
      "metadata": {},
      "outputs": [],
      "source": [
        "from collections import Counter\n",
        "\n",
        "counter = Counter('banana')\n",
        "counter"
      ]
    },
    {
      "cell_type": "code",
      "execution_count": 22,
      "id": "14d5aee5",
      "metadata": {},
      "outputs": [],
      "source": [
        "from collections import Counter\n",
        "\n",
        "t = (1, 1, 1, 2, 2, 3)\n",
        "counter = Counter(t)\n",
        "counter"
      ]
    },
    {
      "cell_type": "markdown",
      "id": "8da28fe5",
      "metadata": {},
      "source": [
        "`Counter` オブジェクトは、各キーからその出現回数へのマッピングを行う辞書のようなものです。辞書と同様に、キーはハッシュ可能である必要があります。\n\n辞書とは異なり、`Counter` オブジェクトは存在しない要素にアクセスしても例外を発生させません。その代わりに、`0` を返します。"
      ]
    },
    {
      "cell_type": "code",
      "execution_count": 23,
      "id": "28eb9235",
      "metadata": {},
      "outputs": [],
      "source": [
        "counter['d']"
      ]
    },
    {
      "cell_type": "markdown",
      "id": "9bb2b650",
      "metadata": {},
      "source": [
        "`Counter`オブジェクトを使って、2つの単語がアナグラムであるかどうかを確認する関数を作成する方法を以下に示します。この方法は、1つの単語の文字を並べ替えて別の単語を作ることが可能かどうかを確認します。\n\n```python\nfrom collections import Counter\n\ndef are_anagrams(word1, word2):\n    return Counter(word1) == Counter(word2)\n\n# 例の使用法\nprint(are_anagrams(\"listen\", \"silent\"))  # Trueが出力されます\nprint(are_anagrams(\"hello\", \"world\"))    # Falseが出力されます\n```\n\nこの関数`are_anagrams`は、Pythonの`collections`モジュールからの`Counter`オブジェクトを使用しており、それぞれの単語の文字カウントを比較します。同じ文字とその出現回数を持つ単語はアナグラムです。"
      ]
    },
    {
      "cell_type": "code",
      "execution_count": 24,
      "id": "67aadb0b",
      "metadata": {},
      "outputs": [],
      "source": [
        "def is_anagram(word1, word2):\n",
        "    return Counter(word1) == Counter(word2)"
      ]
    },
    {
      "cell_type": "markdown",
      "id": "6907f368",
      "metadata": {},
      "source": [
        "もし2つの単語がアナグラムである場合、それらは同じ文字を同じ数だけ含んでいるため、それぞれの`Counter`オブジェクトは等価になります。\n\n`Counter`は`most_common`というメソッドを提供しており、これは値とその出現頻度のペアを、最も一般的なものから最も少ないものの順にソートして返します。"
      ]
    },
    {
      "cell_type": "code",
      "execution_count": 25,
      "id": "0c771fb9",
      "metadata": {},
      "outputs": [],
      "source": [
        "counter.most_common()"
      ]
    },
    {
      "cell_type": "markdown",
      "id": "b02b7dff",
      "metadata": {},
      "source": [
        "また、集合のような操作を行うためのメソッドや演算子も提供しています。これには、加算、減算、和集合、積集合が含まれます。たとえば、`+` 演算子を使うと、2つの `Counter` オブジェクトを組み合わせて、両方のキーとそれぞれのカウントの合計を含む新しい `Counter` を作成します。\n\nこれをテストするには、文字列 `'bans'` から文字を取り出して `Counter` を作成し、それを `'banana'` の文字からなる `Counter` に加算します。"
      ]
    },
    {
      "cell_type": "code",
      "execution_count": 26,
      "id": "38a511cc",
      "metadata": {},
      "outputs": [],
      "source": [
        "counter2 = Counter('bans')\n",
        "counter + counter2"
      ]
    },
    {
      "cell_type": "markdown",
      "id": "5461328e",
      "metadata": {},
      "source": [
        "この章の終わりの演習で、他の`Counter`操作を探求する機会があります。"
      ]
    },
    {
      "cell_type": "markdown",
      "id": "7cf47e67",
      "metadata": {},
      "source": [
        "## defaultdict\n\n`collections`モジュールには`defaultdict`もあり、通常の辞書に似ていますが、存在しないキーにアクセスした場合に、新しい値を自動的に生成します。\n\n`defaultdict`を作成する際には、新しい値を生成するための関数を指定します。\nオブジェクトを作成する関数はしばしば**ファクトリー**と呼ばれます。\nリスト、セット、その他の型を生成する組み込み関数は、ファクトリーとして使用できます。\n\n例えば、必要に応じて新しい`list`を作成する`defaultdict`は次のようになります。"
      ]
    },
    {
      "cell_type": "code",
      "execution_count": 27,
      "id": "5303812d",
      "metadata": {},
      "outputs": [],
      "source": [
        "from collections import defaultdict\n",
        "\n",
        "d = defaultdict(list)\n",
        "d"
      ]
    },
    {
      "cell_type": "markdown",
      "id": "9f43d537",
      "metadata": {},
      "source": [
        "引数は `list` であり、これはクラスオブジェクトであって、`list()` という新しいリストを作成するための関数呼び出しではないことに注意してください。ファクトリー関数は存在しないキーにアクセスした場合にのみ呼び出されます。"
      ]
    },
    {
      "cell_type": "code",
      "execution_count": 28,
      "id": "4955b14f",
      "metadata": {},
      "outputs": [],
      "source": [
        "t = d['new key']\n",
        "t"
      ]
    },
    {
      "cell_type": "markdown",
      "id": "01f87415",
      "metadata": {},
      "source": [
        "新しいリストを `t` と呼んでおり、これも辞書に追加されます。   \nしたがって、`t` を変更すると、その変更は `d` に反映されます。"
      ]
    },
    {
      "cell_type": "code",
      "execution_count": 29,
      "id": "d6a771af",
      "metadata": {},
      "outputs": [],
      "source": [
        "t.append('new value')\n",
        "d['new key']"
      ]
    },
    {
      "cell_type": "markdown",
      "id": "3e5d0151",
      "metadata": {},
      "source": [
        "リストの辞書を作成する場合、`defaultdict`を使用することで、よりシンプルなコードを書くことができることが多いです。\n\n[Chapter 11](chapter_tuples)の演習の1つでは、アルファベットを並び替えた文字列から、そのアルファベットで綴ることができる単語のリストにマップする辞書を作成しました。\n例えば、文字列 `'opst'` はリスト `['opts', 'post', 'pots', 'spot', 'stop', 'tops']` にマップされます。\n以下が元のコードです。"
      ]
    },
    {
      "cell_type": "code",
      "execution_count": 30,
      "id": "9c4166e4",
      "metadata": {},
      "outputs": [],
      "source": [
        "def all_anagrams(filename):\n",
        "    d = {}\n",
        "    for line in open(filename):\n",
        "        word = line.strip().lower()\n",
        "        t = signature(word)\n",
        "        if t not in d:\n",
        "            d[t] = [word]\n",
        "        else:\n",
        "            d[t].append(word)\n",
        "    return d"
      ]
    },
    {
      "cell_type": "markdown",
      "id": "8e9a0a2b",
      "metadata": {},
      "source": [
        "そして、`defaultdict`を使用したよりシンプルなバージョンです。"
      ]
    },
    {
      "cell_type": "code",
      "execution_count": 31,
      "id": "e908188e",
      "metadata": {},
      "outputs": [],
      "source": [
        "def all_anagrams(filename):\n",
        "    d = defaultdict(list)\n",
        "    for line in open(filename):\n",
        "        word = line.strip().lower()\n",
        "        t = signature(word)\n",
        "        d[t].append(word)\n",
        "    return d"
      ]
    },
    {
      "cell_type": "markdown",
      "id": "cccdd46c",
      "metadata": {},
      "source": [
        "章末の演習では、`defaultdict` オブジェクトの使用を練習する機会があります。"
      ]
    },
    {
      "cell_type": "code",
      "execution_count": 32,
      "id": "4e1e35f7",
      "metadata": {},
      "outputs": [],
      "source": [
        "from collections import defaultdict\n",
        "\n",
        "d = defaultdict(list)\n",
        "key = ('into', 'the')\n",
        "d[key].append('woods')\n",
        "d[key]"
      ]
    },
    {
      "cell_type": "markdown",
      "id": "610359c1",
      "metadata": {},
      "source": [
        "## 条件式\n\n条件文は、次のように2つの値から1つを選択するためによく使用されます。"
      ]
    },
    {
      "cell_type": "code",
      "execution_count": 33,
      "id": "25ff32b9",
      "metadata": {
        "tags": []
      },
      "outputs": [],
      "source": [
        "import math\n",
        "x = 5"
      ]
    },
    {
      "cell_type": "code",
      "execution_count": 34,
      "id": "11676b80",
      "metadata": {},
      "outputs": [],
      "source": [
        "if x > 0:\n",
        "    y = math.log(x)\n",
        "else:\n",
        "    y = float('nan')"
      ]
    },
    {
      "cell_type": "code",
      "execution_count": 35,
      "id": "0249c4c8",
      "metadata": {
        "tags": []
      },
      "outputs": [],
      "source": [
        "y"
      ]
    },
    {
      "cell_type": "markdown",
      "id": "2c5fc3dd",
      "metadata": {},
      "source": [
        "この文は、`x` が正であるかどうかをチェックします。もし正であれば、その対数を計算します。\nそうでなければ、`math.log` は ValueError を発生させるでしょう。\nプログラムが停止するのを避けるために、「NaN」を生成します。これは「数ではない」を表す特別な浮動小数点値です。\n\nこの文は、**条件式**を使ってより簡潔に書くことができます。"
      ]
    },
    {
      "cell_type": "code",
      "execution_count": 36,
      "id": "803a39c4",
      "metadata": {},
      "outputs": [],
      "source": [
        "y = math.log(x) if x > 0 else float('nan')"
      ]
    },
    {
      "cell_type": "code",
      "execution_count": 37,
      "id": "03b1afa9",
      "metadata": {
        "tags": []
      },
      "outputs": [],
      "source": [
        "y"
      ]
    },
    {
      "cell_type": "markdown",
      "id": "6a7cf27b",
      "metadata": {},
      "source": [
        "この行はほとんど英語のように読めます：「もし `x` が0より大きければ `y` は log-`x` を取得し、それ以外の場合は `NaN` を取得します」。\n\n再帰関数は、条件式を用いて簡潔に書かれることがあります。例えば、こちらは条件文を使った `factorial` のバージョンです。"
      ]
    },
    {
      "cell_type": "code",
      "execution_count": 38,
      "id": "73d3e7e9",
      "metadata": {},
      "outputs": [],
      "source": [
        "def factorial(n):\n",
        "    if n == 0:\n",
        "        return 1\n",
        "    else:\n",
        "        return n * factorial(n-1)"
      ]
    },
    {
      "cell_type": "markdown",
      "id": "56052b5c",
      "metadata": {},
      "source": [
        "こちらが条件式を使ったバージョンです。"
      ]
    },
    {
      "cell_type": "code",
      "execution_count": 39,
      "id": "d14e82df",
      "metadata": {},
      "outputs": [],
      "source": [
        "def factorial(n):\n",
        "    return 1 if n == 0 else n * factorial(n-1)"
      ]
    },
    {
      "cell_type": "markdown",
      "id": "d53fbc15",
      "metadata": {},
      "source": [
        "条件式のもう一つの用途は、オプションの引数を処理することです。例えば、デフォルト値を持つパラメータを確認するために条件式を使用する`__init__`メソッドを含むクラス定義を以下に示します。"
      ]
    },
    {
      "cell_type": "code",
      "execution_count": 40,
      "id": "aa8fcfe5",
      "metadata": {},
      "outputs": [],
      "source": [
        "class Kangaroo:\n",
        "    def __init__(self, name, contents=None):\n",
        "        self.name = name\n",
        "        if contents is None:\n",
        "            contents = []\n",
        "        self.contents = contents"
      ]
    },
    {
      "cell_type": "markdown",
      "id": "655bfc46",
      "metadata": {},
      "source": [
        "こちらは条件式を使用したバージョンです。"
      ]
    },
    {
      "cell_type": "code",
      "execution_count": 41,
      "id": "fcb67453",
      "metadata": {},
      "outputs": [],
      "source": [
        "def __init__(self, name, contents=None):\n",
        "    self.name = name\n",
        "    self.contents = [] if contents is None else contents "
      ]
    },
    {
      "cell_type": "markdown",
      "id": "fef85229",
      "metadata": {},
      "source": [
        "一般に、両方の分岐が単一の式を含み、ステートメントを含まない場合、条件文を条件式に置き換えることができます。"
      ]
    },
    {
      "cell_type": "markdown",
      "id": "45d3b306",
      "metadata": {},
      "source": [
        "## リスト内包表記\n\n前の章では、空のリストから始めて、`append`メソッドを使って要素を1つずつ追加する例をいくつか見てきました。\n例えば、映画のタイトルが含まれている文字列があり、そのすべての単語を大文字にしたいとしましょう。"
      ]
    },
    {
      "cell_type": "code",
      "execution_count": 42,
      "id": "a1d31625",
      "metadata": {},
      "outputs": [],
      "source": [
        "title = 'monty python and the holy grail'"
      ]
    },
    {
      "cell_type": "markdown",
      "id": "9eeb45a6",
      "metadata": {},
      "source": [
        "それを文字列のリストに分割し、文字列をループ処理して大文字にしてからリストに追加することができます。"
      ]
    },
    {
      "cell_type": "code",
      "execution_count": 43,
      "id": "595cdbc8",
      "metadata": {},
      "outputs": [],
      "source": [
        "t = []\n",
        "for word in title.split():\n",
        "    t.append(word.capitalize())\n",
        "\n",
        "' '.join(t)"
      ]
    },
    {
      "cell_type": "markdown",
      "id": "b96197c2",
      "metadata": {},
      "source": [
        "同じことを**リスト内包表記**を使ってより簡潔に行うことができます。"
      ]
    },
    {
      "cell_type": "code",
      "execution_count": 44,
      "id": "ac327d75",
      "metadata": {},
      "outputs": [],
      "source": [
        "t = [word.capitalize() for word in title.split()]\n",
        "\n",
        "' '.join(t)"
      ]
    },
    {
      "cell_type": "markdown",
      "id": "e5b565ad",
      "metadata": {},
      "source": [
        "括弧演算子は、新しいリストを構築していることを示します。括弧内の式はリストの要素を指定し、`for`節はどのシーケンスを通してループしているかを示します。\n\nリスト内包表記の構文は奇妙に思えるかもしれません。この例ではループ変数である`word`が、定義が出てくる前に式に現れるからです。しかし、慣れてきます。\n\n別の例として、[第9章](section_word_list)でファイルから単語を読み取り、それをリストに追加するためにこのループを使用しました。"
      ]
    },
    {
      "cell_type": "code",
      "execution_count": 45,
      "id": "036ec803",
      "metadata": {
        "tags": []
      },
      "outputs": [],
      "source": [
        "download('https://raw.githubusercontent.com/AllenDowney/ThinkPython2/master/code/words.txt');"
      ]
    },
    {
      "cell_type": "code",
      "execution_count": 46,
      "id": "1437f1f1",
      "metadata": {},
      "outputs": [],
      "source": [
        "word_list = []\n",
        "\n",
        "for line in open('words.txt'):\n",
        "    word = line.strip()\n",
        "    word_list.append(word)"
      ]
    },
    {
      "cell_type": "code",
      "execution_count": 47,
      "id": "c9c2a932",
      "metadata": {
        "tags": []
      },
      "outputs": [],
      "source": [
        "len(word_list)"
      ]
    },
    {
      "cell_type": "markdown",
      "id": "2d1df49b",
      "metadata": {},
      "source": [
        "それをリスト内包表記で書く方法は次のとおりです。"
      ]
    },
    {
      "cell_type": "code",
      "execution_count": 48,
      "id": "d4f854c6",
      "metadata": {},
      "outputs": [],
      "source": [
        "word_list = [line.strip() for line in open('words.txt')]"
      ]
    },
    {
      "cell_type": "code",
      "execution_count": 49,
      "id": "3d797346",
      "metadata": {
        "tags": []
      },
      "outputs": [],
      "source": [
        "len(word_list)"
      ]
    },
    {
      "cell_type": "markdown",
      "id": "92d856ba",
      "metadata": {},
      "source": [
        "リスト内包表記には、リストに含まれる要素を決定するための `if` 節を含めることもできます。 例えば、次のような `for` ループが [第10章](section_palindrome_list) で使用されており、`word_list` 内の回文語のみをリストにするためのものです。"
      ]
    },
    {
      "cell_type": "code",
      "execution_count": 50,
      "id": "d476e43c",
      "metadata": {
        "tags": []
      },
      "outputs": [],
      "source": [
        "def is_palindrome(word):\n",
        "    return list(reversed(word)) == list(word)"
      ]
    },
    {
      "cell_type": "code",
      "execution_count": 51,
      "id": "6b295593",
      "metadata": {},
      "outputs": [],
      "source": [
        "palindromes = []\n",
        "\n",
        "for word in word_list:\n",
        "    if is_palindrome(word):\n",
        "        palindromes.append(word)"
      ]
    },
    {
      "cell_type": "code",
      "execution_count": 52,
      "id": "f7b1cd91",
      "metadata": {
        "tags": []
      },
      "outputs": [],
      "source": [
        "palindromes[:10]"
      ]
    },
    {
      "cell_type": "markdown",
      "id": "151621d8",
      "metadata": {},
      "source": [
        "以下はリスト内包表記を使用して同じことを行う方法です。"
      ]
    },
    {
      "cell_type": "code",
      "execution_count": 53,
      "id": "c356d9fb",
      "metadata": {},
      "outputs": [],
      "source": [
        "palindromes = [word for word in word_list if is_palindrome(word)]"
      ]
    },
    {
      "cell_type": "code",
      "execution_count": 54,
      "id": "52e32b33",
      "metadata": {
        "tags": []
      },
      "outputs": [],
      "source": [
        "palindromes[:10]"
      ]
    },
    {
      "cell_type": "markdown",
      "id": "5fc4eab1",
      "metadata": {},
      "source": [
        "関数の引数としてリスト内包表記を使用する場合、括弧を省略することがよくあります。\n例えば、$1 / 2^n$を$n$が0から9までの値について足し合わせたいとしましょう。\nこの場合、次のようにリスト内包表記を使うことができます。"
      ]
    },
    {
      "cell_type": "code",
      "execution_count": 55,
      "id": "dcf239d7",
      "metadata": {},
      "outputs": [],
      "source": [
        "sum([1/2**n for n in range(10)])"
      ]
    },
    {
      "cell_type": "markdown",
      "id": "2ee312e0",
      "metadata": {},
      "source": [
        "あるいは、このように括弧を省略することもできます。"
      ]
    },
    {
      "cell_type": "code",
      "execution_count": 56,
      "id": "b9bdec8d",
      "metadata": {},
      "outputs": [],
      "source": [
        "sum(1/2**n for n in range(10))"
      ]
    },
    {
      "cell_type": "markdown",
      "id": "3d56d584",
      "metadata": {},
      "source": [
        "この例では、引数は技術的には**ジェネレータ式**であり、リスト内包表記ではなく、実際にはリストを作成しません。それ以外の点では、動作は同じです。\n\nリスト内包表記とジェネレータ式は、簡潔で読みやすいです。少なくとも単純な式の場合はそうです。また、通常は同等のforループよりも高速で、場合によってはかなり高速です。ですから、これに関して早く触れなかったことに怒っているなら、その気持ちは理解します。\n\nしかし、私の弁護として言えば、リスト内包表記はデバッグが難しいです。なぜなら、ループ内にprint文を入れることができないからです。計算が単純で初回で正しく動作する可能性が高い場合にのみ使用することをお勧めします。または、`for`ループを書いてデバッグした後、それをリスト内包表記に変換することも考慮してください。"
      ]
    },
    {
      "cell_type": "markdown",
      "id": "f9fac860",
      "metadata": {},
      "source": [
        "## `any` と `all`\n\nPythonには組み込み関数の `any` があり、これはブール値のシーケンスを受け取り、それらの値のうちのいずれかが `True` の場合に `True` を返します。"
      ]
    },
    {
      "cell_type": "code",
      "execution_count": 57,
      "id": "81a15164",
      "metadata": {},
      "outputs": [],
      "source": [
        "any([False, False, True])"
      ]
    },
    {
      "cell_type": "markdown",
      "id": "43217186",
      "metadata": {},
      "source": [
        "`any` はジェネレータ式と一緒によく使われます。"
      ]
    },
    {
      "cell_type": "code",
      "execution_count": 58,
      "id": "7756c9ea",
      "metadata": {},
      "outputs": [],
      "source": [
        "any(letter == 't' for letter in 'monty')"
      ]
    },
    {
      "cell_type": "markdown",
      "id": "22395487",
      "metadata": {},
      "source": [
        "その例は「in」演算子と同じことをするため、あまり役に立ちません。しかし、「any」を使って[第7章](chapter_search)のいくつかの練習問題に対する簡明な解法を書くことができます。例えば、「uses_none」を以下のように書くことができます。"
      ]
    },
    {
      "cell_type": "code",
      "execution_count": 59,
      "id": "70133073",
      "metadata": {},
      "outputs": [],
      "source": [
        "def uses_none(word, forbidden):\n",
        "    \"\"\"Checks whether a word avoids forbidden letters.\"\"\"\n",
        "    return not any(letter in forbidden for letter in word)"
      ]
    },
    {
      "cell_type": "code",
      "execution_count": 60,
      "id": "aec0523b",
      "metadata": {
        "tags": []
      },
      "outputs": [],
      "source": [
        "uses_none('banana', 'xyz')"
      ]
    },
    {
      "cell_type": "code",
      "execution_count": 61,
      "id": "863252da",
      "metadata": {
        "tags": []
      },
      "outputs": [],
      "source": [
        "uses_none('apple', 'efg')"
      ]
    },
    {
      "cell_type": "markdown",
      "id": "fbefe3c1",
      "metadata": {},
      "source": [
        "この関数は、`word` 内の文字をループして、それらが `forbidden` に含まれているかどうかをチェックします。ジェネレータ式と共に `any` を使うことは効率的で、`True` の値を見つけた時点で即座に処理を停止するため、シーケンス全体をループする必要がありません。\n\nPython には、シーケンスのすべての要素が `True` の場合に `True` を返す組み込み関数 `all` もあります。これを使用して、`uses_all` の簡潔なバージョンを書くことができます。"
      ]
    },
    {
      "cell_type": "code",
      "execution_count": 62,
      "id": "4b4046aa",
      "metadata": {},
      "outputs": [],
      "source": [
        "def uses_all(word, required):\n",
        "    \"\"\"Check whether a word uses all required letters.\"\"\"\n",
        "    return all(letter in word for letter in required)"
      ]
    },
    {
      "cell_type": "code",
      "execution_count": 63,
      "id": "5c6addfb",
      "metadata": {
        "tags": []
      },
      "outputs": [],
      "source": [
        "uses_all('banana', 'ban')"
      ]
    },
    {
      "cell_type": "code",
      "execution_count": 64,
      "id": "54df18a1",
      "metadata": {
        "tags": []
      },
      "outputs": [],
      "source": [
        "uses_all('apple', 'api')"
      ]
    },
    {
      "cell_type": "markdown",
      "id": "8d9f7364",
      "metadata": {},
      "source": [
        "`any` や `all` を使った式は、簡潔で効率的かつ読みやすくなります。"
      ]
    },
    {
      "cell_type": "markdown",
      "id": "911857a3",
      "metadata": {},
      "source": [
        "## 名前付きタプル\n\n`collections`モジュールは、シンプルなクラスを作成するために使用できる`namedtuple`という関数を提供しています。\nたとえば、第16章の`Point`オブジェクトは、`x`と`y`の2つの属性しかありません。\n以下にその定義方法を示します。"
      ]
    },
    {
      "cell_type": "code",
      "execution_count": 65,
      "id": "3550c5a4",
      "metadata": {},
      "outputs": [],
      "source": [
        "class Point:\n",
        "    \"\"\"Represents a point in 2-D space.\"\"\"\n",
        "    \n",
        "    def __init__(self, x, y):\n",
        "        self.x = x\n",
        "        self.y = y\n",
        "        \n",
        "    def __str__(self):\n",
        "        return f'({self.x}, {self.y})'"
      ]
    },
    {
      "cell_type": "markdown",
      "id": "36f08927",
      "metadata": {},
      "source": [
        "少量の情報を伝えるには、それは多くのコードです。`namedtuple`を使用すれば、このようなクラスをより簡潔に定義する方法を提供します。"
      ]
    },
    {
      "cell_type": "code",
      "execution_count": 66,
      "id": "4852da0c",
      "metadata": {},
      "outputs": [],
      "source": [
        "from collections import namedtuple\n",
        "\n",
        "Point = namedtuple('Point', ['x', 'y'])"
      ]
    },
    {
      "cell_type": "markdown",
      "id": "942a0877",
      "metadata": {},
      "source": [
        "最初の引数は作成したいクラスの名前です。二番目の引数は、`Point` オブジェクトが持つべき属性のリストです。結果として得られるのはクラスオブジェクトなので、大文字で始まる変数名に割り当てられます。\n\n`namedtuple` で作成されたクラスは、属性に値を割り当てる `__init__` メソッドと、オブジェクトを読みやすい形で表示する `__str__` を提供します。\nこのようにして `Point` オブジェクトを作成し、表示することができます。"
      ]
    },
    {
      "cell_type": "code",
      "execution_count": 67,
      "id": "8acb172d",
      "metadata": {},
      "outputs": [],
      "source": [
        "p = Point(1, 2)\n",
        "p"
      ]
    },
    {
      "cell_type": "markdown",
      "id": "b42ee9a2",
      "metadata": {},
      "source": [
        "`Point`は、2つの`Point`オブジェクトが同等であるかどうか、つまりその属性が同じであるかどうかを確認する`__eq__`メソッドも提供しています。"
      ]
    },
    {
      "cell_type": "code",
      "execution_count": 68,
      "id": "494b78ac",
      "metadata": {},
      "outputs": [],
      "source": [
        "p == Point(1, 2)"
      ]
    },
    {
      "cell_type": "markdown",
      "id": "9bcf275a",
      "metadata": {},
      "source": [
        "名前付きタプルの要素には、名前またはインデックスでアクセスできます。"
      ]
    },
    {
      "cell_type": "code",
      "execution_count": 69,
      "id": "f59e85f4",
      "metadata": {},
      "outputs": [],
      "source": [
        "p.x, p.y"
      ]
    },
    {
      "cell_type": "code",
      "execution_count": 70,
      "id": "742795a9",
      "metadata": {},
      "outputs": [],
      "source": [
        "p[0], p[1]"
      ]
    },
    {
      "cell_type": "markdown",
      "id": "0768ff41",
      "metadata": {},
      "source": [
        "この代入のように、名前付きタプルをタプルとして扱うこともできます。"
      ]
    },
    {
      "cell_type": "code",
      "execution_count": 71,
      "id": "df42d98a",
      "metadata": {},
      "outputs": [],
      "source": [
        "x, y = p\n",
        "x, y"
      ]
    },
    {
      "cell_type": "markdown",
      "id": "964aa3bd",
      "metadata": {},
      "source": [
        "しかし、`namedtuple` オブジェクトは不変です。属性が初期化された後は、変更することができません。"
      ]
    },
    {
      "cell_type": "code",
      "execution_count": 72,
      "id": "e61693ba",
      "metadata": {
        "tags": []
      },
      "outputs": [],
      "source": [
        "%%expect TypeError\n",
        "\n",
        "p[0] = 3"
      ]
    },
    {
      "cell_type": "code",
      "execution_count": 73,
      "id": "871dafae",
      "metadata": {
        "tags": []
      },
      "outputs": [],
      "source": [
        "%%expect AttributeError\n",
        "\n",
        "p.x = 3"
      ]
    },
    {
      "cell_type": "markdown",
      "id": "f2db7783",
      "metadata": {},
      "source": [
        "`namedtuple`は、シンプルなクラスを定義するための迅速な方法を提供しますが、シンプルなクラスは必ずしもシンプルなままとは限りません。後になって、named tupleにメソッドを追加したいと思うかもしれません。その場合、named tupleを継承する新しいクラスを定義することができます。"
      ]
    },
    {
      "cell_type": "code",
      "execution_count": 74,
      "id": "586d8c51",
      "metadata": {},
      "outputs": [],
      "source": [
        "class Pointier(Point):\n",
        "    \"\"\"This class inherits from Point\"\"\""
      ]
    },
    {
      "cell_type": "markdown",
      "id": "805475ce",
      "metadata": {},
      "source": [
        "または、その時点で従来のクラス定義に切り替えることができます。"
      ]
    },
    {
      "cell_type": "markdown",
      "id": "4f3713a0",
      "metadata": {},
      "source": [
        "引数をタプルにパックする関数については[第11章](section_argument_pack)で説明しました。"
      ]
    },
    {
      "cell_type": "code",
      "execution_count": 75,
      "id": "6de26a32",
      "metadata": {},
      "outputs": [],
      "source": [
        "def mean(*args):\n",
        "    return sum(args) / len(args)"
      ]
    },
    {
      "cell_type": "markdown",
      "id": "71e3b049",
      "metadata": {},
      "source": [
        "この関数は任意の数の引数で呼び出すことができます。"
      ]
    },
    {
      "cell_type": "code",
      "execution_count": 76,
      "id": "ecb6a9fa",
      "metadata": {},
      "outputs": [],
      "source": [
        "mean(1, 2, 3)"
      ]
    },
    {
      "cell_type": "markdown",
      "id": "486a690f",
      "metadata": {},
      "source": [
        "しかし、`*` 演算子はキーワード引数をまとめることはできません。\nそのため、キーワード引数を使用してこの関数を呼び出すとエラーが発生します。"
      ]
    },
    {
      "cell_type": "code",
      "execution_count": 77,
      "id": "5871229d",
      "metadata": {
        "tags": []
      },
      "outputs": [],
      "source": [
        "%%expect TypeError\n",
        "\n",
        "mean(1, 2, start=3)"
      ]
    },
    {
      "cell_type": "markdown",
      "id": "eb7f9281",
      "metadata": {},
      "source": [
        "キーワード引数をパックするには、`**` 演算子を使用できます。"
      ]
    },
    {
      "cell_type": "code",
      "execution_count": 78,
      "id": "b274db6a",
      "metadata": {},
      "outputs": [],
      "source": [
        "def mean(*args, **kwargs):\n",
        "    print(kwargs)\n",
        "    return sum(args) / len(args)"
      ]
    },
    {
      "cell_type": "markdown",
      "id": "067bf7c4",
      "metadata": {},
      "source": [
        "キーワードパッキングパラメータは任意の名前を付けることができますが、`kwargs`が一般的な選択です。 結果はキーワードと値をマッピングする辞書になります。"
      ]
    },
    {
      "cell_type": "code",
      "execution_count": 79,
      "id": "3a1b131c",
      "metadata": {},
      "outputs": [],
      "source": [
        "mean(1, 2, start=3)"
      ]
    },
    {
      "cell_type": "markdown",
      "id": "07be77f3",
      "metadata": {},
      "source": [
        "この例では、`kwargs` の値が出力されますが、それ以外には何の効果もありません。\n\nしかし、`**` 演算子は引数リストで辞書をアンパックするためにも使用できます。例えば、キーワード引数をパックし、それを `sum` 関数にキーワード引数としてアンパックする `mean` のバージョンを以下に示します。"
      ]
    },
    {
      "cell_type": "code",
      "execution_count": 80,
      "id": "a0305500",
      "metadata": {},
      "outputs": [],
      "source": [
        "def mean(*args, **kwargs):\n",
        "    return sum(args, **kwargs) / len(args)"
      ]
    },
    {
      "cell_type": "markdown",
      "id": "ba00858c",
      "metadata": {},
      "source": [
        "`mean` にキーワード引数として `start` を渡すと、それが `sum` に受け渡され、合計の開始点として使用されます。次の例では、`start=3` が合計に `3` を加えてから平均を計算するため、合計は `6` となり、結果は `3` になります。"
      ]
    },
    {
      "cell_type": "code",
      "execution_count": 81,
      "id": "457d5610",
      "metadata": {},
      "outputs": [],
      "source": [
        "mean(1, 2, start=3)"
      ]
    },
    {
      "cell_type": "markdown",
      "id": "949a2ca3",
      "metadata": {},
      "source": [
        "別の例として、`x` と `y` のキーを持つ辞書がある場合、それをアンパック演算子と共に使用して `Point` オブジェクトを作成することができます。"
      ]
    },
    {
      "cell_type": "code",
      "execution_count": 82,
      "id": "020c1243",
      "metadata": {},
      "outputs": [],
      "source": [
        "d = dict(x=1, y=2)\n",
        "Point(**d)"
      ]
    },
    {
      "cell_type": "markdown",
      "id": "8aaf128a",
      "metadata": {},
      "source": [
        "アンパック演算子がないと、`d`は1つの位置引数として扱われるため、`x`に割り当てられ、`y`に割り当てる2番目の引数がないために`TypeError`が発生します。"
      ]
    },
    {
      "cell_type": "code",
      "execution_count": 83,
      "id": "ba91298b",
      "metadata": {
        "tags": []
      },
      "outputs": [],
      "source": [
        "%%expect TypeError\n",
        "\n",
        "d = dict(x=1, y=2)\n",
        "Point(d)"
      ]
    },
    {
      "cell_type": "markdown",
      "id": "e8acb958",
      "metadata": {},
      "source": [
        "キーワード引数が多数ある関数を扱う場合、頻繁に使用するオプションを指定する辞書を作成して活用することがよくあります。"
      ]
    },
    {
      "cell_type": "code",
      "execution_count": 84,
      "id": "1b36b5ed",
      "metadata": {},
      "outputs": [],
      "source": [
        "def pack_and_print(**kwargs):\n",
        "    print(kwargs)\n",
        "    \n",
        "pack_and_print(a=1, b=2)"
      ]
    },
    {
      "cell_type": "markdown",
      "id": "e046e382",
      "metadata": {},
      "source": [
        "## デバッグ\n\n前の章では、関数をテストするために `doctest` を使用しました。\n例えば、ここに `add` という名前の関数があり、2つの数値を受け取り、それらの合計を返します。\nこれは `2 + 2` が `4` であるかどうかを確認する doctest を含んでいます。"
      ]
    },
    {
      "cell_type": "code",
      "execution_count": 85,
      "id": "e1366e43",
      "metadata": {},
      "outputs": [],
      "source": [
        "def add(a, b):\n",
        "    '''Add two numbers.\n",
        "    \n",
        "    >>> add(2, 2)\n",
        "    4\n",
        "    '''\n",
        "    return a + b"
      ]
    },
    {
      "cell_type": "markdown",
      "id": "a5e332d3",
      "metadata": {},
      "source": [
        "この関数は、関数オブジェクトを受け取り、そのドクトストを実行します。"
      ]
    },
    {
      "cell_type": "code",
      "execution_count": 86,
      "id": "13802dc4",
      "metadata": {},
      "outputs": [],
      "source": [
        "from doctest import run_docstring_examples\n",
        "\n",
        "def run_doctests(func):\n",
        "    run_docstring_examples(func, globals(), name=func.__name__)"
      ]
    },
    {
      "cell_type": "markdown",
      "id": "2d752a40",
      "metadata": {},
      "source": [
        "したがって、`add` をこのようにテストできます。"
      ]
    },
    {
      "cell_type": "code",
      "execution_count": 87,
      "id": "2136083a",
      "metadata": {},
      "outputs": [],
      "source": [
        "run_doctests(add)"
      ]
    },
    {
      "cell_type": "markdown",
      "id": "77d36e9b",
      "metadata": {},
      "source": [
        "出力がないということは、すべてのテストが合格したということです。\n\nPythonには、`unittest`という自動テストを実行するための別のツールが用意されています。\nこれは少し複雑ですが、以下に例を示します。"
      ]
    },
    {
      "cell_type": "code",
      "execution_count": 88,
      "id": "d6bc8bae",
      "metadata": {},
      "outputs": [],
      "source": [
        "from unittest import TestCase\n",
        "\n",
        "class TestExample(TestCase):\n",
        "\n",
        "    def test_add(self):\n",
        "        result = add(2, 2)\n",
        "        self.assertEqual(result, 4)"
      ]
    },
    {
      "cell_type": "markdown",
      "id": "59b4212a",
      "metadata": {},
      "source": [
        "まず、`unittest`モジュールのクラスである`TestCase`をインポートします。\nこれを使用するには、`TestCase`を継承し、少なくとも1つのテストメソッドを提供する新しいクラスを定義しなければなりません。\nテストメソッドの名前は`test`で始まり、どの関数をテストするのかを示すべきです。\n\nこの例では、`test_add`が`add`関数をテストしており、関数を呼び出して結果を保存し、`TestCase`から継承した`assertEqual`を呼び出します。\n`assertEqual`は2つの引数を取り、それらが等しいかどうかをチェックします。\n\nこのテストメソッドを実行するには、`unittest`内の`main`という関数をいくつかのキーワード引数と共に実行する必要があります。\n詳細は以下の関数で示されます。興味があれば、バーチャルアシスタントにその仕組みを説明してもらうことができます。"
      ]
    },
    {
      "cell_type": "code",
      "execution_count": 89,
      "id": "96587ab7",
      "metadata": {},
      "outputs": [],
      "source": [
        "import unittest\n",
        "\n",
        "def run_unittest():\n",
        "    unittest.main(argv=[''], verbosity=0, exit=False)"
      ]
    },
    {
      "cell_type": "markdown",
      "id": "5409ea0c",
      "metadata": {},
      "source": [
        "`run_unittest`は`TestExample`を引数として受け取りません。代わりに、`TestCase`を継承するクラスを探します。\n次に、`test`で始まるメソッドを探し、それらを実行します。\nこのプロセスは**テスト探索（test discovery）**と呼ばれます。\n\n`run_unittest`を呼び出すと、以下のようなことが起こります。"
      ]
    },
    {
      "cell_type": "code",
      "execution_count": 90,
      "id": "d3db5642",
      "metadata": {},
      "outputs": [],
      "source": [
        "run_unittest()"
      ]
    },
    {
      "cell_type": "markdown",
      "id": "7775304a",
      "metadata": {},
      "source": [
        "`unittest.main`は実行されたテストの数とその結果を報告します。\nこの場合、`OK`はテストが成功したことを示します。\n\nテストが失敗した場合に何が起こるかを確認するために、`TestExample`に誤ったテストメソッドを追加してみます。"
      ]
    },
    {
      "cell_type": "code",
      "execution_count": 91,
      "id": "e5320931",
      "metadata": {},
      "outputs": [],
      "source": [
        "%%add_method_to TestExample\n",
        "\n",
        "    def test_add_broken(self):\n",
        "        result = add(2, 2)\n",
        "        self.assertEqual(result, 100)"
      ]
    },
    {
      "cell_type": "markdown",
      "id": "96810614",
      "metadata": {},
      "source": [
        "テストを実行するとこうなります。"
      ]
    },
    {
      "cell_type": "code",
      "execution_count": 92,
      "id": "c8d4fa4a",
      "metadata": {},
      "outputs": [],
      "source": [
        "run_unittest()"
      ]
    },
    {
      "cell_type": "markdown",
      "id": "64b743cb",
      "metadata": {},
      "source": [
        "レポートには、失敗したテストメソッドとその位置を示すエラーメッセージが含まれています。サマリーには、2つのテストが実行され、1つが失敗したことが示されています。\n\n以下の演習では、`unittest`についてもっと情報を得るためにバーチャルアシスタントに尋ねることができるいくつかのプロンプトを提案します。"
      ]
    },
    {
      "cell_type": "markdown",
      "id": "7d0fb256",
      "metadata": {},
      "source": [
        "## 用語集\n\n**factory（ファクトリー）:**\nオブジェクトを作成するために使用される関数で、しばしば他の関数への引数として渡されます。\n\n**conditional expression（条件式）:**\n条件を使用して二つの値のいずれかを選択する式。\n\n**list comprehension（リスト内包）:**\nシーケンスをループしてリストを作成するための簡潔な方法。\n\n**generator expression（ジェネレーター式）:**\nリスト内包に似ていますが、リストを作成しません。\n\n**test discovery（テスト発見）:**\nテストを見つけて実行するためのプロセス。"
      ]
    },
    {
      "cell_type": "markdown",
      "id": "bc03f15d",
      "metadata": {},
      "source": [
        "## 練習問題"
      ]
    },
    {
      "cell_type": "code",
      "execution_count": null,
      "id": "5029c76d",
      "metadata": {
        "tags": []
      },
      "outputs": [],
      "source": [
        "# This cell tells Jupyter to provide detailed debugging information\n",
        "# when a runtime error occurs. Run it before working on the exercises.\n",
        "\n",
        "%xmode Verbose"
      ]
    },
    {
      "cell_type": "markdown",
      "id": "fe10415e",
      "metadata": {},
      "source": [
        "### バーチャルアシスタントに質問する\n\nこの章のフォーカスエリアに関連するトピックを学びたいかもしれません。\n\n* 「Pythonのセットクラスのメソッドとオペレーターは何ですか？」\n\n* 「PythonのCounterクラスのメソッドとオペレーターは何ですか？」\n\n* 「Pythonのリスト内包表記とジェネレーター式の違いは何ですか？」\n\n* 「新しいクラスを定義するのではなく、Pythonの`namedtuple`を使うべき場面はいつですか？」\n\n* 「キーワード引数のパッキングとアンパッキングの使用法は何ですか？」\n\n* 「`unittest`はどうやってテストの検出を行いますか？」\n\n* 「`assertEqual`と並んで、`unittest.TestCase`で最も一般的に使われるメソッドは何ですか？」\n\n* 「`doctest`と`unittest`の利点と欠点は何ですか？」\n\n以下の演習を考えるとき、バーチャルアシスタントに助けを求めることも良いですが、常に結果をテストすることを忘れないようにしてください。"
      ]
    },
    {
      "cell_type": "markdown",
      "id": "c61ecde2",
      "metadata": {},
      "source": [
        "### 演習\n\nChapter 7の演習の一つには、`uses_none`という関数を作成することが求められています。この関数は、ある単語と禁止されている文字の文字列を引数として取り、単語がその文字を一切使用していない場合に`True`を返すものです。以下にその解決策を示します。"
      ]
    },
    {
      "cell_type": "code",
      "execution_count": 93,
      "id": "f75b48e0",
      "metadata": {},
      "outputs": [],
      "source": [
        "def uses_none(word, forbidden):\n",
        "    for letter in word.lower():\n",
        "        if letter in forbidden.lower():\n",
        "            return False\n",
        "    return True"
      ]
    },
    {
      "cell_type": "markdown",
      "id": "b558b8b3",
      "metadata": {},
      "source": [
        "Of course! If you're looking to use set operations in Python instead of a for loop to compute intersections, you can make use of the `intersection()` method or the `&` operator. Here is an example of how you can modify a function to achieve that:\n\n### Original Function with `for` Loop:\n```python\ndef intersection_with_loop(set1, set2):\n    result = []\n    for element in set1:\n        if element in set2:\n            result.append(element)\n    return result\n```\n\n### Refactored Function Using `set` Operations:\nHere is how you can refactor the above function to use set operations:\n\n```python\ndef intersection_with_set(set1, set2):\n    return list(set1.intersection(set2))\n    # Alternatively, you can use:\n    # return list(set1 & set2)\n```\n\nThis function directly uses the `intersection()` method of Python's set type or the `&` operator to compute the intersection of the two sets, which is typically more efficient and concise than using a loop for this purpose."
      ]
    },
    {
      "cell_type": "markdown",
      "id": "e97dfead",
      "metadata": {
        "tags": []
      },
      "source": [
        "このアウトラインを使用して始めることができます。"
      ]
    },
    {
      "cell_type": "code",
      "execution_count": 94,
      "id": "2024d4c6",
      "metadata": {
        "tags": []
      },
      "outputs": [],
      "source": [
        "def uses_none(word, forbidden):\n",
        "    \"\"\"Checks whether a word avoid forbidden letters.\n",
        "    \n",
        "    >>> uses_none('banana', 'xyz')\n",
        "    True\n",
        "    >>> uses_none('apple', 'efg')\n",
        "    False\n",
        "    >>> uses_none('', 'abc')\n",
        "    True\n",
        "    \"\"\"\n",
        "    return False"
      ]
    },
    {
      "cell_type": "code",
      "execution_count": 95,
      "id": "46a13618",
      "metadata": {},
      "outputs": [],
      "source": [
        "# Solution goes here"
      ]
    },
    {
      "cell_type": "code",
      "execution_count": 96,
      "id": "160a29b3",
      "metadata": {
        "tags": []
      },
      "outputs": [],
      "source": [
        "from doctest import run_docstring_examples\n",
        "\n",
        "def run_doctests(func):\n",
        "    run_docstring_examples(func, globals(), name=func.__name__)"
      ]
    },
    {
      "cell_type": "code",
      "execution_count": 97,
      "id": "8db988e6",
      "metadata": {
        "tags": []
      },
      "outputs": [],
      "source": [
        "run_doctests(uses_none)"
      ]
    },
    {
      "cell_type": "markdown",
      "id": "d2d670cf",
      "metadata": {},
      "source": [
        "文字タイルを使って単語をスペルできるかどうかを確認する関数を作成する必要があります。以下にそのためのPython関数の例を示します：\n\n```python\ndef can_spell(tiles, word):\n    # 文字のカウントを保持するための辞書を作成します\n    from collections import Counter\n    tiles_count = Counter(tiles)\n    word_count = Counter(word)\n    \n    # 各文字がタイルの中に十分な数あるかをチェックします\n    for letter in word_count:\n        if word_count[letter] > tiles_count.get(letter, 0):\n            return False\n    return True\n\n# 例の使用法\ntiles = \"TABLE\"\nword = \"BELT\"\nprint(can_spell(tiles, word))  # 出力: True\n\nword = \"BEET\"\nprint(can_spell(tiles, word))  # 出力: False\n```\n\nこの関数`can_spell`は、与えられた文字列`tiles`で指定された単語`word`が作成可能かどうかを確認します。文字をカウントし、それぞれが充分な数タイルに存在するかどうかを確認します。"
      ]
    },
    {
      "cell_type": "markdown",
      "id": "091919bd",
      "metadata": {
        "tags": []
      },
      "source": [
        "以下のアウトラインを使用して始めることができます。"
      ]
    },
    {
      "cell_type": "code",
      "execution_count": 98,
      "id": "b3c2c475",
      "metadata": {
        "tags": []
      },
      "outputs": [],
      "source": [
        "def can_spell(letters, word):\n",
        "    \"\"\"Check whether the letters can spell the word.\n",
        "    \n",
        "    >>> can_spell('table', 'belt')\n",
        "    True\n",
        "    >>> can_spell('table', 'late')\n",
        "    True\n",
        "    >>> can_spell('table', 'beet')\n",
        "    False\n",
        "    \"\"\"\n",
        "    return False"
      ]
    },
    {
      "cell_type": "code",
      "execution_count": 99,
      "id": "a67768c0",
      "metadata": {},
      "outputs": [],
      "source": [
        "# Solution goes here"
      ]
    },
    {
      "cell_type": "code",
      "execution_count": 100,
      "id": "7900d2ed",
      "metadata": {
        "tags": []
      },
      "outputs": [],
      "source": [
        "run_doctests(can_spell)"
      ]
    },
    {
      "cell_type": "markdown",
      "id": "de2dc099",
      "metadata": {},
      "source": [
        "### エクササイズ\n\n[第17章](chapter_inheritance)のエクササイズの一つで、`has_straightflush`に対する私の解決策は、`PokerHand`を4つのハンドに分ける次のメソッドを使用します。それぞれのハンドは同じスーツのカードを含んでいます。"
      ]
    },
    {
      "cell_type": "code",
      "execution_count": 101,
      "id": "661f1635",
      "metadata": {},
      "outputs": [],
      "source": [
        "    def partition(self):\n",
        "        \"\"\"Make a list of four hands, each containing only one suit.\"\"\"\n",
        "        hands = []\n",
        "        for i in range(4):\n",
        "            hands.append(PokerHand())\n",
        "            \n",
        "        for card in self.cards:\n",
        "            hands[card.suit].add_card(card)\n",
        "            \n",
        "        return hands"
      ]
    },
    {
      "cell_type": "markdown",
      "id": "cd04a7a3",
      "metadata": {},
      "source": [
        "Sure! Please provide the function you would like to simplify, and I'll help you translate it to use a `defaultdict`."
      ]
    },
    {
      "cell_type": "markdown",
      "id": "c236c5c7",
      "metadata": {
        "tags": []
      },
      "source": [
        "こちらは、`PokerHand`クラスと`partition_suits`関数の概要です。これを利用して始めましょう。"
      ]
    },
    {
      "cell_type": "code",
      "execution_count": 102,
      "id": "b9cf2e47",
      "metadata": {
        "tags": []
      },
      "outputs": [],
      "source": [
        "class PokerHand(Hand):\n",
        "    \n",
        "    def partition(self):\n",
        "        return {}"
      ]
    },
    {
      "cell_type": "code",
      "execution_count": 103,
      "id": "33f15964",
      "metadata": {},
      "outputs": [],
      "source": [
        "# Solution goes here"
      ]
    },
    {
      "cell_type": "markdown",
      "id": "9b176e67",
      "metadata": {
        "tags": []
      },
      "source": [
        "コードをテストするために、デッキを作ってシャッフルします。"
      ]
    },
    {
      "cell_type": "code",
      "execution_count": 104,
      "id": "339f912a",
      "metadata": {
        "tags": []
      },
      "outputs": [],
      "source": [
        "cards = Deck.make_cards()\n",
        "deck = Deck(cards)\n",
        "deck.shuffle()"
      ]
    },
    {
      "cell_type": "markdown",
      "id": "d253e3ad",
      "metadata": {
        "tags": []
      },
      "source": [
        "次に `PokerHand` を作成し、7枚のカードを追加します。"
      ]
    },
    {
      "cell_type": "code",
      "execution_count": 105,
      "id": "b4efde58",
      "metadata": {
        "tags": []
      },
      "outputs": [],
      "source": [
        "random_hand = PokerHand('random')\n",
        "\n",
        "for i in range(7):\n",
        "    card = deck.pop_card()\n",
        "    random_hand.add_card(card)\n",
        "    \n",
        "print(random_hand)"
      ]
    },
    {
      "cell_type": "markdown",
      "id": "a714e145",
      "metadata": {
        "tags": []
      },
      "source": [
        "`partition`を呼び出して結果を表示すると、各手札にはそれぞれ1つのスートのカードのみが含まれているはずです。"
      ]
    },
    {
      "cell_type": "code",
      "execution_count": 106,
      "id": "bfddf015",
      "metadata": {
        "tags": []
      },
      "outputs": [],
      "source": [
        "hand_dict = random_hand.partition()\n",
        "\n",
        "for hand in hand_dict.values():\n",
        "    print(hand)\n",
        "    print()"
      ]
    },
    {
      "cell_type": "markdown",
      "id": "218798e3",
      "metadata": {},
      "source": [
        "章11からのフィボナッチ数を計算する関数は以下の通りです。翻訳が必要な部分や追加の具体的な説明があればお知らせください。\n\n```python\ndef fibonacci(n):\n    if n <= 0:\n        return 0\n    elif n == 1:\n        return 1\n    else:\n        return fibonacci(n-1) + fibonacci(n-2)\n```\n\nこの関数は再帰を使ってフィボナッチ数列を計算します。`n`が0以下の場合は0を返し、`n`が1の場合は1を返します。その他のケースでは、`n-1`番目と`n-2`番目のフィボナッチ数を再帰的に計算し、その和を返します。"
      ]
    },
    {
      "cell_type": "code",
      "execution_count": 107,
      "id": "f854f6d5",
      "metadata": {},
      "outputs": [],
      "source": [
        "def fibonacci(n):\n",
        "    if n == 0:\n",
        "        return 0\n",
        "    \n",
        "    if n == 1:\n",
        "        return 1\n",
        "\n",
        "    return fibonacci(n-1) + fibonacci(n-2)"
      ]
    },
    {
      "cell_type": "markdown",
      "id": "6acab624",
      "metadata": {},
      "source": [
        "Please provide the function code that you would like to modify."
      ]
    },
    {
      "cell_type": "code",
      "execution_count": 108,
      "id": "4efa9382",
      "metadata": {},
      "outputs": [],
      "source": [
        "# Solution goes here"
      ]
    },
    {
      "cell_type": "code",
      "execution_count": 109,
      "id": "6440d14b",
      "metadata": {
        "tags": []
      },
      "outputs": [],
      "source": [
        "fibonacci(10)    # should be 55"
      ]
    },
    {
      "cell_type": "code",
      "execution_count": 110,
      "id": "3b9d5bac",
      "metadata": {
        "tags": []
      },
      "outputs": [],
      "source": [
        "fibonacci(20)    # should be 6765"
      ]
    },
    {
      "cell_type": "markdown",
      "id": "2deb0e1f",
      "metadata": {},
      "source": [
        "### 演習\n以下は、二項係数を再帰的に計算する関数です。"
      ]
    },
    {
      "cell_type": "code",
      "execution_count": 111,
      "id": "9a9e43fa",
      "metadata": {},
      "outputs": [],
      "source": [
        "def binomial_coeff(n, k):\n",
        "    \"\"\"Compute the binomial coefficient \"n choose k\".\n",
        "\n",
        "    n: number of trials\n",
        "    k: number of successes\n",
        "\n",
        "    returns: int\n",
        "    \"\"\"\n",
        "    if k == 0:\n",
        "        return 1\n",
        "    \n",
        "    if n == 0:\n",
        "        return 0\n",
        "\n",
        "    return binomial_coeff(n-1, k) + binomial_coeff(n-1, k-1)"
      ]
    },
    {
      "cell_type": "markdown",
      "id": "656c61f6",
      "metadata": {},
      "source": [
        "申し訳ありませんが、現在の文脈では関数の具体的な中身を提供されていないため、翻訳や修正を行うことができません。関数の内容を具体的に示していただければ、翻訳や助言をいたします。"
      ]
    },
    {
      "cell_type": "code",
      "execution_count": 112,
      "id": "07226bce",
      "metadata": {},
      "outputs": [],
      "source": [
        "# Solution goes here"
      ]
    },
    {
      "cell_type": "code",
      "execution_count": 113,
      "id": "1e3b8009",
      "metadata": {},
      "outputs": [],
      "source": [
        "binomial_coeff(10, 4)    # should be 210"
      ]
    },
    {
      "cell_type": "markdown",
      "id": "921719dc",
      "metadata": {},
      "source": [
        "### 演習\n\n以下は [第17章](section_print_deck)で紹介した `Deck` クラスからの `__str__` メソッドです。"
      ]
    },
    {
      "cell_type": "code",
      "execution_count": 114,
      "id": "4fd0793d",
      "metadata": {},
      "outputs": [],
      "source": [
        "%%add_method_to Deck\n",
        "\n",
        "    def __str__(self):\n",
        "        res = []\n",
        "        for card in self.cards:\n",
        "            res.append(str(card))\n",
        "        return '\\n'.join(res)"
      ]
    },
    {
      "cell_type": "markdown",
      "id": "27f189cf",
      "metadata": {},
      "source": [
        "リスト内包表記またはジェネレータ式でこのメソッドをより簡潔に書き直してください。"
      ]
    },
    {
      "cell_type": "code",
      "execution_count": 115,
      "id": "2aa7da71",
      "metadata": {
        "tags": []
      },
      "outputs": [],
      "source": [
        "# Solution goes here"
      ]
    },
    {
      "cell_type": "markdown",
      "id": "25525582",
      "metadata": {
        "tags": []
      },
      "source": [
        "この例を使って解決策をテストできます。"
      ]
    },
    {
      "cell_type": "code",
      "execution_count": 116,
      "id": "cd8bb7d2",
      "metadata": {
        "tags": []
      },
      "outputs": [],
      "source": [
        "cards = Deck.make_cards()\n",
        "deck = Deck(cards)\n",
        "print(deck)"
      ]
    },
    {
      "cell_type": "code",
      "execution_count": null,
      "id": "16ce7d9f",
      "metadata": {},
      "outputs": [],
      "source": []
    },
    {
      "cell_type": "markdown",
      "id": "a7f4edf8",
      "metadata": {
        "tags": []
      },
      "source": [
        "[Think Python: 第3版](https://allendowney.github.io/ThinkPython/index.html)\n\n著作権 2024 [Allen B. Downey](https://allendowney.com)\n\nコードライセンス: [MITライセンス](https://mit-license.org/)\n\nテキストライセンス: [クリエイティブ・コモンズ 表示 - 非営利 - 継承 4.0 国際](https://creativecommons.org/licenses/by-nc-sa/4.0/)"
      ]
    }
  ],
  "metadata": {
    "celltoolbar": "Tags",
    "kernelspec": {
      "display_name": "Python 3 (ipykernel)",
      "language": "python",
      "name": "python3"
    },
    "language_info": {
      "codemirror_mode": {
        "name": "ipython",
        "version": 3
      },
      "file_extension": ".py",
      "mimetype": "text/x-python",
      "name": "python",
      "nbconvert_exporter": "python",
      "pygments_lexer": "ipython3",
      "version": "3.10.11"
    }
  },
  "nbformat": 4,
  "nbformat_minor": 5
}