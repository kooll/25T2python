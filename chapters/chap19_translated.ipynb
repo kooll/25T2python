{
  "cells": [
    {
      "cell_type": "markdown",
      "id": "1331faa1",
      "metadata": {},
      "source": [
        "*Think Python 3e*の印刷版と電子書籍版は、[Bookshop.org](https://bookshop.org/a/98697/9781098155438)および[Amazon](https://www.amazon.com/_/dp/1098155432?smid=ATVPDKIKX0DER&_encoding=UTF8&tag=oreilly20-20&_encoding=UTF8&tag=greenteapre01-20&linkCode=ur2&linkId=e2a529f94920295d27ec8a06e757dc7c&camp=1789&creative=9325)から注文できます。"
      ]
    },
    {
      "cell_type": "markdown",
      "id": "171aca73",
      "metadata": {},
      "source": [
        "# 最後の考え"
      ]
    },
    {
      "cell_type": "markdown",
      "id": "4d551c99",
      "metadata": {},
      "source": [
        "プログラミングを学ぶことは簡単ではありませんが、ここまでたどり着いたなら、良いスタートを切ったと言えます。いくつかの提案がありますので、それらを参考にして学び続け、学んだことを応用していってください。\n\nこの本はプログラミングの一般的な入門書として書かれているため、特定のアプリケーションに焦点を当てていません。あなたの興味に応じて、新しく身につけたスキルを活かせる分野はいろいろとあります。\n\nもしデータサイエンスに興味があるなら、私の以下の3冊の本がおすすめです：\n\n* 『Think Stats: Exploratory Data Analysis』, オライリー・メディア, 2014年。\n\n* 『Think Bayes: Bayesian Statistics in Python』, オライリー・メディア, 2021年。\n\n* 『Think DSP: Digital Signal Processing in Python』, オライリー・メディア, 2016年。"
      ]
    },
    {
      "cell_type": "markdown",
      "id": "cceabe36",
      "metadata": {},
      "source": [
        "物理モデリングや複雑系に興味があるなら、次の書籍をおすすめします。\n\n* 『Modeling and Simulation in Python: An Introduction for Scientists and Engineers』、No Starch Press、2023年。\n\n* 『Think Complexity: Complexity Science and Computational Modeling』、O'Reilly Media、2018年。\n\nこれらの書籍は、NumPy、SciPy、pandas、その他のデータサイエンスや科学計算のためのPythonライブラリーを使用しています。"
      ]
    },
    {
      "cell_type": "markdown",
      "id": "54a39121",
      "metadata": {},
      "source": [
        "この本は、プログラミングの一般原則とPythonの詳細のバランスを探ろうとしています。その結果、Python言語のすべての機能を含んでいるわけではありません。Pythonについてもっと知りたい方や、効果的な利用方法についての良いアドバイスを求める方には、Luciano Ramalhoによる『Fluent Python: Clear, Concise, and Effective Programming』第2版（O'Reilly Media, 2022年）をお勧めします。\n\nプログラミングの導入に続いて、よくある次のステップはデータ構造とアルゴリズムについて学ぶことです。このトピックに関する私の進行中の作品として、『Data Structures and Information Retrieval in Python』があります。無料の電子版は、Green Tea Press の <https://greenteapress.com> から入手可能です。"
      ]
    },
    {
      "cell_type": "markdown",
      "id": "a1598510",
      "metadata": {},
      "source": [
        "より複雑なプログラムに取り組む際には、新たな課題に直面することがあります。この本のデバッグに関するセクションを見直すことが役立つかもしれません。特に、第12章のデバッグの六つのR（リーディング、ランニング、ルミネイティング、ラバー・ダッキング、リトリーティング、レストリング）を覚えておいてください。\n\nこの本ではデバッグを助けるためのツールも提案しています。その中には、`print`や`repr`関数、第11章の`structshape`関数、そして第14章の組み込み関数`isinstance`、`hasattr`、`vars`などがあります。"
      ]
    },
    {
      "cell_type": "markdown",
      "id": "fb4dd345",
      "metadata": {},
      "source": [
        "また、プログラムをテストするためのツールとして、`assert`ステートメント、`doctest`モジュール、`unittest`モジュールを提案しています。プログラムにテストを含めることは、エラーを防ぎ、検出し、デバッグの時間を節約するための最良の方法の1つです。\n\nしかし、最も良いデバッグとは、する必要のないデバッグです。[第6章](section_incremental)で説明されているようなインクリメンタルな開発プロセスを使用し、進行中にテストを行うことで、エラーを少なくし、発生したエラーも迅速に見つけることができます。また、[第4章](section_encapsulation)のカプセル化と一般化を忘れないでください。これは特にJupyterノートブックでコードを開発する際に役立ちます。"
      ]
    },
    {
      "cell_type": "markdown",
      "id": "0d29933e",
      "metadata": {},
      "source": [
        "この本を通して、バーチャルアシスタントを利用して学習、プログラミング、およびデバッグを支援する方法を提案してきました。これらのツールが役に立っていることを願っています。\n\nChatGPTのようなバーチャルアシスタントに加えて、入力中にコードを自動補完するCopilotのようなツールを使うことも検討してみるとよいでしょう。最初はこれらのツールを推薦しなかったのは、初心者にとって圧倒される可能性があるからです。しかし、今ではそれらを探求してみる価値があるかもしれません。\n\nAIツールを効果的に使用するには、試行錯誤と反省を通じて、自分に合ったフローを見つける必要があります。ChatGPTからJupyterにコードをコピーするのが面倒だと感じるなら、Copilotのようなものを好むかもしれません。しかし、プロンプトを作成し、レスポンスを解釈するという認知的作業は、ツールが生成するコードと同様に価値がある場合があります。これはラバーダックデバッグと同じようなものです。"
      ]
    },
    {
      "cell_type": "markdown",
      "id": "c28d6815",
      "metadata": {},
      "source": [
        "プログラミング経験を積むにつれて、他の開発環境を探索したくなるかもしれません。Jupyter Notebookは始めるのに良い選択だと思いますが、比較的新しいため、従来の統合開発環境（IDE）ほど広く使用されていません。Python用の最も人気のあるIDEには、PyCharmやSpyderがあります。そして、初心者にしばしば推奨されるThonnyもあります。他のIDEとしては、Visual Studio CodeやEclipseもあり、これらは他のプログラミング言語でも使えます。また、よりシンプルな代替策としてお好きなテキストエディタを使ってPythonプログラムを書くこともできます。\n\nプログラミングの旅を続ける中で、一人で進む必要はありません！もし都市に住んでいるかその近くに住んでいるなら、参加できるPythonユーザーグループがある可能性が高いです。これらのグループは通常、初心者に優しいので恐れないでください。近くにグループがない場合でも、リモートでイベントに参加できるかもしれません。また、地域のPythonカンファレンスにも注目してください。"
      ]
    },
    {
      "cell_type": "markdown",
      "id": "28cb22bf",
      "metadata": {},
      "source": [
        "プログラミングスキルを向上させる最良の方法の一つは、別の言語を学ぶことです。統計やデータサイエンスに興味があるなら、Rを学ぶことをお勧めします。しかし、特にRacketやElixirのような関数型言語を学ぶことをお勧めします。関数型プログラミングは異なる考え方を必要とし、それがプログラムについての考え方を変えることになります。\n\n頑張ってください！"
      ]
    },
    {
      "cell_type": "code",
      "execution_count": null,
      "id": "e2783577",
      "metadata": {},
      "outputs": [],
      "source": []
    },
    {
      "cell_type": "markdown",
      "id": "a7f4edf8",
      "metadata": {
        "tags": []
      },
      "source": [
        "[Think Python: 第3版](https://allendowney.github.io/ThinkPython/index.html)\n\n著作権 2024 [Allen B. Downey](https://allendowney.com)\n\nコードライセンス: [MITライセンス](https://mit-license.org/)\n\nテキストライセンス: [クリエイティブ・コモンズ 表示-非営利-継承 4.0 国際](https://creativecommons.org/licenses/by-nc-sa/4.0/)"
      ]
    }
  ],
  "metadata": {
    "kernelspec": {
      "display_name": "Python 3 (ipykernel)",
      "language": "python",
      "name": "python3"
    },
    "language_info": {
      "codemirror_mode": {
        "name": "ipython",
        "version": 3
      },
      "file_extension": ".py",
      "mimetype": "text/x-python",
      "name": "python",
      "nbconvert_exporter": "python",
      "pygments_lexer": "ipython3",
      "version": "3.10.14"
    }
  },
  "nbformat": 4,
  "nbformat_minor": 5
}